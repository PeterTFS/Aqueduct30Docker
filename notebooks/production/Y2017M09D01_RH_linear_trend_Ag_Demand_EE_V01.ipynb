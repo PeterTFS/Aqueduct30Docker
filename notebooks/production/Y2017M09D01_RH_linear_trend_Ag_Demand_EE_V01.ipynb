{
 "cells": [
  {
   "cell_type": "markdown",
   "metadata": {},
   "source": [
    "# Calculate linear trend for Agricultural Demand\n",
    "\n",
    "* Purpose of script: Calculate linear trend for Agricultural Demand for 2004 - 2014 due to the high sensitivity of the model to ag demand. \n",
    "* Author: Rutger Hofste\n",
    "* Kernel used: python27\n",
    "* Date created: 20170901"
   ]
  },
  {
   "cell_type": "code",
   "execution_count": 1,
   "metadata": {
    "collapsed": true
   },
   "outputs": [],
   "source": [
    "import os\n",
    "import ee\n",
    "import folium\n",
    "from folium_gee import *\n",
    "import subprocess"
   ]
  },
  {
   "cell_type": "markdown",
   "metadata": {},
   "source": [
    "Settings:"
   ]
  },
  {
   "cell_type": "code",
   "execution_count": 48,
   "metadata": {
    "collapsed": true
   },
   "outputs": [],
   "source": [
    "EE_INPUT_PATH = \"projects/WRI-Aquaduct/PCRGlobWB20V07/\"\n",
    "INPUT_FILE_NAME_WW_ANNUAL = \"global_historical_PIrrWW_year_millionm3_5min_1960_2014\"\n",
    "INPUT_FILE_NAME_WN_ANNUAL = \"global_historical_PIrrWN_year_millionm3_5min_1960_2014\"\n",
    "INPUT_FILE_NAME_WW_MONTH = \"global_historical_PIrrWW_month_millionm3_5min_1960_2014\"\n",
    "INPUT_FILE_NAME_WN_MONTH = \"global_historical_PIrrWN_month_millionm3_5min_1960_2014\"\n",
    "YEAR_MIN = 2004\n",
    "YEAR_MAX = 2014\n",
    "\n",
    "FILE_NAME_MONTH_WW = \"global_historical_PIrrWWlinear_month_millionm3_5min_2004_2014\"\n",
    "FILE_NAME_MONTH_WN = \"global_historical_PIrrWNlinear_month_millionm3_5min_2004_2014\"\n",
    "\n"
   ]
  },
  {
   "cell_type": "code",
   "execution_count": 3,
   "metadata": {
    "collapsed": true
   },
   "outputs": [],
   "source": [
    "ee.Initialize()"
   ]
  },
  {
   "cell_type": "code",
   "execution_count": 4,
   "metadata": {
    "collapsed": true
   },
   "outputs": [],
   "source": [
    "propertiesWWannua = {\"units\":\"millionm3\",\"parameter\":\"IrrWWlinear_year\",\"year\":2014,\"month\":12,\"exportdescription\":\"IrrWWLinear_annuaY2014M12\"}\n",
    "propertiesWNannua = {\"units\":\"millionm3\",\"parameter\":\"IrrWNlinear_year\",\"year\":2014,\"month\":12,\"exportdescription\":\"IrrWNLinear_annuaY2014M12\"}"
   ]
  },
  {
   "cell_type": "code",
   "execution_count": 5,
   "metadata": {
    "collapsed": true
   },
   "outputs": [],
   "source": [
    "geometry = ee.Geometry.Polygon(coords=[[-180.0, -90.0], [180,  -90.0], [180, 89], [180,90]], proj= ee.Projection('EPSG:4326'),geodesic=False )"
   ]
  },
  {
   "cell_type": "code",
   "execution_count": 6,
   "metadata": {},
   "outputs": [
    {
     "name": "stdout",
     "output_type": "stream",
     "text": [
      "projects/WRI-Aquaduct/PCRGlobWB20V07/global_historical_PIrrWW_year_millionm3_5min_1960_2014\n"
     ]
    }
   ],
   "source": [
    "print(os.path.join(EE_INPUT_PATH,INPUT_FILE_NAME_WW_ANNUAL))"
   ]
  },
  {
   "cell_type": "code",
   "execution_count": 7,
   "metadata": {
    "collapsed": true
   },
   "outputs": [],
   "source": [
    "icWWannua = ee.ImageCollection(os.path.join(EE_INPUT_PATH,INPUT_FILE_NAME_WW_ANNUAL));\n",
    "icWNannua = ee.ImageCollection(os.path.join(EE_INPUT_PATH,INPUT_FILE_NAME_WN_ANNUAL));"
   ]
  },
  {
   "cell_type": "code",
   "execution_count": 8,
   "metadata": {
    "collapsed": true
   },
   "outputs": [],
   "source": [
    "irrWW2014 = ee.Image(icWWannua.filter(ee.Filter.calendarRange(YEAR_MIN,YEAR_MAX,\"year\")).first())\n",
    "irrWN2014 = ee.Image(icWNannua.filter(ee.Filter.calendarRange(YEAR_MIN,YEAR_MAX,\"year\")).first())"
   ]
  },
  {
   "cell_type": "code",
   "execution_count": 37,
   "metadata": {
    "collapsed": true
   },
   "outputs": [],
   "source": [
    "def createTimeBand(image):\n",
    "    # Adds a timeband to the single band image. band is \"b1\" \n",
    "    year = ee.Number(ee.Image(image).get(\"year\"))\n",
    "    newImage = ee.Image.constant(year).toDouble().select([\"constant\"],[\"independent\"])\n",
    "    image = image.toDouble().select([\"b1\"],[\"dependent\"])\n",
    "    return image.addBands(newImage)   \n",
    "    \n",
    "    \n",
    "def linearTrendAnnual(ic,yearmin,yearmax,outputFileName,units,exportdescription):\n",
    "    nominalScale = ee.Image(ic.first()).projection().nominalScale().getInfo()\n",
    "    icFiltered = ic.filter(ee.Filter.calendarRange(YEAR_MIN,YEAR_MAX,\"year\"))\n",
    "    icFilteredTimeband = icFiltered.map(createTimeBand)\n",
    "    imageFinalYear = ee.Image(ic.filter(ee.Filter.calendarRange(YEAR_MIN,YEAR_MAX,\"year\")).first())\n",
    "    fit = icFilteredTimeband.select([\"independent\",\"dependent\"]).reduce(ee.Reducer.linearFit())\n",
    "    offset = fit.select([\"offset\"])\n",
    "    scale = fit.select([\"scale\"]) #Note that this definition of scale is a as in ax+b\n",
    "    newImageYearMax = scale.multiply(YEAR_MAX).add(offset).select([\"scale\"],[\"newValue\"])\n",
    "    spatialScale = imageFinalYear.projection().nominalScale()\n",
    "    exportImageToAsset(newImageYearMax,outputFileName,units,exportdescription,nominalScale)\n",
    "    return newImageYearMax\n",
    "\n",
    "\n",
    "def exportImageToAsset(image,outputFileName,units,exportdescription,scale):\n",
    "    image = image.set(\"rangeMin\",ee.Number(YEAR_MIN)).set(\"rangeMax\",ee.Number(YEAR_MAX)).set(\"units\",units).set(\"exportdescription\",exportdescription).set(\"creation\",\"RutgerHofste_20170901_Python27\")\n",
    "    task = ee.batch.Export.image.toAsset(\n",
    "        image =  ee.Image(image),\n",
    "        description = outputFileName,\n",
    "        assetId = EE_INPUT_PATH + outputFileName,\n",
    "        scale = scale,\n",
    "        region = geometry.bounds().getInfo()['coordinates'][0],\n",
    "        maxPixels = 1e10\n",
    "    )\n",
    "    task.start()\n",
    "    \n",
    "def iterateMonths(month):\n",
    "    # parameters defined prior to running function!\n",
    "    linearTrendMonth(ic,yearmin,yearmax,outputFileName,units,exportdescription,month)\n",
    "    \n",
    "    \n",
    "    \n",
    "def linearTrendMonth(ic,yearmin,yearmax,outputFileName,units,exportdescription,month):\n",
    "    nominalScale = ee.Image(ic.first()).projection().nominalScale().getInfo()\n",
    "    icFiltered = ic.filter(ee.Filter.calendarRange(YEAR_MIN,YEAR_MAX,\"year\"))\n",
    "    icFiltered = icFiltered.filter(ee.Filter.eq(\"month\",ee.Number(month)))\n",
    "    icFilteredTimeband = icFiltered.map(createTimeBand)\n",
    "    imageFinalYear = ee.Image(ic.filter(ee.Filter.calendarRange(YEAR_MIN,YEAR_MAX,\"year\")).first())\n",
    "    fit = icFilteredTimeband.select([\"independent\",\"dependent\"]).reduce(ee.Reducer.linearFit())\n",
    "    offset = fit.select([\"offset\"])\n",
    "    scale = fit.select([\"scale\"]) #Note that this definition of scale is a as in ax+b\n",
    "    newImageYearMax = scale.multiply(YEAR_MAX).add(offset).select([\"scale\"],[\"newValue\"])\n",
    "    spatialScale = imageFinalYear.projection().nominalScale()\n",
    "    exportImageToAsset(newImageYearMax,outputFileName,units,exportdescription,nominalScale)\n",
    "    return newImageYearMax"
   ]
  },
  {
   "cell_type": "markdown",
   "metadata": {},
   "source": [
    "Usage: (ic,yearmin,yearmax,outputFileName,units,exportdescription)"
   ]
  },
  {
   "cell_type": "code",
   "execution_count": 39,
   "metadata": {},
   "outputs": [],
   "source": [
    "newImage2014WW = linearTrendAnnual(icWWannua,YEAR_MIN,YEAR_MAX,\"global_historical_PIrrWWlinear_year_millionm3_5min_2004_2014\",\"millionm3\",\"IrrWWLinear_yearY2014M12\")"
   ]
  },
  {
   "cell_type": "code",
   "execution_count": 40,
   "metadata": {
    "collapsed": true
   },
   "outputs": [],
   "source": [
    "newImage2014WN = linearTrendAnnual(icWNannua,YEAR_MIN,YEAR_MAX,\"global_historical_PIrrWNlinear_year_millionm3_5min_2004_2014\",\"millionm3\",\"IrrWNLinear_yearY2014M12\")"
   ]
  },
  {
   "cell_type": "markdown",
   "metadata": {},
   "source": [
    "The monthly results should be stored in imageCollections instead of single images. Creating them first"
   ]
  },
  {
   "cell_type": "code",
   "execution_count": 43,
   "metadata": {},
   "outputs": [
    {
     "name": "stdout",
     "output_type": "stream",
     "text": [
      "earthengine create collection projects/WRI-Aquaduct/PCRGlobWB20V07/global_historical_PIrrWWlinear_month_millionm3_5min_2004_2014\n"
     ]
    }
   ],
   "source": [
    "icMonthPathWW = os.path.join(EE_INPUT_PATH,FILE_NAME_MONTH_WW)\n",
    "command = (\"earthengine create collection %s\") %icMonthPathWW\n",
    "print(command)"
   ]
  },
  {
   "cell_type": "code",
   "execution_count": 44,
   "metadata": {},
   "outputs": [
    {
     "data": {
      "text/plain": [
       "''"
      ]
     },
     "execution_count": 44,
     "metadata": {},
     "output_type": "execute_result"
    }
   ],
   "source": [
    "subprocess.check_output(command,shell=True)"
   ]
  },
  {
   "cell_type": "code",
   "execution_count": 45,
   "metadata": {},
   "outputs": [
    {
     "name": "stdout",
     "output_type": "stream",
     "text": [
      "earthengine create collection projects/WRI-Aquaduct/PCRGlobWB20V07/global_historical_PIrrWNlinear_month_millionm3_5min_2004_2014\n"
     ]
    }
   ],
   "source": [
    "icMonthPathWN = os.path.join(EE_INPUT_PATH,FILE_NAME_MONTH_WN)\n",
    "command = (\"earthengine create collection %s\") %icMonthPathWN\n",
    "print(command)"
   ]
  },
  {
   "cell_type": "code",
   "execution_count": 46,
   "metadata": {},
   "outputs": [
    {
     "data": {
      "text/plain": [
       "''"
      ]
     },
     "execution_count": 46,
     "metadata": {},
     "output_type": "execute_result"
    }
   ],
   "source": [
    "subprocess.check_output(command,shell=True)"
   ]
  },
  {
   "cell_type": "code",
   "execution_count": 47,
   "metadata": {
    "collapsed": true
   },
   "outputs": [],
   "source": [
    "months = list(range(1,13))"
   ]
  },
  {
   "cell_type": "code",
   "execution_count": 49,
   "metadata": {
    "collapsed": true
   },
   "outputs": [],
   "source": [
    "icWWmonth = ee.ImageCollection(os.path.join(EE_INPUT_PATH,INPUT_FILE_NAME_WW_MONTH));\n",
    "icWNmonth = ee.ImageCollection(os.path.join(EE_INPUT_PATH,INPUT_FILE_NAME_WN_MONTH));"
   ]
  },
  {
   "cell_type": "markdown",
   "metadata": {},
   "source": [
    "## Define all parameters prior to running the mapping function"
   ]
  },
  {
   "cell_type": "code",
   "execution_count": 52,
   "metadata": {
    "collapsed": true
   },
   "outputs": [],
   "source": [
    "ic = icWWmonth\n",
    "yearmin = YEAR_MIN\n",
    "yearmax = YEAR_MAX\n",
    "outputFileName = \"global_historical_PIrrWWlinear_month_millionm3_5min_2004_2014\"\n",
    "units = \"millionm3\"\n",
    "exportdescription = \"IrrWWLinear_monthY2014\""
   ]
  },
  {
   "cell_type": "code",
   "execution_count": null,
   "metadata": {
    "collapsed": true
   },
   "outputs": [],
   "source": [
    "map()"
   ]
  }
 ],
 "metadata": {
  "kernelspec": {
   "display_name": "Python 27",
   "language": "python",
   "name": "python27"
  },
  "language_info": {
   "codemirror_mode": {
    "name": "ipython",
    "version": 2
   },
   "file_extension": ".py",
   "mimetype": "text/x-python",
   "name": "python",
   "nbconvert_exporter": "python",
   "pygments_lexer": "ipython2",
   "version": "2.7.13"
  }
 },
 "nbformat": 4,
 "nbformat_minor": 2
}
