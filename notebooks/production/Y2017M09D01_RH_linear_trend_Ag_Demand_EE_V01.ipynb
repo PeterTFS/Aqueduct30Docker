{
 "cells": [
  {
   "cell_type": "markdown",
   "metadata": {},
   "source": [
    "# Calculate linear trend for Agricultural Demand\n",
    "\n",
    "* Purpose of script: Calculate linear trend for Agricultural Demand for 2004 - 2014 due to the high sensitivity of the model to ag demand. \n",
    "* Author: Rutger Hofste\n",
    "* Kernel used: python27\n",
    "* Date created: 20170901"
   ]
  },
  {
   "cell_type": "code",
   "execution_count": 1,
   "metadata": {
    "collapsed": true
   },
   "outputs": [],
   "source": [
    "import os\n",
    "import ee\n",
    "import folium\n",
    "from folium_gee import *\n",
    "import subprocess"
   ]
  },
  {
   "cell_type": "markdown",
   "metadata": {},
   "source": [
    "Settings:"
   ]
  },
  {
   "cell_type": "markdown",
   "metadata": {},
   "source": [
    "The Standardized format to store assets on Earth Engine is EE_INPUT_PATH / EE_IC_NAME / EE_I_NAME and every image should have the property expertdescription that would allow to export the data to a table header. "
   ]
  },
  {
   "cell_type": "code",
   "execution_count": 2,
   "metadata": {
    "collapsed": true
   },
   "outputs": [],
   "source": [
    "EE_INPUT_PATH = \"projects/WRI-Aquaduct/PCRGlobWB20V07/\"\n",
    "\n",
    "YEAR_MIN = 2004\n",
    "YEAR_MAX = 2014\n",
    "\n",
    "DIMENSION5MIN = \"4320x2160\"\n",
    "\n",
    "VERSION = 17\n",
    "\n",
    "INPUT_FILE_NAME_WW_ANNUAL = \"global_historical_PIrrWW_year_millionm3_5min_1960_2014\"\n",
    "INPUT_FILE_NAME_WN_ANNUAL = \"global_historical_PIrrWN_year_millionm3_5min_1960_2014\"\n",
    "\n",
    "INPUT_FILE_NAME_WW_MONTH = \"global_historical_PIrrWW_month_millionm3_5min_1960_2014\"\n",
    "INPUT_FILE_NAME_WN_MONTH = \"global_historical_PIrrWN_month_millionm3_5min_1960_2014\"\n",
    "\n",
    "EE_IC_NAME_ANNUAL_WW = \"global_historical_PIrrWWlinear_year_millionm3_5min_%0.4d_%0.4dV%0.2d\" %(YEAR_MIN,YEAR_MAX,VERSION)\n",
    "EE_IC_NAME_ANNUAL_WN = \"global_historical_PIrrWNlinear_year_millionm3_5min_%0.4d_%0.4dV%0.2d\" %(YEAR_MIN,YEAR_MAX,VERSION)\n",
    "\n",
    "EE_IC_NAME_MONTH_WW = \"global_historical_PIrrWWlinear_month_millionm3_5min_%0.4d_%0.4dV%0.2d\" %(YEAR_MIN,YEAR_MAX,VERSION)\n",
    "EE_IC_NAME_MONTH_WN = \"global_historical_PIrrWNlinear_month_millionm3_5min_%0.4d_%0.4dV%0.2d\" %(YEAR_MIN,YEAR_MAX,VERSION)\n",
    "\n",
    "EE_I_NAME_ANNUAL_WW = \"global_historical_PIrrWWlinear_year_millionm3_5min_%0.4d_%0.4dY%0.4d\" %(YEAR_MIN,YEAR_MAX,YEAR_MAX) #add Vxx (e.g. Y2014V10) in the script\n",
    "EE_I_NAME_ANNUAL_WN = \"global_historical_PIrrWNlinear_year_millionm3_5min_%0.4d_%0.4dY%0.4d\" %(YEAR_MIN,YEAR_MAX,YEAR_MAX) #add Vxx (e.g. Y2014V10) in the script\n",
    "\n",
    "EE_I_NAME_MONTH_WW = \"global_historical_PIrrWWlinear_month_millionm3_5min_%0.4d_%0.4dY%0.4d\" %(YEAR_MIN,YEAR_MAX,YEAR_MAX) #add MxxVxx (e.g. M01V10) in the script\n",
    "EE_I_NAME_MONTH_WN = \"global_historical_PIrrWNlinear_month_millionm3_5min_%0.4d_%0.4dY%0.4d\" %(YEAR_MIN,YEAR_MAX,YEAR_MAX) #add MxxVxx (e.g. M01V10) in the script\n",
    "\n",
    "ANNUAL_EXPORTDESCRIPTION_WW = \"IrrWWLinear_yearY%0.4d\" %(YEAR_MAX)  # add Yxxxx e.g. Y2014 \n",
    "ANNUAL_EXPORTDESCRIPTION_WN = \"IrrWNLinear_yearY%0.4d\" %(YEAR_MAX)  # add Yxxxx e.g. Y2014 \n",
    "MONTHLY_EXPORTDESCRIPTION_WW = \"IrrWWLinear_monthY%0.4d\" %(YEAR_MAX)#add YxxxxMxx e.g. Y2014M01\n",
    "MONTHLY_EXPORTDESCRIPTION_WN = \"IrrWNLinear_monthY%0.4d\" %(YEAR_MAX)#add YxxxxMxx e.g. Y2014M01\n",
    "\n",
    "UNITS = \"millionm3\""
   ]
  },
  {
   "cell_type": "code",
   "execution_count": 3,
   "metadata": {
    "collapsed": true
   },
   "outputs": [],
   "source": [
    "ee.Initialize()"
   ]
  },
  {
   "cell_type": "code",
   "execution_count": 4,
   "metadata": {
    "collapsed": true
   },
   "outputs": [],
   "source": [
    "propertiesWWannua = {\"units\":\"millionm3\",\"parameter\":\"IrrWWlinear_year\",\"year\":2014,\"month\":12,\"exportdescription\":\"IrrWWLinear_yearY2014M12\"}\n",
    "propertiesWNannua = {\"units\":\"millionm3\",\"parameter\":\"IrrWNlinear_year\",\"year\":2014,\"month\":12,\"exportdescription\":\"IrrWNLinear_yearY2014M12\"}"
   ]
  },
  {
   "cell_type": "code",
   "execution_count": 5,
   "metadata": {
    "collapsed": true
   },
   "outputs": [],
   "source": [
    "geometry = ee.Geometry.Polygon(coords=[[-180.0, -90.0], [180,  -90.0], [180, 89], [-180,90]], proj= ee.Projection('EPSG:4326'),geodesic=False )"
   ]
  },
  {
   "cell_type": "code",
   "execution_count": 6,
   "metadata": {
    "collapsed": true
   },
   "outputs": [],
   "source": [
    "icWWannua = ee.ImageCollection(os.path.join(EE_INPUT_PATH,INPUT_FILE_NAME_WW_ANNUAL));\n",
    "icWNannua = ee.ImageCollection(os.path.join(EE_INPUT_PATH,INPUT_FILE_NAME_WN_ANNUAL));"
   ]
  },
  {
   "cell_type": "code",
   "execution_count": 7,
   "metadata": {
    "collapsed": true
   },
   "outputs": [],
   "source": [
    "irrWW2014 = ee.Image(icWWannua.filter(ee.Filter.calendarRange(YEAR_MIN,YEAR_MAX,\"year\")).first())\n",
    "irrWN2014 = ee.Image(icWNannua.filter(ee.Filter.calendarRange(YEAR_MIN,YEAR_MAX,\"year\")).first())"
   ]
  },
  {
   "cell_type": "markdown",
   "metadata": {},
   "source": [
    "Create imageCollections (4)"
   ]
  },
  {
   "cell_type": "code",
   "execution_count": 8,
   "metadata": {},
   "outputs": [
    {
     "name": "stdout",
     "output_type": "stream",
     "text": [
      "earthengine create collection projects/WRI-Aquaduct/PCRGlobWB20V07/global_historical_PIrrWWlinear_year_millionm3_5min_2004_2014V17\n"
     ]
    },
    {
     "data": {
      "text/plain": [
       "''"
      ]
     },
     "execution_count": 8,
     "metadata": {},
     "output_type": "execute_result"
    }
   ],
   "source": [
    "path = os.path.join(EE_INPUT_PATH,EE_IC_NAME_ANNUAL_WW)\n",
    "command = (\"earthengine create collection %s\") %path\n",
    "print(command)\n",
    "subprocess.check_output(command,shell=True)"
   ]
  },
  {
   "cell_type": "code",
   "execution_count": 9,
   "metadata": {},
   "outputs": [
    {
     "name": "stdout",
     "output_type": "stream",
     "text": [
      "earthengine create collection projects/WRI-Aquaduct/PCRGlobWB20V07/global_historical_PIrrWNlinear_year_millionm3_5min_2004_2014V17\n"
     ]
    },
    {
     "data": {
      "text/plain": [
       "''"
      ]
     },
     "execution_count": 9,
     "metadata": {},
     "output_type": "execute_result"
    }
   ],
   "source": [
    "path = os.path.join(EE_INPUT_PATH,EE_IC_NAME_ANNUAL_WN)\n",
    "command = (\"earthengine create collection %s\") %path\n",
    "print(command)\n",
    "subprocess.check_output(command,shell=True)"
   ]
  },
  {
   "cell_type": "code",
   "execution_count": 10,
   "metadata": {},
   "outputs": [
    {
     "name": "stdout",
     "output_type": "stream",
     "text": [
      "earthengine create collection projects/WRI-Aquaduct/PCRGlobWB20V07/global_historical_PIrrWWlinear_month_millionm3_5min_2004_2014V17\n"
     ]
    },
    {
     "data": {
      "text/plain": [
       "''"
      ]
     },
     "execution_count": 10,
     "metadata": {},
     "output_type": "execute_result"
    }
   ],
   "source": [
    "path = os.path.join(EE_INPUT_PATH,EE_IC_NAME_MONTH_WW)\n",
    "command = (\"earthengine create collection %s\") %path\n",
    "print(command)\n",
    "subprocess.check_output(command,shell=True)"
   ]
  },
  {
   "cell_type": "code",
   "execution_count": 11,
   "metadata": {},
   "outputs": [
    {
     "name": "stdout",
     "output_type": "stream",
     "text": [
      "earthengine create collection projects/WRI-Aquaduct/PCRGlobWB20V07/global_historical_PIrrWNlinear_month_millionm3_5min_2004_2014V17\n"
     ]
    },
    {
     "data": {
      "text/plain": [
       "''"
      ]
     },
     "execution_count": 11,
     "metadata": {},
     "output_type": "execute_result"
    }
   ],
   "source": [
    "path = os.path.join(EE_INPUT_PATH,EE_IC_NAME_MONTH_WN)\n",
    "command = (\"earthengine create collection %s\") %path\n",
    "print(command)\n",
    "subprocess.check_output(command,shell=True)"
   ]
  },
  {
   "cell_type": "code",
   "execution_count": 12,
   "metadata": {
    "collapsed": true
   },
   "outputs": [],
   "source": [
    "def createTimeBand(image):\n",
    "    # Adds a timeband to the single band image. band is \"b1\" \n",
    "    year = ee.Number(ee.Image(image).get(\"year\"))\n",
    "    newImage = ee.Image.constant(year).toDouble().select([\"constant\"],[\"independent\"])\n",
    "    image = image.toDouble().select([\"b1\"],[\"dependent\"])\n",
    "    return image.addBands(newImage)   \n",
    "   \n",
    "def linearTrendAnnual(ic,yearmin,yearmax,eeIcNameAnnual,eeIName,units,exportdescription,parameter,version):\n",
    "    nominalScale = ee.Image(ic.first()).projection().nominalScale().getInfo()\n",
    "    icFiltered = ic.filter(ee.Filter.calendarRange(yearmin,yearmax,\"year\"))\n",
    "    icFilteredTimeband = icFiltered.map(createTimeBand)\n",
    "    imageFinalYear = ee.Image(ic.filter(ee.Filter.calendarRange(yearmin,yearmax,\"year\")).first())\n",
    "    fit = icFilteredTimeband.select([\"independent\",\"dependent\"]).reduce(ee.Reducer.linearFit())\n",
    "    offset = fit.select([\"offset\"])\n",
    "    scale = fit.select([\"scale\"]) #Note that this definition of scale is a as in y = ax+b\n",
    "    newImageYearMax = scale.multiply(yearmax).add(offset).select([\"scale\"],[\"newValue\"])\n",
    "    newImageYearMax = newImageYearMax.set(\"time_start\", \"%04d-%0.2d-%0.2d\" %(YEAR_MAX,12,1) )\n",
    "    exportImageToAsset(newImageYearMax,eeIcNameAnnual,eeIName,units,exportdescription,nominalScale,parameter,version)\n",
    "    return newImageYearMax\n",
    "\n",
    "\n",
    "def exportImageToAsset(image,eeIcName,eeIName,units,exportdescription,scale,parameter,version):\n",
    "    properties = {\"rangeMin\":YEAR_MIN,\n",
    "                  \"rangeMax\":YEAR_MAX,\n",
    "                  \"units\":units,\n",
    "                  \"exportdescription\":exportdescription,\n",
    "                  \"creation\":\"RutgerHofste_20170902_Python27\",\n",
    "                  \"parameter\":parameter,\n",
    "                  \"nodata_value\":-9999,\n",
    "                  \"method\":\"lineartrend\"\n",
    "                 }\n",
    "    image = image.set(properties)    \n",
    "    \n",
    "    eeIName = eeIName + \"V%0.2d\" %(version)  \n",
    "    assetId = EE_INPUT_PATH + eeIcName +\"/\" + eeIName\n",
    "    task = ee.batch.Export.image.toAsset(\n",
    "        image =  ee.Image(image),\n",
    "        description = eeIName ,\n",
    "        assetId = assetId,\n",
    "        dimensions = DIMENSION5MIN ,\n",
    "        region = geometry.bounds().getInfo()['coordinates'][0],\n",
    "        maxPixels = 1e10\n",
    "    )\n",
    "    print(\"exportdescription: \", exportdescription)\n",
    "    task.start()\n",
    "    return 1\n",
    "    \n",
    "def iterateMonths(month):\n",
    "    # parameters defined prior to running function!\n",
    "    newImageYearMax = linearTrendMonth(ic,yearmin,yearmax,eeIcName,eeIName,units,exportdescription,month,parameter,version)\n",
    "    return newImageYearMax\n",
    "    \n",
    "    \n",
    "def linearTrendMonth(ic,yearmin,yearmax,eeIcName,eeIName,units,exportdescription,month,parameter,version):\n",
    "    eeIName = eeIName + \"M%0.2d\" %(month)\n",
    "    exportdescription = exportdescription + \"M%0.2d\" %(month)\n",
    "    nominalScale = ee.Image(ic.first()).projection().nominalScale().getInfo()\n",
    "    icFiltered = ic.filter(ee.Filter.calendarRange(YEAR_MIN,YEAR_MAX,\"year\"))\n",
    "    icFiltered = icFiltered.filter(ee.Filter.eq(\"month\",ee.Number(month)))\n",
    "    icFilteredTimeband = icFiltered.map(createTimeBand)\n",
    "    imageFinalYear = ee.Image(ic.filter(ee.Filter.calendarRange(YEAR_MIN,YEAR_MAX,\"year\")).first())\n",
    "    fit = icFilteredTimeband.select([\"independent\",\"dependent\"]).reduce(ee.Reducer.linearFit())\n",
    "    offset = fit.select([\"offset\"])\n",
    "    scale = fit.select([\"scale\"]) #Note that this definition of scale is a as in ax+b\n",
    "    newImageYearMax = scale.multiply(YEAR_MAX).add(offset).select([\"scale\"],[\"newValue\"])\n",
    "    newImageYearMax = newImageYearMax.set(\"month\",month)\n",
    "    newImageYearMax = newImageYearMax.set(\"time_start\", \"%04d-%0.2d-%0.2d\" %(YEAR_MAX,month,1) )\n",
    "    exportImageToAsset(newImageYearMax,eeIcName,eeIName,units,exportdescription,nominalScale,parameter,version)\n",
    "    return newImageYearMax"
   ]
  },
  {
   "cell_type": "code",
   "execution_count": 13,
   "metadata": {},
   "outputs": [
    {
     "name": "stdout",
     "output_type": "stream",
     "text": [
      "('exportdescription: ', 'IrrWWLinear_yearY2014')\n"
     ]
    }
   ],
   "source": [
    "parameter = \"IrrWWlinear_year\"\n",
    "image = linearTrendAnnual(icWWannua,YEAR_MIN,YEAR_MAX,EE_IC_NAME_ANNUAL_WW,EE_I_NAME_ANNUAL_WW,UNITS,ANNUAL_EXPORTDESCRIPTION_WW,parameter,VERSION)"
   ]
  },
  {
   "cell_type": "code",
   "execution_count": 14,
   "metadata": {},
   "outputs": [
    {
     "name": "stdout",
     "output_type": "stream",
     "text": [
      "('exportdescription: ', 'IrrWNLinear_yearY2014')\n"
     ]
    }
   ],
   "source": [
    "parameter = \"IrrWNlinear_year\"\n",
    "image = linearTrendAnnual(icWNannua,YEAR_MIN,YEAR_MAX,EE_IC_NAME_ANNUAL_WN,EE_I_NAME_ANNUAL_WN,UNITS,ANNUAL_EXPORTDESCRIPTION_WN,parameter,VERSION)"
   ]
  },
  {
   "cell_type": "code",
   "execution_count": 15,
   "metadata": {
    "collapsed": true
   },
   "outputs": [],
   "source": [
    "months = list(range(1,13))"
   ]
  },
  {
   "cell_type": "code",
   "execution_count": 16,
   "metadata": {
    "collapsed": true
   },
   "outputs": [],
   "source": [
    "icWWmonth = ee.ImageCollection(os.path.join(EE_INPUT_PATH,INPUT_FILE_NAME_WW_MONTH));\n",
    "icWNmonth = ee.ImageCollection(os.path.join(EE_INPUT_PATH,INPUT_FILE_NAME_WN_MONTH));"
   ]
  },
  {
   "cell_type": "markdown",
   "metadata": {},
   "source": [
    "## Define all parameters prior to running the mapping function"
   ]
  },
  {
   "cell_type": "code",
   "execution_count": 17,
   "metadata": {
    "collapsed": true
   },
   "outputs": [],
   "source": [
    "ic = icWWmonth\n",
    "yearmin = YEAR_MIN\n",
    "yearmax = YEAR_MAX\n",
    "eeIcName = EE_IC_NAME_MONTH_WW\n",
    "eeIName = EE_I_NAME_MONTH_WW\n",
    "units = \"millionm3\"\n",
    "exportdescription = MONTHLY_EXPORTDESCRIPTION_WW \n",
    "parameter = \"IrrWWlinear_month\"\n",
    "version = VERSION"
   ]
  },
  {
   "cell_type": "code",
   "execution_count": 18,
   "metadata": {},
   "outputs": [
    {
     "name": "stdout",
     "output_type": "stream",
     "text": [
      "('exportdescription: ', 'IrrWWLinear_monthY2014M01')\n",
      "('exportdescription: ', 'IrrWWLinear_monthY2014M02')\n",
      "('exportdescription: ', 'IrrWWLinear_monthY2014M03')\n",
      "('exportdescription: ', 'IrrWWLinear_monthY2014M04')\n",
      "('exportdescription: ', 'IrrWWLinear_monthY2014M05')\n",
      "('exportdescription: ', 'IrrWWLinear_monthY2014M06')\n",
      "('exportdescription: ', 'IrrWWLinear_monthY2014M07')\n",
      "('exportdescription: ', 'IrrWWLinear_monthY2014M08')\n",
      "('exportdescription: ', 'IrrWWLinear_monthY2014M09')\n",
      "('exportdescription: ', 'IrrWWLinear_monthY2014M10')\n",
      "('exportdescription: ', 'IrrWWLinear_monthY2014M11')\n",
      "('exportdescription: ', 'IrrWWLinear_monthY2014M12')\n"
     ]
    },
    {
     "data": {
      "text/plain": [
       "[<ee.image.Image at 0x7f4569080d50>,\n",
       " <ee.image.Image at 0x7f4568c38850>,\n",
       " <ee.image.Image at 0x7f4569080890>,\n",
       " <ee.image.Image at 0x7f4568c26cd0>,\n",
       " <ee.image.Image at 0x7f4568c35f90>,\n",
       " <ee.image.Image at 0x7f4568c82c10>,\n",
       " <ee.image.Image at 0x7f4568c417d0>,\n",
       " <ee.image.Image at 0x7f4568c54bd0>,\n",
       " <ee.image.Image at 0x7f4568c35590>,\n",
       " <ee.image.Image at 0x7f4568c5ce50>,\n",
       " <ee.image.Image at 0x7f4568c5c390>,\n",
       " <ee.image.Image at 0x7f4568c4cd10>]"
      ]
     },
     "execution_count": 18,
     "metadata": {},
     "output_type": "execute_result"
    }
   ],
   "source": [
    "map(iterateMonths,months)"
   ]
  },
  {
   "cell_type": "code",
   "execution_count": 19,
   "metadata": {
    "collapsed": true
   },
   "outputs": [],
   "source": [
    "ic = icWNmonth\n",
    "yearmin = YEAR_MIN\n",
    "yearmax = YEAR_MAX\n",
    "eeIcName = EE_IC_NAME_MONTH_WN\n",
    "eeIName = EE_I_NAME_MONTH_WN\n",
    "units = \"millionm3\"\n",
    "exportdescription = MONTHLY_EXPORTDESCRIPTION_WN\n",
    "parameter = \"IrrWNlinear_month\"\n",
    "version = VERSION"
   ]
  },
  {
   "cell_type": "code",
   "execution_count": 20,
   "metadata": {},
   "outputs": [
    {
     "name": "stdout",
     "output_type": "stream",
     "text": [
      "('exportdescription: ', 'IrrWNLinear_monthY2014M01')\n",
      "('exportdescription: ', 'IrrWNLinear_monthY2014M02')\n",
      "('exportdescription: ', 'IrrWNLinear_monthY2014M03')\n",
      "('exportdescription: ', 'IrrWNLinear_monthY2014M04')\n",
      "('exportdescription: ', 'IrrWNLinear_monthY2014M05')\n",
      "('exportdescription: ', 'IrrWNLinear_monthY2014M06')\n",
      "('exportdescription: ', 'IrrWNLinear_monthY2014M07')\n",
      "('exportdescription: ', 'IrrWNLinear_monthY2014M08')\n",
      "('exportdescription: ', 'IrrWNLinear_monthY2014M09')\n",
      "('exportdescription: ', 'IrrWNLinear_monthY2014M10')\n",
      "('exportdescription: ', 'IrrWNLinear_monthY2014M11')\n",
      "('exportdescription: ', 'IrrWNLinear_monthY2014M12')\n"
     ]
    },
    {
     "data": {
      "text/plain": [
       "[<ee.image.Image at 0x7f4568beafd0>,\n",
       " <ee.image.Image at 0x7f4568c4c050>,\n",
       " <ee.image.Image at 0x7f4568c00bd0>,\n",
       " <ee.image.Image at 0x7f4568bfafd0>,\n",
       " <ee.image.Image at 0x7f4568f69cd0>,\n",
       " <ee.image.Image at 0x7f4568c09cd0>,\n",
       " <ee.image.Image at 0x7f4568c092d0>,\n",
       " <ee.image.Image at 0x7f4568c2de90>,\n",
       " <ee.image.Image at 0x7f4568c1c590>,\n",
       " <ee.image.Image at 0x7f4568c1ba50>,\n",
       " <ee.image.Image at 0x7f4568badd10>,\n",
       " <ee.image.Image at 0x7f4568baad50>]"
      ]
     },
     "execution_count": 20,
     "metadata": {},
     "output_type": "execute_result"
    }
   ],
   "source": [
    "map(iterateMonths,months)"
   ]
  }
 ],
 "metadata": {
  "kernelspec": {
   "display_name": "Python 27",
   "language": "python",
   "name": "python27"
  },
  "language_info": {
   "codemirror_mode": {
    "name": "ipython",
    "version": 2
   },
   "file_extension": ".py",
   "mimetype": "text/x-python",
   "name": "python",
   "nbconvert_exporter": "python",
   "pygments_lexer": "ipython2",
   "version": "2.7.13"
  }
 },
 "nbformat": 4,
 "nbformat_minor": 2
}
