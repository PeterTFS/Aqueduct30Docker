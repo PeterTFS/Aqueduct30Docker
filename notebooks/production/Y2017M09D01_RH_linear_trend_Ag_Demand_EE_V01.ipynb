{
 "cells": [
  {
   "cell_type": "markdown",
   "metadata": {},
   "source": [
    "# Calculate linear trend for Agricultural Demand\n",
    "\n",
    "* Purpose of script: Calculate linear trend for Agricultural Demand for 2004 - 2014 due to the high sensitivity of the model to ag demand. \n",
    "* Author: Rutger Hofste\n",
    "* Kernel used: python27\n",
    "* Date created: 20170901"
   ]
  },
  {
   "cell_type": "code",
   "execution_count": 9,
   "metadata": {
    "collapsed": true
   },
   "outputs": [],
   "source": [
    "import os\n",
    "import ee\n",
    "import folium\n",
    "from folium_gee import *\n",
    "import subprocess"
   ]
  },
  {
   "cell_type": "markdown",
   "metadata": {},
   "source": [
    "Settings:"
   ]
  },
  {
   "cell_type": "code",
   "execution_count": 25,
   "metadata": {
    "collapsed": true
   },
   "outputs": [],
   "source": [
    "EE_INPUT_PATH = \"projects/WRI-Aquaduct/PCRGlobWB20V07/\"\n",
    "INPUT_FILE_NAME_WW_ANNUAL = \"global_historical_PIrrWW_year_millionm3_5min_1960_2014\"\n",
    "INPUT_FILE_NAME_WN_ANNUAL = \"global_historical_PIrrWN_year_millionm3_5min_1960_2014\"\n",
    "INPUT_FILE_NAME_WW_MONTHLY = \"global_historical_PIrrWW_month_millionm3_5min_1960_2014\"\n",
    "INPUT_FILE_NAME_WN_MONTHLY = \"global_historical_PIrrWN_month_millionm3_5min_1960_2014\"\n",
    "YEAR_MIN = 2004\n",
    "YEAR_MAX = 2014"
   ]
  },
  {
   "cell_type": "code",
   "execution_count": 26,
   "metadata": {
    "collapsed": true
   },
   "outputs": [],
   "source": [
    "ee.Initialize()"
   ]
  },
  {
   "cell_type": "code",
   "execution_count": 27,
   "metadata": {
    "collapsed": true
   },
   "outputs": [],
   "source": [
    "propertiesWWannua = {\"units\":\"millionm3\",\"parameter\":\"IrrWWlinear_year\",\"year\":2014,\"month\":12,\"exportdescription\":\"IrrWWLinear_annuaY2014M12\"}\n",
    "propertiesWNannua = {\"units\":\"millionm3\",\"parameter\":\"IrrWNlinear_year\",\"year\":2014,\"month\":12,\"exportdescription\":\"IrrWNLinear_annuaY2014M12\"}"
   ]
  },
  {
   "cell_type": "code",
   "execution_count": 28,
   "metadata": {
    "collapsed": true
   },
   "outputs": [],
   "source": [
    "geometry = ee.Geometry.Polygon(coords=[[-180.0, -90.0], [180,  -90.0], [180, 89], [180,90]], proj= ee.Projection('EPSG:4326'),geodesic=False )"
   ]
  },
  {
   "cell_type": "code",
   "execution_count": 29,
   "metadata": {},
   "outputs": [
    {
     "name": "stdout",
     "output_type": "stream",
     "text": [
      "projects/WRI-Aquaduct/PCRGlobWB20V07/global_historical_PIrrWW_year_millionm3_5min_1960_2014\n"
     ]
    }
   ],
   "source": [
    "print(os.path.join(EE_INPUT_PATH,INPUT_FILE_NAME_WW_ANNUAL))"
   ]
  },
  {
   "cell_type": "code",
   "execution_count": 30,
   "metadata": {},
   "outputs": [],
   "source": [
    "icWWannua = ee.ImageCollection(os.path.join(EE_INPUT_PATH,INPUT_FILE_NAME_WW_ANNUAL));\n",
    "icWNannua = ee.ImageCollection(os.path.join(EE_INPUT_PATH,INPUT_FILE_NAME_WN_ANNUAL));"
   ]
  },
  {
   "cell_type": "code",
   "execution_count": 32,
   "metadata": {},
   "outputs": [],
   "source": [
    "irrWW2014 = ee.Image(icWWannua.filter(ee.Filter.calendarRange(YEAR_MIN,YEAR_MAX,\"year\")).first())\n",
    "irrWN2014 = ee.Image(icWNannua.filter(ee.Filter.calendarRange(YEAR_MIN,YEAR_MAX,\"year\")).first())"
   ]
  },
  {
   "cell_type": "code",
   "execution_count": 38,
   "metadata": {
    "collapsed": true
   },
   "outputs": [],
   "source": [
    "icWWRange = icWWannua.filter(ee.Filter.calendarRange(YEAR_MIN,YEAR_MAX,\"year\"))\n",
    "icWNRange = icWNannua.filter(ee.Filter.calendarRange(YEAR_MIN,YEAR_MAX,\"year\"))"
   ]
  },
  {
   "cell_type": "code",
   "execution_count": 39,
   "metadata": {
    "collapsed": true
   },
   "outputs": [],
   "source": [
    "def createTimeBand(image):\n",
    "    # Adds a timeband to the single band image. band is \"b1\" \n",
    "    year = ee.Number(ee.Image(image).get(\"year\"))\n",
    "    newImage = ee.Image.constant(year).toDouble().select([\"constant\"],[\"independent\"])\n",
    "    image = image.toDouble().select([\"b1\"],[\"dependent\"])\n",
    "    return image.addBands(newImage)   \n",
    "    \n",
    "    \n",
    "def linearTrendAnnual(ic,yearmin,yearmax):\n",
    "    ic_filtered = ic.filter(ee.Filter.calendarRange(YEAR_MIN,YEAR_MAX,\"year\"))\n",
    "    imageFinalYear = ee.Image(ic.filter(ee.Filter.calendarRange(YEAR_MIN,YEAR_MAX,\"year\")).first())\n",
    "    \n",
    "    "
   ]
  },
  {
   "cell_type": "code",
   "execution_count": 40,
   "metadata": {},
   "outputs": [],
   "source": [
    "icWWRange2 = icWWRange.map(createTimeBand)\n",
    "icWNRange2 = icWNRange.map(createTimeBand)"
   ]
  },
  {
   "cell_type": "code",
   "execution_count": 41,
   "metadata": {
    "collapsed": true
   },
   "outputs": [],
   "source": [
    "fitWW = icWWRange2.select([\"independent\",\"dependent\"]).reduce(ee.Reducer.linearFit())"
   ]
  },
  {
   "cell_type": "code",
   "execution_count": 42,
   "metadata": {
    "collapsed": true
   },
   "outputs": [],
   "source": [
    "fitWN = icWNRange2.select([\"independent\",\"dependent\"]).reduce(ee.Reducer.linearFit())"
   ]
  },
  {
   "cell_type": "code",
   "execution_count": 43,
   "metadata": {
    "collapsed": true
   },
   "outputs": [],
   "source": [
    "offsetWW = fitWW.select([\"offset\"])\n",
    "scaleWW = fitWW.select([\"scale\"])"
   ]
  },
  {
   "cell_type": "code",
   "execution_count": null,
   "metadata": {
    "collapsed": true
   },
   "outputs": [],
   "source": []
  }
 ],
 "metadata": {
  "kernelspec": {
   "display_name": "Python 27",
   "language": "python",
   "name": "python27"
  },
  "language_info": {
   "codemirror_mode": {
    "name": "ipython",
    "version": 2
   },
   "file_extension": ".py",
   "mimetype": "text/x-python",
   "name": "python",
   "nbconvert_exporter": "python",
   "pygments_lexer": "ipython2",
   "version": "2.7.13"
  }
 },
 "nbformat": 4,
 "nbformat_minor": 2
}
