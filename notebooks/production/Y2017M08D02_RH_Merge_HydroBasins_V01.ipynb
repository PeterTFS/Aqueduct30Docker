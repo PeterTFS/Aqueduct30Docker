{
 "cells": [
  {
   "cell_type": "markdown",
   "metadata": {},
   "source": [
    "### Merge WWF's HydroBasins\n",
    "\n",
    "* Purpose of script: This notebooks will copy the relevant files from raw ro process and merge the shapefiles of level 6\n",
    "* Author: Rutger Hofste\n",
    "* Kernel used: python35\n",
    "* Date created: 20170802\n"
   ]
  },
  {
   "cell_type": "markdown",
   "metadata": {},
   "source": [
    "## Preparation\n",
    "\n",
    "make sure you are authorized to use AWS S3\n",
    "\n",
    "## Origin of the WWF data\n",
    "\n",
    "The Hydrosheds data has been downloaded from the [WWF Website](http://www.hydrosheds.org/download). A login is required for larger datasets. For Aqueduct we used the Standard version without lakes. Since the download is limited to 5GB we split up the download in two batches:  \n",
    "\n",
    "1. Africa, North American Arctic, Central & South-east Asia, Australia & Oceania, Europe & Middle East\n",
    "1. Greenland, North America & Caribbean, South America, Siberia\n",
    "\n",
    "Download URLs (no longer valid)  \n",
    "[link1](http://www.hydrosheds.org/tempdownloads/hydrosheds-3926b3742a77b18974ca.zip)  \n",
    "[link2](http://www.hydrosheds.org/tempdownloads/hydrosheds-a69872e3f4059aea2434.zip)\n",
    "\n",
    "\n",
    "The data was downloaded earlier but replicated here so the latest download data would be 2017/08/03 \n",
    "\n",
    "The folders contain all levels but for this phase of Aqueduct we decided to use level 6. More information regarding this decision will be in the methodology document. \n",
    "\n",
    "\n"
   ]
  },
  {
   "cell_type": "markdown",
   "metadata": {},
   "source": [
    "## Script\n",
    "copy the files from the raw data folder to the process data folder. The raw data folder contains pristine or untouched data and should not be used as a working directory\n",
    "\n"
   ]
  },
  {
   "cell_type": "code",
   "execution_count": 38,
   "metadata": {},
   "outputs": [
    {
     "name": "stdout",
     "output_type": "stream",
     "text": [
      "sh: 0: getcwd() failed: No such file or directory\r\n"
     ]
    }
   ],
   "source": [
    "!cd /"
   ]
  },
  {
   "cell_type": "code",
   "execution_count": 25,
   "metadata": {},
   "outputs": [
    {
     "name": "stdout",
     "output_type": "stream",
     "text": [
      "copy: s3://wri-projects/Aqueduct30/rawData/WWF/HydroSheds30sComplete/HydrobasinsStandardAfr-Eu.zip to s3://wri-projects/Aqueduct30/processData/02HydroBasinsV01/HydrobasinsStandardAfr-Eu.zip\n"
     ]
    }
   ],
   "source": [
    "!aws s3 cp \\\n",
    "s3://wri-projects/Aqueduct30/rawData/WWF/HydroSheds30sComplete/HydrobasinsStandardAfr-Eu.zip \\\n",
    "s3://wri-projects/Aqueduct30/processData/02HydroBasinsV01/"
   ]
  },
  {
   "cell_type": "code",
   "execution_count": 24,
   "metadata": {},
   "outputs": [
    {
     "name": "stdout",
     "output_type": "stream",
     "text": [
      "copy: s3://wri-projects/Aqueduct30/rawData/WWF/HydroSheds30sComplete/HydrobasinsStandardGR-SI.zip to s3://wri-projects/Aqueduct30/processData/02HydroBasinsV01/HydrobasinsStandardGR-SI.zip\n"
     ]
    }
   ],
   "source": [
    "!aws s3 cp \\\n",
    "s3://wri-projects/Aqueduct30/rawData/WWF/HydroSheds30sComplete/HydrobasinsStandardGR-SI.zip \\\n",
    "s3://wri-projects/Aqueduct30/processData/02HydroBasinsV01/"
   ]
  },
  {
   "cell_type": "code",
   "execution_count": 34,
   "metadata": {},
   "outputs": [
    {
     "name": "stdout",
     "output_type": "stream",
     "text": [
      "sh: 0: getcwd() failed: No such file or directory\r\n",
      "mkdir: cannot create directory '/volumes/data/Y2017M08D02_RH_Merge_HydroBasins_V01': File exists\r\n"
     ]
    }
   ],
   "source": [
    "!mkdir /volumes/data/Y2017M08D02_RH_Merge_HydroBasins_V01"
   ]
  },
  {
   "cell_type": "code",
   "execution_count": 42,
   "metadata": {},
   "outputs": [
    {
     "name": "stdout",
     "output_type": "stream",
     "text": [
      "download: s3://wri-projects/Aqueduct30/processData/02HydroBasinsV01/HydrobasinsStandardGR-SI.zip to ./HydrobasinsStandardGR-SI.zip\n",
      "download: s3://wri-projects/Aqueduct30/processData/02HydroBasinsV01/HydrobasinsStandardAfr-Eu.zip to ./HydrobasinsStandardAfr-Eu.zip\n"
     ]
    }
   ],
   "source": [
    "!aws s3 cp s3://wri-projects/Aqueduct30/processData/02HydroBasinsV01 /volumes/data/Y2017M08D02_RH_Merge_HydroBasins_V01 --recursive"
   ]
  },
  {
   "cell_type": "markdown",
   "metadata": {},
   "source": [
    "Unzip shapefiles "
   ]
  },
  {
   "cell_type": "code",
   "execution_count": 45,
   "metadata": {
    "collapsed": true
   },
   "outputs": [],
   "source": [
    "!cd /volumes/data/Y2017M08D02_RH_Merge_HydroBasins_V01"
   ]
  },
  {
   "cell_type": "code",
   "execution_count": 46,
   "metadata": {},
   "outputs": [
    {
     "name": "stdout",
     "output_type": "stream",
     "text": [
      "/volumes/data/Y2017M08D02_RH_Merge_HydroBasins_V01\r\n"
     ]
    }
   ],
   "source": [
    "!pwd"
   ]
  },
  {
   "cell_type": "code",
   "execution_count": 48,
   "metadata": {},
   "outputs": [
    {
     "name": "stdout",
     "output_type": "stream",
     "text": [
      "Archive:  ./HydrobasinsStandardAfr-Eu.zip\n",
      " extracting: hybas_af_lev00_v1c.zip  \n",
      " extracting: hybas_af_lev01-06_v1c.zip  \n",
      " extracting: hybas_af_lev01-12_v1c.zip  \n",
      " extracting: hybas_af_lev01_v1c.zip  \n",
      " extracting: hybas_af_lev02_v1c.zip  \n",
      " extracting: hybas_af_lev03_v1c.zip  \n",
      " extracting: hybas_af_lev04_v1c.zip  \n",
      " extracting: hybas_af_lev05_v1c.zip  \n",
      " extracting: hybas_af_lev06_v1c.zip  \n",
      " extracting: hybas_af_lev07_v1c.zip  \n",
      " extracting: hybas_af_lev08_v1c.zip  \n",
      " extracting: hybas_af_lev09_v1c.zip  \n",
      " extracting: hybas_af_lev10_v1c.zip  \n",
      " extracting: hybas_af_lev11_v1c.zip  \n",
      " extracting: hybas_af_lev12_v1c.zip  \n",
      " extracting: hybas_ar_lev00_v1c.zip  \n",
      " extracting: hybas_ar_lev01-06_v1c.zip  \n",
      " extracting: hybas_ar_lev01-12_v1c.zip  \n",
      " extracting: hybas_ar_lev01_v1c.zip  \n",
      " extracting: hybas_ar_lev02_v1c.zip  \n",
      " extracting: hybas_ar_lev03_v1c.zip  \n",
      " extracting: hybas_ar_lev04_v1c.zip  \n",
      " extracting: hybas_ar_lev05_v1c.zip  \n",
      " extracting: hybas_ar_lev06_v1c.zip  \n",
      " extracting: hybas_ar_lev07_v1c.zip  \n",
      " extracting: hybas_ar_lev08_v1c.zip  \n",
      " extracting: hybas_ar_lev09_v1c.zip  \n",
      " extracting: hybas_ar_lev10_v1c.zip  \n",
      " extracting: hybas_ar_lev11_v1c.zip  \n",
      " extracting: hybas_ar_lev12_v1c.zip  \n",
      " extracting: hybas_as_lev00_v1c.zip  \n",
      " extracting: hybas_as_lev01-06_v1c.zip  \n",
      " extracting: hybas_as_lev01-12_v1c.zip  \n",
      " extracting: hybas_as_lev01_v1c.zip  \n",
      " extracting: hybas_as_lev02_v1c.zip  \n",
      " extracting: hybas_as_lev03_v1c.zip  \n",
      " extracting: hybas_as_lev04_v1c.zip  \n",
      " extracting: hybas_as_lev05_v1c.zip  \n",
      " extracting: hybas_as_lev06_v1c.zip  \n",
      " extracting: hybas_as_lev07_v1c.zip  \n",
      " extracting: hybas_as_lev08_v1c.zip  \n",
      " extracting: hybas_as_lev09_v1c.zip  \n",
      " extracting: hybas_as_lev10_v1c.zip  \n",
      " extracting: hybas_as_lev11_v1c.zip  \n",
      " extracting: hybas_as_lev12_v1c.zip  \n",
      " extracting: hybas_au_lev00_v1c.zip  \n",
      " extracting: hybas_au_lev01-06_v1c.zip  \n",
      " extracting: hybas_au_lev01-12_v1c.zip  \n",
      " extracting: hybas_au_lev01_v1c.zip  \n",
      " extracting: hybas_au_lev02_v1c.zip  \n",
      " extracting: hybas_au_lev03_v1c.zip  \n",
      " extracting: hybas_au_lev04_v1c.zip  \n",
      " extracting: hybas_au_lev05_v1c.zip  \n",
      " extracting: hybas_au_lev06_v1c.zip  \n",
      " extracting: hybas_au_lev07_v1c.zip  \n",
      " extracting: hybas_au_lev08_v1c.zip  \n",
      " extracting: hybas_au_lev09_v1c.zip  \n",
      " extracting: hybas_au_lev10_v1c.zip  \n",
      " extracting: hybas_au_lev11_v1c.zip  \n",
      " extracting: hybas_au_lev12_v1c.zip  \n",
      " extracting: hybas_eu_lev00_v1c.zip  \n",
      " extracting: hybas_eu_lev01-06_v1c.zip  \n",
      " extracting: hybas_eu_lev01-12_v1c.zip  \n",
      " extracting: hybas_eu_lev01_v1c.zip  \n",
      " extracting: hybas_eu_lev02_v1c.zip  \n",
      " extracting: hybas_eu_lev03_v1c.zip  \n",
      " extracting: hybas_eu_lev04_v1c.zip  \n",
      " extracting: hybas_eu_lev05_v1c.zip  \n",
      " extracting: hybas_eu_lev06_v1c.zip  \n",
      " extracting: hybas_eu_lev07_v1c.zip  \n",
      " extracting: hybas_eu_lev08_v1c.zip  \n",
      " extracting: hybas_eu_lev09_v1c.zip  \n",
      " extracting: hybas_eu_lev10_v1c.zip  \n",
      " extracting: hybas_eu_lev11_v1c.zip  \n",
      " extracting: hybas_eu_lev12_v1c.zip  \n",
      "Archive:  ./HydrobasinsStandardGR-SI.zip\n",
      " extracting: hybas_gr_lev00_v1c.zip  \n",
      " extracting: hybas_gr_lev01-06_v1c.zip  \n",
      " extracting: hybas_gr_lev01-12_v1c.zip  \n",
      " extracting: hybas_gr_lev01_v1c.zip  \n",
      " extracting: hybas_gr_lev02_v1c.zip  \n",
      " extracting: hybas_gr_lev03_v1c.zip  \n",
      " extracting: hybas_gr_lev04_v1c.zip  \n",
      " extracting: hybas_gr_lev05_v1c.zip  \n",
      " extracting: hybas_gr_lev06_v1c.zip  \n",
      " extracting: hybas_gr_lev07_v1c.zip  \n",
      " extracting: hybas_gr_lev08_v1c.zip  \n",
      " extracting: hybas_gr_lev09_v1c.zip  \n",
      " extracting: hybas_gr_lev10_v1c.zip  \n",
      " extracting: hybas_gr_lev11_v1c.zip  \n",
      " extracting: hybas_gr_lev12_v1c.zip  \n",
      " extracting: hybas_na_lev00_v1c.zip  \n",
      " extracting: hybas_na_lev01-06_v1c.zip  \n",
      " extracting: hybas_na_lev01-12_v1c.zip  \n",
      " extracting: hybas_na_lev01_v1c.zip  \n",
      " extracting: hybas_na_lev02_v1c.zip  \n",
      " extracting: hybas_na_lev03_v1c.zip  \n",
      " extracting: hybas_na_lev04_v1c.zip  \n",
      " extracting: hybas_na_lev05_v1c.zip  \n",
      " extracting: hybas_na_lev06_v1c.zip  \n",
      " extracting: hybas_na_lev07_v1c.zip  \n",
      " extracting: hybas_na_lev08_v1c.zip  \n",
      " extracting: hybas_na_lev09_v1c.zip  \n",
      " extracting: hybas_na_lev10_v1c.zip  \n",
      " extracting: hybas_na_lev11_v1c.zip  \n",
      " extracting: hybas_na_lev12_v1c.zip  \n",
      " extracting: hybas_sa_lev00_v1c.zip  \n",
      " extracting: hybas_sa_lev01-06_v1c.zip  \n",
      " extracting: hybas_sa_lev01-12_v1c.zip  \n",
      " extracting: hybas_sa_lev01_v1c.zip  \n",
      " extracting: hybas_sa_lev02_v1c.zip  \n",
      " extracting: hybas_sa_lev03_v1c.zip  \n",
      " extracting: hybas_sa_lev04_v1c.zip  \n",
      " extracting: hybas_sa_lev05_v1c.zip  \n",
      " extracting: hybas_sa_lev06_v1c.zip  \n",
      " extracting: hybas_sa_lev07_v1c.zip  \n",
      " extracting: hybas_sa_lev08_v1c.zip  \n",
      " extracting: hybas_sa_lev09_v1c.zip  \n",
      " extracting: hybas_sa_lev10_v1c.zip  \n",
      " extracting: hybas_sa_lev11_v1c.zip  \n",
      " extracting: hybas_sa_lev12_v1c.zip  \n",
      " extracting: hybas_si_lev00_v1c.zip  \n",
      " extracting: hybas_si_lev01-06_v1c.zip  \n",
      " extracting: hybas_si_lev01-12_v1c.zip  \n",
      " extracting: hybas_si_lev01_v1c.zip  \n",
      " extracting: hybas_si_lev02_v1c.zip  \n",
      " extracting: hybas_si_lev03_v1c.zip  \n",
      " extracting: hybas_si_lev04_v1c.zip  \n",
      " extracting: hybas_si_lev05_v1c.zip  \n",
      " extracting: hybas_si_lev06_v1c.zip  \n",
      " extracting: hybas_si_lev07_v1c.zip  \n",
      " extracting: hybas_si_lev08_v1c.zip  \n",
      " extracting: hybas_si_lev09_v1c.zip  \n",
      " extracting: hybas_si_lev10_v1c.zip  \n",
      " extracting: hybas_si_lev11_v1c.zip  \n",
      " extracting: hybas_si_lev12_v1c.zip  \n"
     ]
    }
   ],
   "source": [
    "!find . -name '*.zip' -exec unzip {} \\;"
   ]
  },
  {
   "cell_type": "markdown",
   "metadata": {},
   "source": [
    "For now we will only use Level 6. Extracting in the same directory (/volumes/data/Y2017M08D02_RH_Merge_HydroBasins_V01)"
   ]
  },
  {
   "cell_type": "code",
   "execution_count": 53,
   "metadata": {},
   "outputs": [
    {
     "name": "stdout",
     "output_type": "stream",
     "text": [
      "Archive:  /volumes/data/Y2017M08D02_RH_Merge_HydroBasins_V01/hybas_au_lev06_v1c.zip\n",
      "  inflating: hybas_au_lev06_v1c.dbf  \n",
      "  inflating: hybas_au_lev06_v1c.prj  \n",
      "  inflating: hybas_au_lev06_v1c.sbn  \n",
      "  inflating: hybas_au_lev06_v1c.sbx  \n",
      "  inflating: hybas_au_lev06_v1c.shp  \n",
      "  inflating: hybas_au_lev06_v1c.shp.xml  \n",
      "  inflating: hybas_au_lev06_v1c.shx  \n",
      "  inflating: HydroBASINS_TechDoc_v1c.pdf  \n",
      "Archive:  /volumes/data/Y2017M08D02_RH_Merge_HydroBasins_V01/hybas_na_lev06_v1c.zip\n",
      "  inflating: hybas_na_lev06_v1c.dbf  \n",
      "  inflating: hybas_na_lev06_v1c.prj  \n",
      "  inflating: hybas_na_lev06_v1c.sbn  \n",
      "  inflating: hybas_na_lev06_v1c.sbx  \n",
      "  inflating: hybas_na_lev06_v1c.shp  \n",
      "  inflating: hybas_na_lev06_v1c.shp.xml  \n",
      "  inflating: hybas_na_lev06_v1c.shx  \n",
      "  inflating: HydroBASINS_TechDoc_v1c.pdf  \n",
      "Archive:  /volumes/data/Y2017M08D02_RH_Merge_HydroBasins_V01/hybas_gr_lev06_v1c.zip\n",
      "  inflating: hybas_gr_lev06_v1c.dbf  \n",
      "  inflating: hybas_gr_lev06_v1c.prj  \n",
      "  inflating: hybas_gr_lev06_v1c.sbn  \n",
      "  inflating: hybas_gr_lev06_v1c.sbx  \n",
      "  inflating: hybas_gr_lev06_v1c.shp  \n",
      "  inflating: hybas_gr_lev06_v1c.shp.xml  \n",
      "  inflating: hybas_gr_lev06_v1c.shx  \n",
      "  inflating: HydroBASINS_TechDoc_v1c.pdf  \n",
      "Archive:  /volumes/data/Y2017M08D02_RH_Merge_HydroBasins_V01/hybas_as_lev06_v1c.zip\n",
      "  inflating: hybas_as_lev06_v1c.dbf  \n",
      "  inflating: hybas_as_lev06_v1c.prj  \n",
      "  inflating: hybas_as_lev06_v1c.sbn  \n",
      "  inflating: hybas_as_lev06_v1c.sbx  \n",
      "  inflating: hybas_as_lev06_v1c.shp  \n",
      "  inflating: hybas_as_lev06_v1c.shp.xml  \n",
      "  inflating: hybas_as_lev06_v1c.shx  \n",
      "  inflating: HydroBASINS_TechDoc_v1c.pdf  \n",
      "Archive:  /volumes/data/Y2017M08D02_RH_Merge_HydroBasins_V01/hybas_si_lev06_v1c.zip\n",
      "  inflating: hybas_si_lev06_v1c.dbf  \n",
      "  inflating: hybas_si_lev06_v1c.prj  \n",
      "  inflating: hybas_si_lev06_v1c.sbn  \n",
      "  inflating: hybas_si_lev06_v1c.sbx  \n",
      "  inflating: hybas_si_lev06_v1c.shp  \n",
      "  inflating: hybas_si_lev06_v1c.shp.xml  \n",
      "  inflating: hybas_si_lev06_v1c.shx  \n",
      "  inflating: HydroBASINS_TechDoc_v1c.pdf  \n",
      "Archive:  /volumes/data/Y2017M08D02_RH_Merge_HydroBasins_V01/hybas_af_lev06_v1c.zip\n",
      "  inflating: hybas_af_lev06_v1c.dbf  \n",
      "  inflating: hybas_af_lev06_v1c.prj  \n",
      "  inflating: hybas_af_lev06_v1c.sbn  \n",
      "  inflating: hybas_af_lev06_v1c.sbx  \n",
      "  inflating: hybas_af_lev06_v1c.shp  \n",
      "  inflating: hybas_af_lev06_v1c.shp.xml  \n",
      "  inflating: hybas_af_lev06_v1c.shx  \n",
      "  inflating: HydroBASINS_TechDoc_v1c.pdf  \n",
      "Archive:  /volumes/data/Y2017M08D02_RH_Merge_HydroBasins_V01/hybas_eu_lev06_v1c.zip\n",
      "  inflating: hybas_eu_lev06_v1c.dbf  \n",
      "  inflating: hybas_eu_lev06_v1c.prj  \n",
      "  inflating: hybas_eu_lev06_v1c.sbn  \n",
      "  inflating: hybas_eu_lev06_v1c.sbx  \n",
      "  inflating: hybas_eu_lev06_v1c.shp  \n",
      "  inflating: hybas_eu_lev06_v1c.shp.xml  \n",
      "  inflating: hybas_eu_lev06_v1c.shx  \n",
      "  inflating: HydroBASINS_TechDoc_v1c.pdf  \n",
      "Archive:  /volumes/data/Y2017M08D02_RH_Merge_HydroBasins_V01/hybas_ar_lev06_v1c.zip\n",
      "  inflating: hybas_ar_lev06_v1c.dbf  \n",
      "  inflating: hybas_ar_lev06_v1c.prj  \n",
      "  inflating: hybas_ar_lev06_v1c.sbn  \n",
      "  inflating: hybas_ar_lev06_v1c.sbx  \n",
      "  inflating: hybas_ar_lev06_v1c.shp  \n",
      "  inflating: hybas_ar_lev06_v1c.shp.xml  \n",
      "  inflating: hybas_ar_lev06_v1c.shx  \n",
      "  inflating: HydroBASINS_TechDoc_v1c.pdf  \n",
      "Archive:  /volumes/data/Y2017M08D02_RH_Merge_HydroBasins_V01/hybas_sa_lev06_v1c.zip\n",
      "  inflating: hybas_sa_lev06_v1c.dbf  \n",
      "  inflating: hybas_sa_lev06_v1c.prj  \n",
      "  inflating: hybas_sa_lev06_v1c.sbn  \n",
      "  inflating: hybas_sa_lev06_v1c.sbx  \n",
      "  inflating: hybas_sa_lev06_v1c.shp  \n",
      "  inflating: hybas_sa_lev06_v1c.shp.xml  \n",
      "  inflating: hybas_sa_lev06_v1c.shx  \n",
      "  inflating: HydroBASINS_TechDoc_v1c.pdf  \n"
     ]
    }
   ],
   "source": [
    "!find / -name '*lev06_v1c.zip' -exec unzip -o {} \\;"
   ]
  },
  {
   "cell_type": "code",
   "execution_count": 61,
   "metadata": {
    "collapsed": true
   },
   "outputs": [],
   "source": [
    "import os\n",
    "import fiona"
   ]
  },
  {
   "cell_type": "code",
   "execution_count": 54,
   "metadata": {
    "collapsed": true
   },
   "outputs": [],
   "source": [
    "filePath = \"/volumes/data/Y2017M08D02_RH_Merge_HydroBasins_V01\""
   ]
  },
  {
   "cell_type": "code",
   "execution_count": 56,
   "metadata": {},
   "outputs": [],
   "source": [
    "files = os.listdir(filePath)"
   ]
  },
  {
   "cell_type": "code",
   "execution_count": 75,
   "metadata": {},
   "outputs": [
    {
     "name": "stdout",
     "output_type": "stream",
     "text": [
      "/volumes/data/Y2017M08D02_RH_Merge_HydroBasins_V01\r\n"
     ]
    }
   ],
   "source": [
    "!pwd"
   ]
  },
  {
   "cell_type": "markdown",
   "metadata": {},
   "source": [
    "Create output folder"
   ]
  },
  {
   "cell_type": "code",
   "execution_count": 91,
   "metadata": {},
   "outputs": [],
   "source": [
    "!mkdir /volumes/data/Y2017M08D02_RH_Merge_HydroBasins_V01/output"
   ]
  },
  {
   "cell_type": "code",
   "execution_count": 92,
   "metadata": {},
   "outputs": [
    {
     "name": "stdout",
     "output_type": "stream",
     "text": [
      "hybas_sa_lev06_v1c.shp\n",
      "hybas_as_lev06_v1c.shp\n",
      "hybas_eu_lev06_v1c.shp\n",
      "hybas_af_lev06_v1c.shp\n",
      "hybas_au_lev06_v1c.shp\n",
      "hybas_na_lev06_v1c.shp\n",
      "hybas_ar_lev06_v1c.shp\n",
      "hybas_gr_lev06_v1c.shp\n",
      "hybas_si_lev06_v1c.shp\n"
     ]
    }
   ],
   "source": [
    "meta = fiona.open('hybas_ar_lev06_v1c.shp').meta\n",
    "with fiona.open('./output/hybas_lev06_v1c_merged_fiona_V01.shp', 'w', **meta) as output:\n",
    "    for oneFile in files:    \n",
    "        if oneFile.endswith(\".shp\"):\n",
    "            print(oneFile)\n",
    "            for features in fiona.open(oneFile):\n",
    "                output.write(features)\n",
    "    \n",
    "    \n",
    "    "
   ]
  },
  {
   "cell_type": "code",
   "execution_count": 94,
   "metadata": {},
   "outputs": [
    {
     "name": "stdout",
     "output_type": "stream",
     "text": [
      "tar: Removing leading `/' from member names\n",
      "/volumes/data/Y2017M08D02_RH_Merge_HydroBasins_V01/output/\n",
      "/volumes/data/Y2017M08D02_RH_Merge_HydroBasins_V01/output/hybas_lev06_v1c_merged_fiona_V01.cpg\n",
      "/volumes/data/Y2017M08D02_RH_Merge_HydroBasins_V01/output/hybas_lev06_v1c_merged_fiona_V01.dbf\n",
      "/volumes/data/Y2017M08D02_RH_Merge_HydroBasins_V01/output/hybas_lev06_v1c_merged_fiona_V01.prj\n",
      "/volumes/data/Y2017M08D02_RH_Merge_HydroBasins_V01/output/hybas_lev06_v1c_merged_fiona_V01.shp\n",
      "/volumes/data/Y2017M08D02_RH_Merge_HydroBasins_V01/output/hybas_lev06_v1c_merged_fiona_V01.shx\n"
     ]
    }
   ],
   "source": [
    "!tar -zcvf /volumes/data/Y2017M08D02_RH_Merge_HydroBasins_V01/hybas_lev06_v1c_merged_fiona_V01.tar.gz /volumes/data/Y2017M08D02_RH_Merge_HydroBasins_V01/output"
   ]
  },
  {
   "cell_type": "code",
   "execution_count": 97,
   "metadata": {},
   "outputs": [
    {
     "name": "stdout",
     "output_type": "stream",
     "text": [
      "upload: output/hybas_lev06_v1c_merged_fiona_V01.prj to s3://wri-projects/Aqueduct30/temp/hybas_lev06_v1c_merged_fiona_V01.prj\n",
      "upload: output/hybas_lev06_v1c_merged_fiona_V01.cpg to s3://wri-projects/Aqueduct30/temp/hybas_lev06_v1c_merged_fiona_V01.cpg\n",
      "upload: output/hybas_lev06_v1c_merged_fiona_V01.dbf to s3://wri-projects/Aqueduct30/temp/hybas_lev06_v1c_merged_fiona_V01.dbf\n",
      "upload: output/hybas_lev06_v1c_merged_fiona_V01.shx to s3://wri-projects/Aqueduct30/temp/hybas_lev06_v1c_merged_fiona_V01.shx\n",
      "upload: output/hybas_lev06_v1c_merged_fiona_V01.shp to s3://wri-projects/Aqueduct30/temp/hybas_lev06_v1c_merged_fiona_V01.shp\n"
     ]
    }
   ],
   "source": [
    "!aws s3 cp /volumes/data/Y2017M08D02_RH_Merge_HydroBasins_V01/output s3://wri-projects/Aqueduct30/temp/ --recursive"
   ]
  },
  {
   "cell_type": "markdown",
   "metadata": {},
   "source": [
    "The merged shapefile is stored in /volumes/data/Y2017M08D02_RH_Merge_HydroBasins_V01/output"
   ]
  },
  {
   "cell_type": "code",
   "execution_count": null,
   "metadata": {
    "collapsed": true
   },
   "outputs": [],
   "source": []
  }
 ],
 "metadata": {
  "kernelspec": {
   "display_name": "Python 35",
   "language": "python",
   "name": "python35"
  },
  "language_info": {
   "codemirror_mode": {
    "name": "ipython",
    "version": 3
   },
   "file_extension": ".py",
   "mimetype": "text/x-python",
   "name": "python",
   "nbconvert_exporter": "python",
   "pygments_lexer": "ipython3",
   "version": "3.5.3"
  }
 },
 "nbformat": 4,
 "nbformat_minor": 2
}
