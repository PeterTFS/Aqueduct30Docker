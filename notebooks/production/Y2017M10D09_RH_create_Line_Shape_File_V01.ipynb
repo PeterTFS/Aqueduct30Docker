{
 "cells": [
  {
   "cell_type": "markdown",
   "metadata": {},
   "source": [
    "# Create Line shapefile from CSV File \n",
    "\n",
    "* Purpose of script: Create a shapefile to visualize the flow network\n",
    "* Author: Rutger Hofste\n",
    "* Kernel used: python35\n",
    "* Date created: 20171009"
   ]
  },
  {
   "cell_type": "code",
   "execution_count": 39,
   "metadata": {},
   "outputs": [
    {
     "name": "stdout",
     "output_type": "stream",
     "text": [
      "Y2017M10D10 UTC 14:44\n",
      "3.5.4 |Continuum Analytics, Inc.| (default, Aug 14 2017, 13:26:58) \n",
      "[GCC 4.4.7 20120313 (Red Hat 4.4.7-1)]\n"
     ]
    }
   ],
   "source": [
    "import time, datetime, sys\n",
    "dateString = time.strftime(\"Y%YM%mD%d\")\n",
    "timeString = time.strftime(\"UTC %H:%M\")\n",
    "start = datetime.datetime.now()\n",
    "print(dateString,timeString)\n",
    "print(sys.version)\n",
    "%matplotlib inline"
   ]
  },
  {
   "cell_type": "code",
   "execution_count": null,
   "metadata": {
    "collapsed": true
   },
   "outputs": [],
   "source": []
  },
  {
   "cell_type": "code",
   "execution_count": 2,
   "metadata": {
    "collapsed": true
   },
   "outputs": [],
   "source": [
    "INPUT_VERSION = 1\n",
    "OUTPUT_VERSION = 2\n",
    "\n",
    "S3_INPUT_PATH =  \"s3://wri-projects/Aqueduct30/processData/Y2017M08D29_RH_Merge_FAONames_Upstream_V01/output/\"\n",
    "S3_OUTPUT_PATH = \"s3://wri-projects/Aqueduct30/processData/Y2017M10D09_RH_create_Line_Shape_File_V01/output/\"\n",
    "\n",
    "INPUT_FILE_NAME = \"hybas_lev06_v1c_merged_fiona_upstream_downstream_FAO_V%0.2d\" %(INPUT_VERSION)\n",
    "OUTPUT_FILE_NAME = \"Y2017M10D09_RH_create_Line_Shape_File_V%s.shp\" %(OUTPUT_VERSION)\n",
    "\n",
    "EC2_INPUT_PATH = \"/volumes/data/Y2017M10D09_RH_create_Line_Shape_File_V01/input\"\n",
    "EC2_OUTPUT_PATH = \"/volumes/data/Y2017M10D09_RH_create_Line_Shape_File_V01/output\"\n"
   ]
  },
  {
   "cell_type": "code",
   "execution_count": 3,
   "metadata": {
    "collapsed": true
   },
   "outputs": [],
   "source": [
    "!rm -r {EC2_INPUT_PATH} \n",
    "!rm -r {EC2_OUTPUT_PATH} "
   ]
  },
  {
   "cell_type": "code",
   "execution_count": 4,
   "metadata": {
    "collapsed": true
   },
   "outputs": [],
   "source": [
    "!mkdir -p {EC2_INPUT_PATH} \n",
    "!mkdir -p {EC2_OUTPUT_PATH} "
   ]
  },
  {
   "cell_type": "code",
   "execution_count": 5,
   "metadata": {},
   "outputs": [
    {
     "name": "stdout",
     "output_type": "stream",
     "text": [
      "download: s3://wri-projects/Aqueduct30/processData/Y2017M08D29_RH_Merge_FAONames_Upstream_V01/output/hybas_lev06_v1c_merged_fiona_upstream_downstream_FAO_V01.cpg to ../../../../data/Y2017M10D09_RH_create_Line_Shape_File_V01/input/hybas_lev06_v1c_merged_fiona_upstream_downstream_FAO_V01.cpg\n",
      "download: s3://wri-projects/Aqueduct30/processData/Y2017M08D29_RH_Merge_FAONames_Upstream_V01/output/hybas_lev06_v1c_merged_fiona_upstream_downstream_FAO_V01.prj to ../../../../data/Y2017M10D09_RH_create_Line_Shape_File_V01/input/hybas_lev06_v1c_merged_fiona_upstream_downstream_FAO_V01.prj\n",
      "download: s3://wri-projects/Aqueduct30/processData/Y2017M08D29_RH_Merge_FAONames_Upstream_V01/output/hybas_lev06_v1c_merged_fiona_upstream_downstream_FAO_V01.dbf to ../../../../data/Y2017M10D09_RH_create_Line_Shape_File_V01/input/hybas_lev06_v1c_merged_fiona_upstream_downstream_FAO_V01.dbf\n",
      "download: s3://wri-projects/Aqueduct30/processData/Y2017M08D29_RH_Merge_FAONames_Upstream_V01/output/hybas_lev06_v1c_merged_fiona_upstream_downstream_FAO_V01.shx to ../../../../data/Y2017M10D09_RH_create_Line_Shape_File_V01/input/hybas_lev06_v1c_merged_fiona_upstream_downstream_FAO_V01.shx\n",
      "download: s3://wri-projects/Aqueduct30/processData/Y2017M08D29_RH_Merge_FAONames_Upstream_V01/output/hybas_lev06_v1c_merged_fiona_upstream_downstream_FAO_V01.csv to ../../../../data/Y2017M10D09_RH_create_Line_Shape_File_V01/input/hybas_lev06_v1c_merged_fiona_upstream_downstream_FAO_V01.csv\n",
      "download: s3://wri-projects/Aqueduct30/processData/Y2017M08D29_RH_Merge_FAONames_Upstream_V01/output/hybas_lev06_v1c_merged_fiona_upstream_downstream_FAO_V01.pkl to ../../../../data/Y2017M10D09_RH_create_Line_Shape_File_V01/input/hybas_lev06_v1c_merged_fiona_upstream_downstream_FAO_V01.pkl\n",
      "download: s3://wri-projects/Aqueduct30/processData/Y2017M08D29_RH_Merge_FAONames_Upstream_V01/output/hybas_lev06_v1c_merged_fiona_upstream_downstream_FAO_V01.shp to ../../../../data/Y2017M10D09_RH_create_Line_Shape_File_V01/input/hybas_lev06_v1c_merged_fiona_upstream_downstream_FAO_V01.shp\n"
     ]
    }
   ],
   "source": [
    "!aws s3 cp {S3_INPUT_PATH} {EC2_INPUT_PATH} --recursive"
   ]
  },
  {
   "cell_type": "code",
   "execution_count": 6,
   "metadata": {
    "collapsed": true
   },
   "outputs": [],
   "source": [
    "import os\n",
    "import pandas as pd\n",
    "import numpy as np\n",
    "import geopandas as gpd\n",
    "from shapely.geometry import Point, LineString\n"
   ]
  },
  {
   "cell_type": "code",
   "execution_count": 7,
   "metadata": {
    "collapsed": true
   },
   "outputs": [],
   "source": [
    "df = pd.read_pickle(os.path.join(EC2_INPUT_PATH,INPUT_FILE_NAME+\".pkl\"))"
   ]
  },
  {
   "cell_type": "code",
   "execution_count": 8,
   "metadata": {
    "collapsed": true
   },
   "outputs": [],
   "source": [
    "gdf = gpd.read_file(os.path.join(EC2_INPUT_PATH,INPUT_FILE_NAME+\".shp\"))"
   ]
  },
  {
   "cell_type": "code",
   "execution_count": 9,
   "metadata": {
    "collapsed": true
   },
   "outputs": [],
   "source": [
    "gdf = gdf.set_index(\"PFAF_ID\",drop=False)"
   ]
  },
  {
   "cell_type": "code",
   "execution_count": 10,
   "metadata": {},
   "outputs": [
    {
     "name": "stdout",
     "output_type": "stream",
     "text": [
      "(16397, 25) (16397, 2)\n"
     ]
    }
   ],
   "source": [
    "print(df.shape,gdf.shape)"
   ]
  },
  {
   "cell_type": "code",
   "execution_count": 11,
   "metadata": {
    "collapsed": true
   },
   "outputs": [],
   "source": [
    "df = df.drop_duplicates(subset=\"PFAF_ID\",keep='first')"
   ]
  },
  {
   "cell_type": "code",
   "execution_count": 12,
   "metadata": {
    "collapsed": true
   },
   "outputs": [],
   "source": [
    "gdf = gdf.drop_duplicates(subset=\"PFAF_ID\",keep='first')"
   ]
  },
  {
   "cell_type": "code",
   "execution_count": 13,
   "metadata": {},
   "outputs": [
    {
     "name": "stdout",
     "output_type": "stream",
     "text": [
      "(16396, 25) (16396, 2)\n"
     ]
    }
   ],
   "source": [
    "print(df.shape,gdf.shape)"
   ]
  },
  {
   "cell_type": "code",
   "execution_count": 14,
   "metadata": {
    "collapsed": true
   },
   "outputs": [],
   "source": [
    "#gdfOut = gdf.copy()"
   ]
  },
  {
   "cell_type": "code",
   "execution_count": 15,
   "metadata": {
    "collapsed": true
   },
   "outputs": [],
   "source": [
    "gdf['geometry'] = gdf.geometry.centroid"
   ]
  },
  {
   "cell_type": "code",
   "execution_count": 16,
   "metadata": {
    "collapsed": true
   },
   "outputs": [],
   "source": [
    "gdf[\"centroid_x\"] = gdf.geometry.x"
   ]
  },
  {
   "cell_type": "code",
   "execution_count": 17,
   "metadata": {
    "collapsed": true
   },
   "outputs": [],
   "source": [
    "gdf[\"centroid_y\"] = gdf.geometry.y"
   ]
  },
  {
   "cell_type": "code",
   "execution_count": 18,
   "metadata": {
    "collapsed": true
   },
   "outputs": [],
   "source": [
    "gdf[\"HYBAS_ID\"] = df[\"HYBAS_ID\"]\n",
    "gdf[\"NEXT_DOWN\"] = df[\"NEXT_DOWN\"]\n",
    "gdf[\"ENDO\"] = df[\"ENDO\"]\n"
   ]
  },
  {
   "cell_type": "code",
   "execution_count": 19,
   "metadata": {
    "collapsed": true
   },
   "outputs": [],
   "source": [
    "gdf = gdf.set_index(\"HYBAS_ID\",drop=False)   "
   ]
  },
  {
   "cell_type": "code",
   "execution_count": 20,
   "metadata": {},
   "outputs": [
    {
     "data": {
      "text/plain": [
       "<matplotlib.axes._subplots.AxesSubplot at 0x7fe60afe8898>"
      ]
     },
     "execution_count": 20,
     "metadata": {},
     "output_type": "execute_result"
    },
    {
     "data": {
      "image/png": "[encoded data removed]",
      "text/plain": [
       "<matplotlib.figure.Figure at 0x7fe60afe3550>"
      ]
     },
     "metadata": {},
     "output_type": "display_data"
    }
   ],
   "source": [
    "gdf.plot()"
   ]
  },
  {
   "cell_type": "code",
   "execution_count": 21,
   "metadata": {
    "collapsed": true
   },
   "outputs": [],
   "source": [
    "for index, row in gdf.iterrows():\n",
    "    if row[\"NEXT_DOWN\"] != 0 : #and row[\"ENDO\"] != 2: # uncomment to mask out virtual water connections\n",
    "        gdf.set_value(index,\"next_centroid_x\",gdf.loc[row[\"NEXT_DOWN\"]][\"centroid_x\"])\n",
    "        gdf.set_value(index,\"next_centroid_y\",gdf.loc[row[\"NEXT_DOWN\"]][\"centroid_y\"])\n",
    "    else:\n",
    "        gdf.set_value(index,\"next_centroid_x\",gdf.loc[index][\"centroid_x\"])\n",
    "        gdf.set_value(index,\"next_centroid_y\",gdf.loc[index][\"centroid_y\"])"
   ]
  },
  {
   "cell_type": "code",
   "execution_count": 22,
   "metadata": {
    "collapsed": true
   },
   "outputs": [],
   "source": [
    "def fxy(x, y, xx, yy):\n",
    "    point1 = Point(x,y)\n",
    "    point2 = Point(xx,yy)\n",
    "    geom = LineString([point1,point2])\n",
    "    return geom"
   ]
  },
  {
   "cell_type": "code",
   "execution_count": 23,
   "metadata": {
    "collapsed": true
   },
   "outputs": [],
   "source": [
    "df = gdf.drop(\"geometry\",axis=1)"
   ]
  },
  {
   "cell_type": "code",
   "execution_count": 24,
   "metadata": {},
   "outputs": [
    {
     "data": {
      "text/html": [
       "<div>\n",
       "<style>\n",
       "    .dataframe thead tr:only-child th {\n",
       "        text-align: right;\n",
       "    }\n",
       "\n",
       "    .dataframe thead th {\n",
       "        text-align: left;\n",
       "    }\n",
       "\n",
       "    .dataframe tbody tr th {\n",
       "        vertical-align: top;\n",
       "    }\n",
       "</style>\n",
       "<table border=\"1\" class=\"dataframe\">\n",
       "  <thead>\n",
       "    <tr style=\"text-align: right;\">\n",
       "      <th></th>\n",
       "      <th>PFAF_ID</th>\n",
       "      <th>centroid_x</th>\n",
       "      <th>centroid_y</th>\n",
       "      <th>HYBAS_ID</th>\n",
       "      <th>NEXT_DOWN</th>\n",
       "      <th>ENDO</th>\n",
       "      <th>next_centroid_x</th>\n",
       "      <th>next_centroid_y</th>\n",
       "    </tr>\n",
       "    <tr>\n",
       "      <th>HYBAS_ID</th>\n",
       "      <th></th>\n",
       "      <th></th>\n",
       "      <th></th>\n",
       "      <th></th>\n",
       "      <th></th>\n",
       "      <th></th>\n",
       "      <th></th>\n",
       "      <th></th>\n",
       "    </tr>\n",
       "  </thead>\n",
       "  <tbody>\n",
       "    <tr>\n",
       "      <th>6060000010</th>\n",
       "      <td>611001</td>\n",
       "      <td>-78.013646</td>\n",
       "      <td>8.927000</td>\n",
       "      <td>6060000010</td>\n",
       "      <td>0</td>\n",
       "      <td>0</td>\n",
       "      <td>-78.013646</td>\n",
       "      <td>8.927000</td>\n",
       "    </tr>\n",
       "    <tr>\n",
       "      <th>6060000200</th>\n",
       "      <td>611002</td>\n",
       "      <td>-76.765133</td>\n",
       "      <td>6.639787</td>\n",
       "      <td>6060000200</td>\n",
       "      <td>0</td>\n",
       "      <td>0</td>\n",
       "      <td>-76.765133</td>\n",
       "      <td>6.639787</td>\n",
       "    </tr>\n",
       "    <tr>\n",
       "      <th>6060000210</th>\n",
       "      <td>611003</td>\n",
       "      <td>-76.909605</td>\n",
       "      <td>7.883699</td>\n",
       "      <td>6060000210</td>\n",
       "      <td>0</td>\n",
       "      <td>0</td>\n",
       "      <td>-76.909605</td>\n",
       "      <td>7.883699</td>\n",
       "    </tr>\n",
       "    <tr>\n",
       "      <th>6060000240</th>\n",
       "      <td>611004</td>\n",
       "      <td>-76.645155</td>\n",
       "      <td>7.684698</td>\n",
       "      <td>6060000240</td>\n",
       "      <td>0</td>\n",
       "      <td>0</td>\n",
       "      <td>-76.645155</td>\n",
       "      <td>7.684698</td>\n",
       "    </tr>\n",
       "    <tr>\n",
       "      <th>6060000250</th>\n",
       "      <td>611005</td>\n",
       "      <td>-76.438453</td>\n",
       "      <td>8.536851</td>\n",
       "      <td>6060000250</td>\n",
       "      <td>0</td>\n",
       "      <td>0</td>\n",
       "      <td>-76.438453</td>\n",
       "      <td>8.536851</td>\n",
       "    </tr>\n",
       "  </tbody>\n",
       "</table>\n",
       "</div>"
      ],
      "text/plain": [
       "            PFAF_ID  centroid_x  centroid_y    HYBAS_ID  NEXT_DOWN  ENDO  \\\n",
       "HYBAS_ID                                                                   \n",
       "6060000010   611001  -78.013646    8.927000  6060000010          0     0   \n",
       "6060000200   611002  -76.765133    6.639787  6060000200          0     0   \n",
       "6060000210   611003  -76.909605    7.883699  6060000210          0     0   \n",
       "6060000240   611004  -76.645155    7.684698  6060000240          0     0   \n",
       "6060000250   611005  -76.438453    8.536851  6060000250          0     0   \n",
       "\n",
       "            next_centroid_x  next_centroid_y  \n",
       "HYBAS_ID                                      \n",
       "6060000010       -78.013646         8.927000  \n",
       "6060000200       -76.765133         6.639787  \n",
       "6060000210       -76.909605         7.883699  \n",
       "6060000240       -76.645155         7.684698  \n",
       "6060000250       -76.438453         8.536851  "
      ]
     },
     "execution_count": 24,
     "metadata": {},
     "output_type": "execute_result"
    }
   ],
   "source": [
    "df.head()"
   ]
  },
  {
   "cell_type": "code",
   "execution_count": 25,
   "metadata": {
    "collapsed": true
   },
   "outputs": [],
   "source": [
    "dfSimple = pd.DataFrame(df[\"PFAF_ID\"])"
   ]
  },
  {
   "cell_type": "markdown",
   "metadata": {},
   "source": [
    "It is important to copy the endorheic basins since the virtual water connection is listed in the downstream basins column. When displaying you can remove all basins with ENDO = 2"
   ]
  },
  {
   "cell_type": "code",
   "execution_count": 26,
   "metadata": {
    "collapsed": true
   },
   "outputs": [],
   "source": [
    "dfSimple[\"ENDO\"] = df[\"ENDO\"]"
   ]
  },
  {
   "cell_type": "code",
   "execution_count": 27,
   "metadata": {
    "collapsed": true
   },
   "outputs": [],
   "source": [
    "gdfSimple = gpd.GeoDataFrame(dfSimple)"
   ]
  },
  {
   "cell_type": "code",
   "execution_count": 28,
   "metadata": {
    "collapsed": true
   },
   "outputs": [],
   "source": [
    "gs = gpd.GeoSeries(index=dfSimple.index)"
   ]
  },
  {
   "cell_type": "code",
   "execution_count": 29,
   "metadata": {
    "collapsed": true
   },
   "outputs": [],
   "source": [
    "listje = []\n",
    "for index, row in df.iterrows():      \n",
    "    listje.append(fxy(row.centroid_x,row.centroid_y,row.next_centroid_x,row.next_centroid_y) )"
   ]
  },
  {
   "cell_type": "code",
   "execution_count": 31,
   "metadata": {
    "collapsed": true
   },
   "outputs": [],
   "source": [
    "gdf_Out2 = gpd.GeoDataFrame(dfSimple,geometry=listje)"
   ]
  },
  {
   "cell_type": "code",
   "execution_count": 32,
   "metadata": {
    "collapsed": true
   },
   "outputs": [],
   "source": [
    "gdf_Out2 = gdf_Out2.set_index(\"PFAF_ID\",drop=False)"
   ]
  },
  {
   "cell_type": "code",
   "execution_count": 33,
   "metadata": {
    "collapsed": true
   },
   "outputs": [],
   "source": [
    "gdf_Out2.crs = {'init' :'epsg:4326'}"
   ]
  },
  {
   "cell_type": "code",
   "execution_count": 34,
   "metadata": {},
   "outputs": [
    {
     "data": {
      "text/plain": [
       "<matplotlib.axes._subplots.AxesSubplot at 0x7fe60be50898>"
      ]
     },
     "execution_count": 34,
     "metadata": {},
     "output_type": "execute_result"
    },
    {
     "data": {
      "image/png": "[encoded data removed]",
      "text/plain": [
       "<matplotlib.figure.Figure at 0x7fe60b024e10>"
      ]
     },
     "metadata": {},
     "output_type": "display_data"
    }
   ],
   "source": [
    "gdf_Out2.plot()"
   ]
  },
  {
   "cell_type": "code",
   "execution_count": 35,
   "metadata": {
    "collapsed": true
   },
   "outputs": [],
   "source": [
    "gdf_Out2.to_file(driver = 'ESRI Shapefile', filename = os.path.join(EC2_OUTPUT_PATH,OUTPUT_FILE_NAME))"
   ]
  },
  {
   "cell_type": "code",
   "execution_count": 36,
   "metadata": {},
   "outputs": [
    {
     "name": "stdout",
     "output_type": "stream",
     "text": [
      "upload: ../../../../data/Y2017M10D09_RH_create_Line_Shape_File_V01/output/Y2017M10D09_RH_create_Line_Shape_File_V2.prj to s3://wri-projects/Aqueduct30/processData/Y2017M10D09_RH_create_Line_Shape_File_V01/output/Y2017M10D09_RH_create_Line_Shape_File_V2.prj\n",
      "upload: ../../../../data/Y2017M10D09_RH_create_Line_Shape_File_V01/output/Y2017M10D09_RH_create_Line_Shape_File_V2.cpg to s3://wri-projects/Aqueduct30/processData/Y2017M10D09_RH_create_Line_Shape_File_V01/output/Y2017M10D09_RH_create_Line_Shape_File_V2.cpg\n",
      "upload: ../../../../data/Y2017M10D09_RH_create_Line_Shape_File_V01/output/Y2017M10D09_RH_create_Line_Shape_File_V2.shx to s3://wri-projects/Aqueduct30/processData/Y2017M10D09_RH_create_Line_Shape_File_V01/output/Y2017M10D09_RH_create_Line_Shape_File_V2.shx\n",
      "upload: ../../../../data/Y2017M10D09_RH_create_Line_Shape_File_V01/output/Y2017M10D09_RH_create_Line_Shape_File_V2.dbf to s3://wri-projects/Aqueduct30/processData/Y2017M10D09_RH_create_Line_Shape_File_V01/output/Y2017M10D09_RH_create_Line_Shape_File_V2.dbf\n",
      "upload: ../../../../data/Y2017M10D09_RH_create_Line_Shape_File_V01/output/Y2017M10D09_RH_create_Line_Shape_File_V2.shp to s3://wri-projects/Aqueduct30/processData/Y2017M10D09_RH_create_Line_Shape_File_V01/output/Y2017M10D09_RH_create_Line_Shape_File_V2.shp\n"
     ]
    }
   ],
   "source": [
    "!aws s3 cp {EC2_OUTPUT_PATH} {S3_OUTPUT_PATH} --recursive"
   ]
  },
  {
   "cell_type": "code",
   "execution_count": 40,
   "metadata": {},
   "outputs": [
    {
     "name": "stdout",
     "output_type": "stream",
     "text": [
      "0:03:03.236646\n"
     ]
    }
   ],
   "source": [
    "end = datetime.datetime.now()\n",
    "elapsed = end - start\n",
    "print(elapsed)"
   ]
  },
  {
   "cell_type": "code",
   "execution_count": null,
   "metadata": {
    "collapsed": true
   },
   "outputs": [],
   "source": []
  }
 ],
 "metadata": {
  "kernelspec": {
   "display_name": "Python 35",
   "language": "python",
   "name": "python35"
  },
  "language_info": {
   "codemirror_mode": {
    "name": "ipython",
    "version": 3
   },
   "file_extension": ".py",
   "mimetype": "text/x-python",
   "name": "python",
   "nbconvert_exporter": "python",
   "pygments_lexer": "ipython3",
   "version": "3.5.4"
  }
 },
 "nbformat": 4,
 "nbformat_minor": 2
}
