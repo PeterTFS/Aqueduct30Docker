{
 "cells": [
  {
   "cell_type": "markdown",
   "metadata": {},
   "source": [
    "### Ingest data on Google Earth Engine (WRI bucket)\n",
    "\n",
    "* Purpose of script: This notebook will upload the geotiff files from the Google Cloud Storage to the WRI/aqueduct earthengine bucket. \n",
    "* Author: Rutger Hofste\n",
    "* Kernel used: python36\n",
    "* Date created: 20170802"
   ]
  },
  {
   "cell_type": "markdown",
   "metadata": {},
   "source": [
    "## Preparation"
   ]
  },
  {
   "cell_type": "markdown",
   "metadata": {},
   "source": [
    "* Authorize earthengine by running in your terminal: `earthengine authenticate`  \n",
    "* you need to have access to the WRI-Aquaduct (yep a Google employee made a typo) bucket to ingest the data. Rutger can grant access to write to this folder. \n",
    "* Have access to the Google Cloud Storage Bucker"
   ]
  },
  {
   "cell_type": "markdown",
   "metadata": {},
   "source": [
    "Run in your terminal `gcloud config set project aqueduct30`"
   ]
  },
  {
   "cell_type": "code",
   "execution_count": 85,
   "metadata": {
    "collapsed": true
   },
   "outputs": [],
   "source": [
    "import subprocess\n",
    "import datetime\n",
    "import os\n",
    "import time\n",
    "from datetime import timedelta\n",
    "import re\n",
    "import pandas as pd"
   ]
  },
  {
   "cell_type": "markdown",
   "metadata": {},
   "source": [
    "## Settings"
   ]
  },
  {
   "cell_type": "code",
   "execution_count": 2,
   "metadata": {
    "collapsed": true
   },
   "outputs": [],
   "source": [
    "GCS_BASE = \"gs://aqueduct30_v01/Y2017M08D02_RH_Upload_to_GoogleCS_V01/\""
   ]
  },
  {
   "cell_type": "code",
   "execution_count": 3,
   "metadata": {
    "collapsed": true
   },
   "outputs": [],
   "source": [
    "EE_BASE = \"projects/WRI-Aquaduct/PCRGlobWB20V05\""
   ]
  },
  {
   "cell_type": "markdown",
   "metadata": {},
   "source": [
    "## Functions"
   ]
  },
  {
   "cell_type": "code",
   "execution_count": 4,
   "metadata": {
    "collapsed": true
   },
   "outputs": [],
   "source": [
    "def splitKey(key):\n",
    "    # will yield the root file code and extension of a set of keys\n",
    "    prefix, extension = key.split(\".\")\n",
    "    fileName = prefix.split(\"/\")[-1]\n",
    "    parameter = fileName[:-12]\n",
    "    month = fileName[-2:] #can also do this with regular expressions if you like\n",
    "    year = fileName[-7:-3]\n",
    "    identifier = fileName[-11:-8]\n",
    "    outDict = {\"fileName\":fileName,\"extension\":extension,\"parameter\":parameter,\"month\":month,\"year\":year,\"identifier\":identifier}\n",
    "    return outDict\n",
    "\n",
    "def splitParameter(parameter):\n",
    "    #values = parameter.split(\"_\")\n",
    "    values = re.split(\"_|-\", parameter) #soilmoisture uses a hyphen instead of underscore between the years\n",
    "    keys = [\"geographic_range\",\"temporal_range\",\"indicator\",\"temporal_resolution\",\"units\",\"spatial_resolution\",\"temporal_range_min\",\"temporal_range_max\"]\n",
    "    # ['global', 'historical', 'PDomWN', 'month', 'millionm3', '5min', '1960', '2014']\n",
    "    outDict = dict(zip(keys, values))\n",
    "    outDict[\"parameter\"] = parameter\n",
    "    return outDict\n"
   ]
  },
  {
   "cell_type": "markdown",
   "metadata": {},
   "source": [
    "## Script"
   ]
  },
  {
   "cell_type": "code",
   "execution_count": 5,
   "metadata": {
    "collapsed": true
   },
   "outputs": [],
   "source": [
    "command = (\"earthengine create folder %s\") %EE_BASE"
   ]
  },
  {
   "cell_type": "code",
   "execution_count": 6,
   "metadata": {},
   "outputs": [
    {
     "name": "stdout",
     "output_type": "stream",
     "text": [
      "earthengine create folder projects/WRI-Aquaduct/PCRGlobWB20V05\n"
     ]
    }
   ],
   "source": [
    "print(command)"
   ]
  },
  {
   "cell_type": "code",
   "execution_count": 7,
   "metadata": {},
   "outputs": [
    {
     "data": {
      "text/plain": [
       "'Asset projects/WRI-Aquaduct/PCRGlobWB20V05 already exists\\n'"
      ]
     },
     "execution_count": 7,
     "metadata": {},
     "output_type": "execute_result"
    }
   ],
   "source": [
    "subprocess.check_output(command,shell=True)"
   ]
  },
  {
   "cell_type": "code",
   "execution_count": 8,
   "metadata": {},
   "outputs": [],
   "source": [
    "command = (\"/opt/google-cloud-sdk/bin/gsutil ls %s\") %(GCS_BASE)"
   ]
  },
  {
   "cell_type": "code",
   "execution_count": 9,
   "metadata": {
    "collapsed": true
   },
   "outputs": [],
   "source": [
    "keys = subprocess.check_output(command,shell=True)"
   ]
  },
  {
   "cell_type": "code",
   "execution_count": 10,
   "metadata": {
    "collapsed": true
   },
   "outputs": [],
   "source": [
    "keys = keys.decode('UTF-8').splitlines()"
   ]
  },
  {
   "cell_type": "markdown",
   "metadata": {},
   "source": [
    "Removing first item from the list. The first item contains a folder without file name"
   ]
  },
  {
   "cell_type": "code",
   "execution_count": 11,
   "metadata": {
    "collapsed": true
   },
   "outputs": [],
   "source": [
    "keys2 = keys[1:]"
   ]
  },
  {
   "cell_type": "code",
   "execution_count": 12,
   "metadata": {},
   "outputs": [],
   "source": [
    "df = pd.DataFrame()\n",
    "i = 0\n",
    "for key in keys2:\n",
    "    i = i+1\n",
    "    outDict = splitKey(key)\n",
    "    df2 = pd.DataFrame(outDict,index=[i])\n",
    "    df = df.append(df2)    "
   ]
  },
  {
   "cell_type": "code",
   "execution_count": 13,
   "metadata": {},
   "outputs": [
    {
     "data": {
      "text/html": [
       "<div>\n",
       "<style>\n",
       "    .dataframe thead tr:only-child th {\n",
       "        text-align: right;\n",
       "    }\n",
       "\n",
       "    .dataframe thead th {\n",
       "        text-align: left;\n",
       "    }\n",
       "\n",
       "    .dataframe tbody tr th {\n",
       "        vertical-align: top;\n",
       "    }\n",
       "</style>\n",
       "<table border=\"1\" class=\"dataframe\">\n",
       "  <thead>\n",
       "    <tr style=\"text-align: right;\">\n",
       "      <th></th>\n",
       "      <th>extension</th>\n",
       "      <th>fileName</th>\n",
       "      <th>identifier</th>\n",
       "      <th>month</th>\n",
       "      <th>parameter</th>\n",
       "      <th>year</th>\n",
       "    </tr>\n",
       "  </thead>\n",
       "  <tbody>\n",
       "    <tr>\n",
       "      <th>1</th>\n",
       "      <td>tif</td>\n",
       "      <td>global_historical_PDomWN_month_millionm3_5min_...</td>\n",
       "      <td>000</td>\n",
       "      <td>01</td>\n",
       "      <td>global_historical_PDomWN_month_millionm3_5min_...</td>\n",
       "      <td>1960</td>\n",
       "    </tr>\n",
       "    <tr>\n",
       "      <th>2</th>\n",
       "      <td>tif</td>\n",
       "      <td>global_historical_PDomWN_month_millionm3_5min_...</td>\n",
       "      <td>001</td>\n",
       "      <td>02</td>\n",
       "      <td>global_historical_PDomWN_month_millionm3_5min_...</td>\n",
       "      <td>1960</td>\n",
       "    </tr>\n",
       "    <tr>\n",
       "      <th>3</th>\n",
       "      <td>tif</td>\n",
       "      <td>global_historical_PDomWN_month_millionm3_5min_...</td>\n",
       "      <td>002</td>\n",
       "      <td>03</td>\n",
       "      <td>global_historical_PDomWN_month_millionm3_5min_...</td>\n",
       "      <td>1960</td>\n",
       "    </tr>\n",
       "    <tr>\n",
       "      <th>4</th>\n",
       "      <td>tif</td>\n",
       "      <td>global_historical_PDomWN_month_millionm3_5min_...</td>\n",
       "      <td>003</td>\n",
       "      <td>04</td>\n",
       "      <td>global_historical_PDomWN_month_millionm3_5min_...</td>\n",
       "      <td>1960</td>\n",
       "    </tr>\n",
       "    <tr>\n",
       "      <th>5</th>\n",
       "      <td>tif</td>\n",
       "      <td>global_historical_PDomWN_month_millionm3_5min_...</td>\n",
       "      <td>004</td>\n",
       "      <td>05</td>\n",
       "      <td>global_historical_PDomWN_month_millionm3_5min_...</td>\n",
       "      <td>1960</td>\n",
       "    </tr>\n",
       "  </tbody>\n",
       "</table>\n",
       "</div>"
      ],
      "text/plain": [
       "  extension                                           fileName identifier  \\\n",
       "1       tif  global_historical_PDomWN_month_millionm3_5min_...        000   \n",
       "2       tif  global_historical_PDomWN_month_millionm3_5min_...        001   \n",
       "3       tif  global_historical_PDomWN_month_millionm3_5min_...        002   \n",
       "4       tif  global_historical_PDomWN_month_millionm3_5min_...        003   \n",
       "5       tif  global_historical_PDomWN_month_millionm3_5min_...        004   \n",
       "\n",
       "  month                                          parameter  year  \n",
       "1    01  global_historical_PDomWN_month_millionm3_5min_...  1960  \n",
       "2    02  global_historical_PDomWN_month_millionm3_5min_...  1960  \n",
       "3    03  global_historical_PDomWN_month_millionm3_5min_...  1960  \n",
       "4    04  global_historical_PDomWN_month_millionm3_5min_...  1960  \n",
       "5    05  global_historical_PDomWN_month_millionm3_5min_...  1960  "
      ]
     },
     "execution_count": 13,
     "metadata": {},
     "output_type": "execute_result"
    }
   ],
   "source": [
    "df.head()"
   ]
  },
  {
   "cell_type": "code",
   "execution_count": 14,
   "metadata": {},
   "outputs": [
    {
     "data": {
      "text/html": [
       "<div>\n",
       "<style>\n",
       "    .dataframe thead tr:only-child th {\n",
       "        text-align: right;\n",
       "    }\n",
       "\n",
       "    .dataframe thead th {\n",
       "        text-align: left;\n",
       "    }\n",
       "\n",
       "    .dataframe tbody tr th {\n",
       "        vertical-align: top;\n",
       "    }\n",
       "</style>\n",
       "<table border=\"1\" class=\"dataframe\">\n",
       "  <thead>\n",
       "    <tr style=\"text-align: right;\">\n",
       "      <th></th>\n",
       "      <th>extension</th>\n",
       "      <th>fileName</th>\n",
       "      <th>identifier</th>\n",
       "      <th>month</th>\n",
       "      <th>parameter</th>\n",
       "      <th>year</th>\n",
       "    </tr>\n",
       "  </thead>\n",
       "  <tbody>\n",
       "    <tr>\n",
       "      <th>8545</th>\n",
       "      <td>tif</td>\n",
       "      <td>global_historical_soilmoisture_month_meter_5mi...</td>\n",
       "      <td>679</td>\n",
       "      <td>08</td>\n",
       "      <td>global_historical_soilmoisture_month_meter_5mi...</td>\n",
       "      <td>2014</td>\n",
       "    </tr>\n",
       "    <tr>\n",
       "      <th>8546</th>\n",
       "      <td>tif</td>\n",
       "      <td>global_historical_soilmoisture_month_meter_5mi...</td>\n",
       "      <td>680</td>\n",
       "      <td>09</td>\n",
       "      <td>global_historical_soilmoisture_month_meter_5mi...</td>\n",
       "      <td>2014</td>\n",
       "    </tr>\n",
       "    <tr>\n",
       "      <th>8547</th>\n",
       "      <td>tif</td>\n",
       "      <td>global_historical_soilmoisture_month_meter_5mi...</td>\n",
       "      <td>681</td>\n",
       "      <td>10</td>\n",
       "      <td>global_historical_soilmoisture_month_meter_5mi...</td>\n",
       "      <td>2014</td>\n",
       "    </tr>\n",
       "    <tr>\n",
       "      <th>8548</th>\n",
       "      <td>tif</td>\n",
       "      <td>global_historical_soilmoisture_month_meter_5mi...</td>\n",
       "      <td>682</td>\n",
       "      <td>11</td>\n",
       "      <td>global_historical_soilmoisture_month_meter_5mi...</td>\n",
       "      <td>2014</td>\n",
       "    </tr>\n",
       "    <tr>\n",
       "      <th>8549</th>\n",
       "      <td>tif</td>\n",
       "      <td>global_historical_soilmoisture_month_meter_5mi...</td>\n",
       "      <td>683</td>\n",
       "      <td>12</td>\n",
       "      <td>global_historical_soilmoisture_month_meter_5mi...</td>\n",
       "      <td>2014</td>\n",
       "    </tr>\n",
       "  </tbody>\n",
       "</table>\n",
       "</div>"
      ],
      "text/plain": [
       "     extension                                           fileName identifier  \\\n",
       "8545       tif  global_historical_soilmoisture_month_meter_5mi...        679   \n",
       "8546       tif  global_historical_soilmoisture_month_meter_5mi...        680   \n",
       "8547       tif  global_historical_soilmoisture_month_meter_5mi...        681   \n",
       "8548       tif  global_historical_soilmoisture_month_meter_5mi...        682   \n",
       "8549       tif  global_historical_soilmoisture_month_meter_5mi...        683   \n",
       "\n",
       "     month                                          parameter  year  \n",
       "8545    08  global_historical_soilmoisture_month_meter_5mi...  2014  \n",
       "8546    09  global_historical_soilmoisture_month_meter_5mi...  2014  \n",
       "8547    10  global_historical_soilmoisture_month_meter_5mi...  2014  \n",
       "8548    11  global_historical_soilmoisture_month_meter_5mi...  2014  \n",
       "8549    12  global_historical_soilmoisture_month_meter_5mi...  2014  "
      ]
     },
     "execution_count": 14,
     "metadata": {},
     "output_type": "execute_result"
    }
   ],
   "source": [
    "df.tail()"
   ]
  },
  {
   "cell_type": "code",
   "execution_count": 15,
   "metadata": {},
   "outputs": [
    {
     "data": {
      "text/plain": [
       "(8549, 6)"
      ]
     },
     "execution_count": 15,
     "metadata": {},
     "output_type": "execute_result"
    }
   ],
   "source": [
    "df.shape"
   ]
  },
  {
   "cell_type": "code",
   "execution_count": 16,
   "metadata": {
    "collapsed": true
   },
   "outputs": [],
   "source": [
    "parameters = df.parameter.unique()"
   ]
  },
  {
   "cell_type": "code",
   "execution_count": 17,
   "metadata": {},
   "outputs": [
    {
     "name": "stdout",
     "output_type": "stream",
     "text": [
      "[u'global_historical_PDomWN_month_millionm3_5min_1960_2014'\n",
      " u'global_historical_PDomWN_year_millionm3_5min_1960_2014'\n",
      " u'global_historical_PDomWW_month_millionm3_5min_1960_2014'\n",
      " u'global_historical_PDomWW_year_millionm3_5min_1960_2014'\n",
      " u'global_historical_PIndWN_month_millionm3_5min_1960_2014'\n",
      " u'global_historical_PIndWN_year_millionm3_5min_1960_2014'\n",
      " u'global_historical_PIndWW_month_millionm3_5min_1960_2014'\n",
      " u'global_historical_PIndWW_year_millionm3_5min_1960_2014'\n",
      " u'global_historical_PIrrWN_month_millionm3_5min_1960_2014'\n",
      " u'global_historical_PIrrWN_year_millionm3_5min_1960_2014'\n",
      " u'global_historical_PIrrWW_month_millionm3_5min_1960_2014'\n",
      " u'global_historical_PIrrWW_year_millionm3_5min_1960_2014'\n",
      " u'global_historical_PLivWN_month_millionm3_5min_1960_2014'\n",
      " u'global_historical_PLivWN_year_millionm3_5min_1960_2014'\n",
      " u'global_historical_PLivWW_month_millionm3_5min_1960_2014'\n",
      " u'global_historical_PLivWW_year_millionm3_5min_1960_2014'\n",
      " u'global_historical_aqbasinwaterstress_month_dimensionless_5min_1960_2014'\n",
      " u'global_historical_aqbasinwaterstress_year_dimensionless_5min_1960_2014'\n",
      " u'global_historical_griddedwaterstress_month_dimensionless_5min_1960_2014'\n",
      " u'global_historical_griddedwaterstress_year_dimensionless_5min_1960_2014'\n",
      " u'global_historical_riverdischarge_month_m3second_5min_1960_2014'\n",
      " u'global_historical_riverdischarge_year_m3second_5min_1960_2014'\n",
      " u'global_historical_soilmoisture_month_meter_5min_1958-2014']\n"
     ]
    }
   ],
   "source": [
    "print(parameters)"
   ]
  },
  {
   "cell_type": "markdown",
   "metadata": {},
   "source": [
    "We will store the geotiff images of each NetCDF4 file in imageCollections. The imageCollections will have the same name and content as the original NetCDF4files. \n"
   ]
  },
  {
   "cell_type": "code",
   "execution_count": 19,
   "metadata": {},
   "outputs": [],
   "source": [
    "for parameter in parameters:\n",
    "    eeLocation = EE_BASE + \"/\" + parameter\n",
    "    command = (\"earthengine create collection %s\") %eeLocation\n",
    "    # Uncomment the following command if you run this script for the first time\n",
    "    #subprocess.check_output(command,shell=True)\n",
    "    #print(command)\n",
    "    "
   ]
  },
  {
   "cell_type": "markdown",
   "metadata": {},
   "source": [
    "Now that the folder and collections have been created we can start ingesting the data. It is crucial to store the relevant metadata with the images. "
   ]
  },
  {
   "cell_type": "code",
   "execution_count": 20,
   "metadata": {},
   "outputs": [],
   "source": [
    "df_parameter = pd.DataFrame()\n",
    "i = 0\n",
    "for parameter in parameters:\n",
    "    i = i+1\n",
    "    outDict_parameter = splitParameter(parameter)\n",
    "    df_parameter2 = pd.DataFrame(outDict_parameter,index=[i])\n",
    "    df_parameter = df_parameter.append(df_parameter2)   \n",
    "    "
   ]
  },
  {
   "cell_type": "code",
   "execution_count": 21,
   "metadata": {},
   "outputs": [
    {
     "data": {
      "text/html": [
       "<div>\n",
       "<style>\n",
       "    .dataframe thead tr:only-child th {\n",
       "        text-align: right;\n",
       "    }\n",
       "\n",
       "    .dataframe thead th {\n",
       "        text-align: left;\n",
       "    }\n",
       "\n",
       "    .dataframe tbody tr th {\n",
       "        vertical-align: top;\n",
       "    }\n",
       "</style>\n",
       "<table border=\"1\" class=\"dataframe\">\n",
       "  <thead>\n",
       "    <tr style=\"text-align: right;\">\n",
       "      <th></th>\n",
       "      <th>geographic_range</th>\n",
       "      <th>indicator</th>\n",
       "      <th>parameter</th>\n",
       "      <th>spatial_resolution</th>\n",
       "      <th>temporal_range</th>\n",
       "      <th>temporal_range_max</th>\n",
       "      <th>temporal_range_min</th>\n",
       "      <th>temporal_resolution</th>\n",
       "      <th>units</th>\n",
       "    </tr>\n",
       "  </thead>\n",
       "  <tbody>\n",
       "    <tr>\n",
       "      <th>1</th>\n",
       "      <td>global</td>\n",
       "      <td>PDomWN</td>\n",
       "      <td>global_historical_PDomWN_month_millionm3_5min_...</td>\n",
       "      <td>5min</td>\n",
       "      <td>historical</td>\n",
       "      <td>2014</td>\n",
       "      <td>1960</td>\n",
       "      <td>month</td>\n",
       "      <td>millionm3</td>\n",
       "    </tr>\n",
       "    <tr>\n",
       "      <th>2</th>\n",
       "      <td>global</td>\n",
       "      <td>PDomWN</td>\n",
       "      <td>global_historical_PDomWN_year_millionm3_5min_1...</td>\n",
       "      <td>5min</td>\n",
       "      <td>historical</td>\n",
       "      <td>2014</td>\n",
       "      <td>1960</td>\n",
       "      <td>year</td>\n",
       "      <td>millionm3</td>\n",
       "    </tr>\n",
       "    <tr>\n",
       "      <th>3</th>\n",
       "      <td>global</td>\n",
       "      <td>PDomWW</td>\n",
       "      <td>global_historical_PDomWW_month_millionm3_5min_...</td>\n",
       "      <td>5min</td>\n",
       "      <td>historical</td>\n",
       "      <td>2014</td>\n",
       "      <td>1960</td>\n",
       "      <td>month</td>\n",
       "      <td>millionm3</td>\n",
       "    </tr>\n",
       "    <tr>\n",
       "      <th>4</th>\n",
       "      <td>global</td>\n",
       "      <td>PDomWW</td>\n",
       "      <td>global_historical_PDomWW_year_millionm3_5min_1...</td>\n",
       "      <td>5min</td>\n",
       "      <td>historical</td>\n",
       "      <td>2014</td>\n",
       "      <td>1960</td>\n",
       "      <td>year</td>\n",
       "      <td>millionm3</td>\n",
       "    </tr>\n",
       "    <tr>\n",
       "      <th>5</th>\n",
       "      <td>global</td>\n",
       "      <td>PIndWN</td>\n",
       "      <td>global_historical_PIndWN_month_millionm3_5min_...</td>\n",
       "      <td>5min</td>\n",
       "      <td>historical</td>\n",
       "      <td>2014</td>\n",
       "      <td>1960</td>\n",
       "      <td>month</td>\n",
       "      <td>millionm3</td>\n",
       "    </tr>\n",
       "  </tbody>\n",
       "</table>\n",
       "</div>"
      ],
      "text/plain": [
       "  geographic_range indicator  \\\n",
       "1           global    PDomWN   \n",
       "2           global    PDomWN   \n",
       "3           global    PDomWW   \n",
       "4           global    PDomWW   \n",
       "5           global    PIndWN   \n",
       "\n",
       "                                           parameter spatial_resolution  \\\n",
       "1  global_historical_PDomWN_month_millionm3_5min_...               5min   \n",
       "2  global_historical_PDomWN_year_millionm3_5min_1...               5min   \n",
       "3  global_historical_PDomWW_month_millionm3_5min_...               5min   \n",
       "4  global_historical_PDomWW_year_millionm3_5min_1...               5min   \n",
       "5  global_historical_PIndWN_month_millionm3_5min_...               5min   \n",
       "\n",
       "  temporal_range temporal_range_max temporal_range_min temporal_resolution  \\\n",
       "1     historical               2014               1960               month   \n",
       "2     historical               2014               1960                year   \n",
       "3     historical               2014               1960               month   \n",
       "4     historical               2014               1960                year   \n",
       "5     historical               2014               1960               month   \n",
       "\n",
       "       units  \n",
       "1  millionm3  \n",
       "2  millionm3  \n",
       "3  millionm3  \n",
       "4  millionm3  \n",
       "5  millionm3  "
      ]
     },
     "execution_count": 21,
     "metadata": {},
     "output_type": "execute_result"
    }
   ],
   "source": [
    "df_parameter.head()"
   ]
  },
  {
   "cell_type": "code",
   "execution_count": 22,
   "metadata": {},
   "outputs": [
    {
     "data": {
      "text/html": [
       "<div>\n",
       "<style>\n",
       "    .dataframe thead tr:only-child th {\n",
       "        text-align: right;\n",
       "    }\n",
       "\n",
       "    .dataframe thead th {\n",
       "        text-align: left;\n",
       "    }\n",
       "\n",
       "    .dataframe tbody tr th {\n",
       "        vertical-align: top;\n",
       "    }\n",
       "</style>\n",
       "<table border=\"1\" class=\"dataframe\">\n",
       "  <thead>\n",
       "    <tr style=\"text-align: right;\">\n",
       "      <th></th>\n",
       "      <th>geographic_range</th>\n",
       "      <th>indicator</th>\n",
       "      <th>parameter</th>\n",
       "      <th>spatial_resolution</th>\n",
       "      <th>temporal_range</th>\n",
       "      <th>temporal_range_max</th>\n",
       "      <th>temporal_range_min</th>\n",
       "      <th>temporal_resolution</th>\n",
       "      <th>units</th>\n",
       "    </tr>\n",
       "  </thead>\n",
       "  <tbody>\n",
       "    <tr>\n",
       "      <th>19</th>\n",
       "      <td>global</td>\n",
       "      <td>griddedwaterstress</td>\n",
       "      <td>global_historical_griddedwaterstress_month_dim...</td>\n",
       "      <td>5min</td>\n",
       "      <td>historical</td>\n",
       "      <td>2014</td>\n",
       "      <td>1960</td>\n",
       "      <td>month</td>\n",
       "      <td>dimensionless</td>\n",
       "    </tr>\n",
       "    <tr>\n",
       "      <th>20</th>\n",
       "      <td>global</td>\n",
       "      <td>griddedwaterstress</td>\n",
       "      <td>global_historical_griddedwaterstress_year_dime...</td>\n",
       "      <td>5min</td>\n",
       "      <td>historical</td>\n",
       "      <td>2014</td>\n",
       "      <td>1960</td>\n",
       "      <td>year</td>\n",
       "      <td>dimensionless</td>\n",
       "    </tr>\n",
       "    <tr>\n",
       "      <th>21</th>\n",
       "      <td>global</td>\n",
       "      <td>riverdischarge</td>\n",
       "      <td>global_historical_riverdischarge_month_m3secon...</td>\n",
       "      <td>5min</td>\n",
       "      <td>historical</td>\n",
       "      <td>2014</td>\n",
       "      <td>1960</td>\n",
       "      <td>month</td>\n",
       "      <td>m3second</td>\n",
       "    </tr>\n",
       "    <tr>\n",
       "      <th>22</th>\n",
       "      <td>global</td>\n",
       "      <td>riverdischarge</td>\n",
       "      <td>global_historical_riverdischarge_year_m3second...</td>\n",
       "      <td>5min</td>\n",
       "      <td>historical</td>\n",
       "      <td>2014</td>\n",
       "      <td>1960</td>\n",
       "      <td>year</td>\n",
       "      <td>m3second</td>\n",
       "    </tr>\n",
       "    <tr>\n",
       "      <th>23</th>\n",
       "      <td>global</td>\n",
       "      <td>soilmoisture</td>\n",
       "      <td>global_historical_soilmoisture_month_meter_5mi...</td>\n",
       "      <td>5min</td>\n",
       "      <td>historical</td>\n",
       "      <td>2014</td>\n",
       "      <td>1958</td>\n",
       "      <td>month</td>\n",
       "      <td>meter</td>\n",
       "    </tr>\n",
       "  </tbody>\n",
       "</table>\n",
       "</div>"
      ],
      "text/plain": [
       "   geographic_range           indicator  \\\n",
       "19           global  griddedwaterstress   \n",
       "20           global  griddedwaterstress   \n",
       "21           global      riverdischarge   \n",
       "22           global      riverdischarge   \n",
       "23           global        soilmoisture   \n",
       "\n",
       "                                            parameter spatial_resolution  \\\n",
       "19  global_historical_griddedwaterstress_month_dim...               5min   \n",
       "20  global_historical_griddedwaterstress_year_dime...               5min   \n",
       "21  global_historical_riverdischarge_month_m3secon...               5min   \n",
       "22  global_historical_riverdischarge_year_m3second...               5min   \n",
       "23  global_historical_soilmoisture_month_meter_5mi...               5min   \n",
       "\n",
       "   temporal_range temporal_range_max temporal_range_min temporal_resolution  \\\n",
       "19     historical               2014               1960               month   \n",
       "20     historical               2014               1960                year   \n",
       "21     historical               2014               1960               month   \n",
       "22     historical               2014               1960                year   \n",
       "23     historical               2014               1958               month   \n",
       "\n",
       "            units  \n",
       "19  dimensionless  \n",
       "20  dimensionless  \n",
       "21       m3second  \n",
       "22       m3second  \n",
       "23          meter  "
      ]
     },
     "execution_count": 22,
     "metadata": {},
     "output_type": "execute_result"
    }
   ],
   "source": [
    "df_parameter.tail()"
   ]
  },
  {
   "cell_type": "code",
   "execution_count": 23,
   "metadata": {},
   "outputs": [
    {
     "data": {
      "text/plain": [
       "(23, 9)"
      ]
     },
     "execution_count": 23,
     "metadata": {},
     "output_type": "execute_result"
    }
   ],
   "source": [
    "df_parameter.shape"
   ]
  },
  {
   "cell_type": "code",
   "execution_count": 24,
   "metadata": {
    "collapsed": true
   },
   "outputs": [],
   "source": [
    "df_complete = df.merge(df_parameter,how='left',left_on='parameter',right_on='parameter')"
   ]
  },
  {
   "cell_type": "markdown",
   "metadata": {},
   "source": [
    "Adding NoData value, ingested_by and exportdescription"
   ]
  },
  {
   "cell_type": "code",
   "execution_count": 72,
   "metadata": {
    "collapsed": true
   },
   "outputs": [],
   "source": [
    "df_complete[\"nodata\"] = -9999\n",
    "df_complete[\"ingested_by\"] =\"RutgerHofste\"\n",
    "df_complete[\"exportdescription\"] = df_complete[\"indicator\"] + \"_\" + df_complete[\"temporal_resolution\"]+\"Y\"+df_complete[\"year\"]+\"M\"+df_complete[\"month\"]"
   ]
  },
  {
   "cell_type": "code",
   "execution_count": 73,
   "metadata": {},
   "outputs": [
    {
     "data": {
      "text/html": [
       "<div>\n",
       "<style>\n",
       "    .dataframe thead tr:only-child th {\n",
       "        text-align: right;\n",
       "    }\n",
       "\n",
       "    .dataframe thead th {\n",
       "        text-align: left;\n",
       "    }\n",
       "\n",
       "    .dataframe tbody tr th {\n",
       "        vertical-align: top;\n",
       "    }\n",
       "</style>\n",
       "<table border=\"1\" class=\"dataframe\">\n",
       "  <thead>\n",
       "    <tr style=\"text-align: right;\">\n",
       "      <th></th>\n",
       "      <th>extension</th>\n",
       "      <th>fileName</th>\n",
       "      <th>identifier</th>\n",
       "      <th>month</th>\n",
       "      <th>parameter</th>\n",
       "      <th>year</th>\n",
       "      <th>geographic_range</th>\n",
       "      <th>indicator</th>\n",
       "      <th>spatial_resolution</th>\n",
       "      <th>temporal_range</th>\n",
       "      <th>temporal_range_max</th>\n",
       "      <th>temporal_range_min</th>\n",
       "      <th>temporal_resolution</th>\n",
       "      <th>units</th>\n",
       "      <th>nodata</th>\n",
       "      <th>ingested_by</th>\n",
       "      <th>exportdescription</th>\n",
       "    </tr>\n",
       "  </thead>\n",
       "  <tbody>\n",
       "    <tr>\n",
       "      <th>0</th>\n",
       "      <td>tif</td>\n",
       "      <td>global_historical_PDomWN_month_millionm3_5min_...</td>\n",
       "      <td>000</td>\n",
       "      <td>01</td>\n",
       "      <td>global_historical_PDomWN_month_millionm3_5min_...</td>\n",
       "      <td>1960</td>\n",
       "      <td>global</td>\n",
       "      <td>PDomWN</td>\n",
       "      <td>5min</td>\n",
       "      <td>historical</td>\n",
       "      <td>2014</td>\n",
       "      <td>1960</td>\n",
       "      <td>month</td>\n",
       "      <td>millionm3</td>\n",
       "      <td>-9999</td>\n",
       "      <td>RutgerHofste</td>\n",
       "      <td>PDomWN_monthY1960M01</td>\n",
       "    </tr>\n",
       "    <tr>\n",
       "      <th>1</th>\n",
       "      <td>tif</td>\n",
       "      <td>global_historical_PDomWN_month_millionm3_5min_...</td>\n",
       "      <td>001</td>\n",
       "      <td>02</td>\n",
       "      <td>global_historical_PDomWN_month_millionm3_5min_...</td>\n",
       "      <td>1960</td>\n",
       "      <td>global</td>\n",
       "      <td>PDomWN</td>\n",
       "      <td>5min</td>\n",
       "      <td>historical</td>\n",
       "      <td>2014</td>\n",
       "      <td>1960</td>\n",
       "      <td>month</td>\n",
       "      <td>millionm3</td>\n",
       "      <td>-9999</td>\n",
       "      <td>RutgerHofste</td>\n",
       "      <td>PDomWN_monthY1960M02</td>\n",
       "    </tr>\n",
       "    <tr>\n",
       "      <th>2</th>\n",
       "      <td>tif</td>\n",
       "      <td>global_historical_PDomWN_month_millionm3_5min_...</td>\n",
       "      <td>002</td>\n",
       "      <td>03</td>\n",
       "      <td>global_historical_PDomWN_month_millionm3_5min_...</td>\n",
       "      <td>1960</td>\n",
       "      <td>global</td>\n",
       "      <td>PDomWN</td>\n",
       "      <td>5min</td>\n",
       "      <td>historical</td>\n",
       "      <td>2014</td>\n",
       "      <td>1960</td>\n",
       "      <td>month</td>\n",
       "      <td>millionm3</td>\n",
       "      <td>-9999</td>\n",
       "      <td>RutgerHofste</td>\n",
       "      <td>PDomWN_monthY1960M03</td>\n",
       "    </tr>\n",
       "    <tr>\n",
       "      <th>3</th>\n",
       "      <td>tif</td>\n",
       "      <td>global_historical_PDomWN_month_millionm3_5min_...</td>\n",
       "      <td>003</td>\n",
       "      <td>04</td>\n",
       "      <td>global_historical_PDomWN_month_millionm3_5min_...</td>\n",
       "      <td>1960</td>\n",
       "      <td>global</td>\n",
       "      <td>PDomWN</td>\n",
       "      <td>5min</td>\n",
       "      <td>historical</td>\n",
       "      <td>2014</td>\n",
       "      <td>1960</td>\n",
       "      <td>month</td>\n",
       "      <td>millionm3</td>\n",
       "      <td>-9999</td>\n",
       "      <td>RutgerHofste</td>\n",
       "      <td>PDomWN_monthY1960M04</td>\n",
       "    </tr>\n",
       "    <tr>\n",
       "      <th>4</th>\n",
       "      <td>tif</td>\n",
       "      <td>global_historical_PDomWN_month_millionm3_5min_...</td>\n",
       "      <td>004</td>\n",
       "      <td>05</td>\n",
       "      <td>global_historical_PDomWN_month_millionm3_5min_...</td>\n",
       "      <td>1960</td>\n",
       "      <td>global</td>\n",
       "      <td>PDomWN</td>\n",
       "      <td>5min</td>\n",
       "      <td>historical</td>\n",
       "      <td>2014</td>\n",
       "      <td>1960</td>\n",
       "      <td>month</td>\n",
       "      <td>millionm3</td>\n",
       "      <td>-9999</td>\n",
       "      <td>RutgerHofste</td>\n",
       "      <td>PDomWN_monthY1960M05</td>\n",
       "    </tr>\n",
       "  </tbody>\n",
       "</table>\n",
       "</div>"
      ],
      "text/plain": [
       "  extension                                           fileName identifier  \\\n",
       "0       tif  global_historical_PDomWN_month_millionm3_5min_...        000   \n",
       "1       tif  global_historical_PDomWN_month_millionm3_5min_...        001   \n",
       "2       tif  global_historical_PDomWN_month_millionm3_5min_...        002   \n",
       "3       tif  global_historical_PDomWN_month_millionm3_5min_...        003   \n",
       "4       tif  global_historical_PDomWN_month_millionm3_5min_...        004   \n",
       "\n",
       "  month                                          parameter  year  \\\n",
       "0    01  global_historical_PDomWN_month_millionm3_5min_...  1960   \n",
       "1    02  global_historical_PDomWN_month_millionm3_5min_...  1960   \n",
       "2    03  global_historical_PDomWN_month_millionm3_5min_...  1960   \n",
       "3    04  global_historical_PDomWN_month_millionm3_5min_...  1960   \n",
       "4    05  global_historical_PDomWN_month_millionm3_5min_...  1960   \n",
       "\n",
       "  geographic_range indicator spatial_resolution temporal_range  \\\n",
       "0           global    PDomWN               5min     historical   \n",
       "1           global    PDomWN               5min     historical   \n",
       "2           global    PDomWN               5min     historical   \n",
       "3           global    PDomWN               5min     historical   \n",
       "4           global    PDomWN               5min     historical   \n",
       "\n",
       "  temporal_range_max temporal_range_min temporal_resolution      units  \\\n",
       "0               2014               1960               month  millionm3   \n",
       "1               2014               1960               month  millionm3   \n",
       "2               2014               1960               month  millionm3   \n",
       "3               2014               1960               month  millionm3   \n",
       "4               2014               1960               month  millionm3   \n",
       "\n",
       "   nodata   ingested_by     exportdescription  \n",
       "0   -9999  RutgerHofste  PDomWN_monthY1960M01  \n",
       "1   -9999  RutgerHofste  PDomWN_monthY1960M02  \n",
       "2   -9999  RutgerHofste  PDomWN_monthY1960M03  \n",
       "3   -9999  RutgerHofste  PDomWN_monthY1960M04  \n",
       "4   -9999  RutgerHofste  PDomWN_monthY1960M05  "
      ]
     },
     "execution_count": 73,
     "metadata": {},
     "output_type": "execute_result"
    }
   ],
   "source": [
    "df_complete.head()"
   ]
  },
  {
   "cell_type": "code",
   "execution_count": 74,
   "metadata": {},
   "outputs": [
    {
     "data": {
      "text/html": [
       "<div>\n",
       "<style>\n",
       "    .dataframe thead tr:only-child th {\n",
       "        text-align: right;\n",
       "    }\n",
       "\n",
       "    .dataframe thead th {\n",
       "        text-align: left;\n",
       "    }\n",
       "\n",
       "    .dataframe tbody tr th {\n",
       "        vertical-align: top;\n",
       "    }\n",
       "</style>\n",
       "<table border=\"1\" class=\"dataframe\">\n",
       "  <thead>\n",
       "    <tr style=\"text-align: right;\">\n",
       "      <th></th>\n",
       "      <th>extension</th>\n",
       "      <th>fileName</th>\n",
       "      <th>identifier</th>\n",
       "      <th>month</th>\n",
       "      <th>parameter</th>\n",
       "      <th>year</th>\n",
       "      <th>geographic_range</th>\n",
       "      <th>indicator</th>\n",
       "      <th>spatial_resolution</th>\n",
       "      <th>temporal_range</th>\n",
       "      <th>temporal_range_max</th>\n",
       "      <th>temporal_range_min</th>\n",
       "      <th>temporal_resolution</th>\n",
       "      <th>units</th>\n",
       "      <th>nodata</th>\n",
       "      <th>ingested_by</th>\n",
       "      <th>exportdescription</th>\n",
       "    </tr>\n",
       "  </thead>\n",
       "  <tbody>\n",
       "    <tr>\n",
       "      <th>8544</th>\n",
       "      <td>tif</td>\n",
       "      <td>global_historical_soilmoisture_month_meter_5mi...</td>\n",
       "      <td>679</td>\n",
       "      <td>08</td>\n",
       "      <td>global_historical_soilmoisture_month_meter_5mi...</td>\n",
       "      <td>2014</td>\n",
       "      <td>global</td>\n",
       "      <td>soilmoisture</td>\n",
       "      <td>5min</td>\n",
       "      <td>historical</td>\n",
       "      <td>2014</td>\n",
       "      <td>1958</td>\n",
       "      <td>month</td>\n",
       "      <td>meter</td>\n",
       "      <td>-9999</td>\n",
       "      <td>RutgerHofste</td>\n",
       "      <td>soilmoisture_monthY2014M08</td>\n",
       "    </tr>\n",
       "    <tr>\n",
       "      <th>8545</th>\n",
       "      <td>tif</td>\n",
       "      <td>global_historical_soilmoisture_month_meter_5mi...</td>\n",
       "      <td>680</td>\n",
       "      <td>09</td>\n",
       "      <td>global_historical_soilmoisture_month_meter_5mi...</td>\n",
       "      <td>2014</td>\n",
       "      <td>global</td>\n",
       "      <td>soilmoisture</td>\n",
       "      <td>5min</td>\n",
       "      <td>historical</td>\n",
       "      <td>2014</td>\n",
       "      <td>1958</td>\n",
       "      <td>month</td>\n",
       "      <td>meter</td>\n",
       "      <td>-9999</td>\n",
       "      <td>RutgerHofste</td>\n",
       "      <td>soilmoisture_monthY2014M09</td>\n",
       "    </tr>\n",
       "    <tr>\n",
       "      <th>8546</th>\n",
       "      <td>tif</td>\n",
       "      <td>global_historical_soilmoisture_month_meter_5mi...</td>\n",
       "      <td>681</td>\n",
       "      <td>10</td>\n",
       "      <td>global_historical_soilmoisture_month_meter_5mi...</td>\n",
       "      <td>2014</td>\n",
       "      <td>global</td>\n",
       "      <td>soilmoisture</td>\n",
       "      <td>5min</td>\n",
       "      <td>historical</td>\n",
       "      <td>2014</td>\n",
       "      <td>1958</td>\n",
       "      <td>month</td>\n",
       "      <td>meter</td>\n",
       "      <td>-9999</td>\n",
       "      <td>RutgerHofste</td>\n",
       "      <td>soilmoisture_monthY2014M10</td>\n",
       "    </tr>\n",
       "    <tr>\n",
       "      <th>8547</th>\n",
       "      <td>tif</td>\n",
       "      <td>global_historical_soilmoisture_month_meter_5mi...</td>\n",
       "      <td>682</td>\n",
       "      <td>11</td>\n",
       "      <td>global_historical_soilmoisture_month_meter_5mi...</td>\n",
       "      <td>2014</td>\n",
       "      <td>global</td>\n",
       "      <td>soilmoisture</td>\n",
       "      <td>5min</td>\n",
       "      <td>historical</td>\n",
       "      <td>2014</td>\n",
       "      <td>1958</td>\n",
       "      <td>month</td>\n",
       "      <td>meter</td>\n",
       "      <td>-9999</td>\n",
       "      <td>RutgerHofste</td>\n",
       "      <td>soilmoisture_monthY2014M11</td>\n",
       "    </tr>\n",
       "    <tr>\n",
       "      <th>8548</th>\n",
       "      <td>tif</td>\n",
       "      <td>global_historical_soilmoisture_month_meter_5mi...</td>\n",
       "      <td>683</td>\n",
       "      <td>12</td>\n",
       "      <td>global_historical_soilmoisture_month_meter_5mi...</td>\n",
       "      <td>2014</td>\n",
       "      <td>global</td>\n",
       "      <td>soilmoisture</td>\n",
       "      <td>5min</td>\n",
       "      <td>historical</td>\n",
       "      <td>2014</td>\n",
       "      <td>1958</td>\n",
       "      <td>month</td>\n",
       "      <td>meter</td>\n",
       "      <td>-9999</td>\n",
       "      <td>RutgerHofste</td>\n",
       "      <td>soilmoisture_monthY2014M12</td>\n",
       "    </tr>\n",
       "  </tbody>\n",
       "</table>\n",
       "</div>"
      ],
      "text/plain": [
       "     extension                                           fileName identifier  \\\n",
       "8544       tif  global_historical_soilmoisture_month_meter_5mi...        679   \n",
       "8545       tif  global_historical_soilmoisture_month_meter_5mi...        680   \n",
       "8546       tif  global_historical_soilmoisture_month_meter_5mi...        681   \n",
       "8547       tif  global_historical_soilmoisture_month_meter_5mi...        682   \n",
       "8548       tif  global_historical_soilmoisture_month_meter_5mi...        683   \n",
       "\n",
       "     month                                          parameter  year  \\\n",
       "8544    08  global_historical_soilmoisture_month_meter_5mi...  2014   \n",
       "8545    09  global_historical_soilmoisture_month_meter_5mi...  2014   \n",
       "8546    10  global_historical_soilmoisture_month_meter_5mi...  2014   \n",
       "8547    11  global_historical_soilmoisture_month_meter_5mi...  2014   \n",
       "8548    12  global_historical_soilmoisture_month_meter_5mi...  2014   \n",
       "\n",
       "     geographic_range     indicator spatial_resolution temporal_range  \\\n",
       "8544           global  soilmoisture               5min     historical   \n",
       "8545           global  soilmoisture               5min     historical   \n",
       "8546           global  soilmoisture               5min     historical   \n",
       "8547           global  soilmoisture               5min     historical   \n",
       "8548           global  soilmoisture               5min     historical   \n",
       "\n",
       "     temporal_range_max temporal_range_min temporal_resolution  units  nodata  \\\n",
       "8544               2014               1958               month  meter   -9999   \n",
       "8545               2014               1958               month  meter   -9999   \n",
       "8546               2014               1958               month  meter   -9999   \n",
       "8547               2014               1958               month  meter   -9999   \n",
       "8548               2014               1958               month  meter   -9999   \n",
       "\n",
       "       ingested_by           exportdescription  \n",
       "8544  RutgerHofste  soilmoisture_monthY2014M08  \n",
       "8545  RutgerHofste  soilmoisture_monthY2014M09  \n",
       "8546  RutgerHofste  soilmoisture_monthY2014M10  \n",
       "8547  RutgerHofste  soilmoisture_monthY2014M11  \n",
       "8548  RutgerHofste  soilmoisture_monthY2014M12  "
      ]
     },
     "execution_count": 74,
     "metadata": {},
     "output_type": "execute_result"
    }
   ],
   "source": [
    "df_complete.tail()"
   ]
  },
  {
   "cell_type": "code",
   "execution_count": 75,
   "metadata": {},
   "outputs": [
    {
     "data": {
      "text/plain": [
       "['extension',\n",
       " 'fileName',\n",
       " 'identifier',\n",
       " 'month',\n",
       " 'parameter',\n",
       " 'year',\n",
       " 'geographic_range',\n",
       " 'indicator',\n",
       " 'spatial_resolution',\n",
       " 'temporal_range',\n",
       " 'temporal_range_max',\n",
       " 'temporal_range_min',\n",
       " 'temporal_resolution',\n",
       " 'units',\n",
       " 'nodata',\n",
       " 'ingested_by',\n",
       " 'exportdescription']"
      ]
     },
     "execution_count": 75,
     "metadata": {},
     "output_type": "execute_result"
    }
   ],
   "source": [
    "list(df_complete.columns.values)"
   ]
  },
  {
   "cell_type": "code",
   "execution_count": 76,
   "metadata": {
    "collapsed": true
   },
   "outputs": [],
   "source": [
    "row = df_complete.loc[100]"
   ]
  },
  {
   "cell_type": "code",
   "execution_count": 95,
   "metadata": {},
   "outputs": [],
   "source": [
    "def uploadEE(row):\n",
    "    target = EE_BASE +\"/\"+ row.parameter + \"/\" + row.fileName\n",
    "    source = GCS_BASE + row.fileName + \".\" + row.extension\n",
    "    metadata = \"--nodata_value=%s --time_start %s-%s-01 -p extension=%s -p filename=%s -p identifier=%s -p year=%s -p geographic_range=%s -p indicator=%s -p spatial_resolution=%s -p temporal_range=%s -p temporal_range_max=%s -p temporal_range_min=%s -p temporal_resolution=%s -p units=%s -p ingested_by=%s -p exportdescription=%s\" %(row.nodata,row.year,row.month,row.extension,row.fileName,row.identifier,row.year,row.geographic_range,row.indicator,row.spatial_resolution,row.temporal_range,row.temporal_range_max,row.temporal_range_min, row.temporal_resolution, row.units, row.ingested_by, row.exportdescription)\n",
    "    command = \"/opt/anaconda3/bin/earthengine upload image --asset_id %s %s %s\" % (target, source,metadata)\n",
    "    try:\n",
    "        subprocess.check_output(command, shell=True)\n",
    "    except:\n",
    "        print(\"ERROR!!\")\n",
    "        print(command)\n",
    "    return 1\n",
    "\n"
   ]
  },
  {
   "cell_type": "code",
   "execution_count": null,
   "metadata": {},
   "outputs": [
    {
     "name": "stdout",
     "output_type": "stream",
     "text": [
      "(0, '0.00', 'elapsed: ', '0:00:00.003431')\n",
      "(1, '0.01', 'elapsed: ', '0:00:01.290459')\n",
      "(2, '0.02', 'elapsed: ', '0:00:02.450219')\n",
      "(3, '0.04', 'elapsed: ', '0:00:03.624940')\n",
      "(4, '0.05', 'elapsed: ', '0:00:05.089276')\n",
      "(5, '0.06', 'elapsed: ', '0:00:06.275719')\n",
      "(6, '0.07', 'elapsed: ', '0:00:07.455653')\n",
      "(7, '0.08', 'elapsed: ', '0:00:08.643919')\n",
      "(8, '0.09', 'elapsed: ', '0:00:09.935281')\n",
      "(9, '0.11', 'elapsed: ', '0:00:11.083145')\n",
      "(10, '0.12', 'elapsed: ', '0:00:12.310036')\n",
      "(11, '0.13', 'elapsed: ', '0:00:13.454741')\n",
      "(12, '0.14', 'elapsed: ', '0:00:14.636362')\n",
      "(13, '0.15', 'elapsed: ', '0:00:15.867308')\n",
      "(14, '0.16', 'elapsed: ', '0:00:17.052000')\n",
      "(15, '0.18', 'elapsed: ', '0:00:18.263081')\n",
      "(16, '0.19', 'elapsed: ', '0:00:19.442278')\n",
      "(17, '0.20', 'elapsed: ', '0:00:20.724541')\n",
      "(18, '0.21', 'elapsed: ', '0:00:21.939463')\n",
      "(19, '0.22', 'elapsed: ', '0:00:23.145336')\n",
      "(20, '0.23', 'elapsed: ', '0:00:24.321772')\n",
      "(21, '0.25', 'elapsed: ', '0:00:25.679418')\n",
      "(22, '0.26', 'elapsed: ', '0:00:26.902407')\n",
      "(23, '0.27', 'elapsed: ', '0:00:28.043751')\n",
      "(24, '0.28', 'elapsed: ', '0:00:29.296773')\n",
      "(25, '0.29', 'elapsed: ', '0:00:30.578748')\n",
      "(26, '0.30', 'elapsed: ', '0:00:31.781002')\n",
      "(27, '0.32', 'elapsed: ', '0:00:33.077875')\n",
      "(28, '0.33', 'elapsed: ', '0:00:34.243197')\n",
      "(29, '0.34', 'elapsed: ', '0:00:35.654295')\n",
      "(30, '0.35', 'elapsed: ', '0:00:36.865899')\n",
      "(31, '0.36', 'elapsed: ', '0:00:39.017866')\n",
      "(32, '0.37', 'elapsed: ', '0:00:41.044739')\n",
      "(33, '0.39', 'elapsed: ', '0:00:42.194422')\n",
      "(34, '0.40', 'elapsed: ', '0:00:43.410015')\n",
      "(35, '0.41', 'elapsed: ', '0:00:44.553799')\n",
      "(36, '0.42', 'elapsed: ', '0:00:45.988021')\n",
      "(37, '0.43', 'elapsed: ', '0:00:47.132219')\n",
      "(38, '0.44', 'elapsed: ', '0:00:48.319758')\n",
      "(39, '0.46', 'elapsed: ', '0:00:49.485395')\n",
      "(40, '0.47', 'elapsed: ', '0:00:50.659650')\n",
      "(41, '0.48', 'elapsed: ', '0:00:51.811455')\n",
      "(42, '0.49', 'elapsed: ', '0:00:53.018767')\n",
      "(43, '0.50', 'elapsed: ', '0:00:54.226874')\n",
      "(44, '0.51', 'elapsed: ', '0:00:55.446805')\n",
      "(45, '0.53', 'elapsed: ', '0:00:56.631714')\n",
      "(46, '0.54', 'elapsed: ', '0:00:57.856707')\n",
      "(47, '0.55', 'elapsed: ', '0:00:58.994091')\n",
      "(48, '0.56', 'elapsed: ', '0:01:00.152109')\n",
      "(49, '0.57', 'elapsed: ', '0:01:01.245614')\n",
      "(50, '0.58', 'elapsed: ', '0:01:05.524672')\n",
      "(51, '0.60', 'elapsed: ', '0:01:06.755052')\n",
      "(52, '0.61', 'elapsed: ', '0:01:08.190003')\n",
      "(53, '0.62', 'elapsed: ', '0:01:09.511606')\n",
      "(54, '0.63', 'elapsed: ', '0:01:10.823737')\n",
      "(55, '0.64', 'elapsed: ', '0:01:11.968393')\n",
      "(56, '0.66', 'elapsed: ', '0:01:13.088280')\n",
      "(57, '0.67', 'elapsed: ', '0:01:14.386149')\n",
      "(58, '0.68', 'elapsed: ', '0:01:15.504044')\n",
      "(59, '0.69', 'elapsed: ', '0:01:17.212352')\n",
      "(60, '0.70', 'elapsed: ', '0:01:18.372859')\n",
      "(61, '0.71', 'elapsed: ', '0:01:20.788663')\n",
      "(62, '0.73', 'elapsed: ', '0:01:21.948687')\n",
      "(63, '0.74', 'elapsed: ', '0:01:23.114645')\n",
      "(64, '0.75', 'elapsed: ', '0:01:25.969410')\n",
      "(65, '0.76', 'elapsed: ', '0:01:27.193676')\n",
      "(66, '0.77', 'elapsed: ', '0:01:28.685253')\n",
      "(67, '0.78', 'elapsed: ', '0:01:29.901751')\n",
      "(68, '0.80', 'elapsed: ', '0:01:30.988189')\n",
      "(69, '0.81', 'elapsed: ', '0:01:32.114176')\n",
      "(70, '0.82', 'elapsed: ', '0:01:33.275262')\n",
      "(71, '0.83', 'elapsed: ', '0:01:34.648067')\n",
      "(72, '0.84', 'elapsed: ', '0:01:35.815234')\n"
     ]
    }
   ],
   "source": [
    "start_time = time.time()\n",
    "for index, row in df_complete.iterrows():\n",
    "    elapsed_time = time.time() - start_time \n",
    "    print(index,\"%.2f\" %((index/8548.0)*100), \"elapsed: \", str(timedelta(seconds=elapsed_time)))\n",
    "    uploadEE(row)\n",
    "    \n",
    "    \n",
    "    "
   ]
  },
  {
   "cell_type": "code",
   "execution_count": null,
   "metadata": {
    "collapsed": true
   },
   "outputs": [],
   "source": []
  }
 ],
 "metadata": {
  "kernelspec": {
   "display_name": "Python 27",
   "language": "python",
   "name": "python27"
  },
  "language_info": {
   "codemirror_mode": {
    "name": "ipython",
    "version": 2
   },
   "file_extension": ".py",
   "mimetype": "text/x-python",
   "name": "python",
   "nbconvert_exporter": "python",
   "pygments_lexer": "ipython2",
   "version": "2.7.13"
  }
 },
 "nbformat": 4,
 "nbformat_minor": 2
}
