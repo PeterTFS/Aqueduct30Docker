{
 "cells": [
  {
   "cell_type": "markdown",
   "metadata": {},
   "source": [
    "# Calculate average PCRGlobWB supply using EE\n",
    "\n",
    "* Purpose of script: This script will join the csv tables from GCS into one file using pandas\n",
    "* Author: Rutger Hofste\n",
    "* Kernel used: python35\n",
    "* Date created: 20170914"
   ]
  },
  {
   "cell_type": "code",
   "execution_count": 1,
   "metadata": {},
   "outputs": [
    {
     "name": "stdout",
     "output_type": "stream",
     "text": [
      "Y2017M10D11 UTC 09:23\n"
     ]
    }
   ],
   "source": [
    "import time, datetime\n",
    "dateString = time.strftime(\"Y%YM%mD%d\")\n",
    "timeString = time.strftime(\"UTC %H:%M\")\n",
    "start = datetime.datetime.now()\n",
    "print(dateString,timeString)"
   ]
  },
  {
   "cell_type": "code",
   "execution_count": 2,
   "metadata": {
    "collapsed": true
   },
   "outputs": [],
   "source": [
    "GCS_VERSION = 17\n",
    "OUTPUT_VERSION = 18\n",
    "\n",
    "GCS_INPUT_PATH = \"gs://aqueduct30_v01/Y2017M09D11_RH_zonal_stats_EE_V%0.2d/\" %(GCS_VERSION)\n",
    "EC2_INPUT_PATH = \"/volumes/data/Y2017M09D14_RH_merge_EE_results_V01/input\"\n",
    "EC2_OUTPUT_PATH = \"/volumes/data/Y2017M09D14_RH_merge_EE_results_V01/output\"\n",
    "S3_OUTPUT_PATH = \"s3://wri-projects/Aqueduct30/processData/Y2017M09D14_RH_merge_EE_results_V01/output/\"\n",
    "\n",
    "\n",
    "STRING_TRIM = \"V%0.2dee_export.csv\" %(GCS_VERSION)\n",
    "# e.g. IrrLinearWW_monthY2014M12V15ee_export.csv -> IrrLinearWW_monthY2014M12\n",
    "\n",
    "#Aux files, do not change order i.e. zones, area, extra\n",
    "AUXFILES = [\"Hybas06\",\n",
    "            \"area_30s_m2\",\n",
    "            \"ones_30s\"\n",
    "           ]\n",
    "\n",
    "DROP_COLUMNS = [\".geo\",\"system:index\"]\n",
    "\n",
    "OUTPUTFILENAME = \"mergedZonalStatsEE_V%0.2d\" %(OUTPUT_VERSION)"
   ]
  },
  {
   "cell_type": "code",
   "execution_count": 3,
   "metadata": {
    "collapsed": true
   },
   "outputs": [],
   "source": [
    "!rm -r {EC2_INPUT_PATH}\n",
    "!rm -r {EC2_OUTPUT_PATH}"
   ]
  },
  {
   "cell_type": "code",
   "execution_count": 4,
   "metadata": {
    "collapsed": true
   },
   "outputs": [],
   "source": [
    "!mkdir -p {EC2_INPUT_PATH}\n",
    "!mkdir -p {EC2_OUTPUT_PATH}"
   ]
  },
  {
   "cell_type": "code",
   "execution_count": 5,
   "metadata": {},
   "outputs": [
    {
     "name": "stdout",
     "output_type": "stream",
     "text": [
      "Copying gs://aqueduct30_v01/Y2017M09D11_RH_zonal_stats_EE_V17/Hybas06V17ee_export.csv...\n",
      "Copying gs://aqueduct30_v01/Y2017M09D11_RH_zonal_stats_EE_V17/IrrLinearWN_monthY2014M01V17ee_export.csv...\n",
      "Copying gs://aqueduct30_v01/Y2017M09D11_RH_zonal_stats_EE_V17/IrrLinearWN_monthY2014M02V17ee_export.csv...\n",
      "Copying gs://aqueduct30_v01/Y2017M09D11_RH_zonal_stats_EE_V17/IrrLinearWN_monthY2014M03V17ee_export.csv...\n",
      "- [4 files][  1.9 MiB/  1.9 MiB]                                                \n",
      "==> NOTE: You are performing a sequence of gsutil operations that may\n",
      "run significantly faster if you instead use gsutil -m -o ... Please\n",
      "see the -m section under \"gsutil help options\" for further information\n",
      "about when gsutil -m can be advantageous.\n",
      "\n",
      "Copying gs://aqueduct30_v01/Y2017M09D11_RH_zonal_stats_EE_V17/IrrLinearWN_monthY2014M04V17ee_export.csv...\n",
      "Copying gs://aqueduct30_v01/Y2017M09D11_RH_zonal_stats_EE_V17/IrrLinearWN_monthY2014M05V17ee_export.csv...\n",
      "Copying gs://aqueduct30_v01/Y2017M09D11_RH_zonal_stats_EE_V17/IrrLinearWN_monthY2014M06V17ee_export.csv...\n",
      "Copying gs://aqueduct30_v01/Y2017M09D11_RH_zonal_stats_EE_V17/IrrLinearWN_monthY2014M07V17ee_export.csv...\n",
      "Copying gs://aqueduct30_v01/Y2017M09D11_RH_zonal_stats_EE_V17/IrrLinearWN_monthY2014M08V17ee_export.csv...\n",
      "Copying gs://aqueduct30_v01/Y2017M09D11_RH_zonal_stats_EE_V17/IrrLinearWN_monthY2014M09V17ee_export.csv...\n",
      "Copying gs://aqueduct30_v01/Y2017M09D11_RH_zonal_stats_EE_V17/IrrLinearWN_monthY2014M10V17ee_export.csv...\n",
      "Copying gs://aqueduct30_v01/Y2017M09D11_RH_zonal_stats_EE_V17/IrrLinearWN_monthY2014M11V17ee_export.csv...\n",
      "Copying gs://aqueduct30_v01/Y2017M09D11_RH_zonal_stats_EE_V17/IrrLinearWN_monthY2014M12V17ee_export.csv...\n",
      "Copying gs://aqueduct30_v01/Y2017M09D11_RH_zonal_stats_EE_V17/IrrLinearWN_yearY2014V17ee_export.csv...\n",
      "Copying gs://aqueduct30_v01/Y2017M09D11_RH_zonal_stats_EE_V17/IrrLinearWW_monthY2014M01V17ee_export.csv...\n",
      "Copying gs://aqueduct30_v01/Y2017M09D11_RH_zonal_stats_EE_V17/IrrLinearWW_monthY2014M02V17ee_export.csv...\n",
      "Copying gs://aqueduct30_v01/Y2017M09D11_RH_zonal_stats_EE_V17/IrrLinearWW_monthY2014M03V17ee_export.csv...\n",
      "Copying gs://aqueduct30_v01/Y2017M09D11_RH_zonal_stats_EE_V17/IrrLinearWW_monthY2014M04V17ee_export.csv...\n",
      "Copying gs://aqueduct30_v01/Y2017M09D11_RH_zonal_stats_EE_V17/IrrLinearWW_monthY2014M05V17ee_export.csv...\n",
      "Copying gs://aqueduct30_v01/Y2017M09D11_RH_zonal_stats_EE_V17/IrrLinearWW_monthY2014M06V17ee_export.csv...\n",
      "Copying gs://aqueduct30_v01/Y2017M09D11_RH_zonal_stats_EE_V17/IrrLinearWW_monthY2014M07V17ee_export.csv...\n",
      "Copying gs://aqueduct30_v01/Y2017M09D11_RH_zonal_stats_EE_V17/IrrLinearWW_monthY2014M08V17ee_export.csv...\n",
      "Copying gs://aqueduct30_v01/Y2017M09D11_RH_zonal_stats_EE_V17/IrrLinearWW_monthY2014M09V17ee_export.csv...\n",
      "Copying gs://aqueduct30_v01/Y2017M09D11_RH_zonal_stats_EE_V17/IrrLinearWW_monthY2014M10V17ee_export.csv...\n",
      "Copying gs://aqueduct30_v01/Y2017M09D11_RH_zonal_stats_EE_V17/IrrLinearWW_monthY2014M11V17ee_export.csv...\n",
      "Copying gs://aqueduct30_v01/Y2017M09D11_RH_zonal_stats_EE_V17/IrrLinearWW_monthY2014M12V17ee_export.csv...\n",
      "Copying gs://aqueduct30_v01/Y2017M09D11_RH_zonal_stats_EE_V17/IrrLinearWW_yearY2014V17ee_export.csv...\n",
      "Copying gs://aqueduct30_v01/Y2017M09D11_RH_zonal_stats_EE_V17/PDomWN_monthY2014M01V17ee_export.csv...\n",
      "Copying gs://aqueduct30_v01/Y2017M09D11_RH_zonal_stats_EE_V17/PDomWN_monthY2014M02V17ee_export.csv...\n",
      "Copying gs://aqueduct30_v01/Y2017M09D11_RH_zonal_stats_EE_V17/PDomWN_monthY2014M03V17ee_export.csv...\n",
      "Copying gs://aqueduct30_v01/Y2017M09D11_RH_zonal_stats_EE_V17/PDomWN_monthY2014M04V17ee_export.csv...\n",
      "Copying gs://aqueduct30_v01/Y2017M09D11_RH_zonal_stats_EE_V17/PDomWN_monthY2014M05V17ee_export.csv...\n",
      "Copying gs://aqueduct30_v01/Y2017M09D11_RH_zonal_stats_EE_V17/PDomWN_monthY2014M06V17ee_export.csv...\n",
      "Copying gs://aqueduct30_v01/Y2017M09D11_RH_zonal_stats_EE_V17/PDomWN_monthY2014M07V17ee_export.csv...\n",
      "Copying gs://aqueduct30_v01/Y2017M09D11_RH_zonal_stats_EE_V17/PDomWN_monthY2014M08V17ee_export.csv...\n",
      "Copying gs://aqueduct30_v01/Y2017M09D11_RH_zonal_stats_EE_V17/PDomWN_monthY2014M09V17ee_export.csv...\n",
      "Copying gs://aqueduct30_v01/Y2017M09D11_RH_zonal_stats_EE_V17/PDomWN_monthY2014M10V17ee_export.csv...\n",
      "Copying gs://aqueduct30_v01/Y2017M09D11_RH_zonal_stats_EE_V17/PDomWN_monthY2014M11V17ee_export.csv...\n",
      "Copying gs://aqueduct30_v01/Y2017M09D11_RH_zonal_stats_EE_V17/PDomWN_monthY2014M12V17ee_export.csv...\n",
      "Copying gs://aqueduct30_v01/Y2017M09D11_RH_zonal_stats_EE_V17/PDomWN_yearY2014M12V17ee_export.csv...\n",
      "Copying gs://aqueduct30_v01/Y2017M09D11_RH_zonal_stats_EE_V17/PDomWW_monthY2014M01V17ee_export.csv...\n",
      "Copying gs://aqueduct30_v01/Y2017M09D11_RH_zonal_stats_EE_V17/PDomWW_monthY2014M02V17ee_export.csv...\n",
      "Copying gs://aqueduct30_v01/Y2017M09D11_RH_zonal_stats_EE_V17/PDomWW_monthY2014M03V17ee_export.csv...\n",
      "Copying gs://aqueduct30_v01/Y2017M09D11_RH_zonal_stats_EE_V17/PDomWW_monthY2014M04V17ee_export.csv...\n",
      "Copying gs://aqueduct30_v01/Y2017M09D11_RH_zonal_stats_EE_V17/PDomWW_monthY2014M05V17ee_export.csv...\n",
      "Copying gs://aqueduct30_v01/Y2017M09D11_RH_zonal_stats_EE_V17/PDomWW_monthY2014M06V17ee_export.csv...\n",
      "Copying gs://aqueduct30_v01/Y2017M09D11_RH_zonal_stats_EE_V17/PDomWW_monthY2014M07V17ee_export.csv...\n",
      "Copying gs://aqueduct30_v01/Y2017M09D11_RH_zonal_stats_EE_V17/PDomWW_monthY2014M08V17ee_export.csv...\n",
      "Copying gs://aqueduct30_v01/Y2017M09D11_RH_zonal_stats_EE_V17/PDomWW_monthY2014M09V17ee_export.csv...\n",
      "Copying gs://aqueduct30_v01/Y2017M09D11_RH_zonal_stats_EE_V17/PDomWW_monthY2014M10V17ee_export.csv...\n",
      "Copying gs://aqueduct30_v01/Y2017M09D11_RH_zonal_stats_EE_V17/PDomWW_monthY2014M11V17ee_export.csv...\n",
      "Copying gs://aqueduct30_v01/Y2017M09D11_RH_zonal_stats_EE_V17/PDomWW_monthY2014M12V17ee_export.csv...\n",
      "Copying gs://aqueduct30_v01/Y2017M09D11_RH_zonal_stats_EE_V17/PDomWW_yearY2014M12V17ee_export.csv...\n",
      "Copying gs://aqueduct30_v01/Y2017M09D11_RH_zonal_stats_EE_V17/PIndWN_monthY2014M01V17ee_export.csv...\n",
      "Copying gs://aqueduct30_v01/Y2017M09D11_RH_zonal_stats_EE_V17/PIndWN_monthY2014M02V17ee_export.csv...\n",
      "Copying gs://aqueduct30_v01/Y2017M09D11_RH_zonal_stats_EE_V17/PIndWN_monthY2014M03V17ee_export.csv...\n",
      "Copying gs://aqueduct30_v01/Y2017M09D11_RH_zonal_stats_EE_V17/PIndWN_monthY2014M04V17ee_export.csv...\n",
      "Copying gs://aqueduct30_v01/Y2017M09D11_RH_zonal_stats_EE_V17/PIndWN_monthY2014M05V17ee_export.csv...\n",
      "Copying gs://aqueduct30_v01/Y2017M09D11_RH_zonal_stats_EE_V17/PIndWN_monthY2014M06V17ee_export.csv...\n",
      "Copying gs://aqueduct30_v01/Y2017M09D11_RH_zonal_stats_EE_V17/PIndWN_monthY2014M07V17ee_export.csv...\n",
      "Copying gs://aqueduct30_v01/Y2017M09D11_RH_zonal_stats_EE_V17/PIndWN_monthY2014M08V17ee_export.csv...\n",
      "Copying gs://aqueduct30_v01/Y2017M09D11_RH_zonal_stats_EE_V17/PIndWN_monthY2014M09V17ee_export.csv...\n",
      "Copying gs://aqueduct30_v01/Y2017M09D11_RH_zonal_stats_EE_V17/PIndWN_monthY2014M10V17ee_export.csv...\n",
      "Copying gs://aqueduct30_v01/Y2017M09D11_RH_zonal_stats_EE_V17/PIndWN_monthY2014M11V17ee_export.csv...\n",
      "Copying gs://aqueduct30_v01/Y2017M09D11_RH_zonal_stats_EE_V17/PIndWN_monthY2014M12V17ee_export.csv...\n",
      "Copying gs://aqueduct30_v01/Y2017M09D11_RH_zonal_stats_EE_V17/PIndWN_yearY2014M12V17ee_export.csv...\n",
      "Copying gs://aqueduct30_v01/Y2017M09D11_RH_zonal_stats_EE_V17/PIndWW_monthY2014M01V17ee_export.csv...\n",
      "Copying gs://aqueduct30_v01/Y2017M09D11_RH_zonal_stats_EE_V17/PIndWW_monthY2014M02V17ee_export.csv...\n",
      "Copying gs://aqueduct30_v01/Y2017M09D11_RH_zonal_stats_EE_V17/PIndWW_monthY2014M03V17ee_export.csv...\n",
      "Copying gs://aqueduct30_v01/Y2017M09D11_RH_zonal_stats_EE_V17/PIndWW_monthY2014M04V17ee_export.csv...\n",
      "Copying gs://aqueduct30_v01/Y2017M09D11_RH_zonal_stats_EE_V17/PIndWW_monthY2014M05V17ee_export.csv...\n",
      "Copying gs://aqueduct30_v01/Y2017M09D11_RH_zonal_stats_EE_V17/PIndWW_monthY2014M06V17ee_export.csv...\n",
      "Copying gs://aqueduct30_v01/Y2017M09D11_RH_zonal_stats_EE_V17/PIndWW_monthY2014M07V17ee_export.csv...\n",
      "Copying gs://aqueduct30_v01/Y2017M09D11_RH_zonal_stats_EE_V17/PIndWW_monthY2014M08V17ee_export.csv...\n",
      "Copying gs://aqueduct30_v01/Y2017M09D11_RH_zonal_stats_EE_V17/PIndWW_monthY2014M09V17ee_export.csv...\n",
      "Copying gs://aqueduct30_v01/Y2017M09D11_RH_zonal_stats_EE_V17/PIndWW_monthY2014M10V17ee_export.csv...\n"
     ]
    },
    {
     "name": "stdout",
     "output_type": "stream",
     "text": [
      "Copying gs://aqueduct30_v01/Y2017M09D11_RH_zonal_stats_EE_V17/PIndWW_monthY2014M11V17ee_export.csv...\n",
      "Copying gs://aqueduct30_v01/Y2017M09D11_RH_zonal_stats_EE_V17/PIndWW_monthY2014M12V17ee_export.csv...\n",
      "Copying gs://aqueduct30_v01/Y2017M09D11_RH_zonal_stats_EE_V17/PIndWW_yearY2014M12V17ee_export.csv...\n",
      "Copying gs://aqueduct30_v01/Y2017M09D11_RH_zonal_stats_EE_V17/PIrrWN_monthY2014M01V17ee_export.csv...\n",
      "Copying gs://aqueduct30_v01/Y2017M09D11_RH_zonal_stats_EE_V17/PIrrWN_monthY2014M02V17ee_export.csv...\n",
      "Copying gs://aqueduct30_v01/Y2017M09D11_RH_zonal_stats_EE_V17/PIrrWN_monthY2014M03V17ee_export.csv...\n",
      "Copying gs://aqueduct30_v01/Y2017M09D11_RH_zonal_stats_EE_V17/PIrrWN_monthY2014M04V17ee_export.csv...\n",
      "Copying gs://aqueduct30_v01/Y2017M09D11_RH_zonal_stats_EE_V17/PIrrWN_monthY2014M05V17ee_export.csv...\n",
      "Copying gs://aqueduct30_v01/Y2017M09D11_RH_zonal_stats_EE_V17/PIrrWN_monthY2014M06V17ee_export.csv...\n",
      "Copying gs://aqueduct30_v01/Y2017M09D11_RH_zonal_stats_EE_V17/PIrrWN_monthY2014M07V17ee_export.csv...\n",
      "Copying gs://aqueduct30_v01/Y2017M09D11_RH_zonal_stats_EE_V17/PIrrWN_monthY2014M08V17ee_export.csv...\n",
      "Copying gs://aqueduct30_v01/Y2017M09D11_RH_zonal_stats_EE_V17/PIrrWN_monthY2014M09V17ee_export.csv...\n",
      "Copying gs://aqueduct30_v01/Y2017M09D11_RH_zonal_stats_EE_V17/PIrrWN_monthY2014M10V17ee_export.csv...\n",
      "Copying gs://aqueduct30_v01/Y2017M09D11_RH_zonal_stats_EE_V17/PIrrWN_monthY2014M11V17ee_export.csv...\n",
      "Copying gs://aqueduct30_v01/Y2017M09D11_RH_zonal_stats_EE_V17/PIrrWN_monthY2014M12V17ee_export.csv...\n",
      "Copying gs://aqueduct30_v01/Y2017M09D11_RH_zonal_stats_EE_V17/PIrrWN_yearY2014M12V17ee_export.csv...\n",
      "Copying gs://aqueduct30_v01/Y2017M09D11_RH_zonal_stats_EE_V17/PIrrWW_monthY2014M01V17ee_export.csv...\n",
      "Copying gs://aqueduct30_v01/Y2017M09D11_RH_zonal_stats_EE_V17/PIrrWW_monthY2014M02V17ee_export.csv...\n",
      "Copying gs://aqueduct30_v01/Y2017M09D11_RH_zonal_stats_EE_V17/PIrrWW_monthY2014M03V17ee_export.csv...\n",
      "Copying gs://aqueduct30_v01/Y2017M09D11_RH_zonal_stats_EE_V17/PIrrWW_monthY2014M04V17ee_export.csv...\n",
      "Copying gs://aqueduct30_v01/Y2017M09D11_RH_zonal_stats_EE_V17/PIrrWW_monthY2014M05V17ee_export.csv...\n",
      "Copying gs://aqueduct30_v01/Y2017M09D11_RH_zonal_stats_EE_V17/PIrrWW_monthY2014M06V17ee_export.csv...\n",
      "Copying gs://aqueduct30_v01/Y2017M09D11_RH_zonal_stats_EE_V17/PIrrWW_monthY2014M07V17ee_export.csv...\n",
      "Copying gs://aqueduct30_v01/Y2017M09D11_RH_zonal_stats_EE_V17/PIrrWW_monthY2014M08V17ee_export.csv...\n",
      "Copying gs://aqueduct30_v01/Y2017M09D11_RH_zonal_stats_EE_V17/PIrrWW_monthY2014M09V17ee_export.csv...\n",
      "Copying gs://aqueduct30_v01/Y2017M09D11_RH_zonal_stats_EE_V17/PIrrWW_monthY2014M10V17ee_export.csv...\n",
      "Copying gs://aqueduct30_v01/Y2017M09D11_RH_zonal_stats_EE_V17/PIrrWW_monthY2014M11V17ee_export.csv...\n",
      "Copying gs://aqueduct30_v01/Y2017M09D11_RH_zonal_stats_EE_V17/PIrrWW_monthY2014M12V17ee_export.csv...\n",
      "Copying gs://aqueduct30_v01/Y2017M09D11_RH_zonal_stats_EE_V17/PIrrWW_yearY2014M12V17ee_export.csv...\n",
      "Copying gs://aqueduct30_v01/Y2017M09D11_RH_zonal_stats_EE_V17/PLivWN_monthY2014M01V17ee_export.csv...\n",
      "Copying gs://aqueduct30_v01/Y2017M09D11_RH_zonal_stats_EE_V17/PLivWN_monthY2014M02V17ee_export.csv...\n",
      "Copying gs://aqueduct30_v01/Y2017M09D11_RH_zonal_stats_EE_V17/PLivWN_monthY2014M03V17ee_export.csv...\n",
      "Copying gs://aqueduct30_v01/Y2017M09D11_RH_zonal_stats_EE_V17/PLivWN_monthY2014M04V17ee_export.csv...\n",
      "Copying gs://aqueduct30_v01/Y2017M09D11_RH_zonal_stats_EE_V17/PLivWN_monthY2014M05V17ee_export.csv...\n",
      "Copying gs://aqueduct30_v01/Y2017M09D11_RH_zonal_stats_EE_V17/PLivWN_monthY2014M06V17ee_export.csv...\n",
      "Copying gs://aqueduct30_v01/Y2017M09D11_RH_zonal_stats_EE_V17/PLivWN_monthY2014M07V17ee_export.csv...\n",
      "Copying gs://aqueduct30_v01/Y2017M09D11_RH_zonal_stats_EE_V17/PLivWN_monthY2014M08V17ee_export.csv...\n",
      "Copying gs://aqueduct30_v01/Y2017M09D11_RH_zonal_stats_EE_V17/PLivWN_monthY2014M09V17ee_export.csv...\n",
      "Copying gs://aqueduct30_v01/Y2017M09D11_RH_zonal_stats_EE_V17/PLivWN_monthY2014M10V17ee_export.csv...\n",
      "Copying gs://aqueduct30_v01/Y2017M09D11_RH_zonal_stats_EE_V17/PLivWN_monthY2014M11V17ee_export.csv...\n",
      "Copying gs://aqueduct30_v01/Y2017M09D11_RH_zonal_stats_EE_V17/PLivWN_monthY2014M12V17ee_export.csv...\n",
      "Copying gs://aqueduct30_v01/Y2017M09D11_RH_zonal_stats_EE_V17/PLivWN_yearY2014M12V17ee_export.csv...\n",
      "Copying gs://aqueduct30_v01/Y2017M09D11_RH_zonal_stats_EE_V17/PLivWW_monthY2014M01V17ee_export.csv...\n",
      "Copying gs://aqueduct30_v01/Y2017M09D11_RH_zonal_stats_EE_V17/PLivWW_monthY2014M02V17ee_export.csv...\n",
      "Copying gs://aqueduct30_v01/Y2017M09D11_RH_zonal_stats_EE_V17/PLivWW_monthY2014M03V17ee_export.csv...\n",
      "Copying gs://aqueduct30_v01/Y2017M09D11_RH_zonal_stats_EE_V17/PLivWW_monthY2014M04V17ee_export.csv...\n",
      "Copying gs://aqueduct30_v01/Y2017M09D11_RH_zonal_stats_EE_V17/PLivWW_monthY2014M05V17ee_export.csv...\n",
      "Copying gs://aqueduct30_v01/Y2017M09D11_RH_zonal_stats_EE_V17/PLivWW_monthY2014M06V17ee_export.csv...\n",
      "Copying gs://aqueduct30_v01/Y2017M09D11_RH_zonal_stats_EE_V17/PLivWW_monthY2014M07V17ee_export.csv...\n",
      "Copying gs://aqueduct30_v01/Y2017M09D11_RH_zonal_stats_EE_V17/PLivWW_monthY2014M08V17ee_export.csv...\n",
      "Copying gs://aqueduct30_v01/Y2017M09D11_RH_zonal_stats_EE_V17/PLivWW_monthY2014M09V17ee_export.csv...\n",
      "Copying gs://aqueduct30_v01/Y2017M09D11_RH_zonal_stats_EE_V17/PLivWW_monthY2014M10V17ee_export.csv...\n",
      "Copying gs://aqueduct30_v01/Y2017M09D11_RH_zonal_stats_EE_V17/PLivWW_monthY2014M11V17ee_export.csv...\n",
      "Copying gs://aqueduct30_v01/Y2017M09D11_RH_zonal_stats_EE_V17/PLivWW_monthY2014M12V17ee_export.csv...\n",
      "Copying gs://aqueduct30_v01/Y2017M09D11_RH_zonal_stats_EE_V17/PLivWW_yearY2014M12V17ee_export.csv...\n",
      "Copying gs://aqueduct30_v01/Y2017M09D11_RH_zonal_stats_EE_V17/area_30s_m2V17ee_export.csv...\n",
      "Copying gs://aqueduct30_v01/Y2017M09D11_RH_zonal_stats_EE_V17/ones_30sV17ee_export.csv...\n",
      "Copying gs://aqueduct30_v01/Y2017M09D11_RH_zonal_stats_EE_V17/reducedmeanrunoff_month_Y1960Y2014M01V17ee_export.csv...\n",
      "Copying gs://aqueduct30_v01/Y2017M09D11_RH_zonal_stats_EE_V17/reducedmeanrunoff_month_Y1960Y2014M02V17ee_export.csv...\n",
      "Copying gs://aqueduct30_v01/Y2017M09D11_RH_zonal_stats_EE_V17/reducedmeanrunoff_month_Y1960Y2014M03V17ee_export.csv...\n",
      "Copying gs://aqueduct30_v01/Y2017M09D11_RH_zonal_stats_EE_V17/reducedmeanrunoff_month_Y1960Y2014M04V17ee_export.csv...\n",
      "Copying gs://aqueduct30_v01/Y2017M09D11_RH_zonal_stats_EE_V17/reducedmeanrunoff_month_Y1960Y2014M05V17ee_export.csv...\n",
      "Copying gs://aqueduct30_v01/Y2017M09D11_RH_zonal_stats_EE_V17/reducedmeanrunoff_month_Y1960Y2014M06V17ee_export.csv...\n",
      "Copying gs://aqueduct30_v01/Y2017M09D11_RH_zonal_stats_EE_V17/reducedmeanrunoff_month_Y1960Y2014M07V17ee_export.csv...\n",
      "Copying gs://aqueduct30_v01/Y2017M09D11_RH_zonal_stats_EE_V17/reducedmeanrunoff_month_Y1960Y2014M08V17ee_export.csv...\n",
      "Copying gs://aqueduct30_v01/Y2017M09D11_RH_zonal_stats_EE_V17/reducedmeanrunoff_month_Y1960Y2014M09V17ee_export.csv...\n",
      "Copying gs://aqueduct30_v01/Y2017M09D11_RH_zonal_stats_EE_V17/reducedmeanrunoff_month_Y1960Y2014M10V17ee_export.csv...\n",
      "Copying gs://aqueduct30_v01/Y2017M09D11_RH_zonal_stats_EE_V17/reducedmeanrunoff_month_Y1960Y2014M11V17ee_export.csv...\n",
      "Copying gs://aqueduct30_v01/Y2017M09D11_RH_zonal_stats_EE_V17/reducedmeanrunoff_month_Y1960Y2014M12V17ee_export.csv...\n",
      "Copying gs://aqueduct30_v01/Y2017M09D11_RH_zonal_stats_EE_V17/reducedmeanrunoff_year_Y1960Y2014V17ee_export.csv...\n",
      "Copying gs://aqueduct30_v01/Y2017M09D11_RH_zonal_stats_EE_V17/runoff_monthY2014M01V17ee_export.csv...\n",
      "Copying gs://aqueduct30_v01/Y2017M09D11_RH_zonal_stats_EE_V17/runoff_monthY2014M02V17ee_export.csv...\n",
      "Copying gs://aqueduct30_v01/Y2017M09D11_RH_zonal_stats_EE_V17/runoff_monthY2014M03V17ee_export.csv...\n",
      "Copying gs://aqueduct30_v01/Y2017M09D11_RH_zonal_stats_EE_V17/runoff_monthY2014M04V17ee_export.csv...\n",
      "Copying gs://aqueduct30_v01/Y2017M09D11_RH_zonal_stats_EE_V17/runoff_monthY2014M05V17ee_export.csv...\n",
      "Copying gs://aqueduct30_v01/Y2017M09D11_RH_zonal_stats_EE_V17/runoff_monthY2014M06V17ee_export.csv...\n",
      "Copying gs://aqueduct30_v01/Y2017M09D11_RH_zonal_stats_EE_V17/runoff_monthY2014M07V17ee_export.csv...\n",
      "Copying gs://aqueduct30_v01/Y2017M09D11_RH_zonal_stats_EE_V17/runoff_monthY2014M08V17ee_export.csv...\n"
     ]
    },
    {
     "name": "stdout",
     "output_type": "stream",
     "text": [
      "Copying gs://aqueduct30_v01/Y2017M09D11_RH_zonal_stats_EE_V17/runoff_monthY2014M09V17ee_export.csv...\n",
      "Copying gs://aqueduct30_v01/Y2017M09D11_RH_zonal_stats_EE_V17/runoff_monthY2014M10V17ee_export.csv...\n",
      "Copying gs://aqueduct30_v01/Y2017M09D11_RH_zonal_stats_EE_V17/runoff_monthY2014M11V17ee_export.csv...\n",
      "Copying gs://aqueduct30_v01/Y2017M09D11_RH_zonal_stats_EE_V17/runoff_monthY2014M12V17ee_export.csv...\n",
      "Copying gs://aqueduct30_v01/Y2017M09D11_RH_zonal_stats_EE_V17/runoff_yearY2014M12V17ee_export.csv...\n",
      "- [159 files][ 88.1 MiB/ 88.1 MiB]    2.3 MiB/s                                 \n",
      "==> NOTE: You are performing a sequence of gsutil operations that may\n",
      "run significantly faster if you instead use gsutil -m -o ... Please\n",
      "see the -m section under \"gsutil help options\" for further information\n",
      "about when gsutil -m can be advantageous.\n",
      "\n",
      "\n",
      "Operation completed over 159 objects/88.1 MiB.                                   \n"
     ]
    }
   ],
   "source": [
    "!gsutil cp -r {GCS_INPUT_PATH} {EC2_INPUT_PATH} "
   ]
  },
  {
   "cell_type": "code",
   "execution_count": 6,
   "metadata": {
    "collapsed": true
   },
   "outputs": [],
   "source": [
    "import pandas as pd\n",
    "import os\n",
    "import re"
   ]
  },
  {
   "cell_type": "code",
   "execution_count": 7,
   "metadata": {
    "collapsed": true
   },
   "outputs": [],
   "source": [
    "def createRegex(aList):\n",
    "    return '|'.join(aList)\n",
    "\n",
    "def prepareFile(oneFile):\n",
    "        trimFileName = oneFile[:-len(STRING_TRIM)]\n",
    "        d ={}\n",
    "        d[\"df\"] = pd.read_csv(os.path.join(folder,oneFile))\n",
    "        d[\"df\"] = prepareDf(d[\"df\"])\n",
    "        d[\"trimFileName\"] = trimFileName\n",
    "        return d         \n",
    "        \n",
    "\n",
    "def prepareDf(df):\n",
    "    for column in df.columns:\n",
    "        if re.search(\"PfafID\",column):\n",
    "            df2 = df.set_index(column)\n",
    "            df2 = df2.drop(DROP_COLUMNS,1)        \n",
    "            return df2\n",
    "        \n",
    "\n",
    "\n",
    "    \n",
    "    \n"
   ]
  },
  {
   "cell_type": "code",
   "execution_count": 8,
   "metadata": {
    "collapsed": true
   },
   "outputs": [],
   "source": [
    "folder = os.path.join(EC2_INPUT_PATH,\"Y2017M09D11_RH_zonal_stats_EE_V%0.2d/\" %(GCS_VERSION)) "
   ]
  },
  {
   "cell_type": "code",
   "execution_count": 9,
   "metadata": {
    "collapsed": true
   },
   "outputs": [],
   "source": [
    "files = os.listdir(folder)"
   ]
  },
  {
   "cell_type": "markdown",
   "metadata": {},
   "source": [
    "## Process Auxiliary Datasets (PfafID, Area, Ones)"
   ]
  },
  {
   "cell_type": "code",
   "execution_count": 10,
   "metadata": {
    "collapsed": true
   },
   "outputs": [],
   "source": [
    "dAux ={}\n",
    "for regex in AUXFILES:\n",
    "    r = re.compile(regex)\n",
    "    newList = filter(r.match, files)\n",
    "    oneFile = list(newList)[0]\n",
    "    dAux[regex] = prepareFile(oneFile)   "
   ]
  },
  {
   "cell_type": "code",
   "execution_count": 11,
   "metadata": {
    "collapsed": true
   },
   "outputs": [],
   "source": [
    "regex = createRegex(AUXFILES)"
   ]
  },
  {
   "cell_type": "code",
   "execution_count": 12,
   "metadata": {},
   "outputs": [
    {
     "name": "stdout",
     "output_type": "stream",
     "text": [
      "Hybas06|area_30s_m2|ones_30s\n"
     ]
    }
   ],
   "source": [
    "print(regex)"
   ]
  },
  {
   "cell_type": "code",
   "execution_count": 13,
   "metadata": {
    "collapsed": true
   },
   "outputs": [],
   "source": [
    "d ={}\n",
    "dAux ={}\n",
    "for oneFile in files: \n",
    "    trimFileName = oneFile[:-len(STRING_TRIM)]    \n",
    "    if not re.search(regex,oneFile):\n",
    "        d[trimFileName] = prepareFile(oneFile)\n",
    "        \n",
    "    elif re.search(regex,oneFile):\n",
    "        dAux[trimFileName] = prepareFile(oneFile)\n",
    "    \n",
    "    else:\n",
    "        print(\"Unrecognized file name, check STRING_TRIM variable\")\n",
    "        "
   ]
  },
  {
   "cell_type": "code",
   "execution_count": 14,
   "metadata": {
    "collapsed": true
   },
   "outputs": [],
   "source": [
    "dfLeft = dAux[AUXFILES[0]][\"df\"]"
   ]
  },
  {
   "cell_type": "markdown",
   "metadata": {},
   "source": [
    "# Adding area to shapes"
   ]
  },
  {
   "cell_type": "code",
   "execution_count": 15,
   "metadata": {
    "collapsed": true
   },
   "outputs": [],
   "source": [
    "dAux[AUXFILES[1]][\"df\"][\"total_%s\" %(AUXFILES[1])] = dAux[AUXFILES[1]][\"df\"][\"count_%s\" %(AUXFILES[1])] * dAux[AUXFILES[1]][\"df\"][\"mean_%s\" %(AUXFILES[1])]"
   ]
  },
  {
   "cell_type": "code",
   "execution_count": 16,
   "metadata": {
    "collapsed": true
   },
   "outputs": [],
   "source": [
    "dfMerge = dAux[AUXFILES[0]][\"df\"].merge(dAux[AUXFILES[1]][\"df\"],\n",
    "                       how=\"outer\",\n",
    "                       left_index=True,\n",
    "                       right_index=True,\n",
    "                       sort=True\n",
    "                      )"
   ]
  },
  {
   "cell_type": "code",
   "execution_count": 17,
   "metadata": {
    "collapsed": true
   },
   "outputs": [],
   "source": [
    "for key, value in d.items():\n",
    "    dfNew = value[\"df\"].copy()\n",
    "    # total new value = area in m^2 times mean flux \n",
    "    dfNew[\"total_volume_%s\" %(value[\"trimFileName\"])] = dAux[AUXFILES[1]][\"df\"][\"total_%s\" %(AUXFILES[1])] * value[\"df\"][\"mean_%s\" %(value[\"trimFileName\"])]\n",
    "    \n",
    "     \n",
    "    \n",
    "    dfMerge = dfMerge.merge(dfNew,\n",
    "                           how=\"outer\",\n",
    "                           left_index=True,\n",
    "                           right_index=True,\n",
    "                           sort=True                   \n",
    "                           )"
   ]
  },
  {
   "cell_type": "code",
   "execution_count": 18,
   "metadata": {},
   "outputs": [
    {
     "data": {
      "text/html": [
       "<div>\n",
       "<style>\n",
       "    .dataframe thead tr:only-child th {\n",
       "        text-align: right;\n",
       "    }\n",
       "\n",
       "    .dataframe thead th {\n",
       "        text-align: left;\n",
       "    }\n",
       "\n",
       "    .dataframe tbody tr th {\n",
       "        vertical-align: top;\n",
       "    }\n",
       "</style>\n",
       "<table border=\"1\" class=\"dataframe\">\n",
       "  <thead>\n",
       "    <tr style=\"text-align: right;\">\n",
       "      <th></th>\n",
       "      <th>count_Hybas06</th>\n",
       "      <th>mean_Hybas06</th>\n",
       "      <th>count_area_30s_m2</th>\n",
       "      <th>mean_area_30s_m2</th>\n",
       "      <th>total_area_30s_m2</th>\n",
       "      <th>count_runoff_monthY2014M09</th>\n",
       "      <th>mean_runoff_monthY2014M09</th>\n",
       "      <th>total_volume_runoff_monthY2014M09</th>\n",
       "      <th>count_PLivWN_monthY2014M08</th>\n",
       "      <th>mean_PLivWN_monthY2014M08</th>\n",
       "      <th>...</th>\n",
       "      <th>total_volume_PIrrWW_monthY2014M09</th>\n",
       "      <th>count_runoff_monthY2014M10</th>\n",
       "      <th>mean_runoff_monthY2014M10</th>\n",
       "      <th>total_volume_runoff_monthY2014M10</th>\n",
       "      <th>count_PIndWW_monthY2014M01</th>\n",
       "      <th>mean_PIndWW_monthY2014M01</th>\n",
       "      <th>total_volume_PIndWW_monthY2014M01</th>\n",
       "      <th>count_PLivWW_monthY2014M09</th>\n",
       "      <th>mean_PLivWW_monthY2014M09</th>\n",
       "      <th>total_volume_PLivWW_monthY2014M09</th>\n",
       "    </tr>\n",
       "    <tr>\n",
       "      <th>PfafID_Hybas06</th>\n",
       "      <th></th>\n",
       "      <th></th>\n",
       "      <th></th>\n",
       "      <th></th>\n",
       "      <th></th>\n",
       "      <th></th>\n",
       "      <th></th>\n",
       "      <th></th>\n",
       "      <th></th>\n",
       "      <th></th>\n",
       "      <th></th>\n",
       "      <th></th>\n",
       "      <th></th>\n",
       "      <th></th>\n",
       "      <th></th>\n",
       "      <th></th>\n",
       "      <th></th>\n",
       "      <th></th>\n",
       "      <th></th>\n",
       "      <th></th>\n",
       "      <th></th>\n",
       "    </tr>\n",
       "  </thead>\n",
       "  <tbody>\n",
       "    <tr>\n",
       "      <th>111011</th>\n",
       "      <td>2536</td>\n",
       "      <td>111011.0</td>\n",
       "      <td>2536</td>\n",
       "      <td>743658.186761</td>\n",
       "      <td>1.885917e+09</td>\n",
       "      <td>2479</td>\n",
       "      <td>-1.791564e-07</td>\n",
       "      <td>-337.874070</td>\n",
       "      <td>2536</td>\n",
       "      <td>1.392067e-07</td>\n",
       "      <td>...</td>\n",
       "      <td>347598.275922</td>\n",
       "      <td>2479</td>\n",
       "      <td>1.989458e-05</td>\n",
       "      <td>37519.523523</td>\n",
       "      <td>2536</td>\n",
       "      <td>0.002146</td>\n",
       "      <td>4.048026e+06</td>\n",
       "      <td>2536</td>\n",
       "      <td>1.366897e-07</td>\n",
       "      <td>257.785492</td>\n",
       "    </tr>\n",
       "    <tr>\n",
       "      <th>111012</th>\n",
       "      <td>3921</td>\n",
       "      <td>111012.0</td>\n",
       "      <td>3921</td>\n",
       "      <td>746186.462653</td>\n",
       "      <td>2.925797e+09</td>\n",
       "      <td>3914</td>\n",
       "      <td>-7.736314e-08</td>\n",
       "      <td>-226.348862</td>\n",
       "      <td>3921</td>\n",
       "      <td>6.749631e-07</td>\n",
       "      <td>...</td>\n",
       "      <td>0.000000</td>\n",
       "      <td>3914</td>\n",
       "      <td>5.720039e-06</td>\n",
       "      <td>16735.674093</td>\n",
       "      <td>3921</td>\n",
       "      <td>0.000229</td>\n",
       "      <td>6.688613e+05</td>\n",
       "      <td>3921</td>\n",
       "      <td>6.624970e-07</td>\n",
       "      <td>1938.331951</td>\n",
       "    </tr>\n",
       "    <tr>\n",
       "      <th>111013</th>\n",
       "      <td>1194</td>\n",
       "      <td>111013.0</td>\n",
       "      <td>1194</td>\n",
       "      <td>747422.836265</td>\n",
       "      <td>8.924229e+08</td>\n",
       "      <td>1141</td>\n",
       "      <td>-4.750628e-08</td>\n",
       "      <td>-42.395691</td>\n",
       "      <td>1194</td>\n",
       "      <td>5.224477e-08</td>\n",
       "      <td>...</td>\n",
       "      <td>0.000000</td>\n",
       "      <td>1141</td>\n",
       "      <td>4.924584e-06</td>\n",
       "      <td>4394.811805</td>\n",
       "      <td>1194</td>\n",
       "      <td>0.000694</td>\n",
       "      <td>6.191623e+05</td>\n",
       "      <td>1194</td>\n",
       "      <td>5.123168e-08</td>\n",
       "      <td>45.720323</td>\n",
       "    </tr>\n",
       "    <tr>\n",
       "      <th>111014</th>\n",
       "      <td>5605</td>\n",
       "      <td>111014.0</td>\n",
       "      <td>5605</td>\n",
       "      <td>750449.270450</td>\n",
       "      <td>4.206268e+09</td>\n",
       "      <td>5605</td>\n",
       "      <td>0.000000e+00</td>\n",
       "      <td>0.000000</td>\n",
       "      <td>5605</td>\n",
       "      <td>2.158286e-07</td>\n",
       "      <td>...</td>\n",
       "      <td>0.000000</td>\n",
       "      <td>5605</td>\n",
       "      <td>0.000000e+00</td>\n",
       "      <td>0.000000</td>\n",
       "      <td>5605</td>\n",
       "      <td>0.000018</td>\n",
       "      <td>7.558842e+04</td>\n",
       "      <td>5605</td>\n",
       "      <td>2.111498e-07</td>\n",
       "      <td>888.152682</td>\n",
       "    </tr>\n",
       "    <tr>\n",
       "      <th>111015</th>\n",
       "      <td>21873</td>\n",
       "      <td>111015.0</td>\n",
       "      <td>21873</td>\n",
       "      <td>758792.279231</td>\n",
       "      <td>1.659706e+10</td>\n",
       "      <td>21086</td>\n",
       "      <td>0.000000e+00</td>\n",
       "      <td>0.000000</td>\n",
       "      <td>21769</td>\n",
       "      <td>2.750456e-08</td>\n",
       "      <td>...</td>\n",
       "      <td>0.000000</td>\n",
       "      <td>21086</td>\n",
       "      <td>2.064860e-08</td>\n",
       "      <td>342.706117</td>\n",
       "      <td>21769</td>\n",
       "      <td>0.000541</td>\n",
       "      <td>8.983459e+06</td>\n",
       "      <td>21769</td>\n",
       "      <td>2.690531e-08</td>\n",
       "      <td>446.549220</td>\n",
       "    </tr>\n",
       "  </tbody>\n",
       "</table>\n",
       "<p>5 rows × 473 columns</p>\n",
       "</div>"
      ],
      "text/plain": [
       "                count_Hybas06  mean_Hybas06  count_area_30s_m2  \\\n",
       "PfafID_Hybas06                                                   \n",
       "111011                   2536      111011.0               2536   \n",
       "111012                   3921      111012.0               3921   \n",
       "111013                   1194      111013.0               1194   \n",
       "111014                   5605      111014.0               5605   \n",
       "111015                  21873      111015.0              21873   \n",
       "\n",
       "                mean_area_30s_m2  total_area_30s_m2  \\\n",
       "PfafID_Hybas06                                        \n",
       "111011             743658.186761       1.885917e+09   \n",
       "111012             746186.462653       2.925797e+09   \n",
       "111013             747422.836265       8.924229e+08   \n",
       "111014             750449.270450       4.206268e+09   \n",
       "111015             758792.279231       1.659706e+10   \n",
       "\n",
       "                count_runoff_monthY2014M09  mean_runoff_monthY2014M09  \\\n",
       "PfafID_Hybas06                                                          \n",
       "111011                                2479              -1.791564e-07   \n",
       "111012                                3914              -7.736314e-08   \n",
       "111013                                1141              -4.750628e-08   \n",
       "111014                                5605               0.000000e+00   \n",
       "111015                               21086               0.000000e+00   \n",
       "\n",
       "                total_volume_runoff_monthY2014M09  count_PLivWN_monthY2014M08  \\\n",
       "PfafID_Hybas06                                                                  \n",
       "111011                                -337.874070                        2536   \n",
       "111012                                -226.348862                        3921   \n",
       "111013                                 -42.395691                        1194   \n",
       "111014                                   0.000000                        5605   \n",
       "111015                                   0.000000                       21769   \n",
       "\n",
       "                mean_PLivWN_monthY2014M08                ...                  \\\n",
       "PfafID_Hybas06                                           ...                   \n",
       "111011                       1.392067e-07                ...                   \n",
       "111012                       6.749631e-07                ...                   \n",
       "111013                       5.224477e-08                ...                   \n",
       "111014                       2.158286e-07                ...                   \n",
       "111015                       2.750456e-08                ...                   \n",
       "\n",
       "                total_volume_PIrrWW_monthY2014M09  count_runoff_monthY2014M10  \\\n",
       "PfafID_Hybas06                                                                  \n",
       "111011                              347598.275922                        2479   \n",
       "111012                                   0.000000                        3914   \n",
       "111013                                   0.000000                        1141   \n",
       "111014                                   0.000000                        5605   \n",
       "111015                                   0.000000                       21086   \n",
       "\n",
       "                mean_runoff_monthY2014M10  total_volume_runoff_monthY2014M10  \\\n",
       "PfafID_Hybas06                                                                 \n",
       "111011                       1.989458e-05                       37519.523523   \n",
       "111012                       5.720039e-06                       16735.674093   \n",
       "111013                       4.924584e-06                        4394.811805   \n",
       "111014                       0.000000e+00                           0.000000   \n",
       "111015                       2.064860e-08                         342.706117   \n",
       "\n",
       "                count_PIndWW_monthY2014M01  mean_PIndWW_monthY2014M01  \\\n",
       "PfafID_Hybas06                                                          \n",
       "111011                                2536                   0.002146   \n",
       "111012                                3921                   0.000229   \n",
       "111013                                1194                   0.000694   \n",
       "111014                                5605                   0.000018   \n",
       "111015                               21769                   0.000541   \n",
       "\n",
       "                total_volume_PIndWW_monthY2014M01  count_PLivWW_monthY2014M09  \\\n",
       "PfafID_Hybas06                                                                  \n",
       "111011                               4.048026e+06                        2536   \n",
       "111012                               6.688613e+05                        3921   \n",
       "111013                               6.191623e+05                        1194   \n",
       "111014                               7.558842e+04                        5605   \n",
       "111015                               8.983459e+06                       21769   \n",
       "\n",
       "                mean_PLivWW_monthY2014M09  total_volume_PLivWW_monthY2014M09  \n",
       "PfafID_Hybas06                                                                \n",
       "111011                       1.366897e-07                         257.785492  \n",
       "111012                       6.624970e-07                        1938.331951  \n",
       "111013                       5.123168e-08                          45.720323  \n",
       "111014                       2.111498e-07                         888.152682  \n",
       "111015                       2.690531e-08                         446.549220  \n",
       "\n",
       "[5 rows x 473 columns]"
      ]
     },
     "execution_count": 18,
     "metadata": {},
     "output_type": "execute_result"
    }
   ],
   "source": [
    "dfMerge.head()"
   ]
  },
  {
   "cell_type": "code",
   "execution_count": 19,
   "metadata": {
    "collapsed": true
   },
   "outputs": [],
   "source": [
    "dfMerge.to_csv(os.path.join(EC2_OUTPUT_PATH,OUTPUTFILENAME+\".csv\"))"
   ]
  },
  {
   "cell_type": "code",
   "execution_count": 20,
   "metadata": {
    "collapsed": true
   },
   "outputs": [],
   "source": [
    "dfMerge.to_pickle(os.path.join(EC2_OUTPUT_PATH,OUTPUTFILENAME+\".pkl\"))"
   ]
  },
  {
   "cell_type": "code",
   "execution_count": 21,
   "metadata": {
    "collapsed": true
   },
   "outputs": [],
   "source": [
    "outputLocation = os.path.join(S3_OUTPUT_PATH,OUTPUTFILENAME)"
   ]
  },
  {
   "cell_type": "code",
   "execution_count": 22,
   "metadata": {},
   "outputs": [
    {
     "name": "stdout",
     "output_type": "stream",
     "text": [
      "upload: ../../../../data/Y2017M09D14_RH_merge_EE_results_V01/output/mergedZonalStatsEE_V18.pkl to s3://wri-projects/Aqueduct30/processData/Y2017M09D14_RH_merge_EE_results_V01/output/mergedZonalStatsEE_V18.pkl\n",
      "upload: ../../../../data/Y2017M09D14_RH_merge_EE_results_V01/output/mergedZonalStatsEE_V18.csv to s3://wri-projects/Aqueduct30/processData/Y2017M09D14_RH_merge_EE_results_V01/output/mergedZonalStatsEE_V18.csv\n"
     ]
    }
   ],
   "source": [
    "!aws s3 cp --recursive {EC2_OUTPUT_PATH} {S3_OUTPUT_PATH}"
   ]
  },
  {
   "cell_type": "code",
   "execution_count": 23,
   "metadata": {},
   "outputs": [
    {
     "name": "stdout",
     "output_type": "stream",
     "text": [
      "0:01:19.301912\n"
     ]
    }
   ],
   "source": [
    "end = datetime.datetime.now()\n",
    "elapsed = end - start\n",
    "print(elapsed)"
   ]
  },
  {
   "cell_type": "code",
   "execution_count": null,
   "metadata": {
    "collapsed": true
   },
   "outputs": [],
   "source": []
  }
 ],
 "metadata": {
  "kernelspec": {
   "display_name": "Python 35",
   "language": "python",
   "name": "python35"
  },
  "language_info": {
   "codemirror_mode": {
    "name": "ipython",
    "version": 3
   },
   "file_extension": ".py",
   "mimetype": "text/x-python",
   "name": "python",
   "nbconvert_exporter": "python",
   "pygments_lexer": "ipython3",
   "version": "3.5.4"
  }
 },
 "nbformat": 4,
 "nbformat_minor": 2
}
