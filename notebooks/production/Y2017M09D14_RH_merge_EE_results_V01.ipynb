{
 "cells": [
  {
   "cell_type": "markdown",
   "metadata": {},
   "source": [
    "# Calculate average PCRGlobWB supply using EE\n",
    "\n",
    "* Purpose of script: This script will join the csv tables from GCS into one file using pandas\n",
    "* Author: Rutger Hofste\n",
    "* Kernel used: python35\n",
    "* Date created: 20170914"
   ]
  },
  {
   "cell_type": "code",
   "execution_count": 1,
   "metadata": {},
   "outputs": [
    {
     "name": "stdout",
     "output_type": "stream",
     "text": [
      "Y2017M09D14 UTC 19:40\n"
     ]
    }
   ],
   "source": [
    "import time\n",
    "dateString = time.strftime(\"Y%YM%mD%d\")\n",
    "timeString = time.strftime(\"UTC %H:%M\")\n",
    "print(dateString,timeString)"
   ]
  },
  {
   "cell_type": "code",
   "execution_count": 64,
   "metadata": {},
   "outputs": [],
   "source": [
    "GCS_INPUT_PATH = \"gs://aqueduct30_v01/Y2017M09D11_RH_zonal_stats_EE_V15/\"\n",
    "EC2_INPUT_PATH = \"/volumes/data/Y2017M09D14_RH_merge_EE_results_V01/input\"\n",
    "EC2_OUTPUT_PATH = \"/volumes/data/Y2017M09D14_RH_merge_EE_results_V01/output\"\n",
    "\n",
    "STRING_TRIM = \"V15ee_export.csv\"\n",
    "# e.g. IrrLinearWW_monthY2014M12V15ee_export.csv -> IrrLinearWW_monthY2014M12\n",
    "\n",
    "#Aux files \n",
    "AUXFILES = [\"Hybas06\",\n",
    "            \"area_30s_m2\",\n",
    "            \"ones_30s\"\n",
    "           ]\n",
    "\n",
    "DROP_COLUMNS = [\".geo\",\"system:index\"]\n",
    "\n",
    "\n"
   ]
  },
  {
   "cell_type": "code",
   "execution_count": 65,
   "metadata": {
    "collapsed": true
   },
   "outputs": [],
   "source": [
    "!mkdir -p {EC2_INPUT_PATH}\n",
    "!mkdir -p {EC2_OUTPUT_PATH}"
   ]
  },
  {
   "cell_type": "code",
   "execution_count": 66,
   "metadata": {},
   "outputs": [],
   "source": [
    "#!gsutil cp -r {GCS_INPUT_PATH} {EC2_INPUT_PATH} "
   ]
  },
  {
   "cell_type": "code",
   "execution_count": null,
   "metadata": {
    "collapsed": true
   },
   "outputs": [],
   "source": []
  },
  {
   "cell_type": "code",
   "execution_count": 67,
   "metadata": {
    "collapsed": true
   },
   "outputs": [],
   "source": [
    "import pandas as pd\n",
    "import os\n",
    "import re"
   ]
  },
  {
   "cell_type": "code",
   "execution_count": 81,
   "metadata": {},
   "outputs": [],
   "source": [
    "def createRegex(aList):\n",
    "    return '|'.join(aList)\n",
    "\n",
    "def prepareFile(oneFile):\n",
    "        trimFileName = oneFile[:-len(STRING_TRIM)]\n",
    "        d ={}\n",
    "        d[\"df\"] = pd.read_csv(os.path.join(folder,oneFile))\n",
    "        d[\"df\"] = prepareDf(d[\"df\"])\n",
    "        d[\"trimFileName\"] = trimFileName\n",
    "        return d\n",
    "        \n",
    "\n",
    "        \n",
    "        \n",
    "\n",
    "def prepareDf(df):\n",
    "    for column in df.columns:\n",
    "        if re.search(\"PfafID\",column):\n",
    "            df2 = df.set_index(column)\n",
    "            df2 = df2.drop(DROP_COLUMNS,1)\n",
    "            \n",
    "            return df2\n"
   ]
  },
  {
   "cell_type": "code",
   "execution_count": 82,
   "metadata": {
    "collapsed": true
   },
   "outputs": [],
   "source": [
    "folder = os.path.join(EC2_INPUT_PATH,\"Y2017M09D11_RH_zonal_stats_EE_V15/\")"
   ]
  },
  {
   "cell_type": "code",
   "execution_count": 83,
   "metadata": {
    "collapsed": true
   },
   "outputs": [],
   "source": [
    "files = os.listdir(folder)"
   ]
  },
  {
   "cell_type": "markdown",
   "metadata": {},
   "source": [
    "## Process Auxiliary Datasets (PfafID, Area, Ones)"
   ]
  },
  {
   "cell_type": "code",
   "execution_count": 84,
   "metadata": {},
   "outputs": [],
   "source": [
    "dAux ={}\n",
    "for regex in AUXFILES:\n",
    "    r = re.compile(regex)\n",
    "    newList = filter(r.match, files)\n",
    "    oneFile = list(newList)[0]\n",
    "    dAux[regex] = prepareFile(oneFile)   "
   ]
  },
  {
   "cell_type": "code",
   "execution_count": 85,
   "metadata": {},
   "outputs": [],
   "source": [
    "regex = createRegex(AUXFILES)"
   ]
  },
  {
   "cell_type": "code",
   "execution_count": 86,
   "metadata": {},
   "outputs": [
    {
     "name": "stdout",
     "output_type": "stream",
     "text": [
      "Hybas06|area_30s_m2|ones_30s\n"
     ]
    }
   ],
   "source": [
    "print(regex)"
   ]
  },
  {
   "cell_type": "code",
   "execution_count": 88,
   "metadata": {},
   "outputs": [],
   "source": [
    "d ={}\n",
    "dAux ={}\n",
    "for oneFile in files: \n",
    "    trimFileName = oneFile[:-len(STRING_TRIM)]    \n",
    "    if not re.search(regex,oneFile):\n",
    "        d[trimFileName] = prepareFile(oneFile)\n",
    "        \n",
    "    elif re.search(regex,oneFile):\n",
    "        dAux[trimFileName] = prepareFile(oneFile)\n",
    "    \n",
    "    else:\n",
    "        print(\"Unrecognized file name, check STRING_TRIM variable\")\n",
    "        "
   ]
  },
  {
   "cell_type": "code",
   "execution_count": 98,
   "metadata": {},
   "outputs": [],
   "source": [
    "dfLeft = dAux[\"Hybas06\"][\"df\"]"
   ]
  },
  {
   "cell_type": "code",
   "execution_count": 99,
   "metadata": {},
   "outputs": [],
   "source": [
    "dfRight = d[\"IrrLinearWN_monthY2014M01\"][\"df\"]"
   ]
  },
  {
   "cell_type": "code",
   "execution_count": 103,
   "metadata": {},
   "outputs": [],
   "source": [
    "dfMerge = dfLeft.merge(dfRight,\n",
    "                       how=\"outer\",\n",
    "                       left_index=True,\n",
    "                       right_index=True,\n",
    "                       sort=True\n",
    "                      )"
   ]
  },
  {
   "cell_type": "code",
   "execution_count": 104,
   "metadata": {},
   "outputs": [
    {
     "data": {
      "text/html": [
       "<div>\n",
       "<style>\n",
       "    .dataframe thead tr:only-child th {\n",
       "        text-align: right;\n",
       "    }\n",
       "\n",
       "    .dataframe thead th {\n",
       "        text-align: left;\n",
       "    }\n",
       "\n",
       "    .dataframe tbody tr th {\n",
       "        vertical-align: top;\n",
       "    }\n",
       "</style>\n",
       "<table border=\"1\" class=\"dataframe\">\n",
       "  <thead>\n",
       "    <tr style=\"text-align: right;\">\n",
       "      <th></th>\n",
       "      <th>count_Hybas06</th>\n",
       "      <th>mean_Hybas06</th>\n",
       "      <th>count_IrrLinearWN_monthY2014M01</th>\n",
       "      <th>mean_IrrLinearWN_monthY2014M01</th>\n",
       "    </tr>\n",
       "    <tr>\n",
       "      <th>PfafID_Hybas06</th>\n",
       "      <th></th>\n",
       "      <th></th>\n",
       "      <th></th>\n",
       "      <th></th>\n",
       "    </tr>\n",
       "  </thead>\n",
       "  <tbody>\n",
       "    <tr>\n",
       "      <th>111011</th>\n",
       "      <td>2536</td>\n",
       "      <td>111011.0</td>\n",
       "      <td>2536</td>\n",
       "      <td>0.00003</td>\n",
       "    </tr>\n",
       "    <tr>\n",
       "      <th>111012</th>\n",
       "      <td>3921</td>\n",
       "      <td>111012.0</td>\n",
       "      <td>3921</td>\n",
       "      <td>0.00000</td>\n",
       "    </tr>\n",
       "    <tr>\n",
       "      <th>111013</th>\n",
       "      <td>1194</td>\n",
       "      <td>111013.0</td>\n",
       "      <td>1194</td>\n",
       "      <td>0.00000</td>\n",
       "    </tr>\n",
       "    <tr>\n",
       "      <th>111014</th>\n",
       "      <td>5605</td>\n",
       "      <td>111014.0</td>\n",
       "      <td>5605</td>\n",
       "      <td>0.00000</td>\n",
       "    </tr>\n",
       "    <tr>\n",
       "      <th>111015</th>\n",
       "      <td>21873</td>\n",
       "      <td>111015.0</td>\n",
       "      <td>21769</td>\n",
       "      <td>0.00000</td>\n",
       "    </tr>\n",
       "  </tbody>\n",
       "</table>\n",
       "</div>"
      ],
      "text/plain": [
       "                count_Hybas06  mean_Hybas06  count_IrrLinearWN_monthY2014M01  \\\n",
       "PfafID_Hybas06                                                                 \n",
       "111011                   2536      111011.0                             2536   \n",
       "111012                   3921      111012.0                             3921   \n",
       "111013                   1194      111013.0                             1194   \n",
       "111014                   5605      111014.0                             5605   \n",
       "111015                  21873      111015.0                            21769   \n",
       "\n",
       "                mean_IrrLinearWN_monthY2014M01  \n",
       "PfafID_Hybas06                                  \n",
       "111011                                 0.00003  \n",
       "111012                                 0.00000  \n",
       "111013                                 0.00000  \n",
       "111014                                 0.00000  \n",
       "111015                                 0.00000  "
      ]
     },
     "execution_count": 104,
     "metadata": {},
     "output_type": "execute_result"
    }
   ],
   "source": [
    "dfMerge.head()"
   ]
  },
  {
   "cell_type": "code",
   "execution_count": null,
   "metadata": {
    "collapsed": true
   },
   "outputs": [],
   "source": []
  }
 ],
 "metadata": {
  "kernelspec": {
   "display_name": "Python 35",
   "language": "python",
   "name": "python35"
  },
  "language_info": {
   "codemirror_mode": {
    "name": "ipython",
    "version": 3
   },
   "file_extension": ".py",
   "mimetype": "text/x-python",
   "name": "python",
   "nbconvert_exporter": "python",
   "pygments_lexer": "ipython3",
   "version": "3.5.4"
  }
 },
 "nbformat": 4,
 "nbformat_minor": 2
}
