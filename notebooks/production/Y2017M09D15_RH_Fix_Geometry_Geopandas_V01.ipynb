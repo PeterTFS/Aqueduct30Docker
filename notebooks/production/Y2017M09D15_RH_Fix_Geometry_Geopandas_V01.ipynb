{
 "cells": [
  {
   "cell_type": "markdown",
   "metadata": {},
   "source": [
    "### Fix self intersecting geometry using geopandas\n",
    "\n",
    "* Purpose of script: Create a buffer of 0 to ensure valid geometry\n",
    "* Author: Rutger Hofste\n",
    "* Kernel used: python35\n",
    "* Date created: 20170915"
   ]
  },
  {
   "cell_type": "code",
   "execution_count": 1,
   "metadata": {},
   "outputs": [
    {
     "name": "stdout",
     "output_type": "stream",
     "text": [
      "Y2017M09D15 UTC 16:14\n"
     ]
    }
   ],
   "source": [
    "import time\n",
    "dateString = time.strftime(\"Y%YM%mD%d\")\n",
    "timeString = time.strftime(\"UTC %H:%M\")\n",
    "print(dateString,timeString)"
   ]
  },
  {
   "cell_type": "code",
   "execution_count": 2,
   "metadata": {
    "collapsed": true
   },
   "outputs": [],
   "source": [
    "EC2_INPUT_PATH = \"/volumes/data/Y2017M09D15_RH_Fix_Geometry_Geopandas_V01/input/\"\n",
    "EC2_OUTPUT_PATH = \"/volumes/data/Y2017M09D15_RH_Fix_Geometry_Geopandas_V01/output/\"\n",
    "\n",
    "S3_INPUT_PATH = \"s3://wri-projects/Aqueduct30/processData/Y2017M08D29_RH_Merge_FAONames_Upstream_V01/output/\"\n",
    "S3_OUTPUT_PATH = \"s3://wri-projects/Aqueduct30/processData/Y2017M09D15_RH_Fix_Geometry_Geopandas_V01/output/\"\n",
    "\n",
    "VERSION = 11\n",
    "\n",
    "INPUT_FILE_NAME = \"hybas_lev06_v1c_merged_fiona_upstream_downstream_FAO_V01\"\n",
    "OUTPUT_FILE_NAME = \"hybas_lev06_v1c_merged_fiona_upstream_downstream_FAO_valid_V%0.2d\" %(VERSION)\n",
    "\n",
    "BUFFERDIST = 0\n",
    "RESOLUTION = 1\n"
   ]
  },
  {
   "cell_type": "code",
   "execution_count": 3,
   "metadata": {},
   "outputs": [],
   "source": [
    "!rm -r {EC2_INPUT_PATH}\n",
    "!rm -r {EC2_OUTPUT_PATH}\n",
    "\n",
    "!mkdir -p {EC2_INPUT_PATH}\n",
    "!mkdir -p {EC2_OUTPUT_PATH}"
   ]
  },
  {
   "cell_type": "code",
   "execution_count": 4,
   "metadata": {},
   "outputs": [
    {
     "name": "stdout",
     "output_type": "stream",
     "text": [
      "download: s3://wri-projects/Aqueduct30/processData/Y2017M08D29_RH_Merge_FAONames_Upstream_V01/output/hybas_lev06_v1c_merged_fiona_upstream_downstream_FAO_V01.cpg to ../../../../data/Y2017M09D15_RH_Fix_Geometry_Geopandas_V01/input/hybas_lev06_v1c_merged_fiona_upstream_downstream_FAO_V01.cpg\n",
      "download: s3://wri-projects/Aqueduct30/processData/Y2017M08D29_RH_Merge_FAONames_Upstream_V01/output/hybas_lev06_v1c_merged_fiona_upstream_downstream_FAO_V01.prj to ../../../../data/Y2017M09D15_RH_Fix_Geometry_Geopandas_V01/input/hybas_lev06_v1c_merged_fiona_upstream_downstream_FAO_V01.prj\n",
      "download: s3://wri-projects/Aqueduct30/processData/Y2017M08D29_RH_Merge_FAONames_Upstream_V01/output/hybas_lev06_v1c_merged_fiona_upstream_downstream_FAO_V01.dbf to ../../../../data/Y2017M09D15_RH_Fix_Geometry_Geopandas_V01/input/hybas_lev06_v1c_merged_fiona_upstream_downstream_FAO_V01.dbf\n",
      "download: s3://wri-projects/Aqueduct30/processData/Y2017M08D29_RH_Merge_FAONames_Upstream_V01/output/hybas_lev06_v1c_merged_fiona_upstream_downstream_FAO_V01.shx to ../../../../data/Y2017M09D15_RH_Fix_Geometry_Geopandas_V01/input/hybas_lev06_v1c_merged_fiona_upstream_downstream_FAO_V01.shx\n",
      "download: s3://wri-projects/Aqueduct30/processData/Y2017M08D29_RH_Merge_FAONames_Upstream_V01/output/hybas_lev06_v1c_merged_fiona_upstream_downstream_FAO_V01.csv to ../../../../data/Y2017M09D15_RH_Fix_Geometry_Geopandas_V01/input/hybas_lev06_v1c_merged_fiona_upstream_downstream_FAO_V01.csv\n",
      "download: s3://wri-projects/Aqueduct30/processData/Y2017M08D29_RH_Merge_FAONames_Upstream_V01/output/hybas_lev06_v1c_merged_fiona_upstream_downstream_FAO_V01.shp to ../../../../data/Y2017M09D15_RH_Fix_Geometry_Geopandas_V01/input/hybas_lev06_v1c_merged_fiona_upstream_downstream_FAO_V01.shp\n"
     ]
    }
   ],
   "source": [
    "!aws s3 cp {S3_INPUT_PATH} {EC2_INPUT_PATH} --recursive "
   ]
  },
  {
   "cell_type": "code",
   "execution_count": 5,
   "metadata": {
    "collapsed": true
   },
   "outputs": [],
   "source": [
    "import os\n",
    "if 'GDAL_DATA' not in os.environ:\n",
    "    os.environ['GDAL_DATA'] = r'/usr/share/gdal/2.1'\n",
    "from osgeo import gdal,ogr,osr\n",
    "'GDAL_DATA' in os.environ\n",
    "# If false, the GDAL_DATA variable is set incorrectly. You need this variable to obtain the spatial reference\n",
    "import pandas as pd\n",
    "import geopandas as gpd\n",
    "import matplotlib.pyplot as plt\n",
    "import time\n",
    "%matplotlib notebook"
   ]
  },
  {
   "cell_type": "code",
   "execution_count": 6,
   "metadata": {},
   "outputs": [],
   "source": [
    "csvInputPath = os.path.join(EC2_INPUT_PATH,INPUT_FILE_NAME+\".csv\")\n",
    "csvOutputPath = os.path.join(EC2_OUTPUT_PATH,OUTPUT_FILE_NAME+\".csv\")"
   ]
  },
  {
   "cell_type": "code",
   "execution_count": 7,
   "metadata": {
    "collapsed": true
   },
   "outputs": [],
   "source": [
    "!cp {csvInputPath} {csvOutputPath}"
   ]
  },
  {
   "cell_type": "code",
   "execution_count": null,
   "metadata": {
    "collapsed": true
   },
   "outputs": [],
   "source": [
    "INPUTSHP = os.path.join(EC2_INPUT_PATH,INPUT_FILE_NAME+\".shp\")\n",
    "OUTPUTSHP = os.path.join(EC2_OUTPUT_PATH,OUTPUT_FILE_NAME+\".shp\")\n",
    "\n",
    "# This function can be optimized in the future by using: https://gis.stackexchange.com/questions/253224/geopandas-buffer-using-geodataframe-while-maintaining-the-dataframe\n",
    "def buffer(INPUTSHP,BUFFERDIST,RESOLUTION,OUTPUTSHP):\n",
    "    #INPUTSHP path to shapefile\n",
    "    #INDEX name of index column, can be set to None if you want geopandas to create a new index column. Index must be unique\n",
    "    #BUFFERDIST buffer distance in degrees,can also be negative\n",
    "    #RESOLUTION number of points per quarter circle. See shapely / geopandas docs for documentation\n",
    "    #OUTPUTSHP path to output shapefile\n",
    "    print(\"1/3 Reading file: \", INPUTSHP)\n",
    "    gdf =  gpd.read_file(INPUTSHP)\n",
    "    try:\n",
    "        gdf = gdf.set_index(INDEX)\n",
    "        gdf['index_copy'] = gdf.index\n",
    "        \n",
    "    except:\n",
    "        gdf['index1'] = gdf.index\n",
    "        gdf['index_copy'] = gdf['index1']\n",
    "        \n",
    "    dfIn = gdf\n",
    "    dfIn = dfIn.drop('geometry',1)\n",
    "    print(\"2/3 Creating buffer\")\n",
    "    gsBuffer = gdf['geometry'].buffer(BUFFERDIST,resolution=RESOLUTION)\n",
    "    gdfBuffer =gpd.GeoDataFrame(geometry=gsBuffer)\n",
    "    gdfBuffer['index_copy'] = gdfBuffer.index\n",
    "    gsArea = gdfBuffer.geometry.area\n",
    "    dfArea = pd.DataFrame(gsArea)\n",
    "    dfArea.columns = ['area']\n",
    "    dfArea['index_copy'] = dfArea.index\n",
    "    dfValidArea = dfArea.loc[dfArea['area'] > 0]\n",
    "    dfInValidArea = dfArea.loc[dfArea['area'] <= 0]\n",
    "    gdfTemp = gdfBuffer.merge(dfValidArea,how=\"inner\",on=\"index_copy\")\n",
    "    gdfOut = gdfTemp.merge(dfIn,how=\"left\",on=\"index_copy\")\n",
    "    gdfOut = gdfOut.set_index(\"index_copy\")\n",
    "    gdfOut = gdfOut.drop(\"area\",1)\n",
    "    gdfOut = gdfOut.drop(\"index1\",1)\n",
    "    gdfOut = gdfOut.dissolve(by='PFAF_ID')\n",
    "    \n",
    "    print(\"3/3 Writing output\")\n",
    "    gdfOut.to_file(OUTPUTSHP)\n",
    "    print(\"file saved to: \",OUTPUTSHP)    \n",
    "    return dfInValidArea  "
   ]
  },
  {
   "cell_type": "code",
   "execution_count": null,
   "metadata": {},
   "outputs": [
    {
     "name": "stdout",
     "output_type": "stream",
     "text": [
      "1/3 Reading file:  /volumes/data/Y2017M09D15_RH_Fix_Geometry_Geopandas_V01/input/hybas_lev06_v1c_merged_fiona_upstream_downstream_FAO_V01.shp\n"
     ]
    }
   ],
   "source": [
    "dfInValidArea = buffer(INPUTSHP,BUFFERDIST,RESOLUTION,OUTPUTSHP)"
   ]
  },
  {
   "cell_type": "code",
   "execution_count": null,
   "metadata": {},
   "outputs": [],
   "source": [
    "!aws s3 cp {EC2_OUTPUT_PATH} {S3_OUTPUT_PATH} --recursive --quiet"
   ]
  },
  {
   "cell_type": "code",
   "execution_count": null,
   "metadata": {
    "collapsed": true
   },
   "outputs": [],
   "source": []
  }
 ],
 "metadata": {
  "kernelspec": {
   "display_name": "Python 35",
   "language": "python",
   "name": "python35"
  },
  "language_info": {
   "codemirror_mode": {
    "name": "ipython",
    "version": 3
   },
   "file_extension": ".py",
   "mimetype": "text/x-python",
   "name": "python",
   "nbconvert_exporter": "python",
   "pygments_lexer": "ipython3",
   "version": "3.5.4"
  }
 },
 "nbformat": 4,
 "nbformat_minor": 2
}
