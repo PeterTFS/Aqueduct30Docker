{
 "cells": [
  {
   "cell_type": "markdown",
   "metadata": {},
   "source": [
    "### Download PcrGlobWB data to instance\n",
    "\n",
    "* Purpose of script: This notebook will download the data from S3 to the EC2 instance \n",
    "* Author: Rutger Hofste\n",
    "* Kernel used: python36\n",
    "* Date created: 20170731\n",
    "\n",
    "In this notebook we will copy the data for the first couple of steps from WRI's Amazon S3 Bucket. The data is large i.e. **40GB** so a good excuse to drink a coffee. The output in Jupyter per file is suppressed so you will only see a result after the file has been donwloaded. You can also run this command in your terminal and see the process per file"
   ]
  },
  {
   "cell_type": "markdown",
   "metadata": {},
   "source": [
    "Before you run this script, make sure you configure aws by running (in your terminal): `aws configure`"
   ]
  },
  {
   "cell_type": "markdown",
   "metadata": {},
   "source": [
    "Running the following command will take a couple of minutes. it will copy the data (several GBs) from S3 to the EC2 instance."
   ]
  },
  {
   "cell_type": "code",
   "execution_count": 1,
   "metadata": {},
   "outputs": [
    {
     "name": "stdout",
     "output_type": "stream",
     "text": [
      "ls: cannot access '/volumes/data/PCRGlobWB20V01/': No such file or directory\r\n"
     ]
    }
   ],
   "source": [
    "!ls /volumes/data/PCRGlobWB20V01/"
   ]
  },
  {
   "cell_type": "markdown",
   "metadata": {},
   "source": [
    "Total number of files in folder"
   ]
  },
  {
   "cell_type": "code",
   "execution_count": 2,
   "metadata": {},
   "outputs": [
    {
     "name": "stdout",
     "output_type": "stream",
     "text": [
      "find: '/volumes/data/PCRGlobWB20V01/': No such file or directory\r\n",
      "0\r\n"
     ]
    }
   ],
   "source": [
    "!find /volumes/data/PCRGlobWB20V01/ -type f | wc -l"
   ]
  },
  {
   "cell_type": "markdown",
   "metadata": {},
   "source": [
    "---------ONLY RUN IF YOU WANT TO DELETE FILES IN FOLDER /volumes/data/PCRGlobWB20V01/ ON YOUR INSTANCE ------------"
   ]
  },
  {
   "cell_type": "code",
   "execution_count": 3,
   "metadata": {},
   "outputs": [
    {
     "name": "stdout",
     "output_type": "stream",
     "text": [
      "rm: cannot remove '/volumes/data/PCRGlobWB20V01/': No such file or directory\r\n"
     ]
    }
   ],
   "source": [
    "#!rm -r /volumes/data/PCRGlobWB20V01/"
   ]
  },
  {
   "cell_type": "markdown",
   "metadata": {},
   "source": [
    "-----------------------------------------End danger zone------------------------------------------------------------------\n",
    "\n",
    "\n",
    "\n",
    "\n"
   ]
  },
  {
   "cell_type": "markdown",
   "metadata": {},
   "source": [
    "Grab a coffee before you run the following command. This will copy the files from S3 to your EC2 instance. "
   ]
  },
  {
   "cell_type": "code",
   "execution_count": 4,
   "metadata": {},
   "outputs": [
    {
     "name": "stdout",
     "output_type": "stream",
     "text": [
      "download: s3://wri-projects/Aqueduct30/processData/01PCRGlobWBV01/global_historical_PDomWW_year_millionm3_5min_1960_2014.nc4 to ../../../../data/PCRGlobWB20V01/global_historical_PDomWW_year_millionm3_5min_1960_2014.nc4\n",
      "download: s3://wri-projects/Aqueduct30/processData/01PCRGlobWBV01/global_historical_PDomUse_year_millionm3_5min_1960_2014.nc4 to ../../../../data/PCRGlobWB20V01/global_historical_PDomUse_year_millionm3_5min_1960_2014.nc4\n",
      "download: s3://wri-projects/Aqueduct30/processData/01PCRGlobWBV01/global_historical_PIndUse_year_millionm3_5min_1960_2014.nc4 to ../../../../data/PCRGlobWB20V01/global_historical_PIndUse_year_millionm3_5min_1960_2014.nc4\n",
      "download: s3://wri-projects/Aqueduct30/processData/01PCRGlobWBV01/global_historical_PIndWW_year_millionm3_5min_1960_2014.nc4 to ../../../../data/PCRGlobWB20V01/global_historical_PIndWW_year_millionm3_5min_1960_2014.nc4\n",
      "download: s3://wri-projects/Aqueduct30/processData/01PCRGlobWBV01/global_historical_PIndUse_month_millionm3_5min_1960_2014.nc4 to ../../../../data/PCRGlobWB20V01/global_historical_PIndUse_month_millionm3_5min_1960_2014.nc4\n",
      "download: s3://wri-projects/Aqueduct30/processData/01PCRGlobWBV01/global_historical_PIrrWN_year_millionm3_5min_1960_2014.nc4 to ../../../../data/PCRGlobWB20V01/global_historical_PIrrWN_year_millionm3_5min_1960_2014.nc4\n",
      "download: s3://wri-projects/Aqueduct30/processData/01PCRGlobWBV01/global_historical_PIrrWN_month_millionm3_5min_1960_2014.nc4 to ../../../../data/PCRGlobWB20V01/global_historical_PIrrWN_month_millionm3_5min_1960_2014.nc4\n",
      "download: s3://wri-projects/Aqueduct30/processData/01PCRGlobWBV01/global_historical_PIrrWW_year_millionm3_5min_1960_2014.nc4 to ../../../../data/PCRGlobWB20V01/global_historical_PIrrWW_year_millionm3_5min_1960_2014.nc4\n",
      "download: s3://wri-projects/Aqueduct30/processData/01PCRGlobWBV01/global_historical_PIndWW_month_millionm3_5min_1960_2014.nc4 to ../../../../data/PCRGlobWB20V01/global_historical_PIndWW_month_millionm3_5min_1960_2014.nc4\n",
      "download: s3://wri-projects/Aqueduct30/processData/01PCRGlobWBV01/global_historical_PLivWN_year_millionm3_5min_1960_2014.nc4 to ../../../../data/PCRGlobWB20V01/global_historical_PLivWN_year_millionm3_5min_1960_2014.nc4\n",
      "download: s3://wri-projects/Aqueduct30/processData/01PCRGlobWBV01/global_historical_PIrrWW_month_millionm3_5min_1960_2014.nc4 to ../../../../data/PCRGlobWB20V01/global_historical_PIrrWW_month_millionm3_5min_1960_2014.nc4\n",
      "download: s3://wri-projects/Aqueduct30/processData/01PCRGlobWBV01/global_historical_aqbasinwaterstress_year_dimensionless_5min_1960_2014.nc4 to ../../../../data/PCRGlobWB20V01/global_historical_aqbasinwaterstress_year_dimensionless_5min_1960_2014.nc4\n",
      "download: s3://wri-projects/Aqueduct30/processData/01PCRGlobWBV01/global_historical_PDomWW_month_millionm3_5min_1960_2014.nc4 to ../../../../data/PCRGlobWB20V01/global_historical_PDomWW_month_millionm3_5min_1960_2014.nc4\n",
      "download: s3://wri-projects/Aqueduct30/processData/01PCRGlobWBV01/global_historical_griddedwaterstress_year_dimensionless_5min_1960_2014.nc4 to ../../../../data/PCRGlobWB20V01/global_historical_griddedwaterstress_year_dimensionless_5min_1960_2014.nc4\n",
      "download: s3://wri-projects/Aqueduct30/processData/01PCRGlobWBV01/global_historical_PDomUse_month_millionm3_5min_1960_2014.nc4 to ../../../../data/PCRGlobWB20V01/global_historical_PDomUse_month_millionm3_5min_1960_2014.nc4\n",
      "download: s3://wri-projects/Aqueduct30/processData/01PCRGlobWBV01/global_historical_aqbasinwaterstress_month_dimensionless_5min_1960_2014.nc4 to ../../../../data/PCRGlobWB20V01/global_historical_aqbasinwaterstress_month_dimensionless_5min_1960_2014.nc4\n",
      "download: s3://wri-projects/Aqueduct30/processData/01PCRGlobWBV01/readmeRunoff.txt to ../../../../data/PCRGlobWB20V01/readmeRunoff.txt\n",
      "download: s3://wri-projects/Aqueduct30/processData/01PCRGlobWBV01/global_historical_riverdischarge_year_m3second_5min_1960_2014.nc4 to ../../../../data/PCRGlobWB20V01/global_historical_riverdischarge_year_m3second_5min_1960_2014.nc4\n",
      "download: s3://wri-projects/Aqueduct30/processData/01PCRGlobWBV01/totalRunoff_annuaTot_output.nc to ../../../../data/PCRGlobWB20V01/totalRunoff_annuaTot_output.nc\n",
      "download: s3://wri-projects/Aqueduct30/processData/01PCRGlobWBV01/global_historical_PLivWN_month_millionm3_5min_1960_2014.nc4 to ../../../../data/PCRGlobWB20V01/global_historical_PLivWN_month_millionm3_5min_1960_2014.nc4\n",
      "download: s3://wri-projects/Aqueduct30/processData/01PCRGlobWBV01/global_historical_griddedwaterstress_month_dimensionless_5min_1960_2014.nc4 to ../../../../data/PCRGlobWB20V01/global_historical_griddedwaterstress_month_dimensionless_5min_1960_2014.nc4\n",
      "download: s3://wri-projects/Aqueduct30/processData/01PCRGlobWBV01/global_historical_soilmoisture_month_meter_5min_1958-2014.nc4 to ../../../../data/PCRGlobWB20V01/global_historical_soilmoisture_month_meter_5min_1958-2014.nc4\n",
      "download: s3://wri-projects/Aqueduct30/processData/01PCRGlobWBV01/global_historical_riverdischarge_month_m3second_5min_1960_2014.nc4 to ../../../../data/PCRGlobWB20V01/global_historical_riverdischarge_month_m3second_5min_1960_2014.nc4\n",
      "download: s3://wri-projects/Aqueduct30/processData/01PCRGlobWBV01/totalRunoff_monthTot_output.zip to ../../../../data/PCRGlobWB20V01/totalRunoff_monthTot_output.zip\n"
     ]
    }
   ],
   "source": [
    "!aws s3 cp s3://wri-projects/Aqueduct30/processData/01PCRGlobWBV01 /volumes/data/PCRGlobWB20V01/ --recursive"
   ]
  },
  {
   "cell_type": "markdown",
   "metadata": {},
   "source": [
    "List files downloaded (24 in my case)"
   ]
  },
  {
   "cell_type": "code",
   "execution_count": 5,
   "metadata": {},
   "outputs": [
    {
     "name": "stdout",
     "output_type": "stream",
     "text": [
      "24\r\n"
     ]
    }
   ],
   "source": [
    "!find /volumes/data/PCRGlobWB20V01/ -type f | wc -l"
   ]
  },
  {
   "cell_type": "markdown",
   "metadata": {},
   "source": [
    "As you can see there are some zipped files. Unzipping"
   ]
  },
  {
   "cell_type": "markdown",
   "metadata": {},
   "source": [
    "Unzipping the file results in a 24GB file which is signifact. Therefore this step will take quite some time"
   ]
  },
  {
   "cell_type": "code",
   "execution_count": 6,
   "metadata": {},
   "outputs": [
    {
     "name": "stdout",
     "output_type": "stream",
     "text": [
      "Archive:  /volumes/data/PCRGlobWB20V01/totalRunoff_monthTot_output.zip\n",
      "  inflating: totalRunoff_monthTot_output.nc  \n"
     ]
    }
   ],
   "source": [
    "!unzip /volumes/data/PCRGlobWB20V01/totalRunoff_monthTot_output.zip"
   ]
  },
  {
   "cell_type": "markdown",
   "metadata": {},
   "source": [
    "The total number of files should be around 25 but can change if the raw data changed. "
   ]
  },
  {
   "cell_type": "code",
   "execution_count": 7,
   "metadata": {},
   "outputs": [
    {
     "name": "stdout",
     "output_type": "stream",
     "text": [
      "total 39G\r\n",
      "drwxr-xr-x 2 root root 4.0K Aug  2 15:31 .\r\n",
      "drwxr-xr-x 6 root root 4.0K Aug  2 15:21 ..\r\n",
      "-rw-r--r-- 1 root root 3.2G Jul 31 21:03 global_historical_PDomUse_month_millionm3_5min_1960_2014.nc4\r\n",
      "-rw-r--r-- 1 root root 270M Jul 31 21:03 global_historical_PDomUse_year_millionm3_5min_1960_2014.nc4\r\n",
      "-rw-r--r-- 1 root root 3.2G Jul 31 21:03 global_historical_PDomWW_month_millionm3_5min_1960_2014.nc4\r\n",
      "-rw-r--r-- 1 root root 271M Jul 31 21:03 global_historical_PDomWW_year_millionm3_5min_1960_2014.nc4\r\n",
      "-rw-r--r-- 1 root root 1.7G Jul 31 21:03 global_historical_PIndUse_month_millionm3_5min_1960_2014.nc4\r\n",
      "-rw-r--r-- 1 root root 156M Jul 31 21:03 global_historical_PIndUse_year_millionm3_5min_1960_2014.nc4\r\n",
      "-rw-r--r-- 1 root root 1.7G Jul 31 21:03 global_historical_PIndWW_month_millionm3_5min_1960_2014.nc4\r\n",
      "-rw-r--r-- 1 root root 156M Jul 31 21:03 global_historical_PIndWW_year_millionm3_5min_1960_2014.nc4\r\n",
      "-rw-r--r-- 1 root root 1.3G Jul 31 21:04 global_historical_PIrrWN_month_millionm3_5min_1960_2014.nc4\r\n",
      "-rw-r--r-- 1 root root 140M Jul 31 21:04 global_historical_PIrrWN_year_millionm3_5min_1960_2014.nc4\r\n",
      "-rw-r--r-- 1 root root 1.4G Jul 31 21:04 global_historical_PIrrWW_month_millionm3_5min_1960_2014.nc4\r\n",
      "-rw-r--r-- 1 root root 140M Jul 31 21:04 global_historical_PIrrWW_year_millionm3_5min_1960_2014.nc4\r\n",
      "-rw-r--r-- 1 root root 4.2G Jul 31 21:04 global_historical_PLivWN_month_millionm3_5min_1960_2014.nc4\r\n",
      "-rw-r--r-- 1 root root 356M Jul 31 21:05 global_historical_PLivWN_year_millionm3_5min_1960_2014.nc4\r\n",
      "-rw-r--r-- 1 root root 951M Jul 31 21:06 global_historical_aqbasinwaterstress_month_dimensionless_5min_1960_2014.nc4\r\n",
      "-rw-r--r-- 1 root root  81M Jul 31 21:06 global_historical_aqbasinwaterstress_year_dimensionless_5min_1960_2014.nc4\r\n",
      "-rw-r--r-- 1 root root 4.1G Jul 31 21:06 global_historical_griddedwaterstress_month_dimensionless_5min_1960_2014.nc4\r\n",
      "-rw-r--r-- 1 root root 341M Jul 31 21:06 global_historical_griddedwaterstress_year_dimensionless_5min_1960_2014.nc4\r\n",
      "-rw-r--r-- 1 root root 4.6G Jul 31 21:06 global_historical_riverdischarge_month_m3second_5min_1960_2014.nc4\r\n",
      "-rw-r--r-- 1 root root 376M Jul 31 21:06 global_historical_riverdischarge_year_m3second_5min_1960_2014.nc4\r\n",
      "-rw-r--r-- 1 root root 4.3G Jul 31 21:08 global_historical_soilmoisture_month_meter_5min_1958-2014.nc4\r\n",
      "-rw-r--r-- 1 root root  140 Jul 31 21:07 readmeRunoff.txt\r\n",
      "-rw-r--r-- 1 root root 2.0G Jul 31 21:07 totalRunoff_annuaTot_output.nc\r\n",
      "-rw-r--r-- 1 root root 4.7G Jul 31 21:07 totalRunoff_monthTot_output.zip\r\n"
     ]
    }
   ],
   "source": [
    "!ls -lah /volumes/data/PCRGlobWB20V01/"
   ]
  },
  {
   "cell_type": "markdown",
   "metadata": {
    "collapsed": true
   },
   "source": [
    "In the data that Yoshi provided there is only Livestock data for consumption (WN). However in an email he specified that the withdrawal (WW) equals the consumption (100% consumption) for livestock. Therefore we copy the WN Livestock files to WW to make looping over WN and WW respectively easier. "
   ]
  },
  {
   "cell_type": "code",
   "execution_count": 8,
   "metadata": {
    "collapsed": true
   },
   "outputs": [],
   "source": [
    "!cp /volumes/data/PCRGlobWB20V01/global_historical_PLivWN_month_millionm3_5min_1960_2014.nc4 /volumes/data/PCRGlobWB20V01/global_historical_PLivWW_month_millionm3_5min_1960_2014.nc4"
   ]
  },
  {
   "cell_type": "code",
   "execution_count": 9,
   "metadata": {
    "collapsed": true
   },
   "outputs": [],
   "source": [
    "!cp /volumes/data/PCRGlobWB20V01/global_historical_PLivWN_year_millionm3_5min_1960_2014.nc4 /volumes/data/PCRGlobWB20V01/global_historical_PLivWW_year_millionm3_5min_1960_2014.nc4"
   ]
  },
  {
   "cell_type": "code",
   "execution_count": 10,
   "metadata": {},
   "outputs": [
    {
     "name": "stdout",
     "output_type": "stream",
     "text": [
      "total 44G\r\n",
      "drwxr-xr-x 2 root root 4.0K Aug  2 15:39 .\r\n",
      "drwxr-xr-x 6 root root 4.0K Aug  2 15:21 ..\r\n",
      "-rw-r--r-- 1 root root 3.2G Jul 31 21:03 global_historical_PDomUse_month_millionm3_5min_1960_2014.nc4\r\n",
      "-rw-r--r-- 1 root root 270M Jul 31 21:03 global_historical_PDomUse_year_millionm3_5min_1960_2014.nc4\r\n",
      "-rw-r--r-- 1 root root 3.2G Jul 31 21:03 global_historical_PDomWW_month_millionm3_5min_1960_2014.nc4\r\n",
      "-rw-r--r-- 1 root root 271M Jul 31 21:03 global_historical_PDomWW_year_millionm3_5min_1960_2014.nc4\r\n",
      "-rw-r--r-- 1 root root 1.7G Jul 31 21:03 global_historical_PIndUse_month_millionm3_5min_1960_2014.nc4\r\n",
      "-rw-r--r-- 1 root root 156M Jul 31 21:03 global_historical_PIndUse_year_millionm3_5min_1960_2014.nc4\r\n",
      "-rw-r--r-- 1 root root 1.7G Jul 31 21:03 global_historical_PIndWW_month_millionm3_5min_1960_2014.nc4\r\n",
      "-rw-r--r-- 1 root root 156M Jul 31 21:03 global_historical_PIndWW_year_millionm3_5min_1960_2014.nc4\r\n",
      "-rw-r--r-- 1 root root 1.3G Jul 31 21:04 global_historical_PIrrWN_month_millionm3_5min_1960_2014.nc4\r\n",
      "-rw-r--r-- 1 root root 140M Jul 31 21:04 global_historical_PIrrWN_year_millionm3_5min_1960_2014.nc4\r\n",
      "-rw-r--r-- 1 root root 1.4G Jul 31 21:04 global_historical_PIrrWW_month_millionm3_5min_1960_2014.nc4\r\n",
      "-rw-r--r-- 1 root root 140M Jul 31 21:04 global_historical_PIrrWW_year_millionm3_5min_1960_2014.nc4\r\n",
      "-rw-r--r-- 1 root root 4.2G Jul 31 21:04 global_historical_PLivWN_month_millionm3_5min_1960_2014.nc4\r\n",
      "-rw-r--r-- 1 root root 356M Jul 31 21:05 global_historical_PLivWN_year_millionm3_5min_1960_2014.nc4\r\n",
      "-rw-r--r-- 1 root root 4.2G Aug  2 15:39 global_historical_PLivWW_month_millionm3_5min_1960_2014.nc4\r\n",
      "-rw-r--r-- 1 root root 356M Aug  2 15:39 global_historical_PLivWW_year_millionm3_5min_1960_2014.nc4\r\n",
      "-rw-r--r-- 1 root root 951M Jul 31 21:06 global_historical_aqbasinwaterstress_month_dimensionless_5min_1960_2014.nc4\r\n",
      "-rw-r--r-- 1 root root  81M Jul 31 21:06 global_historical_aqbasinwaterstress_year_dimensionless_5min_1960_2014.nc4\r\n",
      "-rw-r--r-- 1 root root 4.1G Jul 31 21:06 global_historical_griddedwaterstress_month_dimensionless_5min_1960_2014.nc4\r\n",
      "-rw-r--r-- 1 root root 341M Jul 31 21:06 global_historical_griddedwaterstress_year_dimensionless_5min_1960_2014.nc4\r\n",
      "-rw-r--r-- 1 root root 4.6G Jul 31 21:06 global_historical_riverdischarge_month_m3second_5min_1960_2014.nc4\r\n",
      "-rw-r--r-- 1 root root 376M Jul 31 21:06 global_historical_riverdischarge_year_m3second_5min_1960_2014.nc4\r\n",
      "-rw-r--r-- 1 root root 4.3G Jul 31 21:08 global_historical_soilmoisture_month_meter_5min_1958-2014.nc4\r\n",
      "-rw-r--r-- 1 root root  140 Jul 31 21:07 readmeRunoff.txt\r\n",
      "-rw-r--r-- 1 root root 2.0G Jul 31 21:07 totalRunoff_annuaTot_output.nc\r\n",
      "-rw-r--r-- 1 root root 4.7G Jul 31 21:07 totalRunoff_monthTot_output.zip\r\n"
     ]
    }
   ],
   "source": [
    "!ls -lah /volumes/data/PCRGlobWB20V01/"
   ]
  },
  {
   "cell_type": "code",
   "execution_count": 11,
   "metadata": {},
   "outputs": [
    {
     "name": "stdout",
     "output_type": "stream",
     "text": [
      "Number of files: 26\n"
     ]
    }
   ],
   "source": [
    "import os\n",
    "pathName = \"/volumes/data/PCRGlobWB20V01/\"\n",
    "files = os.listdir(pathName)\n",
    "print(\"Number of files: \" + str(len(files)))"
   ]
  },
  {
   "cell_type": "markdown",
   "metadata": {
    "collapsed": true
   },
   "source": [
    "Copy PLivWN to PLivWW because Livestock Withdrawal = Livestock Consumption (see Yoshi's email'). This will solve some lookping issues in the future. Copies 4GB of data so takes a while"
   ]
  },
  {
   "cell_type": "code",
   "execution_count": 12,
   "metadata": {
    "collapsed": true
   },
   "outputs": [],
   "source": [
    "!cp /volumes/data/PCRGlobWB20V01/global_historical_PLivWN_month_millionm3_5min_1960_2014.nc4 /volumes/data/PCRGlobWB20V01/global_historical_PLivWW_month_millionm3_5min_1960_2014.nc4"
   ]
  },
  {
   "cell_type": "code",
   "execution_count": 13,
   "metadata": {
    "collapsed": true
   },
   "outputs": [],
   "source": [
    "!cp /volumes/data/PCRGlobWB20V01/global_historical_PLivWN_year_millionm3_5min_1960_2014.nc4 /volumes/data/PCRGlobWB20V01/global_historical_PLivWW_year_millionm3_5min_1960_2014.nc4"
   ]
  },
  {
   "cell_type": "markdown",
   "metadata": {},
   "source": [
    "Some files that WRI received from Utrecht refer to water \"Use\" instead of WN (net). Renaming the relevant file. Renaming them"
   ]
  },
  {
   "cell_type": "code",
   "execution_count": 14,
   "metadata": {},
   "outputs": [
    {
     "name": "stdout",
     "output_type": "stream",
     "text": [
      "global_historical_PDomUse_month_millionm3_5min_1960_2014.nc4\r\n",
      "global_historical_PDomUse_year_millionm3_5min_1960_2014.nc4\r\n",
      "global_historical_PDomWW_month_millionm3_5min_1960_2014.nc4\r\n",
      "global_historical_PDomWW_year_millionm3_5min_1960_2014.nc4\r\n",
      "global_historical_PIndUse_month_millionm3_5min_1960_2014.nc4\r\n",
      "global_historical_PIndUse_year_millionm3_5min_1960_2014.nc4\r\n",
      "global_historical_PIndWW_month_millionm3_5min_1960_2014.nc4\r\n",
      "global_historical_PIndWW_year_millionm3_5min_1960_2014.nc4\r\n",
      "global_historical_PIrrWN_month_millionm3_5min_1960_2014.nc4\r\n",
      "global_historical_PIrrWN_year_millionm3_5min_1960_2014.nc4\r\n",
      "global_historical_PIrrWW_month_millionm3_5min_1960_2014.nc4\r\n",
      "global_historical_PIrrWW_year_millionm3_5min_1960_2014.nc4\r\n",
      "global_historical_PLivWN_month_millionm3_5min_1960_2014.nc4\r\n",
      "global_historical_PLivWN_year_millionm3_5min_1960_2014.nc4\r\n",
      "global_historical_PLivWW_month_millionm3_5min_1960_2014.nc4\r\n",
      "global_historical_PLivWW_year_millionm3_5min_1960_2014.nc4\r\n",
      "global_historical_aqbasinwaterstress_month_dimensionless_5min_1960_2014.nc4\r\n",
      "global_historical_aqbasinwaterstress_year_dimensionless_5min_1960_2014.nc4\r\n",
      "global_historical_griddedwaterstress_month_dimensionless_5min_1960_2014.nc4\r\n",
      "global_historical_griddedwaterstress_year_dimensionless_5min_1960_2014.nc4\r\n",
      "global_historical_riverdischarge_month_m3second_5min_1960_2014.nc4\r\n",
      "global_historical_riverdischarge_year_m3second_5min_1960_2014.nc4\r\n",
      "global_historical_soilmoisture_month_meter_5min_1958-2014.nc4\r\n",
      "readmeRunoff.txt\r\n",
      "totalRunoff_annuaTot_output.nc\r\n",
      "totalRunoff_monthTot_output.zip\r\n"
     ]
    }
   ],
   "source": [
    "!ls /volumes/data/PCRGlobWB20V01/"
   ]
  },
  {
   "cell_type": "code",
   "execution_count": 15,
   "metadata": {},
   "outputs": [],
   "source": [
    "!mv /volumes/data/PCRGlobWB20V01/global_historical_PDomUse_month_millionm3_5min_1960_2014.nc4 /volumes/data/PCRGlobWB20V01/global_historical_PDomWN_month_millionm3_5min_1960_2014.nc4\n",
    "!mv /volumes/data/PCRGlobWB20V01/global_historical_PDomUse_year_millionm3_5min_1960_2014.nc4 /volumes/data/PCRGlobWB20V01/global_historical_PDomWN_year_millionm3_5min_1960_2014.nc4\n",
    "\n",
    "!mv /volumes/data/PCRGlobWB20V01/global_historical_PIndUse_month_millionm3_5min_1960_2014.nc4 /volumes/data/PCRGlobWB20V01/global_historical_PIndWN_month_millionm3_5min_1960_2014.nc4\n",
    "!mv /volumes/data/PCRGlobWB20V01/global_historical_PIndUse_year_millionm3_5min_1960_2014.nc4 /volumes/data/PCRGlobWB20V01/global_historical_PIndWN_year_millionm3_5min_1960_2014.nc4\n"
   ]
  },
  {
   "cell_type": "code",
   "execution_count": 16,
   "metadata": {},
   "outputs": [
    {
     "name": "stdout",
     "output_type": "stream",
     "text": [
      "global_historical_PDomWN_month_millionm3_5min_1960_2014.nc4\r\n",
      "global_historical_PDomWN_year_millionm3_5min_1960_2014.nc4\r\n",
      "global_historical_PDomWW_month_millionm3_5min_1960_2014.nc4\r\n",
      "global_historical_PDomWW_year_millionm3_5min_1960_2014.nc4\r\n",
      "global_historical_PIndWN_month_millionm3_5min_1960_2014.nc4\r\n",
      "global_historical_PIndWN_year_millionm3_5min_1960_2014.nc4\r\n",
      "global_historical_PIndWW_month_millionm3_5min_1960_2014.nc4\r\n",
      "global_historical_PIndWW_year_millionm3_5min_1960_2014.nc4\r\n",
      "global_historical_PIrrWN_month_millionm3_5min_1960_2014.nc4\r\n",
      "global_historical_PIrrWN_year_millionm3_5min_1960_2014.nc4\r\n",
      "global_historical_PIrrWW_month_millionm3_5min_1960_2014.nc4\r\n",
      "global_historical_PIrrWW_year_millionm3_5min_1960_2014.nc4\r\n",
      "global_historical_PLivWN_month_millionm3_5min_1960_2014.nc4\r\n",
      "global_historical_PLivWN_year_millionm3_5min_1960_2014.nc4\r\n",
      "global_historical_PLivWW_month_millionm3_5min_1960_2014.nc4\r\n",
      "global_historical_PLivWW_year_millionm3_5min_1960_2014.nc4\r\n",
      "global_historical_aqbasinwaterstress_month_dimensionless_5min_1960_2014.nc4\r\n",
      "global_historical_aqbasinwaterstress_year_dimensionless_5min_1960_2014.nc4\r\n",
      "global_historical_griddedwaterstress_month_dimensionless_5min_1960_2014.nc4\r\n",
      "global_historical_griddedwaterstress_year_dimensionless_5min_1960_2014.nc4\r\n",
      "global_historical_riverdischarge_month_m3second_5min_1960_2014.nc4\r\n",
      "global_historical_riverdischarge_year_m3second_5min_1960_2014.nc4\r\n",
      "global_historical_soilmoisture_month_meter_5min_1958-2014.nc4\r\n",
      "readmeRunoff.txt\r\n",
      "totalRunoff_annuaTot_output.nc\r\n",
      "totalRunoff_monthTot_output.zip\r\n"
     ]
    }
   ],
   "source": [
    "!ls /volumes/data/PCRGlobWB20V01/"
   ]
  },
  {
   "cell_type": "code",
   "execution_count": null,
   "metadata": {
    "collapsed": true
   },
   "outputs": [],
   "source": []
  }
 ],
 "metadata": {
  "kernelspec": {
   "display_name": "Python 36",
   "language": "python",
   "name": "python36"
  },
  "language_info": {
   "codemirror_mode": {
    "name": "ipython",
    "version": 3
   },
   "file_extension": ".py",
   "mimetype": "text/x-python",
   "name": "python",
   "nbconvert_exporter": "python",
   "pygments_lexer": "ipython3",
   "version": "3.6.2"
  }
 },
 "nbformat": 4,
 "nbformat_minor": 1
}
