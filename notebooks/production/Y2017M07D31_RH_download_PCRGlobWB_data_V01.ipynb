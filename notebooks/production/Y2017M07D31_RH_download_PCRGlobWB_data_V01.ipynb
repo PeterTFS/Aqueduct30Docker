{
 "cells": [
  {
   "cell_type": "markdown",
   "metadata": {},
   "source": [
    "### Download PcrGlobWB data to instance\n",
    "\n",
    "* Purpose of script: This notebook will download the data from S3 to the EC2 instance \n",
    "* Author: Rutger Hofste\n",
    "* Kernel used: python36\n",
    "* Date created: 20170731\n",
    "\n",
    "In this notebook we will copy the data for the first couple of steps from WRI's Amazon S3 Bucket. The data is large i.e. **40GB** so a good excuse to drink a coffee. The output in Jupyter per file is suppressed so you will only see a result after the file has been donwloaded. You can also run this command in your terminal and see the process per file"
   ]
  },
  {
   "cell_type": "markdown",
   "metadata": {},
   "source": [
    "Before you run this script, make sure you configure aws by running (in your terminal): `aws configure`"
   ]
  },
  {
   "cell_type": "markdown",
   "metadata": {},
   "source": [
    "Create folder to store the data"
   ]
  },
  {
   "cell_type": "code",
   "execution_count": 6,
   "metadata": {
    "collapsed": true
   },
   "outputs": [],
   "source": [
    "S3_INPUT_PATH = \"s3://wri-projects/Aqueduct30/processData/Y2017M07D31_RH_copy_S3raw_s3process_V01/output/\""
   ]
  },
  {
   "cell_type": "code",
   "execution_count": 7,
   "metadata": {
    "collapsed": true
   },
   "outputs": [],
   "source": [
    "EC2_PATH = \"/volumes/data/Y2017M07D31_RH_download_PCRGlobWB_data_V01/output/\""
   ]
  },
  {
   "cell_type": "code",
   "execution_count": 8,
   "metadata": {},
   "outputs": [],
   "source": [
    "!mkdir -p {EC2_PATH}"
   ]
  },
  {
   "cell_type": "markdown",
   "metadata": {},
   "source": [
    "Grab a coffee before you run the following command. This will copy the files from S3 to your EC2 instance. "
   ]
  },
  {
   "cell_type": "code",
   "execution_count": 9,
   "metadata": {},
   "outputs": [
    {
     "name": "stdout",
     "output_type": "stream",
     "text": [
      "download: s3://wri-projects/Aqueduct30/processData/Y2017M07D31_RH_copy_S3raw_s3process_V01/output/global_environmentalflows_5min_1960-2014.asc to ../../../../data/Y2017M07D31_RH_download_PCRGlobWB_data_V01/output/global_environmentalflows_5min_1960-2014.asc\n",
      "download: s3://wri-projects/Aqueduct30/processData/Y2017M07D31_RH_copy_S3raw_s3process_V01/output/global_droughtseveritystandardisedsoilmoisture_5min_1960-2014.asc to ../../../../data/Y2017M07D31_RH_download_PCRGlobWB_data_V01/output/global_droughtseveritystandardisedsoilmoisture_5min_1960-2014.asc\n",
      "download: s3://wri-projects/Aqueduct30/processData/Y2017M07D31_RH_copy_S3raw_s3process_V01/output/global_droughtseveritystandardisedstreamflow_5min_1960-2014.asc to ../../../../data/Y2017M07D31_RH_download_PCRGlobWB_data_V01/output/global_droughtseveritystandardisedstreamflow_5min_1960-2014.asc\n",
      "download: s3://wri-projects/Aqueduct30/processData/Y2017M07D31_RH_copy_S3raw_s3process_V01/output/global_historical_PDomWW_year_millionm3_5min_1960_2014.nc4 to ../../../../data/Y2017M07D31_RH_download_PCRGlobWB_data_V01/output/global_historical_PDomWW_year_millionm3_5min_1960_2014.nc4\n",
      "download: s3://wri-projects/Aqueduct30/processData/Y2017M07D31_RH_copy_S3raw_s3process_V01/output/global_historical_PDomUse_year_millionm3_5min_1960_2014.nc4 to ../../../../data/Y2017M07D31_RH_download_PCRGlobWB_data_V01/output/global_historical_PDomUse_year_millionm3_5min_1960_2014.nc4\n",
      "download: s3://wri-projects/Aqueduct30/processData/Y2017M07D31_RH_copy_S3raw_s3process_V01/output/global_historical_PIndUse_year_millionm3_5min_1960_2014.nc4 to ../../../../data/Y2017M07D31_RH_download_PCRGlobWB_data_V01/output/global_historical_PIndUse_year_millionm3_5min_1960_2014.nc4\n",
      "download: s3://wri-projects/Aqueduct30/processData/Y2017M07D31_RH_copy_S3raw_s3process_V01/output/global_historical_PIndWW_year_millionm3_5min_1960_2014.nc4 to ../../../../data/Y2017M07D31_RH_download_PCRGlobWB_data_V01/output/global_historical_PIndWW_year_millionm3_5min_1960_2014.nc4\n",
      "download: s3://wri-projects/Aqueduct30/processData/Y2017M07D31_RH_copy_S3raw_s3process_V01/output/global_historical_PIndUse_month_millionm3_5min_1960_2014.nc4 to ../../../../data/Y2017M07D31_RH_download_PCRGlobWB_data_V01/output/global_historical_PIndUse_month_millionm3_5min_1960_2014.nc4\n",
      "download: s3://wri-projects/Aqueduct30/processData/Y2017M07D31_RH_copy_S3raw_s3process_V01/output/global_historical_PIrrWN_year_millionm3_5min_1960_2014.nc4 to ../../../../data/Y2017M07D31_RH_download_PCRGlobWB_data_V01/output/global_historical_PIrrWN_year_millionm3_5min_1960_2014.nc4\n",
      "download: s3://wri-projects/Aqueduct30/processData/Y2017M07D31_RH_copy_S3raw_s3process_V01/output/global_historical_PIrrWN_month_millionm3_5min_1960_2014.nc4 to ../../../../data/Y2017M07D31_RH_download_PCRGlobWB_data_V01/output/global_historical_PIrrWN_month_millionm3_5min_1960_2014.nc4\n",
      "download: s3://wri-projects/Aqueduct30/processData/Y2017M07D31_RH_copy_S3raw_s3process_V01/output/global_historical_PIndWW_month_millionm3_5min_1960_2014.nc4 to ../../../../data/Y2017M07D31_RH_download_PCRGlobWB_data_V01/output/global_historical_PIndWW_month_millionm3_5min_1960_2014.nc4\n",
      "download: s3://wri-projects/Aqueduct30/processData/Y2017M07D31_RH_copy_S3raw_s3process_V01/output/global_historical_PDomUse_month_millionm3_5min_1960_2014.nc4 to ../../../../data/Y2017M07D31_RH_download_PCRGlobWB_data_V01/output/global_historical_PDomUse_month_millionm3_5min_1960_2014.nc4\n",
      "download: s3://wri-projects/Aqueduct30/processData/Y2017M07D31_RH_copy_S3raw_s3process_V01/output/global_historical_PIrrWW_year_millionm3_5min_1960_2014.nc4 to ../../../../data/Y2017M07D31_RH_download_PCRGlobWB_data_V01/output/global_historical_PIrrWW_year_millionm3_5min_1960_2014.nc4\n",
      "download: s3://wri-projects/Aqueduct30/processData/Y2017M07D31_RH_copy_S3raw_s3process_V01/output/global_historical_PLivWN_year_millionm3_5min_1960_2014.nc4 to ../../../../data/Y2017M07D31_RH_download_PCRGlobWB_data_V01/output/global_historical_PLivWN_year_millionm3_5min_1960_2014.nc4\n",
      "download: s3://wri-projects/Aqueduct30/processData/Y2017M07D31_RH_copy_S3raw_s3process_V01/output/global_historical_aqbasinwaterstress_year_dimensionless_5min_1960_2014.nc4 to ../../../../data/Y2017M07D31_RH_download_PCRGlobWB_data_V01/output/global_historical_aqbasinwaterstress_year_dimensionless_5min_1960_2014.nc4\n",
      "download: s3://wri-projects/Aqueduct30/processData/Y2017M07D31_RH_copy_S3raw_s3process_V01/output/global_historical_PIrrWW_month_millionm3_5min_1960_2014.nc4 to ../../../../data/Y2017M07D31_RH_download_PCRGlobWB_data_V01/output/global_historical_PIrrWW_month_millionm3_5min_1960_2014.nc4\n",
      "download: s3://wri-projects/Aqueduct30/processData/Y2017M07D31_RH_copy_S3raw_s3process_V01/output/global_historical_griddedwaterstress_year_dimensionless_5min_1960_2014.nc4 to ../../../../data/Y2017M07D31_RH_download_PCRGlobWB_data_V01/output/global_historical_griddedwaterstress_year_dimensionless_5min_1960_2014.nc4\n",
      "download: s3://wri-projects/Aqueduct30/processData/Y2017M07D31_RH_copy_S3raw_s3process_V01/output/global_historical_aqbasinwaterstress_month_dimensionless_5min_1960_2014.nc4 to ../../../../data/Y2017M07D31_RH_download_PCRGlobWB_data_V01/output/global_historical_aqbasinwaterstress_month_dimensionless_5min_1960_2014.nc4\n",
      "download: s3://wri-projects/Aqueduct30/processData/Y2017M07D31_RH_copy_S3raw_s3process_V01/output/global_historical_PDomWW_month_millionm3_5min_1960_2014.nc4 to ../../../../data/Y2017M07D31_RH_download_PCRGlobWB_data_V01/output/global_historical_PDomWW_month_millionm3_5min_1960_2014.nc4\n",
      "download: s3://wri-projects/Aqueduct30/processData/Y2017M07D31_RH_copy_S3raw_s3process_V01/output/global_historical_riverdischarge_year_m3second_5min_1960_2014.nc4 to ../../../../data/Y2017M07D31_RH_download_PCRGlobWB_data_V01/output/global_historical_riverdischarge_year_m3second_5min_1960_2014.nc4\n",
      "download: s3://wri-projects/Aqueduct30/processData/Y2017M07D31_RH_copy_S3raw_s3process_V01/output/global_interannualvariabilitywatersupply_5min_1960-2014.asc to ../../../../data/Y2017M07D31_RH_download_PCRGlobWB_data_V01/output/global_interannualvariabilitywatersupply_5min_1960-2014.asc\n",
      "download: s3://wri-projects/Aqueduct30/processData/Y2017M07D31_RH_copy_S3raw_s3process_V01/output/global_q1seasonalvariabilitywatersupply_5min_1960-2014.asc to ../../../../data/Y2017M07D31_RH_download_PCRGlobWB_data_V01/output/global_q1seasonalvariabilitywatersupply_5min_1960-2014.asc\n",
      "download: s3://wri-projects/Aqueduct30/processData/Y2017M07D31_RH_copy_S3raw_s3process_V01/output/global_q2seasonalvariabilitywatersupply_5min_1960-2014.asc to ../../../../data/Y2017M07D31_RH_download_PCRGlobWB_data_V01/output/global_q2seasonalvariabilitywatersupply_5min_1960-2014.asc\n",
      "download: s3://wri-projects/Aqueduct30/processData/Y2017M07D31_RH_copy_S3raw_s3process_V01/output/global_q3seasonalvariabilitywatersupply_5min_1960-2014.asc to ../../../../data/Y2017M07D31_RH_download_PCRGlobWB_data_V01/output/global_q3seasonalvariabilitywatersupply_5min_1960-2014.asc\n",
      "download: s3://wri-projects/Aqueduct30/processData/Y2017M07D31_RH_copy_S3raw_s3process_V01/output/readmeRunoff.txt to ../../../../data/Y2017M07D31_RH_download_PCRGlobWB_data_V01/output/readmeRunoff.txt\n",
      "download: s3://wri-projects/Aqueduct30/processData/Y2017M07D31_RH_copy_S3raw_s3process_V01/output/global_q4seasonalvariabilitywatersupply_5min_1960-2014.asc to ../../../../data/Y2017M07D31_RH_download_PCRGlobWB_data_V01/output/global_q4seasonalvariabilitywatersupply_5min_1960-2014.asc\n",
      "download: s3://wri-projects/Aqueduct30/processData/Y2017M07D31_RH_copy_S3raw_s3process_V01/output/totalRunoff_annuaTot_output.nc to ../../../../data/Y2017M07D31_RH_download_PCRGlobWB_data_V01/output/totalRunoff_annuaTot_output.nc\n",
      "download: s3://wri-projects/Aqueduct30/processData/Y2017M07D31_RH_copy_S3raw_s3process_V01/output/global_historical_PLivWN_month_millionm3_5min_1960_2014.nc4 to ../../../../data/Y2017M07D31_RH_download_PCRGlobWB_data_V01/output/global_historical_PLivWN_month_millionm3_5min_1960_2014.nc4\n",
      "download: s3://wri-projects/Aqueduct30/processData/Y2017M07D31_RH_copy_S3raw_s3process_V01/output/global_historical_griddedwaterstress_month_dimensionless_5min_1960_2014.nc4 to ../../../../data/Y2017M07D31_RH_download_PCRGlobWB_data_V01/output/global_historical_griddedwaterstress_month_dimensionless_5min_1960_2014.nc4\n"
     ]
    },
    {
     "name": "stdout",
     "output_type": "stream",
     "text": [
      "download: s3://wri-projects/Aqueduct30/processData/Y2017M07D31_RH_copy_S3raw_s3process_V01/output/global_historical_riverdischarge_month_m3second_5min_1960_2014.nc4 to ../../../../data/Y2017M07D31_RH_download_PCRGlobWB_data_V01/output/global_historical_riverdischarge_month_m3second_5min_1960_2014.nc4\n",
      "download: s3://wri-projects/Aqueduct30/processData/Y2017M07D31_RH_copy_S3raw_s3process_V01/output/global_historical_soilmoisture_month_meter_5min_1958-2014.nc4 to ../../../../data/Y2017M07D31_RH_download_PCRGlobWB_data_V01/output/global_historical_soilmoisture_month_meter_5min_1958-2014.nc4\n",
      "download: s3://wri-projects/Aqueduct30/processData/Y2017M07D31_RH_copy_S3raw_s3process_V01/output/totalRunoff_monthTot_output.zip to ../../../../data/Y2017M07D31_RH_download_PCRGlobWB_data_V01/output/totalRunoff_monthTot_output.zip\n"
     ]
    }
   ],
   "source": [
    "!aws s3 cp {S3_INPUT_PATH} {EC2_PATH} --recursive"
   ]
  },
  {
   "cell_type": "markdown",
   "metadata": {},
   "source": [
    "List files downloaded (32 in my case)"
   ]
  },
  {
   "cell_type": "code",
   "execution_count": 12,
   "metadata": {},
   "outputs": [
    {
     "name": "stdout",
     "output_type": "stream",
     "text": [
      "32\r\n"
     ]
    }
   ],
   "source": [
    "!find {EC2_PATH} -type f | wc -l"
   ]
  },
  {
   "cell_type": "markdown",
   "metadata": {},
   "source": [
    "As you can see there are some zipped files. Unzipping"
   ]
  },
  {
   "cell_type": "markdown",
   "metadata": {},
   "source": [
    "Unzipping the file results in a 24GB file which is signifact. Therefore this step will take quite some time"
   ]
  },
  {
   "cell_type": "code",
   "execution_count": 13,
   "metadata": {},
   "outputs": [
    {
     "name": "stdout",
     "output_type": "stream",
     "text": [
      "Archive:  /volumes/data/Y2017M07D31_RH_download_PCRGlobWB_data_V01/output//totalRunoff_monthTot_output.zip\n",
      "  inflating: /volumes/data/Y2017M07D31_RH_download_PCRGlobWB_data_V01/output/totalRunoff_monthTot_output.nc  \n"
     ]
    }
   ],
   "source": [
    "!unzip {EC2_PATH}totalRunoff_monthTot_output.zip -d {EC2_PATH}"
   ]
  },
  {
   "cell_type": "markdown",
   "metadata": {},
   "source": [
    "The total number of files should be around 25 but can change if the raw data changed. "
   ]
  },
  {
   "cell_type": "code",
   "execution_count": 14,
   "metadata": {},
   "outputs": [
    {
     "name": "stdout",
     "output_type": "stream",
     "text": [
      "total 64G\r\n",
      "drwxr-xr-x 2 root root 4.0K Aug  8 20:16 .\r\n",
      "drwxr-xr-x 3 root root 4.0K Aug  8 19:58 ..\r\n",
      "-rw-r--r-- 1 root root  57M Aug  8 19:49 global_droughtseveritystandardisedsoilmoisture_5min_1960-2014.asc\r\n",
      "-rw-r--r-- 1 root root  55M Aug  8 19:49 global_droughtseveritystandardisedstreamflow_5min_1960-2014.asc\r\n",
      "-rw-r--r-- 1 root root  56M Aug  8 19:49 global_environmentalflows_5min_1960-2014.asc\r\n",
      "-rw-r--r-- 1 root root 3.2G Aug  8 19:44 global_historical_PDomUse_month_millionm3_5min_1960_2014.nc4\r\n",
      "-rw-r--r-- 1 root root 270M Aug  8 19:44 global_historical_PDomUse_year_millionm3_5min_1960_2014.nc4\r\n",
      "-rw-r--r-- 1 root root 3.2G Aug  8 19:44 global_historical_PDomWW_month_millionm3_5min_1960_2014.nc4\r\n",
      "-rw-r--r-- 1 root root 271M Aug  8 19:44 global_historical_PDomWW_year_millionm3_5min_1960_2014.nc4\r\n",
      "-rw-r--r-- 1 root root 1.7G Aug  8 19:44 global_historical_PIndUse_month_millionm3_5min_1960_2014.nc4\r\n",
      "-rw-r--r-- 1 root root 156M Aug  8 19:44 global_historical_PIndUse_year_millionm3_5min_1960_2014.nc4\r\n",
      "-rw-r--r-- 1 root root 1.7G Aug  8 19:44 global_historical_PIndWW_month_millionm3_5min_1960_2014.nc4\r\n",
      "-rw-r--r-- 1 root root 156M Aug  8 19:44 global_historical_PIndWW_year_millionm3_5min_1960_2014.nc4\r\n",
      "-rw-r--r-- 1 root root 1.3G Aug  8 19:44 global_historical_PIrrWN_month_millionm3_5min_1960_2014.nc4\r\n",
      "-rw-r--r-- 1 root root 140M Aug  8 19:44 global_historical_PIrrWN_year_millionm3_5min_1960_2014.nc4\r\n",
      "-rw-r--r-- 1 root root 1.4G Aug  8 19:44 global_historical_PIrrWW_month_millionm3_5min_1960_2014.nc4\r\n",
      "-rw-r--r-- 1 root root 140M Aug  8 19:44 global_historical_PIrrWW_year_millionm3_5min_1960_2014.nc4\r\n",
      "-rw-r--r-- 1 root root 4.2G Aug  8 19:45 global_historical_PLivWN_month_millionm3_5min_1960_2014.nc4\r\n",
      "-rw-r--r-- 1 root root 356M Aug  8 19:45 global_historical_PLivWN_year_millionm3_5min_1960_2014.nc4\r\n",
      "-rw-r--r-- 1 root root 951M Aug  8 19:47 global_historical_aqbasinwaterstress_month_dimensionless_5min_1960_2014.nc4\r\n",
      "-rw-r--r-- 1 root root  81M Aug  8 19:47 global_historical_aqbasinwaterstress_year_dimensionless_5min_1960_2014.nc4\r\n",
      "-rw-r--r-- 1 root root 4.1G Aug  8 19:47 global_historical_griddedwaterstress_month_dimensionless_5min_1960_2014.nc4\r\n",
      "-rw-r--r-- 1 root root 341M Aug  8 19:47 global_historical_griddedwaterstress_year_dimensionless_5min_1960_2014.nc4\r\n",
      "-rw-r--r-- 1 root root 4.6G Aug  8 19:46 global_historical_riverdischarge_month_m3second_5min_1960_2014.nc4\r\n",
      "-rw-r--r-- 1 root root 376M Aug  8 19:46 global_historical_riverdischarge_year_m3second_5min_1960_2014.nc4\r\n",
      "-rw-r--r-- 1 root root 4.3G Aug  8 19:48 global_historical_soilmoisture_month_meter_5min_1958-2014.nc4\r\n",
      "-rw-r--r-- 1 root root  55M Aug  8 19:49 global_interannualvariabilitywatersupply_5min_1960-2014.asc\r\n",
      "-rw-r--r-- 1 root root  54M Aug  8 19:49 global_q1seasonalvariabilitywatersupply_5min_1960-2014.asc\r\n",
      "-rw-r--r-- 1 root root  54M Aug  8 19:49 global_q2seasonalvariabilitywatersupply_5min_1960-2014.asc\r\n",
      "-rw-r--r-- 1 root root  54M Aug  8 19:49 global_q3seasonalvariabilitywatersupply_5min_1960-2014.asc\r\n",
      "-rw-r--r-- 1 root root  54M Aug  8 19:49 global_q4seasonalvariabilitywatersupply_5min_1960-2014.asc\r\n",
      "-rw-r--r-- 1 root root  140 Aug  8 19:48 readmeRunoff.txt\r\n",
      "-rw-r--r-- 1 root root 2.0G Aug  8 19:48 totalRunoff_annuaTot_output.nc\r\n",
      "-rw-r--r-- 1 root root  24G Mar 17 05:24 totalRunoff_monthTot_output.nc\r\n",
      "-rw-r--r-- 1 root root 4.7G Aug  8 19:48 totalRunoff_monthTot_output.zip\r\n"
     ]
    }
   ],
   "source": [
    "!ls -lah {EC2_PATH}"
   ]
  },
  {
   "cell_type": "markdown",
   "metadata": {
    "collapsed": true
   },
   "source": [
    "In the data that Yoshi provided there is only Livestock data for consumption (WN). However in an email he specified that the withdrawal (WW) equals the consumption (100% consumption) for livestock. Therefore we copy the WN Livestock files to WW to make looping over WN and WW respectively easier. "
   ]
  },
  {
   "cell_type": "code",
   "execution_count": 15,
   "metadata": {
    "collapsed": true
   },
   "outputs": [],
   "source": [
    "!cp {EC2_PATH}/global_historical_PLivWN_month_millionm3_5min_1960_2014.nc4 {EC2_PATH}/global_historical_PLivWW_month_millionm3_5min_1960_2014.nc4"
   ]
  },
  {
   "cell_type": "code",
   "execution_count": 16,
   "metadata": {
    "collapsed": true
   },
   "outputs": [],
   "source": [
    "!cp {EC2_PATH}/global_historical_PLivWN_year_millionm3_5min_1960_2014.nc4 {EC2_PATH}/global_historical_PLivWW_year_millionm3_5min_1960_2014.nc4"
   ]
  },
  {
   "cell_type": "code",
   "execution_count": 17,
   "metadata": {},
   "outputs": [
    {
     "name": "stdout",
     "output_type": "stream",
     "text": [
      "total 68G\r\n",
      "drwxr-xr-x 2 root root 4.0K Aug  8 20:30 .\r\n",
      "drwxr-xr-x 3 root root 4.0K Aug  8 19:58 ..\r\n",
      "-rw-r--r-- 1 root root  57M Aug  8 19:49 global_droughtseveritystandardisedsoilmoisture_5min_1960-2014.asc\r\n",
      "-rw-r--r-- 1 root root  55M Aug  8 19:49 global_droughtseveritystandardisedstreamflow_5min_1960-2014.asc\r\n",
      "-rw-r--r-- 1 root root  56M Aug  8 19:49 global_environmentalflows_5min_1960-2014.asc\r\n",
      "-rw-r--r-- 1 root root 3.2G Aug  8 19:44 global_historical_PDomUse_month_millionm3_5min_1960_2014.nc4\r\n",
      "-rw-r--r-- 1 root root 270M Aug  8 19:44 global_historical_PDomUse_year_millionm3_5min_1960_2014.nc4\r\n",
      "-rw-r--r-- 1 root root 3.2G Aug  8 19:44 global_historical_PDomWW_month_millionm3_5min_1960_2014.nc4\r\n",
      "-rw-r--r-- 1 root root 271M Aug  8 19:44 global_historical_PDomWW_year_millionm3_5min_1960_2014.nc4\r\n",
      "-rw-r--r-- 1 root root 1.7G Aug  8 19:44 global_historical_PIndUse_month_millionm3_5min_1960_2014.nc4\r\n",
      "-rw-r--r-- 1 root root 156M Aug  8 19:44 global_historical_PIndUse_year_millionm3_5min_1960_2014.nc4\r\n",
      "-rw-r--r-- 1 root root 1.7G Aug  8 19:44 global_historical_PIndWW_month_millionm3_5min_1960_2014.nc4\r\n",
      "-rw-r--r-- 1 root root 156M Aug  8 19:44 global_historical_PIndWW_year_millionm3_5min_1960_2014.nc4\r\n",
      "-rw-r--r-- 1 root root 1.3G Aug  8 19:44 global_historical_PIrrWN_month_millionm3_5min_1960_2014.nc4\r\n",
      "-rw-r--r-- 1 root root 140M Aug  8 19:44 global_historical_PIrrWN_year_millionm3_5min_1960_2014.nc4\r\n",
      "-rw-r--r-- 1 root root 1.4G Aug  8 19:44 global_historical_PIrrWW_month_millionm3_5min_1960_2014.nc4\r\n",
      "-rw-r--r-- 1 root root 140M Aug  8 19:44 global_historical_PIrrWW_year_millionm3_5min_1960_2014.nc4\r\n",
      "-rw-r--r-- 1 root root 4.2G Aug  8 19:45 global_historical_PLivWN_month_millionm3_5min_1960_2014.nc4\r\n",
      "-rw-r--r-- 1 root root 356M Aug  8 19:45 global_historical_PLivWN_year_millionm3_5min_1960_2014.nc4\r\n",
      "-rw-r--r-- 1 root root 4.2G Aug  8 20:29 global_historical_PLivWW_month_millionm3_5min_1960_2014.nc4\r\n",
      "-rw-r--r-- 1 root root 356M Aug  8 20:30 global_historical_PLivWW_year_millionm3_5min_1960_2014.nc4\r\n",
      "-rw-r--r-- 1 root root 951M Aug  8 19:47 global_historical_aqbasinwaterstress_month_dimensionless_5min_1960_2014.nc4\r\n",
      "-rw-r--r-- 1 root root  81M Aug  8 19:47 global_historical_aqbasinwaterstress_year_dimensionless_5min_1960_2014.nc4\r\n",
      "-rw-r--r-- 1 root root 4.1G Aug  8 19:47 global_historical_griddedwaterstress_month_dimensionless_5min_1960_2014.nc4\r\n",
      "-rw-r--r-- 1 root root 341M Aug  8 19:47 global_historical_griddedwaterstress_year_dimensionless_5min_1960_2014.nc4\r\n",
      "-rw-r--r-- 1 root root 4.6G Aug  8 19:46 global_historical_riverdischarge_month_m3second_5min_1960_2014.nc4\r\n",
      "-rw-r--r-- 1 root root 376M Aug  8 19:46 global_historical_riverdischarge_year_m3second_5min_1960_2014.nc4\r\n",
      "-rw-r--r-- 1 root root 4.3G Aug  8 19:48 global_historical_soilmoisture_month_meter_5min_1958-2014.nc4\r\n",
      "-rw-r--r-- 1 root root  55M Aug  8 19:49 global_interannualvariabilitywatersupply_5min_1960-2014.asc\r\n",
      "-rw-r--r-- 1 root root  54M Aug  8 19:49 global_q1seasonalvariabilitywatersupply_5min_1960-2014.asc\r\n",
      "-rw-r--r-- 1 root root  54M Aug  8 19:49 global_q2seasonalvariabilitywatersupply_5min_1960-2014.asc\r\n",
      "-rw-r--r-- 1 root root  54M Aug  8 19:49 global_q3seasonalvariabilitywatersupply_5min_1960-2014.asc\r\n",
      "-rw-r--r-- 1 root root  54M Aug  8 19:49 global_q4seasonalvariabilitywatersupply_5min_1960-2014.asc\r\n",
      "-rw-r--r-- 1 root root  140 Aug  8 19:48 readmeRunoff.txt\r\n",
      "-rw-r--r-- 1 root root 2.0G Aug  8 19:48 totalRunoff_annuaTot_output.nc\r\n",
      "-rw-r--r-- 1 root root  24G Mar 17 05:24 totalRunoff_monthTot_output.nc\r\n",
      "-rw-r--r-- 1 root root 4.7G Aug  8 19:48 totalRunoff_monthTot_output.zip\r\n"
     ]
    }
   ],
   "source": [
    "!ls -lah {EC2_PATH}"
   ]
  },
  {
   "cell_type": "code",
   "execution_count": 18,
   "metadata": {},
   "outputs": [
    {
     "name": "stdout",
     "output_type": "stream",
     "text": [
      "Number of files: 35\n"
     ]
    }
   ],
   "source": [
    "import os\n",
    "files = os.listdir(EC2_PATH)\n",
    "print(\"Number of files: \" + str(len(files)))"
   ]
  },
  {
   "cell_type": "markdown",
   "metadata": {
    "collapsed": true
   },
   "source": [
    "Copy PLivWN to PLivWW because Livestock Withdrawal = Livestock Consumption (see Yoshi's email'). This will solve some lookping issues in the future. Copies 4GB of data so takes a while"
   ]
  },
  {
   "cell_type": "markdown",
   "metadata": {},
   "source": [
    "Some files that WRI received from Utrecht refer to water \"Use\" instead of WN (net). Renaming the relevant file. Renaming them"
   ]
  },
  {
   "cell_type": "code",
   "execution_count": 19,
   "metadata": {
    "collapsed": true
   },
   "outputs": [],
   "source": [
    "!mv {EC2_PATH}/global_historical_PDomUse_month_millionm3_5min_1960_2014.nc4 {EC2_PATH}/global_historical_PDomWN_month_millionm3_5min_1960_2014.nc4\n",
    "!mv {EC2_PATH}/global_historical_PDomUse_year_millionm3_5min_1960_2014.nc4 {EC2_PATH}/global_historical_PDomWN_year_millionm3_5min_1960_2014.nc4\n",
    "\n",
    "!mv {EC2_PATH}/global_historical_PIndUse_month_millionm3_5min_1960_2014.nc4 {EC2_PATH}/global_historical_PIndWN_month_millionm3_5min_1960_2014.nc4\n",
    "!mv {EC2_PATH}/global_historical_PIndUse_year_millionm3_5min_1960_2014.nc4 {EC2_PATH}/global_historical_PIndWN_year_millionm3_5min_1960_2014.nc4\n"
   ]
  },
  {
   "cell_type": "markdown",
   "metadata": {
    "collapsed": true
   },
   "source": [
    "As you can see, the filename structure of the runoff files is different. Using Panoply to inspect the units, we rename the files accordingly. \n",
    "\n",
    "new names for annual:  \n",
    "\n",
    "global_historical_runoff_year_myear_5min_1958_2014.nc\n",
    "\n",
    "new name for monthly:  \n",
    "\n",
    "global_historical_runoff_month_mmonth_5min_1958_2014.nc\n"
   ]
  },
  {
   "cell_type": "code",
   "execution_count": 20,
   "metadata": {
    "collapsed": true
   },
   "outputs": [],
   "source": [
    "!mv {EC2_PATH}/totalRunoff_annuaTot_output.nc {EC2_PATH}/global_historical_runoff_year_myear_5min_1958_2014.nc"
   ]
  },
  {
   "cell_type": "code",
   "execution_count": 21,
   "metadata": {
    "collapsed": true
   },
   "outputs": [],
   "source": [
    "!mv {EC2_PATH}/totalRunoff_monthTot_output.nc {EC2_PATH}/global_historical_runoff_month_mmonth_5min_1958_2014.nc"
   ]
  },
  {
   "cell_type": "markdown",
   "metadata": {},
   "source": [
    "Final Folder strcuture"
   ]
  },
  {
   "cell_type": "code",
   "execution_count": 22,
   "metadata": {},
   "outputs": [
    {
     "name": "stdout",
     "output_type": "stream",
     "text": [
      "global_droughtseveritystandardisedsoilmoisture_5min_1960-2014.asc\r\n",
      "global_droughtseveritystandardisedstreamflow_5min_1960-2014.asc\r\n",
      "global_environmentalflows_5min_1960-2014.asc\r\n",
      "global_historical_PDomWN_month_millionm3_5min_1960_2014.nc4\r\n",
      "global_historical_PDomWN_year_millionm3_5min_1960_2014.nc4\r\n",
      "global_historical_PDomWW_month_millionm3_5min_1960_2014.nc4\r\n",
      "global_historical_PDomWW_year_millionm3_5min_1960_2014.nc4\r\n",
      "global_historical_PIndWN_month_millionm3_5min_1960_2014.nc4\r\n",
      "global_historical_PIndWN_year_millionm3_5min_1960_2014.nc4\r\n",
      "global_historical_PIndWW_month_millionm3_5min_1960_2014.nc4\r\n",
      "global_historical_PIndWW_year_millionm3_5min_1960_2014.nc4\r\n",
      "global_historical_PIrrWN_month_millionm3_5min_1960_2014.nc4\r\n",
      "global_historical_PIrrWN_year_millionm3_5min_1960_2014.nc4\r\n",
      "global_historical_PIrrWW_month_millionm3_5min_1960_2014.nc4\r\n",
      "global_historical_PIrrWW_year_millionm3_5min_1960_2014.nc4\r\n",
      "global_historical_PLivWN_month_millionm3_5min_1960_2014.nc4\r\n",
      "global_historical_PLivWN_year_millionm3_5min_1960_2014.nc4\r\n",
      "global_historical_PLivWW_month_millionm3_5min_1960_2014.nc4\r\n",
      "global_historical_PLivWW_year_millionm3_5min_1960_2014.nc4\r\n",
      "global_historical_aqbasinwaterstress_month_dimensionless_5min_1960_2014.nc4\r\n",
      "global_historical_aqbasinwaterstress_year_dimensionless_5min_1960_2014.nc4\r\n",
      "global_historical_griddedwaterstress_month_dimensionless_5min_1960_2014.nc4\r\n",
      "global_historical_griddedwaterstress_year_dimensionless_5min_1960_2014.nc4\r\n",
      "global_historical_riverdischarge_month_m3second_5min_1960_2014.nc4\r\n",
      "global_historical_riverdischarge_year_m3second_5min_1960_2014.nc4\r\n",
      "global_historical_runoff_month_mmonth_5min_1958_2014.nc\r\n",
      "global_historical_runoff_year_myear_5min_1958_2014.nc\r\n",
      "global_historical_soilmoisture_month_meter_5min_1958-2014.nc4\r\n",
      "global_interannualvariabilitywatersupply_5min_1960-2014.asc\r\n",
      "global_q1seasonalvariabilitywatersupply_5min_1960-2014.asc\r\n",
      "global_q2seasonalvariabilitywatersupply_5min_1960-2014.asc\r\n",
      "global_q3seasonalvariabilitywatersupply_5min_1960-2014.asc\r\n",
      "global_q4seasonalvariabilitywatersupply_5min_1960-2014.asc\r\n",
      "readmeRunoff.txt\r\n",
      "totalRunoff_monthTot_output.zip\r\n"
     ]
    }
   ],
   "source": [
    "!ls {EC2_PATH}"
   ]
  },
  {
   "cell_type": "markdown",
   "metadata": {},
   "source": []
  },
  {
   "cell_type": "code",
   "execution_count": null,
   "metadata": {
    "collapsed": true
   },
   "outputs": [],
   "source": []
  }
 ],
 "metadata": {
  "kernelspec": {
   "display_name": "Python 36",
   "language": "python",
   "name": "python36"
  },
  "language_info": {
   "codemirror_mode": {
    "name": "ipython",
    "version": 3
   },
   "file_extension": ".py",
   "mimetype": "text/x-python",
   "name": "python",
   "nbconvert_exporter": "python",
   "pygments_lexer": "ipython3",
   "version": "3.6.2"
  }
 },
 "nbformat": 4,
 "nbformat_minor": 1
}
