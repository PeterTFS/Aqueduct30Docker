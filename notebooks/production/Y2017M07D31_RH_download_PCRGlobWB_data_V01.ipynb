{
 "cells": [
  {
   "cell_type": "markdown",
   "metadata": {},
   "source": [
    "### Download PcrGlobWB data to instance\n",
    "\n",
    "* Purpose of script: This notebook will download the data from S3 to the EC2 instance \n",
    "* Author: Rutger Hofste\n",
    "* Kernel used: python36\n",
    "* Date created: 20170731\n",
    "\n",
    "In this notebook we will copy the data for the first couple of steps from WRI's Amazon S3 Bucket. The data is large i.e. **40GB** so a good excuse to drink a coffee. The output in Jupyter per file is suppressed so you will only see a result after the file has been donwloaded. You can also run this command in your terminal and see the process per file"
   ]
  },
  {
   "cell_type": "markdown",
   "metadata": {},
   "source": [
    "Before you run this script, make sure you configure aws by running (in your terminal): `aws configure`"
   ]
  },
  {
   "cell_type": "markdown",
   "metadata": {},
   "source": [
    "Running the following command will take a couple of minutes. it will copy the data (several GBs) from S3 to the EC2 instance."
   ]
  },
  {
   "cell_type": "code",
   "execution_count": 5,
   "metadata": {},
   "outputs": [
    {
     "name": "stdout",
     "output_type": "stream",
     "text": [
      "ls: cannot access '/volumes/data/PCRGlobWB20V01/': No such file or directory\r\n"
     ]
    }
   ],
   "source": [
    "!ls /volumes/data/PCRGlobWB20V01/"
   ]
  },
  {
   "cell_type": "markdown",
   "metadata": {},
   "source": [
    "Total number of files in folder"
   ]
  },
  {
   "cell_type": "code",
   "execution_count": 6,
   "metadata": {},
   "outputs": [
    {
     "name": "stdout",
     "output_type": "stream",
     "text": [
      "find: '/volumes/data/PCRGlobWB20V01/': No such file or directory\r\n",
      "0\r\n"
     ]
    }
   ],
   "source": [
    "!find /volumes/data/PCRGlobWB20V01/ -type f | wc -l"
   ]
  },
  {
   "cell_type": "markdown",
   "metadata": {},
   "source": [
    "---------ONLY RUN IF YOU WANT TO DELETE FILES IN FOLDER /volumes/data/PCRGlobWB20V01/ ON YOUR INSTANCE ------------"
   ]
  },
  {
   "cell_type": "code",
   "execution_count": null,
   "metadata": {
    "collapsed": true
   },
   "outputs": [],
   "source": [
    "!rm -r /volumes/data/PCRGlobWB20V01/"
   ]
  },
  {
   "cell_type": "markdown",
   "metadata": {},
   "source": [
    "-----------------------------------------End danger zone------------------------------------------------------------------\n",
    "\n",
    "\n",
    "\n",
    "\n"
   ]
  },
  {
   "cell_type": "markdown",
   "metadata": {},
   "source": [
    "Grab a coffee before you run the following command. This will copy the files from S3 to your EC2 instance. "
   ]
  },
  {
   "cell_type": "code",
   "execution_count": 8,
   "metadata": {},
   "outputs": [
    {
     "name": "stdout",
     "output_type": "stream",
     "text": [
      "download: s3://wri-projects/Aqueduct30/processData/01PCRGlobWBV01/global_historical_PDomWW_year_millionm3_5min_1960_2014.nc4 to ../../../../data/PCRGlobWB20V01/global_historical_PDomWW_year_millionm3_5min_1960_2014.nc4\n",
      "download: s3://wri-projects/Aqueduct30/processData/01PCRGlobWBV01/global_historical_PDomUse_year_millionm3_5min_1960_2014.nc4 to ../../../../data/PCRGlobWB20V01/global_historical_PDomUse_year_millionm3_5min_1960_2014.nc4\n",
      "download: s3://wri-projects/Aqueduct30/processData/01PCRGlobWBV01/global_historical_PIndUse_year_millionm3_5min_1960_2014.nc4 to ../../../../data/PCRGlobWB20V01/global_historical_PIndUse_year_millionm3_5min_1960_2014.nc4\n",
      "download: s3://wri-projects/Aqueduct30/processData/01PCRGlobWBV01/global_historical_PIndWW_year_millionm3_5min_1960_2014.nc4 to ../../../../data/PCRGlobWB20V01/global_historical_PIndWW_year_millionm3_5min_1960_2014.nc4\n",
      "download: s3://wri-projects/Aqueduct30/processData/01PCRGlobWBV01/global_historical_PIndUse_month_millionm3_5min_1960_2014.nc4 to ../../../../data/PCRGlobWB20V01/global_historical_PIndUse_month_millionm3_5min_1960_2014.nc4\n",
      "download: s3://wri-projects/Aqueduct30/processData/01PCRGlobWBV01/global_historical_PIrrWN_month_millionm3_5min_1960_2014.nc4 to ../../../../data/PCRGlobWB20V01/global_historical_PIrrWN_month_millionm3_5min_1960_2014.nc4\n",
      "download: s3://wri-projects/Aqueduct30/processData/01PCRGlobWBV01/global_historical_PIrrWN_year_millionm3_5min_1960_2014.nc4 to ../../../../data/PCRGlobWB20V01/global_historical_PIrrWN_year_millionm3_5min_1960_2014.nc4\n",
      "download: s3://wri-projects/Aqueduct30/processData/01PCRGlobWBV01/global_historical_PIrrWW_year_millionm3_5min_1960_2014.nc4 to ../../../../data/PCRGlobWB20V01/global_historical_PIrrWW_year_millionm3_5min_1960_2014.nc4\n",
      "download: s3://wri-projects/Aqueduct30/processData/01PCRGlobWBV01/global_historical_PIndWW_month_millionm3_5min_1960_2014.nc4 to ../../../../data/PCRGlobWB20V01/global_historical_PIndWW_month_millionm3_5min_1960_2014.nc4\n",
      "download: s3://wri-projects/Aqueduct30/processData/01PCRGlobWBV01/global_historical_PLivWN_year_millionm3_5min_1960_2014.nc4 to ../../../../data/PCRGlobWB20V01/global_historical_PLivWN_year_millionm3_5min_1960_2014.nc4\n",
      "download: s3://wri-projects/Aqueduct30/processData/01PCRGlobWBV01/global_historical_PDomUse_month_millionm3_5min_1960_2014.nc4 to ../../../../data/PCRGlobWB20V01/global_historical_PDomUse_month_millionm3_5min_1960_2014.nc4\n",
      "download: s3://wri-projects/Aqueduct30/processData/01PCRGlobWBV01/global_historical_aqbasinwaterstress_year_dimensionless_5min_1960_2014.nc4 to ../../../../data/PCRGlobWB20V01/global_historical_aqbasinwaterstress_year_dimensionless_5min_1960_2014.nc4\n",
      "download: s3://wri-projects/Aqueduct30/processData/01PCRGlobWBV01/global_historical_PIrrWW_month_millionm3_5min_1960_2014.nc4 to ../../../../data/PCRGlobWB20V01/global_historical_PIrrWW_month_millionm3_5min_1960_2014.nc4\n",
      "download: s3://wri-projects/Aqueduct30/processData/01PCRGlobWBV01/global_historical_griddedwaterstress_year_dimensionless_5min_1960_2014.nc4 to ../../../../data/PCRGlobWB20V01/global_historical_griddedwaterstress_year_dimensionless_5min_1960_2014.nc4\n",
      "download: s3://wri-projects/Aqueduct30/processData/01PCRGlobWBV01/global_historical_PDomWW_month_millionm3_5min_1960_2014.nc4 to ../../../../data/PCRGlobWB20V01/global_historical_PDomWW_month_millionm3_5min_1960_2014.nc4\n",
      "download: s3://wri-projects/Aqueduct30/processData/01PCRGlobWBV01/global_historical_aqbasinwaterstress_month_dimensionless_5min_1960_2014.nc4 to ../../../../data/PCRGlobWB20V01/global_historical_aqbasinwaterstress_month_dimensionless_5min_1960_2014.nc4\n",
      "download: s3://wri-projects/Aqueduct30/processData/01PCRGlobWBV01/readmeRunoff.txt to ../../../../data/PCRGlobWB20V01/readmeRunoff.txt\n",
      "download: s3://wri-projects/Aqueduct30/processData/01PCRGlobWBV01/global_historical_riverdischarge_year_m3second_5min_1960_2014.nc4 to ../../../../data/PCRGlobWB20V01/global_historical_riverdischarge_year_m3second_5min_1960_2014.nc4\n",
      "download: s3://wri-projects/Aqueduct30/processData/01PCRGlobWBV01/totalRunoff_annuaTot_output.nc to ../../../../data/PCRGlobWB20V01/totalRunoff_annuaTot_output.nc\n",
      "download: s3://wri-projects/Aqueduct30/processData/01PCRGlobWBV01/global_historical_PLivWN_month_millionm3_5min_1960_2014.nc4 to ../../../../data/PCRGlobWB20V01/global_historical_PLivWN_month_millionm3_5min_1960_2014.nc4\n",
      "download: s3://wri-projects/Aqueduct30/processData/01PCRGlobWBV01/global_historical_griddedwaterstress_month_dimensionless_5min_1960_2014.nc4 to ../../../../data/PCRGlobWB20V01/global_historical_griddedwaterstress_month_dimensionless_5min_1960_2014.nc4\n",
      "download: s3://wri-projects/Aqueduct30/processData/01PCRGlobWBV01/global_historical_riverdischarge_month_m3second_5min_1960_2014.nc4 to ../../../../data/PCRGlobWB20V01/global_historical_riverdischarge_month_m3second_5min_1960_2014.nc4\n",
      "download: s3://wri-projects/Aqueduct30/processData/01PCRGlobWBV01/global_historical_soilmoisture_month_meter_5min_1958-2014.nc4 to ../../../../data/PCRGlobWB20V01/global_historical_soilmoisture_month_meter_5min_1958-2014.nc4\n",
      "download: s3://wri-projects/Aqueduct30/processData/01PCRGlobWBV01/totalRunoff_monthTot_output.zip to ../../../../data/PCRGlobWB20V01/totalRunoff_monthTot_output.zip\n"
     ]
    }
   ],
   "source": [
    "!aws s3 cp s3://wri-projects/Aqueduct30/processData/01PCRGlobWBV01 /volumes/data/PCRGlobWB20V01/ --recursive"
   ]
  },
  {
   "cell_type": "markdown",
   "metadata": {},
   "source": [
    "List files downloaded "
   ]
  },
  {
   "cell_type": "code",
   "execution_count": 3,
   "metadata": {},
   "outputs": [
    {
     "name": "stdout",
     "output_type": "stream",
     "text": [
      "/bin/sh: 1: tree: not found\r\n"
     ]
    }
   ],
   "source": [
    "!find /volumes/data/PCRGlobWB20V01/ -type f | wc -l"
   ]
  },
  {
   "cell_type": "markdown",
   "metadata": {},
   "source": [
    "As you can see there are some zipped files. Unzipping"
   ]
  },
  {
   "cell_type": "code",
   "execution_count": null,
   "metadata": {
    "collapsed": true
   },
   "outputs": [],
   "source": [
    "Aqueduct30/processData/01PCRGlobWBV01/totalRunoff_monthTot_output.zip"
   ]
  },
  {
   "cell_type": "markdown",
   "metadata": {},
   "source": [
    "Back to Python"
   ]
  },
  {
   "cell_type": "code",
   "execution_count": 6,
   "metadata": {
    "collapsed": true
   },
   "outputs": [],
   "source": [
    "import os"
   ]
  },
  {
   "cell_type": "code",
   "execution_count": 7,
   "metadata": {
    "collapsed": true
   },
   "outputs": [],
   "source": [
    "pathName = \"/volumes/data/PCRGlobWB20V01/waterdemand\""
   ]
  },
  {
   "cell_type": "code",
   "execution_count": 8,
   "metadata": {
    "collapsed": true
   },
   "outputs": [],
   "source": [
    "files = os.listdir(pathName)"
   ]
  },
  {
   "cell_type": "code",
   "execution_count": 9,
   "metadata": {},
   "outputs": [
    {
     "name": "stdout",
     "output_type": "stream",
     "text": [
      "Number of files: 14\n"
     ]
    }
   ],
   "source": [
    "print \"Number of files: \" + str(len(files))"
   ]
  },
  {
   "cell_type": "markdown",
   "metadata": {},
   "source": [
    "The total number of files should be 14. If your number of files is different, try running the first command (aws s3 sync) in a terminal. Remove any partially downloaded files. "
   ]
  }
 ],
 "metadata": {
  "kernelspec": {
   "display_name": "Python 36",
   "language": "python",
   "name": "python36"
  },
  "language_info": {
   "codemirror_mode": {
    "name": "ipython",
    "version": 3
   },
   "file_extension": ".py",
   "mimetype": "text/x-python",
   "name": "python",
   "nbconvert_exporter": "python",
   "pygments_lexer": "ipython3",
   "version": "3.6.2"
  }
 },
 "nbformat": 4,
 "nbformat_minor": 1
}
