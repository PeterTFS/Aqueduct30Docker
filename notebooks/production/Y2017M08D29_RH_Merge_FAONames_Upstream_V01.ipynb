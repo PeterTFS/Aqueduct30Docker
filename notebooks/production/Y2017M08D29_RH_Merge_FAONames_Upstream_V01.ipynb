{
 "cells": [
  {
   "cell_type": "markdown",
   "metadata": {},
   "source": [
    "### Merge Upstream Downstream with FAO names \n",
    "\n",
    "* Purpose of script: Create a shapefile and csv file with both the upstream / downstream relation and the FAO basin names\n",
    "* Author: Rutger Hofste\n",
    "* Kernel used: python35\n",
    "* Date created: 20170829"
   ]
  },
  {
   "cell_type": "code",
   "execution_count": 1,
   "metadata": {
    "collapsed": true
   },
   "outputs": [],
   "source": [
    "S3_INPUT_PATH_FAO =\"s3://wri-projects/Aqueduct30/processData/Y2017M08D25_RH_spatial_join_FAONames_V01/output/\"\n",
    "S3_INPUT_PATH_DOWNSTREAM = \"s3://wri-projects/Aqueduct30/processData/Y2017M08D23_RH_Downstream_V01/output/\"\n",
    "S3_INPUT_PATH_HYBAS = \"s3://wri-projects/Aqueduct30/processData/Y2017M08D02_RH_Merge_HydroBasins_V01/output/\"\n",
    "\n",
    "INPUT_FILE_NAME_FAO = \"hybas_lev06_v1c_merged_fiona_withFAO_V01.csv\"\n",
    "INPUT_FILE_NAME_DOWNSTREAM = \"hybas_lev06_v1c_merged_fiona_upstream_downstream_V01.csv\"\n",
    "INPUT_FILE_NAME_HYBAS = \"hybas_lev06_v1c_merged_fiona_V01.shp\"\n",
    "\n",
    "EC2_INPUT_PATH = \"Y2017M08D29_RH_Merge_FAONames_Upstream_V01/input/\"\n",
    "EC2_OUTPUT_PATH = \"Y2017M08D29_RH_Merge_FAONames_Upstream_V01/output/\"\n",
    "\n",
    "OUTPUT_FILE_NAME = \"hybas_lev06_v1c_merged_fiona_upstream_downstream_FAO_V01\"\n",
    "\n",
    "S3_OUTPUT_PATH = \"s3://wri-projects/Aqueduct30/processData/Y2017M08D29_RH_Merge_FAONames_Upstream_V01/output/\""
   ]
  },
  {
   "cell_type": "code",
   "execution_count": 2,
   "metadata": {},
   "outputs": [],
   "source": [
    "!rm -r {EC2_INPUT_PATH}\n",
    "!rm -r {EC2_OUTPUT_PATH}\n",
    "\n",
    "!mkdir -p {EC2_INPUT_PATH}\n",
    "!mkdir -p {EC2_OUTPUT_PATH}"
   ]
  },
  {
   "cell_type": "code",
   "execution_count": 3,
   "metadata": {},
   "outputs": [
    {
     "name": "stdout",
     "output_type": "stream",
     "text": [
      "Completed 256.0 KiB/1.7 MiB (1.6 MiB/s) with 1 file(s) remaining\r",
      "Completed 512.0 KiB/1.7 MiB (3.2 MiB/s) with 1 file(s) remaining\r",
      "Completed 768.0 KiB/1.7 MiB (4.6 MiB/s) with 1 file(s) remaining\r",
      "Completed 1.0 MiB/1.7 MiB (6.0 MiB/s) with 1 file(s) remaining  \r",
      "Completed 1.2 MiB/1.7 MiB (7.4 MiB/s) with 1 file(s) remaining  \r",
      "Completed 1.5 MiB/1.7 MiB (8.7 MiB/s) with 1 file(s) remaining  \r",
      "Completed 1.7 MiB/1.7 MiB (10.0 MiB/s) with 1 file(s) remaining \r",
      "download: s3://wri-projects/Aqueduct30/processData/Y2017M08D25_RH_spatial_join_FAONames_V01/output/hybas_lev06_v1c_merged_fiona_withFAO_V01.csv to Y2017M08D29_RH_Merge_FAONames_Upstream_V01/input/hybas_lev06_v1c_merged_fiona_withFAO_V01.csv\r\n"
     ]
    }
   ],
   "source": [
    "!aws s3 cp {S3_INPUT_PATH_FAO} {EC2_INPUT_PATH} --recursive "
   ]
  },
  {
   "cell_type": "code",
   "execution_count": 4,
   "metadata": {},
   "outputs": [
    {
     "name": "stdout",
     "output_type": "stream",
     "text": [
      "download: s3://wri-projects/Aqueduct30/processData/Y2017M08D23_RH_Downstream_V01/output/hybas_lev06_v1c_merged_fiona_upstream_downstream_V01.csv to Y2017M08D29_RH_Merge_FAONames_Upstream_V01/input/hybas_lev06_v1c_merged_fiona_upstream_downstream_V01.csv\n"
     ]
    }
   ],
   "source": [
    "!aws s3 cp {S3_INPUT_PATH_DOWNSTREAM} {EC2_INPUT_PATH} --recursive "
   ]
  },
  {
   "cell_type": "code",
   "execution_count": 5,
   "metadata": {},
   "outputs": [
    {
     "name": "stdout",
     "output_type": "stream",
     "text": [
      "download: s3://wri-projects/Aqueduct30/processData/Y2017M08D02_RH_Merge_HydroBasins_V01/output/hybas_lev00_v1c_merged_fiona_V01.cpg to Y2017M08D29_RH_Merge_FAONames_Upstream_V01/input/hybas_lev00_v1c_merged_fiona_V01.cpg\n",
      "download: s3://wri-projects/Aqueduct30/processData/Y2017M08D02_RH_Merge_HydroBasins_V01/output/hybas_lev00_v1c_merged_fiona_V01.prj to Y2017M08D29_RH_Merge_FAONames_Upstream_V01/input/hybas_lev00_v1c_merged_fiona_V01.prj\n",
      "download: s3://wri-projects/Aqueduct30/processData/Y2017M08D02_RH_Merge_HydroBasins_V01/output/hybas_lev06_v1c_merged_fiona_V01.prj to Y2017M08D29_RH_Merge_FAONames_Upstream_V01/input/hybas_lev06_v1c_merged_fiona_V01.prj\n",
      "download: s3://wri-projects/Aqueduct30/processData/Y2017M08D02_RH_Merge_HydroBasins_V01/output/hybas_lev06_v1c_merged_fiona_V01.dbf to Y2017M08D29_RH_Merge_FAONames_Upstream_V01/input/hybas_lev06_v1c_merged_fiona_V01.dbf\n",
      "download: s3://wri-projects/Aqueduct30/processData/Y2017M08D02_RH_Merge_HydroBasins_V01/output/hybas_lev06_v1c_merged_fiona_V01.cpg to Y2017M08D29_RH_Merge_FAONames_Upstream_V01/input/hybas_lev06_v1c_merged_fiona_V01.cpg\n",
      "download: s3://wri-projects/Aqueduct30/processData/Y2017M08D02_RH_Merge_HydroBasins_V01/output/hybas_lev06_v1c_merged_fiona_V01.shx to Y2017M08D29_RH_Merge_FAONames_Upstream_V01/input/hybas_lev06_v1c_merged_fiona_V01.shx\n",
      "download: s3://wri-projects/Aqueduct30/processData/Y2017M08D02_RH_Merge_HydroBasins_V01/output/hybas_lev00_v1c_merged_fiona_V01.shx to Y2017M08D29_RH_Merge_FAONames_Upstream_V01/input/hybas_lev00_v1c_merged_fiona_V01.shx\n",
      "download: s3://wri-projects/Aqueduct30/processData/Y2017M08D02_RH_Merge_HydroBasins_V01/output/hybas_lev06_v1c_merged_fiona_V01.shp to Y2017M08D29_RH_Merge_FAONames_Upstream_V01/input/hybas_lev06_v1c_merged_fiona_V01.shp\n",
      "download: s3://wri-projects/Aqueduct30/processData/Y2017M08D02_RH_Merge_HydroBasins_V01/output/hybas_lev00_v1c_merged_fiona_V01.dbf to Y2017M08D29_RH_Merge_FAONames_Upstream_V01/input/hybas_lev00_v1c_merged_fiona_V01.dbf\n",
      "download: s3://wri-projects/Aqueduct30/processData/Y2017M08D02_RH_Merge_HydroBasins_V01/output/hybas_lev00_v1c_merged_fiona_V01.shp to Y2017M08D29_RH_Merge_FAONames_Upstream_V01/input/hybas_lev00_v1c_merged_fiona_V01.shp\n"
     ]
    }
   ],
   "source": [
    "!aws s3 cp {S3_INPUT_PATH_HYBAS} {EC2_INPUT_PATH} --recursive --exclude *.tif"
   ]
  },
  {
   "cell_type": "code",
   "execution_count": 6,
   "metadata": {
    "collapsed": true
   },
   "outputs": [],
   "source": [
    "import os\n",
    "if 'GDAL_DATA' not in os.environ:\n",
    "    os.environ['GDAL_DATA'] = r'/usr/share/gdal/2.1'\n",
    "from osgeo import gdal,ogr,osr\n",
    "'GDAL_DATA' in os.environ\n",
    "# If false, the GDAL_DATA variable is set incorrectly. You need this variable to obtain the spatial reference\n",
    "import pandas as pd\n",
    "import geopandas as gpd\n",
    "import matplotlib.pyplot as plt\n",
    "import time\n",
    "%matplotlib notebook"
   ]
  },
  {
   "cell_type": "code",
   "execution_count": 7,
   "metadata": {},
   "outputs": [],
   "source": [
    "dfFAO = pd.read_csv(os.path.join(EC2_INPUT_PATH,INPUT_FILE_NAME_FAO))"
   ]
  },
  {
   "cell_type": "code",
   "execution_count": 8,
   "metadata": {},
   "outputs": [
    {
     "data": {
      "text/html": [
       "<div>\n",
       "<style>\n",
       "    .dataframe thead tr:only-child th {\n",
       "        text-align: right;\n",
       "    }\n",
       "\n",
       "    .dataframe thead th {\n",
       "        text-align: left;\n",
       "    }\n",
       "\n",
       "    .dataframe tbody tr th {\n",
       "        vertical-align: top;\n",
       "    }\n",
       "</style>\n",
       "<table border=\"1\" class=\"dataframe\">\n",
       "  <thead>\n",
       "    <tr style=\"text-align: right;\">\n",
       "      <th></th>\n",
       "      <th>PFAF_ID</th>\n",
       "      <th>SUB_NAME</th>\n",
       "      <th>MAJ_NAME</th>\n",
       "      <th>FAOid_copy</th>\n",
       "    </tr>\n",
       "  </thead>\n",
       "  <tbody>\n",
       "    <tr>\n",
       "      <th>0</th>\n",
       "      <td>111011</td>\n",
       "      <td>['Wadi El Naqa']</td>\n",
       "      <td>['Africa, Red Sea - Gulf of Aden Coast']</td>\n",
       "      <td>['MAJ_BAS_7019_SUB_BASE_0190312']</td>\n",
       "    </tr>\n",
       "    <tr>\n",
       "      <th>1</th>\n",
       "      <td>111012</td>\n",
       "      <td>['Egyptian east coast']</td>\n",
       "      <td>['Africa, Red Sea - Gulf of Aden Coast']</td>\n",
       "      <td>['MAJ_BAS_7019_SUB_BASE_0190313']</td>\n",
       "    </tr>\n",
       "    <tr>\n",
       "      <th>2</th>\n",
       "      <td>111013</td>\n",
       "      <td>['Egyptian east coast']</td>\n",
       "      <td>['Africa, Red Sea - Gulf of Aden Coast']</td>\n",
       "      <td>['MAJ_BAS_7019_SUB_BASE_0190313']</td>\n",
       "    </tr>\n",
       "    <tr>\n",
       "      <th>3</th>\n",
       "      <td>111014</td>\n",
       "      <td>['Egyptian east coast']</td>\n",
       "      <td>['Africa, Red Sea - Gulf of Aden Coast']</td>\n",
       "      <td>['MAJ_BAS_7019_SUB_BASE_0190313']</td>\n",
       "    </tr>\n",
       "    <tr>\n",
       "      <th>4</th>\n",
       "      <td>111015</td>\n",
       "      <td>['Egyptian east coast']</td>\n",
       "      <td>['Africa, Red Sea - Gulf of Aden Coast']</td>\n",
       "      <td>['MAJ_BAS_7019_SUB_BASE_0190313']</td>\n",
       "    </tr>\n",
       "  </tbody>\n",
       "</table>\n",
       "</div>"
      ],
      "text/plain": [
       "   PFAF_ID                 SUB_NAME                                  MAJ_NAME  \\\n",
       "0   111011         ['Wadi El Naqa']  ['Africa, Red Sea - Gulf of Aden Coast']   \n",
       "1   111012  ['Egyptian east coast']  ['Africa, Red Sea - Gulf of Aden Coast']   \n",
       "2   111013  ['Egyptian east coast']  ['Africa, Red Sea - Gulf of Aden Coast']   \n",
       "3   111014  ['Egyptian east coast']  ['Africa, Red Sea - Gulf of Aden Coast']   \n",
       "4   111015  ['Egyptian east coast']  ['Africa, Red Sea - Gulf of Aden Coast']   \n",
       "\n",
       "                          FAOid_copy  \n",
       "0  ['MAJ_BAS_7019_SUB_BASE_0190312']  \n",
       "1  ['MAJ_BAS_7019_SUB_BASE_0190313']  \n",
       "2  ['MAJ_BAS_7019_SUB_BASE_0190313']  \n",
       "3  ['MAJ_BAS_7019_SUB_BASE_0190313']  \n",
       "4  ['MAJ_BAS_7019_SUB_BASE_0190313']  "
      ]
     },
     "execution_count": 8,
     "metadata": {},
     "output_type": "execute_result"
    }
   ],
   "source": [
    "dfFAO.head()"
   ]
  },
  {
   "cell_type": "code",
   "execution_count": 9,
   "metadata": {},
   "outputs": [
    {
     "data": {
      "text/plain": [
       "(16396, 4)"
      ]
     },
     "execution_count": 9,
     "metadata": {},
     "output_type": "execute_result"
    }
   ],
   "source": [
    "dfFAO.shape"
   ]
  },
  {
   "cell_type": "code",
   "execution_count": 10,
   "metadata": {
    "collapsed": true
   },
   "outputs": [],
   "source": [
    "dfDownstream = pd.read_csv(os.path.join(EC2_INPUT_PATH,INPUT_FILE_NAME_DOWNSTREAM))"
   ]
  },
  {
   "cell_type": "code",
   "execution_count": 11,
   "metadata": {},
   "outputs": [
    {
     "data": {
      "text/html": [
       "<div>\n",
       "<style>\n",
       "    .dataframe thead tr:only-child th {\n",
       "        text-align: right;\n",
       "    }\n",
       "\n",
       "    .dataframe thead th {\n",
       "        text-align: left;\n",
       "    }\n",
       "\n",
       "    .dataframe tbody tr th {\n",
       "        vertical-align: top;\n",
       "    }\n",
       "</style>\n",
       "<table border=\"1\" class=\"dataframe\">\n",
       "  <thead>\n",
       "    <tr style=\"text-align: right;\">\n",
       "      <th></th>\n",
       "      <th>HYBAS_ID2</th>\n",
       "      <th>Unnamed: 0</th>\n",
       "      <th>HYBAS_ID</th>\n",
       "      <th>NEXT_DOWN</th>\n",
       "      <th>NEXT_SINK</th>\n",
       "      <th>MAIN_BAS</th>\n",
       "      <th>DIST_SINK</th>\n",
       "      <th>DIST_MAIN</th>\n",
       "      <th>SUB_AREA</th>\n",
       "      <th>UP_AREA</th>\n",
       "      <th>...</th>\n",
       "      <th>COAST</th>\n",
       "      <th>ORDER</th>\n",
       "      <th>SORT</th>\n",
       "      <th>Upstream_HYBAS_IDs</th>\n",
       "      <th>Upstream_PFAF_IDs</th>\n",
       "      <th>Downstream_HYBAS_IDs</th>\n",
       "      <th>Downstream_PFAF_IDs</th>\n",
       "      <th>Basin_HYBAS_IDs</th>\n",
       "      <th>Basin_PFAF_IDs</th>\n",
       "      <th>NEXT_SINK_PFAF</th>\n",
       "    </tr>\n",
       "  </thead>\n",
       "  <tbody>\n",
       "    <tr>\n",
       "      <th>0</th>\n",
       "      <td>6060000010</td>\n",
       "      <td>0</td>\n",
       "      <td>6060000010</td>\n",
       "      <td>0</td>\n",
       "      <td>6060000010</td>\n",
       "      <td>6060000010</td>\n",
       "      <td>0.0</td>\n",
       "      <td>0.0</td>\n",
       "      <td>4317.4</td>\n",
       "      <td>4317.4</td>\n",
       "      <td>...</td>\n",
       "      <td>1</td>\n",
       "      <td>0</td>\n",
       "      <td>1</td>\n",
       "      <td>[]</td>\n",
       "      <td>[]</td>\n",
       "      <td>[]</td>\n",
       "      <td>[]</td>\n",
       "      <td>[6060000010]</td>\n",
       "      <td>[611001]</td>\n",
       "      <td>611001.0</td>\n",
       "    </tr>\n",
       "    <tr>\n",
       "      <th>1</th>\n",
       "      <td>6060000200</td>\n",
       "      <td>1</td>\n",
       "      <td>6060000200</td>\n",
       "      <td>0</td>\n",
       "      <td>6060000200</td>\n",
       "      <td>6060000200</td>\n",
       "      <td>0.0</td>\n",
       "      <td>0.0</td>\n",
       "      <td>35995.5</td>\n",
       "      <td>35996.7</td>\n",
       "      <td>...</td>\n",
       "      <td>0</td>\n",
       "      <td>1</td>\n",
       "      <td>2</td>\n",
       "      <td>[]</td>\n",
       "      <td>[]</td>\n",
       "      <td>[]</td>\n",
       "      <td>[]</td>\n",
       "      <td>[6060000200]</td>\n",
       "      <td>[611002]</td>\n",
       "      <td>611002.0</td>\n",
       "    </tr>\n",
       "    <tr>\n",
       "      <th>2</th>\n",
       "      <td>6060000210</td>\n",
       "      <td>2</td>\n",
       "      <td>6060000210</td>\n",
       "      <td>0</td>\n",
       "      <td>6060000210</td>\n",
       "      <td>6060000210</td>\n",
       "      <td>0.0</td>\n",
       "      <td>0.0</td>\n",
       "      <td>443.9</td>\n",
       "      <td>443.9</td>\n",
       "      <td>...</td>\n",
       "      <td>1</td>\n",
       "      <td>0</td>\n",
       "      <td>3</td>\n",
       "      <td>[]</td>\n",
       "      <td>[]</td>\n",
       "      <td>[]</td>\n",
       "      <td>[]</td>\n",
       "      <td>[6060000210]</td>\n",
       "      <td>[611003]</td>\n",
       "      <td>611003.0</td>\n",
       "    </tr>\n",
       "    <tr>\n",
       "      <th>3</th>\n",
       "      <td>6060000240</td>\n",
       "      <td>3</td>\n",
       "      <td>6060000240</td>\n",
       "      <td>0</td>\n",
       "      <td>6060000240</td>\n",
       "      <td>6060000240</td>\n",
       "      <td>0.0</td>\n",
       "      <td>0.0</td>\n",
       "      <td>2186.3</td>\n",
       "      <td>2186.3</td>\n",
       "      <td>...</td>\n",
       "      <td>0</td>\n",
       "      <td>1</td>\n",
       "      <td>4</td>\n",
       "      <td>[]</td>\n",
       "      <td>[]</td>\n",
       "      <td>[]</td>\n",
       "      <td>[]</td>\n",
       "      <td>[6060000240]</td>\n",
       "      <td>[611004]</td>\n",
       "      <td>611004.0</td>\n",
       "    </tr>\n",
       "    <tr>\n",
       "      <th>4</th>\n",
       "      <td>6060000250</td>\n",
       "      <td>4</td>\n",
       "      <td>6060000250</td>\n",
       "      <td>0</td>\n",
       "      <td>6060000250</td>\n",
       "      <td>6060000250</td>\n",
       "      <td>0.0</td>\n",
       "      <td>0.0</td>\n",
       "      <td>6533.8</td>\n",
       "      <td>6533.8</td>\n",
       "      <td>...</td>\n",
       "      <td>1</td>\n",
       "      <td>0</td>\n",
       "      <td>5</td>\n",
       "      <td>[]</td>\n",
       "      <td>[]</td>\n",
       "      <td>[]</td>\n",
       "      <td>[]</td>\n",
       "      <td>[6060000250]</td>\n",
       "      <td>[611005]</td>\n",
       "      <td>611005.0</td>\n",
       "    </tr>\n",
       "  </tbody>\n",
       "</table>\n",
       "<p>5 rows × 22 columns</p>\n",
       "</div>"
      ],
      "text/plain": [
       "    HYBAS_ID2  Unnamed: 0    HYBAS_ID  NEXT_DOWN   NEXT_SINK    MAIN_BAS  \\\n",
       "0  6060000010           0  6060000010          0  6060000010  6060000010   \n",
       "1  6060000200           1  6060000200          0  6060000200  6060000200   \n",
       "2  6060000210           2  6060000210          0  6060000210  6060000210   \n",
       "3  6060000240           3  6060000240          0  6060000240  6060000240   \n",
       "4  6060000250           4  6060000250          0  6060000250  6060000250   \n",
       "\n",
       "   DIST_SINK  DIST_MAIN  SUB_AREA  UP_AREA      ...        COAST  ORDER  SORT  \\\n",
       "0        0.0        0.0    4317.4   4317.4      ...            1      0     1   \n",
       "1        0.0        0.0   35995.5  35996.7      ...            0      1     2   \n",
       "2        0.0        0.0     443.9    443.9      ...            1      0     3   \n",
       "3        0.0        0.0    2186.3   2186.3      ...            0      1     4   \n",
       "4        0.0        0.0    6533.8   6533.8      ...            1      0     5   \n",
       "\n",
       "   Upstream_HYBAS_IDs  Upstream_PFAF_IDs Downstream_HYBAS_IDs  \\\n",
       "0                  []                 []                   []   \n",
       "1                  []                 []                   []   \n",
       "2                  []                 []                   []   \n",
       "3                  []                 []                   []   \n",
       "4                  []                 []                   []   \n",
       "\n",
       "  Downstream_PFAF_IDs Basin_HYBAS_IDs Basin_PFAF_IDs NEXT_SINK_PFAF  \n",
       "0                  []    [6060000010]       [611001]       611001.0  \n",
       "1                  []    [6060000200]       [611002]       611002.0  \n",
       "2                  []    [6060000210]       [611003]       611003.0  \n",
       "3                  []    [6060000240]       [611004]       611004.0  \n",
       "4                  []    [6060000250]       [611005]       611005.0  \n",
       "\n",
       "[5 rows x 22 columns]"
      ]
     },
     "execution_count": 11,
     "metadata": {},
     "output_type": "execute_result"
    }
   ],
   "source": [
    "dfDownstream.head()"
   ]
  },
  {
   "cell_type": "code",
   "execution_count": 12,
   "metadata": {},
   "outputs": [
    {
     "data": {
      "text/plain": [
       "['HYBAS_ID2',\n",
       " 'Unnamed: 0',\n",
       " 'HYBAS_ID',\n",
       " 'NEXT_DOWN',\n",
       " 'NEXT_SINK',\n",
       " 'MAIN_BAS',\n",
       " 'DIST_SINK',\n",
       " 'DIST_MAIN',\n",
       " 'SUB_AREA',\n",
       " 'UP_AREA',\n",
       " 'PFAF_ID',\n",
       " 'ENDO',\n",
       " 'COAST',\n",
       " 'ORDER',\n",
       " 'SORT',\n",
       " 'Upstream_HYBAS_IDs',\n",
       " 'Upstream_PFAF_IDs',\n",
       " 'Downstream_HYBAS_IDs',\n",
       " 'Downstream_PFAF_IDs',\n",
       " 'Basin_HYBAS_IDs',\n",
       " 'Basin_PFAF_IDs',\n",
       " 'NEXT_SINK_PFAF']"
      ]
     },
     "execution_count": 12,
     "metadata": {},
     "output_type": "execute_result"
    }
   ],
   "source": [
    "list(dfDownstream)"
   ]
  },
  {
   "cell_type": "code",
   "execution_count": 13,
   "metadata": {},
   "outputs": [
    {
     "data": {
      "text/plain": [
       "(16397, 22)"
      ]
     },
     "execution_count": 13,
     "metadata": {},
     "output_type": "execute_result"
    }
   ],
   "source": [
    "dfDownstream.shape"
   ]
  },
  {
   "cell_type": "code",
   "execution_count": 14,
   "metadata": {
    "collapsed": true
   },
   "outputs": [],
   "source": [
    "gdfHybas = gpd.read_file(os.path.join(EC2_INPUT_PATH,INPUT_FILE_NAME_HYBAS))"
   ]
  },
  {
   "cell_type": "code",
   "execution_count": 15,
   "metadata": {},
   "outputs": [],
   "source": [
    "gdfOut = gdfHybas.merge(dfDownstream, on='PFAF_ID',how=\"inner\")"
   ]
  },
  {
   "cell_type": "code",
   "execution_count": 16,
   "metadata": {
    "collapsed": true
   },
   "outputs": [],
   "source": [
    "gdfOut = gdfOut.merge(dfFAO,on='PFAF_ID',how=\"inner\")"
   ]
  },
  {
   "cell_type": "code",
   "execution_count": 17,
   "metadata": {},
   "outputs": [],
   "source": [
    "dfOut = gdfOut.drop('geometry',1)"
   ]
  },
  {
   "cell_type": "code",
   "execution_count": 18,
   "metadata": {},
   "outputs": [
    {
     "data": {
      "text/html": [
       "<div>\n",
       "<style>\n",
       "    .dataframe thead tr:only-child th {\n",
       "        text-align: right;\n",
       "    }\n",
       "\n",
       "    .dataframe thead th {\n",
       "        text-align: left;\n",
       "    }\n",
       "\n",
       "    .dataframe tbody tr th {\n",
       "        vertical-align: top;\n",
       "    }\n",
       "</style>\n",
       "<table border=\"1\" class=\"dataframe\">\n",
       "  <thead>\n",
       "    <tr style=\"text-align: right;\">\n",
       "      <th></th>\n",
       "      <th>COAST_x</th>\n",
       "      <th>DIST_MAIN_x</th>\n",
       "      <th>DIST_SINK_x</th>\n",
       "      <th>ENDO_x</th>\n",
       "      <th>HYBAS_ID_x</th>\n",
       "      <th>MAIN_BAS_x</th>\n",
       "      <th>NEXT_DOWN_x</th>\n",
       "      <th>NEXT_SINK_x</th>\n",
       "      <th>ORDER_x</th>\n",
       "      <th>PFAF_ID</th>\n",
       "      <th>...</th>\n",
       "      <th>Upstream_HYBAS_IDs</th>\n",
       "      <th>Upstream_PFAF_IDs</th>\n",
       "      <th>Downstream_HYBAS_IDs</th>\n",
       "      <th>Downstream_PFAF_IDs</th>\n",
       "      <th>Basin_HYBAS_IDs</th>\n",
       "      <th>Basin_PFAF_IDs</th>\n",
       "      <th>NEXT_SINK_PFAF</th>\n",
       "      <th>SUB_NAME</th>\n",
       "      <th>MAJ_NAME</th>\n",
       "      <th>FAOid_copy</th>\n",
       "    </tr>\n",
       "  </thead>\n",
       "  <tbody>\n",
       "    <tr>\n",
       "      <th>0</th>\n",
       "      <td>1</td>\n",
       "      <td>0.0</td>\n",
       "      <td>0.0</td>\n",
       "      <td>0</td>\n",
       "      <td>6060000010</td>\n",
       "      <td>6060000010</td>\n",
       "      <td>0</td>\n",
       "      <td>6060000010</td>\n",
       "      <td>0</td>\n",
       "      <td>611001</td>\n",
       "      <td>...</td>\n",
       "      <td>[]</td>\n",
       "      <td>[]</td>\n",
       "      <td>[]</td>\n",
       "      <td>[]</td>\n",
       "      <td>[6060000010]</td>\n",
       "      <td>[611001]</td>\n",
       "      <td>611001.0</td>\n",
       "      <td>['Archipielago de San Blas Coast', 'Altrato 1']</td>\n",
       "      <td>['Caribbean Coast', 'Caribbean Coast']</td>\n",
       "      <td>['MAJ_BAS_3001_SUB_BASE_0001002', 'MAJ_BAS_300...</td>\n",
       "    </tr>\n",
       "    <tr>\n",
       "      <th>1</th>\n",
       "      <td>0</td>\n",
       "      <td>0.0</td>\n",
       "      <td>0.0</td>\n",
       "      <td>0</td>\n",
       "      <td>6060000200</td>\n",
       "      <td>6060000200</td>\n",
       "      <td>0</td>\n",
       "      <td>6060000200</td>\n",
       "      <td>1</td>\n",
       "      <td>611002</td>\n",
       "      <td>...</td>\n",
       "      <td>[]</td>\n",
       "      <td>[]</td>\n",
       "      <td>[]</td>\n",
       "      <td>[]</td>\n",
       "      <td>[6060000200]</td>\n",
       "      <td>[611002]</td>\n",
       "      <td>611002.0</td>\n",
       "      <td>['Altrato 1', 'Sucio', 'Altrato 2']</td>\n",
       "      <td>['Caribbean Coast', 'Caribbean Coast', 'Caribb...</td>\n",
       "      <td>['MAJ_BAS_3001_SUB_BASE_0001003', 'MAJ_BAS_300...</td>\n",
       "    </tr>\n",
       "    <tr>\n",
       "      <th>2</th>\n",
       "      <td>1</td>\n",
       "      <td>0.0</td>\n",
       "      <td>0.0</td>\n",
       "      <td>0</td>\n",
       "      <td>6060000210</td>\n",
       "      <td>6060000210</td>\n",
       "      <td>0</td>\n",
       "      <td>6060000210</td>\n",
       "      <td>0</td>\n",
       "      <td>611003</td>\n",
       "      <td>...</td>\n",
       "      <td>[]</td>\n",
       "      <td>[]</td>\n",
       "      <td>[]</td>\n",
       "      <td>[]</td>\n",
       "      <td>[6060000210]</td>\n",
       "      <td>[611003]</td>\n",
       "      <td>611003.0</td>\n",
       "      <td>['Altrato 1', 'Golfo del Darien Coast']</td>\n",
       "      <td>['Caribbean Coast', 'Caribbean Coast']</td>\n",
       "      <td>['MAJ_BAS_3001_SUB_BASE_0001003', 'MAJ_BAS_300...</td>\n",
       "    </tr>\n",
       "    <tr>\n",
       "      <th>3</th>\n",
       "      <td>0</td>\n",
       "      <td>0.0</td>\n",
       "      <td>0.0</td>\n",
       "      <td>0</td>\n",
       "      <td>6060000240</td>\n",
       "      <td>6060000240</td>\n",
       "      <td>0</td>\n",
       "      <td>6060000240</td>\n",
       "      <td>1</td>\n",
       "      <td>611004</td>\n",
       "      <td>...</td>\n",
       "      <td>[]</td>\n",
       "      <td>[]</td>\n",
       "      <td>[]</td>\n",
       "      <td>[]</td>\n",
       "      <td>[6060000240]</td>\n",
       "      <td>[611004]</td>\n",
       "      <td>611004.0</td>\n",
       "      <td>['Golfo del Darien Coast']</td>\n",
       "      <td>['Caribbean Coast']</td>\n",
       "      <td>['MAJ_BAS_3001_SUB_BASE_0001006']</td>\n",
       "    </tr>\n",
       "    <tr>\n",
       "      <th>4</th>\n",
       "      <td>1</td>\n",
       "      <td>0.0</td>\n",
       "      <td>0.0</td>\n",
       "      <td>0</td>\n",
       "      <td>6060000250</td>\n",
       "      <td>6060000250</td>\n",
       "      <td>0</td>\n",
       "      <td>6060000250</td>\n",
       "      <td>0</td>\n",
       "      <td>611005</td>\n",
       "      <td>...</td>\n",
       "      <td>[]</td>\n",
       "      <td>[]</td>\n",
       "      <td>[]</td>\n",
       "      <td>[]</td>\n",
       "      <td>[6060000250]</td>\n",
       "      <td>[611005]</td>\n",
       "      <td>611005.0</td>\n",
       "      <td>['Golfo del Darien Coast', 'Sinu']</td>\n",
       "      <td>['Caribbean Coast', 'Caribbean Coast']</td>\n",
       "      <td>['MAJ_BAS_3001_SUB_BASE_0001006', 'MAJ_BAS_300...</td>\n",
       "    </tr>\n",
       "  </tbody>\n",
       "</table>\n",
       "<p>5 rows × 37 columns</p>\n",
       "</div>"
      ],
      "text/plain": [
       "   COAST_x  DIST_MAIN_x  DIST_SINK_x  ENDO_x  HYBAS_ID_x  MAIN_BAS_x  \\\n",
       "0        1          0.0          0.0       0  6060000010  6060000010   \n",
       "1        0          0.0          0.0       0  6060000200  6060000200   \n",
       "2        1          0.0          0.0       0  6060000210  6060000210   \n",
       "3        0          0.0          0.0       0  6060000240  6060000240   \n",
       "4        1          0.0          0.0       0  6060000250  6060000250   \n",
       "\n",
       "   NEXT_DOWN_x  NEXT_SINK_x  ORDER_x  PFAF_ID  \\\n",
       "0            0   6060000010        0   611001   \n",
       "1            0   6060000200        1   611002   \n",
       "2            0   6060000210        0   611003   \n",
       "3            0   6060000240        1   611004   \n",
       "4            0   6060000250        0   611005   \n",
       "\n",
       "                         ...                          Upstream_HYBAS_IDs  \\\n",
       "0                        ...                                          []   \n",
       "1                        ...                                          []   \n",
       "2                        ...                                          []   \n",
       "3                        ...                                          []   \n",
       "4                        ...                                          []   \n",
       "\n",
       "   Upstream_PFAF_IDs  Downstream_HYBAS_IDs  Downstream_PFAF_IDs  \\\n",
       "0                 []                    []                   []   \n",
       "1                 []                    []                   []   \n",
       "2                 []                    []                   []   \n",
       "3                 []                    []                   []   \n",
       "4                 []                    []                   []   \n",
       "\n",
       "   Basin_HYBAS_IDs  Basin_PFAF_IDs  NEXT_SINK_PFAF  \\\n",
       "0     [6060000010]        [611001]        611001.0   \n",
       "1     [6060000200]        [611002]        611002.0   \n",
       "2     [6060000210]        [611003]        611003.0   \n",
       "3     [6060000240]        [611004]        611004.0   \n",
       "4     [6060000250]        [611005]        611005.0   \n",
       "\n",
       "                                          SUB_NAME  \\\n",
       "0  ['Archipielago de San Blas Coast', 'Altrato 1']   \n",
       "1              ['Altrato 1', 'Sucio', 'Altrato 2']   \n",
       "2          ['Altrato 1', 'Golfo del Darien Coast']   \n",
       "3                       ['Golfo del Darien Coast']   \n",
       "4               ['Golfo del Darien Coast', 'Sinu']   \n",
       "\n",
       "                                            MAJ_NAME  \\\n",
       "0             ['Caribbean Coast', 'Caribbean Coast']   \n",
       "1  ['Caribbean Coast', 'Caribbean Coast', 'Caribb...   \n",
       "2             ['Caribbean Coast', 'Caribbean Coast']   \n",
       "3                                ['Caribbean Coast']   \n",
       "4             ['Caribbean Coast', 'Caribbean Coast']   \n",
       "\n",
       "                                          FAOid_copy  \n",
       "0  ['MAJ_BAS_3001_SUB_BASE_0001002', 'MAJ_BAS_300...  \n",
       "1  ['MAJ_BAS_3001_SUB_BASE_0001003', 'MAJ_BAS_300...  \n",
       "2  ['MAJ_BAS_3001_SUB_BASE_0001003', 'MAJ_BAS_300...  \n",
       "3                  ['MAJ_BAS_3001_SUB_BASE_0001006']  \n",
       "4  ['MAJ_BAS_3001_SUB_BASE_0001006', 'MAJ_BAS_300...  \n",
       "\n",
       "[5 rows x 37 columns]"
      ]
     },
     "execution_count": 18,
     "metadata": {},
     "output_type": "execute_result"
    }
   ],
   "source": [
    "dfOut.head()"
   ]
  },
  {
   "cell_type": "code",
   "execution_count": 19,
   "metadata": {},
   "outputs": [],
   "source": [
    "dfOutSimple = dfOut[\"PFAF_ID\"]"
   ]
  },
  {
   "cell_type": "code",
   "execution_count": 20,
   "metadata": {},
   "outputs": [],
   "source": [
    "gdfOutSimple = gpd.GeoDataFrame(dfOutSimple, geometry=gdfOut.geometry)"
   ]
  },
  {
   "cell_type": "code",
   "execution_count": 21,
   "metadata": {},
   "outputs": [],
   "source": [
    "gdfOutSimple.to_file(os.path.join(EC2_OUTPUT_PATH,OUTPUT_FILE_NAME+\".shp\"))"
   ]
  },
  {
   "cell_type": "code",
   "execution_count": 22,
   "metadata": {
    "collapsed": true
   },
   "outputs": [],
   "source": [
    "dfOut.to_csv(os.path.join(EC2_OUTPUT_PATH,OUTPUT_FILE_NAME+\".csv\"))"
   ]
  },
  {
   "cell_type": "code",
   "execution_count": 23,
   "metadata": {},
   "outputs": [
    {
     "name": "stdout",
     "output_type": "stream",
     "text": [
      "upload: Y2017M08D29_RH_Merge_FAONames_Upstream_V01/output/hybas_lev06_v1c_merged_fiona_upstream_downstream_FAO_V01.prj to s3://wri-projects/Aqueduct30/processData/Y2017M08D29_RH_Merge_FAONames_Upstream_V01/output/hybas_lev06_v1c_merged_fiona_upstream_downstream_FAO_V01.prj\n",
      "upload: Y2017M08D29_RH_Merge_FAONames_Upstream_V01/output/hybas_lev06_v1c_merged_fiona_upstream_downstream_FAO_V01.cpg to s3://wri-projects/Aqueduct30/processData/Y2017M08D29_RH_Merge_FAONames_Upstream_V01/output/hybas_lev06_v1c_merged_fiona_upstream_downstream_FAO_V01.cpg\n",
      "upload: Y2017M08D29_RH_Merge_FAONames_Upstream_V01/output/hybas_lev06_v1c_merged_fiona_upstream_downstream_FAO_V01.dbf to s3://wri-projects/Aqueduct30/processData/Y2017M08D29_RH_Merge_FAONames_Upstream_V01/output/hybas_lev06_v1c_merged_fiona_upstream_downstream_FAO_V01.dbf\n",
      "upload: Y2017M08D29_RH_Merge_FAONames_Upstream_V01/output/hybas_lev06_v1c_merged_fiona_upstream_downstream_FAO_V01.csv to s3://wri-projects/Aqueduct30/processData/Y2017M08D29_RH_Merge_FAONames_Upstream_V01/output/hybas_lev06_v1c_merged_fiona_upstream_downstream_FAO_V01.csv\n",
      "upload: Y2017M08D29_RH_Merge_FAONames_Upstream_V01/output/hybas_lev06_v1c_merged_fiona_upstream_downstream_FAO_V01.shp to s3://wri-projects/Aqueduct30/processData/Y2017M08D29_RH_Merge_FAONames_Upstream_V01/output/hybas_lev06_v1c_merged_fiona_upstream_downstream_FAO_V01.shp\n",
      "upload: Y2017M08D29_RH_Merge_FAONames_Upstream_V01/output/hybas_lev06_v1c_merged_fiona_upstream_downstream_FAO_V01.shx to s3://wri-projects/Aqueduct30/processData/Y2017M08D29_RH_Merge_FAONames_Upstream_V01/output/hybas_lev06_v1c_merged_fiona_upstream_downstream_FAO_V01.shx\n"
     ]
    }
   ],
   "source": [
    "!aws s3 cp {EC2_OUTPUT_PATH} {S3_OUTPUT_PATH} --recursive"
   ]
  },
  {
   "cell_type": "code",
   "execution_count": null,
   "metadata": {
    "collapsed": true
   },
   "outputs": [],
   "source": []
  },
  {
   "cell_type": "code",
   "execution_count": null,
   "metadata": {
    "collapsed": true
   },
   "outputs": [],
   "source": []
  }
 ],
 "metadata": {
  "kernelspec": {
   "display_name": "Python 35",
   "language": "python",
   "name": "python35"
  },
  "language_info": {
   "codemirror_mode": {
    "name": "ipython",
    "version": 3
   },
   "file_extension": ".py",
   "mimetype": "text/x-python",
   "name": "python",
   "nbconvert_exporter": "python",
   "pygments_lexer": "ipython3",
   "version": "3.5.4"
  }
 },
 "nbformat": 4,
 "nbformat_minor": 2
}
