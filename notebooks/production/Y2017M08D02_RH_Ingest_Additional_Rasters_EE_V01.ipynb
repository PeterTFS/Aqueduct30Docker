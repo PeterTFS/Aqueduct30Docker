{
 "cells": [
  {
   "cell_type": "markdown",
   "metadata": {},
   "source": [
    "# Ingest Additional Rasters on Earth Engine\n",
    "\n",
    "* Purpose of script: This notebook will ingest some of the missing rasters to Earth Engine \n",
    "* Author: Rutger Hofste\n",
    "* Kernel used: python27\n",
    "* Date created: 20170803"
   ]
  },
  {
   "cell_type": "markdown",
   "metadata": {},
   "source": [
    "## Preparation\n",
    "\n",
    "1. gcloud authorization (`gcloud init`)\n",
    "1. earthengine authorization (`earthengine authorize`)\n",
    "1. aws authorization (`aws configure`)\n"
   ]
  },
  {
   "cell_type": "code",
   "execution_count": 16,
   "metadata": {
    "collapsed": true
   },
   "outputs": [],
   "source": [
    "!rm -r /volumes/data/PCRGlobWB20V01/additional"
   ]
  },
  {
   "cell_type": "code",
   "execution_count": 17,
   "metadata": {
    "collapsed": true
   },
   "outputs": [],
   "source": [
    "!mkdir /volumes/data/PCRGlobWB20V01/additional"
   ]
  },
  {
   "cell_type": "code",
   "execution_count": 18,
   "metadata": {},
   "outputs": [
    {
     "name": "stdout",
     "output_type": "stream",
     "text": [
      "download: s3://wri-projects/Aqueduct30/rawData/WRI/samplegeotiff/readme.txt to ../../../../data/PCRGlobWB20V01/additional/readme.txt\n",
      "download: s3://wri-projects/Aqueduct30/rawData/WRI/samplegeotiff/sampleGeotiff.tiff to ../../../../data/PCRGlobWB20V01/additional/sampleGeotiff.tiff\n"
     ]
    }
   ],
   "source": [
    "!aws s3 cp s3://wri-projects/Aqueduct30/rawData/WRI/samplegeotiff /volumes/data/PCRGlobWB20V01/additional --recursive"
   ]
  },
  {
   "cell_type": "markdown",
   "metadata": {},
   "source": [
    "Check if the file is actually copied"
   ]
  },
  {
   "cell_type": "code",
   "execution_count": 19,
   "metadata": {},
   "outputs": [
    {
     "name": "stdout",
     "output_type": "stream",
     "text": [
      "readme.txt  sampleGeotiff.tiff\r\n"
     ]
    }
   ],
   "source": [
    "!ls /volumes/data/PCRGlobWB20V01/additional/"
   ]
  },
  {
   "cell_type": "markdown",
   "metadata": {},
   "source": [
    "Copy Indicator files to EC2 instance"
   ]
  },
  {
   "cell_type": "code",
   "execution_count": 20,
   "metadata": {},
   "outputs": [
    {
     "name": "stdout",
     "output_type": "stream",
     "text": [
      "mkdir: cannot create directory '/volumes/data/Y2017M08D02_RH_Ingest_Additional_Rasters_EE_V01': File exists\r\n"
     ]
    }
   ],
   "source": [
    "!mkdir /volumes/data/Y2017M08D02_RH_Ingest_Additional_Rasters_EE_V01"
   ]
  },
  {
   "cell_type": "code",
   "execution_count": 21,
   "metadata": {
    "scrolled": true
   },
   "outputs": [
    {
     "name": "stdout",
     "output_type": "stream",
     "text": [
      "download: s3://wri-projects/Aqueduct30/processData/03PCRGlobWBIndicatorsV01/global_droughtseveritystandardisedsoilmoisture_5min_1960-2014.asc to ../../../../data/Y2017M08D02_RH_Ingest_Additional_Rasters_EE_V01/global_droughtseveritystandardisedsoilmoisture_5min_1960-2014.asc\n",
      "download: s3://wri-projects/Aqueduct30/processData/03PCRGlobWBIndicatorsV01/global_environmentalflows_5min_1960-2014.asc to ../../../../data/Y2017M08D02_RH_Ingest_Additional_Rasters_EE_V01/global_environmentalflows_5min_1960-2014.asc\n",
      "download: s3://wri-projects/Aqueduct30/processData/03PCRGlobWBIndicatorsV01/global_q3seasonalvariabilitywatersupply_5min_1960-2014.asc to ../../../../data/Y2017M08D02_RH_Ingest_Additional_Rasters_EE_V01/global_q3seasonalvariabilitywatersupply_5min_1960-2014.asc\n",
      "download: s3://wri-projects/Aqueduct30/processData/03PCRGlobWBIndicatorsV01/global_q1seasonalvariabilitywatersupply_5min_1960-2014.asc to ../../../../data/Y2017M08D02_RH_Ingest_Additional_Rasters_EE_V01/global_q1seasonalvariabilitywatersupply_5min_1960-2014.asc\n",
      "download: s3://wri-projects/Aqueduct30/processData/03PCRGlobWBIndicatorsV01/global_q4seasonalvariabilitywatersupply_5min_1960-2014.asc to ../../../../data/Y2017M08D02_RH_Ingest_Additional_Rasters_EE_V01/global_q4seasonalvariabilitywatersupply_5min_1960-2014.asc\n",
      "download: s3://wri-projects/Aqueduct30/processData/03PCRGlobWBIndicatorsV01/global_q2seasonalvariabilitywatersupply_5min_1960-2014.asc to ../../../../data/Y2017M08D02_RH_Ingest_Additional_Rasters_EE_V01/global_q2seasonalvariabilitywatersupply_5min_1960-2014.asc\n",
      "download: s3://wri-projects/Aqueduct30/processData/03PCRGlobWBIndicatorsV01/global_droughtseveritystandardisedstreamflow_5min_1960-2014.asc to ../../../../data/Y2017M08D02_RH_Ingest_Additional_Rasters_EE_V01/global_droughtseveritystandardisedstreamflow_5min_1960-2014.asc\n",
      "download: s3://wri-projects/Aqueduct30/processData/03PCRGlobWBIndicatorsV01/global_interannualvariabilitywatersupply_5min_1960-2014.asc to ../../../../data/Y2017M08D02_RH_Ingest_Additional_Rasters_EE_V01/global_interannualvariabilitywatersupply_5min_1960-2014.asc\n"
     ]
    }
   ],
   "source": [
    "!aws s3 cp \\\n",
    "s3://wri-projects/Aqueduct30/processData/03PCRGlobWBIndicatorsV01 \\\n",
    "/volumes/data/Y2017M08D02_RH_Ingest_Additional_Rasters_EE_V01 --recursive"
   ]
  },
  {
   "cell_type": "markdown",
   "metadata": {},
   "source": [
    "Create output folder to store geotiffs"
   ]
  },
  {
   "cell_type": "code",
   "execution_count": 30,
   "metadata": {
    "collapsed": true
   },
   "outputs": [],
   "source": [
    "!mkdir /volumes/data/Y2017M08D02_RH_Ingest_Additional_Rasters_EE_V01/output"
   ]
  },
  {
   "cell_type": "markdown",
   "metadata": {},
   "source": [
    "## Script"
   ]
  },
  {
   "cell_type": "markdown",
   "metadata": {},
   "source": [
    "Create working environment and copy relevant files"
   ]
  },
  {
   "cell_type": "code",
   "execution_count": 63,
   "metadata": {
    "collapsed": true
   },
   "outputs": [],
   "source": [
    "INPUTLOCATION_SAMPLE_GEOTIFF = \"/volumes/data/PCRGlobWB20V01/additional/sampleGeotiff.tiff\"\n",
    "INPUTLOCATION_INDICATORS = \"/volumes/data/Y2017M08D02_RH_Ingest_Additional_Rasters_EE_V01/\"\n",
    "OUTPUTLOCATION_INDICATORS = \"/volumes/data/Y2017M08D02_RH_Ingest_Additional_Rasters_EE_V01/output\"\n",
    "GCS_BASE = \"gs://aqueduct30_v01/Y2017M08D02_RH_Ingest_Additional_Rasters_EE_V01/\"\n",
    "EE_BASE = \"projects/WRI-Aquaduct/PCRGlobWB20V05\""
   ]
  },
  {
   "cell_type": "code",
   "execution_count": 90,
   "metadata": {
    "collapsed": true
   },
   "outputs": [],
   "source": [
    "try:\n",
    "    from osgeo import ogr, osr, gdal\n",
    "except:\n",
    "    sys.exit('ERROR: cannot find GDAL/OGR modules')\n",
    "    \n",
    "from netCDF4 import Dataset\n",
    "import os\n",
    "import datetime\n",
    "import subprocess\n",
    "import pandas as pd\n",
    "import re"
   ]
  },
  {
   "cell_type": "code",
   "execution_count": 92,
   "metadata": {
    "collapsed": true
   },
   "outputs": [],
   "source": [
    "def readFile(filename):\n",
    "    filehandle = gdal.Open(filename)\n",
    "    band1 = filehandle.GetRasterBand(1)\n",
    "    geotransform = filehandle.GetGeoTransform()\n",
    "    geoproj = filehandle.GetProjection()\n",
    "    Z = band1.ReadAsArray()\n",
    "    xsize = filehandle.RasterXSize\n",
    "    ysize = filehandle.RasterYSize\n",
    "    filehandle = None\n",
    "    return xsize,ysize,geotransform,geoproj,Z\n",
    "\n",
    "def writeFile(filename,geotransform,geoprojection,data):\n",
    "    (x,y) = data.shape\n",
    "    format = \"GTiff\"\n",
    "    driver = gdal.GetDriverByName(format)\n",
    "    # you can change the dataformat but be sure to be able to store negative values including -9999\n",
    "    dst_datatype = gdal.GDT_Float32\n",
    "    dst_ds = driver.Create(filename,y,x,1,dst_datatype, [ 'COMPRESS=LZW' ])\n",
    "    dst_ds.GetRasterBand(1).SetNoDataValue(-9999)\n",
    "    dst_ds.GetRasterBand(1).WriteArray(data)\n",
    "    dst_ds.SetGeoTransform(geotransform)\n",
    "    dst_ds.SetProjection(geoprojection)\n",
    "    dst_ds = None\n",
    "    return 1\n",
    "\n",
    "def splitKey(key):\n",
    "    prefix, extension = key.split(\".\")\n",
    "    fileName = prefix.split(\"/\")[-1]\n",
    "    outDict = {\"fileName\":fileName,\"extension\":extension}\n",
    "    return outDict\n",
    "\n",
    "def splitFileName(fileName):\n",
    "    values = re.split(\"_|-\", fileName)\n",
    "    keys = [\"geographic_range\",\"indicator\",\"spatial_resolution\",\"temporal_range_min\",\"temporal_range_max\"]\n",
    "    outDict = dict(zip(keys, values))\n",
    "    outDict[\"fileName\"] = fileName\n",
    "    return outDict"
   ]
  },
  {
   "cell_type": "code",
   "execution_count": 49,
   "metadata": {},
   "outputs": [],
   "source": [
    "[xsizeSample,ysizeSample,geotransformSample,geoprojSample,ZSample] = readFile(INPUTLOCATION_SAMPLE_GEOTIFF)"
   ]
  },
  {
   "cell_type": "code",
   "execution_count": 50,
   "metadata": {},
   "outputs": [],
   "source": [
    "files = os.listdir(INPUTLOCATION_INDICATORS)"
   ]
  },
  {
   "cell_type": "code",
   "execution_count": 53,
   "metadata": {},
   "outputs": [],
   "source": [
    "newExtension =\".tif\"\n",
    "for oneFile in files:\n",
    "    if oneFile.endswith(\".asc\"):\n",
    "        base , extension = oneFile.split(\".\")\n",
    "        xsize,ysize,geotransform,geoproj,Z = readFile(os.path.join(INPUTLOCATION_INDICATORS,oneFile))\n",
    "        Z[Z<-9990]= -9999\n",
    "        Z[Z>1e19] = -9999\n",
    "        outputFileName = base + newExtension\n",
    "        writeFile(os.path.join(OUTPUTLOCATION_INDICATORS,outputFileName),geotransformSample,geoprojSample,Z)\n",
    "    "
   ]
  },
  {
   "cell_type": "markdown",
   "metadata": {},
   "source": [
    "Upload to GCS"
   ]
  },
  {
   "cell_type": "code",
   "execution_count": 66,
   "metadata": {},
   "outputs": [
    {
     "name": "stdout",
     "output_type": "stream",
     "text": [
      "Copying file:///volumes/data/Y2017M08D02_RH_Ingest_Additional_Rasters_EE_V01/output/global_interannualvariabilitywatersupply_5min_1960-2014.tif [Content-Type=image/tiff]...\n",
      "Copying file:///volumes/data/Y2017M08D02_RH_Ingest_Additional_Rasters_EE_V01/output/global_droughtseveritystandardisedsoilmoisture_5min_1960-2014.tif [Content-Type=image/tiff]...\n",
      "Copying file:///volumes/data/Y2017M08D02_RH_Ingest_Additional_Rasters_EE_V01/output/global_q1seasonalvariabilitywatersupply_5min_1960-2014.tif [Content-Type=image/tiff]...\n",
      "Copying file:///volumes/data/Y2017M08D02_RH_Ingest_Additional_Rasters_EE_V01/output/global_droughtseveritystandardisedstreamflow_5min_1960-2014.tif [Content-Type=image/tiff]...\n",
      "Copying file:///volumes/data/Y2017M08D02_RH_Ingest_Additional_Rasters_EE_V01/output/global_environmentalflows_5min_1960-2014.tif [Content-Type=image/tiff]...\n",
      "Copying file:///volumes/data/Y2017M08D02_RH_Ingest_Additional_Rasters_EE_V01/output/global_q2seasonalvariabilitywatersupply_5min_1960-2014.tif [Content-Type=image/tiff]...\n",
      "Copying file:///volumes/data/Y2017M08D02_RH_Ingest_Additional_Rasters_EE_V01/output/global_q4seasonalvariabilitywatersupply_5min_1960-2014.tif [Content-Type=image/tiff]...\n",
      "Copying file:///volumes/data/Y2017M08D02_RH_Ingest_Additional_Rasters_EE_V01/output/global_q3seasonalvariabilitywatersupply_5min_1960-2014.tif [Content-Type=image/tiff]...\n",
      "\\ [8/8 files][ 78.5 MiB/ 78.5 MiB] 100% Done                                    \n",
      "Operation completed over 8 objects/78.5 MiB.                                     \n"
     ]
    }
   ],
   "source": [
    "!gsutil -m cp \\\n",
    "{OUTPUTLOCATION_INDICATORS}/*.tif \\\n",
    "{GCS_BASE}"
   ]
  },
  {
   "cell_type": "markdown",
   "metadata": {},
   "source": [
    "Ingest in earthengine"
   ]
  },
  {
   "cell_type": "code",
   "execution_count": 64,
   "metadata": {},
   "outputs": [],
   "source": [
    "command = (\"/opt/google-cloud-sdk/bin/gsutil ls %s\") %(GCS_BASE)"
   ]
  },
  {
   "cell_type": "code",
   "execution_count": 94,
   "metadata": {
    "collapsed": true
   },
   "outputs": [],
   "source": [
    "keys = subprocess.check_output(command,shell=True)\n",
    "keys2 = keys.decode('UTF-8').splitlines()"
   ]
  },
  {
   "cell_type": "code",
   "execution_count": 95,
   "metadata": {},
   "outputs": [],
   "source": [
    "df = pd.DataFrame()\n",
    "i = 0\n",
    "for key in keys2:\n",
    "    i = i+1\n",
    "    outDict_key = splitKey(key)\n",
    "    df2 = pd.DataFrame(outDict_key,index=[i])\n",
    "    df = df.append(df2)   "
   ]
  },
  {
   "cell_type": "code",
   "execution_count": 96,
   "metadata": {},
   "outputs": [
    {
     "data": {
      "text/html": [
       "<div>\n",
       "<style>\n",
       "    .dataframe thead tr:only-child th {\n",
       "        text-align: right;\n",
       "    }\n",
       "\n",
       "    .dataframe thead th {\n",
       "        text-align: left;\n",
       "    }\n",
       "\n",
       "    .dataframe tbody tr th {\n",
       "        vertical-align: top;\n",
       "    }\n",
       "</style>\n",
       "<table border=\"1\" class=\"dataframe\">\n",
       "  <thead>\n",
       "    <tr style=\"text-align: right;\">\n",
       "      <th></th>\n",
       "      <th>extension</th>\n",
       "      <th>fileName</th>\n",
       "    </tr>\n",
       "  </thead>\n",
       "  <tbody>\n",
       "    <tr>\n",
       "      <th>1</th>\n",
       "      <td>tif</td>\n",
       "      <td>global_droughtseveritystandardisedsoilmoisture...</td>\n",
       "    </tr>\n",
       "    <tr>\n",
       "      <th>2</th>\n",
       "      <td>tif</td>\n",
       "      <td>global_droughtseveritystandardisedstreamflow_5...</td>\n",
       "    </tr>\n",
       "    <tr>\n",
       "      <th>3</th>\n",
       "      <td>tif</td>\n",
       "      <td>global_environmentalflows_5min_1960-2014</td>\n",
       "    </tr>\n",
       "    <tr>\n",
       "      <th>4</th>\n",
       "      <td>tif</td>\n",
       "      <td>global_interannualvariabilitywatersupply_5min_...</td>\n",
       "    </tr>\n",
       "    <tr>\n",
       "      <th>5</th>\n",
       "      <td>tif</td>\n",
       "      <td>global_q1seasonalvariabilitywatersupply_5min_1...</td>\n",
       "    </tr>\n",
       "  </tbody>\n",
       "</table>\n",
       "</div>"
      ],
      "text/plain": [
       "  extension                                           fileName\n",
       "1       tif  global_droughtseveritystandardisedsoilmoisture...\n",
       "2       tif  global_droughtseveritystandardisedstreamflow_5...\n",
       "3       tif           global_environmentalflows_5min_1960-2014\n",
       "4       tif  global_interannualvariabilitywatersupply_5min_...\n",
       "5       tif  global_q1seasonalvariabilitywatersupply_5min_1..."
      ]
     },
     "execution_count": 96,
     "metadata": {},
     "output_type": "execute_result"
    }
   ],
   "source": [
    "df.head()"
   ]
  },
  {
   "cell_type": "code",
   "execution_count": 97,
   "metadata": {},
   "outputs": [
    {
     "name": "stdout",
     "output_type": "stream",
     "text": [
      "global_droughtseveritystandardisedstreamflow_5min_1960-2014\n"
     ]
    }
   ],
   "source": []
  },
  {
   "cell_type": "code",
   "execution_count": 107,
   "metadata": {},
   "outputs": [],
   "source": [
    "df_fileName = pd.DataFrame()\n",
    "\n",
    "for index, row in df.iterrows():\n",
    "    outDict_fileName = splitFileName(row.fileName)\n",
    "    df2 = pd.DataFrame(outDict_fileName,index=[index])\n",
    "    df_fileName = df_fileName.append(df2)  "
   ]
  },
  {
   "cell_type": "code",
   "execution_count": 108,
   "metadata": {},
   "outputs": [
    {
     "data": {
      "text/html": [
       "<div>\n",
       "<style>\n",
       "    .dataframe thead tr:only-child th {\n",
       "        text-align: right;\n",
       "    }\n",
       "\n",
       "    .dataframe thead th {\n",
       "        text-align: left;\n",
       "    }\n",
       "\n",
       "    .dataframe tbody tr th {\n",
       "        vertical-align: top;\n",
       "    }\n",
       "</style>\n",
       "<table border=\"1\" class=\"dataframe\">\n",
       "  <thead>\n",
       "    <tr style=\"text-align: right;\">\n",
       "      <th></th>\n",
       "      <th>fileName</th>\n",
       "      <th>geographic_range</th>\n",
       "      <th>indicator</th>\n",
       "      <th>spatial_resolution</th>\n",
       "      <th>temporal_range_max</th>\n",
       "      <th>temporal_range_min</th>\n",
       "    </tr>\n",
       "  </thead>\n",
       "  <tbody>\n",
       "    <tr>\n",
       "      <th>1</th>\n",
       "      <td>global_droughtseveritystandardisedsoilmoisture...</td>\n",
       "      <td>global</td>\n",
       "      <td>droughtseveritystandardisedsoilmoisture</td>\n",
       "      <td>5min</td>\n",
       "      <td>2014</td>\n",
       "      <td>1960</td>\n",
       "    </tr>\n",
       "    <tr>\n",
       "      <th>2</th>\n",
       "      <td>global_droughtseveritystandardisedstreamflow_5...</td>\n",
       "      <td>global</td>\n",
       "      <td>droughtseveritystandardisedstreamflow</td>\n",
       "      <td>5min</td>\n",
       "      <td>2014</td>\n",
       "      <td>1960</td>\n",
       "    </tr>\n",
       "    <tr>\n",
       "      <th>3</th>\n",
       "      <td>global_environmentalflows_5min_1960-2014</td>\n",
       "      <td>global</td>\n",
       "      <td>environmentalflows</td>\n",
       "      <td>5min</td>\n",
       "      <td>2014</td>\n",
       "      <td>1960</td>\n",
       "    </tr>\n",
       "    <tr>\n",
       "      <th>4</th>\n",
       "      <td>global_interannualvariabilitywatersupply_5min_...</td>\n",
       "      <td>global</td>\n",
       "      <td>interannualvariabilitywatersupply</td>\n",
       "      <td>5min</td>\n",
       "      <td>2014</td>\n",
       "      <td>1960</td>\n",
       "    </tr>\n",
       "    <tr>\n",
       "      <th>5</th>\n",
       "      <td>global_q1seasonalvariabilitywatersupply_5min_1...</td>\n",
       "      <td>global</td>\n",
       "      <td>q1seasonalvariabilitywatersupply</td>\n",
       "      <td>5min</td>\n",
       "      <td>2014</td>\n",
       "      <td>1960</td>\n",
       "    </tr>\n",
       "  </tbody>\n",
       "</table>\n",
       "</div>"
      ],
      "text/plain": [
       "                                            fileName geographic_range  \\\n",
       "1  global_droughtseveritystandardisedsoilmoisture...           global   \n",
       "2  global_droughtseveritystandardisedstreamflow_5...           global   \n",
       "3           global_environmentalflows_5min_1960-2014           global   \n",
       "4  global_interannualvariabilitywatersupply_5min_...           global   \n",
       "5  global_q1seasonalvariabilitywatersupply_5min_1...           global   \n",
       "\n",
       "                                 indicator spatial_resolution  \\\n",
       "1  droughtseveritystandardisedsoilmoisture               5min   \n",
       "2    droughtseveritystandardisedstreamflow               5min   \n",
       "3                       environmentalflows               5min   \n",
       "4        interannualvariabilitywatersupply               5min   \n",
       "5         q1seasonalvariabilitywatersupply               5min   \n",
       "\n",
       "  temporal_range_max temporal_range_min  \n",
       "1               2014               1960  \n",
       "2               2014               1960  \n",
       "3               2014               1960  \n",
       "4               2014               1960  \n",
       "5               2014               1960  "
      ]
     },
     "execution_count": 108,
     "metadata": {},
     "output_type": "execute_result"
    }
   ],
   "source": [
    "df_fileName.head()"
   ]
  },
  {
   "cell_type": "code",
   "execution_count": 109,
   "metadata": {
    "collapsed": true
   },
   "outputs": [],
   "source": [
    "df_complete = df.merge(df_fileName,how='left',left_on='fileName',right_on='fileName')"
   ]
  },
  {
   "cell_type": "code",
   "execution_count": 110,
   "metadata": {},
   "outputs": [
    {
     "data": {
      "text/html": [
       "<div>\n",
       "<style>\n",
       "    .dataframe thead tr:only-child th {\n",
       "        text-align: right;\n",
       "    }\n",
       "\n",
       "    .dataframe thead th {\n",
       "        text-align: left;\n",
       "    }\n",
       "\n",
       "    .dataframe tbody tr th {\n",
       "        vertical-align: top;\n",
       "    }\n",
       "</style>\n",
       "<table border=\"1\" class=\"dataframe\">\n",
       "  <thead>\n",
       "    <tr style=\"text-align: right;\">\n",
       "      <th></th>\n",
       "      <th>extension</th>\n",
       "      <th>fileName</th>\n",
       "      <th>geographic_range</th>\n",
       "      <th>indicator</th>\n",
       "      <th>spatial_resolution</th>\n",
       "      <th>temporal_range_max</th>\n",
       "      <th>temporal_range_min</th>\n",
       "    </tr>\n",
       "  </thead>\n",
       "  <tbody>\n",
       "    <tr>\n",
       "      <th>0</th>\n",
       "      <td>tif</td>\n",
       "      <td>global_droughtseveritystandardisedsoilmoisture...</td>\n",
       "      <td>global</td>\n",
       "      <td>droughtseveritystandardisedsoilmoisture</td>\n",
       "      <td>5min</td>\n",
       "      <td>2014</td>\n",
       "      <td>1960</td>\n",
       "    </tr>\n",
       "    <tr>\n",
       "      <th>1</th>\n",
       "      <td>tif</td>\n",
       "      <td>global_droughtseveritystandardisedstreamflow_5...</td>\n",
       "      <td>global</td>\n",
       "      <td>droughtseveritystandardisedstreamflow</td>\n",
       "      <td>5min</td>\n",
       "      <td>2014</td>\n",
       "      <td>1960</td>\n",
       "    </tr>\n",
       "    <tr>\n",
       "      <th>2</th>\n",
       "      <td>tif</td>\n",
       "      <td>global_environmentalflows_5min_1960-2014</td>\n",
       "      <td>global</td>\n",
       "      <td>environmentalflows</td>\n",
       "      <td>5min</td>\n",
       "      <td>2014</td>\n",
       "      <td>1960</td>\n",
       "    </tr>\n",
       "    <tr>\n",
       "      <th>3</th>\n",
       "      <td>tif</td>\n",
       "      <td>global_interannualvariabilitywatersupply_5min_...</td>\n",
       "      <td>global</td>\n",
       "      <td>interannualvariabilitywatersupply</td>\n",
       "      <td>5min</td>\n",
       "      <td>2014</td>\n",
       "      <td>1960</td>\n",
       "    </tr>\n",
       "    <tr>\n",
       "      <th>4</th>\n",
       "      <td>tif</td>\n",
       "      <td>global_q1seasonalvariabilitywatersupply_5min_1...</td>\n",
       "      <td>global</td>\n",
       "      <td>q1seasonalvariabilitywatersupply</td>\n",
       "      <td>5min</td>\n",
       "      <td>2014</td>\n",
       "      <td>1960</td>\n",
       "    </tr>\n",
       "  </tbody>\n",
       "</table>\n",
       "</div>"
      ],
      "text/plain": [
       "  extension                                           fileName  \\\n",
       "0       tif  global_droughtseveritystandardisedsoilmoisture...   \n",
       "1       tif  global_droughtseveritystandardisedstreamflow_5...   \n",
       "2       tif           global_environmentalflows_5min_1960-2014   \n",
       "3       tif  global_interannualvariabilitywatersupply_5min_...   \n",
       "4       tif  global_q1seasonalvariabilitywatersupply_5min_1...   \n",
       "\n",
       "  geographic_range                                indicator  \\\n",
       "0           global  droughtseveritystandardisedsoilmoisture   \n",
       "1           global    droughtseveritystandardisedstreamflow   \n",
       "2           global                       environmentalflows   \n",
       "3           global        interannualvariabilitywatersupply   \n",
       "4           global         q1seasonalvariabilitywatersupply   \n",
       "\n",
       "  spatial_resolution temporal_range_max temporal_range_min  \n",
       "0               5min               2014               1960  \n",
       "1               5min               2014               1960  \n",
       "2               5min               2014               1960  \n",
       "3               5min               2014               1960  \n",
       "4               5min               2014               1960  "
      ]
     },
     "execution_count": 110,
     "metadata": {},
     "output_type": "execute_result"
    }
   ],
   "source": [
    "df_complete.head()"
   ]
  },
  {
   "cell_type": "code",
   "execution_count": null,
   "metadata": {
    "collapsed": true
   },
   "outputs": [],
   "source": []
  }
 ],
 "metadata": {
  "kernelspec": {
   "display_name": "Python 27",
   "language": "python",
   "name": "python27"
  },
  "language_info": {
   "codemirror_mode": {
    "name": "ipython",
    "version": 2
   },
   "file_extension": ".py",
   "mimetype": "text/x-python",
   "name": "python",
   "nbconvert_exporter": "python",
   "pygments_lexer": "ipython2",
   "version": "2.7.13"
  }
 },
 "nbformat": 4,
 "nbformat_minor": 2
}
