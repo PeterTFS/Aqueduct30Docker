{
 "cells": [
  {
   "cell_type": "markdown",
   "metadata": {},
   "source": [
    "# Ingest Additional Rasters on Earth Engine\n",
    "\n",
    "* Purpose of script: This notebook will ingest some of the missing rasters to Earth Engine \n",
    "* Author: Rutger Hofste\n",
    "* Kernel used: python27\n",
    "* Date created: 20170803"
   ]
  },
  {
   "cell_type": "markdown",
   "metadata": {},
   "source": [
    "## Preparation\n",
    "\n",
    "1. gcloud authorization (`gcloud init`)\n",
    "1. earthengine authorization (`earthengine authorize`)\n",
    "1. aws authorization (`aws configure`)\n"
   ]
  },
  {
   "cell_type": "code",
   "execution_count": 16,
   "metadata": {
    "collapsed": true
   },
   "outputs": [],
   "source": [
    "!rm -r /volumes/data/PCRGlobWB20V01/additional"
   ]
  },
  {
   "cell_type": "code",
   "execution_count": 17,
   "metadata": {
    "collapsed": true
   },
   "outputs": [],
   "source": [
    "!mkdir /volumes/data/PCRGlobWB20V01/additional"
   ]
  },
  {
   "cell_type": "code",
   "execution_count": 18,
   "metadata": {},
   "outputs": [
    {
     "name": "stdout",
     "output_type": "stream",
     "text": [
      "download: s3://wri-projects/Aqueduct30/rawData/WRI/samplegeotiff/readme.txt to ../../../../data/PCRGlobWB20V01/additional/readme.txt\n",
      "download: s3://wri-projects/Aqueduct30/rawData/WRI/samplegeotiff/sampleGeotiff.tiff to ../../../../data/PCRGlobWB20V01/additional/sampleGeotiff.tiff\n"
     ]
    }
   ],
   "source": [
    "!aws s3 cp s3://wri-projects/Aqueduct30/rawData/WRI/samplegeotiff /volumes/data/PCRGlobWB20V01/additional --recursive"
   ]
  },
  {
   "cell_type": "markdown",
   "metadata": {},
   "source": [
    "Check if the file is actually copied"
   ]
  },
  {
   "cell_type": "code",
   "execution_count": 19,
   "metadata": {},
   "outputs": [
    {
     "name": "stdout",
     "output_type": "stream",
     "text": [
      "readme.txt  sampleGeotiff.tiff\r\n"
     ]
    }
   ],
   "source": [
    "!ls /volumes/data/PCRGlobWB20V01/additional/"
   ]
  },
  {
   "cell_type": "markdown",
   "metadata": {},
   "source": [
    "Copy Indicator files to EC2 instance"
   ]
  },
  {
   "cell_type": "code",
   "execution_count": 20,
   "metadata": {},
   "outputs": [
    {
     "name": "stdout",
     "output_type": "stream",
     "text": [
      "mkdir: cannot create directory '/volumes/data/Y2017M08D02_RH_Ingest_Additional_Rasters_EE_V01': File exists\r\n"
     ]
    }
   ],
   "source": [
    "!mkdir /volumes/data/Y2017M08D02_RH_Ingest_Additional_Rasters_EE_V01"
   ]
  },
  {
   "cell_type": "code",
   "execution_count": 21,
   "metadata": {
    "scrolled": true
   },
   "outputs": [
    {
     "name": "stdout",
     "output_type": "stream",
     "text": [
      "download: s3://wri-projects/Aqueduct30/processData/03PCRGlobWBIndicatorsV01/global_droughtseveritystandardisedsoilmoisture_5min_1960-2014.asc to ../../../../data/Y2017M08D02_RH_Ingest_Additional_Rasters_EE_V01/global_droughtseveritystandardisedsoilmoisture_5min_1960-2014.asc\n",
      "download: s3://wri-projects/Aqueduct30/processData/03PCRGlobWBIndicatorsV01/global_environmentalflows_5min_1960-2014.asc to ../../../../data/Y2017M08D02_RH_Ingest_Additional_Rasters_EE_V01/global_environmentalflows_5min_1960-2014.asc\n",
      "download: s3://wri-projects/Aqueduct30/processData/03PCRGlobWBIndicatorsV01/global_q3seasonalvariabilitywatersupply_5min_1960-2014.asc to ../../../../data/Y2017M08D02_RH_Ingest_Additional_Rasters_EE_V01/global_q3seasonalvariabilitywatersupply_5min_1960-2014.asc\n",
      "download: s3://wri-projects/Aqueduct30/processData/03PCRGlobWBIndicatorsV01/global_q1seasonalvariabilitywatersupply_5min_1960-2014.asc to ../../../../data/Y2017M08D02_RH_Ingest_Additional_Rasters_EE_V01/global_q1seasonalvariabilitywatersupply_5min_1960-2014.asc\n",
      "download: s3://wri-projects/Aqueduct30/processData/03PCRGlobWBIndicatorsV01/global_q4seasonalvariabilitywatersupply_5min_1960-2014.asc to ../../../../data/Y2017M08D02_RH_Ingest_Additional_Rasters_EE_V01/global_q4seasonalvariabilitywatersupply_5min_1960-2014.asc\n",
      "download: s3://wri-projects/Aqueduct30/processData/03PCRGlobWBIndicatorsV01/global_q2seasonalvariabilitywatersupply_5min_1960-2014.asc to ../../../../data/Y2017M08D02_RH_Ingest_Additional_Rasters_EE_V01/global_q2seasonalvariabilitywatersupply_5min_1960-2014.asc\n",
      "download: s3://wri-projects/Aqueduct30/processData/03PCRGlobWBIndicatorsV01/global_droughtseveritystandardisedstreamflow_5min_1960-2014.asc to ../../../../data/Y2017M08D02_RH_Ingest_Additional_Rasters_EE_V01/global_droughtseveritystandardisedstreamflow_5min_1960-2014.asc\n",
      "download: s3://wri-projects/Aqueduct30/processData/03PCRGlobWBIndicatorsV01/global_interannualvariabilitywatersupply_5min_1960-2014.asc to ../../../../data/Y2017M08D02_RH_Ingest_Additional_Rasters_EE_V01/global_interannualvariabilitywatersupply_5min_1960-2014.asc\n"
     ]
    }
   ],
   "source": [
    "!aws s3 cp \\\n",
    "s3://wri-projects/Aqueduct30/processData/03PCRGlobWBIndicatorsV01 \\\n",
    "/volumes/data/Y2017M08D02_RH_Ingest_Additional_Rasters_EE_V01 --recursive --quiet"
   ]
  },
  {
   "cell_type": "markdown",
   "metadata": {},
   "source": [
    "Create output folder to store geotiffs"
   ]
  },
  {
   "cell_type": "code",
   "execution_count": 30,
   "metadata": {
    "collapsed": true
   },
   "outputs": [],
   "source": [
    "!mkdir /volumes/data/Y2017M08D02_RH_Ingest_Additional_Rasters_EE_V01/output"
   ]
  },
  {
   "cell_type": "markdown",
   "metadata": {},
   "source": [
    "## Script"
   ]
  },
  {
   "cell_type": "markdown",
   "metadata": {},
   "source": [
    "Create working environment and copy relevant files. "
   ]
  },
  {
   "cell_type": "code",
   "execution_count": 46,
   "metadata": {
    "collapsed": true
   },
   "outputs": [],
   "source": [
    "INPUTLOCATION_SAMPLE_GEOTIFF = \"/volumes/data/PCRGlobWB20V01/additional/sampleGeotiff.tiff\"\n",
    "INPUTLOCATION_INDICATORS = \"/volumes/data/Y2017M08D02_RH_Ingest_Additional_Rasters_EE_V01/\"\n",
    "INPUTLOCATION_AUXILIARY = \"/volumes/data/Y2017M08D02_RH_Ingest_Additional_Rasters_EE_V01/auxiliary\"\n",
    "OUTPUTLOCATION_INDICATORS = \"/volumes/data/Y2017M08D02_RH_Ingest_Additional_Rasters_EE_V01/output\"\n",
    "OUTPUTLOCATION_AUX = \"/volumes/data/Y2017M08D02_RH_Ingest_Additional_Rasters_EE_V01/auxiliary/output\"\n",
    "GCS_BASE = \"gs://aqueduct30_v01/Y2017M08D02_RH_Ingest_Additional_Rasters_EE_V01/\"\n",
    "GCS_BASE_AUX = \"gs://aqueduct30_v01/Y2017M08D02_RH_Ingest_Additional_Rasters_EE_V01_AUX/\"\n",
    "GCS_BASE_HYBAS = \"gs://aqueduct30_v01/Y2017M08D02_RH_Ingest_Additional_Rasters_EE_V01_HYBAS/\"\n",
    "EE_BASE = \"projects/WRI-Aquaduct/PCRGlobWB20V05\""
   ]
  },
  {
   "cell_type": "code",
   "execution_count": 10,
   "metadata": {
    "collapsed": true
   },
   "outputs": [],
   "source": [
    "try:\n",
    "    from osgeo import ogr, osr, gdal\n",
    "except:\n",
    "    sys.exit('ERROR: cannot find GDAL/OGR modules')\n",
    "    \n",
    "from netCDF4 import Dataset\n",
    "import os\n",
    "import time\n",
    "from datetime import timedelta\n",
    "import datetime\n",
    "import subprocess\n",
    "import pandas as pd\n",
    "import re"
   ]
  },
  {
   "cell_type": "code",
   "execution_count": 14,
   "metadata": {
    "collapsed": true
   },
   "outputs": [],
   "source": [
    "def readFile(filename):\n",
    "    filehandle = gdal.Open(filename)\n",
    "    band1 = filehandle.GetRasterBand(1)\n",
    "    geotransform = filehandle.GetGeoTransform()\n",
    "    geoproj = filehandle.GetProjection()\n",
    "    Z = band1.ReadAsArray()\n",
    "    xsize = filehandle.RasterXSize\n",
    "    ysize = filehandle.RasterYSize\n",
    "    filehandle = None\n",
    "    return xsize,ysize,geotransform,geoproj,Z\n",
    "\n",
    "def writeFile(filename,geotransform,geoprojection,data):\n",
    "    (x,y) = data.shape\n",
    "    format = \"GTiff\"\n",
    "    driver = gdal.GetDriverByName(format)\n",
    "    # you can change the dataformat but be sure to be able to store negative values including -9999\n",
    "    dst_datatype = gdal.GDT_Float32\n",
    "    dst_ds = driver.Create(filename,y,x,1,dst_datatype, [ 'COMPRESS=LZW' ])\n",
    "    dst_ds.GetRasterBand(1).SetNoDataValue(-9999)\n",
    "    dst_ds.GetRasterBand(1).WriteArray(data)\n",
    "    dst_ds.SetGeoTransform(geotransform)\n",
    "    dst_ds.SetProjection(geoprojection)\n",
    "    dst_ds = None\n",
    "    return 1\n",
    "\n",
    "def splitKey(key):\n",
    "    prefix, extension = key.split(\".\")\n",
    "    fileName = prefix.split(\"/\")[-1]\n",
    "    outDict = {\"fileName\":fileName,\"extension\":extension}\n",
    "    return outDict\n",
    "\n",
    "def splitFileName(fileName):\n",
    "    values = re.split(\"_|-\", fileName)\n",
    "    keys = [\"geographic_range\",\"indicator\",\"spatial_resolution\",\"temporal_range_min\",\"temporal_range_max\"]\n",
    "    outDict = dict(zip(keys, values))\n",
    "    outDict[\"fileName\"] = fileName\n",
    "    return outDict\n",
    "\n",
    "def uploadEE(index,row):\n",
    "    target = EE_BASE + \"/\" + row.fileName\n",
    "    source = GCS_BASE + row.fileName + \".\" + row.extension\n",
    "    metadata = \"--nodata_value=%s -p extension=%s -p filename=%s -p geographic_range=%s -p indicator=%s -p spatial_resolution=%s -p temporal_range_max=%s -p temporal_range_min=%s -p units=dimensionless -p ingested_by=%s -p exportdescription=%s\" %(row.nodata,row.extension,row.fileName,row.geographic_range,row.indicator,row.spatial_resolution,row.temporal_range_max,row.temporal_range_min, row.ingested_by, row.exportdescription)\n",
    "    command = \"/opt/anaconda3/bin/earthengine upload image --asset_id %s %s %s\" % (target, source,metadata)\n",
    "    try:\n",
    "        response = subprocess.check_output(command, shell=True)\n",
    "        outDict = {\"command\":command,\"response\":response,\"error\":0}\n",
    "        df_errors2 = pd.DataFrame(outDict,index=[index])\n",
    "    except:\n",
    "        try:\n",
    "            outDict = {\"command\":command,\"response\":response,\"error\":1}\n",
    "        except:\n",
    "            outDict = {\"command\":command,\"response\":-9999,\"error\":2}\n",
    "        df_errors2 = pd.DataFrame(outDict,index=[index])\n",
    "        print(\"error\")\n",
    "    return df_errors2\n",
    "\n",
    "   \n",
    "    "
   ]
  },
  {
   "cell_type": "markdown",
   "metadata": {},
   "source": [
    "extension                                                           tif\n",
    "fileName              global_droughtseveritystandardisedsoilmoisture...\n",
    "geographic_range                                                 global\n",
    "indicator                       droughtseveritystandardisedsoilmoisture\n",
    "spatial_resolution                                                 5min\n",
    "temporal_range_max                                                 2014\n",
    "temporal_range_min                                                 1960\n",
    "nodata                                                            -9999\n",
    "ingested_by                                                RutgerHofste\n",
    "exportdescription               droughtseveritystandardisedsoilmoisture"
   ]
  },
  {
   "cell_type": "code",
   "execution_count": 19,
   "metadata": {
    "collapsed": true
   },
   "outputs": [],
   "source": [
    "[xsizeSample,ysizeSample,geotransformSample,geoprojSample,ZSample] = readFile(INPUTLOCATION_SAMPLE_GEOTIFF)"
   ]
  },
  {
   "cell_type": "code",
   "execution_count": 50,
   "metadata": {
    "collapsed": true
   },
   "outputs": [],
   "source": [
    "files = os.listdir(INPUTLOCATION_INDICATORS)"
   ]
  },
  {
   "cell_type": "code",
   "execution_count": 53,
   "metadata": {
    "collapsed": true
   },
   "outputs": [],
   "source": [
    "newExtension =\".tif\"\n",
    "for oneFile in files:\n",
    "    if oneFile.endswith(\".asc\"):\n",
    "        base , extension = oneFile.split(\".\")\n",
    "        xsize,ysize,geotransform,geoproj,Z = readFile(os.path.join(INPUTLOCATION_INDICATORS,oneFile))\n",
    "        Z[Z<-9990]= -9999\n",
    "        Z[Z>1e19] = -9999\n",
    "        outputFileName = base + newExtension\n",
    "        writeFile(os.path.join(OUTPUTLOCATION_INDICATORS,outputFileName),geotransformSample,geoprojSample,Z)\n",
    "    "
   ]
  },
  {
   "cell_type": "markdown",
   "metadata": {},
   "source": [
    "## Upload PCRGlobWB indicators to GCS"
   ]
  },
  {
   "cell_type": "code",
   "execution_count": 66,
   "metadata": {},
   "outputs": [
    {
     "name": "stdout",
     "output_type": "stream",
     "text": [
      "Copying file:///volumes/data/Y2017M08D02_RH_Ingest_Additional_Rasters_EE_V01/output/global_interannualvariabilitywatersupply_5min_1960-2014.tif [Content-Type=image/tiff]...\n",
      "Copying file:///volumes/data/Y2017M08D02_RH_Ingest_Additional_Rasters_EE_V01/output/global_droughtseveritystandardisedsoilmoisture_5min_1960-2014.tif [Content-Type=image/tiff]...\n",
      "Copying file:///volumes/data/Y2017M08D02_RH_Ingest_Additional_Rasters_EE_V01/output/global_q1seasonalvariabilitywatersupply_5min_1960-2014.tif [Content-Type=image/tiff]...\n",
      "Copying file:///volumes/data/Y2017M08D02_RH_Ingest_Additional_Rasters_EE_V01/output/global_droughtseveritystandardisedstreamflow_5min_1960-2014.tif [Content-Type=image/tiff]...\n",
      "Copying file:///volumes/data/Y2017M08D02_RH_Ingest_Additional_Rasters_EE_V01/output/global_environmentalflows_5min_1960-2014.tif [Content-Type=image/tiff]...\n",
      "Copying file:///volumes/data/Y2017M08D02_RH_Ingest_Additional_Rasters_EE_V01/output/global_q2seasonalvariabilitywatersupply_5min_1960-2014.tif [Content-Type=image/tiff]...\n",
      "Copying file:///volumes/data/Y2017M08D02_RH_Ingest_Additional_Rasters_EE_V01/output/global_q4seasonalvariabilitywatersupply_5min_1960-2014.tif [Content-Type=image/tiff]...\n",
      "Copying file:///volumes/data/Y2017M08D02_RH_Ingest_Additional_Rasters_EE_V01/output/global_q3seasonalvariabilitywatersupply_5min_1960-2014.tif [Content-Type=image/tiff]...\n",
      "\\ [8/8 files][ 78.5 MiB/ 78.5 MiB] 100% Done                                    \n",
      "Operation completed over 8 objects/78.5 MiB.                                     \n"
     ]
    }
   ],
   "source": [
    "!gsutil -m cp \\\n",
    "{OUTPUTLOCATION_INDICATORS}/*.tif \\\n",
    "{GCS_BASE}"
   ]
  },
  {
   "cell_type": "markdown",
   "metadata": {},
   "source": [
    "Ingest to earthengine"
   ]
  },
  {
   "cell_type": "code",
   "execution_count": 64,
   "metadata": {
    "collapsed": true
   },
   "outputs": [],
   "source": [
    "command = (\"/opt/google-cloud-sdk/bin/gsutil ls %s\") %(GCS_BASE)"
   ]
  },
  {
   "cell_type": "code",
   "execution_count": 94,
   "metadata": {
    "collapsed": true
   },
   "outputs": [],
   "source": [
    "keys = subprocess.check_output(command,shell=True)\n",
    "keys2 = keys.decode('UTF-8').splitlines()"
   ]
  },
  {
   "cell_type": "code",
   "execution_count": 95,
   "metadata": {
    "collapsed": true
   },
   "outputs": [],
   "source": [
    "df = pd.DataFrame()\n",
    "i = 0\n",
    "for key in keys2:\n",
    "    i = i+1\n",
    "    outDict_key = splitKey(key)\n",
    "    df2 = pd.DataFrame(outDict_key,index=[i])\n",
    "    df = df.append(df2)   "
   ]
  },
  {
   "cell_type": "code",
   "execution_count": 96,
   "metadata": {},
   "outputs": [
    {
     "data": {
      "text/html": [
       "<div>\n",
       "<style>\n",
       "    .dataframe thead tr:only-child th {\n",
       "        text-align: right;\n",
       "    }\n",
       "\n",
       "    .dataframe thead th {\n",
       "        text-align: left;\n",
       "    }\n",
       "\n",
       "    .dataframe tbody tr th {\n",
       "        vertical-align: top;\n",
       "    }\n",
       "</style>\n",
       "<table border=\"1\" class=\"dataframe\">\n",
       "  <thead>\n",
       "    <tr style=\"text-align: right;\">\n",
       "      <th></th>\n",
       "      <th>extension</th>\n",
       "      <th>fileName</th>\n",
       "    </tr>\n",
       "  </thead>\n",
       "  <tbody>\n",
       "    <tr>\n",
       "      <th>1</th>\n",
       "      <td>tif</td>\n",
       "      <td>global_droughtseveritystandardisedsoilmoisture...</td>\n",
       "    </tr>\n",
       "    <tr>\n",
       "      <th>2</th>\n",
       "      <td>tif</td>\n",
       "      <td>global_droughtseveritystandardisedstreamflow_5...</td>\n",
       "    </tr>\n",
       "    <tr>\n",
       "      <th>3</th>\n",
       "      <td>tif</td>\n",
       "      <td>global_environmentalflows_5min_1960-2014</td>\n",
       "    </tr>\n",
       "    <tr>\n",
       "      <th>4</th>\n",
       "      <td>tif</td>\n",
       "      <td>global_interannualvariabilitywatersupply_5min_...</td>\n",
       "    </tr>\n",
       "    <tr>\n",
       "      <th>5</th>\n",
       "      <td>tif</td>\n",
       "      <td>global_q1seasonalvariabilitywatersupply_5min_1...</td>\n",
       "    </tr>\n",
       "  </tbody>\n",
       "</table>\n",
       "</div>"
      ],
      "text/plain": [
       "  extension                                           fileName\n",
       "1       tif  global_droughtseveritystandardisedsoilmoisture...\n",
       "2       tif  global_droughtseveritystandardisedstreamflow_5...\n",
       "3       tif           global_environmentalflows_5min_1960-2014\n",
       "4       tif  global_interannualvariabilitywatersupply_5min_...\n",
       "5       tif  global_q1seasonalvariabilitywatersupply_5min_1..."
      ]
     },
     "execution_count": 96,
     "metadata": {},
     "output_type": "execute_result"
    }
   ],
   "source": [
    "df.head()"
   ]
  },
  {
   "cell_type": "code",
   "execution_count": 107,
   "metadata": {
    "collapsed": true
   },
   "outputs": [],
   "source": [
    "df_fileName = pd.DataFrame()\n",
    "\n",
    "for index, row in df.iterrows():\n",
    "    outDict_fileName = splitFileName(row.fileName)\n",
    "    df2 = pd.DataFrame(outDict_fileName,index=[index])\n",
    "    df_fileName = df_fileName.append(df2)  "
   ]
  },
  {
   "cell_type": "code",
   "execution_count": 108,
   "metadata": {},
   "outputs": [
    {
     "data": {
      "text/html": [
       "<div>\n",
       "<style>\n",
       "    .dataframe thead tr:only-child th {\n",
       "        text-align: right;\n",
       "    }\n",
       "\n",
       "    .dataframe thead th {\n",
       "        text-align: left;\n",
       "    }\n",
       "\n",
       "    .dataframe tbody tr th {\n",
       "        vertical-align: top;\n",
       "    }\n",
       "</style>\n",
       "<table border=\"1\" class=\"dataframe\">\n",
       "  <thead>\n",
       "    <tr style=\"text-align: right;\">\n",
       "      <th></th>\n",
       "      <th>fileName</th>\n",
       "      <th>geographic_range</th>\n",
       "      <th>indicator</th>\n",
       "      <th>spatial_resolution</th>\n",
       "      <th>temporal_range_max</th>\n",
       "      <th>temporal_range_min</th>\n",
       "    </tr>\n",
       "  </thead>\n",
       "  <tbody>\n",
       "    <tr>\n",
       "      <th>1</th>\n",
       "      <td>global_droughtseveritystandardisedsoilmoisture...</td>\n",
       "      <td>global</td>\n",
       "      <td>droughtseveritystandardisedsoilmoisture</td>\n",
       "      <td>5min</td>\n",
       "      <td>2014</td>\n",
       "      <td>1960</td>\n",
       "    </tr>\n",
       "    <tr>\n",
       "      <th>2</th>\n",
       "      <td>global_droughtseveritystandardisedstreamflow_5...</td>\n",
       "      <td>global</td>\n",
       "      <td>droughtseveritystandardisedstreamflow</td>\n",
       "      <td>5min</td>\n",
       "      <td>2014</td>\n",
       "      <td>1960</td>\n",
       "    </tr>\n",
       "    <tr>\n",
       "      <th>3</th>\n",
       "      <td>global_environmentalflows_5min_1960-2014</td>\n",
       "      <td>global</td>\n",
       "      <td>environmentalflows</td>\n",
       "      <td>5min</td>\n",
       "      <td>2014</td>\n",
       "      <td>1960</td>\n",
       "    </tr>\n",
       "    <tr>\n",
       "      <th>4</th>\n",
       "      <td>global_interannualvariabilitywatersupply_5min_...</td>\n",
       "      <td>global</td>\n",
       "      <td>interannualvariabilitywatersupply</td>\n",
       "      <td>5min</td>\n",
       "      <td>2014</td>\n",
       "      <td>1960</td>\n",
       "    </tr>\n",
       "    <tr>\n",
       "      <th>5</th>\n",
       "      <td>global_q1seasonalvariabilitywatersupply_5min_1...</td>\n",
       "      <td>global</td>\n",
       "      <td>q1seasonalvariabilitywatersupply</td>\n",
       "      <td>5min</td>\n",
       "      <td>2014</td>\n",
       "      <td>1960</td>\n",
       "    </tr>\n",
       "  </tbody>\n",
       "</table>\n",
       "</div>"
      ],
      "text/plain": [
       "                                            fileName geographic_range  \\\n",
       "1  global_droughtseveritystandardisedsoilmoisture...           global   \n",
       "2  global_droughtseveritystandardisedstreamflow_5...           global   \n",
       "3           global_environmentalflows_5min_1960-2014           global   \n",
       "4  global_interannualvariabilitywatersupply_5min_...           global   \n",
       "5  global_q1seasonalvariabilitywatersupply_5min_1...           global   \n",
       "\n",
       "                                 indicator spatial_resolution  \\\n",
       "1  droughtseveritystandardisedsoilmoisture               5min   \n",
       "2    droughtseveritystandardisedstreamflow               5min   \n",
       "3                       environmentalflows               5min   \n",
       "4        interannualvariabilitywatersupply               5min   \n",
       "5         q1seasonalvariabilitywatersupply               5min   \n",
       "\n",
       "  temporal_range_max temporal_range_min  \n",
       "1               2014               1960  \n",
       "2               2014               1960  \n",
       "3               2014               1960  \n",
       "4               2014               1960  \n",
       "5               2014               1960  "
      ]
     },
     "execution_count": 108,
     "metadata": {},
     "output_type": "execute_result"
    }
   ],
   "source": [
    "df_fileName.head()"
   ]
  },
  {
   "cell_type": "code",
   "execution_count": 109,
   "metadata": {
    "collapsed": true
   },
   "outputs": [],
   "source": [
    "df_complete = df.merge(df_fileName,how='left',left_on='fileName',right_on='fileName')"
   ]
  },
  {
   "cell_type": "code",
   "execution_count": 110,
   "metadata": {},
   "outputs": [
    {
     "data": {
      "text/html": [
       "<div>\n",
       "<style>\n",
       "    .dataframe thead tr:only-child th {\n",
       "        text-align: right;\n",
       "    }\n",
       "\n",
       "    .dataframe thead th {\n",
       "        text-align: left;\n",
       "    }\n",
       "\n",
       "    .dataframe tbody tr th {\n",
       "        vertical-align: top;\n",
       "    }\n",
       "</style>\n",
       "<table border=\"1\" class=\"dataframe\">\n",
       "  <thead>\n",
       "    <tr style=\"text-align: right;\">\n",
       "      <th></th>\n",
       "      <th>extension</th>\n",
       "      <th>fileName</th>\n",
       "      <th>geographic_range</th>\n",
       "      <th>indicator</th>\n",
       "      <th>spatial_resolution</th>\n",
       "      <th>temporal_range_max</th>\n",
       "      <th>temporal_range_min</th>\n",
       "    </tr>\n",
       "  </thead>\n",
       "  <tbody>\n",
       "    <tr>\n",
       "      <th>0</th>\n",
       "      <td>tif</td>\n",
       "      <td>global_droughtseveritystandardisedsoilmoisture...</td>\n",
       "      <td>global</td>\n",
       "      <td>droughtseveritystandardisedsoilmoisture</td>\n",
       "      <td>5min</td>\n",
       "      <td>2014</td>\n",
       "      <td>1960</td>\n",
       "    </tr>\n",
       "    <tr>\n",
       "      <th>1</th>\n",
       "      <td>tif</td>\n",
       "      <td>global_droughtseveritystandardisedstreamflow_5...</td>\n",
       "      <td>global</td>\n",
       "      <td>droughtseveritystandardisedstreamflow</td>\n",
       "      <td>5min</td>\n",
       "      <td>2014</td>\n",
       "      <td>1960</td>\n",
       "    </tr>\n",
       "    <tr>\n",
       "      <th>2</th>\n",
       "      <td>tif</td>\n",
       "      <td>global_environmentalflows_5min_1960-2014</td>\n",
       "      <td>global</td>\n",
       "      <td>environmentalflows</td>\n",
       "      <td>5min</td>\n",
       "      <td>2014</td>\n",
       "      <td>1960</td>\n",
       "    </tr>\n",
       "    <tr>\n",
       "      <th>3</th>\n",
       "      <td>tif</td>\n",
       "      <td>global_interannualvariabilitywatersupply_5min_...</td>\n",
       "      <td>global</td>\n",
       "      <td>interannualvariabilitywatersupply</td>\n",
       "      <td>5min</td>\n",
       "      <td>2014</td>\n",
       "      <td>1960</td>\n",
       "    </tr>\n",
       "    <tr>\n",
       "      <th>4</th>\n",
       "      <td>tif</td>\n",
       "      <td>global_q1seasonalvariabilitywatersupply_5min_1...</td>\n",
       "      <td>global</td>\n",
       "      <td>q1seasonalvariabilitywatersupply</td>\n",
       "      <td>5min</td>\n",
       "      <td>2014</td>\n",
       "      <td>1960</td>\n",
       "    </tr>\n",
       "  </tbody>\n",
       "</table>\n",
       "</div>"
      ],
      "text/plain": [
       "  extension                                           fileName  \\\n",
       "0       tif  global_droughtseveritystandardisedsoilmoisture...   \n",
       "1       tif  global_droughtseveritystandardisedstreamflow_5...   \n",
       "2       tif           global_environmentalflows_5min_1960-2014   \n",
       "3       tif  global_interannualvariabilitywatersupply_5min_...   \n",
       "4       tif  global_q1seasonalvariabilitywatersupply_5min_1...   \n",
       "\n",
       "  geographic_range                                indicator  \\\n",
       "0           global  droughtseveritystandardisedsoilmoisture   \n",
       "1           global    droughtseveritystandardisedstreamflow   \n",
       "2           global                       environmentalflows   \n",
       "3           global        interannualvariabilitywatersupply   \n",
       "4           global         q1seasonalvariabilitywatersupply   \n",
       "\n",
       "  spatial_resolution temporal_range_max temporal_range_min  \n",
       "0               5min               2014               1960  \n",
       "1               5min               2014               1960  \n",
       "2               5min               2014               1960  \n",
       "3               5min               2014               1960  \n",
       "4               5min               2014               1960  "
      ]
     },
     "execution_count": 110,
     "metadata": {},
     "output_type": "execute_result"
    }
   ],
   "source": [
    "df_complete.head()"
   ]
  },
  {
   "cell_type": "markdown",
   "metadata": {},
   "source": [
    "As you can seem, the structure of the filename is slightly different than the netCDF4 files from Utrecht. The unit for example is not stored int the fileName. "
   ]
  },
  {
   "cell_type": "code",
   "execution_count": 111,
   "metadata": {
    "collapsed": true
   },
   "outputs": [],
   "source": [
    "df_complete[\"nodata\"] = -9999\n",
    "df_complete[\"ingested_by\"] =\"RutgerHofste\"\n",
    "df_complete[\"exportdescription\"] = df_complete[\"indicator\"]"
   ]
  },
  {
   "cell_type": "code",
   "execution_count": 115,
   "metadata": {},
   "outputs": [
    {
     "data": {
      "text/html": [
       "<div>\n",
       "<style>\n",
       "    .dataframe thead tr:only-child th {\n",
       "        text-align: right;\n",
       "    }\n",
       "\n",
       "    .dataframe thead th {\n",
       "        text-align: left;\n",
       "    }\n",
       "\n",
       "    .dataframe tbody tr th {\n",
       "        vertical-align: top;\n",
       "    }\n",
       "</style>\n",
       "<table border=\"1\" class=\"dataframe\">\n",
       "  <thead>\n",
       "    <tr style=\"text-align: right;\">\n",
       "      <th></th>\n",
       "      <th>extension</th>\n",
       "      <th>fileName</th>\n",
       "      <th>geographic_range</th>\n",
       "      <th>indicator</th>\n",
       "      <th>spatial_resolution</th>\n",
       "      <th>temporal_range_max</th>\n",
       "      <th>temporal_range_min</th>\n",
       "      <th>nodata</th>\n",
       "      <th>ingested_by</th>\n",
       "      <th>exportdescription</th>\n",
       "    </tr>\n",
       "  </thead>\n",
       "  <tbody>\n",
       "    <tr>\n",
       "      <th>0</th>\n",
       "      <td>tif</td>\n",
       "      <td>global_droughtseveritystandardisedsoilmoisture...</td>\n",
       "      <td>global</td>\n",
       "      <td>droughtseveritystandardisedsoilmoisture</td>\n",
       "      <td>5min</td>\n",
       "      <td>2014</td>\n",
       "      <td>1960</td>\n",
       "      <td>-9999</td>\n",
       "      <td>RutgerHofste</td>\n",
       "      <td>droughtseveritystandardisedsoilmoisture</td>\n",
       "    </tr>\n",
       "    <tr>\n",
       "      <th>1</th>\n",
       "      <td>tif</td>\n",
       "      <td>global_droughtseveritystandardisedstreamflow_5...</td>\n",
       "      <td>global</td>\n",
       "      <td>droughtseveritystandardisedstreamflow</td>\n",
       "      <td>5min</td>\n",
       "      <td>2014</td>\n",
       "      <td>1960</td>\n",
       "      <td>-9999</td>\n",
       "      <td>RutgerHofste</td>\n",
       "      <td>droughtseveritystandardisedstreamflow</td>\n",
       "    </tr>\n",
       "    <tr>\n",
       "      <th>2</th>\n",
       "      <td>tif</td>\n",
       "      <td>global_environmentalflows_5min_1960-2014</td>\n",
       "      <td>global</td>\n",
       "      <td>environmentalflows</td>\n",
       "      <td>5min</td>\n",
       "      <td>2014</td>\n",
       "      <td>1960</td>\n",
       "      <td>-9999</td>\n",
       "      <td>RutgerHofste</td>\n",
       "      <td>environmentalflows</td>\n",
       "    </tr>\n",
       "    <tr>\n",
       "      <th>3</th>\n",
       "      <td>tif</td>\n",
       "      <td>global_interannualvariabilitywatersupply_5min_...</td>\n",
       "      <td>global</td>\n",
       "      <td>interannualvariabilitywatersupply</td>\n",
       "      <td>5min</td>\n",
       "      <td>2014</td>\n",
       "      <td>1960</td>\n",
       "      <td>-9999</td>\n",
       "      <td>RutgerHofste</td>\n",
       "      <td>interannualvariabilitywatersupply</td>\n",
       "    </tr>\n",
       "    <tr>\n",
       "      <th>4</th>\n",
       "      <td>tif</td>\n",
       "      <td>global_q1seasonalvariabilitywatersupply_5min_1...</td>\n",
       "      <td>global</td>\n",
       "      <td>q1seasonalvariabilitywatersupply</td>\n",
       "      <td>5min</td>\n",
       "      <td>2014</td>\n",
       "      <td>1960</td>\n",
       "      <td>-9999</td>\n",
       "      <td>RutgerHofste</td>\n",
       "      <td>q1seasonalvariabilitywatersupply</td>\n",
       "    </tr>\n",
       "  </tbody>\n",
       "</table>\n",
       "</div>"
      ],
      "text/plain": [
       "  extension                                           fileName  \\\n",
       "0       tif  global_droughtseveritystandardisedsoilmoisture...   \n",
       "1       tif  global_droughtseveritystandardisedstreamflow_5...   \n",
       "2       tif           global_environmentalflows_5min_1960-2014   \n",
       "3       tif  global_interannualvariabilitywatersupply_5min_...   \n",
       "4       tif  global_q1seasonalvariabilitywatersupply_5min_1...   \n",
       "\n",
       "  geographic_range                                indicator  \\\n",
       "0           global  droughtseveritystandardisedsoilmoisture   \n",
       "1           global    droughtseveritystandardisedstreamflow   \n",
       "2           global                       environmentalflows   \n",
       "3           global        interannualvariabilitywatersupply   \n",
       "4           global         q1seasonalvariabilitywatersupply   \n",
       "\n",
       "  spatial_resolution temporal_range_max temporal_range_min  nodata  \\\n",
       "0               5min               2014               1960   -9999   \n",
       "1               5min               2014               1960   -9999   \n",
       "2               5min               2014               1960   -9999   \n",
       "3               5min               2014               1960   -9999   \n",
       "4               5min               2014               1960   -9999   \n",
       "\n",
       "    ingested_by                        exportdescription  \n",
       "0  RutgerHofste  droughtseveritystandardisedsoilmoisture  \n",
       "1  RutgerHofste    droughtseveritystandardisedstreamflow  \n",
       "2  RutgerHofste                       environmentalflows  \n",
       "3  RutgerHofste        interannualvariabilitywatersupply  \n",
       "4  RutgerHofste         q1seasonalvariabilitywatersupply  "
      ]
     },
     "execution_count": 115,
     "metadata": {},
     "output_type": "execute_result"
    }
   ],
   "source": [
    "df_complete.head()"
   ]
  },
  {
   "cell_type": "code",
   "execution_count": 127,
   "metadata": {},
   "outputs": [
    {
     "name": "stdout",
     "output_type": "stream",
     "text": [
      "(0, 'elapsed: ', '0:00:00.000636')\n",
      "(1, 'elapsed: ', '0:00:01.094980')\n",
      "(2, 'elapsed: ', '0:00:02.331673')\n",
      "(3, 'elapsed: ', '0:00:03.566265')\n",
      "(4, 'elapsed: ', '0:00:04.696006')\n",
      "(5, 'elapsed: ', '0:00:05.834821')\n",
      "(6, 'elapsed: ', '0:00:07.005691')\n",
      "(7, 'elapsed: ', '0:00:08.158848')\n"
     ]
    }
   ],
   "source": [
    "df_errors = pd.DataFrame()\n",
    "start_time = time.time()\n",
    "for index, row in df_complete.iterrows():\n",
    "    elapsed_time = time.time() - start_time \n",
    "    print(index,\"elapsed: \", str(timedelta(seconds=elapsed_time)))\n",
    "    df_errors2 = uploadEE(index,row)\n",
    "    df_errors = df_errors.append(df_errors2)"
   ]
  },
  {
   "cell_type": "code",
   "execution_count": 130,
   "metadata": {},
   "outputs": [
    {
     "data": {
      "text/html": [
       "<div>\n",
       "<style>\n",
       "    .dataframe thead tr:only-child th {\n",
       "        text-align: right;\n",
       "    }\n",
       "\n",
       "    .dataframe thead th {\n",
       "        text-align: left;\n",
       "    }\n",
       "\n",
       "    .dataframe tbody tr th {\n",
       "        vertical-align: top;\n",
       "    }\n",
       "</style>\n",
       "<table border=\"1\" class=\"dataframe\">\n",
       "  <thead>\n",
       "    <tr style=\"text-align: right;\">\n",
       "      <th></th>\n",
       "      <th>command</th>\n",
       "      <th>error</th>\n",
       "      <th>response</th>\n",
       "    </tr>\n",
       "  </thead>\n",
       "  <tbody>\n",
       "    <tr>\n",
       "      <th>0</th>\n",
       "      <td>/opt/anaconda3/bin/earthengine upload image --...</td>\n",
       "      <td>0</td>\n",
       "      <td>Started upload task with ID: JT6MTQ3QRBV3CXGXT...</td>\n",
       "    </tr>\n",
       "    <tr>\n",
       "      <th>1</th>\n",
       "      <td>/opt/anaconda3/bin/earthengine upload image --...</td>\n",
       "      <td>0</td>\n",
       "      <td>Started upload task with ID: UF2EPJIXVVNDYT3Q7...</td>\n",
       "    </tr>\n",
       "    <tr>\n",
       "      <th>2</th>\n",
       "      <td>/opt/anaconda3/bin/earthengine upload image --...</td>\n",
       "      <td>0</td>\n",
       "      <td>Started upload task with ID: WDVL3XIJUVBHWD3LJ...</td>\n",
       "    </tr>\n",
       "    <tr>\n",
       "      <th>3</th>\n",
       "      <td>/opt/anaconda3/bin/earthengine upload image --...</td>\n",
       "      <td>0</td>\n",
       "      <td>Started upload task with ID: XDX4ALKYXAVOFBWQC...</td>\n",
       "    </tr>\n",
       "    <tr>\n",
       "      <th>4</th>\n",
       "      <td>/opt/anaconda3/bin/earthengine upload image --...</td>\n",
       "      <td>0</td>\n",
       "      <td>Started upload task with ID: QTBA3SSTO4QLWA3VN...</td>\n",
       "    </tr>\n",
       "    <tr>\n",
       "      <th>5</th>\n",
       "      <td>/opt/anaconda3/bin/earthengine upload image --...</td>\n",
       "      <td>0</td>\n",
       "      <td>Started upload task with ID: QPHADP42L7H2KHVHZ...</td>\n",
       "    </tr>\n",
       "    <tr>\n",
       "      <th>6</th>\n",
       "      <td>/opt/anaconda3/bin/earthengine upload image --...</td>\n",
       "      <td>0</td>\n",
       "      <td>Started upload task with ID: Z2Q33IO7KQUBTL33U...</td>\n",
       "    </tr>\n",
       "    <tr>\n",
       "      <th>7</th>\n",
       "      <td>/opt/anaconda3/bin/earthengine upload image --...</td>\n",
       "      <td>0</td>\n",
       "      <td>Started upload task with ID: ZAU3PLHXZXRAON7QA...</td>\n",
       "    </tr>\n",
       "  </tbody>\n",
       "</table>\n",
       "</div>"
      ],
      "text/plain": [
       "                                             command  error  \\\n",
       "0  /opt/anaconda3/bin/earthengine upload image --...      0   \n",
       "1  /opt/anaconda3/bin/earthengine upload image --...      0   \n",
       "2  /opt/anaconda3/bin/earthengine upload image --...      0   \n",
       "3  /opt/anaconda3/bin/earthengine upload image --...      0   \n",
       "4  /opt/anaconda3/bin/earthengine upload image --...      0   \n",
       "5  /opt/anaconda3/bin/earthengine upload image --...      0   \n",
       "6  /opt/anaconda3/bin/earthengine upload image --...      0   \n",
       "7  /opt/anaconda3/bin/earthengine upload image --...      0   \n",
       "\n",
       "                                            response  \n",
       "0  Started upload task with ID: JT6MTQ3QRBV3CXGXT...  \n",
       "1  Started upload task with ID: UF2EPJIXVVNDYT3Q7...  \n",
       "2  Started upload task with ID: WDVL3XIJUVBHWD3LJ...  \n",
       "3  Started upload task with ID: XDX4ALKYXAVOFBWQC...  \n",
       "4  Started upload task with ID: QTBA3SSTO4QLWA3VN...  \n",
       "5  Started upload task with ID: QPHADP42L7H2KHVHZ...  \n",
       "6  Started upload task with ID: Z2Q33IO7KQUBTL33U...  \n",
       "7  Started upload task with ID: ZAU3PLHXZXRAON7QA...  "
      ]
     },
     "execution_count": 130,
     "metadata": {},
     "output_type": "execute_result"
    }
   ],
   "source": [
    "df_errors"
   ]
  },
  {
   "cell_type": "markdown",
   "metadata": {
    "collapsed": true
   },
   "source": [
    "## PCRGlobWB auxiliary datasets\n",
    "\n",
    "after receiving the results from Yoshi, there was a fair amount of information missing such as flow direction, basins etc. Rens van Beek has been very supportive and provided WRI with some auxiliary datasets. This script will put them in the right format, upload to GCS and ingest them to Earth Engine.  \n",
    "\n",
    "Copy relevant datasets to processData folder:\n"
   ]
  },
  {
   "cell_type": "code",
   "execution_count": 5,
   "metadata": {
    "collapsed": true
   },
   "outputs": [],
   "source": [
    "!aws s3 cp \\\n",
    "s3://wri-projects/Aqueduct30/rawData/Utrecht/additionalFiles/flowNetwork/topo_pcrglobwb_05min \\\n",
    "s3://wri-projects/Aqueduct30/processData/Y2017M08D02_RH_Ingest_Additional_Rasters_EE_V01 \\\n",
    "--recursive \\\n",
    "--quiet"
   ]
  },
  {
   "cell_type": "markdown",
   "metadata": {},
   "source": [
    "Copy to EC2 instance"
   ]
  },
  {
   "cell_type": "code",
   "execution_count": 35,
   "metadata": {
    "collapsed": true
   },
   "outputs": [],
   "source": [
    "!mkdir {INPUTLOCATION_AUXILIARY}"
   ]
  },
  {
   "cell_type": "code",
   "execution_count": 36,
   "metadata": {
    "collapsed": true
   },
   "outputs": [],
   "source": [
    "!aws s3 cp \\\n",
    "s3://wri-projects/Aqueduct30/processData/Y2017M08D02_RH_Ingest_Additional_Rasters_EE_V01 \\\n",
    "/volumes/data/Y2017M08D02_RH_Ingest_Additional_Rasters_EE_V01/auxiliary \\\n",
    "--recursive \\\n",
    "--quiet"
   ]
  },
  {
   "cell_type": "markdown",
   "metadata": {},
   "source": [
    "renaming the files with a structured name indicator_5min_unit.map\n",
    "\n",
    "copy from readme.txt file on S3\n",
    "\n",
    "\n",
    "Data received from Rens van Beek on Feb 24 2017. Rutger Hofste\n",
    "topo_pcrglobwb_05min.zip  \n",
    "\n",
    "|Archive Length |   Date |   Time |    Name | Units | newName | \n",
    "|---:|---:|---:|---:| ---:| ---:|\n",
    "|37325056|  02-24-2017| 15:46 |  accumulated_drainage_area_05min_sqkm.map| $$km^2$$ |accumulateddrainagearea_05min_km2.map |\n",
    "|37325056|  02-24-2017 |15:45 |  cellsize05min.correct.map| $$m^2$$ |cellsize_05min_m2.map |\n",
    "|37325056| 02-24-2017| 15:44 |  gtopo05min.map| $$km^2$$ |gtopo_05min_km2.map|\n",
    "|9331456|  02-24-2017| 15:45 |   lddsound_05min.map| numpad |lddsound_05min_numpad.map |\n",
    "|121306624| | |               4 files| | |\n",
    "\n",
    "All files are 5 arc minute maps in PCRaster format and WGS84 projection (implicit).\n",
    "The gtopo05min.map is the DEM from the gtopo30 dataset that we use for downscaling meteo data occasionally. This is consistent with the CRU climate data sets and the hydro1k drainage dataset. Elevation is in **metres**. The cellsize05.correct.map is the surface area of a geographic cell in **m2** per 5 arc minute cell. The lddsound_05min.map is identical to the LDD we sent you earlier with the **8-point pour algorithm**.(numpad e.g. 7 is NW 6 is E etc.) The accumulated_drainage_area_05min_sqkm.map is the accumulated drainage area in **km2** per cell along the LDD.\n",
    "\n",
    "\n",
    "\n"
   ]
  },
  {
   "cell_type": "code",
   "execution_count": 37,
   "metadata": {
    "collapsed": true
   },
   "outputs": [],
   "source": [
    "!mv {INPUTLOCATION_AUXILIARY}/accumulated_drainage_area_05min_sqkm.map \\\n",
    "{INPUTLOCATION_AUXILIARY}/accumulateddrainagearea_05min_km2.map\n",
    "!mv {INPUTLOCATION_AUXILIARY}/cellsize05min.correct.map \\\n",
    "{INPUTLOCATION_AUXILIARY}/cellsize_05min_m2.map\n",
    "!mv {INPUTLOCATION_AUXILIARY}/gtopo05min.map \\\n",
    "{INPUTLOCATION_AUXILIARY}/gtopo_05min_km2.map\n",
    "!mv {INPUTLOCATION_AUXILIARY}/lddsound_05min.map \\\n",
    "{INPUTLOCATION_AUXILIARY}/lddsound_05min_numpad.map\n",
    "\n"
   ]
  },
  {
   "cell_type": "markdown",
   "metadata": {},
   "source": [
    "Create output directory for the Auxiliary geotiffs"
   ]
  },
  {
   "cell_type": "code",
   "execution_count": 38,
   "metadata": {
    "collapsed": true
   },
   "outputs": [],
   "source": [
    "!mkdir {OUTPUTLOCATION_AUX}"
   ]
  },
  {
   "cell_type": "code",
   "execution_count": 39,
   "metadata": {
    "collapsed": true
   },
   "outputs": [],
   "source": [
    "filesAux = os.listdir(INPUTLOCATION_AUXILIARY)"
   ]
  },
  {
   "cell_type": "code",
   "execution_count": 40,
   "metadata": {},
   "outputs": [
    {
     "name": "stdout",
     "output_type": "stream",
     "text": [
      "cellsize_05min_m2.map\n",
      "lddsound_05min_numpad.map\n",
      "gtopo_05min_km2.map\n",
      "accumulateddrainagearea_05min_km2.map\n"
     ]
    }
   ],
   "source": [
    "newExtension =\".tif\"\n",
    "for oneFileAux in filesAux:\n",
    "    if oneFileAux.endswith(\".map\"):\n",
    "        print(oneFileAux)\n",
    "        base , extension = oneFileAux.split(\".\")\n",
    "        xsize,ysize,geotransform,geoproj,Z = readFile(os.path.join(INPUTLOCATION_AUXILIARY,oneFileAux))\n",
    "        Z[Z<-9990]= -9999\n",
    "        Z[Z>1e19] = -9999\n",
    "        outputFileName = base + newExtension\n",
    "        writeFile(os.path.join(OUTPUTLOCATION_AUX,outputFileName),geotransformSample,geoprojSample,Z)\n",
    "        "
   ]
  },
  {
   "cell_type": "code",
   "execution_count": 41,
   "metadata": {},
   "outputs": [
    {
     "name": "stdout",
     "output_type": "stream",
     "text": [
      "accumulateddrainagearea_05min_km2.tif  gtopo_05min_km2.tif\r\n",
      "cellsize_05min_m2.tif\t\t       lddsound_05min_numpad.tif\r\n"
     ]
    }
   ],
   "source": [
    "!ls /volumes/data/Y2017M08D02_RH_Ingest_Additional_Rasters_EE_V01/auxiliary/output"
   ]
  },
  {
   "cell_type": "markdown",
   "metadata": {},
   "source": [
    "Upload Auxiliary files to GCS"
   ]
  },
  {
   "cell_type": "code",
   "execution_count": 43,
   "metadata": {},
   "outputs": [
    {
     "name": "stdout",
     "output_type": "stream",
     "text": [
      "Copying file:///volumes/data/Y2017M08D02_RH_Ingest_Additional_Rasters_EE_V01/auxiliary/output/cellsize_05min_m2.tif [Content-Type=image/tiff]...\n",
      "Copying file:///volumes/data/Y2017M08D02_RH_Ingest_Additional_Rasters_EE_V01/auxiliary/output/accumulateddrainagearea_05min_km2.tif [Content-Type=image/tiff]...\n",
      "Copying file:///volumes/data/Y2017M08D02_RH_Ingest_Additional_Rasters_EE_V01/auxiliary/output/gtopo_05min_km2.tif [Content-Type=image/tiff]...\n",
      "Copying file:///volumes/data/Y2017M08D02_RH_Ingest_Additional_Rasters_EE_V01/auxiliary/output/lddsound_05min_numpad.tif [Content-Type=image/tiff]...\n",
      "- [4/4 files][ 16.0 MiB/ 16.0 MiB] 100% Done                                    \n",
      "Operation completed over 4 objects/16.0 MiB.                                     \n"
     ]
    }
   ],
   "source": [
    "!gsutil -m cp \\\n",
    "{OUTPUTLOCATION_AUX}/*.tif \\\n",
    "{GCS_BASE_AUX}"
   ]
  },
  {
   "cell_type": "markdown",
   "metadata": {},
   "source": [
    "Ingest GCS data in earthengine. Some metadata is missing, therefore "
   ]
  },
  {
   "cell_type": "code",
   "execution_count": null,
   "metadata": {
    "collapsed": true
   },
   "outputs": [],
   "source": [
    "def uploadEEaux(index,row):\n",
    "    target = EE_BASE_AUX + \"/\" + row.fileName\n",
    "    source = GCS_BASE + row.fileName + \".\" + row.extension\n",
    "    metadata = \"--nodata_value=%s -p extension=%s -p filename=%s -p geographic_range=%s -p indicator=%s -p spatial_resolution=%s -p temporal_range_max=%s -p temporal_range_min=%s -p units=dimensionless -p ingested_by=%s -p exportdescription=%s\" %(row.nodata,row.extension,row.fileName,row.geographic_range,row.indicator,row.spatial_resolution,row.temporal_range_max,row.temporal_range_min, row.ingested_by, row.exportdescription)\n",
    "    command = \"/opt/anaconda3/bin/earthengine upload image --asset_id %s %s %s\" % (target, source,metadata)\n",
    "    try:\n",
    "        response = subprocess.check_output(command, shell=True)\n",
    "        outDict = {\"command\":command,\"response\":response,\"error\":0}\n",
    "        df_errors2 = pd.DataFrame(outDict,index=[index])\n",
    "    except:\n",
    "        try:\n",
    "            outDict = {\"command\":command,\"response\":response,\"error\":1}\n",
    "        except:\n",
    "            outDict = {\"command\":command,\"response\":-9999,\"error\":2}\n",
    "        df_errors2 = pd.DataFrame(outDict,index=[index])\n",
    "        print(\"error\")\n",
    "    return df_errors2\n"
   ]
  },
  {
   "cell_type": "code",
   "execution_count": 48,
   "metadata": {
    "collapsed": true
   },
   "outputs": [],
   "source": [
    "command = (\"/opt/google-cloud-sdk/bin/gsutil ls %s\") %(GCS_BASE_AUX)"
   ]
  },
  {
   "cell_type": "code",
   "execution_count": 49,
   "metadata": {
    "collapsed": true
   },
   "outputs": [],
   "source": [
    "keys = subprocess.check_output(command,shell=True)\n",
    "keys2 = keys.decode('UTF-8').splitlines()"
   ]
  },
  {
   "cell_type": "code",
   "execution_count": 50,
   "metadata": {},
   "outputs": [
    {
     "name": "stdout",
     "output_type": "stream",
     "text": [
      "[u'gs://aqueduct30_v01/Y2017M08D02_RH_Ingest_Additional_Rasters_EE_V01_AUX/accumulateddrainagearea_05min_km2.tif', u'gs://aqueduct30_v01/Y2017M08D02_RH_Ingest_Additional_Rasters_EE_V01_AUX/cellsize_05min_m2.tif', u'gs://aqueduct30_v01/Y2017M08D02_RH_Ingest_Additional_Rasters_EE_V01_AUX/gtopo_05min_km2.tif', u'gs://aqueduct30_v01/Y2017M08D02_RH_Ingest_Additional_Rasters_EE_V01_AUX/lddsound_05min_numpad.tif']\n"
     ]
    }
   ],
   "source": []
  },
  {
   "cell_type": "markdown",
   "metadata": {},
   "source": [
    "Upload Rasterized HydroBasin files to GCS"
   ]
  },
  {
   "cell_type": "code",
   "execution_count": 47,
   "metadata": {},
   "outputs": [
    {
     "name": "stdout",
     "output_type": "stream",
     "text": [
      "Copying file:///volumes/data/Y2017M08D02_RH_Merge_HydroBasins_V01/output/hybas_lev00_v1c_merged_fiona__30sV01.tif [Content-Type=image/tiff]...\n",
      "Copying file:///volumes/data/Y2017M08D02_RH_Merge_HydroBasins_V01/output/hybas_lev00_v1c_merged_fiona__5minV01.tif [Content-Type=image/tiff]...\n",
      "Copying file:///volumes/data/Y2017M08D02_RH_Merge_HydroBasins_V01/output/hybas_lev06_v1c_merged_fiona_30sV01.tif [Content-Type=image/tiff]...\n",
      "Copying file:///volumes/data/Y2017M08D02_RH_Merge_HydroBasins_V01/output/hybas_lev06_v1c_merged_fiona_V01.tif [Content-Type=image/tiff]...\n",
      "Copying file:///volumes/data/Y2017M08D02_RH_Merge_HydroBasins_V01/output/hybas_lev06_v1c_merged_fiona__5minV01.tif [Content-Type=image/tiff]...\n",
      "/ [5/5 files][117.7 MiB/117.7 MiB] 100% Done                                    \n",
      "Operation completed over 5 objects/117.7 MiB.                                    \n"
     ]
    }
   ],
   "source": [
    "!gsutil -m cp \\\n",
    "/volumes/data/Y2017M08D02_RH_Merge_HydroBasins_V01/output/*.tif \\\n",
    "{GCS_BASE_HYBAS}"
   ]
  },
  {
   "cell_type": "code",
   "execution_count": null,
   "metadata": {
    "collapsed": true
   },
   "outputs": [],
   "source": []
  }
 ],
 "metadata": {
  "kernelspec": {
   "display_name": "Python 27",
   "language": "python",
   "name": "python27"
  },
  "language_info": {
   "codemirror_mode": {
    "name": "ipython",
    "version": 2
   },
   "file_extension": ".py",
   "mimetype": "text/x-python",
   "name": "python",
   "nbconvert_exporter": "python",
   "pygments_lexer": "ipython2",
   "version": "2.7.13"
  }
 },
 "nbformat": 4,
 "nbformat_minor": 2
}
