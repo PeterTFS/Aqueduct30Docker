{
 "cells": [
  {
   "cell_type": "markdown",
   "metadata": {},
   "source": [
    "### Buffer FAO Names hydrobasins\n",
    "\n",
    "* Purpose of script: Buffer FAO Names hydrobasins to avoid assigning names to basins that only slightly touch other polygons\n",
    "* Author: Rutger Hofste\n",
    "* Kernel used: python35\n",
    "* Date created: 20170823"
   ]
  },
  {
   "cell_type": "code",
   "execution_count": 1,
   "metadata": {
    "collapsed": true
   },
   "outputs": [],
   "source": [
    "S3_INPUT_PATH = \"s3://wri-projects/Aqueduct30/processData/Y2017M08D23_RH_Merge_FAONames_V01/output/\"\n",
    "S3_OUTPUT_PATH = \"s3://wri-projects/Aqueduct30/processData/Y2017M08D23_RH_Buffer_FAONames_V01/output/\"\n",
    "EC2_INPUT_PATH = \"/volumes/data/Y2017M08D23_RH_Buffer_FAONames_V01/input/\"\n",
    "EC2_OUTPUT_PATH = \"/volumes/data/Y2017M08D23_RH_Buffer_FAONames_V01/output/\"\n",
    "INPUT_FILE_NAME = \"hydrobasins_fao_fiona_merged_v01.shp\"\n",
    "OUTPUT_FILE_NAME = \"hydrobasins_fao_fiona_merged_buffered_v01.shp\"\n",
    "OUTPUT_FILE_NAME_PROJ = \"hydrobasins_fao_fiona_merged_buffered_v01_backup.prj\"\n",
    "BUFFERDIST = -0.002 # Buffer distance in Degrees, set so that 15 arc s will not cause any problems with a negative number\n",
    "RESOLUTION = 3 # number of point per quarter arc\n",
    "TESTING = False\n",
    "INDEX = None"
   ]
  },
  {
   "cell_type": "code",
   "execution_count": 2,
   "metadata": {
    "collapsed": true
   },
   "outputs": [],
   "source": [
    "!rm -r {EC2_INPUT_PATH}\n",
    "!rm -r {EC2_OUTPUT_PATH}\n",
    "\n",
    "!mkdir -p {EC2_INPUT_PATH}\n",
    "!mkdir -p {EC2_OUTPUT_PATH}"
   ]
  },
  {
   "cell_type": "code",
   "execution_count": 5,
   "metadata": {
    "collapsed": true
   },
   "outputs": [],
   "source": [
    "!aws s3 cp {S3_INPUT_PATH} {EC2_INPUT_PATH} --recursive --quiet"
   ]
  },
  {
   "cell_type": "code",
   "execution_count": 3,
   "metadata": {
    "collapsed": true
   },
   "outputs": [],
   "source": [
    "import os\n",
    "if 'GDAL_DATA' not in os.environ:\n",
    "    os.environ['GDAL_DATA'] = r'/usr/share/gdal/2.1'\n",
    "from osgeo import gdal,ogr,osr\n",
    "'GDAL_DATA' in os.environ\n",
    "# If false, the GDAL_DATA variable is set incorrectly. You need this variable to obtain the spatial reference\n",
    "import pandas as pd\n",
    "import geopandas as gpd\n",
    "import matplotlib.pyplot as plt\n",
    "import time\n",
    "%matplotlib notebook\n",
    "\n",
    "from shapely.wkt import loads\n",
    "from shapely.geometry import Point\n"
   ]
  },
  {
   "cell_type": "code",
   "execution_count": 7,
   "metadata": {
    "collapsed": true
   },
   "outputs": [],
   "source": [
    "INPUTSHP = os.path.join(EC2_INPUT_PATH,INPUT_FILE_NAME)\n",
    "OUTPUTSHP = os.path.join(EC2_OUTPUT_PATH,OUTPUT_FILE_NAME)\n",
    "\n",
    "# This function can be optimized in the future by using: https://gis.stackexchange.com/questions/253224/geopandas-buffer-using-geodataframe-while-maintaining-the-dataframe\n",
    "def buffer(INPUTSHP,BUFFERDIST,RESOLUTION,OUTPUTSHP):\n",
    "    #INPUTSHP path to shapefile\n",
    "    #INDEX name of index column, can be set to None if you want geopandas to create a new index column. Index must be unique\n",
    "    #BUFFERDIST buffer distance in degrees,can also be negative\n",
    "    #RESOLUTION number of points per quarter circle. See shapely / geopandas docs for documentation\n",
    "    #OUTPUTSHP path to output shapefile\n",
    "    print(\"1/3 Reading file: \", INPUTSHP)\n",
    "    gdf =  gpd.read_file(INPUTSHP)\n",
    "    try:\n",
    "        gdf = gdf.set_index(INDEX)\n",
    "        gdf['index_copy'] = gdf.index\n",
    "        \n",
    "    except:\n",
    "        gdf['index1'] = gdf.index\n",
    "        gdf['index_copy'] = gdf['index1']\n",
    "        \n",
    "    dfIn = gdf\n",
    "    dfIn = dfIn.drop('geometry',1)\n",
    "    print(\"2/3 Creating buffer\")\n",
    "    gsBuffer = gdf['geometry'].buffer(BUFFERDIST,resolution=RESOLUTION)\n",
    "    gdfBuffer =gpd.GeoDataFrame(geometry=gsBuffer)\n",
    "    gdfBuffer['index_copy'] = gdfBuffer.index\n",
    "    gsArea = gdfBuffer.geometry.area\n",
    "    dfArea = pd.DataFrame(gsArea)\n",
    "    dfArea.columns = ['area']\n",
    "    dfArea['index_copy'] = dfArea.index\n",
    "    dfValidArea = dfArea.loc[dfArea['area'] > 0]\n",
    "    dfInValidArea = dfArea.loc[dfArea['area'] <= 0]\n",
    "    gdfTemp = gdfBuffer.merge(dfValidArea,how=\"inner\",on=\"index_copy\")\n",
    "    gdfOut = gdfTemp.merge(dfIn,how=\"left\",on=\"index_copy\")\n",
    "    gdfOut = gdfOut.set_index(\"index_copy\")\n",
    "    print(\"3/3 Writing output\")\n",
    "    gdfOut.to_file(OUTPUTSHP)\n",
    "    print(\"file saved to: \",OUTPUTSHP)    \n",
    "    return dfInValidArea    "
   ]
  },
  {
   "cell_type": "code",
   "execution_count": 8,
   "metadata": {},
   "outputs": [
    {
     "name": "stdout",
     "output_type": "stream",
     "text": [
      "Reading file\n",
      "Creating buffer\n",
      "Writing output\n",
      "file save to:  /volumes/data/Y2017M08D23_RH_Buffer_FAONames_V01/output/hydrobasins_fao_fiona_merged_buffered_v01.shp\n"
     ]
    }
   ],
   "source": [
    "dfInValidArea = buffer(INPUTSHP,BUFFERDIST,RESOLUTION,OUTPUTSHP)"
   ]
  },
  {
   "cell_type": "code",
   "execution_count": 9,
   "metadata": {
    "collapsed": true
   },
   "outputs": [],
   "source": [
    "!aws s3 cp {EC2_OUTPUT_PATH} {S3_OUTPUT_PATH} --recursive --quiet"
   ]
  },
  {
   "cell_type": "markdown",
   "metadata": {},
   "source": [
    "The following polygons were removed from the dataset"
   ]
  },
  {
   "cell_type": "code",
   "execution_count": 11,
   "metadata": {},
   "outputs": [
    {
     "data": {
      "text/html": [
       "<div>\n",
       "<style>\n",
       "    .dataframe thead tr:only-child th {\n",
       "        text-align: right;\n",
       "    }\n",
       "\n",
       "    .dataframe thead th {\n",
       "        text-align: left;\n",
       "    }\n",
       "\n",
       "    .dataframe tbody tr th {\n",
       "        vertical-align: top;\n",
       "    }\n",
       "</style>\n",
       "<table border=\"1\" class=\"dataframe\">\n",
       "  <thead>\n",
       "    <tr style=\"text-align: right;\">\n",
       "      <th></th>\n",
       "      <th>area</th>\n",
       "      <th>index_copy</th>\n",
       "    </tr>\n",
       "  </thead>\n",
       "  <tbody>\n",
       "    <tr>\n",
       "      <th>29533</th>\n",
       "      <td>0.0</td>\n",
       "      <td>29533</td>\n",
       "    </tr>\n",
       "    <tr>\n",
       "      <th>29536</th>\n",
       "      <td>0.0</td>\n",
       "      <td>29536</td>\n",
       "    </tr>\n",
       "    <tr>\n",
       "      <th>29552</th>\n",
       "      <td>0.0</td>\n",
       "      <td>29552</td>\n",
       "    </tr>\n",
       "    <tr>\n",
       "      <th>29560</th>\n",
       "      <td>0.0</td>\n",
       "      <td>29560</td>\n",
       "    </tr>\n",
       "    <tr>\n",
       "      <th>29577</th>\n",
       "      <td>0.0</td>\n",
       "      <td>29577</td>\n",
       "    </tr>\n",
       "    <tr>\n",
       "      <th>29741</th>\n",
       "      <td>0.0</td>\n",
       "      <td>29741</td>\n",
       "    </tr>\n",
       "    <tr>\n",
       "      <th>29880</th>\n",
       "      <td>0.0</td>\n",
       "      <td>29880</td>\n",
       "    </tr>\n",
       "    <tr>\n",
       "      <th>29924</th>\n",
       "      <td>0.0</td>\n",
       "      <td>29924</td>\n",
       "    </tr>\n",
       "    <tr>\n",
       "      <th>30151</th>\n",
       "      <td>0.0</td>\n",
       "      <td>30151</td>\n",
       "    </tr>\n",
       "    <tr>\n",
       "      <th>30226</th>\n",
       "      <td>0.0</td>\n",
       "      <td>30226</td>\n",
       "    </tr>\n",
       "    <tr>\n",
       "      <th>30362</th>\n",
       "      <td>0.0</td>\n",
       "      <td>30362</td>\n",
       "    </tr>\n",
       "    <tr>\n",
       "      <th>30453</th>\n",
       "      <td>0.0</td>\n",
       "      <td>30453</td>\n",
       "    </tr>\n",
       "    <tr>\n",
       "      <th>30530</th>\n",
       "      <td>0.0</td>\n",
       "      <td>30530</td>\n",
       "    </tr>\n",
       "    <tr>\n",
       "      <th>33850</th>\n",
       "      <td>0.0</td>\n",
       "      <td>33850</td>\n",
       "    </tr>\n",
       "  </tbody>\n",
       "</table>\n",
       "</div>"
      ],
      "text/plain": [
       "       area  index_copy\n",
       "29533   0.0       29533\n",
       "29536   0.0       29536\n",
       "29552   0.0       29552\n",
       "29560   0.0       29560\n",
       "29577   0.0       29577\n",
       "29741   0.0       29741\n",
       "29880   0.0       29880\n",
       "29924   0.0       29924\n",
       "30151   0.0       30151\n",
       "30226   0.0       30226\n",
       "30362   0.0       30362\n",
       "30453   0.0       30453\n",
       "30530   0.0       30530\n",
       "33850   0.0       33850"
      ]
     },
     "execution_count": 11,
     "metadata": {},
     "output_type": "execute_result"
    }
   ],
   "source": [
    "dfInValidArea"
   ]
  },
  {
   "cell_type": "code",
   "execution_count": null,
   "metadata": {
    "collapsed": true
   },
   "outputs": [],
   "source": []
  }
 ],
 "metadata": {
  "kernelspec": {
   "display_name": "Python 35",
   "language": "python",
   "name": "python35"
  },
  "language_info": {
   "codemirror_mode": {
    "name": "ipython",
    "version": 3
   },
   "file_extension": ".py",
   "mimetype": "text/x-python",
   "name": "python",
   "nbconvert_exporter": "python",
   "pygments_lexer": "ipython3",
   "version": "3.5.4"
  }
 },
 "nbformat": 4,
 "nbformat_minor": 2
}
