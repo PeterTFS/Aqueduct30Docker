{
 "cells": [
  {
   "cell_type": "markdown",
   "metadata": {},
   "source": [
    "### Buffer FAO Names hydrobasins\n",
    "\n",
    "* Purpose of script: Buffer FAO Names hydrobasins to avoid assigning names to basins that only slightly touch other polygons\n",
    "* Author: Rutger Hofste\n",
    "* Kernel used: python35\n",
    "* Date created: 20170823"
   ]
  },
  {
   "cell_type": "markdown",
   "metadata": {},
   "source": [
    "https://gist.github.com/tmcw/3987659"
   ]
  },
  {
   "cell_type": "code",
   "execution_count": 18,
   "metadata": {},
   "outputs": [],
   "source": [
    "S3_INPUT_PATH = \"s3://wri-projects/Aqueduct30/processData/Y2017M08D23_RH_Merge_FAONames_V01/output/\"\n",
    "S3_OUTPUT_PATH = \"s3://wri-projects/Aqueduct30/processData/Y2017M08D23_RH_Buffer_FAONames_V01/output/\"\n",
    "EC2_INPUT_PATH = \"/volumes/data/Y2017M08D23_RH_Buffer_FAONames_V01/input/\"\n",
    "EC2_OUTPUT_PATH = \"/volumes/data/Y2017M08D23_RH_Buffer_FAONames_V01/output/\"\n",
    "INPUT_FILE_NAME = \"hydrobasins_fao_fiona_merged_v01.shp\"\n",
    "OUTPUT_FILE_NAME = \"hydrobasins_fao_fiona_merged_buffered_v01.shp\"\n",
    "OUTPUT_FILE_NAME_PROJ = \"hydrobasins_fao_fiona_merged_buffered_v01_WTF.prj\"\n",
    "BUFFERDIST = -0.005 # Buffer distance in Degrees "
   ]
  },
  {
   "cell_type": "code",
   "execution_count": 2,
   "metadata": {
    "collapsed": true
   },
   "outputs": [],
   "source": [
    "!mkdir -p {EC2_INPUT_PATH}\n",
    "!mkdir -p {EC2_OUTPUT_PATH}"
   ]
  },
  {
   "cell_type": "code",
   "execution_count": 3,
   "metadata": {
    "collapsed": true
   },
   "outputs": [],
   "source": [
    "!aws s3 cp {S3_INPUT_PATH} {EC2_INPUT_PATH} --recursive --quiet"
   ]
  },
  {
   "cell_type": "code",
   "execution_count": 11,
   "metadata": {
    "collapsed": true
   },
   "outputs": [],
   "source": [
    "from osgeo import gdal,ogr,osr\n",
    "import os"
   ]
  },
  {
   "cell_type": "code",
   "execution_count": 5,
   "metadata": {},
   "outputs": [],
   "source": [
    "inputLocation = os.path.join(EC2_INPUT_PATH,INPUT_FILE_NAME)\n",
    "outputLocation = os.path.join(EC2_OUTPUT_PATH,OUTPUT_FILE_NAME)"
   ]
  },
  {
   "cell_type": "code",
   "execution_count": 6,
   "metadata": {
    "collapsed": true
   },
   "outputs": [],
   "source": [
    "os.environ['SHAPE_ENCODING'] = \"utf-8\""
   ]
  },
  {
   "cell_type": "code",
   "execution_count": 7,
   "metadata": {},
   "outputs": [],
   "source": [
    "def createBuffer(inputfn, outputBufferfn, bufferDist):\n",
    "    inputds = ogr.Open(inputfn)\n",
    "    inputlyr = inputds.GetLayer()\n",
    "    featureCount = inputlyr.GetFeatureCount()\n",
    "    print(featureCount)\n",
    "\n",
    "    shpdriver = ogr.GetDriverByName('ESRI Shapefile')\n",
    "    if os.path.exists(outputBufferfn):\n",
    "        shpdriver.DeleteDataSource(outputBufferfn)\n",
    "    outputBufferds = shpdriver.CreateDataSource(outputBufferfn)\n",
    "    bufferlyr = outputBufferds.CreateLayer(outputBufferfn, geom_type=ogr.wkbPolygon)\n",
    "    featureDefn = bufferlyr.GetLayerDefn()\n",
    "    \n",
    "    i = 0\n",
    "    for feature in inputlyr:\n",
    "        if i % 500 ==0:\n",
    "            print(\"Percentage Completed: %0.2d\"% ((i/featureCount)*100))\n",
    "        i += 1\n",
    "            \n",
    "        ingeom = feature.GetGeometryRef()\n",
    "        geomBuffer = ingeom.Buffer(bufferDist)\n",
    "\n",
    "        outFeature = ogr.Feature(featureDefn)\n",
    "        outFeature.SetGeometry(geomBuffer)\n",
    "        bufferlyr.CreateFeature(outFeature)\n",
    "        outFeature = None"
   ]
  },
  {
   "cell_type": "code",
   "execution_count": 8,
   "metadata": {},
   "outputs": [
    {
     "name": "stdout",
     "output_type": "stream",
     "text": [
      "33866\n",
      "Percentage Completed: 00\n",
      "Percentage Completed: 01\n",
      "Percentage Completed: 02\n",
      "Percentage Completed: 04\n",
      "Percentage Completed: 05\n",
      "Percentage Completed: 07\n",
      "Percentage Completed: 08\n",
      "Percentage Completed: 10\n",
      "Percentage Completed: 11\n",
      "Percentage Completed: 13\n",
      "Percentage Completed: 14\n",
      "Percentage Completed: 16\n",
      "Percentage Completed: 17\n",
      "Percentage Completed: 19\n",
      "Percentage Completed: 20\n",
      "Percentage Completed: 22\n",
      "Percentage Completed: 23\n",
      "Percentage Completed: 25\n",
      "Percentage Completed: 26\n",
      "Percentage Completed: 28\n",
      "Percentage Completed: 29\n",
      "Percentage Completed: 31\n",
      "Percentage Completed: 32\n",
      "Percentage Completed: 33\n",
      "Percentage Completed: 35\n",
      "Percentage Completed: 36\n",
      "Percentage Completed: 38\n",
      "Percentage Completed: 39\n",
      "Percentage Completed: 41\n",
      "Percentage Completed: 42\n",
      "Percentage Completed: 44\n",
      "Percentage Completed: 45\n",
      "Percentage Completed: 47\n",
      "Percentage Completed: 48\n",
      "Percentage Completed: 50\n",
      "Percentage Completed: 51\n",
      "Percentage Completed: 53\n",
      "Percentage Completed: 54\n",
      "Percentage Completed: 56\n",
      "Percentage Completed: 57\n",
      "Percentage Completed: 59\n",
      "Percentage Completed: 60\n",
      "Percentage Completed: 62\n",
      "Percentage Completed: 63\n",
      "Percentage Completed: 64\n",
      "Percentage Completed: 66\n",
      "Percentage Completed: 67\n",
      "Percentage Completed: 69\n",
      "Percentage Completed: 70\n",
      "Percentage Completed: 72\n",
      "Percentage Completed: 73\n",
      "Percentage Completed: 75\n",
      "Percentage Completed: 76\n",
      "Percentage Completed: 78\n",
      "Percentage Completed: 79\n",
      "Percentage Completed: 81\n",
      "Percentage Completed: 82\n",
      "Percentage Completed: 84\n",
      "Percentage Completed: 85\n",
      "Percentage Completed: 87\n",
      "Percentage Completed: 88\n",
      "Percentage Completed: 90\n",
      "Percentage Completed: 91\n",
      "Percentage Completed: 93\n",
      "Percentage Completed: 94\n",
      "Percentage Completed: 95\n",
      "Percentage Completed: 97\n",
      "Percentage Completed: 98\n"
     ]
    }
   ],
   "source": [
    "createBuffer(inputLocation, outputLocation, BUFFERDIST)"
   ]
  },
  {
   "cell_type": "code",
   "execution_count": 12,
   "metadata": {},
   "outputs": [
    {
     "data": {
      "text/plain": [
       "6"
      ]
     },
     "execution_count": 12,
     "metadata": {},
     "output_type": "execute_result"
    }
   ],
   "source": [
    "spatialRef = osr.SpatialReference()\n",
    "spatialRef.ImportFromEPSG(4326)"
   ]
  },
  {
   "cell_type": "code",
   "execution_count": 19,
   "metadata": {},
   "outputs": [],
   "source": [
    "outputLocationProj = os.path.join(EC2_OUTPUT_PATH,OUTPUT_FILE_NAME_PROJ)"
   ]
  },
  {
   "cell_type": "code",
   "execution_count": 22,
   "metadata": {
    "collapsed": true
   },
   "outputs": [],
   "source": [
    "spatialRef = osr.SpatialReference()\n",
    "spatialRef.ImportFromEPSG(26912)\n",
    "\n",
    "spatialRef.MorphToESRI()\n",
    "file = open(outputLocationProj, 'w')\n",
    "file.write(spatialRef.ExportToWkt())\n",
    "file.close()"
   ]
  },
  {
   "cell_type": "code",
   "execution_count": 21,
   "metadata": {},
   "outputs": [],
   "source": [
    "!aws s3 cp {EC2_OUTPUT_PATH} {S3_OUTPUT_PATH} --recursive --quiet"
   ]
  },
  {
   "cell_type": "code",
   "execution_count": 24,
   "metadata": {},
   "outputs": [
    {
     "ename": "NameError",
     "evalue": "name 'GDAL_DATA' is not defined",
     "output_type": "error",
     "traceback": [
      "\u001b[0;31m---------------------------------------------------------------------------\u001b[0m",
      "\u001b[0;31mNameError\u001b[0m                                 Traceback (most recent call last)",
      "\u001b[0;32m<ipython-input-24-95c5629669e7>\u001b[0m in \u001b[0;36m<module>\u001b[0;34m()\u001b[0m\n\u001b[0;32m----> 1\u001b[0;31m \u001b[0mprint\u001b[0m\u001b[0;34m(\u001b[0m\u001b[0mGDAL_DATA\u001b[0m\u001b[0;34m)\u001b[0m\u001b[0;34m\u001b[0m\u001b[0m\n\u001b[0m",
      "\u001b[0;31mNameError\u001b[0m: name 'GDAL_DATA' is not defined"
     ]
    }
   ],
   "source": [
    "print(GDAL_DATA)"
   ]
  },
  {
   "cell_type": "code",
   "execution_count": null,
   "metadata": {
    "collapsed": true
   },
   "outputs": [],
   "source": []
  }
 ],
 "metadata": {
  "kernelspec": {
   "display_name": "Python 35",
   "language": "python",
   "name": "python35"
  },
  "language_info": {
   "codemirror_mode": {
    "name": "ipython",
    "version": 3
   },
   "file_extension": ".py",
   "mimetype": "text/x-python",
   "name": "python",
   "nbconvert_exporter": "python",
   "pygments_lexer": "ipython3",
   "version": "3.5.3"
  }
 },
 "nbformat": 4,
 "nbformat_minor": 2
}
