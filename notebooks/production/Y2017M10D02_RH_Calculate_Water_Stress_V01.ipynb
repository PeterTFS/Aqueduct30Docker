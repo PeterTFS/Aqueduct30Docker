{
 "cells": [
  {
   "cell_type": "markdown",
   "metadata": {},
   "source": [
    "# Calculate Water Stress from dataframe\n",
    "\n",
    "* Purpose of script: calculate total demand (Dom, IrrLinear, Liv, Ind) and Reduced Runoff and water stress.\n",
    "* Author: Rutger Hofste\n",
    "* Kernel used: python35\n",
    "* Date created: 20171002"
   ]
  },
  {
   "cell_type": "code",
   "execution_count": 1,
   "metadata": {},
   "outputs": [
    {
     "name": "stdout",
     "output_type": "stream",
     "text": [
      "Y2017M10D02 UTC 11:52\n"
     ]
    }
   ],
   "source": [
    "import time\n",
    "dateString = time.strftime(\"Y%YM%mD%d\")\n",
    "timeString = time.strftime(\"UTC %H:%M\")\n",
    "print(dateString,timeString)"
   ]
  },
  {
   "cell_type": "code",
   "execution_count": 13,
   "metadata": {
    "collapsed": true
   },
   "outputs": [],
   "source": [
    "S3_INPUT_PATH = \"s3://wri-projects/Aqueduct30/processData/Y2017M09D15_RH_Add_Basin_Data_V01/output/\"\n",
    "\n",
    "EC2_INPUT_PATH = \"/volumes/data/Y2017M10D02_RH_Calculate_Water_Stress_V01/input\"\n",
    "EC2_OUTPUT_PATH = \"/volumes/data/Y2017M10D02_RH_Calculate_Water_Stress_V01/output\"\n",
    "\n",
    "INPUT_FILENAME = \"Y2017M09D15_RH_Add_Basin_Data_V01\"\n",
    "\n",
    "TEST_BASIN = 292107"
   ]
  },
  {
   "cell_type": "markdown",
   "metadata": {},
   "source": [
    "Read Pickle file instead of csv "
   ]
  },
  {
   "cell_type": "code",
   "execution_count": 3,
   "metadata": {},
   "outputs": [
    {
     "name": "stdout",
     "output_type": "stream",
     "text": [
      "rm: cannot remove '/volumes/data/Y2017M10D02_RH_Calculate_Water_Stress_V01/input': No such file or directory\n",
      "rm: cannot remove '/volumes/data/Y2017M10D02_RH_Calculate_Water_Stress_V01/output': No such file or directory\n"
     ]
    }
   ],
   "source": [
    "!rm -r {EC2_INPUT_PATH} \n",
    "!rm -r {EC2_OUTPUT_PATH} "
   ]
  },
  {
   "cell_type": "code",
   "execution_count": 4,
   "metadata": {
    "collapsed": true
   },
   "outputs": [],
   "source": [
    "!mkdir -p {EC2_INPUT_PATH} \n",
    "!mkdir -p {EC2_OUTPUT_PATH} "
   ]
  },
  {
   "cell_type": "code",
   "execution_count": 5,
   "metadata": {},
   "outputs": [
    {
     "name": "stdout",
     "output_type": "stream",
     "text": [
      "download: s3://wri-projects/Aqueduct30/processData/Y2017M09D15_RH_Add_Basin_Data_V01/output/Y2017M09D15_RH_Add_Basin_Data_V01.csv to ../../../../data/Y2017M10D02_RH_Calculate_Water_Stress_V01/input/Y2017M09D15_RH_Add_Basin_Data_V01.csv\n",
      "download: s3://wri-projects/Aqueduct30/processData/Y2017M09D15_RH_Add_Basin_Data_V01/output/Y2017M09D15_RH_Add_Basin_Data_V01.pkl to ../../../../data/Y2017M10D02_RH_Calculate_Water_Stress_V01/input/Y2017M09D15_RH_Add_Basin_Data_V01.pkl\n"
     ]
    }
   ],
   "source": [
    "!aws s3 cp {S3_INPUT_PATH} {EC2_INPUT_PATH} --recursive"
   ]
  },
  {
   "cell_type": "code",
   "execution_count": 9,
   "metadata": {
    "collapsed": true
   },
   "outputs": [],
   "source": [
    "import os\n",
    "import pandas as pd"
   ]
  },
  {
   "cell_type": "code",
   "execution_count": 10,
   "metadata": {},
   "outputs": [],
   "source": [
    "dfBasins = pd.read_pickle(os.path.join(EC2_INPUT_PATH,INPUT_FILENAME+\".pkl\"))"
   ]
  },
  {
   "cell_type": "code",
   "execution_count": 24,
   "metadata": {},
   "outputs": [],
   "source": [
    "test = dfBasins.loc[TEST_BASIN]"
   ]
  },
  {
   "cell_type": "code",
   "execution_count": 25,
   "metadata": {},
   "outputs": [
    {
     "data": {
      "text/plain": [
       "HYBAS_ID2                                                                                          2060877600\n",
       "Unnamed: 0                                                                                               6355\n",
       "HYBAS_ID                                                                                           2060877600\n",
       "NEXT_DOWN                                                                                          2060879580\n",
       "NEXT_SINK                                                                                          2060085630\n",
       "MAIN_BAS                                                                                           2060085630\n",
       "DIST_SINK                                                                                                  19\n",
       "DIST_MAIN                                                                                                  19\n",
       "SUB_AREA                                                                                                155.4\n",
       "UP_AREA                                                                                               21859.5\n",
       "PFAF_ID                                                                                                292107\n",
       "ENDO                                                                                                        1\n",
       "COAST                                                                                                       0\n",
       "ORDER                                                                                                       1\n",
       "SORT                                                                                                     1921\n",
       "Upstream_HYBAS_IDs                                                                   [2060876880, 2060876790]\n",
       "Upstream_PFAF_IDs                                                                            [292109, 292108]\n",
       "Downstream_HYBAS_IDs                                                                 [2060879580, 2060085630]\n",
       "Downstream_PFAF_IDs                                                                          [292103, 292101]\n",
       "NEXT_SINK_PFAF                                                                                         292101\n",
       "Basin_HYBAS_IDs                                             [2060879580, 2060085630, 2060876880, 206087679...\n",
       "Basin_PFAF_IDs                                                       [292103, 292101, 292109, 292108, 292107]\n",
       "SUB_NAME                                                                                        ['Halil Rud']\n",
       "MAJ_NAME                                                                                     ['Central Iran']\n",
       "FAOid_copy                                                                  ['MAJ_BAS_6011_SUB_BASE_0011001']\n",
       "count_Hybas06                                                                                             202\n",
       "mean_Hybas06                                                                                           292107\n",
       "count_area_30s_m2                                                                                         202\n",
       "mean_area_30s_m2                                                                                       759540\n",
       "total_area_30s_m2                                                                                 1.53427e+08\n",
       "                                                                                  ...                        \n",
       "basin_total_volume_reducedmeanrunoff_month_Y1960Y2014M12                                          1.13111e+08\n",
       "basin_total_volume_runoff_monthY2014M06                                                          -5.95993e+06\n",
       "basin_total_volume_IrrLinearWW_monthY2014M11                                                      2.82321e+07\n",
       "basin_total_volume_PDomWN_monthY2014M05                                                           2.23862e+06\n",
       "basin_total_volume_PIndWW_monthY2014M09                                                           1.27498e+06\n",
       "basin_total_volume_PIrrWN_monthY2014M12                                                           1.11358e+07\n",
       "basin_total_volume_PIndWW_monthY2014M04                                                           1.27498e+06\n",
       "basin_total_volume_PDomWW_monthY2014M08                                                           3.83239e+06\n",
       "basin_total_volume_PIndWW_monthY2014M08                                                           1.27498e+06\n",
       "basin_total_volume_IrrLinearWN_yearY2014                                                          2.51373e+08\n",
       "basin_total_volume_IrrLinearWN_monthY2014M11                                                      1.06717e+07\n",
       "basin_total_volume_PIndWN_monthY2014M02                                                                254997\n",
       "basin_total_volume_PDomWN_monthY2014M07                                                           2.28885e+06\n",
       "basin_total_volume_PIndWW_monthY2014M01                                                           1.27498e+06\n",
       "basin_total_volume_IrrLinearWW_monthY2014M03                                                      2.42952e+07\n",
       "basin_total_volume_PLivWW_monthY2014M09                                                               82176.4\n",
       "basin_total_volume_PIrrWN_monthY2014M04                                                           4.68529e+06\n",
       "basin_total_volume_PIrrWN_monthY2014M06                                                           3.46928e+07\n",
       "basin_total_volume_PLivWN_monthY2014M11                                                               74471.5\n",
       "basin_total_volume_PIrrWN_monthY2014M10                                                           1.97417e+07\n",
       "basin_total_volume_runoff_monthY2014M02                                                           4.28778e+08\n",
       "basin_total_volume_PLivWN_monthY2014M10                                                               78784.9\n",
       "basin_total_volume_PDomWN_yearY2014M12                                                            2.61968e+07\n",
       "basin_total_volume_runoff_monthY2014M10                                                           1.72614e+07\n",
       "basin_total_volume_PIrrWW_monthY2014M08                                                           1.08599e+08\n",
       "basin_total_volume_IrrLinearWW_monthY2014M04                                                      2.30788e+07\n",
       "basin_total_volume_PLivWW_yearY2014M12                                                                 939788\n",
       "basin_total_volume_PIrrWN_monthY2014M07                                                           4.43179e+07\n",
       "basin_total_volume_IrrLinearWN_monthY2014M05                                                      2.72771e+07\n",
       "errorCode                                                                                                   0\n",
       "Name: 292107, Length: 682, dtype: object"
      ]
     },
     "execution_count": 25,
     "metadata": {},
     "output_type": "execute_result"
    }
   ],
   "source": [
    "test"
   ]
  },
  {
   "cell_type": "code",
   "execution_count": 26,
   "metadata": {
    "collapsed": true
   },
   "outputs": [],
   "source": [
    "demandTypes = [\"PDom\",\"PInd\",\"IrrLinear\",\"PLiv\"]\n",
    "useTypes = [\"WW\",\"WN\"]\n",
    "temporalResolutions = [\"year\",\"month\"]\n",
    "years = [2014]"
   ]
  },
  {
   "cell_type": "code",
   "execution_count": 31,
   "metadata": {},
   "outputs": [
    {
     "name": "stdout",
     "output_type": "stream",
     "text": [
      "PDom WW year 2014 12\n",
      "PInd WW year 2014 12\n",
      "IrrLinear WW year 2014 12\n",
      "PLiv WW year 2014 12\n",
      "PDom WN year 2014 12\n",
      "PInd WN year 2014 12\n",
      "IrrLinear WN year 2014 12\n",
      "PLiv WN year 2014 12\n",
      "PDom WW month 2014 1\n",
      "PInd WW month 2014 1\n",
      "IrrLinear WW month 2014 1\n",
      "PLiv WW month 2014 1\n",
      "PDom WN month 2014 1\n",
      "PInd WN month 2014 1\n",
      "IrrLinear WN month 2014 1\n",
      "PLiv WN month 2014 1\n",
      "PDom WW month 2014 2\n",
      "PInd WW month 2014 2\n",
      "IrrLinear WW month 2014 2\n",
      "PLiv WW month 2014 2\n",
      "PDom WN month 2014 2\n",
      "PInd WN month 2014 2\n",
      "IrrLinear WN month 2014 2\n",
      "PLiv WN month 2014 2\n",
      "PDom WW month 2014 3\n",
      "PInd WW month 2014 3\n",
      "IrrLinear WW month 2014 3\n",
      "PLiv WW month 2014 3\n",
      "PDom WN month 2014 3\n",
      "PInd WN month 2014 3\n",
      "IrrLinear WN month 2014 3\n",
      "PLiv WN month 2014 3\n",
      "PDom WW month 2014 4\n",
      "PInd WW month 2014 4\n",
      "IrrLinear WW month 2014 4\n",
      "PLiv WW month 2014 4\n",
      "PDom WN month 2014 4\n",
      "PInd WN month 2014 4\n",
      "IrrLinear WN month 2014 4\n",
      "PLiv WN month 2014 4\n",
      "PDom WW month 2014 5\n",
      "PInd WW month 2014 5\n",
      "IrrLinear WW month 2014 5\n",
      "PLiv WW month 2014 5\n",
      "PDom WN month 2014 5\n",
      "PInd WN month 2014 5\n",
      "IrrLinear WN month 2014 5\n",
      "PLiv WN month 2014 5\n",
      "PDom WW month 2014 6\n",
      "PInd WW month 2014 6\n",
      "IrrLinear WW month 2014 6\n",
      "PLiv WW month 2014 6\n",
      "PDom WN month 2014 6\n",
      "PInd WN month 2014 6\n",
      "IrrLinear WN month 2014 6\n",
      "PLiv WN month 2014 6\n",
      "PDom WW month 2014 7\n",
      "PInd WW month 2014 7\n",
      "IrrLinear WW month 2014 7\n",
      "PLiv WW month 2014 7\n",
      "PDom WN month 2014 7\n",
      "PInd WN month 2014 7\n",
      "IrrLinear WN month 2014 7\n",
      "PLiv WN month 2014 7\n",
      "PDom WW month 2014 8\n",
      "PInd WW month 2014 8\n",
      "IrrLinear WW month 2014 8\n",
      "PLiv WW month 2014 8\n",
      "PDom WN month 2014 8\n",
      "PInd WN month 2014 8\n",
      "IrrLinear WN month 2014 8\n",
      "PLiv WN month 2014 8\n",
      "PDom WW month 2014 9\n",
      "PInd WW month 2014 9\n",
      "IrrLinear WW month 2014 9\n",
      "PLiv WW month 2014 9\n",
      "PDom WN month 2014 9\n",
      "PInd WN month 2014 9\n",
      "IrrLinear WN month 2014 9\n",
      "PLiv WN month 2014 9\n",
      "PDom WW month 2014 10\n",
      "PInd WW month 2014 10\n",
      "IrrLinear WW month 2014 10\n",
      "PLiv WW month 2014 10\n",
      "PDom WN month 2014 10\n",
      "PInd WN month 2014 10\n",
      "IrrLinear WN month 2014 10\n",
      "PLiv WN month 2014 10\n",
      "PDom WW month 2014 11\n",
      "PInd WW month 2014 11\n",
      "IrrLinear WW month 2014 11\n",
      "PLiv WW month 2014 11\n",
      "PDom WN month 2014 11\n",
      "PInd WN month 2014 11\n",
      "IrrLinear WN month 2014 11\n",
      "PLiv WN month 2014 11\n",
      "PDom WW month 2014 12\n",
      "PInd WW month 2014 12\n",
      "IrrLinear WW month 2014 12\n",
      "PLiv WW month 2014 12\n",
      "PDom WN month 2014 12\n",
      "PInd WN month 2014 12\n",
      "IrrLinear WN month 2014 12\n",
      "PLiv WN month 2014 12\n"
     ]
    }
   ],
   "source": [
    "for temporalResolution in temporalResolutions:\n",
    "    if temporalResolution == \"year\":\n",
    "        months = [12]\n",
    "    elif temporalResolution == \"month\":\n",
    "        months = range(1,13)\n",
    "\n",
    "    for year in years:    \n",
    "        for month in months:\n",
    "            for useType in useTypes:\n",
    "                # Total temporary parameter\n",
    "                totalTemp = 0\n",
    "                for demandType in demandTypes:\n",
    "                    print(demandType,useType,temporalResolution,year,month)\n",
    "                    indicatorName = \n",
    "    "
   ]
  },
  {
   "cell_type": "code",
   "execution_count": null,
   "metadata": {
    "collapsed": true
   },
   "outputs": [],
   "source": []
  }
 ],
 "metadata": {
  "kernelspec": {
   "display_name": "Python 35",
   "language": "python",
   "name": "python35"
  },
  "language_info": {
   "codemirror_mode": {
    "name": "ipython",
    "version": 3
   },
   "file_extension": ".py",
   "mimetype": "text/x-python",
   "name": "python",
   "nbconvert_exporter": "python",
   "pygments_lexer": "ipython3",
   "version": "3.5.4"
  }
 },
 "nbformat": 4,
 "nbformat_minor": 2
}
