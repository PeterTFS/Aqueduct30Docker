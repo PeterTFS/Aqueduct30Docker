{
 "cells": [
  {
   "cell_type": "markdown",
   "metadata": {},
   "source": [
    "# Calculate Water Stress from dataframe\n",
    "\n",
    "* Purpose of script: calculate total demand (Dom, IrrLinear, Liv, Ind) and Reduced Runoff and water stress.\n",
    "* Author: Rutger Hofste\n",
    "* Kernel used: python35\n",
    "* Date created: 20171002"
   ]
  },
  {
   "cell_type": "code",
   "execution_count": 34,
   "metadata": {},
   "outputs": [
    {
     "name": "stdout",
     "output_type": "stream",
     "text": [
      "Y2017M10D03 UTC 10:13\n"
     ]
    }
   ],
   "source": [
    "import time\n",
    "dateString = time.strftime(\"Y%YM%mD%d\")\n",
    "timeString = time.strftime(\"UTC %H:%M\")\n",
    "print(dateString,timeString)"
   ]
  },
  {
   "cell_type": "code",
   "execution_count": 35,
   "metadata": {
    "collapsed": true
   },
   "outputs": [],
   "source": [
    "S3_INPUT_PATH = \"s3://wri-projects/Aqueduct30/processData/Y2017M09D15_RH_Add_Basin_Data_V01/output/\"\n",
    "\n",
    "EC2_INPUT_PATH = \"/volumes/data/Y2017M10D02_RH_Calculate_Water_Stress_V01/input\"\n",
    "EC2_OUTPUT_PATH = \"/volumes/data/Y2017M10D02_RH_Calculate_Water_Stress_V01/output\"\n",
    "\n",
    "INPUT_FILENAME = \"Y2017M09D15_RH_Add_Basin_Data_V01\"\n",
    "\n",
    "TEST_BASIN = 292107"
   ]
  },
  {
   "cell_type": "markdown",
   "metadata": {},
   "source": [
    "Read Pickle file instead of csv "
   ]
  },
  {
   "cell_type": "code",
   "execution_count": 36,
   "metadata": {
    "collapsed": true
   },
   "outputs": [],
   "source": [
    "!rm -r {EC2_INPUT_PATH} \n",
    "!rm -r {EC2_OUTPUT_PATH} "
   ]
  },
  {
   "cell_type": "code",
   "execution_count": 37,
   "metadata": {
    "collapsed": true
   },
   "outputs": [],
   "source": [
    "!mkdir -p {EC2_INPUT_PATH} \n",
    "!mkdir -p {EC2_OUTPUT_PATH} "
   ]
  },
  {
   "cell_type": "code",
   "execution_count": 38,
   "metadata": {},
   "outputs": [
    {
     "name": "stdout",
     "output_type": "stream",
     "text": [
      "download: s3://wri-projects/Aqueduct30/processData/Y2017M09D15_RH_Add_Basin_Data_V01/output/Y2017M09D15_RH_Add_Basin_Data_V01.pkl to ../../../../data/Y2017M10D02_RH_Calculate_Water_Stress_V01/input/Y2017M09D15_RH_Add_Basin_Data_V01.pkl\n",
      "download: s3://wri-projects/Aqueduct30/processData/Y2017M09D15_RH_Add_Basin_Data_V01/output/Y2017M09D15_RH_Add_Basin_Data_V01.csv to ../../../../data/Y2017M10D02_RH_Calculate_Water_Stress_V01/input/Y2017M09D15_RH_Add_Basin_Data_V01.csv\n"
     ]
    }
   ],
   "source": [
    "!aws s3 cp {S3_INPUT_PATH} {EC2_INPUT_PATH} --recursive"
   ]
  },
  {
   "cell_type": "code",
   "execution_count": 39,
   "metadata": {
    "collapsed": true
   },
   "outputs": [],
   "source": [
    "import os\n",
    "import pandas as pd"
   ]
  },
  {
   "cell_type": "code",
   "execution_count": 40,
   "metadata": {
    "collapsed": true
   },
   "outputs": [],
   "source": [
    "dfBasins = pd.read_pickle(os.path.join(EC2_INPUT_PATH,INPUT_FILENAME+\".pkl\"))"
   ]
  },
  {
   "cell_type": "code",
   "execution_count": 41,
   "metadata": {
    "collapsed": true
   },
   "outputs": [],
   "source": [
    "test = dfBasins.loc[TEST_BASIN]"
   ]
  },
  {
   "cell_type": "code",
   "execution_count": 42,
   "metadata": {},
   "outputs": [
    {
     "data": {
      "text/plain": [
       "HYBAS_ID2                                                                               2060877600\n",
       "Unnamed: 0                                                                                    6355\n",
       "HYBAS_ID                                                                                2060877600\n",
       "NEXT_DOWN                                                                               2060879580\n",
       "NEXT_SINK                                                                               2060085630\n",
       "MAIN_BAS                                                                                2060085630\n",
       "DIST_SINK                                                                                       19\n",
       "DIST_MAIN                                                                                       19\n",
       "SUB_AREA                                                                                     155.4\n",
       "UP_AREA                                                                                    21859.5\n",
       "PFAF_ID                                                                                     292107\n",
       "ENDO                                                                                             1\n",
       "COAST                                                                                            0\n",
       "ORDER                                                                                            1\n",
       "SORT                                                                                          1921\n",
       "Upstream_HYBAS_IDs                                                        [2060876880, 2060876790]\n",
       "Upstream_PFAF_IDs                                                                 [292109, 292108]\n",
       "Downstream_HYBAS_IDs                                                      [2060879580, 2060085630]\n",
       "Downstream_PFAF_IDs                                                               [292103, 292101]\n",
       "NEXT_SINK_PFAF                                                                              292101\n",
       "Basin_HYBAS_IDs                                  [2060879580, 2060085630, 2060876880, 206087679...\n",
       "Basin_PFAF_IDs                                            [292103, 292101, 292109, 292108, 292107]\n",
       "SUB_NAME                                                                             ['Halil Rud']\n",
       "MAJ_NAME                                                                          ['Central Iran']\n",
       "FAOid_copy                                                       ['MAJ_BAS_6011_SUB_BASE_0011001']\n",
       "count_Hybas06                                                                                  202\n",
       "mean_Hybas06                                                                                292107\n",
       "count_area_30s_m2                                                                              202\n",
       "mean_area_30s_m2                                                                            759540\n",
       "total_area_30s_m2                                                                      1.53427e+08\n",
       "                                                                       ...                        \n",
       "basin_total_volume_PLivWW_yearY2014M12                                                      939788\n",
       "basin_total_volume_PIrrWN_monthY2014M07                                                4.43179e+07\n",
       "basin_total_volume_IrrLinearWN_monthY2014M05                                           2.72771e+07\n",
       "basin_total_volumem3_TotWW_year_Y2014                                                  7.25436e+08\n",
       "basin_total_volumem3_TotWN_year_Y2014                                                   2.8157e+08\n",
       "basin_total_sum_volumem3_TotWW_month_Y2014M01                                          2.44174e+07\n",
       "basin_total_sum_volumem3_TotWW_month_Y2014M02                                          2.09309e+07\n",
       "basin_total_sum_volumem3_TotWW_month_Y2014M03                                           2.9245e+07\n",
       "basin_total_sum_volumem3_TotWW_month_Y2014M04                                           2.8119e+07\n",
       "basin_total_sum_volumem3_TotWW_month_Y2014M05                                          7.72957e+07\n",
       "basin_total_sum_volumem3_TotWW_month_Y2014M06                                          1.09031e+08\n",
       "basin_total_sum_volumem3_TotWW_month_Y2014M07                                          1.24729e+08\n",
       "basin_total_sum_volumem3_TotWW_month_Y2014M08                                          1.15638e+08\n",
       "basin_total_sum_volumem3_TotWW_month_Y2014M09                                          7.77402e+07\n",
       "basin_total_sum_volumem3_TotWW_month_Y2014M10                                           5.6432e+07\n",
       "basin_total_sum_volumem3_TotWW_month_Y2014M11                                          3.31715e+07\n",
       "basin_total_sum_volumem3_TotWW_month_Y2014M12                                          2.86854e+07\n",
       "basin_total_sum_volumem3_TotWN_month_Y2014M01                                          9.79616e+06\n",
       "basin_total_sum_volumem3_TotWN_month_Y2014M02                                          8.48734e+06\n",
       "basin_total_sum_volumem3_TotWN_month_Y2014M03                                          1.16482e+07\n",
       "basin_total_sum_volumem3_TotWN_month_Y2014M04                                           1.1243e+07\n",
       "basin_total_sum_volumem3_TotWN_month_Y2014M05                                          2.98528e+07\n",
       "basin_total_sum_volumem3_TotWN_month_Y2014M06                                          4.18647e+07\n",
       "basin_total_sum_volumem3_TotWN_month_Y2014M07                                          4.78023e+07\n",
       "basin_total_sum_volumem3_TotWN_month_Y2014M08                                          4.43589e+07\n",
       "basin_total_sum_volumem3_TotWN_month_Y2014M09                                          3.00213e+07\n",
       "basin_total_sum_volumem3_TotWN_month_Y2014M10                                          2.19479e+07\n",
       "basin_total_sum_volumem3_TotWN_month_Y2014M11                                          1.31307e+07\n",
       "basin_total_sum_volumem3_TotWN_month_Y2014M12                                          1.14162e+07\n",
       "errorCode                                                                                        0\n",
       "Name: 292107, Length: 1076, dtype: object"
      ]
     },
     "execution_count": 42,
     "metadata": {},
     "output_type": "execute_result"
    }
   ],
   "source": [
    "test"
   ]
  },
  {
   "cell_type": "code",
   "execution_count": 10,
   "metadata": {
    "collapsed": true
   },
   "outputs": [],
   "source": [
    "demandTypes = [\"PDom\",\"PInd\",\"IrrLinear\",\"PLiv\"]\n",
    "useTypes = [\"WW\",\"WN\"]\n",
    "temporalResolutions = [\"year\",\"month\"]\n",
    "years = [2014]\n",
    "basinTypes = [\"upstream\",\"downstream\",\"basin\"]\n"
   ]
  },
  {
   "cell_type": "code",
   "execution_count": 29,
   "metadata": {
    "collapsed": true
   },
   "outputs": [],
   "source": [
    "def calculateTotal(basinType,useType,temporalResolution,year,month):\n",
    "    # This function will add Dom Ind IrrLinear and Livestock of all basins in the input list\n",
    "    \n",
    "    if temporalResolution == \"year\":\n",
    "        keyTotal = \"%s_sum_volumem3_Tot%s_%s_Y%0.4d\" %(basinType, useType,temporalResolution,year)\n",
    "    else:\n",
    "        keyTotal = \"%s_sum_volumem3_Tot%s_%s_Y%0.4dM%0.2d\" %(basinType,useType,temporalResolution,year,month)\n",
    "    \n",
    "    # Create Column with zeros\n",
    "    dfDemand[keyTotal] = 0\n",
    "    for demandType in demandTypes:\n",
    "        if demandType == \"IrrLinear\" and temporalResolution == \"year\":\n",
    "            # template basin_total_volume_IrrLinearWN_monthY2014M01\n",
    "            key = \"%s_total_volume_%s%s_%sY%0.4d\" %(basinType,demandType,useType,temporalResolution,year)\n",
    "            print(key)\n",
    "        else:\n",
    "            key = \"%s_total_volume_%s%s_%sY%0.4dM%0.2d\" %(basinType,demandType,useType,temporalResolution,year,month)\n",
    "        dfDemand[keyTotal] = dfDemand[keyTotal] + dfBasins[key]\n",
    "    return dfDemand   \n",
    "\n"
   ]
  },
  {
   "cell_type": "code",
   "execution_count": 30,
   "metadata": {
    "collapsed": true
   },
   "outputs": [],
   "source": [
    "demandType = \"PDom\"\n",
    "useType = \"WW\"\n",
    "temporalResolution = \"year\"\n",
    "year = 2014\n",
    "basinType = \"upstream\"\n",
    "month = 12\n"
   ]
  },
  {
   "cell_type": "code",
   "execution_count": 31,
   "metadata": {
    "collapsed": true
   },
   "outputs": [],
   "source": [
    "dfDemand = pd.DataFrame(index=dfBasins.index)"
   ]
  },
  {
   "cell_type": "code",
   "execution_count": 32,
   "metadata": {},
   "outputs": [
    {
     "name": "stdout",
     "output_type": "stream",
     "text": [
      "upstream_total_volume_IrrLinearWW_yearY2014\n"
     ]
    }
   ],
   "source": [
    "dfDemand = calculateTotal(basinType,useType,temporalResolution,year,month)"
   ]
  },
  {
   "cell_type": "code",
   "execution_count": 33,
   "metadata": {},
   "outputs": [
    {
     "data": {
      "text/html": [
       "<div>\n",
       "<style>\n",
       "    .dataframe thead tr:only-child th {\n",
       "        text-align: right;\n",
       "    }\n",
       "\n",
       "    .dataframe thead th {\n",
       "        text-align: left;\n",
       "    }\n",
       "\n",
       "    .dataframe tbody tr th {\n",
       "        vertical-align: top;\n",
       "    }\n",
       "</style>\n",
       "<table border=\"1\" class=\"dataframe\">\n",
       "  <thead>\n",
       "    <tr style=\"text-align: right;\">\n",
       "      <th></th>\n",
       "      <th>upstream_sum_volumem3_TotWW_year_Y2014</th>\n",
       "    </tr>\n",
       "    <tr>\n",
       "      <th>PFAF_ID</th>\n",
       "      <th></th>\n",
       "    </tr>\n",
       "  </thead>\n",
       "  <tbody>\n",
       "    <tr>\n",
       "      <th>111011</th>\n",
       "      <td>0.000000e+00</td>\n",
       "    </tr>\n",
       "    <tr>\n",
       "      <th>111012</th>\n",
       "      <td>0.000000e+00</td>\n",
       "    </tr>\n",
       "    <tr>\n",
       "      <th>111013</th>\n",
       "      <td>0.000000e+00</td>\n",
       "    </tr>\n",
       "    <tr>\n",
       "      <th>111014</th>\n",
       "      <td>0.000000e+00</td>\n",
       "    </tr>\n",
       "    <tr>\n",
       "      <th>111015</th>\n",
       "      <td>0.000000e+00</td>\n",
       "    </tr>\n",
       "    <tr>\n",
       "      <th>111016</th>\n",
       "      <td>0.000000e+00</td>\n",
       "    </tr>\n",
       "    <tr>\n",
       "      <th>111017</th>\n",
       "      <td>0.000000e+00</td>\n",
       "    </tr>\n",
       "    <tr>\n",
       "      <th>111018</th>\n",
       "      <td>0.000000e+00</td>\n",
       "    </tr>\n",
       "    <tr>\n",
       "      <th>111019</th>\n",
       "      <td>0.000000e+00</td>\n",
       "    </tr>\n",
       "    <tr>\n",
       "      <th>111020</th>\n",
       "      <td>0.000000e+00</td>\n",
       "    </tr>\n",
       "    <tr>\n",
       "      <th>111030</th>\n",
       "      <td>0.000000e+00</td>\n",
       "    </tr>\n",
       "    <tr>\n",
       "      <th>111041</th>\n",
       "      <td>1.146655e+06</td>\n",
       "    </tr>\n",
       "    <tr>\n",
       "      <th>111042</th>\n",
       "      <td>0.000000e+00</td>\n",
       "    </tr>\n",
       "    <tr>\n",
       "      <th>111043</th>\n",
       "      <td>9.152363e+05</td>\n",
       "    </tr>\n",
       "    <tr>\n",
       "      <th>111044</th>\n",
       "      <td>0.000000e+00</td>\n",
       "    </tr>\n",
       "    <tr>\n",
       "      <th>111045</th>\n",
       "      <td>4.019127e+05</td>\n",
       "    </tr>\n",
       "    <tr>\n",
       "      <th>111046</th>\n",
       "      <td>0.000000e+00</td>\n",
       "    </tr>\n",
       "    <tr>\n",
       "      <th>111047</th>\n",
       "      <td>3.183010e+05</td>\n",
       "    </tr>\n",
       "    <tr>\n",
       "      <th>111048</th>\n",
       "      <td>0.000000e+00</td>\n",
       "    </tr>\n",
       "    <tr>\n",
       "      <th>111049</th>\n",
       "      <td>0.000000e+00</td>\n",
       "    </tr>\n",
       "    <tr>\n",
       "      <th>111050</th>\n",
       "      <td>0.000000e+00</td>\n",
       "    </tr>\n",
       "    <tr>\n",
       "      <th>111060</th>\n",
       "      <td>0.000000e+00</td>\n",
       "    </tr>\n",
       "    <tr>\n",
       "      <th>111070</th>\n",
       "      <td>0.000000e+00</td>\n",
       "    </tr>\n",
       "    <tr>\n",
       "      <th>111081</th>\n",
       "      <td>9.465548e+07</td>\n",
       "    </tr>\n",
       "    <tr>\n",
       "      <th>111082</th>\n",
       "      <td>0.000000e+00</td>\n",
       "    </tr>\n",
       "    <tr>\n",
       "      <th>111083</th>\n",
       "      <td>9.023437e+07</td>\n",
       "    </tr>\n",
       "    <tr>\n",
       "      <th>111084</th>\n",
       "      <td>0.000000e+00</td>\n",
       "    </tr>\n",
       "    <tr>\n",
       "      <th>111085</th>\n",
       "      <td>2.445186e+07</td>\n",
       "    </tr>\n",
       "    <tr>\n",
       "      <th>111086</th>\n",
       "      <td>0.000000e+00</td>\n",
       "    </tr>\n",
       "    <tr>\n",
       "      <th>111087</th>\n",
       "      <td>8.796754e+06</td>\n",
       "    </tr>\n",
       "    <tr>\n",
       "      <th>...</th>\n",
       "      <td>...</td>\n",
       "    </tr>\n",
       "    <tr>\n",
       "      <th>914501</th>\n",
       "      <td>0.000000e+00</td>\n",
       "    </tr>\n",
       "    <tr>\n",
       "      <th>914502</th>\n",
       "      <td>0.000000e+00</td>\n",
       "    </tr>\n",
       "    <tr>\n",
       "      <th>914503</th>\n",
       "      <td>0.000000e+00</td>\n",
       "    </tr>\n",
       "    <tr>\n",
       "      <th>914504</th>\n",
       "      <td>0.000000e+00</td>\n",
       "    </tr>\n",
       "    <tr>\n",
       "      <th>914505</th>\n",
       "      <td>0.000000e+00</td>\n",
       "    </tr>\n",
       "    <tr>\n",
       "      <th>914506</th>\n",
       "      <td>0.000000e+00</td>\n",
       "    </tr>\n",
       "    <tr>\n",
       "      <th>914507</th>\n",
       "      <td>0.000000e+00</td>\n",
       "    </tr>\n",
       "    <tr>\n",
       "      <th>914508</th>\n",
       "      <td>0.000000e+00</td>\n",
       "    </tr>\n",
       "    <tr>\n",
       "      <th>914509</th>\n",
       "      <td>0.000000e+00</td>\n",
       "    </tr>\n",
       "    <tr>\n",
       "      <th>914600</th>\n",
       "      <td>0.000000e+00</td>\n",
       "    </tr>\n",
       "    <tr>\n",
       "      <th>914700</th>\n",
       "      <td>0.000000e+00</td>\n",
       "    </tr>\n",
       "    <tr>\n",
       "      <th>914701</th>\n",
       "      <td>0.000000e+00</td>\n",
       "    </tr>\n",
       "    <tr>\n",
       "      <th>914702</th>\n",
       "      <td>0.000000e+00</td>\n",
       "    </tr>\n",
       "    <tr>\n",
       "      <th>914703</th>\n",
       "      <td>0.000000e+00</td>\n",
       "    </tr>\n",
       "    <tr>\n",
       "      <th>914704</th>\n",
       "      <td>0.000000e+00</td>\n",
       "    </tr>\n",
       "    <tr>\n",
       "      <th>914705</th>\n",
       "      <td>0.000000e+00</td>\n",
       "    </tr>\n",
       "    <tr>\n",
       "      <th>914706</th>\n",
       "      <td>0.000000e+00</td>\n",
       "    </tr>\n",
       "    <tr>\n",
       "      <th>914707</th>\n",
       "      <td>0.000000e+00</td>\n",
       "    </tr>\n",
       "    <tr>\n",
       "      <th>914708</th>\n",
       "      <td>0.000000e+00</td>\n",
       "    </tr>\n",
       "    <tr>\n",
       "      <th>914709</th>\n",
       "      <td>0.000000e+00</td>\n",
       "    </tr>\n",
       "    <tr>\n",
       "      <th>914801</th>\n",
       "      <td>0.000000e+00</td>\n",
       "    </tr>\n",
       "    <tr>\n",
       "      <th>914802</th>\n",
       "      <td>0.000000e+00</td>\n",
       "    </tr>\n",
       "    <tr>\n",
       "      <th>914803</th>\n",
       "      <td>0.000000e+00</td>\n",
       "    </tr>\n",
       "    <tr>\n",
       "      <th>914804</th>\n",
       "      <td>0.000000e+00</td>\n",
       "    </tr>\n",
       "    <tr>\n",
       "      <th>914805</th>\n",
       "      <td>0.000000e+00</td>\n",
       "    </tr>\n",
       "    <tr>\n",
       "      <th>914806</th>\n",
       "      <td>0.000000e+00</td>\n",
       "    </tr>\n",
       "    <tr>\n",
       "      <th>914807</th>\n",
       "      <td>0.000000e+00</td>\n",
       "    </tr>\n",
       "    <tr>\n",
       "      <th>914808</th>\n",
       "      <td>0.000000e+00</td>\n",
       "    </tr>\n",
       "    <tr>\n",
       "      <th>914809</th>\n",
       "      <td>0.000000e+00</td>\n",
       "    </tr>\n",
       "    <tr>\n",
       "      <th>914900</th>\n",
       "      <td>0.000000e+00</td>\n",
       "    </tr>\n",
       "  </tbody>\n",
       "</table>\n",
       "<p>16396 rows × 1 columns</p>\n",
       "</div>"
      ],
      "text/plain": [
       "         upstream_sum_volumem3_TotWW_year_Y2014\n",
       "PFAF_ID                                        \n",
       "111011                             0.000000e+00\n",
       "111012                             0.000000e+00\n",
       "111013                             0.000000e+00\n",
       "111014                             0.000000e+00\n",
       "111015                             0.000000e+00\n",
       "111016                             0.000000e+00\n",
       "111017                             0.000000e+00\n",
       "111018                             0.000000e+00\n",
       "111019                             0.000000e+00\n",
       "111020                             0.000000e+00\n",
       "111030                             0.000000e+00\n",
       "111041                             1.146655e+06\n",
       "111042                             0.000000e+00\n",
       "111043                             9.152363e+05\n",
       "111044                             0.000000e+00\n",
       "111045                             4.019127e+05\n",
       "111046                             0.000000e+00\n",
       "111047                             3.183010e+05\n",
       "111048                             0.000000e+00\n",
       "111049                             0.000000e+00\n",
       "111050                             0.000000e+00\n",
       "111060                             0.000000e+00\n",
       "111070                             0.000000e+00\n",
       "111081                             9.465548e+07\n",
       "111082                             0.000000e+00\n",
       "111083                             9.023437e+07\n",
       "111084                             0.000000e+00\n",
       "111085                             2.445186e+07\n",
       "111086                             0.000000e+00\n",
       "111087                             8.796754e+06\n",
       "...                                         ...\n",
       "914501                             0.000000e+00\n",
       "914502                             0.000000e+00\n",
       "914503                             0.000000e+00\n",
       "914504                             0.000000e+00\n",
       "914505                             0.000000e+00\n",
       "914506                             0.000000e+00\n",
       "914507                             0.000000e+00\n",
       "914508                             0.000000e+00\n",
       "914509                             0.000000e+00\n",
       "914600                             0.000000e+00\n",
       "914700                             0.000000e+00\n",
       "914701                             0.000000e+00\n",
       "914702                             0.000000e+00\n",
       "914703                             0.000000e+00\n",
       "914704                             0.000000e+00\n",
       "914705                             0.000000e+00\n",
       "914706                             0.000000e+00\n",
       "914707                             0.000000e+00\n",
       "914708                             0.000000e+00\n",
       "914709                             0.000000e+00\n",
       "914801                             0.000000e+00\n",
       "914802                             0.000000e+00\n",
       "914803                             0.000000e+00\n",
       "914804                             0.000000e+00\n",
       "914805                             0.000000e+00\n",
       "914806                             0.000000e+00\n",
       "914807                             0.000000e+00\n",
       "914808                             0.000000e+00\n",
       "914809                             0.000000e+00\n",
       "914900                             0.000000e+00\n",
       "\n",
       "[16396 rows x 1 columns]"
      ]
     },
     "execution_count": 33,
     "metadata": {},
     "output_type": "execute_result"
    }
   ],
   "source": [
    "dfDemand"
   ]
  },
  {
   "cell_type": "code",
   "execution_count": 11,
   "metadata": {},
   "outputs": [
    {
     "ename": "SyntaxError",
     "evalue": "invalid syntax (<ipython-input-11-a989dc15a087>, line 14)",
     "output_type": "error",
     "traceback": [
      "\u001b[0;36m  File \u001b[0;32m\"<ipython-input-11-a989dc15a087>\"\u001b[0;36m, line \u001b[0;32m14\u001b[0m\n\u001b[0;31m    indicatorName =\u001b[0m\n\u001b[0m                    ^\u001b[0m\n\u001b[0;31mSyntaxError\u001b[0m\u001b[0;31m:\u001b[0m invalid syntax\n"
     ]
    }
   ],
   "source": [
    "for temporalResolution in temporalResolutions:\n",
    "    if temporalResolution == \"year\":\n",
    "        months = [12]\n",
    "    elif temporalResolution == \"month\":\n",
    "        months = range(1,13)\n",
    "\n",
    "    for year in years:    \n",
    "        for month in months:\n",
    "            for useType in useTypes:\n",
    "                # Total temporary parameter\n",
    "                totalTemp = 0\n",
    "                for demandType in demandTypes:\n",
    "                    print(demandType,useType,temporalResolution,year,month)\n",
    "\n",
    "    "
   ]
  },
  {
   "cell_type": "code",
   "execution_count": null,
   "metadata": {
    "collapsed": true
   },
   "outputs": [],
   "source": []
  }
 ],
 "metadata": {
  "kernelspec": {
   "display_name": "Python 35",
   "language": "python",
   "name": "python35"
  },
  "language_info": {
   "codemirror_mode": {
    "name": "ipython",
    "version": 3
   },
   "file_extension": ".py",
   "mimetype": "text/x-python",
   "name": "python",
   "nbconvert_exporter": "python",
   "pygments_lexer": "ipython3",
   "version": "3.5.4"
  }
 },
 "nbformat": 4,
 "nbformat_minor": 2
}
