{
 "cells": [
  {
   "cell_type": "markdown",
   "metadata": {},
   "source": [
    "# Copy data from S3 raw to S3 process\n",
    "\n",
    "* Purpose of script: Copy files from raw data folder to process data folder, all within S3. \n",
    "* Author: Rutger Hofste\n",
    "* Kernel used: python36\n",
    "* Date created: 20170731"
   ]
  },
  {
   "cell_type": "markdown",
   "metadata": {},
   "source": [
    "Copying all netCDF4 files from the raw data folder to process data folder. Before you run this script, please make sure the data is not already in the s3://wri-projects/Aqueduct30/processData/01PCRGlobWBV01 folder"
   ]
  },
  {
   "cell_type": "markdown",
   "metadata": {},
   "source": [
    "## Water Demand (18GB)"
   ]
  },
  {
   "cell_type": "code",
   "execution_count": 1,
   "metadata": {},
   "outputs": [
    {
     "name": "stdout",
     "output_type": "stream",
     "text": [
      "copy: s3://wri-projects/Aqueduct30/rawData/Utrecht/yoshi20161219/waterdemand/global_historical_PDomWW_year_millionm3_5min_1960_2014.nc4 to s3://wri-projects/Aqueduct30/processData/Y2017M07D31_RH_copy_S3raw_s3process_V01/output/global_historical_PDomWW_year_millionm3_5min_1960_2014.nc4\n",
      "copy: s3://wri-projects/Aqueduct30/rawData/Utrecht/yoshi20161219/waterdemand/global_historical_PIndUse_year_millionm3_5min_1960_2014.nc4 to s3://wri-projects/Aqueduct30/processData/Y2017M07D31_RH_copy_S3raw_s3process_V01/output/global_historical_PIndUse_year_millionm3_5min_1960_2014.nc4\n",
      "copy: s3://wri-projects/Aqueduct30/rawData/Utrecht/yoshi20161219/waterdemand/global_historical_PDomUse_year_millionm3_5min_1960_2014.nc4 to s3://wri-projects/Aqueduct30/processData/Y2017M07D31_RH_copy_S3raw_s3process_V01/output/global_historical_PDomUse_year_millionm3_5min_1960_2014.nc4\n",
      "copy: s3://wri-projects/Aqueduct30/rawData/Utrecht/yoshi20161219/waterdemand/global_historical_PIndWW_year_millionm3_5min_1960_2014.nc4 to s3://wri-projects/Aqueduct30/processData/Y2017M07D31_RH_copy_S3raw_s3process_V01/output/global_historical_PIndWW_year_millionm3_5min_1960_2014.nc4\n",
      "copy: s3://wri-projects/Aqueduct30/rawData/Utrecht/yoshi20161219/waterdemand/global_historical_PIrrWN_month_millionm3_5min_1960_2014.nc4 to s3://wri-projects/Aqueduct30/processData/Y2017M07D31_RH_copy_S3raw_s3process_V01/output/global_historical_PIrrWN_month_millionm3_5min_1960_2014.nc4\n",
      "copy: s3://wri-projects/Aqueduct30/rawData/Utrecht/yoshi20161219/waterdemand/global_historical_PIrrWN_year_millionm3_5min_1960_2014.nc4 to s3://wri-projects/Aqueduct30/processData/Y2017M07D31_RH_copy_S3raw_s3process_V01/output/global_historical_PIrrWN_year_millionm3_5min_1960_2014.nc4\n",
      "copy: s3://wri-projects/Aqueduct30/rawData/Utrecht/yoshi20161219/waterdemand/global_historical_PIndUse_month_millionm3_5min_1960_2014.nc4 to s3://wri-projects/Aqueduct30/processData/Y2017M07D31_RH_copy_S3raw_s3process_V01/output/global_historical_PIndUse_month_millionm3_5min_1960_2014.nc4\n",
      "copy: s3://wri-projects/Aqueduct30/rawData/Utrecht/yoshi20161219/waterdemand/global_historical_PIrrWW_year_millionm3_5min_1960_2014.nc4 to s3://wri-projects/Aqueduct30/processData/Y2017M07D31_RH_copy_S3raw_s3process_V01/output/global_historical_PIrrWW_year_millionm3_5min_1960_2014.nc4\n",
      "copy: s3://wri-projects/Aqueduct30/rawData/Utrecht/yoshi20161219/waterdemand/global_historical_PIndWW_month_millionm3_5min_1960_2014.nc4 to s3://wri-projects/Aqueduct30/processData/Y2017M07D31_RH_copy_S3raw_s3process_V01/output/global_historical_PIndWW_month_millionm3_5min_1960_2014.nc4\n",
      "copy: s3://wri-projects/Aqueduct30/rawData/Utrecht/yoshi20161219/waterdemand/global_historical_PLivWN_year_millionm3_5min_1960_2014.nc4 to s3://wri-projects/Aqueduct30/processData/Y2017M07D31_RH_copy_S3raw_s3process_V01/output/global_historical_PLivWN_year_millionm3_5min_1960_2014.nc4\n",
      "copy: s3://wri-projects/Aqueduct30/rawData/Utrecht/yoshi20161219/waterdemand/global_historical_PIrrWW_month_millionm3_5min_1960_2014.nc4 to s3://wri-projects/Aqueduct30/processData/Y2017M07D31_RH_copy_S3raw_s3process_V01/output/global_historical_PIrrWW_month_millionm3_5min_1960_2014.nc4\n",
      "copy: s3://wri-projects/Aqueduct30/rawData/Utrecht/yoshi20161219/waterdemand/global_historical_PDomWW_month_millionm3_5min_1960_2014.nc4 to s3://wri-projects/Aqueduct30/processData/Y2017M07D31_RH_copy_S3raw_s3process_V01/output/global_historical_PDomWW_month_millionm3_5min_1960_2014.nc4\n",
      "copy: s3://wri-projects/Aqueduct30/rawData/Utrecht/yoshi20161219/waterdemand/global_historical_PDomUse_month_millionm3_5min_1960_2014.nc4 to s3://wri-projects/Aqueduct30/processData/Y2017M07D31_RH_copy_S3raw_s3process_V01/output/global_historical_PDomUse_month_millionm3_5min_1960_2014.nc4\n",
      "copy: s3://wri-projects/Aqueduct30/rawData/Utrecht/yoshi20161219/waterdemand/global_historical_PLivWN_month_millionm3_5min_1960_2014.nc4 to s3://wri-projects/Aqueduct30/processData/Y2017M07D31_RH_copy_S3raw_s3process_V01/output/global_historical_PLivWN_month_millionm3_5min_1960_2014.nc4\n"
     ]
    }
   ],
   "source": [
    "!aws s3 cp \\\n",
    "s3://wri-projects/Aqueduct30/rawData/Utrecht/yoshi20161219/waterdemand \\\n",
    "s3://wri-projects/Aqueduct30/processData/Y2017M07D31_RH_copy_S3raw_s3process_V01/output --recursive"
   ]
  },
  {
   "cell_type": "markdown",
   "metadata": {},
   "source": [
    "## River Discharge (5GB)"
   ]
  },
  {
   "cell_type": "code",
   "execution_count": 2,
   "metadata": {},
   "outputs": [
    {
     "name": "stdout",
     "output_type": "stream",
     "text": [
      "copy: s3://wri-projects/Aqueduct30/rawData/Utrecht/yoshi20161219/wateravailability/global_historical_riverdischarge_year_m3second_5min_1960_2014.nc4 to s3://wri-projects/Aqueduct30/processData/Y2017M07D31_RH_copy_S3raw_s3process_V01/output/global_historical_riverdischarge_year_m3second_5min_1960_2014.nc4\n",
      "copy: s3://wri-projects/Aqueduct30/rawData/Utrecht/yoshi20161219/wateravailability/global_historical_riverdischarge_month_m3second_5min_1960_2014.nc4 to s3://wri-projects/Aqueduct30/processData/Y2017M07D31_RH_copy_S3raw_s3process_V01/output/global_historical_riverdischarge_month_m3second_5min_1960_2014.nc4\n"
     ]
    }
   ],
   "source": [
    "!aws s3 cp \\\n",
    "s3://wri-projects/Aqueduct30/rawData/Utrecht/yoshi20161219/wateravailability \\\n",
    "s3://wri-projects/Aqueduct30/processData/Y2017M07D31_RH_copy_S3raw_s3process_V01/output --recursive"
   ]
  },
  {
   "cell_type": "markdown",
   "metadata": {},
   "source": [
    "Some files were later obtained from Rens van Beek to complete the analysis, that is why the files are from different sources "
   ]
  },
  {
   "cell_type": "markdown",
   "metadata": {},
   "source": [
    "## Water Stress (5GB)"
   ]
  },
  {
   "cell_type": "code",
   "execution_count": 3,
   "metadata": {},
   "outputs": [
    {
     "name": "stdout",
     "output_type": "stream",
     "text": [
      "copy: s3://wri-projects/Aqueduct30/rawData/Utrecht/yoshi20161219/waterstress/global_historical_aqbasinwaterstress_year_dimensionless_5min_1960_2014.nc4 to s3://wri-projects/Aqueduct30/processData/Y2017M07D31_RH_copy_S3raw_s3process_V01/output/global_historical_aqbasinwaterstress_year_dimensionless_5min_1960_2014.nc4\n",
      "copy: s3://wri-projects/Aqueduct30/rawData/Utrecht/yoshi20161219/waterstress/global_historical_griddedwaterstress_year_dimensionless_5min_1960_2014.nc4 to s3://wri-projects/Aqueduct30/processData/Y2017M07D31_RH_copy_S3raw_s3process_V01/output/global_historical_griddedwaterstress_year_dimensionless_5min_1960_2014.nc4\n",
      "copy: s3://wri-projects/Aqueduct30/rawData/Utrecht/yoshi20161219/waterstress/global_historical_aqbasinwaterstress_month_dimensionless_5min_1960_2014.nc4 to s3://wri-projects/Aqueduct30/processData/Y2017M07D31_RH_copy_S3raw_s3process_V01/output/global_historical_aqbasinwaterstress_month_dimensionless_5min_1960_2014.nc4\n",
      "copy: s3://wri-projects/Aqueduct30/rawData/Utrecht/yoshi20161219/waterstress/global_historical_griddedwaterstress_month_dimensionless_5min_1960_2014.nc4 to s3://wri-projects/Aqueduct30/processData/Y2017M07D31_RH_copy_S3raw_s3process_V01/output/global_historical_griddedwaterstress_month_dimensionless_5min_1960_2014.nc4\n"
     ]
    }
   ],
   "source": [
    "!aws s3 cp \\\n",
    "s3://wri-projects/Aqueduct30/rawData/Utrecht/yoshi20161219/waterstress \\\n",
    "s3://wri-projects/Aqueduct30/processData/Y2017M07D31_RH_copy_S3raw_s3process_V01/output --recursive"
   ]
  },
  {
   "cell_type": "markdown",
   "metadata": {},
   "source": [
    "## Local Runoff (6GB)"
   ]
  },
  {
   "cell_type": "code",
   "execution_count": 4,
   "metadata": {},
   "outputs": [
    {
     "name": "stdout",
     "output_type": "stream",
     "text": [
      "copy: s3://wri-projects/Aqueduct30/rawData/Utrecht/additionalFiles/wateravailability/readmeRunoff.txt to s3://wri-projects/Aqueduct30/processData/Y2017M07D31_RH_copy_S3raw_s3process_V01/output/readmeRunoff.txt\n",
      "copy: s3://wri-projects/Aqueduct30/rawData/Utrecht/additionalFiles/wateravailability/totalRunoff_annuaTot_output.nc to s3://wri-projects/Aqueduct30/processData/Y2017M07D31_RH_copy_S3raw_s3process_V01/output/totalRunoff_annuaTot_output.nc\n",
      "copy: s3://wri-projects/Aqueduct30/rawData/Utrecht/additionalFiles/wateravailability/totalRunoff_monthTot_output.zip to s3://wri-projects/Aqueduct30/processData/Y2017M07D31_RH_copy_S3raw_s3process_V01/output/totalRunoff_monthTot_output.zip\n"
     ]
    }
   ],
   "source": [
    "!aws s3 cp \\\n",
    "s3://wri-projects/Aqueduct30/rawData/Utrecht/additionalFiles/wateravailability \\\n",
    "s3://wri-projects/Aqueduct30/processData/Y2017M07D31_RH_copy_S3raw_s3process_V01/output --recursive"
   ]
  },
  {
   "cell_type": "markdown",
   "metadata": {},
   "source": [
    "## Soil Moisture (4GB)"
   ]
  },
  {
   "cell_type": "code",
   "execution_count": 5,
   "metadata": {},
   "outputs": [
    {
     "name": "stdout",
     "output_type": "stream",
     "text": [
      "copy: s3://wri-projects/Aqueduct30/rawData/Utrecht/additionalFiles/soilmoisture/global_historical_soilmoisture_month_meter_5min_1958-2014.nc4 to s3://wri-projects/Aqueduct30/processData/Y2017M07D31_RH_copy_S3raw_s3process_V01/output/global_historical_soilmoisture_month_meter_5min_1958-2014.nc4\n"
     ]
    }
   ],
   "source": [
    "!aws s3 cp \\\n",
    "s3://wri-projects/Aqueduct30/rawData/Utrecht/additionalFiles/soilmoisture \\\n",
    "s3://wri-projects/Aqueduct30/processData/Y2017M07D31_RH_copy_S3raw_s3process_V01/output --recursive"
   ]
  },
  {
   "cell_type": "markdown",
   "metadata": {
    "collapsed": true
   },
   "source": [
    "## Indicators (0.5GB)"
   ]
  },
  {
   "cell_type": "code",
   "execution_count": 6,
   "metadata": {},
   "outputs": [
    {
     "name": "stdout",
     "output_type": "stream",
     "text": [
      "copy: s3://wri-projects/Aqueduct30/rawData/Utrecht/yoshi20161219/indicators/global_q1seasonalvariabilitywatersupply_5min_1960-2014.asc to s3://wri-projects/Aqueduct30/processData/Y2017M07D31_RH_copy_S3raw_s3process_V01/output/global_q1seasonalvariabilitywatersupply_5min_1960-2014.asc\n",
      "copy: s3://wri-projects/Aqueduct30/rawData/Utrecht/yoshi20161219/indicators/global_q2seasonalvariabilitywatersupply_5min_1960-2014.asc to s3://wri-projects/Aqueduct30/processData/Y2017M07D31_RH_copy_S3raw_s3process_V01/output/global_q2seasonalvariabilitywatersupply_5min_1960-2014.asc\n",
      "copy: s3://wri-projects/Aqueduct30/rawData/Utrecht/yoshi20161219/indicators/global_q3seasonalvariabilitywatersupply_5min_1960-2014.asc to s3://wri-projects/Aqueduct30/processData/Y2017M07D31_RH_copy_S3raw_s3process_V01/output/global_q3seasonalvariabilitywatersupply_5min_1960-2014.asc\n",
      "copy: s3://wri-projects/Aqueduct30/rawData/Utrecht/yoshi20161219/indicators/global_droughtseveritystandardisedsoilmoisture_5min_1960-2014.asc to s3://wri-projects/Aqueduct30/processData/Y2017M07D31_RH_copy_S3raw_s3process_V01/output/global_droughtseveritystandardisedsoilmoisture_5min_1960-2014.asc\n",
      "copy: s3://wri-projects/Aqueduct30/rawData/Utrecht/yoshi20161219/indicators/global_droughtseveritystandardisedstreamflow_5min_1960-2014.asc to s3://wri-projects/Aqueduct30/processData/Y2017M07D31_RH_copy_S3raw_s3process_V01/output/global_droughtseveritystandardisedstreamflow_5min_1960-2014.asc\n",
      "copy: s3://wri-projects/Aqueduct30/rawData/Utrecht/yoshi20161219/indicators/global_environmentalflows_5min_1960-2014.asc to s3://wri-projects/Aqueduct30/processData/Y2017M07D31_RH_copy_S3raw_s3process_V01/output/global_environmentalflows_5min_1960-2014.asc\n",
      "copy: s3://wri-projects/Aqueduct30/rawData/Utrecht/yoshi20161219/indicators/global_interannualvariabilitywatersupply_5min_1960-2014.asc to s3://wri-projects/Aqueduct30/processData/Y2017M07D31_RH_copy_S3raw_s3process_V01/output/global_interannualvariabilitywatersupply_5min_1960-2014.asc\n",
      "copy: s3://wri-projects/Aqueduct30/rawData/Utrecht/yoshi20161219/indicators/global_q4seasonalvariabilitywatersupply_5min_1960-2014.asc to s3://wri-projects/Aqueduct30/processData/Y2017M07D31_RH_copy_S3raw_s3process_V01/output/global_q4seasonalvariabilitywatersupply_5min_1960-2014.asc\n"
     ]
    }
   ],
   "source": [
    "!aws s3 cp \\\n",
    "s3://wri-projects/Aqueduct30/rawData/Utrecht/yoshi20161219/indicators \\\n",
    "s3://wri-projects/Aqueduct30/processData/Y2017M07D31_RH_copy_S3raw_s3process_V01/output --recursive"
   ]
  },
  {
   "cell_type": "code",
   "execution_count": null,
   "metadata": {
    "collapsed": true
   },
   "outputs": [],
   "source": []
  }
 ],
 "metadata": {
  "kernelspec": {
   "display_name": "Python 36",
   "language": "python",
   "name": "python36"
  },
  "language_info": {
   "codemirror_mode": {
    "name": "ipython",
    "version": 3
   },
   "file_extension": ".py",
   "mimetype": "text/x-python",
   "name": "python",
   "nbconvert_exporter": "python",
   "pygments_lexer": "ipython3",
   "version": "3.6.2"
  }
 },
 "nbformat": 4,
 "nbformat_minor": 2
}
