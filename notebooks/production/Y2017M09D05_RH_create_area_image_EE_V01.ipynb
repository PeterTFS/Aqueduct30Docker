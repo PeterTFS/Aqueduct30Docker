{
 "cells": [
  {
   "cell_type": "markdown",
   "metadata": {},
   "source": [
    "### Create Area Image EE\n",
    "\n",
    "* Purpose of script: This notebooks create an area image (30s) in m2 to go from flux to volume and vice versa\n",
    "* Author: Rutger Hofste\n",
    "* Kernel used: python27\n",
    "* Date created: 20170905"
   ]
  },
  {
   "cell_type": "code",
   "execution_count": 1,
   "metadata": {
    "collapsed": true
   },
   "outputs": [],
   "source": [
    "import ee\n",
    "import numpy as np"
   ]
  },
  {
   "cell_type": "code",
   "execution_count": 2,
   "metadata": {
    "collapsed": true
   },
   "outputs": [],
   "source": [
    "XSIZE5MIN = 4320\n",
    "YSIZE5MIN = XSIZE5MIN/2\n",
    "EE_PATH = \"projects/WRI-Aquaduct/PCRGlobWB20V07/\""
   ]
  },
  {
   "cell_type": "code",
   "execution_count": 3,
   "metadata": {
    "collapsed": true
   },
   "outputs": [],
   "source": [
    "ee.Initialize()"
   ]
  },
  {
   "cell_type": "code",
   "execution_count": 4,
   "metadata": {},
   "outputs": [],
   "source": [
    "geometry = ee.Geometry.Polygon(coords=[[-180.0, -90.0], [180,  -90.0], [180, 89], [180,90]], proj= ee.Projection('EPSG:4326'),geodesic=False )"
   ]
  },
  {
   "cell_type": "code",
   "execution_count": 5,
   "metadata": {},
   "outputs": [],
   "source": [
    "cellsize_05min_m2 = ee.Image(\"projects/WRI-Aquaduct/PCRGlobWB20V05/cellsize_05min_m2\")"
   ]
  },
  {
   "cell_type": "code",
   "execution_count": 6,
   "metadata": {
    "collapsed": true
   },
   "outputs": [],
   "source": [
    "onesRaster = ee.Image.constant(1)\n",
    "areaRaster = ee.Image.pixelArea()"
   ]
  },
  {
   "cell_type": "code",
   "execution_count": 7,
   "metadata": {},
   "outputs": [],
   "source": [
    "def exportToAsset(image,eePath, eeIName, scale, geometry,properties):\n",
    "    image = image.set(properties)    \n",
    "    assetId = eePath + eeIName\n",
    "    task = ee.batch.Export.image.toAsset(\n",
    "        image =  ee.Image(image),\n",
    "        description = eeIName ,\n",
    "        assetId = assetId,\n",
    "        scale = scale,\n",
    "        region = geometry.bounds().getInfo()['coordinates'][0],\n",
    "        maxPixels = 1e10\n",
    "        )\n",
    "    task.start()"
   ]
  },
  {
   "cell_type": "code",
   "execution_count": 8,
   "metadata": {
    "collapsed": true
   },
   "outputs": [],
   "source": [
    "properties5min = {\"spatial_resolution\":\"5min\",\n",
    "                 \"ingested_by\":\"RutgerHofste\" ,\n",
    "                  \"exportdescription\": \"ones_5min\" ,\n",
    "                  \"units\": \"dimensionless\"              \n",
    "                 }"
   ]
  },
  {
   "cell_type": "code",
   "execution_count": 9,
   "metadata": {},
   "outputs": [],
   "source": [
    "exportToAsset(onesRaster,EE_PATH, \"ones_5min\", ee.Image(cellsize_05min_m2).projection().nominalScale().getInfo(), geometry,properties5min)"
   ]
  },
  {
   "cell_type": "code",
   "execution_count": 10,
   "metadata": {
    "collapsed": true
   },
   "outputs": [],
   "source": [
    "properties30s = {\"spatial_resolution\":\"30s\",\n",
    "                 \"ingested_by\":\"RutgerHofste\" ,\n",
    "                  \"exportdescription\": \"ones_30s\" ,\n",
    "                  \"units\": \"dimensionless\"              \n",
    "                 }"
   ]
  },
  {
   "cell_type": "code",
   "execution_count": 11,
   "metadata": {
    "collapsed": true
   },
   "outputs": [],
   "source": [
    "exportToAsset(onesRaster,EE_PATH, \"ones_30s\", ee.Image(cellsize_05min_m2).projection().nominalScale().getInfo()/10, geometry,properties30s)"
   ]
  },
  {
   "cell_type": "code",
   "execution_count": 12,
   "metadata": {
    "collapsed": true
   },
   "outputs": [],
   "source": [
    "properties5minArea = {\"spatial_resolution\":\"5min\",\n",
    "                 \"ingested_by\":\"RutgerHofste\" ,\n",
    "                  \"exportdescription\": \"area_5min_m2\" ,\n",
    "                  \"units\": \"m2\"              \n",
    "                 }"
   ]
  },
  {
   "cell_type": "code",
   "execution_count": null,
   "metadata": {
    "collapsed": true
   },
   "outputs": [],
   "source": [
    "exportToAsset(areaRaster,EE_PATH, \"area_5min_m2\", ee.Image(cellsize_05min_m2).projection().nominalScale().getInfo(), geometry,properties5minArea)"
   ]
  },
  {
   "cell_type": "code",
   "execution_count": null,
   "metadata": {
    "collapsed": true
   },
   "outputs": [],
   "source": []
  }
 ],
 "metadata": {
  "kernelspec": {
   "display_name": "Python 27",
   "language": "python",
   "name": "python27"
  },
  "language_info": {
   "codemirror_mode": {
    "name": "ipython",
    "version": 2
   },
   "file_extension": ".py",
   "mimetype": "text/x-python",
   "name": "python",
   "nbconvert_exporter": "python",
   "pygments_lexer": "ipython2",
   "version": "2.7.13"
  }
 },
 "nbformat": 4,
 "nbformat_minor": 2
}
