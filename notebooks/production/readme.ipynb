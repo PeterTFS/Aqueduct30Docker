{
 "cells": [
  {
   "cell_type": "markdown",
   "metadata": {},
   "source": [
    "# Steps for Aqueduct 30\n",
    "\n",
    "This document will keep track of what scripts to run to get to the resulst\n",
    "\n",
    "\n",
    "1.  **Y2017M07D31_RH_download_PCRGlobWB_data_V01.ipynb**  \n",
    "    Download the data to your machine\n",
    "1.  **Y2017M07D31_RH_Check_Metadata_V01.ipynb**  \n",
    "    Check PCRGlobWB metadata\n",
    "\n"
   ]
  },
  {
   "cell_type": "code",
   "execution_count": null,
   "metadata": {
    "collapsed": true
   },
   "outputs": [],
   "source": []
  }
 ],
 "metadata": {
  "kernelspec": {
   "display_name": "Python 36",
   "language": "python",
   "name": "python36"
  },
  "language_info": {
   "codemirror_mode": {
    "name": "ipython",
    "version": 3
   },
   "file_extension": ".py",
   "mimetype": "text/x-python",
   "name": "python",
   "nbconvert_exporter": "python",
   "pygments_lexer": "ipython3",
   "version": "3.6.2"
  }
 },
 "nbformat": 4,
 "nbformat_minor": 2
}
