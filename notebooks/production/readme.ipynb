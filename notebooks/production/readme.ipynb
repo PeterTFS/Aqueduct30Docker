{
 "cells": [
  {
   "cell_type": "markdown",
   "metadata": {},
   "source": [
    "# Steps for Aqueduct 30\n",
    "\n",
    "This document will keep track of what scripts to run to get to the resulst\n",
    "\n",
    "\n",
    "### Main Branch\n",
    "\n",
    "1.  **Y2017M07D31_RH_copy_S3raw_s3process_V01.ipynb**  \n",
    "    Copy files from raw data folder to process data folder, all within S3. \n",
    "1.  **Y2017M07D31_RH_download_PCRGlobWB_data_V01.ipynb**  \n",
    "    Download the data to your machine, unzip files\n",
    "1.  **Y2017M07D31_RH_Convert_NetCDF_Geotiff_V01**  \n",
    "    convert netCDF4 to Geotiff\n",
    "1.  **Y2017M08D02_RH_Upload_to_GoogleCS_V01**  \n",
    "    upload files to Google Cloud Storage. \n",
    "1. **Y2017M08D02_RH_Ingest_GCS_EE_V01**  \n",
    "    ingest data from Google Cloud Storage to EarthEngine, adding metadata\n",
    "1. **Y2017M08D08_RH_Convert_Indicators_ASC_Geotiff_V01**  \n",
    "    A couple of indicators are shared in ASCII format. Converting to geotiff\n",
    "1. **Y2017M08D02_RH_Merge_HydroBasins_V01**  \n",
    "    copy hydrobasin files from S3 and merge in pyhton using Fiona\n",
    "1. **Y2017M08D02_RH_Ingest_Additional_Rasters_EE_V01**  \n",
    "    This script ingests some auxiliary datafile onto earth engine included DEM, StreamFlow Network etc. \n",
    "\n",
    "### Groundwater Branch\n",
    "\n",
    "### Flood Risk Branch\n",
    "\n",
    "### Country Shapefile Branch\n",
    "\n",
    "### Other Indicators Branch\n",
    "    \n",
    "    \n"
   ]
  },
  {
   "cell_type": "code",
   "execution_count": null,
   "metadata": {
    "collapsed": true
   },
   "outputs": [],
   "source": []
  }
 ],
 "metadata": {
  "kernelspec": {
   "display_name": "Python 36",
   "language": "python",
   "name": "python36"
  },
  "language_info": {
   "codemirror_mode": {
    "name": "ipython",
    "version": 3
   },
   "file_extension": ".py",
   "mimetype": "text/x-python",
   "name": "python",
   "nbconvert_exporter": "python",
   "pygments_lexer": "ipython3",
   "version": "3.6.2"
  }
 },
 "nbformat": 4,
 "nbformat_minor": 2
}
