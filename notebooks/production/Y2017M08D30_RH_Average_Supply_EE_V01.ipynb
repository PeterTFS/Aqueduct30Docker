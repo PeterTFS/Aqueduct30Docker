{
 "cells": [
  {
   "cell_type": "markdown",
   "metadata": {},
   "source": [
    "# Calculate average PCRGlobWB supply using EE\n",
    "\n",
    "* Purpose of script: This script will calculate baseline supply based on runoff for 1960-2014 at 5min resolution\n",
    "* Author: Rutger Hofste\n",
    "* Kernel used: python27\n",
    "* Date created: 20170830"
   ]
  },
  {
   "cell_type": "code",
   "execution_count": 15,
   "metadata": {
    "collapsed": true
   },
   "outputs": [],
   "source": [
    "import os\n",
    "import ee\n",
    "import folium\n",
    "from folium_gee import *\n",
    "import subprocess"
   ]
  },
  {
   "cell_type": "code",
   "execution_count": 16,
   "metadata": {
    "collapsed": true
   },
   "outputs": [],
   "source": [
    "ee.Initialize()"
   ]
  },
  {
   "cell_type": "code",
   "execution_count": 17,
   "metadata": {},
   "outputs": [],
   "source": [
    "EE_INPUT_PATH = \"projects/WRI-Aquaduct/PCRGlobWB20V07/\"\n",
    "\n",
    "# Unfortunately specifying the dimensions caused the script to crash (internal error on Google's side) Specify scale instead.\n",
    "\n",
    "DIMENSION5MIN = {}\n",
    "DIMENSION5MIN[\"x\"] = 4320\n",
    "DIMENSION5MIN[\"y\"] = 2160\n",
    "\n",
    "INPUT_FILE_NAME_ANNUAL = \"global_historical_runoff_year_myear_5min_1958_2014\"\n",
    "INPUT_FILE_NAME_MONTH = \"global_historical_runoff_month_mmonth_5min_1958_2014\"\n",
    "\n",
    "EE_IC_NAME_ANNUAL =  \"global_historical_reducedmeanrunoff_year_myear_5min_1960_2014\"\n",
    "EE_IC_NAME_MONTH =   \"global_historical_reducedmeanrunoff_month_mmonth_5min_1960_2014\"\n",
    "\n",
    "EE_I_NAME_ANNUAL = EE_IC_NAME_ANNUAL\n",
    "EE_I_NAME_MONTH = EE_IC_NAME_MONTH\n",
    "\n",
    "YEAR_MIN = 1960\n",
    "YEAR_MAX = 2014\n",
    "\n",
    "ANNUAL_UNITS = \"m/year\"\n",
    "MONTHLY_UNITS = \"m/month\"\n",
    "\n",
    "ANNUAL_EXPORTDESCRIPTION = \"reducedmeanrunoff_year\" #final format reducedmeanrunoff_yearY1960Y2014\n",
    "MONTHLY_EXPORTDESCRIPTION = \"reducedmeanrunoff_month\" #final format reducedmeanrunoff_monthY1960Y2014M01\n",
    "VERSION = 10\n",
    "\n",
    "MAXPIXELS =1e10"
   ]
  },
  {
   "cell_type": "markdown",
   "metadata": {},
   "source": [
    "The Standardized format to store assets on Earth Engine is EE_INPUT_PATH / EE_IC_NAME / EE_I_NAME and every image should have the property expertdescription that would allow to export the data to a table header. "
   ]
  },
  {
   "cell_type": "code",
   "execution_count": 18,
   "metadata": {},
   "outputs": [],
   "source": [
    "dimensions = \"%sx%s\" %(DIMENSION5MIN[\"x\"],DIMENSION5MIN[\"y\"])"
   ]
  },
  {
   "cell_type": "code",
   "execution_count": 14,
   "metadata": {},
   "outputs": [],
   "source": [
    "projection = ee.Image(ee.ImageCollection(os.path.join(EE_INPUT_PATH,INPUT_FILE_NAME_ANNUAL)).first()).projection().getInfo()"
   ]
  },
  {
   "cell_type": "code",
   "execution_count": 6,
   "metadata": {},
   "outputs": [
    {
     "name": "stdout",
     "output_type": "stream",
     "text": [
      "{u'crs': u'EPSG:4326', u'type': u'Projection', u'transform': [0.0833333309780367, 0.0, -179.99999491255934, 0.0, -0.0833333309780367, 90.00000254430942]}\n"
     ]
    }
   ],
   "source": [
    "print(projection)"
   ]
  },
  {
   "cell_type": "code",
   "execution_count": 22,
   "metadata": {},
   "outputs": [],
   "source": [
    "def boundingBoxFromProj(projection,dimensions):\n",
    "    boundingBox = []\n",
    "    coords = {}\n",
    "    coords[\"xmin\"]=projection[\"transform\"][2]\n",
    "    coords[\"xmax\"]=projection[\"transform\"][2]+dimensions[\"x\"]*projection[\"transform\"][0]\n",
    "    coords[\"ymin\"]=projection[\"transform\"][5]+dimensions[\"y\"]*projection[\"transform\"][4]\n",
    "    coords[\"ymax\"]=projection[\"transform\"][5]\n",
    "    geometry = ee.Geometry.Polygon(coords=[[coords[\"xmin\"], coords[\"ymin\"]], \n",
    "                                           [coords[\"xmax\"], coords[\"ymin\"]],\n",
    "                                           [coords[\"xmax\"], coords[\"ymax\"]],\n",
    "                                           [coords[\"xmin\"], coords[\"ymax\"]]],\n",
    "                                            proj= ee.Projection('EPSG:4326'),geodesic=False )\n",
    "    return geometry\n",
    "\n",
    "def reduceMean(ic,yearMin,yearMax):\n",
    "    dateFilterMin = ee.Filter.gte(\"year\",yearMin)\n",
    "    dateFilterMax = ee.Filter.lte(\"year\",yearMax)\n",
    "    filteredIc = ee.ImageCollection(ic.filter(dateFilterMin).filter(dateFilterMax))\n",
    "    reducedImage = ee.Image(filteredIc.reduce(ee.Reducer.mean()))\n",
    "    return reducedImage\n",
    "\n",
    "def exportToAsset(image,description,assetId,dimensions,region,maxPixels):\n",
    "    task = ee.batch.Export.image.toAsset(\n",
    "        image =  ee.Image(image),\n",
    "        description = description,\n",
    "        assetId = assetId,\n",
    "        dimensions = dimensions,\n",
    "        #scale = scale,\n",
    "        region = geometry.bounds().getInfo()['coordinates'][0],\n",
    "        maxPixels = maxPixels\n",
    "    )\n",
    "    print(assetId)\n",
    "    task.start()\n",
    "    return 1\n",
    "\n",
    "def addValidProperties(image,d):\n",
    "    nestedNewDict = {}\n",
    "    #remove non string or real properties\n",
    "    for nestedKey, nestedValue in d.iteritems():\n",
    "        if isinstance(nestedValue,str) or isinstance(nestedValue,int):\n",
    "            newDict[nestedKey] = nestedValue\n",
    "        else:\n",
    "            pass\n",
    "            #print(\"removing property: \",nestedKey )\n",
    "    image = ee.Image(image).set(nestedNewDict)\n",
    "    return image\n",
    "\n",
    "def createImageCollections(d):\n",
    "    command = (\"earthengine create collection %s%s\") %(EE_INPUT_PATH,d[\"ic_name\"])\n",
    "    response = subprocess.check_output(command,shell=True)\n",
    "    print(response)\n",
    "    \n",
    "    "
   ]
  },
  {
   "cell_type": "code",
   "execution_count": 9,
   "metadata": {},
   "outputs": [],
   "source": [
    "geometry = boundingBoxFromProj(projection,DIMENSION5MIN)"
   ]
  },
  {
   "cell_type": "code",
   "execution_count": null,
   "metadata": {
    "collapsed": true
   },
   "outputs": [],
   "source": [
    "d = {}"
   ]
  },
  {
   "cell_type": "code",
   "execution_count": null,
   "metadata": {
    "collapsed": true
   },
   "outputs": [],
   "source": [
    "d[\"annual\"] = {\"ic\": ee.ImageCollection(os.path.join(EE_INPUT_PATH,INPUT_FILE_NAME_ANNUAL)),\n",
    "                        \"ic_name\": EE_IC_NAME_ANNUAL+\"V%0.2d\" %(VERSION) ,\n",
    "                        \"image_name\": EE_IC_NAME_ANNUAL+\"V%0.2d\" %(VERSION),\n",
    "                        \"temporal_resolution\":\"year\",\n",
    "                        \"rangeMin\":YEAR_MIN,\n",
    "                        \"rangeMax\":YEAR_MAX,\n",
    "                        \"units\":ANNUAL_UNITS,\n",
    "                        \"exportdescription\": ANNUAL_EXPORTDESCRIPTION + \"Y%sY%s\" %(YEAR_MIN,YEAR_MAX),\n",
    "                        \"creation\":\"RutgerHofste_20170901_Python27\",\n",
    "                        \"nodata_value\":-9999,\n",
    "                        \"reducer\":\"mean\",\n",
    "                        \"time_start\": \"%04d-%0.2d-%0.2d\" %(YEAR_MAX,12,1),\n",
    "                        \"version\":VERSION\n",
    "                        }"
   ]
  },
  {
   "cell_type": "code",
   "execution_count": null,
   "metadata": {
    "collapsed": true
   },
   "outputs": [],
   "source": [
    "d[\"monthly\"] = {\"ic\": ee.ImageCollection(os.path.join(EE_INPUT_PATH,INPUT_FILE_NAME_MONTH)),\n",
    "                         \"ic_name\": EE_IC_NAME_MONTH +\"V%0.2d\" %(VERSION),\n",
    "                         \"temporal_resolution\":\"month\",\n",
    "                         \"rangeMin\":YEAR_MIN,\n",
    "                         \"rangeMax\":YEAR_MAX,\n",
    "                         \"units\":MONTHLY_UNITS,\n",
    "                         \"creation\":\"RutgerHofste_20170901_Python27\",\n",
    "                         \"nodata_value\":-9999,\n",
    "                         \"reducer\":\"mean\",                         \n",
    "                         \"version\":VERSION,\n",
    "                         # add month , image_name and exportdexription\n",
    "                        }"
   ]
  },
  {
   "cell_type": "code",
   "execution_count": null,
   "metadata": {},
   "outputs": [],
   "source": [
    "for key, value in d.iteritems():\n",
    "    createImageCollections(value)"
   ]
  },
  {
   "cell_type": "code",
   "execution_count": null,
   "metadata": {},
   "outputs": [],
   "source": [
    "newDict = {}\n",
    "for key, value in d.iteritems():\n",
    "    newDict[key] = value\n",
    "    reducedImage = reduceMean(value[\"ic\"],YEAR_MIN,YEAR_MAX)\n",
    "    if value[\"temporal_resolution\"] == \"year\":\n",
    "        reducedImage = reduceMean(value[\"ic\"],value[\"rangeMin\"],newDict[key][\"rangeMax\"])\n",
    "        validImage = addValidProperties(reducedImage,value)\n",
    "        assetId = EE_INPUT_PATH+newDict[key][\"ic_name\"]+\"/\"+newDict[key][\"image_name\"]\n",
    "        exportToAsset(validImage,newDict[key][\"exportdescription\"],assetId,DIMENSION5MIN,geometry,MAXPIXELS)\n",
    "        \n",
    "    if value[\"temporal_resolution\"] == \"month\":\n",
    "        for month in range(1,13):\n",
    "            newDict[key][\"month\"] = month\n",
    "            newDict[key][\"image_name\"] = EE_IC_NAME_MONTH +\"M%0.2dV%0.2d\" %(month,VERSION)\n",
    "            newDict[key][\"exportdescription\"] = ANNUAL_EXPORTDESCRIPTION + \"Y%sY%sM%0.d\" %(YEAR_MIN,YEAR_MAX,month)\n",
    "            \n",
    "            reducedImage = reduceMean(value[\"ic\"],newDict[key][\"rangeMin\"],newDict[key][\"rangeMax\"])\n",
    "            validImage = addValidProperties(reducedImage,value)\n",
    "            assetId = EE_INPUT_PATH+newDict[key][\"ic_name\"]+\"/\"+newDict[key][\"image_name\"]\n",
    "            exportToAsset(validImage,value[\"exportdescription\"],assetId,DIMENSION5MIN,geometry,MAXPIXELS)            \n",
    "        pass\n",
    "        \n",
    "        \n",
    "    \n",
    "    "
   ]
  }
 ],
 "metadata": {
  "kernelspec": {
   "display_name": "Python 27",
   "language": "python",
   "name": "python27"
  },
  "language_info": {
   "codemirror_mode": {
    "name": "ipython",
    "version": 2
   },
   "file_extension": ".py",
   "mimetype": "text/x-python",
   "name": "python",
   "nbconvert_exporter": "python",
   "pygments_lexer": "ipython2",
   "version": "2.7.13"
  }
 },
 "nbformat": 4,
 "nbformat_minor": 2
}
