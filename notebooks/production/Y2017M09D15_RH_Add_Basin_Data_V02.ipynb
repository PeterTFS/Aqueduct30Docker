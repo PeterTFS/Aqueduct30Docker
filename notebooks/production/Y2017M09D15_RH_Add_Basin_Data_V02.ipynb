{
 "cells": [
  {
   "cell_type": "markdown",
   "metadata": {},
   "source": [
    "# Add upstream, downstream and basin information to the dataframe\n",
    "\n",
    "* Purpose of script: add contextual data to the dataframe. The script will sum the volumetric information of all upstream, downstream and basin parameters of the dataframe. The script was revised on 12 October 2017 to restrict negative runoff.\n",
    "* Author: Rutger Hofste\n",
    "* Kernel used: python35\n",
    "* Date created: 20170915"
   ]
  },
  {
   "cell_type": "code",
   "execution_count": 1,
   "metadata": {},
   "outputs": [
    {
     "name": "stdout",
     "output_type": "stream",
     "text": [
      "Y2017M10D12 UTC 15:37\n"
     ]
    },
    {
     "data": {
      "text/plain": [
       "'3.5.4 |Continuum Analytics, Inc.| (default, Aug 14 2017, 13:26:58) \\n[GCC 4.4.7 20120313 (Red Hat 4.4.7-1)]'"
      ]
     },
     "execution_count": 1,
     "metadata": {},
     "output_type": "execute_result"
    }
   ],
   "source": [
    "import time, datetime, sys\n",
    "dateString = time.strftime(\"Y%YM%mD%d\")\n",
    "timeString = time.strftime(\"UTC %H:%M\")\n",
    "start = datetime.datetime.now()\n",
    "print(dateString,timeString)\n",
    "sys.version"
   ]
  },
  {
   "cell_type": "code",
   "execution_count": 2,
   "metadata": {
    "collapsed": true
   },
   "outputs": [],
   "source": [
    "INPUT_VERSION = 18\n",
    "OUTPUT_VERSION = 1\n",
    "\n",
    "SCRIPT_NAME = \"Y2017M09D15_RH_Add_Basin_Data_V02\"\n",
    "\n",
    "S3_INPUT_PATH_EE  = \"s3://wri-projects/Aqueduct30/processData/Y2017M09D14_RH_merge_EE_results_V01/output/\"\n",
    "S3_OUTPUT_PATH = \"s3://wri-projects/Aqueduct30/processData/%s/output/\" %(SCRIPT_NAME)\n",
    "\n",
    "S3_INPUT_PATH_HYDROBASINS = \"s3://wri-projects/Aqueduct30/processData/Y2017M08D29_RH_Merge_FAONames_Upstream_V01/output/\"\n",
    "\n",
    "EC2_INPUT_PATH = \"/volumes/data/%s/input\" %(SCRIPT_NAME)\n",
    "EC2_OUTPUT_PATH = \"/volumes/data/%s/output\" %(SCRIPT_NAME)\n",
    "\n",
    "INPUT_FILENAME_EE =  \"mergedZonalStatsEE_V%0.2d.pkl\" %(INPUT_VERSION)\n",
    "INPUT_FILENAME_HYDROBASINS =  \"hybas_lev06_v1c_merged_fiona_upstream_downstream_FAO_V01.pkl\"\n",
    "\n",
    "OUTPUT_FILENAME = \"Y2017M09D15_RH_Add_Basin_Data_V%0.2d\" %(OUTPUT_VERSION)"
   ]
  },
  {
   "cell_type": "markdown",
   "metadata": {},
   "source": [
    "Note: There are two polygons with the same PFAF_ID (353020). This is caused by the fact that both poygons would otherwise cross the 180 degree meridian"
   ]
  },
  {
   "cell_type": "code",
   "execution_count": 3,
   "metadata": {},
   "outputs": [],
   "source": [
    "!rm -r {EC2_INPUT_PATH} \n",
    "!rm -r {EC2_OUTPUT_PATH} "
   ]
  },
  {
   "cell_type": "code",
   "execution_count": 4,
   "metadata": {
    "collapsed": true
   },
   "outputs": [],
   "source": [
    "!mkdir -p {EC2_INPUT_PATH} \n",
    "!mkdir -p {EC2_OUTPUT_PATH} "
   ]
  },
  {
   "cell_type": "code",
   "execution_count": 5,
   "metadata": {},
   "outputs": [
    {
     "name": "stdout",
     "output_type": "stream",
     "text": [
      "download: s3://wri-projects/Aqueduct30/processData/Y2017M09D14_RH_merge_EE_results_V01/output/mergedZonalStatsEE_V18.pkl to ../../../../data/Y2017M09D15_RH_Add_Basin_Data_V02/input/mergedZonalStatsEE_V18.pkl\n",
      "download: s3://wri-projects/Aqueduct30/processData/Y2017M09D14_RH_merge_EE_results_V01/output/mergedZonalStatsEE_V18.csv to ../../../../data/Y2017M09D15_RH_Add_Basin_Data_V02/input/mergedZonalStatsEE_V18.csv\n"
     ]
    }
   ],
   "source": [
    "!aws s3 cp {S3_INPUT_PATH_EE} {EC2_INPUT_PATH} --recursive"
   ]
  },
  {
   "cell_type": "code",
   "execution_count": 6,
   "metadata": {},
   "outputs": [
    {
     "name": "stdout",
     "output_type": "stream",
     "text": [
      "download: s3://wri-projects/Aqueduct30/processData/Y2017M08D29_RH_Merge_FAONames_Upstream_V01/output/hybas_lev06_v1c_merged_fiona_upstream_downstream_FAO_V01.pkl to ../../../../data/Y2017M09D15_RH_Add_Basin_Data_V02/input/hybas_lev06_v1c_merged_fiona_upstream_downstream_FAO_V01.pkl\n"
     ]
    }
   ],
   "source": [
    "!aws s3 cp {S3_INPUT_PATH_HYDROBASINS} {EC2_INPUT_PATH} --recursive --exclude \"*\" --include \"*.pkl\""
   ]
  },
  {
   "cell_type": "code",
   "execution_count": 7,
   "metadata": {
    "collapsed": true
   },
   "outputs": [],
   "source": [
    "import os\n",
    "import pandas as pd\n",
    "import multiprocessing as mp\n",
    "import pickle\n",
    "import numpy as np\n",
    "import itertools\n",
    "import logging\n",
    "import pprint\n",
    "import ast"
   ]
  },
  {
   "cell_type": "code",
   "execution_count": 8,
   "metadata": {
    "collapsed": true
   },
   "outputs": [],
   "source": [
    "inputLocationEE = os.path.join(EC2_INPUT_PATH,INPUT_FILENAME_EE)\n",
    "inputLocationHydroBasins = os.path.join(EC2_INPUT_PATH,INPUT_FILENAME_HYDROBASINS)"
   ]
  },
  {
   "cell_type": "code",
   "execution_count": 9,
   "metadata": {
    "collapsed": true
   },
   "outputs": [],
   "source": [
    "df_ee = pd.read_pickle(inputLocationEE)"
   ]
  },
  {
   "cell_type": "code",
   "execution_count": 10,
   "metadata": {
    "collapsed": true
   },
   "outputs": [],
   "source": [
    "df_ee.index.names = ['PFAF_ID']"
   ]
  },
  {
   "cell_type": "code",
   "execution_count": 11,
   "metadata": {
    "collapsed": true
   },
   "outputs": [],
   "source": [
    "df_HydroBasins = pd.read_pickle(inputLocationHydroBasins)\n"
   ]
  },
  {
   "cell_type": "code",
   "execution_count": 12,
   "metadata": {
    "collapsed": true
   },
   "outputs": [],
   "source": [
    "df_complete = df_HydroBasins.merge(df_ee,how=\"left\",left_index=True, right_index=True)"
   ]
  },
  {
   "cell_type": "markdown",
   "metadata": {},
   "source": [
    "Note: There are two polygons with the same PFAF_ID (353020). This is caused by the fact that both poygons would otherwise cross the 180 degree meridian. "
   ]
  },
  {
   "cell_type": "code",
   "execution_count": 13,
   "metadata": {
    "collapsed": true
   },
   "outputs": [],
   "source": [
    "df_complete = df_complete.drop_duplicates(subset='PFAF_ID', keep='first')"
   ]
  },
  {
   "cell_type": "markdown",
   "metadata": {},
   "source": [
    "## Functions"
   ]
  },
  {
   "cell_type": "code",
   "execution_count": 14,
   "metadata": {},
   "outputs": [],
   "source": [
    "def calculateTotalDemand(useType,temporalResolution,year,month):\n",
    "    # This function will add Dom Ind IrrLinear and Livestock of all basins in the input list\n",
    "    \n",
    "    if temporalResolution == \"year\":\n",
    "        keyTotal = \"total_volume_Tot%s_%s_Y%0.4d\" %(useType,temporalResolution,year)\n",
    "    else:\n",
    "        keyTotal = \"total_volume_Tot%s_%s_Y%0.4dM%0.2d\" %(useType,temporalResolution,year,month)\n",
    "    \n",
    "    # Create Column with zeros\n",
    "    dfDemand[keyTotal] = 0\n",
    "    for demandType in demandTypes:\n",
    "        if demandType == \"IrrLinear\" and temporalResolution == \"year\":\n",
    "            key = \"total_volume_%s%s_%sY%0.4d\" %(demandType,useType,temporalResolution,year)\n",
    "        else:\n",
    "            key = \"total_volume_%s%s_%sY%0.4dM%0.2d\" %(demandType,useType,temporalResolution,year,month)\n",
    "        dfDemand[keyTotal] = dfDemand[keyTotal] + df_complete[key]\n",
    "    return dfDemand   \n",
    "\n",
    "\n",
    "\n",
    "\n",
    "\n",
    "# This functions can take only one argument because I map them over the pooler.\n",
    "def addUpstream2(listje):\n",
    "    df_full_temp = df_complete.copy()\n",
    "    df_part_temp = df_full_temp[df_full_temp.index.isin(listje)]\n",
    "    df_part_temp2 = df_part_temp.copy()\n",
    "    df_out = pd.DataFrame(index=df_part_temp2.index)\n",
    "    \n",
    "    i = 0\n",
    "    for index, row in df_part_temp2.iterrows():\n",
    "        i += 1\n",
    "        print(\"i: \",i  ,\" index: \", index)\n",
    "        try:\n",
    "            upstreamCatchments = df_part_temp2.loc[index, \"Upstream_PFAF_IDs\"]\n",
    "            upstreamCatchments = ast.literal_eval(upstreamCatchments)\n",
    "            df_upstream = df_full_temp[df_full_temp.index.isin(upstreamCatchments)]\n",
    "            # selecting columns based on regular expression\n",
    "            df_upstream = df_upstream.filter(regex=(\"^total_(area|volume_(P|I))\"))\n",
    "            df_upstream = df_upstream.add_prefix(\"upstream_\")\n",
    "            \n",
    "            # added later (2017 10 11) to prevent negative runoff from upstream to propagate downstream. \n",
    "            # Update: Setting the sum to zero instead of the input runoff parameters\n",
    "            \n",
    "            #df_right = df_upstream.filter(regex=(\"upstream_total_volume_reducedmeanrunoff*|upstream_total_volume_runoff*\")).clip(lower=0)\n",
    "            #df_left = df_upstream.drop(list(df_right.columns), 1)\n",
    "            #df_upstream_capped = df_left.merge(df_right,left_index=True,right_index=True,how=\"outer\")         \n",
    "    \n",
    "            \n",
    "            #sumSeries = df_upstream.sum(0)\n",
    "            #sumSeries = df_upstream_capped.sum(0)\n",
    "            sumSeries = df_upstream.sum(0).filter(regex=(\"upstream_total_volume_reducedmeanrunoff*|upstream_total_volume_runoff*\")).clip(lower=0)\n",
    "            for key, value in sumSeries.iteritems():\n",
    "                df_out.loc[index, key] = value\n",
    "            df_out.loc[index, \"errorCode\"] = 0\n",
    "        except:\n",
    "            print(\"error\")\n",
    "            df_out.loc[index, \"errorCode\"] = 1\n",
    "            pass\n",
    "    \n",
    "    return df_out\n",
    "    \n",
    "    \n",
    "def addDownstream2(listje):\n",
    "    df_full_temp = df_complete.copy()\n",
    "    df_part_temp = df_full_temp[df_full_temp.index.isin(listje)]\n",
    "    df_part_temp2 = df_part_temp.copy()\n",
    "    df_out = pd.DataFrame(index=df_part_temp2.index)\n",
    "    \n",
    "    i = 0\n",
    "    for index, row in df_part_temp2.iterrows():\n",
    "        i += 1\n",
    "        print(\"i: \",i  ,\" index: \", index)\n",
    "        try:\n",
    "            upstreamCatchments = df_part_temp2.loc[index, \"Downstream_PFAF_IDs\"]\n",
    "            upstreamCatchments = ast.literal_eval(upstreamCatchments)\n",
    "            df_upstream = df_full_temp[df_full_temp.index.isin(upstreamCatchments)]\n",
    "            # selecting columns based on regular expression\n",
    "            df_upstream = df_upstream.filter(regex=(\"^total_(area|volume_(P|I))*\"))\n",
    "            df_upstream = df_upstream.add_prefix(\"downstream_\")     \n",
    "            \n",
    "            sumSeries = df_upstream.sum(0)\n",
    "            for key, value in sumSeries.iteritems():\n",
    "                df_out.loc[index, key] = value\n",
    "            df_out.loc[index, \"errorCode\"] = 0\n",
    "        except:\n",
    "            print(\"error\")\n",
    "            df_out.loc[index, \"errorCode\"] = 1\n",
    "            pass\n",
    "    \n",
    "    return df_out\n",
    "\n",
    "\n",
    "def addBasin2(listje):\n",
    "    df_full_temp = df_complete.copy()\n",
    "    df_part_temp = df_full_temp[df_full_temp.index.isin(listje)]\n",
    "    df_part_temp2 = df_part_temp.copy()\n",
    "    #df_out = df_part_temp2.copy()\n",
    "    df_out = pd.DataFrame(index=df_part_temp2.index)\n",
    "    \n",
    "    i = 0\n",
    "    for index, row in df_part_temp2.iterrows():\n",
    "        i += 1\n",
    "        print(\"i: \",i  ,\" index: \", index)\n",
    "        try:\n",
    "            upstreamCatchments = df_part_temp2.loc[index, \"Basin_PFAF_IDs\"]\n",
    "            upstreamCatchments = ast.literal_eval(upstreamCatchments)\n",
    "            df_upstream = df_full_temp[df_full_temp.index.isin(upstreamCatchments)]\n",
    "            # selecting columns based on regular expression\n",
    "            df_upstream = df_upstream.filter(regex=(\"^total_(area|volume_(P|I))\"))\n",
    "            df_upstream = df_upstream.add_prefix(\"basin_\")\n",
    "            sumSeries = df_upstream.sum(0)\n",
    "            for key, value in sumSeries.iteritems():\n",
    "                df_out.loc[index, key] = value\n",
    "            df_out.loc[index, \"errorCode\"] = 0\n",
    "        except:\n",
    "            print(\"error\")\n",
    "            df_out.loc[index, \"errorCode\"] = 1\n",
    "            pass\n",
    "    \n",
    "    return df_out"
   ]
  },
  {
   "cell_type": "markdown",
   "metadata": {},
   "source": [
    "## Script"
   ]
  },
  {
   "cell_type": "code",
   "execution_count": 15,
   "metadata": {
    "collapsed": true
   },
   "outputs": [],
   "source": [
    "demandTypes = [\"PDom\",\"PInd\",\"IrrLinear\",\"PLiv\"]\n",
    "useTypes = [\"WW\",\"WN\"]\n",
    "temporalResolutions = [\"year\",\"month\"]\n",
    "years = [2014]"
   ]
  },
  {
   "cell_type": "code",
   "execution_count": 16,
   "metadata": {},
   "outputs": [
    {
     "name": "stdout",
     "output_type": "stream",
     "text": [
      "WW year 2014 12\n",
      "WN year 2014 12\n",
      "WW month 2014 1\n",
      "WW month 2014 2\n",
      "WW month 2014 3\n",
      "WW month 2014 4\n",
      "WW month 2014 5\n",
      "WW month 2014 6\n",
      "WW month 2014 7\n",
      "WW month 2014 8\n",
      "WW month 2014 9\n",
      "WW month 2014 10\n",
      "WW month 2014 11\n",
      "WW month 2014 12\n",
      "WN month 2014 1\n",
      "WN month 2014 2\n",
      "WN month 2014 3\n",
      "WN month 2014 4\n",
      "WN month 2014 5\n",
      "WN month 2014 6\n",
      "WN month 2014 7\n",
      "WN month 2014 8\n",
      "WN month 2014 9\n",
      "WN month 2014 10\n",
      "WN month 2014 11\n",
      "WN month 2014 12\n"
     ]
    }
   ],
   "source": [
    "dfDemand = pd.DataFrame(index=df_complete.index)\n",
    "for temporalResolution in temporalResolutions:\n",
    "    for useType in useTypes:\n",
    "        for year in years:\n",
    "            if temporalResolution == \"year\":\n",
    "                month = 12\n",
    "                print(useType,temporalResolution,year,month)\n",
    "                dfDemand = calculateTotalDemand(useType,temporalResolution,year,month)\n",
    "            else:\n",
    "                for month in range(1,13):\n",
    "                    print(useType,temporalResolution,year,month)\n",
    "                    dfDemand = calculateTotalDemand(useType,temporalResolution,year,month)          "
   ]
  },
  {
   "cell_type": "code",
   "execution_count": 17,
   "metadata": {},
   "outputs": [
    {
     "data": {
      "text/html": [
       "<div>\n",
       "<style>\n",
       "    .dataframe thead tr:only-child th {\n",
       "        text-align: right;\n",
       "    }\n",
       "\n",
       "    .dataframe thead th {\n",
       "        text-align: left;\n",
       "    }\n",
       "\n",
       "    .dataframe tbody tr th {\n",
       "        vertical-align: top;\n",
       "    }\n",
       "</style>\n",
       "<table border=\"1\" class=\"dataframe\">\n",
       "  <thead>\n",
       "    <tr style=\"text-align: right;\">\n",
       "      <th></th>\n",
       "      <th>total_volume_TotWW_year_Y2014</th>\n",
       "      <th>total_volume_TotWN_year_Y2014</th>\n",
       "      <th>total_volume_TotWW_month_Y2014M01</th>\n",
       "      <th>total_volume_TotWW_month_Y2014M02</th>\n",
       "      <th>total_volume_TotWW_month_Y2014M03</th>\n",
       "      <th>total_volume_TotWW_month_Y2014M04</th>\n",
       "      <th>total_volume_TotWW_month_Y2014M05</th>\n",
       "      <th>total_volume_TotWW_month_Y2014M06</th>\n",
       "      <th>total_volume_TotWW_month_Y2014M07</th>\n",
       "      <th>total_volume_TotWW_month_Y2014M08</th>\n",
       "      <th>...</th>\n",
       "      <th>total_volume_TotWN_month_Y2014M03</th>\n",
       "      <th>total_volume_TotWN_month_Y2014M04</th>\n",
       "      <th>total_volume_TotWN_month_Y2014M05</th>\n",
       "      <th>total_volume_TotWN_month_Y2014M06</th>\n",
       "      <th>total_volume_TotWN_month_Y2014M07</th>\n",
       "      <th>total_volume_TotWN_month_Y2014M08</th>\n",
       "      <th>total_volume_TotWN_month_Y2014M09</th>\n",
       "      <th>total_volume_TotWN_month_Y2014M10</th>\n",
       "      <th>total_volume_TotWN_month_Y2014M11</th>\n",
       "      <th>total_volume_TotWN_month_Y2014M12</th>\n",
       "    </tr>\n",
       "    <tr>\n",
       "      <th>PFAF_ID</th>\n",
       "      <th></th>\n",
       "      <th></th>\n",
       "      <th></th>\n",
       "      <th></th>\n",
       "      <th></th>\n",
       "      <th></th>\n",
       "      <th></th>\n",
       "      <th></th>\n",
       "      <th></th>\n",
       "      <th></th>\n",
       "      <th></th>\n",
       "      <th></th>\n",
       "      <th></th>\n",
       "      <th></th>\n",
       "      <th></th>\n",
       "      <th></th>\n",
       "      <th></th>\n",
       "      <th></th>\n",
       "      <th></th>\n",
       "      <th></th>\n",
       "      <th></th>\n",
       "    </tr>\n",
       "  </thead>\n",
       "  <tbody>\n",
       "    <tr>\n",
       "      <th>111011</th>\n",
       "      <td>6.257741e+07</td>\n",
       "      <td>2.915234e+07</td>\n",
       "      <td>5.071952e+06</td>\n",
       "      <td>5.039243e+06</td>\n",
       "      <td>5.096070e+06</td>\n",
       "      <td>5.268799e+06</td>\n",
       "      <td>5.233163e+06</td>\n",
       "      <td>5.282180e+06</td>\n",
       "      <td>5.382082e+06</td>\n",
       "      <td>5.472195e+06</td>\n",
       "      <td>...</td>\n",
       "      <td>2.372698e+06</td>\n",
       "      <td>2.448676e+06</td>\n",
       "      <td>2.443976e+06</td>\n",
       "      <td>2.468962e+06</td>\n",
       "      <td>2.509266e+06</td>\n",
       "      <td>2.543447e+06</td>\n",
       "      <td>2.498844e+06</td>\n",
       "      <td>2.432985e+06</td>\n",
       "      <td>2.380002e+06</td>\n",
       "      <td>2.353863e+06</td>\n",
       "    </tr>\n",
       "    <tr>\n",
       "      <th>111012</th>\n",
       "      <td>8.204290e+06</td>\n",
       "      <td>3.388488e+06</td>\n",
       "      <td>6.827566e+05</td>\n",
       "      <td>6.829166e+05</td>\n",
       "      <td>6.831846e+05</td>\n",
       "      <td>6.836583e+05</td>\n",
       "      <td>6.840569e+05</td>\n",
       "      <td>6.843250e+05</td>\n",
       "      <td>6.844042e+05</td>\n",
       "      <td>6.844215e+05</td>\n",
       "      <td>...</td>\n",
       "      <td>2.818678e+05</td>\n",
       "      <td>2.823415e+05</td>\n",
       "      <td>2.827401e+05</td>\n",
       "      <td>2.830082e+05</td>\n",
       "      <td>2.830874e+05</td>\n",
       "      <td>2.831047e+05</td>\n",
       "      <td>2.829387e+05</td>\n",
       "      <td>2.826311e+05</td>\n",
       "      <td>2.820958e+05</td>\n",
       "      <td>2.816334e+05</td>\n",
       "    </tr>\n",
       "    <tr>\n",
       "      <th>111013</th>\n",
       "      <td>7.569537e+06</td>\n",
       "      <td>3.111568e+06</td>\n",
       "      <td>6.301277e+05</td>\n",
       "      <td>6.302355e+05</td>\n",
       "      <td>6.304261e+05</td>\n",
       "      <td>6.307669e+05</td>\n",
       "      <td>6.310496e+05</td>\n",
       "      <td>6.312474e+05</td>\n",
       "      <td>6.313145e+05</td>\n",
       "      <td>6.313229e+05</td>\n",
       "      <td>...</td>\n",
       "      <td>2.589287e+05</td>\n",
       "      <td>2.592695e+05</td>\n",
       "      <td>2.595522e+05</td>\n",
       "      <td>2.597500e+05</td>\n",
       "      <td>2.598171e+05</td>\n",
       "      <td>2.598255e+05</td>\n",
       "      <td>2.597075e+05</td>\n",
       "      <td>2.594838e+05</td>\n",
       "      <td>2.591036e+05</td>\n",
       "      <td>2.587620e+05</td>\n",
       "    </tr>\n",
       "    <tr>\n",
       "      <th>111014</th>\n",
       "      <td>1.046668e+06</td>\n",
       "      <td>5.024309e+05</td>\n",
       "      <td>8.651350e+04</td>\n",
       "      <td>8.664306e+04</td>\n",
       "      <td>8.685163e+04</td>\n",
       "      <td>8.721648e+04</td>\n",
       "      <td>8.751861e+04</td>\n",
       "      <td>8.770851e+04</td>\n",
       "      <td>8.775453e+04</td>\n",
       "      <td>8.777285e+04</td>\n",
       "      <td>...</td>\n",
       "      <td>4.149858e+04</td>\n",
       "      <td>4.186342e+04</td>\n",
       "      <td>4.216556e+04</td>\n",
       "      <td>4.235545e+04</td>\n",
       "      <td>4.240148e+04</td>\n",
       "      <td>4.241980e+04</td>\n",
       "      <td>4.227204e+04</td>\n",
       "      <td>4.204755e+04</td>\n",
       "      <td>4.165468e+04</td>\n",
       "      <td>4.130191e+04</td>\n",
       "    </tr>\n",
       "    <tr>\n",
       "      <th>111015</th>\n",
       "      <td>1.118431e+08</td>\n",
       "      <td>4.668647e+07</td>\n",
       "      <td>9.301079e+06</td>\n",
       "      <td>9.303778e+06</td>\n",
       "      <td>9.309980e+06</td>\n",
       "      <td>9.319181e+06</td>\n",
       "      <td>9.327492e+06</td>\n",
       "      <td>9.333573e+06</td>\n",
       "      <td>9.335649e+06</td>\n",
       "      <td>9.335846e+06</td>\n",
       "      <td>...</td>\n",
       "      <td>3.881478e+06</td>\n",
       "      <td>3.889610e+06</td>\n",
       "      <td>3.896934e+06</td>\n",
       "      <td>3.902287e+06</td>\n",
       "      <td>3.904112e+06</td>\n",
       "      <td>3.904281e+06</td>\n",
       "      <td>3.900583e+06</td>\n",
       "      <td>3.894476e+06</td>\n",
       "      <td>3.886032e+06</td>\n",
       "      <td>3.877061e+06</td>\n",
       "    </tr>\n",
       "  </tbody>\n",
       "</table>\n",
       "<p>5 rows × 26 columns</p>\n",
       "</div>"
      ],
      "text/plain": [
       "         total_volume_TotWW_year_Y2014  total_volume_TotWN_year_Y2014  \\\n",
       "PFAF_ID                                                                 \n",
       "111011                    6.257741e+07                   2.915234e+07   \n",
       "111012                    8.204290e+06                   3.388488e+06   \n",
       "111013                    7.569537e+06                   3.111568e+06   \n",
       "111014                    1.046668e+06                   5.024309e+05   \n",
       "111015                    1.118431e+08                   4.668647e+07   \n",
       "\n",
       "         total_volume_TotWW_month_Y2014M01  total_volume_TotWW_month_Y2014M02  \\\n",
       "PFAF_ID                                                                         \n",
       "111011                        5.071952e+06                       5.039243e+06   \n",
       "111012                        6.827566e+05                       6.829166e+05   \n",
       "111013                        6.301277e+05                       6.302355e+05   \n",
       "111014                        8.651350e+04                       8.664306e+04   \n",
       "111015                        9.301079e+06                       9.303778e+06   \n",
       "\n",
       "         total_volume_TotWW_month_Y2014M03  total_volume_TotWW_month_Y2014M04  \\\n",
       "PFAF_ID                                                                         \n",
       "111011                        5.096070e+06                       5.268799e+06   \n",
       "111012                        6.831846e+05                       6.836583e+05   \n",
       "111013                        6.304261e+05                       6.307669e+05   \n",
       "111014                        8.685163e+04                       8.721648e+04   \n",
       "111015                        9.309980e+06                       9.319181e+06   \n",
       "\n",
       "         total_volume_TotWW_month_Y2014M05  total_volume_TotWW_month_Y2014M06  \\\n",
       "PFAF_ID                                                                         \n",
       "111011                        5.233163e+06                       5.282180e+06   \n",
       "111012                        6.840569e+05                       6.843250e+05   \n",
       "111013                        6.310496e+05                       6.312474e+05   \n",
       "111014                        8.751861e+04                       8.770851e+04   \n",
       "111015                        9.327492e+06                       9.333573e+06   \n",
       "\n",
       "         total_volume_TotWW_month_Y2014M07  total_volume_TotWW_month_Y2014M08  \\\n",
       "PFAF_ID                                                                         \n",
       "111011                        5.382082e+06                       5.472195e+06   \n",
       "111012                        6.844042e+05                       6.844215e+05   \n",
       "111013                        6.313145e+05                       6.313229e+05   \n",
       "111014                        8.775453e+04                       8.777285e+04   \n",
       "111015                        9.335649e+06                       9.335846e+06   \n",
       "\n",
       "                       ...                  total_volume_TotWN_month_Y2014M03  \\\n",
       "PFAF_ID                ...                                                      \n",
       "111011                 ...                                       2.372698e+06   \n",
       "111012                 ...                                       2.818678e+05   \n",
       "111013                 ...                                       2.589287e+05   \n",
       "111014                 ...                                       4.149858e+04   \n",
       "111015                 ...                                       3.881478e+06   \n",
       "\n",
       "         total_volume_TotWN_month_Y2014M04  total_volume_TotWN_month_Y2014M05  \\\n",
       "PFAF_ID                                                                         \n",
       "111011                        2.448676e+06                       2.443976e+06   \n",
       "111012                        2.823415e+05                       2.827401e+05   \n",
       "111013                        2.592695e+05                       2.595522e+05   \n",
       "111014                        4.186342e+04                       4.216556e+04   \n",
       "111015                        3.889610e+06                       3.896934e+06   \n",
       "\n",
       "         total_volume_TotWN_month_Y2014M06  total_volume_TotWN_month_Y2014M07  \\\n",
       "PFAF_ID                                                                         \n",
       "111011                        2.468962e+06                       2.509266e+06   \n",
       "111012                        2.830082e+05                       2.830874e+05   \n",
       "111013                        2.597500e+05                       2.598171e+05   \n",
       "111014                        4.235545e+04                       4.240148e+04   \n",
       "111015                        3.902287e+06                       3.904112e+06   \n",
       "\n",
       "         total_volume_TotWN_month_Y2014M08  total_volume_TotWN_month_Y2014M09  \\\n",
       "PFAF_ID                                                                         \n",
       "111011                        2.543447e+06                       2.498844e+06   \n",
       "111012                        2.831047e+05                       2.829387e+05   \n",
       "111013                        2.598255e+05                       2.597075e+05   \n",
       "111014                        4.241980e+04                       4.227204e+04   \n",
       "111015                        3.904281e+06                       3.900583e+06   \n",
       "\n",
       "         total_volume_TotWN_month_Y2014M10  total_volume_TotWN_month_Y2014M11  \\\n",
       "PFAF_ID                                                                         \n",
       "111011                        2.432985e+06                       2.380002e+06   \n",
       "111012                        2.826311e+05                       2.820958e+05   \n",
       "111013                        2.594838e+05                       2.591036e+05   \n",
       "111014                        4.204755e+04                       4.165468e+04   \n",
       "111015                        3.894476e+06                       3.886032e+06   \n",
       "\n",
       "         total_volume_TotWN_month_Y2014M12  \n",
       "PFAF_ID                                     \n",
       "111011                        2.353863e+06  \n",
       "111012                        2.816334e+05  \n",
       "111013                        2.587620e+05  \n",
       "111014                        4.130191e+04  \n",
       "111015                        3.877061e+06  \n",
       "\n",
       "[5 rows x 26 columns]"
      ]
     },
     "execution_count": 17,
     "metadata": {},
     "output_type": "execute_result"
    }
   ],
   "source": [
    "dfDemand.head()"
   ]
  },
  {
   "cell_type": "code",
   "execution_count": 18,
   "metadata": {
    "collapsed": true
   },
   "outputs": [],
   "source": [
    "df_complete = df_complete.merge(dfDemand,how=\"left\",left_index=True,right_index=True)"
   ]
  },
  {
   "cell_type": "code",
   "execution_count": 19,
   "metadata": {
    "scrolled": true
   },
   "outputs": [
    {
     "data": {
      "text/plain": [
       "HYBAS_ID2                              int64\n",
       "Unnamed: 0                             int64\n",
       "HYBAS_ID                               int64\n",
       "NEXT_DOWN                              int64\n",
       "NEXT_SINK                              int64\n",
       "MAIN_BAS                               int64\n",
       "DIST_SINK                            float64\n",
       "DIST_MAIN                            float64\n",
       "SUB_AREA                             float64\n",
       "UP_AREA                              float64\n",
       "PFAF_ID                                int64\n",
       "ENDO                                   int64\n",
       "COAST                                  int64\n",
       "ORDER                                  int64\n",
       "SORT                                   int64\n",
       "Upstream_HYBAS_IDs                    object\n",
       "Upstream_PFAF_IDs                     object\n",
       "Downstream_HYBAS_IDs                  object\n",
       "Downstream_PFAF_IDs                   object\n",
       "NEXT_SINK_PFAF                       float64\n",
       "Basin_HYBAS_IDs                       object\n",
       "Basin_PFAF_IDs                        object\n",
       "SUB_NAME                              object\n",
       "MAJ_NAME                              object\n",
       "FAOid_copy                            object\n",
       "count_Hybas06                        float64\n",
       "mean_Hybas06                         float64\n",
       "count_area_30s_m2                    float64\n",
       "mean_area_30s_m2                     float64\n",
       "total_area_30s_m2                    float64\n",
       "                                      ...   \n",
       "total_volume_PIndWW_monthY2014M01    float64\n",
       "count_PLivWW_monthY2014M09           float64\n",
       "mean_PLivWW_monthY2014M09            float64\n",
       "total_volume_PLivWW_monthY2014M09    float64\n",
       "total_volume_TotWW_year_Y2014        float64\n",
       "total_volume_TotWN_year_Y2014        float64\n",
       "total_volume_TotWW_month_Y2014M01    float64\n",
       "total_volume_TotWW_month_Y2014M02    float64\n",
       "total_volume_TotWW_month_Y2014M03    float64\n",
       "total_volume_TotWW_month_Y2014M04    float64\n",
       "total_volume_TotWW_month_Y2014M05    float64\n",
       "total_volume_TotWW_month_Y2014M06    float64\n",
       "total_volume_TotWW_month_Y2014M07    float64\n",
       "total_volume_TotWW_month_Y2014M08    float64\n",
       "total_volume_TotWW_month_Y2014M09    float64\n",
       "total_volume_TotWW_month_Y2014M10    float64\n",
       "total_volume_TotWW_month_Y2014M11    float64\n",
       "total_volume_TotWW_month_Y2014M12    float64\n",
       "total_volume_TotWN_month_Y2014M01    float64\n",
       "total_volume_TotWN_month_Y2014M02    float64\n",
       "total_volume_TotWN_month_Y2014M03    float64\n",
       "total_volume_TotWN_month_Y2014M04    float64\n",
       "total_volume_TotWN_month_Y2014M05    float64\n",
       "total_volume_TotWN_month_Y2014M06    float64\n",
       "total_volume_TotWN_month_Y2014M07    float64\n",
       "total_volume_TotWN_month_Y2014M08    float64\n",
       "total_volume_TotWN_month_Y2014M09    float64\n",
       "total_volume_TotWN_month_Y2014M10    float64\n",
       "total_volume_TotWN_month_Y2014M11    float64\n",
       "total_volume_TotWN_month_Y2014M12    float64\n",
       "Length: 524, dtype: object"
      ]
     },
     "execution_count": 19,
     "metadata": {},
     "output_type": "execute_result"
    }
   ],
   "source": [
    "df_complete.dtypes"
   ]
  },
  {
   "cell_type": "markdown",
   "metadata": {},
   "source": [
    "## Runoff Routing  \n",
    "prevent negative propagation"
   ]
  },
  {
   "cell_type": "code",
   "execution_count": 20,
   "metadata": {
    "collapsed": true
   },
   "outputs": [],
   "source": [
    "df_complete[\"Upstream_PFAF_IDs\"] = df_complete[\"Upstream_PFAF_IDs\"].apply(lambda x: ast.literal_eval(x))"
   ]
  },
  {
   "cell_type": "code",
   "execution_count": 21,
   "metadata": {
    "collapsed": true
   },
   "outputs": [],
   "source": [
    "df_complete[\"numberUpstream_PFAF_IDs\"] = df_complete[\"Upstream_PFAF_IDs\"].apply(lambda x: len(x))"
   ]
  },
  {
   "cell_type": "code",
   "execution_count": 24,
   "metadata": {
    "collapsed": true
   },
   "outputs": [],
   "source": [
    "df_out = pd.DataFrame()"
   ]
  },
  {
   "cell_type": "code",
   "execution_count": 27,
   "metadata": {},
   "outputs": [
    {
     "name": "stdout",
     "output_type": "stream",
     "text": [
      "0\n",
      "0.0\n"
     ]
    }
   ],
   "source": [
    "#for numberUpstream in range(0,df_complete[\"numberUpstream_PFAF_IDs\"].max()+1):\n",
    "for numberUpstream in range(0,1):\n",
    "    print(numberUpstream)\n",
    "    df_filtered = df_complete.loc[df_complete['numberUpstream_PFAF_IDs'] == numberUpstream].copy()\n",
    "    if numberUpstream == 0:\n",
    "        temporalResolution = \"year\"      \n",
    "        # Headwaters\n",
    "        df_filtered.loc[df_filtered[\"numberUpstream_PFAF_IDs\"]==numberUpstream,\"total_volume_accumulatedRunoff_year_Y2014\"] = df_filtered[\"total_volume_runoff_yearY2014M12\"]\n",
    "        df_filtered.loc[df_filtered[\"numberUpstream_PFAF_IDs\"]==numberUpstream,\"total_volume_accumulatedRunoffAvailable_year_Y2014\"] = df_filtered[\"total_volume_runoff_yearY2014M12\"] - df_filtered[\"total_volume_TotWN_year_Y2014\"]\n",
    "    \n",
    "        df_filtered[\"total_volume_accumulatedRunoff_year_Y2014\"] = df_filtered[\"total_volume_accumulatedRunoff_year_Y2014\"].clip(lower=0)\n",
    "        df_filtered[\"total_volume_accumulatedRunoffAvailable_year_Y2014\"] = df_filtered[\"total_volume_accumulatedRunoffAvailable_year_Y2014\"].clip(lower=0)\n",
    "        \n",
    "        print(df_filtered[\"total_volume_accumulatedRunoffAvailable_year_Y2014\"].clip(lower=0).min())\n",
    "    \n",
    "    else:\n",
    "        pass\n",
    "        \"\"\"\n",
    "        # accumulated = accumulatedRunoff_upstream + local runoff\n",
    "        # accumulated available = accumulatedRunoffAvailable_upstream + local Runoff - Local consumption\n",
    "        for index, row in df_filtered.iterrows():\n",
    "            upstreamCatchments = df_filtered.loc[index][\"Upstream_PFAF_IDs\"]\n",
    "            df_upstream = df_complete[df_complete.index.isin(upstreamCatchments)]\n",
    "            \n",
    "            df_upstream = df_upstream.filter(regex=(\"^total_volume_accumulated\"))           \n",
    "                \n",
    "            sumSeries = df_upstream.sum(0)\n",
    "                                           \n",
    "            for key, value in sumSeries.iteritems():\n",
    "                df_out.loc[index, key] = value\n",
    "            df_out.loc[index, \"errorCode\"] = 0\n",
    "            \"\"\"\n",
    "    df_out = df_out.append(df_filtered)\n",
    "            \n",
    "        "
   ]
  },
  {
   "cell_type": "code",
   "execution_count": 28,
   "metadata": {},
   "outputs": [
    {
     "data": {
      "text/html": [
       "<div>\n",
       "<style>\n",
       "    .dataframe thead tr:only-child th {\n",
       "        text-align: right;\n",
       "    }\n",
       "\n",
       "    .dataframe thead th {\n",
       "        text-align: left;\n",
       "    }\n",
       "\n",
       "    .dataframe tbody tr th {\n",
       "        vertical-align: top;\n",
       "    }\n",
       "</style>\n",
       "<table border=\"1\" class=\"dataframe\">\n",
       "  <thead>\n",
       "    <tr style=\"text-align: right;\">\n",
       "      <th></th>\n",
       "      <th>HYBAS_ID2</th>\n",
       "      <th>Unnamed: 0</th>\n",
       "      <th>HYBAS_ID</th>\n",
       "      <th>NEXT_DOWN</th>\n",
       "      <th>NEXT_SINK</th>\n",
       "      <th>MAIN_BAS</th>\n",
       "      <th>DIST_SINK</th>\n",
       "      <th>DIST_MAIN</th>\n",
       "      <th>SUB_AREA</th>\n",
       "      <th>UP_AREA</th>\n",
       "      <th>...</th>\n",
       "      <th>total_volume_TotWN_month_Y2014M06</th>\n",
       "      <th>total_volume_TotWN_month_Y2014M07</th>\n",
       "      <th>total_volume_TotWN_month_Y2014M08</th>\n",
       "      <th>total_volume_TotWN_month_Y2014M09</th>\n",
       "      <th>total_volume_TotWN_month_Y2014M10</th>\n",
       "      <th>total_volume_TotWN_month_Y2014M11</th>\n",
       "      <th>total_volume_TotWN_month_Y2014M12</th>\n",
       "      <th>numberUpstream_PFAF_IDs</th>\n",
       "      <th>total_volume_accumulatedRunoff_year_Y2014</th>\n",
       "      <th>total_volume_accumulatedRunoffAvailable_year_Y2014</th>\n",
       "    </tr>\n",
       "    <tr>\n",
       "      <th>PFAF_ID</th>\n",
       "      <th></th>\n",
       "      <th></th>\n",
       "      <th></th>\n",
       "      <th></th>\n",
       "      <th></th>\n",
       "      <th></th>\n",
       "      <th></th>\n",
       "      <th></th>\n",
       "      <th></th>\n",
       "      <th></th>\n",
       "      <th></th>\n",
       "      <th></th>\n",
       "      <th></th>\n",
       "      <th></th>\n",
       "      <th></th>\n",
       "      <th></th>\n",
       "      <th></th>\n",
       "      <th></th>\n",
       "      <th></th>\n",
       "      <th></th>\n",
       "      <th></th>\n",
       "    </tr>\n",
       "  </thead>\n",
       "  <tbody>\n",
       "    <tr>\n",
       "      <th>111011</th>\n",
       "      <td>1060000010</td>\n",
       "      <td>6675</td>\n",
       "      <td>1060000010</td>\n",
       "      <td>0</td>\n",
       "      <td>1060000010</td>\n",
       "      <td>1060000010</td>\n",
       "      <td>0.0</td>\n",
       "      <td>0.0</td>\n",
       "      <td>1890.8</td>\n",
       "      <td>1890.8</td>\n",
       "      <td>...</td>\n",
       "      <td>2.468962e+06</td>\n",
       "      <td>2.509266e+06</td>\n",
       "      <td>2.543447e+06</td>\n",
       "      <td>2.498844e+06</td>\n",
       "      <td>2.432985e+06</td>\n",
       "      <td>2.380002e+06</td>\n",
       "      <td>2.353863e+06</td>\n",
       "      <td>0</td>\n",
       "      <td>1.343305e+06</td>\n",
       "      <td>0.0</td>\n",
       "    </tr>\n",
       "    <tr>\n",
       "      <th>111012</th>\n",
       "      <td>1060000100</td>\n",
       "      <td>6676</td>\n",
       "      <td>1060000100</td>\n",
       "      <td>0</td>\n",
       "      <td>1060000100</td>\n",
       "      <td>1060000100</td>\n",
       "      <td>0.0</td>\n",
       "      <td>0.0</td>\n",
       "      <td>2925.9</td>\n",
       "      <td>2925.9</td>\n",
       "      <td>...</td>\n",
       "      <td>2.830082e+05</td>\n",
       "      <td>2.830874e+05</td>\n",
       "      <td>2.831047e+05</td>\n",
       "      <td>2.829387e+05</td>\n",
       "      <td>2.826311e+05</td>\n",
       "      <td>2.820958e+05</td>\n",
       "      <td>2.816334e+05</td>\n",
       "      <td>0</td>\n",
       "      <td>5.673874e+05</td>\n",
       "      <td>0.0</td>\n",
       "    </tr>\n",
       "    <tr>\n",
       "      <th>111013</th>\n",
       "      <td>1060000110</td>\n",
       "      <td>6677</td>\n",
       "      <td>1060000110</td>\n",
       "      <td>0</td>\n",
       "      <td>1060000110</td>\n",
       "      <td>1060000110</td>\n",
       "      <td>0.0</td>\n",
       "      <td>0.0</td>\n",
       "      <td>893.5</td>\n",
       "      <td>893.5</td>\n",
       "      <td>...</td>\n",
       "      <td>2.597500e+05</td>\n",
       "      <td>2.598171e+05</td>\n",
       "      <td>2.598255e+05</td>\n",
       "      <td>2.597075e+05</td>\n",
       "      <td>2.594838e+05</td>\n",
       "      <td>2.591036e+05</td>\n",
       "      <td>2.587620e+05</td>\n",
       "      <td>0</td>\n",
       "      <td>1.692542e+05</td>\n",
       "      <td>0.0</td>\n",
       "    </tr>\n",
       "    <tr>\n",
       "      <th>111014</th>\n",
       "      <td>1060000150</td>\n",
       "      <td>6678</td>\n",
       "      <td>1060000150</td>\n",
       "      <td>0</td>\n",
       "      <td>1060000150</td>\n",
       "      <td>1060000150</td>\n",
       "      <td>0.0</td>\n",
       "      <td>0.0</td>\n",
       "      <td>4217.3</td>\n",
       "      <td>4217.4</td>\n",
       "      <td>...</td>\n",
       "      <td>4.235545e+04</td>\n",
       "      <td>4.240148e+04</td>\n",
       "      <td>4.241980e+04</td>\n",
       "      <td>4.227204e+04</td>\n",
       "      <td>4.204755e+04</td>\n",
       "      <td>4.165468e+04</td>\n",
       "      <td>4.130191e+04</td>\n",
       "      <td>0</td>\n",
       "      <td>1.544113e-05</td>\n",
       "      <td>0.0</td>\n",
       "    </tr>\n",
       "    <tr>\n",
       "      <th>111015</th>\n",
       "      <td>1060000160</td>\n",
       "      <td>6679</td>\n",
       "      <td>1060000160</td>\n",
       "      <td>0</td>\n",
       "      <td>1060000160</td>\n",
       "      <td>1060000160</td>\n",
       "      <td>0.0</td>\n",
       "      <td>0.0</td>\n",
       "      <td>16638.1</td>\n",
       "      <td>16638.1</td>\n",
       "      <td>...</td>\n",
       "      <td>3.902287e+06</td>\n",
       "      <td>3.904112e+06</td>\n",
       "      <td>3.904281e+06</td>\n",
       "      <td>3.900583e+06</td>\n",
       "      <td>3.894476e+06</td>\n",
       "      <td>3.886032e+06</td>\n",
       "      <td>3.877061e+06</td>\n",
       "      <td>0</td>\n",
       "      <td>9.114805e+03</td>\n",
       "      <td>0.0</td>\n",
       "    </tr>\n",
       "  </tbody>\n",
       "</table>\n",
       "<p>5 rows × 527 columns</p>\n",
       "</div>"
      ],
      "text/plain": [
       "          HYBAS_ID2  Unnamed: 0    HYBAS_ID  NEXT_DOWN   NEXT_SINK  \\\n",
       "PFAF_ID                                                              \n",
       "111011   1060000010        6675  1060000010          0  1060000010   \n",
       "111012   1060000100        6676  1060000100          0  1060000100   \n",
       "111013   1060000110        6677  1060000110          0  1060000110   \n",
       "111014   1060000150        6678  1060000150          0  1060000150   \n",
       "111015   1060000160        6679  1060000160          0  1060000160   \n",
       "\n",
       "           MAIN_BAS  DIST_SINK  DIST_MAIN  SUB_AREA  UP_AREA  \\\n",
       "PFAF_ID                                                        \n",
       "111011   1060000010        0.0        0.0    1890.8   1890.8   \n",
       "111012   1060000100        0.0        0.0    2925.9   2925.9   \n",
       "111013   1060000110        0.0        0.0     893.5    893.5   \n",
       "111014   1060000150        0.0        0.0    4217.3   4217.4   \n",
       "111015   1060000160        0.0        0.0   16638.1  16638.1   \n",
       "\n",
       "                                ...                          \\\n",
       "PFAF_ID                         ...                           \n",
       "111011                          ...                           \n",
       "111012                          ...                           \n",
       "111013                          ...                           \n",
       "111014                          ...                           \n",
       "111015                          ...                           \n",
       "\n",
       "         total_volume_TotWN_month_Y2014M06  total_volume_TotWN_month_Y2014M07  \\\n",
       "PFAF_ID                                                                         \n",
       "111011                        2.468962e+06                       2.509266e+06   \n",
       "111012                        2.830082e+05                       2.830874e+05   \n",
       "111013                        2.597500e+05                       2.598171e+05   \n",
       "111014                        4.235545e+04                       4.240148e+04   \n",
       "111015                        3.902287e+06                       3.904112e+06   \n",
       "\n",
       "         total_volume_TotWN_month_Y2014M08  total_volume_TotWN_month_Y2014M09  \\\n",
       "PFAF_ID                                                                         \n",
       "111011                        2.543447e+06                       2.498844e+06   \n",
       "111012                        2.831047e+05                       2.829387e+05   \n",
       "111013                        2.598255e+05                       2.597075e+05   \n",
       "111014                        4.241980e+04                       4.227204e+04   \n",
       "111015                        3.904281e+06                       3.900583e+06   \n",
       "\n",
       "         total_volume_TotWN_month_Y2014M10 total_volume_TotWN_month_Y2014M11  \\\n",
       "PFAF_ID                                                                        \n",
       "111011                        2.432985e+06                      2.380002e+06   \n",
       "111012                        2.826311e+05                      2.820958e+05   \n",
       "111013                        2.594838e+05                      2.591036e+05   \n",
       "111014                        4.204755e+04                      4.165468e+04   \n",
       "111015                        3.894476e+06                      3.886032e+06   \n",
       "\n",
       "        total_volume_TotWN_month_Y2014M12 numberUpstream_PFAF_IDs  \\\n",
       "PFAF_ID                                                             \n",
       "111011                       2.353863e+06                       0   \n",
       "111012                       2.816334e+05                       0   \n",
       "111013                       2.587620e+05                       0   \n",
       "111014                       4.130191e+04                       0   \n",
       "111015                       3.877061e+06                       0   \n",
       "\n",
       "        total_volume_accumulatedRunoff_year_Y2014  \\\n",
       "PFAF_ID                                             \n",
       "111011                               1.343305e+06   \n",
       "111012                               5.673874e+05   \n",
       "111013                               1.692542e+05   \n",
       "111014                               1.544113e-05   \n",
       "111015                               9.114805e+03   \n",
       "\n",
       "         total_volume_accumulatedRunoffAvailable_year_Y2014  \n",
       "PFAF_ID                                                      \n",
       "111011                                                 0.0   \n",
       "111012                                                 0.0   \n",
       "111013                                                 0.0   \n",
       "111014                                                 0.0   \n",
       "111015                                                 0.0   \n",
       "\n",
       "[5 rows x 527 columns]"
      ]
     },
     "execution_count": 28,
     "metadata": {},
     "output_type": "execute_result"
    }
   ],
   "source": [
    "df_filtered.head()"
   ]
  },
  {
   "cell_type": "code",
   "execution_count": null,
   "metadata": {},
   "outputs": [],
   "source": []
  },
  {
   "cell_type": "code",
   "execution_count": null,
   "metadata": {},
   "outputs": [],
   "source": [
    "df_filtered"
   ]
  },
  {
   "cell_type": "code",
   "execution_count": null,
   "metadata": {},
   "outputs": [],
   "source": [
    "df_upstream"
   ]
  },
  {
   "cell_type": "code",
   "execution_count": null,
   "metadata": {},
   "outputs": [],
   "source": [
    "dfOut"
   ]
  },
  {
   "cell_type": "code",
   "execution_count": null,
   "metadata": {
    "collapsed": true
   },
   "outputs": [],
   "source": [
    "dfOut.to_csv(os.path.join(EC2_OUTPUT_PATH,OUTPUT_FILENAME+\".csv\"))"
   ]
  },
  {
   "cell_type": "code",
   "execution_count": null,
   "metadata": {
    "collapsed": true
   },
   "outputs": [],
   "source": []
  },
  {
   "cell_type": "code",
   "execution_count": null,
   "metadata": {},
   "outputs": [],
   "source": []
  },
  {
   "cell_type": "code",
   "execution_count": null,
   "metadata": {},
   "outputs": [],
   "source": [
    "mp.cpu_count()"
   ]
  },
  {
   "cell_type": "code",
   "execution_count": null,
   "metadata": {
    "collapsed": true
   },
   "outputs": [],
   "source": [
    "indices_full = df_complete.index.values\n",
    "indices_split = np.array_split(indices_full, mp.cpu_count())"
   ]
  },
  {
   "cell_type": "code",
   "execution_count": null,
   "metadata": {},
   "outputs": [],
   "source": [
    "indices_split[1].shape"
   ]
  },
  {
   "cell_type": "code",
   "execution_count": null,
   "metadata": {},
   "outputs": [],
   "source": [
    "mp.log_to_stderr()"
   ]
  },
  {
   "cell_type": "code",
   "execution_count": null,
   "metadata": {
    "collapsed": true
   },
   "outputs": [],
   "source": [
    "logger = mp.get_logger()\n",
    "logger.setLevel(logging.INFO)"
   ]
  },
  {
   "cell_type": "code",
   "execution_count": null,
   "metadata": {},
   "outputs": [],
   "source": [
    "pool = mp.Pool(mp.cpu_count())"
   ]
  },
  {
   "cell_type": "code",
   "execution_count": null,
   "metadata": {
    "collapsed": true
   },
   "outputs": [],
   "source": [
    "df_upstream = pd.concat(pool.map(addUpstream2, indices_split))"
   ]
  },
  {
   "cell_type": "code",
   "execution_count": null,
   "metadata": {},
   "outputs": [],
   "source": [
    "df_upstream.loc[155697][\"upstream_total_volume_reducedmeanrunoff_year_Y1960Y2014\"]"
   ]
  },
  {
   "cell_type": "code",
   "execution_count": null,
   "metadata": {
    "collapsed": true
   },
   "outputs": [],
   "source": [
    "df_downstream = pd.concat(pool.map(addDownstream2, indices_split))"
   ]
  },
  {
   "cell_type": "code",
   "execution_count": null,
   "metadata": {
    "collapsed": true
   },
   "outputs": [],
   "source": [
    "df_basin = pd.concat(pool.map(addBasin2, indices_split))"
   ]
  },
  {
   "cell_type": "code",
   "execution_count": null,
   "metadata": {
    "collapsed": true
   },
   "outputs": [],
   "source": [
    "pool.close()"
   ]
  },
  {
   "cell_type": "code",
   "execution_count": null,
   "metadata": {
    "collapsed": true
   },
   "outputs": [],
   "source": [
    "df_complete = df_complete.merge(df_upstream,how=\"left\",left_index=True,right_index=True)"
   ]
  },
  {
   "cell_type": "code",
   "execution_count": null,
   "metadata": {
    "collapsed": true
   },
   "outputs": [],
   "source": [
    "df_complete = df_complete.merge(df_downstream,how=\"left\",left_index=True,right_index=True)"
   ]
  },
  {
   "cell_type": "code",
   "execution_count": null,
   "metadata": {
    "collapsed": true
   },
   "outputs": [],
   "source": [
    "df_complete = df_complete.merge(df_basin,how=\"left\",left_index=True,right_index=True)"
   ]
  },
  {
   "cell_type": "code",
   "execution_count": null,
   "metadata": {
    "collapsed": true
   },
   "outputs": [],
   "source": [
    "df_complete.to_pickle(os.path.join(EC2_OUTPUT_PATH,OUTPUT_FILENAME+\".pkl\"))"
   ]
  },
  {
   "cell_type": "code",
   "execution_count": null,
   "metadata": {
    "collapsed": true
   },
   "outputs": [],
   "source": [
    "df_complete.to_csv(os.path.join(EC2_OUTPUT_PATH,OUTPUT_FILENAME+\".csv\"))"
   ]
  },
  {
   "cell_type": "code",
   "execution_count": null,
   "metadata": {},
   "outputs": [],
   "source": [
    "!aws s3 cp {EC2_OUTPUT_PATH} {S3_OUTPUT_PATH} --recursive"
   ]
  },
  {
   "cell_type": "code",
   "execution_count": null,
   "metadata": {},
   "outputs": [],
   "source": [
    "df_complete.head()"
   ]
  },
  {
   "cell_type": "code",
   "execution_count": null,
   "metadata": {
    "scrolled": true
   },
   "outputs": [],
   "source": [
    "end = datetime.datetime.now()\n",
    "elapsed = end - start\n",
    "print(elapsed)"
   ]
  },
  {
   "cell_type": "code",
   "execution_count": null,
   "metadata": {
    "collapsed": true
   },
   "outputs": [],
   "source": []
  }
 ],
 "metadata": {
  "kernelspec": {
   "display_name": "Python 35",
   "language": "python",
   "name": "python35"
  },
  "language_info": {
   "codemirror_mode": {
    "name": "ipython",
    "version": 3
   },
   "file_extension": ".py",
   "mimetype": "text/x-python",
   "name": "python",
   "nbconvert_exporter": "python",
   "pygments_lexer": "ipython3",
   "version": "3.5.4"
  }
 },
 "nbformat": 4,
 "nbformat_minor": 2
}
