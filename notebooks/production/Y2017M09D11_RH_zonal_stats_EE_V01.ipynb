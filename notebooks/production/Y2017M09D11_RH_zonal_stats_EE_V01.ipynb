{
 "cells": [
  {
   "cell_type": "markdown",
   "metadata": {},
   "source": [
    "### Zonal Statistics using EE with PCRGlobWB data and hydroBasin level 6\n",
    "\n",
    "* Purpose of script: This script will perform a zonal statistics calculation using earth engine, PCRGlobWB data and Hydrobasin level 6 at 30s resolution. \n",
    "* Author: Rutger Hofste\n",
    "* Kernel used: python27\n",
    "* Date created: 20170911"
   ]
  },
  {
   "cell_type": "code",
   "execution_count": 1,
   "metadata": {},
   "outputs": [
    {
     "name": "stdout",
     "output_type": "stream",
     "text": [
      "('Y2017M09D13', 'UTC 18:48')\n"
     ]
    }
   ],
   "source": [
    "import time\n",
    "dateString = time.strftime(\"Y%YM%mD%d\")\n",
    "timeString = time.strftime(\"UTC %H:%M\")\n",
    "print(dateString,timeString)"
   ]
  },
  {
   "cell_type": "code",
   "execution_count": 2,
   "metadata": {
    "collapsed": true
   },
   "outputs": [],
   "source": [
    "import ee\n",
    "import numpy as np\n",
    "import subprocess\n",
    "from retrying import retry\n",
    "import itertools\n",
    "import re\n",
    "from pprint import *"
   ]
  },
  {
   "cell_type": "code",
   "execution_count": 3,
   "metadata": {
    "collapsed": true
   },
   "outputs": [],
   "source": [
    "ee.Initialize()"
   ]
  },
  {
   "cell_type": "markdown",
   "metadata": {},
   "source": [
    "## Settings"
   ]
  },
  {
   "cell_type": "code",
   "execution_count": 4,
   "metadata": {
    "collapsed": true
   },
   "outputs": [],
   "source": [
    "EE_PATH = \"projects/WRI-Aquaduct/PCRGlobWB20V07\"\n",
    "\n",
    "GCS_BUCKET= \"aqueduct30_v01\"\n",
    "GCS_OUTPUT_PATH = \"Y2017M09D11_RH_zonal_stats_EE_V01/\"\n",
    "\n",
    "HYBASLEVEL = 6\n",
    "\n",
    "DIMENSION5MIN = \"4320x2160\"\n",
    "DIMENSION30S = \"43200x21600\"\n",
    "CRS = \"EPSG:4326\"\n",
    "\n",
    "VERSION = 10\n",
    "\n",
    "HYDROBASINS = \"projects/WRI-Aquaduct/PCRGlobWB20V07/hybas_lev00_v1c_merged_fiona_30s_V01\"\n",
    "\n",
    "AREA5min = \"projects/WRI-Aquaduct/PCRGlobWB20V07/area_5min_m2V11\" \n",
    "AREA30s = \"projects/WRI-Aquaduct/PCRGlobWB20V07/area_30s_m2V11\"\n",
    "ONES5MIN =\"projects/WRI-Aquaduct/PCRGlobWB20V07/ones_5minV11\"\n",
    "ONES30s = \"projects/WRI-Aquaduct/PCRGlobWB20V07/ones_30sV11\"\n",
    "\n"
   ]
  },
  {
   "cell_type": "code",
   "execution_count": 5,
   "metadata": {
    "collapsed": true
   },
   "outputs": [],
   "source": [
    "reducers = ee.Reducer.mean().combine(reducer2= ee.Reducer.count(), sharedInputs= True)\n",
    "weightedReducers = reducers.splitWeights()"
   ]
  },
  {
   "cell_type": "code",
   "execution_count": 6,
   "metadata": {
    "collapsed": true
   },
   "outputs": [],
   "source": [
    "geometry = ee.Geometry.Polygon(coords=[[-180.0, -90.0], [180,  -90.0], [180, 90], [-180,90]], proj= ee.Projection('EPSG:4326'),geodesic=False )\n",
    "geometry = ee.Geometry.Polygon(coords=[[-10.0, -10.0], [10,  -10.0], [10, 10], [-10,10]], proj= ee.Projection('EPSG:4326'),geodesic=False )"
   ]
  },
  {
   "cell_type": "markdown",
   "metadata": {},
   "source": [
    "## Functions"
   ]
  },
  {
   "cell_type": "code",
   "execution_count": 7,
   "metadata": {
    "collapsed": true
   },
   "outputs": [],
   "source": [
    "def prepareZonalRaster(image):\n",
    "    image    = ee.Image(image)\n",
    "    newImage = ee.Image(image.divide(ee.Number(10).pow(ee.Number(12).subtract(HYBASLEVEL))).floor())\n",
    "    newImage = newImage.copyProperties(image)\n",
    "    newImage = ee.Image(newImage).toInt64().select([\"b1\"],[\"PfafID\"])\n",
    "    newImage = newImage.set({\"exportdescription\":\"Hybas%0.2d\" %(HYBASLEVEL)})     \n",
    "    return newImage\n",
    "\n",
    "def readAsset(assetId):\n",
    "    # this function will read both images and imageCollections \n",
    "    if ee.data.getInfo(assetId)[\"type\"] == \"Image\":\n",
    "        asset = ee.Image(assetId)\n",
    "        assetType = \"image\"\n",
    "        newAsset = ee.Image(checkUnits(asset))\n",
    "\n",
    "    elif ee.data.getInfo(assetId)[\"type\"] == \"ImageCollection\":\n",
    "        asset = ee.ImageCollection(assetId)\n",
    "        assetType = \"imageCollection\"\n",
    "        newAsset = ee.ImageCollection(asset.map(checkUnits))\n",
    "        \n",
    "    else:\n",
    "        print(\"error\")        \n",
    "    return {\"assetId\":assetId,\"asset\":newAsset,\"assetType\":assetType}\n",
    "\n",
    "def addSuffix(fc,suffix):\n",
    "    namesOld = ee.Feature(fc.first()).toDictionary().keys()\n",
    "    namesNew = namesOld.map(lambda x:ee.String(x).cat(\"_\").cat(ee.String(suffix)))\n",
    "    return fc.select(namesOld, namesNew)\n",
    "\n",
    "def zonalStats(valueImage, weightImage, zonesImage):\n",
    "    # ee export function is client side. getInfo required\n",
    "    suffix = ee.Image(valueImage).get(\"exportdescription\").getInfo() \n",
    "    scale = zonesImage.projection().nominalScale()\n",
    "    totalImage = ee.Image(valueImage).addBands(ee.Image(weightImage)).addBands(ee.Image(zonesImage))\n",
    "    resultsList = ee.List(totalImage.reduceRegion(\n",
    "        geometry= geometry,\n",
    "        reducer= weightedReducers.group(groupField= 2, groupName= \"PfafID\"),\n",
    "        scale= scale,\n",
    "        maxPixels= 1e10\n",
    "        ).get(\"groups\"))\n",
    "    fc = ee.FeatureCollection(resultsList.map(lambda listItem: ee.Feature(None,listItem)))\n",
    "    fc2 = addSuffix(fc, suffix)\n",
    "    fc2 = fc2.copyProperties(valueImage)\n",
    "    return fc2\n",
    "\n",
    "def volumeToFlux(image):\n",
    "    image = ee.Image(image)\n",
    "    image = image.divide(ee.Image(AREA5min)).multiply(1e6).copyProperties(image)\n",
    "    image = image.set(\"units\",\"m\")\n",
    "    image = image.set(\"convertedToFlux\", 1)\n",
    "    return image\n",
    "\n",
    "def checkUnits(image):\n",
    "    # function is server side\n",
    "    image = ee.Image(image)\n",
    "    condition = ee.Algorithms.IsEqual(image.get(\"units\"),ee.String(\"millionm3\"))\n",
    "    trueCase = volumeToFlux(image)\n",
    "    falseCase = image\n",
    "    outImage = ee.Algorithms.If(condition,trueCase,falseCase)\n",
    "    return ee.Image(outImage)\n",
    "\n",
    "def addWeightImage(d):\n",
    "    if d[\"PCRGlobWB\"] = 1 :\n",
    "        print(\"added area as weights\")\n",
    "\n",
    "\n",
    "        \n",
    "#@retry(wait_exponential_multiplier=10000, wait_exponential_max=100000)\n",
    "def export(fc):\n",
    "    # Make sure your fc has an attribute called exportdescription.    \n",
    "    # There is a bug in ee that adds ee_export.csv to your filename. Will remove in next steps\n",
    "    fc = ee.FeatureCollection(fc)\n",
    "    description = fc.get(\"exportdescription\").getInfo() + \"V%0.2d\" %(VERSION)\n",
    "    fileName = fc.get(\"exportdescription\").getInfo() + \"V%0.2d\" %(VERSION)\n",
    "    myExportFC = ee.batch.Export.table.toCloudStorage(collection=fc,\n",
    "                                                    description= description,\n",
    "                                                    bucket = GCS_BUCKET,\n",
    "                                                    fileNamePrefix= GCS_OUTPUT_PATH  + fileName ,\n",
    "                                                    fileFormat=\"CSV\")\n",
    "    myExportFC.start()\n",
    "    "
   ]
  },
  {
   "cell_type": "code",
   "execution_count": 8,
   "metadata": {
    "collapsed": true
   },
   "outputs": [],
   "source": [
    "command = \"earthengine ls %s\" %(EE_PATH)"
   ]
  },
  {
   "cell_type": "code",
   "execution_count": 9,
   "metadata": {
    "collapsed": true
   },
   "outputs": [],
   "source": [
    "assetList = subprocess.check_output(command,shell=True).splitlines()"
   ]
  },
  {
   "cell_type": "markdown",
   "metadata": {},
   "source": [
    "## Script\n",
    "\n",
    "This script consists of several parts:\n",
    "1. Auxiliary data  \n",
    "    This includes area cell count, avarage cell size\n",
    "1. Supply Data  \n",
    "    zonal stats for long term average supply (1960-2014)\n",
    "1. Demand Data  \n",
    "    zonal stats for all combinations of Dom, Ind, Irr, IrrLinear, Liv and WW, WN\n",
    "\n"
   ]
  },
  {
   "cell_type": "markdown",
   "metadata": {},
   "source": [
    "### Auxiliary Data"
   ]
  },
  {
   "cell_type": "code",
   "execution_count": 10,
   "metadata": {
    "collapsed": true
   },
   "outputs": [],
   "source": [
    "d ={}"
   ]
  },
  {
   "cell_type": "code",
   "execution_count": 11,
   "metadata": {
    "scrolled": true
   },
   "outputs": [],
   "source": [
    "d[\"zones\"] = readAsset(HYDROBASINS) \n",
    "d[\"area_5min\"] = readAsset(AREA5min)\n",
    "d[\"area_30s\"] = readAsset(AREA30s)\n",
    "d[\"ones_5min\"] = readAsset(ONES5MIN)\n",
    "d[\"ones_30s\"] = readAsset(ONES30s)\n",
    "\n",
    "d[\"zones\"][\"image\"] = prepareZonalRaster(ee.Image(HYDROBASINS))\n"
   ]
  },
  {
   "cell_type": "code",
   "execution_count": 12,
   "metadata": {
    "collapsed": true
   },
   "outputs": [],
   "source": [
    "dOut ={}"
   ]
  },
  {
   "cell_type": "code",
   "execution_count": 13,
   "metadata": {
    "collapsed": true
   },
   "outputs": [],
   "source": [
    "dOut[\"area30s\"] = zonalStats(d[\"area30s\"][\"asset\"], d[\"ones30s\"][\"asset\"],d[\"zones\"][\"asset\"])"
   ]
  },
  {
   "cell_type": "markdown",
   "metadata": {
    "collapsed": true
   },
   "source": [
    "### PCRGLOBWB Data"
   ]
  },
  {
   "cell_type": "code",
   "execution_count": 18,
   "metadata": {
    "collapsed": true
   },
   "outputs": [],
   "source": [
    "sectors = [\"Dom\",\"Ind\",\"Irr\",\"IrrLinear\",\"Liv\"]\n",
    "parameters = [\"WW\",\"WN\"]\n",
    "temporalScales = [\"year\",\"month\"]\n",
    "runoffparameters = [\"runoff\",\"reducedmeanrunoff\"]"
   ]
  },
  {
   "cell_type": "code",
   "execution_count": 15,
   "metadata": {},
   "outputs": [],
   "source": [
    "# for testing purposes\n",
    "\n",
    "sectors = [\"Dom\"]\n",
    "parameters = [\"WW\"]\n",
    "temporalScales = [\"year\"]\n",
    "\n",
    "for r in itertools.product(sectors,parameters, temporalScales): \n",
    "    regex = \"%s%s_%s\" %(r[0],r[1],r[2])\n",
    "    for assetId in assetList:\n",
    "        if re.search(regex,assetId):\n",
    "            d[regex] = readAsset(assetId)\n",
    "            d[regex][\"PCRGlobWB\"] = 1 \n",
    "            \n",
    "            "
   ]
  },
  {
   "cell_type": "code",
   "execution_count": 22,
   "metadata": {},
   "outputs": [],
   "source": [
    "for r in itertools.product(runoffparameters, temporalScales): \n",
    "    regex = \"%s_%s\" %(r[0],r[1])\n",
    "    for assetId in assetList:\n",
    "        if re.search(regex,assetId):\n",
    "            d[regex] = readAsset(assetId)\n",
    "            d[regex][\"PCRGlobWB\"] = 1 \n",
    "\n",
    "    \n",
    "    "
   ]
  },
  {
   "cell_type": "code",
   "execution_count": 23,
   "metadata": {},
   "outputs": [
    {
     "name": "stdout",
     "output_type": "stream",
     "text": [
      "{'DomWW_year': {'PCRGlobWB': 1,\n",
      "                'asset': <ee.imagecollection.ImageCollection object at 0x7fd2d515d750>,\n",
      "                'assetId': 'projects/WRI-Aquaduct/PCRGlobWB20V07/global_historical_PDomWW_year_millionm3_5min_1960_2014',\n",
      "                'assetType': 'imageCollection'},\n",
      " 'area30s': {'asset': <ee.image.Image object at 0x7fd2d5168110>,\n",
      "             'assetId': 'projects/WRI-Aquaduct/PCRGlobWB20V07/area_30s_m2V11',\n",
      "             'assetType': 'image'},\n",
      " 'area5min': {'asset': <ee.image.Image object at 0x7fd2d514fb50>,\n",
      "              'assetId': 'projects/WRI-Aquaduct/PCRGlobWB20V07/area_5min_m2V11',\n",
      "              'assetType': 'image'},\n",
      " 'ones30s': {'asset': <ee.image.Image object at 0x7fd2d5168c10>,\n",
      "             'assetId': 'projects/WRI-Aquaduct/PCRGlobWB20V07/ones_30sV11',\n",
      "             'assetType': 'image'},\n",
      " 'ones5min': {'asset': <ee.image.Image object at 0x7fd2d5168690>,\n",
      "              'assetId': 'projects/WRI-Aquaduct/PCRGlobWB20V07/ones_5minV11',\n",
      "              'assetType': 'image'},\n",
      " 'reducedmeanrunoff_month': {'PCRGlobWB': 1,\n",
      "                             'asset': <ee.imagecollection.ImageCollection object at 0x7fd2d5140c10>,\n",
      "                             'assetId': 'projects/WRI-Aquaduct/PCRGlobWB20V07/global_historical_reducedmeanrunoff_month_mmonth_5min_1960_2014V14',\n",
      "                             'assetType': 'imageCollection'},\n",
      " 'reducedmeanrunoff_year': {'PCRGlobWB': 1,\n",
      "                            'asset': <ee.imagecollection.ImageCollection object at 0x7fd2d50dd490>,\n",
      "                            'assetId': 'projects/WRI-Aquaduct/PCRGlobWB20V07/global_historical_reducedmeanrunoff_year_myear_5min_1960_2014V14',\n",
      "                            'assetType': 'imageCollection'},\n",
      " 'runoff_month': {'PCRGlobWB': 1,\n",
      "                  'asset': <ee.imagecollection.ImageCollection object at 0x7fd2d52dcb10>,\n",
      "                  'assetId': 'projects/WRI-Aquaduct/PCRGlobWB20V07/global_historical_runoff_month_mmonth_5min_1958_2014',\n",
      "                  'assetType': 'imageCollection'},\n",
      " 'runoff_year': {'PCRGlobWB': 1,\n",
      "                 'asset': <ee.imagecollection.ImageCollection object at 0x7fd2d50ddd10>,\n",
      "                 'assetId': 'projects/WRI-Aquaduct/PCRGlobWB20V07/global_historical_runoff_year_myear_5min_1958_2014',\n",
      "                 'assetType': 'imageCollection'},\n",
      " 'zones': {'asset': <ee.image.Image object at 0x7fd2d514f5d0>,\n",
      "           'assetId': 'projects/WRI-Aquaduct/PCRGlobWB20V07/hybas_lev00_v1c_merged_fiona_30s_V01',\n",
      "           'assetType': 'image',\n",
      "           'image': <ee.image.Image object at 0x7fd2d5168f50>}}\n"
     ]
    }
   ],
   "source": [
    "pprint(d)"
   ]
  },
  {
   "cell_type": "code",
   "execution_count": null,
   "metadata": {
    "collapsed": true
   },
   "outputs": [],
   "source": [
    "for key, value in d.iteritems():\n",
    "    "
   ]
  }
 ],
 "metadata": {
  "kernelspec": {
   "display_name": "Python 27",
   "language": "python",
   "name": "python27"
  },
  "language_info": {
   "codemirror_mode": {
    "name": "ipython",
    "version": 2
   },
   "file_extension": ".py",
   "mimetype": "text/x-python",
   "name": "python",
   "nbconvert_exporter": "python",
   "pygments_lexer": "ipython2",
   "version": "2.7.13"
  }
 },
 "nbformat": 4,
 "nbformat_minor": 2
}
