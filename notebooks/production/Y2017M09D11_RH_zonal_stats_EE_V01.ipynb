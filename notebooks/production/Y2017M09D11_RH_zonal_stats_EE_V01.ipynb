{
 "cells": [
  {
   "cell_type": "markdown",
   "metadata": {},
   "source": [
    "### Zonal Statistics using EE with PCRGlobWB data and hydroBasin level 6\n",
    "\n",
    "* Purpose of script: This script will perform a zonal statistics calculation using earth engine, PCRGlobWB data and Hydrobasin level 6 at 30s resolution. \n",
    "* Author: Rutger Hofste\n",
    "* Kernel used: python27\n",
    "* Date created: 20170911"
   ]
  },
  {
   "cell_type": "code",
   "execution_count": 1,
   "metadata": {},
   "outputs": [
    {
     "name": "stdout",
     "output_type": "stream",
     "text": [
      "('Y2017M09D11', 'UTC 23:13')\n"
     ]
    }
   ],
   "source": [
    "import time\n",
    "dateString = time.strftime(\"Y%YM%mD%d\")\n",
    "timeString = time.strftime(\"UTC %H:%M\")\n",
    "print(dateString,timeString)"
   ]
  },
  {
   "cell_type": "code",
   "execution_count": 2,
   "metadata": {},
   "outputs": [],
   "source": [
    "import ee\n",
    "import numpy as np\n",
    "import subprocess\n",
    "from retrying import retry"
   ]
  },
  {
   "cell_type": "code",
   "execution_count": 3,
   "metadata": {
    "collapsed": true
   },
   "outputs": [],
   "source": [
    "ee.Initialize()"
   ]
  },
  {
   "cell_type": "markdown",
   "metadata": {},
   "source": [
    "## Settings"
   ]
  },
  {
   "cell_type": "code",
   "execution_count": 4,
   "metadata": {
    "collapsed": true
   },
   "outputs": [],
   "source": [
    "EE_PATH = \"projects/WRI-Aquaduct/PCRGlobWB20V07\"\n",
    "\n",
    "HYBASLEVEL = 6\n",
    "\n",
    "DIMENSION5MIN = \"4320x2160\"\n",
    "DIMENSION30S = \"43200x21600\"\n",
    "CRS = \"EPSG:4326\"\n",
    "\n",
    "VERSION = 10\n",
    "\n",
    "HYDROBASINS_IMAGE = \"projects/WRI-Aquaduct/PCRGlobWB20V07/hybas_lev00_v1c_merged_fiona_30s_V01\"\n",
    "\n",
    "AREA5min = \"projects/WRI-Aquaduct/PCRGlobWB20V07/area_5min_m2V11\" \n",
    "AREA30s = \"projects/WRI-Aquaduct/PCRGlobWB20V07/area_30s_m2V11\"\n",
    "ONES5MIN =\"projects/WRI-Aquaduct/PCRGlobWB20V07/ones_5minV11\"\n",
    "ONES30s = \"projects/WRI-Aquaduct/PCRGlobWB20V07/ones_30sV11\"\n",
    "\n"
   ]
  },
  {
   "cell_type": "code",
   "execution_count": 20,
   "metadata": {
    "collapsed": true
   },
   "outputs": [],
   "source": [
    "reducers = ee.Reducer.mean().combine(reducer2= ee.Reducer.count(), sharedInputs= True)\n",
    "weightedReducers = reducers.splitWeights()"
   ]
  },
  {
   "cell_type": "code",
   "execution_count": 5,
   "metadata": {
    "collapsed": true
   },
   "outputs": [],
   "source": [
    "geometry = ee.Geometry.Polygon(coords=[[-180.0, -90.0], [180,  -90.0], [180, 90], [-180,90]], proj= ee.Projection('EPSG:4326'),geodesic=False )\n",
    "geometry = ee.Geometry.Polygon(coords=[[-10.0, -10.0], [10,  -10.0], [10, 10], [-10,10]], proj= ee.Projection('EPSG:4326'),geodesic=False )"
   ]
  },
  {
   "cell_type": "markdown",
   "metadata": {},
   "source": [
    "## Functions"
   ]
  },
  {
   "cell_type": "code",
   "execution_count": 34,
   "metadata": {
    "collapsed": true
   },
   "outputs": [],
   "source": [
    "def prepareZonalRaster(image):\n",
    "    image    = ee.Image(image)\n",
    "    newImage = ee.Image(image.divide(ee.Number(10).pow(ee.Number(12).subtract(HYBASLEVEL))).floor())\n",
    "    newImage = newImage.copyProperties(image)\n",
    "    newImage = ee.Image(newImage).toInt64().select([\"b1\"],[\"PfafID\"])\n",
    "    newImage = newImage.set({\"exportdescription\":\"Hybas%0.2d\" %(HYBASLEVEL)})     \n",
    "    return newImage\n",
    "\n",
    "def readAsset(assetId):\n",
    "    try:\n",
    "        asset = ee.Image(assetId)\n",
    "        assetType = \"image\"\n",
    "    except:\n",
    "        asset = ee.ImageCollection(assetId)\n",
    "        assetType = \"imageCollection\"\n",
    "    return {\"assetId\":assetId,\"asset\":asset,\"assetType\":assetType}\n",
    "\n",
    "def addSuffix(fc,suffix):\n",
    "    namesOld = ee.Feature(fc.first()).toDictionary().keys()\n",
    "    namesNew = namesOld.map(lambda x:ee.String(x).cat(ee.String(suffix)))\n",
    "    return fc.select(namesOld, namesNew)\n",
    "\n",
    "def zonalStats(valueImage, weightImage, zonesImage, suffix):\n",
    "    scale = zonesImage.projection().nominalScale()\n",
    "    totalImage = ee.Image(valueImage).addBands(ee.Image(weightImage)).addBands(ee.Image(zonesImage))\n",
    "    resultsList = ee.List(totalImage.reduceRegion(\n",
    "        geometry= geometry,\n",
    "        reducer= weightedReducers.group(groupField= 2, groupName= \"PfafID\"),\n",
    "        scale= scale,\n",
    "        maxPixels= 1e10\n",
    "        ).get(\"groups\"))\n",
    "    fc = ee.FeatureCollection(resultsList.map(lambda listItem: ee.Feature(None,listItem)))\n",
    "    fc2 = addSuffix(fc, suffix)\n",
    "    fc2 = fc2.copyProperties(valueImage)\n",
    "    return fc2\n",
    "\n",
    "#@retry(wait_exponential_multiplier=10000, wait_exponential_max=100000)\n",
    "def export(fc,description,version):\n",
    "    fc = ee.FeatureCollection(fc)\n",
    "    myExportFC = ee.batch.Export.table.toDrive(collection=fc,\n",
    "                                                description=description + \"%0.2d\" %(version),\n",
    "                                                folder=\"EEOutput%0.2d\" %version, \n",
    "                                                fileNamePrefix=description+\"%0.2d\" %(version),\n",
    "                                                fileFormat=\"CSV\")\n",
    "    myExportFC.start()\n",
    "    "
   ]
  },
  {
   "cell_type": "code",
   "execution_count": 35,
   "metadata": {
    "collapsed": true
   },
   "outputs": [],
   "source": [
    "command = \"earthengine ls %s\" %(EE_PATH)"
   ]
  },
  {
   "cell_type": "code",
   "execution_count": 36,
   "metadata": {
    "collapsed": true
   },
   "outputs": [],
   "source": [
    "assetList = subprocess.check_output(command,shell=True).splitlines()"
   ]
  },
  {
   "cell_type": "markdown",
   "metadata": {},
   "source": [
    "## Script\n",
    "\n",
    "This script consists of several parts:\n",
    "1. Auxiliary data  \n",
    "    This includes area cell count, avarage cell size\n",
    "1. Supply Data  \n",
    "    zonal stats for long term average supply (1960-2014)\n",
    "1. Demand Data  \n",
    "    zonal stats for all combinations of Dom, Ind, Irr, IrrLinear, Liv and WW, WN\n",
    "\n"
   ]
  },
  {
   "cell_type": "markdown",
   "metadata": {},
   "source": [
    "### Auxiliary Data"
   ]
  },
  {
   "cell_type": "code",
   "execution_count": 37,
   "metadata": {},
   "outputs": [],
   "source": [
    "hydroBasins06Image = prepareZonalRaster(ee.Image(HYDROBASINS_IMAGE))"
   ]
  },
  {
   "cell_type": "code",
   "execution_count": 38,
   "metadata": {
    "collapsed": true
   },
   "outputs": [],
   "source": [
    "d ={}"
   ]
  },
  {
   "cell_type": "code",
   "execution_count": 39,
   "metadata": {},
   "outputs": [],
   "source": [
    "d[\"zones\"] = readAsset(hydroBasins06Image) \n",
    "d[\"area5min\"] = readAsset(AREA5min)\n",
    "d[\"area30s\"] = readAsset(AREA30s)\n",
    "d[\"ones5min\"] = readAsset(ONES5MIN)\n",
    "d[\"ones30s\"] = readAsset(ONES30s)\n",
    "\n"
   ]
  },
  {
   "cell_type": "code",
   "execution_count": 40,
   "metadata": {},
   "outputs": [],
   "source": [
    "fc2 = zonalStats(d[\"area30s\"][\"asset\"], d[\"ones30s\"][\"asset\"],d[\"zones\"][\"asset\"], \"test%0.2d\" %VERSION) "
   ]
  },
  {
   "cell_type": "code",
   "execution_count": 41,
   "metadata": {},
   "outputs": [],
   "source": [
    "export(fc2,\"latest\",VERSION)"
   ]
  },
  {
   "cell_type": "code",
   "execution_count": null,
   "metadata": {
    "collapsed": true
   },
   "outputs": [],
   "source": []
  }
 ],
 "metadata": {
  "kernelspec": {
   "display_name": "Python 27",
   "language": "python",
   "name": "python27"
  },
  "language_info": {
   "codemirror_mode": {
    "name": "ipython",
    "version": 2
   },
   "file_extension": ".py",
   "mimetype": "text/x-python",
   "name": "python",
   "nbconvert_exporter": "python",
   "pygments_lexer": "ipython2",
   "version": "2.7.13"
  }
 },
 "nbformat": 4,
 "nbformat_minor": 2
}
