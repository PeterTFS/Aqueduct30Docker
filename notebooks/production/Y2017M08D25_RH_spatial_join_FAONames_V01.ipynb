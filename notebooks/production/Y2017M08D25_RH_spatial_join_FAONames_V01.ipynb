{
 "cells": [
  {
   "cell_type": "markdown",
   "metadata": {},
   "source": [
    "### Spatially Join FAO Names to hydrobasins level 6\n",
    "\n",
    "* Purpose of script: Spatially join FAO Names hydrobasins to the official HydroBasins level 6 polygons\n",
    "* Author: Rutger Hofste\n",
    "* Kernel used: python35\n",
    "* Date created: 20170825"
   ]
  },
  {
   "cell_type": "code",
   "execution_count": 1,
   "metadata": {
    "collapsed": true
   },
   "outputs": [],
   "source": [
    "S3_INPUT_PATH_FAO = \"s3://wri-projects/Aqueduct30/processData/Y2017M08D23_RH_Buffer_FAONames_V01/output/\"\n",
    "S3_INPUT_PATH_HYBAS = \"s3://wri-projects/Aqueduct30/processData/Y2017M08D02_RH_Merge_HydroBasins_V01/output/\"\n",
    "S3_OUTPUT_PATH = \"s3://wri-projects/Aqueduct30/processData/Y2017M08D25_RH_spatial_join_FAONames_V01/output/\"\n",
    "EC2_INPUT_PATH = \"/volumes/data/Y2017M08D25_RH_spatial_join_FAONames_V01/input/\"\n",
    "EC2_OUTPUT_PATH = \"/volumes/data/Y2017M08D25_RH_spatial_join_FAONames_V01/output/\"\n",
    "INPUT_FILE_NAME_FAO = \"hydrobasins_fao_fiona_merged_buffered_v01.shp\"\n",
    "INPUT_FILE_NAME_HYBAS = \"hybas_lev06_v1c_merged_fiona_V01.shp\"\n",
    "OUTPUT_FILE_NAME = \"hybas_lev06_v1c_merged_fiona_withFAO_V01.csv\""
   ]
  },
  {
   "cell_type": "code",
   "execution_count": 2,
   "metadata": {
    "collapsed": true
   },
   "outputs": [],
   "source": [
    "!rm -r {EC2_INPUT_PATH}\n",
    "!rm -r {EC2_OUTPUT_PATH}\n",
    "\n",
    "!mkdir -p {EC2_INPUT_PATH}\n",
    "!mkdir -p {EC2_OUTPUT_PATH}"
   ]
  },
  {
   "cell_type": "code",
   "execution_count": 7,
   "metadata": {},
   "outputs": [
    {
     "name": "stdout",
     "output_type": "stream",
     "text": [
      "download: s3://wri-projects/Aqueduct30/processData/Y2017M08D23_RH_Buffer_FAONames_V01/output/hydrobasins_fao_fiona_merged_buffered_v01.cpg to ../../../../data/Y2017M08D25_RH_spatial_join_FAONames_V01/input/hydrobasins_fao_fiona_merged_buffered_v01.cpg\n",
      "download: s3://wri-projects/Aqueduct30/processData/Y2017M08D23_RH_Buffer_FAONames_V01/output/hydrobasins_fao_fiona_merged_buffered_v01.prj to ../../../../data/Y2017M08D25_RH_spatial_join_FAONames_V01/input/hydrobasins_fao_fiona_merged_buffered_v01.prj\n",
      "download: s3://wri-projects/Aqueduct30/processData/Y2017M08D23_RH_Buffer_FAONames_V01/output/hydrobasins_fao_fiona_merged_buffered_v01.shx to ../../../../data/Y2017M08D25_RH_spatial_join_FAONames_V01/input/hydrobasins_fao_fiona_merged_buffered_v01.shx\n",
      "download: s3://wri-projects/Aqueduct30/processData/Y2017M08D23_RH_Buffer_FAONames_V01/output/hydrobasins_fao_fiona_merged_buffered_v01.dbf to ../../../../data/Y2017M08D25_RH_spatial_join_FAONames_V01/input/hydrobasins_fao_fiona_merged_buffered_v01.dbf\n",
      "download: s3://wri-projects/Aqueduct30/processData/Y2017M08D23_RH_Buffer_FAONames_V01/output/hydrobasins_fao_fiona_merged_buffered_v01.shp to ../../../../data/Y2017M08D25_RH_spatial_join_FAONames_V01/input/hydrobasins_fao_fiona_merged_buffered_v01.shp\n"
     ]
    }
   ],
   "source": [
    "!aws s3 cp {S3_INPUT_PATH_FAO} {EC2_INPUT_PATH} --recursive "
   ]
  },
  {
   "cell_type": "code",
   "execution_count": 4,
   "metadata": {},
   "outputs": [
    {
     "name": "stdout",
     "output_type": "stream",
     "text": [
      "download: s3://wri-projects/Aqueduct30/processData/Y2017M08D02_RH_Merge_HydroBasins_V01/output/hybas_lev00_v1c_merged_fiona_V01.cpg to ../../../../data/Y2017M08D25_RH_spatial_join_FAONames_V01/input/hybas_lev00_v1c_merged_fiona_V01.cpg\n",
      "download: s3://wri-projects/Aqueduct30/processData/Y2017M08D02_RH_Merge_HydroBasins_V01/output/hybas_lev06_v1c_merged_fiona_V01.cpg to ../../../../data/Y2017M08D25_RH_spatial_join_FAONames_V01/input/hybas_lev06_v1c_merged_fiona_V01.cpg\n",
      "download: s3://wri-projects/Aqueduct30/processData/Y2017M08D02_RH_Merge_HydroBasins_V01/output/hybas_lev00_v1c_merged_fiona_V01.prj to ../../../../data/Y2017M08D25_RH_spatial_join_FAONames_V01/input/hybas_lev00_v1c_merged_fiona_V01.prj\n",
      "download: s3://wri-projects/Aqueduct30/processData/Y2017M08D02_RH_Merge_HydroBasins_V01/output/hybas_lev06_v1c_merged_fiona_V01.prj to ../../../../data/Y2017M08D25_RH_spatial_join_FAONames_V01/input/hybas_lev06_v1c_merged_fiona_V01.prj\n",
      "download: s3://wri-projects/Aqueduct30/processData/Y2017M08D02_RH_Merge_HydroBasins_V01/output/hybas_lev06_v1c_merged_fiona_V01.dbf to ../../../../data/Y2017M08D25_RH_spatial_join_FAONames_V01/input/hybas_lev06_v1c_merged_fiona_V01.dbf\n",
      "download: s3://wri-projects/Aqueduct30/processData/Y2017M08D02_RH_Merge_HydroBasins_V01/output/hybas_lev06_v1c_merged_fiona_V01.shx to ../../../../data/Y2017M08D25_RH_spatial_join_FAONames_V01/input/hybas_lev06_v1c_merged_fiona_V01.shx\n",
      "download: s3://wri-projects/Aqueduct30/processData/Y2017M08D02_RH_Merge_HydroBasins_V01/output/hybas_lev00_v1c_merged_fiona_V01.shx to ../../../../data/Y2017M08D25_RH_spatial_join_FAONames_V01/input/hybas_lev00_v1c_merged_fiona_V01.shx\n",
      "download: s3://wri-projects/Aqueduct30/processData/Y2017M08D02_RH_Merge_HydroBasins_V01/output/hybas_lev06_v1c_merged_fiona_V01.shp to ../../../../data/Y2017M08D25_RH_spatial_join_FAONames_V01/input/hybas_lev06_v1c_merged_fiona_V01.shp\n",
      "download: s3://wri-projects/Aqueduct30/processData/Y2017M08D02_RH_Merge_HydroBasins_V01/output/hybas_lev00_v1c_merged_fiona_V01.dbf to ../../../../data/Y2017M08D25_RH_spatial_join_FAONames_V01/input/hybas_lev00_v1c_merged_fiona_V01.dbf\n",
      "download: s3://wri-projects/Aqueduct30/processData/Y2017M08D02_RH_Merge_HydroBasins_V01/output/hybas_lev00_v1c_merged_fiona_V01.shp to ../../../../data/Y2017M08D25_RH_spatial_join_FAONames_V01/input/hybas_lev00_v1c_merged_fiona_V01.shp\n"
     ]
    }
   ],
   "source": [
    "!aws s3 cp {S3_INPUT_PATH_HYBAS} {EC2_INPUT_PATH} --recursive --exclude *.tif"
   ]
  },
  {
   "cell_type": "code",
   "execution_count": 5,
   "metadata": {
    "collapsed": true
   },
   "outputs": [],
   "source": [
    "import os\n",
    "if 'GDAL_DATA' not in os.environ:\n",
    "    os.environ['GDAL_DATA'] = r'/usr/share/gdal/2.1'\n",
    "from osgeo import gdal,ogr,osr\n",
    "'GDAL_DATA' in os.environ\n",
    "# If false, the GDAL_DATA variable is set incorrectly. You need this variable to obtain the spatial reference\n",
    "import pandas as pd\n",
    "import geopandas as gpd\n",
    "import matplotlib.pyplot as plt\n",
    "import time\n",
    "%matplotlib notebook\n"
   ]
  },
  {
   "cell_type": "code",
   "execution_count": 8,
   "metadata": {
    "collapsed": true
   },
   "outputs": [],
   "source": [
    "gdfFAO = gpd.read_file(os.path.join(EC2_INPUT_PATH,INPUT_FILE_NAME_FAO))"
   ]
  },
  {
   "cell_type": "code",
   "execution_count": 9,
   "metadata": {},
   "outputs": [
    {
     "data": {
      "text/plain": [
       "['LEGEND',\n",
       " 'MAJ_AREA',\n",
       " 'MAJ_BAS',\n",
       " 'MAJ_NAME',\n",
       " 'SUB_AREA',\n",
       " 'SUB_BAS',\n",
       " 'SUB_NAME',\n",
       " 'TO_BAS',\n",
       " 'area',\n",
       " 'geometry',\n",
       " 'index1']"
      ]
     },
     "execution_count": 9,
     "metadata": {},
     "output_type": "execute_result"
    }
   ],
   "source": [
    "list(gdfFAO)"
   ]
  },
  {
   "cell_type": "code",
   "execution_count": 10,
   "metadata": {
    "collapsed": true
   },
   "outputs": [],
   "source": [
    "gdfHybas = gpd.read_file(os.path.join(EC2_INPUT_PATH,INPUT_FILE_NAME_HYBAS))"
   ]
  },
  {
   "cell_type": "code",
   "execution_count": 11,
   "metadata": {},
   "outputs": [
    {
     "data": {
      "text/plain": [
       "['COAST',\n",
       " 'DIST_MAIN',\n",
       " 'DIST_SINK',\n",
       " 'ENDO',\n",
       " 'HYBAS_ID',\n",
       " 'MAIN_BAS',\n",
       " 'NEXT_DOWN',\n",
       " 'NEXT_SINK',\n",
       " 'ORDER',\n",
       " 'PFAF_ID',\n",
       " 'SORT',\n",
       " 'SUB_AREA',\n",
       " 'UP_AREA',\n",
       " 'geometry']"
      ]
     },
     "execution_count": 11,
     "metadata": {},
     "output_type": "execute_result"
    }
   ],
   "source": [
    "list(gdfHybas)"
   ]
  },
  {
   "cell_type": "code",
   "execution_count": 12,
   "metadata": {},
   "outputs": [
    {
     "data": {
      "text/plain": [
       "COAST          int64\n",
       "DIST_MAIN    float64\n",
       "DIST_SINK    float64\n",
       "ENDO           int64\n",
       "HYBAS_ID       int64\n",
       "MAIN_BAS       int64\n",
       "NEXT_DOWN      int64\n",
       "NEXT_SINK      int64\n",
       "ORDER          int64\n",
       "PFAF_ID        int64\n",
       "SORT           int64\n",
       "SUB_AREA     float64\n",
       "UP_AREA      float64\n",
       "geometry      object\n",
       "dtype: object"
      ]
     },
     "execution_count": 12,
     "metadata": {},
     "output_type": "execute_result"
    }
   ],
   "source": [
    "gdfHybas.dtypes"
   ]
  },
  {
   "cell_type": "code",
   "execution_count": 13,
   "metadata": {},
   "outputs": [
    {
     "data": {
      "text/plain": [
       "LEGEND        int64\n",
       "MAJ_AREA      int64\n",
       "MAJ_BAS       int64\n",
       "MAJ_NAME     object\n",
       "SUB_AREA      int64\n",
       "SUB_BAS       int64\n",
       "SUB_NAME     object\n",
       "TO_BAS        int64\n",
       "area        float64\n",
       "geometry     object\n",
       "index1        int64\n",
       "dtype: object"
      ]
     },
     "execution_count": 13,
     "metadata": {},
     "output_type": "execute_result"
    }
   ],
   "source": [
    "gdfFAO.dtypes"
   ]
  },
  {
   "cell_type": "code",
   "execution_count": 14,
   "metadata": {
    "collapsed": true
   },
   "outputs": [],
   "source": [
    "gdfFAO['index1_copy'] = gdfFAO['index1']"
   ]
  },
  {
   "cell_type": "code",
   "execution_count": 15,
   "metadata": {
    "collapsed": true
   },
   "outputs": [],
   "source": [
    "gdfFAO = gdfFAO.set_index('index1')"
   ]
  },
  {
   "cell_type": "code",
   "execution_count": 16,
   "metadata": {},
   "outputs": [
    {
     "data": {
      "text/plain": [
       "'index1'"
      ]
     },
     "execution_count": 16,
     "metadata": {},
     "output_type": "execute_result"
    }
   ],
   "source": [
    "gdfFAO.index.name"
   ]
  },
  {
   "cell_type": "markdown",
   "metadata": {},
   "source": [
    "A spatial join was performed on the data. However the FAO polygons were stored as polygons and not as multi-polygons. The data also lacked a unique Identifier. The identifier consists of a combination of MAJ_BAS and SUB_BASE. The maximum length of MAJ_BAS is 4 and 6 for SUB_BAS (279252). We will store the identifier as a string with the format: MAJ_BASxxxxSUB_BASExxxxxx"
   ]
  },
  {
   "cell_type": "code",
   "execution_count": 17,
   "metadata": {
    "collapsed": true
   },
   "outputs": [],
   "source": [
    "gdfFAO['FAOid'] = gdfFAO.apply(lambda x:'MAJ_BAS_%0.4d_SUB_BASE_%0.7d' % (x['MAJ_BAS'],x['SUB_BAS']),axis=1)"
   ]
  },
  {
   "cell_type": "code",
   "execution_count": 18,
   "metadata": {},
   "outputs": [
    {
     "data": {
      "text/plain": [
       "'index1'"
      ]
     },
     "execution_count": 18,
     "metadata": {},
     "output_type": "execute_result"
    }
   ],
   "source": [
    "gdfFAO.index.name"
   ]
  },
  {
   "cell_type": "code",
   "execution_count": 20,
   "metadata": {
    "collapsed": true
   },
   "outputs": [],
   "source": [
    "dfFAO = gdfFAO.drop('geometry',1)"
   ]
  },
  {
   "cell_type": "code",
   "execution_count": 21,
   "metadata": {},
   "outputs": [
    {
     "data": {
      "text/html": [
       "<div>\n",
       "<style>\n",
       "    .dataframe thead tr:only-child th {\n",
       "        text-align: right;\n",
       "    }\n",
       "\n",
       "    .dataframe thead th {\n",
       "        text-align: left;\n",
       "    }\n",
       "\n",
       "    .dataframe tbody tr th {\n",
       "        vertical-align: top;\n",
       "    }\n",
       "</style>\n",
       "<table border=\"1\" class=\"dataframe\">\n",
       "  <thead>\n",
       "    <tr style=\"text-align: right;\">\n",
       "      <th></th>\n",
       "      <th>LEGEND</th>\n",
       "      <th>MAJ_AREA</th>\n",
       "      <th>MAJ_BAS</th>\n",
       "      <th>MAJ_NAME</th>\n",
       "      <th>SUB_AREA</th>\n",
       "      <th>SUB_BAS</th>\n",
       "      <th>SUB_NAME</th>\n",
       "      <th>TO_BAS</th>\n",
       "      <th>area</th>\n",
       "      <th>index1_copy</th>\n",
       "      <th>FAOid</th>\n",
       "    </tr>\n",
       "    <tr>\n",
       "      <th>index1</th>\n",
       "      <th></th>\n",
       "      <th></th>\n",
       "      <th></th>\n",
       "      <th></th>\n",
       "      <th></th>\n",
       "      <th></th>\n",
       "      <th></th>\n",
       "      <th></th>\n",
       "      <th></th>\n",
       "      <th></th>\n",
       "      <th></th>\n",
       "    </tr>\n",
       "  </thead>\n",
       "  <tbody>\n",
       "    <tr>\n",
       "      <th>0</th>\n",
       "      <td>1</td>\n",
       "      <td>318639</td>\n",
       "      <td>6001</td>\n",
       "      <td>Black Sea, South Coast</td>\n",
       "      <td>24573</td>\n",
       "      <td>1001</td>\n",
       "      <td>Bursa / Balikesir</td>\n",
       "      <td>-999</td>\n",
       "      <td>2.550863</td>\n",
       "      <td>0</td>\n",
       "      <td>MAJ_BAS_6001_SUB_BASE_0001001</td>\n",
       "    </tr>\n",
       "    <tr>\n",
       "      <th>1</th>\n",
       "      <td>1</td>\n",
       "      <td>318639</td>\n",
       "      <td>6001</td>\n",
       "      <td>Black Sea, South Coast</td>\n",
       "      <td>7803</td>\n",
       "      <td>1002</td>\n",
       "      <td>Kocaeli</td>\n",
       "      <td>-999</td>\n",
       "      <td>0.811355</td>\n",
       "      <td>1</td>\n",
       "      <td>MAJ_BAS_6001_SUB_BASE_0001002</td>\n",
       "    </tr>\n",
       "    <tr>\n",
       "      <th>2</th>\n",
       "      <td>1</td>\n",
       "      <td>318639</td>\n",
       "      <td>6001</td>\n",
       "      <td>Black Sea, South Coast</td>\n",
       "      <td>63081</td>\n",
       "      <td>1003</td>\n",
       "      <td>Sakarya River</td>\n",
       "      <td>-999</td>\n",
       "      <td>6.580240</td>\n",
       "      <td>2</td>\n",
       "      <td>MAJ_BAS_6001_SUB_BASE_0001003</td>\n",
       "    </tr>\n",
       "    <tr>\n",
       "      <th>3</th>\n",
       "      <td>1</td>\n",
       "      <td>318639</td>\n",
       "      <td>6001</td>\n",
       "      <td>Black Sea, South Coast</td>\n",
       "      <td>29866</td>\n",
       "      <td>1004</td>\n",
       "      <td>Duzce / Bolu / Zonguldak / Karabuk</td>\n",
       "      <td>-999</td>\n",
       "      <td>3.172792</td>\n",
       "      <td>3</td>\n",
       "      <td>MAJ_BAS_6001_SUB_BASE_0001004</td>\n",
       "    </tr>\n",
       "    <tr>\n",
       "      <th>4</th>\n",
       "      <td>1</td>\n",
       "      <td>318639</td>\n",
       "      <td>6001</td>\n",
       "      <td>Black Sea, South Coast</td>\n",
       "      <td>77771</td>\n",
       "      <td>1005</td>\n",
       "      <td>Kizilirmak River</td>\n",
       "      <td>-999</td>\n",
       "      <td>8.138718</td>\n",
       "      <td>4</td>\n",
       "      <td>MAJ_BAS_6001_SUB_BASE_0001005</td>\n",
       "    </tr>\n",
       "  </tbody>\n",
       "</table>\n",
       "</div>"
      ],
      "text/plain": [
       "        LEGEND  MAJ_AREA  MAJ_BAS                MAJ_NAME  SUB_AREA  SUB_BAS  \\\n",
       "index1                                                                         \n",
       "0            1    318639     6001  Black Sea, South Coast     24573     1001   \n",
       "1            1    318639     6001  Black Sea, South Coast      7803     1002   \n",
       "2            1    318639     6001  Black Sea, South Coast     63081     1003   \n",
       "3            1    318639     6001  Black Sea, South Coast     29866     1004   \n",
       "4            1    318639     6001  Black Sea, South Coast     77771     1005   \n",
       "\n",
       "                                  SUB_NAME  TO_BAS      area  index1_copy  \\\n",
       "index1                                                                      \n",
       "0                        Bursa / Balikesir    -999  2.550863            0   \n",
       "1                                  Kocaeli    -999  0.811355            1   \n",
       "2                            Sakarya River    -999  6.580240            2   \n",
       "3       Duzce / Bolu / Zonguldak / Karabuk    -999  3.172792            3   \n",
       "4                         Kizilirmak River    -999  8.138718            4   \n",
       "\n",
       "                                FAOid  \n",
       "index1                                 \n",
       "0       MAJ_BAS_6001_SUB_BASE_0001001  \n",
       "1       MAJ_BAS_6001_SUB_BASE_0001002  \n",
       "2       MAJ_BAS_6001_SUB_BASE_0001003  \n",
       "3       MAJ_BAS_6001_SUB_BASE_0001004  \n",
       "4       MAJ_BAS_6001_SUB_BASE_0001005  "
      ]
     },
     "execution_count": 21,
     "metadata": {},
     "output_type": "execute_result"
    }
   ],
   "source": [
    "dfFAO.head()"
   ]
  },
  {
   "cell_type": "code",
   "execution_count": 22,
   "metadata": {
    "collapsed": true
   },
   "outputs": [],
   "source": [
    "gdfFAO['FAOid_copy'] = gdfFAO['FAOid']"
   ]
  },
  {
   "cell_type": "code",
   "execution_count": 25,
   "metadata": {},
   "outputs": [
    {
     "data": {
      "text/plain": [
       "'FAOid'"
      ]
     },
     "execution_count": 25,
     "metadata": {},
     "output_type": "execute_result"
    }
   ],
   "source": [
    "gdfFAO.index.name"
   ]
  },
  {
   "cell_type": "code",
   "execution_count": 23,
   "metadata": {},
   "outputs": [
    {
     "data": {
      "text/plain": [
       "['LEGEND',\n",
       " 'MAJ_AREA',\n",
       " 'MAJ_BAS',\n",
       " 'MAJ_NAME',\n",
       " 'SUB_AREA',\n",
       " 'SUB_BAS',\n",
       " 'SUB_NAME',\n",
       " 'TO_BAS',\n",
       " 'area',\n",
       " 'geometry',\n",
       " 'index1_copy',\n",
       " 'FAOid',\n",
       " 'FAOid_copy']"
      ]
     },
     "execution_count": 23,
     "metadata": {},
     "output_type": "execute_result"
    }
   ],
   "source": [
    "list(gdfFAO)"
   ]
  },
  {
   "cell_type": "code",
   "execution_count": 24,
   "metadata": {
    "collapsed": true
   },
   "outputs": [],
   "source": [
    "gdfFAO = gdfFAO.dissolve(by='FAOid')"
   ]
  },
  {
   "cell_type": "code",
   "execution_count": null,
   "metadata": {
    "collapsed": true
   },
   "outputs": [],
   "source": [
    "list(gdfFAO)"
   ]
  },
  {
   "cell_type": "code",
   "execution_count": null,
   "metadata": {
    "collapsed": true
   },
   "outputs": [],
   "source": [
    "dfFAO = gdfFAO.drop('geometry',1)"
   ]
  },
  {
   "cell_type": "code",
   "execution_count": null,
   "metadata": {
    "collapsed": true
   },
   "outputs": [],
   "source": [
    "dfFAO.head()"
   ]
  },
  {
   "cell_type": "code",
   "execution_count": null,
   "metadata": {
    "collapsed": true
   },
   "outputs": [],
   "source": [
    "gdfFAOTest = gdfFAO.loc[100:200]"
   ]
  },
  {
   "cell_type": "code",
   "execution_count": null,
   "metadata": {
    "collapsed": true
   },
   "outputs": [],
   "source": [
    "validGeom = gdfFAO.geometry.is_valid"
   ]
  },
  {
   "cell_type": "code",
   "execution_count": 27,
   "metadata": {
    "collapsed": true
   },
   "outputs": [],
   "source": [
    "gdfFAO.crs = {'init': u'epsg:4326'}"
   ]
  },
  {
   "cell_type": "code",
   "execution_count": 29,
   "metadata": {
    "collapsed": true
   },
   "outputs": [],
   "source": [
    "gdfFAO = gdfFAO.set_index('index1_copy')"
   ]
  },
  {
   "cell_type": "code",
   "execution_count": 30,
   "metadata": {
    "collapsed": true
   },
   "outputs": [],
   "source": [
    "gdfJoined = gpd.sjoin(gdfHybas, gdfFAO ,how=\"left\", op='intersects')"
   ]
  },
  {
   "cell_type": "code",
   "execution_count": 31,
   "metadata": {},
   "outputs": [
    {
     "data": {
      "text/plain": [
       "['COAST',\n",
       " 'DIST_MAIN',\n",
       " 'DIST_SINK',\n",
       " 'ENDO',\n",
       " 'HYBAS_ID',\n",
       " 'MAIN_BAS',\n",
       " 'NEXT_DOWN',\n",
       " 'NEXT_SINK',\n",
       " 'ORDER',\n",
       " 'PFAF_ID',\n",
       " 'SORT',\n",
       " 'SUB_AREA_left',\n",
       " 'UP_AREA',\n",
       " 'geometry',\n",
       " 'index_right',\n",
       " 'LEGEND',\n",
       " 'MAJ_AREA',\n",
       " 'MAJ_BAS',\n",
       " 'MAJ_NAME',\n",
       " 'SUB_AREA_right',\n",
       " 'SUB_BAS',\n",
       " 'SUB_NAME',\n",
       " 'TO_BAS',\n",
       " 'area',\n",
       " 'FAOid_copy']"
      ]
     },
     "execution_count": 31,
     "metadata": {},
     "output_type": "execute_result"
    }
   ],
   "source": [
    "list(gdfJoined)"
   ]
  },
  {
   "cell_type": "code",
   "execution_count": 33,
   "metadata": {},
   "outputs": [
    {
     "data": {
      "text/plain": [
       "(24078, 25)"
      ]
     },
     "execution_count": 33,
     "metadata": {},
     "output_type": "execute_result"
    }
   ],
   "source": [
    "gdfJoined.shape"
   ]
  },
  {
   "cell_type": "code",
   "execution_count": 37,
   "metadata": {
    "collapsed": true
   },
   "outputs": [],
   "source": [
    "series = gdfJoined.groupby('PFAF_ID')['SUB_NAME'].apply(list)\n",
    "series2 = gdfJoined.groupby('PFAF_ID')['MAJ_NAME'].apply(list)\n",
    "series3 = gdfJoined.groupby('PFAF_ID')['FAOid_copy'].apply(list)"
   ]
  },
  {
   "cell_type": "code",
   "execution_count": 38,
   "metadata": {
    "collapsed": true
   },
   "outputs": [],
   "source": [
    "df_new1 = series.to_frame()\n",
    "df_new2 = series2.to_frame()\n",
    "df_new3 = series3.to_frame()"
   ]
  },
  {
   "cell_type": "code",
   "execution_count": 36,
   "metadata": {},
   "outputs": [
    {
     "data": {
      "text/html": [
       "<div>\n",
       "<style>\n",
       "    .dataframe thead tr:only-child th {\n",
       "        text-align: right;\n",
       "    }\n",
       "\n",
       "    .dataframe thead th {\n",
       "        text-align: left;\n",
       "    }\n",
       "\n",
       "    .dataframe tbody tr th {\n",
       "        vertical-align: top;\n",
       "    }\n",
       "</style>\n",
       "<table border=\"1\" class=\"dataframe\">\n",
       "  <thead>\n",
       "    <tr style=\"text-align: right;\">\n",
       "      <th></th>\n",
       "      <th>SUB_NAME</th>\n",
       "    </tr>\n",
       "    <tr>\n",
       "      <th>PFAF_ID</th>\n",
       "      <th></th>\n",
       "    </tr>\n",
       "  </thead>\n",
       "  <tbody>\n",
       "    <tr>\n",
       "      <th>111011</th>\n",
       "      <td>[Wadi El Naqa]</td>\n",
       "    </tr>\n",
       "    <tr>\n",
       "      <th>111012</th>\n",
       "      <td>[Egyptian east coast]</td>\n",
       "    </tr>\n",
       "    <tr>\n",
       "      <th>111013</th>\n",
       "      <td>[Egyptian east coast]</td>\n",
       "    </tr>\n",
       "    <tr>\n",
       "      <th>111014</th>\n",
       "      <td>[Egyptian east coast]</td>\n",
       "    </tr>\n",
       "    <tr>\n",
       "      <th>111015</th>\n",
       "      <td>[Egyptian east coast]</td>\n",
       "    </tr>\n",
       "  </tbody>\n",
       "</table>\n",
       "</div>"
      ],
      "text/plain": [
       "                      SUB_NAME\n",
       "PFAF_ID                       \n",
       "111011          [Wadi El Naqa]\n",
       "111012   [Egyptian east coast]\n",
       "111013   [Egyptian east coast]\n",
       "111014   [Egyptian east coast]\n",
       "111015   [Egyptian east coast]"
      ]
     },
     "execution_count": 36,
     "metadata": {},
     "output_type": "execute_result"
    }
   ],
   "source": [
    "df_new1.head()"
   ]
  },
  {
   "cell_type": "code",
   "execution_count": 45,
   "metadata": {
    "collapsed": true
   },
   "outputs": [],
   "source": [
    "df_out = df_new1.merge(right = df_new2, how = \"outer\", left_index = True, right_index = True )"
   ]
  },
  {
   "cell_type": "code",
   "execution_count": 46,
   "metadata": {
    "collapsed": true
   },
   "outputs": [],
   "source": [
    "df_out = df_out.merge(right = df_new3, how = \"outer\", left_index = True, right_index = True )"
   ]
  },
  {
   "cell_type": "code",
   "execution_count": 47,
   "metadata": {},
   "outputs": [
    {
     "data": {
      "text/plain": [
       "SUB_NAME      object\n",
       "MAJ_NAME      object\n",
       "FAOid_copy    object\n",
       "dtype: object"
      ]
     },
     "execution_count": 47,
     "metadata": {},
     "output_type": "execute_result"
    }
   ],
   "source": [
    "df_out.dtypes"
   ]
  },
  {
   "cell_type": "code",
   "execution_count": 48,
   "metadata": {
    "collapsed": true
   },
   "outputs": [],
   "source": [
    "df_out.to_csv(os.path.join(EC2_OUTPUT_PATH,OUTPUT_FILE_NAME),encoding=\"UTF-8\")"
   ]
  },
  {
   "cell_type": "code",
   "execution_count": 49,
   "metadata": {},
   "outputs": [
    {
     "name": "stdout",
     "output_type": "stream",
     "text": [
      "upload: ../../../../data/Y2017M08D25_RH_spatial_join_FAONames_V01/output/hybas_lev06_v1c_merged_fiona_withFAO_V01.csv to s3://wri-projects/Aqueduct30/processData/Y2017M08D25_RH_spatial_join_FAONames_V01/output/hybas_lev06_v1c_merged_fiona_withFAO_V01.csv\n"
     ]
    }
   ],
   "source": [
    "!aws s3 cp {EC2_OUTPUT_PATH} {S3_OUTPUT_PATH} --recursive"
   ]
  }
 ],
 "metadata": {
  "kernelspec": {
   "display_name": "Python 35",
   "language": "python",
   "name": "python35"
  },
  "language_info": {
   "codemirror_mode": {
    "name": "ipython",
    "version": 3
   },
   "file_extension": ".py",
   "mimetype": "text/x-python",
   "name": "python",
   "nbconvert_exporter": "python",
   "pygments_lexer": "ipython3",
   "version": "3.5.4"
  }
 },
 "nbformat": 4,
 "nbformat_minor": 2
}
