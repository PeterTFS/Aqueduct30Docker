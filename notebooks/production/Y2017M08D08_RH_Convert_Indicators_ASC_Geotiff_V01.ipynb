{
 "cells": [
  {
   "cell_type": "markdown",
   "metadata": {},
   "source": [
    "# Convert Indicators from ASCII to Geotiff\n",
    "\n",
    "* Purpose of script: Some Utrecht Indicators are shared in Ascii format. This script converts them to geotiff and uploads to GCS\n",
    "* Author: Rutger Hofste\n",
    "* Kernel used: python35\n",
    "* Date created: 20170808"
   ]
  },
  {
   "cell_type": "markdown",
   "metadata": {},
   "source": [
    "## Settings"
   ]
  },
  {
   "cell_type": "code",
   "execution_count": 26,
   "metadata": {
    "collapsed": true
   },
   "outputs": [],
   "source": [
    "EC2_INPUT_PATH = \"/volumes/data/Y2017M07D31_RH_download_PCRGlobWB_data_V01/output\"\n",
    "EC2_OUTPUT_PATH = \"/volumes/data/Y2017M08D08_RH_Convert_Indicators_ASC_Geotiff_V01/output\"\n",
    "EC2_INPUT_PATH_ADDITIONAL = \"/volumes/data/Y2017M08D08_RH_Convert_Indicators_ASC_Geotiff_V01/input\"\n",
    "S3_INPUT_PATH_ADDITIONAL = \"s3://wri-projects/Aqueduct30/rawData/WRI/samplegeotiff/\"\n",
    "GCS_OUTPUT = \"gs://aqueduct30_v01/Y2017M08D08_RH_Convert_Indicators_ASC_Geotiff_V01/\"\n",
    "S3_OUTPUT_PATH = \"s3://wri-projects/Aqueduct30/processData/Y2017M08D08_RH_Convert_Indicators_ASC_Geotiff_V01/output/\"\n"
   ]
  },
  {
   "cell_type": "code",
   "execution_count": 16,
   "metadata": {},
   "outputs": [
    {
     "name": "stdout",
     "output_type": "stream",
     "text": [
      "download: s3://wri-projects/Aqueduct30/rawData/WRI/samplegeotiff/readme.txt to ../../../../data/Y2017M08D08_RH_Convert_Indicators_ASC_Geotiff_V01/input/readme.txt\n",
      "download: s3://wri-projects/Aqueduct30/rawData/WRI/samplegeotiff/sampleGeotiff.tiff to ../../../../data/Y2017M08D08_RH_Convert_Indicators_ASC_Geotiff_V01/input/sampleGeotiff.tiff\n"
     ]
    }
   ],
   "source": [
    "!mkdir -p {EC2_OUTPUT_PATH}\n",
    "!mkdir -p {EC2_INPUT_PATH_ADDITIONAL}\n",
    "!aws s3 cp {S3_INPUT_PATH_ADDITIONAL} {EC2_INPUT_PATH_ADDITIONAL} --recursive"
   ]
  },
  {
   "cell_type": "code",
   "execution_count": 17,
   "metadata": {
    "collapsed": true
   },
   "outputs": [],
   "source": [
    "try:\n",
    "    from osgeo import ogr, osr, gdal\n",
    "except:\n",
    "    sys.exit('ERROR: cannot find GDAL/OGR modules')\n",
    "    \n",
    "from netCDF4 import Dataset\n",
    "import os\n",
    "import datetime\n",
    "import subprocess"
   ]
  },
  {
   "cell_type": "markdown",
   "metadata": {},
   "source": [
    "## Functions"
   ]
  },
  {
   "cell_type": "code",
   "execution_count": 18,
   "metadata": {},
   "outputs": [],
   "source": [
    "def readFile(filename):\n",
    "    filehandle = gdal.Open(filename)\n",
    "    band1 = filehandle.GetRasterBand(1)\n",
    "    geotransform = filehandle.GetGeoTransform()\n",
    "    geoproj = filehandle.GetProjection()\n",
    "    Z = band1.ReadAsArray()\n",
    "    xsize = filehandle.RasterXSize\n",
    "    ysize = filehandle.RasterYSize\n",
    "    filehandle = None\n",
    "    return xsize,ysize,geotransform,geoproj,Z\n",
    "\n",
    "def writeFile(filename,geotransform,geoprojection,data):\n",
    "    (x,y) = data.shape\n",
    "    format = \"GTiff\"\n",
    "    driver = gdal.GetDriverByName(format)\n",
    "    # you can change the dataformat but be sure to be able to store negative values including -9999\n",
    "    dst_datatype = gdal.GDT_Float32\n",
    "    dst_ds = driver.Create(filename,y,x,1,dst_datatype, [ 'COMPRESS=LZW' ])\n",
    "    dst_ds.GetRasterBand(1).SetNoDataValue(-9999)\n",
    "    dst_ds.GetRasterBand(1).WriteArray(data)\n",
    "    dst_ds.SetGeoTransform(geotransform)\n",
    "    dst_ds.SetProjection(geoprojection)\n",
    "    dst_ds = None\n",
    "    return 1"
   ]
  },
  {
   "cell_type": "code",
   "execution_count": 19,
   "metadata": {},
   "outputs": [],
   "source": [
    "inputLocationSampleGeotiff = os.path.join(EC2_INPUT_PATH_ADDITIONAL,\"sampleGeotiff.tiff\")"
   ]
  },
  {
   "cell_type": "code",
   "execution_count": 20,
   "metadata": {},
   "outputs": [
    {
     "name": "stdout",
     "output_type": "stream",
     "text": [
      "/volumes/data/Y2017M08D08_RH_Convert_Indicators_ASC_Geotiff_V01/input/sampleGeotiff.tiff\n"
     ]
    }
   ],
   "source": [
    "print(inputLocationSampleGeotiff)"
   ]
  },
  {
   "cell_type": "code",
   "execution_count": 21,
   "metadata": {},
   "outputs": [],
   "source": [
    "[xsizeSample,ysizeSample,geotransformSample,geoprojSample,ZSample] = readFile(inputLocationSampleGeotiff)"
   ]
  },
  {
   "cell_type": "code",
   "execution_count": 23,
   "metadata": {},
   "outputs": [],
   "source": [
    "files = os.listdir(EC2_INPUT_PATH)\n",
    "newExtension =\".tif\"\n",
    "for oneFile in files:\n",
    "    if oneFile.endswith(\".asc\"):\n",
    "        base , extension = oneFile.split(\".\")\n",
    "        xsize,ysize,geotransform,geoproj,Z = readFile(os.path.join(EC2_INPUT_PATH,oneFile))\n",
    "        Z[Z<-9990]= -9999\n",
    "        Z[Z>1e19] = -9999\n",
    "        outputFileName = base + newExtension\n",
    "        writeFile(os.path.join(EC2_OUTPUT_PATH,outputFileName),geotransformSample,geoprojSample,Z)"
   ]
  },
  {
   "cell_type": "markdown",
   "metadata": {},
   "source": [
    "Upload to GCS"
   ]
  },
  {
   "cell_type": "code",
   "execution_count": 25,
   "metadata": {},
   "outputs": [
    {
     "name": "stdout",
     "output_type": "stream",
     "text": [
      "Copying file:///volumes/data/Y2017M08D08_RH_Convert_Indicators_ASC_Geotiff_V01/output/global_droughtseveritystandardisedstreamflow_5min_1960-2014.tif [Content-Type=image/tiff]...\n",
      "Copying file:///volumes/data/Y2017M08D08_RH_Convert_Indicators_ASC_Geotiff_V01/output/global_droughtseveritystandardisedsoilmoisture_5min_1960-2014.tif [Content-Type=image/tiff]...\n",
      "Copying file:///volumes/data/Y2017M08D08_RH_Convert_Indicators_ASC_Geotiff_V01/output/global_environmentalflows_5min_1960-2014.tif [Content-Type=image/tiff]...\n",
      "Copying file:///volumes/data/Y2017M08D08_RH_Convert_Indicators_ASC_Geotiff_V01/output/global_interannualvariabilitywatersupply_5min_1960-2014.tif [Content-Type=image/tiff]...\n",
      "Copying file:///volumes/data/Y2017M08D08_RH_Convert_Indicators_ASC_Geotiff_V01/output/global_q1seasonalvariabilitywatersupply_5min_1960-2014.tif [Content-Type=image/tiff]...\n",
      "Copying file:///volumes/data/Y2017M08D08_RH_Convert_Indicators_ASC_Geotiff_V01/output/global_q4seasonalvariabilitywatersupply_5min_1960-2014.tif [Content-Type=image/tiff]...\n",
      "Copying file:///volumes/data/Y2017M08D08_RH_Convert_Indicators_ASC_Geotiff_V01/output/global_q2seasonalvariabilitywatersupply_5min_1960-2014.tif [Content-Type=image/tiff]...\n",
      "Copying file:///volumes/data/Y2017M08D08_RH_Convert_Indicators_ASC_Geotiff_V01/output/global_q3seasonalvariabilitywatersupply_5min_1960-2014.tif [Content-Type=image/tiff]...\n",
      "| [8/8 files][ 78.5 MiB/ 78.5 MiB] 100% Done                                    \n",
      "Operation completed over 8 objects/78.5 MiB.                                     \n"
     ]
    }
   ],
   "source": [
    "!gsutil -m cp \\\n",
    "{EC2_OUTPUT_PATH}/*.tif \\\n",
    "{GCS_OUTPUT}"
   ]
  },
  {
   "cell_type": "markdown",
   "metadata": {},
   "source": [
    "For the Threshold setting, copying these rasters to S3. "
   ]
  },
  {
   "cell_type": "code",
   "execution_count": 27,
   "metadata": {},
   "outputs": [
    {
     "name": "stdout",
     "output_type": "stream",
     "text": [
      "upload: ../../../../data/Y2017M08D08_RH_Convert_Indicators_ASC_Geotiff_V01/output/global_droughtseveritystandardisedstreamflow_5min_1960-2014.tif to s3://wri-projects/Aqueduct30/processData/Y2017M08D08_RH_Convert_Indicators_ASC_Geotiff_V01/output/global_droughtseveritystandardisedstreamflow_5min_1960-2014.tif\n",
      "upload: ../../../../data/Y2017M08D08_RH_Convert_Indicators_ASC_Geotiff_V01/output/global_q2seasonalvariabilitywatersupply_5min_1960-2014.tif to s3://wri-projects/Aqueduct30/processData/Y2017M08D08_RH_Convert_Indicators_ASC_Geotiff_V01/output/global_q2seasonalvariabilitywatersupply_5min_1960-2014.tif\n",
      "upload: ../../../../data/Y2017M08D08_RH_Convert_Indicators_ASC_Geotiff_V01/output/global_interannualvariabilitywatersupply_5min_1960-2014.tif to s3://wri-projects/Aqueduct30/processData/Y2017M08D08_RH_Convert_Indicators_ASC_Geotiff_V01/output/global_interannualvariabilitywatersupply_5min_1960-2014.tif\n",
      "upload: ../../../../data/Y2017M08D08_RH_Convert_Indicators_ASC_Geotiff_V01/output/global_droughtseveritystandardisedsoilmoisture_5min_1960-2014.tif to s3://wri-projects/Aqueduct30/processData/Y2017M08D08_RH_Convert_Indicators_ASC_Geotiff_V01/output/global_droughtseveritystandardisedsoilmoisture_5min_1960-2014.tif\n",
      "upload: ../../../../data/Y2017M08D08_RH_Convert_Indicators_ASC_Geotiff_V01/output/global_environmentalflows_5min_1960-2014.tif to s3://wri-projects/Aqueduct30/processData/Y2017M08D08_RH_Convert_Indicators_ASC_Geotiff_V01/output/global_environmentalflows_5min_1960-2014.tif\n",
      "upload: ../../../../data/Y2017M08D08_RH_Convert_Indicators_ASC_Geotiff_V01/output/global_q4seasonalvariabilitywatersupply_5min_1960-2014.tif to s3://wri-projects/Aqueduct30/processData/Y2017M08D08_RH_Convert_Indicators_ASC_Geotiff_V01/output/global_q4seasonalvariabilitywatersupply_5min_1960-2014.tif\n",
      "upload: ../../../../data/Y2017M08D08_RH_Convert_Indicators_ASC_Geotiff_V01/output/global_q1seasonalvariabilitywatersupply_5min_1960-2014.tif to s3://wri-projects/Aqueduct30/processData/Y2017M08D08_RH_Convert_Indicators_ASC_Geotiff_V01/output/global_q1seasonalvariabilitywatersupply_5min_1960-2014.tif\n",
      "upload: ../../../../data/Y2017M08D08_RH_Convert_Indicators_ASC_Geotiff_V01/output/global_q3seasonalvariabilitywatersupply_5min_1960-2014.tif to s3://wri-projects/Aqueduct30/processData/Y2017M08D08_RH_Convert_Indicators_ASC_Geotiff_V01/output/global_q3seasonalvariabilitywatersupply_5min_1960-2014.tif\n"
     ]
    }
   ],
   "source": [
    "!aws s3 cp {EC2_OUTPUT_PATH} {S3_OUTPUT_PATH} --recursive"
   ]
  },
  {
   "cell_type": "code",
   "execution_count": null,
   "metadata": {
    "collapsed": true
   },
   "outputs": [],
   "source": []
  }
 ],
 "metadata": {
  "kernelspec": {
   "display_name": "Python 35",
   "language": "python",
   "name": "python35"
  },
  "language_info": {
   "codemirror_mode": {
    "name": "ipython",
    "version": 3
   },
   "file_extension": ".py",
   "mimetype": "text/x-python",
   "name": "python",
   "nbconvert_exporter": "python",
   "pygments_lexer": "ipython3",
   "version": "3.5.3"
  }
 },
 "nbformat": 4,
 "nbformat_minor": 2
}
