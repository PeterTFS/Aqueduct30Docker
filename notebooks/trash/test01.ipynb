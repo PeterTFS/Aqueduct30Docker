{
 "cells": [
  {
   "cell_type": "code",
   "execution_count": 1,
   "metadata": {
    "collapsed": true
   },
   "outputs": [],
   "source": [
    "INPUT_VERSION = 15\n",
    "OUTPUT_VERSION = 3\n",
    "\n",
    "S3_INPUT_PATH_EE  = \"s3://wri-projects/Aqueduct30/processData/Y2017M09D14_RH_merge_EE_results_V01/output/\"\n",
    "S3_OUTPUT_PATH = \"s3://wri-projects/Aqueduct30/processData/test01/output/\"\n",
    "\n",
    "S3_INPUT_PATH_HYDROBASINS = \"s3://wri-projects/Aqueduct30/processData/Y2017M08D29_RH_Merge_FAONames_Upstream_V01/output/\"\n",
    "\n",
    "EC2_INPUT_PATH = \"/volumes/data/test01/input\"\n",
    "EC2_OUTPUT_PATH = \"/volumes/data/Y2017test01/output\"\n",
    "\n",
    "INPUT_FILENAME_EE =  \"mergedZonalStatsEE_V%0.2d.pkl\" %(INPUT_VERSION)\n",
    "INPUT_FILENAME_HYDROBASINS =  \"hybas_lev06_v1c_merged_fiona_upstream_downstream_FAO_V01.pkl\"\n",
    "\n",
    "OUTPUT_FILENAME = \"Y2017M09D15_RH_Add_Basin_Data_V%0.2d\" %(OUTPUT_VERSION)"
   ]
  },
  {
   "cell_type": "code",
   "execution_count": 2,
   "metadata": {},
   "outputs": [],
   "source": [
    "!rm -r {EC2_INPUT_PATH} \n",
    "!rm -r {EC2_OUTPUT_PATH} "
   ]
  },
  {
   "cell_type": "code",
   "execution_count": 3,
   "metadata": {
    "collapsed": true
   },
   "outputs": [],
   "source": [
    "!mkdir -p {EC2_INPUT_PATH} \n",
    "!mkdir -p {EC2_OUTPUT_PATH} "
   ]
  },
  {
   "cell_type": "code",
   "execution_count": 4,
   "metadata": {},
   "outputs": [
    {
     "name": "stdout",
     "output_type": "stream",
     "text": [
      "download: s3://wri-projects/Aqueduct30/processData/Y2017M09D14_RH_merge_EE_results_V01/output/mergedZonalStatsEE_V14.pkl to ../../../../data/test01/input/mergedZonalStatsEE_V14.pkl\n",
      "download: s3://wri-projects/Aqueduct30/processData/Y2017M09D14_RH_merge_EE_results_V01/output/mergedZonalStatsEE_V15.pkl to ../../../../data/test01/input/mergedZonalStatsEE_V15.pkl\n",
      "download: s3://wri-projects/Aqueduct30/processData/Y2017M09D14_RH_merge_EE_results_V01/output/mergedZonalStatsEE_V14.csv to ../../../../data/test01/input/mergedZonalStatsEE_V14.csv\n",
      "download: s3://wri-projects/Aqueduct30/processData/Y2017M09D14_RH_merge_EE_results_V01/output/mergedZonalStatsEE_V15.csv to ../../../../data/test01/input/mergedZonalStatsEE_V15.csv\n"
     ]
    }
   ],
   "source": [
    "!aws s3 cp {S3_INPUT_PATH_EE} {EC2_INPUT_PATH} --recursive"
   ]
  },
  {
   "cell_type": "code",
   "execution_count": 5,
   "metadata": {},
   "outputs": [
    {
     "name": "stdout",
     "output_type": "stream",
     "text": [
      "download: s3://wri-projects/Aqueduct30/processData/Y2017M08D29_RH_Merge_FAONames_Upstream_V01/output/hybas_lev06_v1c_merged_fiona_upstream_downstream_FAO_V01.pkl to ../../../../data/test01/input/hybas_lev06_v1c_merged_fiona_upstream_downstream_FAO_V01.pkl\n"
     ]
    }
   ],
   "source": [
    "!aws s3 cp {S3_INPUT_PATH_HYDROBASINS} {EC2_INPUT_PATH} --recursive --exclude \"*\" --include \"*.pkl\""
   ]
  },
  {
   "cell_type": "code",
   "execution_count": 6,
   "metadata": {
    "collapsed": true
   },
   "outputs": [],
   "source": [
    "import os\n",
    "import pandas as pd\n",
    "import multiprocessing as mp\n",
    "import pickle\n",
    "import numpy as np\n",
    "import itertools\n",
    "import logging\n",
    "import pprint\n",
    "import ast"
   ]
  },
  {
   "cell_type": "code",
   "execution_count": 7,
   "metadata": {
    "collapsed": true
   },
   "outputs": [],
   "source": [
    "inputLocationEE = os.path.join(EC2_INPUT_PATH,INPUT_FILENAME_EE)"
   ]
  },
  {
   "cell_type": "code",
   "execution_count": 8,
   "metadata": {
    "collapsed": true
   },
   "outputs": [],
   "source": [
    "df_ee = pd.read_pickle(inputLocationEE)"
   ]
  },
  {
   "cell_type": "code",
   "execution_count": 9,
   "metadata": {
    "collapsed": true
   },
   "outputs": [],
   "source": [
    "df_ee.index.names = ['PFAF_ID']"
   ]
  },
  {
   "cell_type": "code",
   "execution_count": 10,
   "metadata": {},
   "outputs": [
    {
     "data": {
      "text/html": [
       "<div>\n",
       "<style>\n",
       "    .dataframe thead tr:only-child th {\n",
       "        text-align: right;\n",
       "    }\n",
       "\n",
       "    .dataframe thead th {\n",
       "        text-align: left;\n",
       "    }\n",
       "\n",
       "    .dataframe tbody tr th {\n",
       "        vertical-align: top;\n",
       "    }\n",
       "</style>\n",
       "<table border=\"1\" class=\"dataframe\">\n",
       "  <thead>\n",
       "    <tr style=\"text-align: right;\">\n",
       "      <th></th>\n",
       "      <th>count_Hybas06</th>\n",
       "      <th>mean_Hybas06</th>\n",
       "      <th>count_area_30s_m2</th>\n",
       "      <th>mean_area_30s_m2</th>\n",
       "      <th>total_area_30s_m2</th>\n",
       "      <th>count_PIndWW_monthY2014M11</th>\n",
       "      <th>mean_PIndWW_monthY2014M11</th>\n",
       "      <th>total_volume_PIndWW_monthY2014M11</th>\n",
       "      <th>count_PLivWW_monthY2014M07</th>\n",
       "      <th>mean_PLivWW_monthY2014M07</th>\n",
       "      <th>...</th>\n",
       "      <th>total_volume_IrrLinearWN_monthY2014M01</th>\n",
       "      <th>count_PDomWW_monthY2014M10</th>\n",
       "      <th>mean_PDomWW_monthY2014M10</th>\n",
       "      <th>total_volume_PDomWW_monthY2014M10</th>\n",
       "      <th>count_PIrrWW_monthY2014M04</th>\n",
       "      <th>mean_PIrrWW_monthY2014M04</th>\n",
       "      <th>total_volume_PIrrWW_monthY2014M04</th>\n",
       "      <th>count_IrrLinearWW_monthY2014M12</th>\n",
       "      <th>mean_IrrLinearWW_monthY2014M12</th>\n",
       "      <th>total_volume_IrrLinearWW_monthY2014M12</th>\n",
       "    </tr>\n",
       "    <tr>\n",
       "      <th>PFAF_ID</th>\n",
       "      <th></th>\n",
       "      <th></th>\n",
       "      <th></th>\n",
       "      <th></th>\n",
       "      <th></th>\n",
       "      <th></th>\n",
       "      <th></th>\n",
       "      <th></th>\n",
       "      <th></th>\n",
       "      <th></th>\n",
       "      <th></th>\n",
       "      <th></th>\n",
       "      <th></th>\n",
       "      <th></th>\n",
       "      <th></th>\n",
       "      <th></th>\n",
       "      <th></th>\n",
       "      <th></th>\n",
       "      <th></th>\n",
       "      <th></th>\n",
       "      <th></th>\n",
       "    </tr>\n",
       "  </thead>\n",
       "  <tbody>\n",
       "    <tr>\n",
       "      <th>111011</th>\n",
       "      <td>2536</td>\n",
       "      <td>111011.0</td>\n",
       "      <td>2536</td>\n",
       "      <td>743658.186761</td>\n",
       "      <td>1.885917e+09</td>\n",
       "      <td>2536</td>\n",
       "      <td>0.002146</td>\n",
       "      <td>4.048026e+06</td>\n",
       "      <td>2536</td>\n",
       "      <td>1.389657e-07</td>\n",
       "      <td>...</td>\n",
       "      <td>55779.511103</td>\n",
       "      <td>2536</td>\n",
       "      <td>0.000501</td>\n",
       "      <td>944356.094213</td>\n",
       "      <td>2536</td>\n",
       "      <td>0.000158</td>\n",
       "      <td>298467.591262</td>\n",
       "      <td>2536</td>\n",
       "      <td>0.000066</td>\n",
       "      <td>124430.115923</td>\n",
       "    </tr>\n",
       "    <tr>\n",
       "      <th>111012</th>\n",
       "      <td>3921</td>\n",
       "      <td>111012.0</td>\n",
       "      <td>3921</td>\n",
       "      <td>746186.462653</td>\n",
       "      <td>2.925797e+09</td>\n",
       "      <td>3921</td>\n",
       "      <td>0.000229</td>\n",
       "      <td>6.688613e+05</td>\n",
       "      <td>3921</td>\n",
       "      <td>6.733557e-07</td>\n",
       "      <td>...</td>\n",
       "      <td>0.000000</td>\n",
       "      <td>3921</td>\n",
       "      <td>0.000005</td>\n",
       "      <td>13213.019966</td>\n",
       "      <td>3921</td>\n",
       "      <td>0.000000</td>\n",
       "      <td>0.000000</td>\n",
       "      <td>3921</td>\n",
       "      <td>0.000000</td>\n",
       "      <td>0.000000</td>\n",
       "    </tr>\n",
       "    <tr>\n",
       "      <th>111013</th>\n",
       "      <td>1194</td>\n",
       "      <td>111013.0</td>\n",
       "      <td>1194</td>\n",
       "      <td>747422.836265</td>\n",
       "      <td>8.924229e+08</td>\n",
       "      <td>1194</td>\n",
       "      <td>0.000694</td>\n",
       "      <td>6.191623e+05</td>\n",
       "      <td>1194</td>\n",
       "      <td>5.213650e-08</td>\n",
       "      <td>...</td>\n",
       "      <td>0.000000</td>\n",
       "      <td>1194</td>\n",
       "      <td>0.000013</td>\n",
       "      <td>11774.732797</td>\n",
       "      <td>1194</td>\n",
       "      <td>0.000000</td>\n",
       "      <td>0.000000</td>\n",
       "      <td>1194</td>\n",
       "      <td>0.000000</td>\n",
       "      <td>0.000000</td>\n",
       "    </tr>\n",
       "    <tr>\n",
       "      <th>111014</th>\n",
       "      <td>5605</td>\n",
       "      <td>111014.0</td>\n",
       "      <td>5605</td>\n",
       "      <td>750449.270450</td>\n",
       "      <td>4.206268e+09</td>\n",
       "      <td>5605</td>\n",
       "      <td>0.000018</td>\n",
       "      <td>7.558842e+04</td>\n",
       "      <td>5605</td>\n",
       "      <td>2.151802e-07</td>\n",
       "      <td>...</td>\n",
       "      <td>0.000000</td>\n",
       "      <td>5605</td>\n",
       "      <td>0.000003</td>\n",
       "      <td>10953.398148</td>\n",
       "      <td>5605</td>\n",
       "      <td>0.000000</td>\n",
       "      <td>0.000000</td>\n",
       "      <td>5605</td>\n",
       "      <td>0.000000</td>\n",
       "      <td>0.000000</td>\n",
       "    </tr>\n",
       "    <tr>\n",
       "      <th>111015</th>\n",
       "      <td>21873</td>\n",
       "      <td>111015.0</td>\n",
       "      <td>21873</td>\n",
       "      <td>758792.279231</td>\n",
       "      <td>1.659706e+10</td>\n",
       "      <td>21769</td>\n",
       "      <td>0.000541</td>\n",
       "      <td>8.983459e+06</td>\n",
       "      <td>21769</td>\n",
       "      <td>2.745748e-08</td>\n",
       "      <td>...</td>\n",
       "      <td>0.000000</td>\n",
       "      <td>21769</td>\n",
       "      <td>0.000021</td>\n",
       "      <td>340838.576971</td>\n",
       "      <td>21769</td>\n",
       "      <td>0.000000</td>\n",
       "      <td>0.000000</td>\n",
       "      <td>21769</td>\n",
       "      <td>0.000000</td>\n",
       "      <td>0.000000</td>\n",
       "    </tr>\n",
       "  </tbody>\n",
       "</table>\n",
       "<p>5 rows × 473 columns</p>\n",
       "</div>"
      ],
      "text/plain": [
       "         count_Hybas06  mean_Hybas06  count_area_30s_m2  mean_area_30s_m2  \\\n",
       "PFAF_ID                                                                     \n",
       "111011            2536      111011.0               2536     743658.186761   \n",
       "111012            3921      111012.0               3921     746186.462653   \n",
       "111013            1194      111013.0               1194     747422.836265   \n",
       "111014            5605      111014.0               5605     750449.270450   \n",
       "111015           21873      111015.0              21873     758792.279231   \n",
       "\n",
       "         total_area_30s_m2  count_PIndWW_monthY2014M11  \\\n",
       "PFAF_ID                                                  \n",
       "111011        1.885917e+09                        2536   \n",
       "111012        2.925797e+09                        3921   \n",
       "111013        8.924229e+08                        1194   \n",
       "111014        4.206268e+09                        5605   \n",
       "111015        1.659706e+10                       21769   \n",
       "\n",
       "         mean_PIndWW_monthY2014M11  total_volume_PIndWW_monthY2014M11  \\\n",
       "PFAF_ID                                                                 \n",
       "111011                    0.002146                       4.048026e+06   \n",
       "111012                    0.000229                       6.688613e+05   \n",
       "111013                    0.000694                       6.191623e+05   \n",
       "111014                    0.000018                       7.558842e+04   \n",
       "111015                    0.000541                       8.983459e+06   \n",
       "\n",
       "         count_PLivWW_monthY2014M07  mean_PLivWW_monthY2014M07  \\\n",
       "PFAF_ID                                                          \n",
       "111011                         2536               1.389657e-07   \n",
       "111012                         3921               6.733557e-07   \n",
       "111013                         1194               5.213650e-08   \n",
       "111014                         5605               2.151802e-07   \n",
       "111015                        21769               2.745748e-08   \n",
       "\n",
       "                          ...                    \\\n",
       "PFAF_ID                   ...                     \n",
       "111011                    ...                     \n",
       "111012                    ...                     \n",
       "111013                    ...                     \n",
       "111014                    ...                     \n",
       "111015                    ...                     \n",
       "\n",
       "         total_volume_IrrLinearWN_monthY2014M01  count_PDomWW_monthY2014M10  \\\n",
       "PFAF_ID                                                                       \n",
       "111011                             55779.511103                        2536   \n",
       "111012                                 0.000000                        3921   \n",
       "111013                                 0.000000                        1194   \n",
       "111014                                 0.000000                        5605   \n",
       "111015                                 0.000000                       21769   \n",
       "\n",
       "         mean_PDomWW_monthY2014M10  total_volume_PDomWW_monthY2014M10  \\\n",
       "PFAF_ID                                                                 \n",
       "111011                    0.000501                      944356.094213   \n",
       "111012                    0.000005                       13213.019966   \n",
       "111013                    0.000013                       11774.732797   \n",
       "111014                    0.000003                       10953.398148   \n",
       "111015                    0.000021                      340838.576971   \n",
       "\n",
       "         count_PIrrWW_monthY2014M04  mean_PIrrWW_monthY2014M04  \\\n",
       "PFAF_ID                                                          \n",
       "111011                         2536                   0.000158   \n",
       "111012                         3921                   0.000000   \n",
       "111013                         1194                   0.000000   \n",
       "111014                         5605                   0.000000   \n",
       "111015                        21769                   0.000000   \n",
       "\n",
       "         total_volume_PIrrWW_monthY2014M04  count_IrrLinearWW_monthY2014M12  \\\n",
       "PFAF_ID                                                                       \n",
       "111011                       298467.591262                             2536   \n",
       "111012                            0.000000                             3921   \n",
       "111013                            0.000000                             1194   \n",
       "111014                            0.000000                             5605   \n",
       "111015                            0.000000                            21769   \n",
       "\n",
       "         mean_IrrLinearWW_monthY2014M12  \\\n",
       "PFAF_ID                                   \n",
       "111011                         0.000066   \n",
       "111012                         0.000000   \n",
       "111013                         0.000000   \n",
       "111014                         0.000000   \n",
       "111015                         0.000000   \n",
       "\n",
       "         total_volume_IrrLinearWW_monthY2014M12  \n",
       "PFAF_ID                                          \n",
       "111011                            124430.115923  \n",
       "111012                                 0.000000  \n",
       "111013                                 0.000000  \n",
       "111014                                 0.000000  \n",
       "111015                                 0.000000  \n",
       "\n",
       "[5 rows x 473 columns]"
      ]
     },
     "execution_count": 10,
     "metadata": {},
     "output_type": "execute_result"
    }
   ],
   "source": [
    "df_ee.head()"
   ]
  },
  {
   "cell_type": "code",
   "execution_count": 11,
   "metadata": {},
   "outputs": [],
   "source": [
    "dfTest = df_ee[df_ee[\"total_volume_reducedmeanrunoff_month_Y1960Y2014M01\"] < 0 ]"
   ]
  },
  {
   "cell_type": "code",
   "execution_count": 17,
   "metadata": {
    "collapsed": true
   },
   "outputs": [],
   "source": [
    "mask = df_ee[\"total_volume_reducedmeanrunoff_month_Y1960Y2014M01\"] < 0\n",
    "\n",
    "df_ee.loc[mask, \"total_volume_reducedmeanrunoff_month_Y1960Y2014M01\"] = 0"
   ]
  },
  {
   "cell_type": "code",
   "execution_count": 19,
   "metadata": {},
   "outputs": [
    {
     "data": {
      "text/plain": [
       "0.0"
      ]
     },
     "execution_count": 19,
     "metadata": {},
     "output_type": "execute_result"
    }
   ],
   "source": [
    "df_ee.total_volume_reducedmeanrunoff_month_Y1960Y2014M01.min()"
   ]
  },
  {
   "cell_type": "code",
   "execution_count": null,
   "metadata": {
    "collapsed": true
   },
   "outputs": [],
   "source": []
  }
 ],
 "metadata": {
  "kernelspec": {
   "display_name": "Python 35",
   "language": "python",
   "name": "python35"
  },
  "language_info": {
   "codemirror_mode": {
    "name": "ipython",
    "version": 3
   },
   "file_extension": ".py",
   "mimetype": "text/x-python",
   "name": "python",
   "nbconvert_exporter": "python",
   "pygments_lexer": "ipython3",
   "version": "3.5.4"
  }
 },
 "nbformat": 4,
 "nbformat_minor": 2
}
