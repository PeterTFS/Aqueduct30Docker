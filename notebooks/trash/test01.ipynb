{
 "cells": [
  {
   "cell_type": "code",
   "execution_count": 9,
   "metadata": {
    "collapsed": true
   },
   "outputs": [],
   "source": [
    "INPUT_VERSION = 18\n",
    "OUTPUT_VERSION = 3\n",
    "\n",
    "S3_INPUT_PATH_EE  = \"s3://wri-projects/Aqueduct30/processData/Y2017M09D14_RH_merge_EE_results_V01/output/\"\n",
    "S3_OUTPUT_PATH = \"s3://wri-projects/Aqueduct30/processData/test01/output/\"\n",
    "\n",
    "S3_INPUT_PATH_HYDROBASINS = \"s3://wri-projects/Aqueduct30/processData/Y2017M08D29_RH_Merge_FAONames_Upstream_V01/output/\"\n",
    "\n",
    "EC2_INPUT_PATH = \"/volumes/data/test01/input\"\n",
    "EC2_OUTPUT_PATH = \"/volumes/data/Y2017test01/output\"\n",
    "\n",
    "INPUT_FILENAME_EE =  \"mergedZonalStatsEE_V%0.2d.pkl\" %(INPUT_VERSION)\n",
    "INPUT_FILENAME_HYDROBASINS =  \"hybas_lev06_v1c_merged_fiona_upstream_downstream_FAO_V01.pkl\"\n",
    "\n",
    "OUTPUT_FILENAME = \"Y2017M09D15_RH_Add_Basin_Data_V%0.2d\" %(OUTPUT_VERSION)"
   ]
  },
  {
   "cell_type": "code",
   "execution_count": 10,
   "metadata": {
    "collapsed": true
   },
   "outputs": [],
   "source": [
    "!rm -r {EC2_INPUT_PATH} \n",
    "!rm -r {EC2_OUTPUT_PATH} "
   ]
  },
  {
   "cell_type": "code",
   "execution_count": 11,
   "metadata": {
    "collapsed": true
   },
   "outputs": [],
   "source": [
    "!mkdir -p {EC2_INPUT_PATH} \n",
    "!mkdir -p {EC2_OUTPUT_PATH} "
   ]
  },
  {
   "cell_type": "code",
   "execution_count": 12,
   "metadata": {},
   "outputs": [
    {
     "name": "stdout",
     "output_type": "stream",
     "text": [
      "download: s3://wri-projects/Aqueduct30/processData/Y2017M09D14_RH_merge_EE_results_V01/output/mergedZonalStatsEE_V18.pkl to ../../../../data/test01/input/mergedZonalStatsEE_V18.pkl\n",
      "download: s3://wri-projects/Aqueduct30/processData/Y2017M09D14_RH_merge_EE_results_V01/output/mergedZonalStatsEE_V18.csv to ../../../../data/test01/input/mergedZonalStatsEE_V18.csv\n"
     ]
    }
   ],
   "source": [
    "!aws s3 cp {S3_INPUT_PATH_EE} {EC2_INPUT_PATH} --recursive"
   ]
  },
  {
   "cell_type": "code",
   "execution_count": 13,
   "metadata": {},
   "outputs": [
    {
     "name": "stdout",
     "output_type": "stream",
     "text": [
      "download: s3://wri-projects/Aqueduct30/processData/Y2017M08D29_RH_Merge_FAONames_Upstream_V01/output/hybas_lev06_v1c_merged_fiona_upstream_downstream_FAO_V01.pkl to ../../../../data/test01/input/hybas_lev06_v1c_merged_fiona_upstream_downstream_FAO_V01.pkl\n"
     ]
    }
   ],
   "source": [
    "!aws s3 cp {S3_INPUT_PATH_HYDROBASINS} {EC2_INPUT_PATH} --recursive --exclude \"*\" --include \"*.pkl\""
   ]
  },
  {
   "cell_type": "code",
   "execution_count": 14,
   "metadata": {
    "collapsed": true
   },
   "outputs": [],
   "source": [
    "import os\n",
    "import pandas as pd\n",
    "import multiprocessing as mp\n",
    "import pickle\n",
    "import numpy as np\n",
    "import itertools\n",
    "import logging\n",
    "import pprint\n",
    "import ast"
   ]
  },
  {
   "cell_type": "code",
   "execution_count": 15,
   "metadata": {
    "collapsed": true
   },
   "outputs": [],
   "source": [
    "inputLocationEE = os.path.join(EC2_INPUT_PATH,INPUT_FILENAME_EE)"
   ]
  },
  {
   "cell_type": "code",
   "execution_count": 16,
   "metadata": {},
   "outputs": [],
   "source": [
    "df_ee = pd.read_pickle(inputLocationEE)"
   ]
  },
  {
   "cell_type": "code",
   "execution_count": 17,
   "metadata": {
    "collapsed": true
   },
   "outputs": [],
   "source": [
    "df_ee.index.names = ['PFAF_ID']"
   ]
  },
  {
   "cell_type": "code",
   "execution_count": 18,
   "metadata": {},
   "outputs": [
    {
     "data": {
      "text/html": [
       "<div>\n",
       "<style>\n",
       "    .dataframe thead tr:only-child th {\n",
       "        text-align: right;\n",
       "    }\n",
       "\n",
       "    .dataframe thead th {\n",
       "        text-align: left;\n",
       "    }\n",
       "\n",
       "    .dataframe tbody tr th {\n",
       "        vertical-align: top;\n",
       "    }\n",
       "</style>\n",
       "<table border=\"1\" class=\"dataframe\">\n",
       "  <thead>\n",
       "    <tr style=\"text-align: right;\">\n",
       "      <th></th>\n",
       "      <th>count_Hybas06</th>\n",
       "      <th>mean_Hybas06</th>\n",
       "      <th>count_area_30s_m2</th>\n",
       "      <th>mean_area_30s_m2</th>\n",
       "      <th>total_area_30s_m2</th>\n",
       "      <th>count_runoff_monthY2014M09</th>\n",
       "      <th>mean_runoff_monthY2014M09</th>\n",
       "      <th>total_volume_runoff_monthY2014M09</th>\n",
       "      <th>count_PLivWN_monthY2014M08</th>\n",
       "      <th>mean_PLivWN_monthY2014M08</th>\n",
       "      <th>...</th>\n",
       "      <th>total_volume_PIrrWW_monthY2014M09</th>\n",
       "      <th>count_runoff_monthY2014M10</th>\n",
       "      <th>mean_runoff_monthY2014M10</th>\n",
       "      <th>total_volume_runoff_monthY2014M10</th>\n",
       "      <th>count_PIndWW_monthY2014M01</th>\n",
       "      <th>mean_PIndWW_monthY2014M01</th>\n",
       "      <th>total_volume_PIndWW_monthY2014M01</th>\n",
       "      <th>count_PLivWW_monthY2014M09</th>\n",
       "      <th>mean_PLivWW_monthY2014M09</th>\n",
       "      <th>total_volume_PLivWW_monthY2014M09</th>\n",
       "    </tr>\n",
       "    <tr>\n",
       "      <th>PFAF_ID</th>\n",
       "      <th></th>\n",
       "      <th></th>\n",
       "      <th></th>\n",
       "      <th></th>\n",
       "      <th></th>\n",
       "      <th></th>\n",
       "      <th></th>\n",
       "      <th></th>\n",
       "      <th></th>\n",
       "      <th></th>\n",
       "      <th></th>\n",
       "      <th></th>\n",
       "      <th></th>\n",
       "      <th></th>\n",
       "      <th></th>\n",
       "      <th></th>\n",
       "      <th></th>\n",
       "      <th></th>\n",
       "      <th></th>\n",
       "      <th></th>\n",
       "      <th></th>\n",
       "    </tr>\n",
       "  </thead>\n",
       "  <tbody>\n",
       "    <tr>\n",
       "      <th>111011</th>\n",
       "      <td>2536</td>\n",
       "      <td>111011.0</td>\n",
       "      <td>2536</td>\n",
       "      <td>743658.186761</td>\n",
       "      <td>1.885917e+09</td>\n",
       "      <td>2479</td>\n",
       "      <td>-1.791564e-07</td>\n",
       "      <td>-337.874070</td>\n",
       "      <td>2536</td>\n",
       "      <td>1.392067e-07</td>\n",
       "      <td>...</td>\n",
       "      <td>347598.275922</td>\n",
       "      <td>2479</td>\n",
       "      <td>1.989458e-05</td>\n",
       "      <td>37519.523523</td>\n",
       "      <td>2536</td>\n",
       "      <td>0.002146</td>\n",
       "      <td>4.048026e+06</td>\n",
       "      <td>2536</td>\n",
       "      <td>1.366897e-07</td>\n",
       "      <td>257.785492</td>\n",
       "    </tr>\n",
       "    <tr>\n",
       "      <th>111012</th>\n",
       "      <td>3921</td>\n",
       "      <td>111012.0</td>\n",
       "      <td>3921</td>\n",
       "      <td>746186.462653</td>\n",
       "      <td>2.925797e+09</td>\n",
       "      <td>3914</td>\n",
       "      <td>-7.736314e-08</td>\n",
       "      <td>-226.348862</td>\n",
       "      <td>3921</td>\n",
       "      <td>6.749631e-07</td>\n",
       "      <td>...</td>\n",
       "      <td>0.000000</td>\n",
       "      <td>3914</td>\n",
       "      <td>5.720039e-06</td>\n",
       "      <td>16735.674093</td>\n",
       "      <td>3921</td>\n",
       "      <td>0.000229</td>\n",
       "      <td>6.688613e+05</td>\n",
       "      <td>3921</td>\n",
       "      <td>6.624970e-07</td>\n",
       "      <td>1938.331951</td>\n",
       "    </tr>\n",
       "    <tr>\n",
       "      <th>111013</th>\n",
       "      <td>1194</td>\n",
       "      <td>111013.0</td>\n",
       "      <td>1194</td>\n",
       "      <td>747422.836265</td>\n",
       "      <td>8.924229e+08</td>\n",
       "      <td>1141</td>\n",
       "      <td>-4.750628e-08</td>\n",
       "      <td>-42.395691</td>\n",
       "      <td>1194</td>\n",
       "      <td>5.224477e-08</td>\n",
       "      <td>...</td>\n",
       "      <td>0.000000</td>\n",
       "      <td>1141</td>\n",
       "      <td>4.924584e-06</td>\n",
       "      <td>4394.811805</td>\n",
       "      <td>1194</td>\n",
       "      <td>0.000694</td>\n",
       "      <td>6.191623e+05</td>\n",
       "      <td>1194</td>\n",
       "      <td>5.123168e-08</td>\n",
       "      <td>45.720323</td>\n",
       "    </tr>\n",
       "    <tr>\n",
       "      <th>111014</th>\n",
       "      <td>5605</td>\n",
       "      <td>111014.0</td>\n",
       "      <td>5605</td>\n",
       "      <td>750449.270450</td>\n",
       "      <td>4.206268e+09</td>\n",
       "      <td>5605</td>\n",
       "      <td>0.000000e+00</td>\n",
       "      <td>0.000000</td>\n",
       "      <td>5605</td>\n",
       "      <td>2.158286e-07</td>\n",
       "      <td>...</td>\n",
       "      <td>0.000000</td>\n",
       "      <td>5605</td>\n",
       "      <td>0.000000e+00</td>\n",
       "      <td>0.000000</td>\n",
       "      <td>5605</td>\n",
       "      <td>0.000018</td>\n",
       "      <td>7.558842e+04</td>\n",
       "      <td>5605</td>\n",
       "      <td>2.111498e-07</td>\n",
       "      <td>888.152682</td>\n",
       "    </tr>\n",
       "    <tr>\n",
       "      <th>111015</th>\n",
       "      <td>21873</td>\n",
       "      <td>111015.0</td>\n",
       "      <td>21873</td>\n",
       "      <td>758792.279231</td>\n",
       "      <td>1.659706e+10</td>\n",
       "      <td>21086</td>\n",
       "      <td>0.000000e+00</td>\n",
       "      <td>0.000000</td>\n",
       "      <td>21769</td>\n",
       "      <td>2.750456e-08</td>\n",
       "      <td>...</td>\n",
       "      <td>0.000000</td>\n",
       "      <td>21086</td>\n",
       "      <td>2.064860e-08</td>\n",
       "      <td>342.706117</td>\n",
       "      <td>21769</td>\n",
       "      <td>0.000541</td>\n",
       "      <td>8.983459e+06</td>\n",
       "      <td>21769</td>\n",
       "      <td>2.690531e-08</td>\n",
       "      <td>446.549220</td>\n",
       "    </tr>\n",
       "  </tbody>\n",
       "</table>\n",
       "<p>5 rows × 473 columns</p>\n",
       "</div>"
      ],
      "text/plain": [
       "         count_Hybas06  mean_Hybas06  count_area_30s_m2  mean_area_30s_m2  \\\n",
       "PFAF_ID                                                                     \n",
       "111011            2536      111011.0               2536     743658.186761   \n",
       "111012            3921      111012.0               3921     746186.462653   \n",
       "111013            1194      111013.0               1194     747422.836265   \n",
       "111014            5605      111014.0               5605     750449.270450   \n",
       "111015           21873      111015.0              21873     758792.279231   \n",
       "\n",
       "         total_area_30s_m2  count_runoff_monthY2014M09  \\\n",
       "PFAF_ID                                                  \n",
       "111011        1.885917e+09                        2479   \n",
       "111012        2.925797e+09                        3914   \n",
       "111013        8.924229e+08                        1141   \n",
       "111014        4.206268e+09                        5605   \n",
       "111015        1.659706e+10                       21086   \n",
       "\n",
       "         mean_runoff_monthY2014M09  total_volume_runoff_monthY2014M09  \\\n",
       "PFAF_ID                                                                 \n",
       "111011               -1.791564e-07                        -337.874070   \n",
       "111012               -7.736314e-08                        -226.348862   \n",
       "111013               -4.750628e-08                         -42.395691   \n",
       "111014                0.000000e+00                           0.000000   \n",
       "111015                0.000000e+00                           0.000000   \n",
       "\n",
       "         count_PLivWN_monthY2014M08  mean_PLivWN_monthY2014M08  \\\n",
       "PFAF_ID                                                          \n",
       "111011                         2536               1.392067e-07   \n",
       "111012                         3921               6.749631e-07   \n",
       "111013                         1194               5.224477e-08   \n",
       "111014                         5605               2.158286e-07   \n",
       "111015                        21769               2.750456e-08   \n",
       "\n",
       "                       ...                  total_volume_PIrrWW_monthY2014M09  \\\n",
       "PFAF_ID                ...                                                      \n",
       "111011                 ...                                      347598.275922   \n",
       "111012                 ...                                           0.000000   \n",
       "111013                 ...                                           0.000000   \n",
       "111014                 ...                                           0.000000   \n",
       "111015                 ...                                           0.000000   \n",
       "\n",
       "         count_runoff_monthY2014M10  mean_runoff_monthY2014M10  \\\n",
       "PFAF_ID                                                          \n",
       "111011                         2479               1.989458e-05   \n",
       "111012                         3914               5.720039e-06   \n",
       "111013                         1141               4.924584e-06   \n",
       "111014                         5605               0.000000e+00   \n",
       "111015                        21086               2.064860e-08   \n",
       "\n",
       "         total_volume_runoff_monthY2014M10  count_PIndWW_monthY2014M01  \\\n",
       "PFAF_ID                                                                  \n",
       "111011                        37519.523523                        2536   \n",
       "111012                        16735.674093                        3921   \n",
       "111013                         4394.811805                        1194   \n",
       "111014                            0.000000                        5605   \n",
       "111015                          342.706117                       21769   \n",
       "\n",
       "         mean_PIndWW_monthY2014M01  total_volume_PIndWW_monthY2014M01  \\\n",
       "PFAF_ID                                                                 \n",
       "111011                    0.002146                       4.048026e+06   \n",
       "111012                    0.000229                       6.688613e+05   \n",
       "111013                    0.000694                       6.191623e+05   \n",
       "111014                    0.000018                       7.558842e+04   \n",
       "111015                    0.000541                       8.983459e+06   \n",
       "\n",
       "         count_PLivWW_monthY2014M09  mean_PLivWW_monthY2014M09  \\\n",
       "PFAF_ID                                                          \n",
       "111011                         2536               1.366897e-07   \n",
       "111012                         3921               6.624970e-07   \n",
       "111013                         1194               5.123168e-08   \n",
       "111014                         5605               2.111498e-07   \n",
       "111015                        21769               2.690531e-08   \n",
       "\n",
       "         total_volume_PLivWW_monthY2014M09  \n",
       "PFAF_ID                                     \n",
       "111011                          257.785492  \n",
       "111012                         1938.331951  \n",
       "111013                           45.720323  \n",
       "111014                          888.152682  \n",
       "111015                          446.549220  \n",
       "\n",
       "[5 rows x 473 columns]"
      ]
     },
     "execution_count": 18,
     "metadata": {},
     "output_type": "execute_result"
    }
   ],
   "source": [
    "df_ee.head()"
   ]
  },
  {
   "cell_type": "code",
   "execution_count": 23,
   "metadata": {
    "collapsed": true
   },
   "outputs": [],
   "source": [
    "sumSeries = df_ee.sum(0)"
   ]
  },
  {
   "cell_type": "code",
   "execution_count": 24,
   "metadata": {},
   "outputs": [
    {
     "data": {
      "text/plain": [
       "count_Hybas06                                         2.220802e+08\n",
       "mean_Hybas06                                          7.239134e+09\n",
       "count_area_30s_m2                                     2.220802e+08\n",
       "mean_area_30s_m2                                      1.099506e+10\n",
       "total_area_30s_m2                                     1.348187e+14\n",
       "count_runoff_monthY2014M09                            2.111675e+08\n",
       "mean_runoff_monthY2014M09                             4.722635e+02\n",
       "total_volume_runoff_monthY2014M09                     4.063999e+12\n",
       "count_PLivWN_monthY2014M08                            2.214955e+08\n",
       "mean_PLivWN_monthY2014M08                             1.808036e-01\n",
       "total_volume_PLivWN_monthY2014M08                     1.459008e+09\n",
       "count_PLivWW_monthY2014M10                            2.214955e+08\n",
       "mean_PLivWW_monthY2014M10                             1.791513e-01\n",
       "total_volume_PLivWW_monthY2014M10                     1.444638e+09\n",
       "count_PIndWN_monthY2014M09                            2.212373e+08\n",
       "mean_PIndWN_monthY2014M09                             2.641954e+00\n",
       "total_volume_PIndWN_monthY2014M09                     1.885271e+10\n",
       "count_PIrrWW_monthY2014M02                            2.214802e+08\n",
       "mean_PIrrWW_monthY2014M02                             1.892907e+01\n",
       "total_volume_PIrrWW_monthY2014M02                     1.514360e+11\n",
       "count_PLivWW_monthY2014M05                            2.214955e+08\n",
       "mean_PLivWW_monthY2014M05                             1.836034e-01\n",
       "total_volume_PLivWW_monthY2014M05                     1.480810e+09\n",
       "count_IrrLinearWN_yearY2014                           2.214802e+08\n",
       "mean_IrrLinearWN_yearY2014                            1.514212e+02\n",
       "total_volume_IrrLinearWN_yearY2014                    1.204408e+12\n",
       "count_PLivWN_yearY2014M12                             2.214955e+08\n",
       "mean_PLivWN_yearY2014M12                              2.117180e+00\n",
       "total_volume_PLivWN_yearY2014M12                      1.708466e+10\n",
       "count_PIndWW_monthY2014M06                            2.212373e+08\n",
       "                                                          ...     \n",
       "count_PIrrWW_monthY2014M01                            2.214802e+08\n",
       "mean_PIrrWW_monthY2014M01                             1.874720e+01\n",
       "total_volume_PIrrWW_monthY2014M01                     1.514753e+11\n",
       "count_PIrrWW_yearY2014M12                             2.214802e+08\n",
       "mean_PIrrWW_yearY2014M12                              3.954160e+02\n",
       "total_volume_PIrrWW_yearY2014M12                      3.139565e+12\n",
       "count_PDomWN_monthY2014M06                            2.214802e+08\n",
       "mean_PDomWN_monthY2014M06                             3.106316e+00\n",
       "total_volume_PDomWN_monthY2014M06                     2.261600e+10\n",
       "count_IrrLinearWN_monthY2014M07                       2.214802e+08\n",
       "mean_IrrLinearWN_monthY2014M07                        2.312037e+01\n",
       "total_volume_IrrLinearWN_monthY2014M07                1.784545e+11\n",
       "count_PDomWW_monthY2014M03                            2.214802e+08\n",
       "mean_PDomWW_monthY2014M03                             6.213174e+00\n",
       "total_volume_PDomWW_monthY2014M03                     4.149439e+10\n",
       "count_reducedmeanrunoff_month_Y1960Y2014M02           2.111675e+08\n",
       "mean_reducedmeanrunoff_month_Y1960Y2014M02            4.063460e+02\n",
       "total_volume_reducedmeanrunoff_month_Y1960Y2014M02    3.521568e+12\n",
       "count_PIrrWW_monthY2014M09                            2.214802e+08\n",
       "mean_PIrrWW_monthY2014M09                             3.403691e+01\n",
       "total_volume_PIrrWW_monthY2014M09                     2.678030e+11\n",
       "count_runoff_monthY2014M10                            2.111675e+08\n",
       "mean_runoff_monthY2014M10                             4.196822e+02\n",
       "total_volume_runoff_monthY2014M10                     3.620129e+12\n",
       "count_PIndWW_monthY2014M01                            2.212373e+08\n",
       "mean_PIndWW_monthY2014M01                             1.174993e+01\n",
       "total_volume_PIndWW_monthY2014M01                     8.279401e+10\n",
       "count_PLivWW_monthY2014M09                            2.214955e+08\n",
       "mean_PLivWW_monthY2014M09                             1.815421e-01\n",
       "total_volume_PLivWW_monthY2014M09                     1.463590e+09\n",
       "Length: 473, dtype: float64"
      ]
     },
     "execution_count": 24,
     "metadata": {},
     "output_type": "execute_result"
    }
   ],
   "source": [
    "sumSeries"
   ]
  },
  {
   "cell_type": "code",
   "execution_count": 37,
   "metadata": {
    "collapsed": true
   },
   "outputs": [],
   "source": [
    "sumSeries[\"count_Hybas06\"] = -1"
   ]
  },
  {
   "cell_type": "code",
   "execution_count": 38,
   "metadata": {},
   "outputs": [],
   "source": [
    "test = sumSeries.filter(regex=(\"count_Hybas06*|count_area_30s_m2\")).clip(lower=0)"
   ]
  },
  {
   "cell_type": "code",
   "execution_count": 39,
   "metadata": {},
   "outputs": [
    {
     "data": {
      "text/plain": [
       "count_Hybas06                0.0\n",
       "count_area_30s_m2    222080176.0\n",
       "dtype: float64"
      ]
     },
     "execution_count": 39,
     "metadata": {},
     "output_type": "execute_result"
    }
   ],
   "source": [
    "test"
   ]
  },
  {
   "cell_type": "code",
   "execution_count": null,
   "metadata": {
    "collapsed": true
   },
   "outputs": [],
   "source": []
  },
  {
   "cell_type": "code",
   "execution_count": null,
   "metadata": {
    "collapsed": true
   },
   "outputs": [],
   "source": [
    "dfTest = df_ee[df_ee[\"total_volume_reducedmeanrunoff_month_Y1960Y2014M01\"] < 0 ]"
   ]
  },
  {
   "cell_type": "code",
   "execution_count": null,
   "metadata": {
    "collapsed": true
   },
   "outputs": [],
   "source": [
    "mask = df_ee[\"total_volume_reducedmeanrunoff_month_Y1960Y2014M01\"] < 0\n",
    "\n",
    "df_ee.loc[mask, \"total_volume_reducedmeanrunoff_month_Y1960Y2014M01\"] = 0"
   ]
  },
  {
   "cell_type": "code",
   "execution_count": null,
   "metadata": {},
   "outputs": [],
   "source": [
    "df_ee.total_volume_reducedmeanrunoff_month_Y1960Y2014M01.min()"
   ]
  },
  {
   "cell_type": "code",
   "execution_count": null,
   "metadata": {
    "collapsed": true
   },
   "outputs": [],
   "source": []
  }
 ],
 "metadata": {
  "kernelspec": {
   "display_name": "Python 35",
   "language": "python",
   "name": "python35"
  },
  "language_info": {
   "codemirror_mode": {
    "name": "ipython",
    "version": 3
   },
   "file_extension": ".py",
   "mimetype": "text/x-python",
   "name": "python",
   "nbconvert_exporter": "python",
   "pygments_lexer": "ipython3",
   "version": "3.5.4"
  }
 },
 "nbformat": 4,
 "nbformat_minor": 2
}
