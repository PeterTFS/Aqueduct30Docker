{
 "cells": [
  {
   "cell_type": "code",
   "execution_count": 26,
   "metadata": {
    "collapsed": true
   },
   "outputs": [],
   "source": [
    "S3_INPUT_PATH = \"s3://wri-projects/Aqueduct30/test/testGpd/\"\n",
    "EC2_INPUT_PATH = \"/volumes/data/temp/\""
   ]
  },
  {
   "cell_type": "code",
   "execution_count": 27,
   "metadata": {
    "collapsed": true
   },
   "outputs": [],
   "source": [
    "!mkdir -p {EC2_INPUT_PATH}"
   ]
  },
  {
   "cell_type": "code",
   "execution_count": 28,
   "metadata": {},
   "outputs": [
    {
     "name": "stdout",
     "output_type": "stream",
     "text": [
      "download: s3://wri-projects/Aqueduct30/test/testGpd/FAO/faoBuffered.cpg to ../../../../data/temp/FAO/faoBuffered.cpg\n",
      "download: s3://wri-projects/Aqueduct30/test/testGpd/FAO/faoBuffered.qpj to ../../../../data/temp/FAO/faoBuffered.qpj\n",
      "download: s3://wri-projects/Aqueduct30/test/testGpd/FAO/faoBuffered.dbf to ../../../../data/temp/FAO/faoBuffered.dbf\n",
      "download: s3://wri-projects/Aqueduct30/test/testGpd/FAO/faoBuffered.prj to ../../../../data/temp/FAO/faoBuffered.prj\n",
      "download: s3://wri-projects/Aqueduct30/test/testGpd/FAO/faoBuffered.shx to ../../../../data/temp/FAO/faoBuffered.shx\n",
      "download: s3://wri-projects/Aqueduct30/test/testGpd/Hybas/hybas_lev06_v1c_merged_fiona_V01.prj to ../../../../data/temp/Hybas/hybas_lev06_v1c_merged_fiona_V01.prj\n",
      "download: s3://wri-projects/Aqueduct30/test/testGpd/Hybas/hybas_lev06_v1c_merged_fiona_V01.cpg to ../../../../data/temp/Hybas/hybas_lev06_v1c_merged_fiona_V01.cpg\n",
      "download: s3://wri-projects/Aqueduct30/test/testGpd/Hybas/hybas_lev06_v1c_merged_fiona_V01.dbf to ../../../../data/temp/Hybas/hybas_lev06_v1c_merged_fiona_V01.dbf\n",
      "download: s3://wri-projects/Aqueduct30/test/testGpd/FAO/faoBuffered.shp to ../../../../data/temp/FAO/faoBuffered.shp\n",
      "download: s3://wri-projects/Aqueduct30/test/testGpd/Hybas/hybas_lev06_v1c_merged_fiona_V01.shx to ../../../../data/temp/Hybas/hybas_lev06_v1c_merged_fiona_V01.shx\n",
      "download: s3://wri-projects/Aqueduct30/test/testGpd/Hybas/hybas_lev06_v1c_merged_fiona_V01.shp to ../../../../data/temp/Hybas/hybas_lev06_v1c_merged_fiona_V01.shp\n"
     ]
    }
   ],
   "source": [
    "!aws s3 cp {S3_INPUT_PATH} {EC2_INPUT_PATH} --recursive"
   ]
  },
  {
   "cell_type": "code",
   "execution_count": 14,
   "metadata": {
    "collapsed": true
   },
   "outputs": [],
   "source": [
    "import pandas as pd\n",
    "import geopandas as gpd\n",
    "import matplotlib.pyplot as plt\n",
    "%matplotlib notebook\n",
    "import os\n",
    "import folium"
   ]
  },
  {
   "cell_type": "code",
   "execution_count": 3,
   "metadata": {},
   "outputs": [],
   "source": [
    "from shapely.wkt import loads\n",
    "from shapely.geometry import Point"
   ]
  },
  {
   "cell_type": "code",
   "execution_count": 4,
   "metadata": {
    "collapsed": true
   },
   "outputs": [],
   "source": [
    "data = {'name': ['a', 'b', 'c'],\n",
    "        'lat': [45, 46, 47.5],\n",
    "        'lon': [-120, -121.2, -122.9]}"
   ]
  },
  {
   "cell_type": "code",
   "execution_count": 5,
   "metadata": {},
   "outputs": [
    {
     "data": {
      "text/plain": [
       "[<shapely.geometry.point.Point at 0x7fc2d9089e10>,\n",
       " <shapely.geometry.point.Point at 0x7fc2d9089e48>,\n",
       " <shapely.geometry.point.Point at 0x7fc305766b70>]"
      ]
     },
     "execution_count": 5,
     "metadata": {},
     "output_type": "execute_result"
    }
   ],
   "source": [
    "geometry = [Point(xy) for xy in zip(data['lon'], data['lat'])]\n",
    "geometry"
   ]
  },
  {
   "cell_type": "code",
   "execution_count": 6,
   "metadata": {},
   "outputs": [
    {
     "data": {
      "text/html": [
       "<div>\n",
       "<style>\n",
       "    .dataframe thead tr:only-child th {\n",
       "        text-align: right;\n",
       "    }\n",
       "\n",
       "    .dataframe thead th {\n",
       "        text-align: left;\n",
       "    }\n",
       "\n",
       "    .dataframe tbody tr th {\n",
       "        vertical-align: top;\n",
       "    }\n",
       "</style>\n",
       "<table border=\"1\" class=\"dataframe\">\n",
       "  <thead>\n",
       "    <tr style=\"text-align: right;\">\n",
       "      <th></th>\n",
       "      <th>lat</th>\n",
       "      <th>lon</th>\n",
       "      <th>name</th>\n",
       "    </tr>\n",
       "  </thead>\n",
       "  <tbody>\n",
       "    <tr>\n",
       "      <th>0</th>\n",
       "      <td>45.0</td>\n",
       "      <td>-120.0</td>\n",
       "      <td>a</td>\n",
       "    </tr>\n",
       "    <tr>\n",
       "      <th>1</th>\n",
       "      <td>46.0</td>\n",
       "      <td>-121.2</td>\n",
       "      <td>b</td>\n",
       "    </tr>\n",
       "    <tr>\n",
       "      <th>2</th>\n",
       "      <td>47.5</td>\n",
       "      <td>-122.9</td>\n",
       "      <td>c</td>\n",
       "    </tr>\n",
       "  </tbody>\n",
       "</table>\n",
       "</div>"
      ],
      "text/plain": [
       "    lat    lon name\n",
       "0  45.0 -120.0    a\n",
       "1  46.0 -121.2    b\n",
       "2  47.5 -122.9    c"
      ]
     },
     "execution_count": 6,
     "metadata": {},
     "output_type": "execute_result"
    }
   ],
   "source": [
    "df = pd.DataFrame(data)\n",
    "df"
   ]
  },
  {
   "cell_type": "code",
   "execution_count": 9,
   "metadata": {},
   "outputs": [],
   "source": [
    "geometry = [Point(xy) for xy in zip(df['lon'], df['lat'])]\n",
    "gdfCities = gpd.GeoDataFrame(df, geometry=geometry)"
   ]
  },
  {
   "cell_type": "code",
   "execution_count": 10,
   "metadata": {},
   "outputs": [
    {
     "data": {
      "text/html": [
       "<div>\n",
       "<style>\n",
       "    .dataframe thead tr:only-child th {\n",
       "        text-align: right;\n",
       "    }\n",
       "\n",
       "    .dataframe thead th {\n",
       "        text-align: left;\n",
       "    }\n",
       "\n",
       "    .dataframe tbody tr th {\n",
       "        vertical-align: top;\n",
       "    }\n",
       "</style>\n",
       "<table border=\"1\" class=\"dataframe\">\n",
       "  <thead>\n",
       "    <tr style=\"text-align: right;\">\n",
       "      <th></th>\n",
       "      <th>lat</th>\n",
       "      <th>lon</th>\n",
       "      <th>name</th>\n",
       "      <th>geometry</th>\n",
       "    </tr>\n",
       "  </thead>\n",
       "  <tbody>\n",
       "    <tr>\n",
       "      <th>0</th>\n",
       "      <td>45.0</td>\n",
       "      <td>-120.0</td>\n",
       "      <td>a</td>\n",
       "      <td>POINT (-120 45)</td>\n",
       "    </tr>\n",
       "    <tr>\n",
       "      <th>1</th>\n",
       "      <td>46.0</td>\n",
       "      <td>-121.2</td>\n",
       "      <td>b</td>\n",
       "      <td>POINT (-121.2 46)</td>\n",
       "    </tr>\n",
       "    <tr>\n",
       "      <th>2</th>\n",
       "      <td>47.5</td>\n",
       "      <td>-122.9</td>\n",
       "      <td>c</td>\n",
       "      <td>POINT (-122.9 47.5)</td>\n",
       "    </tr>\n",
       "  </tbody>\n",
       "</table>\n",
       "</div>"
      ],
      "text/plain": [
       "    lat    lon name             geometry\n",
       "0  45.0 -120.0    a      POINT (-120 45)\n",
       "1  46.0 -121.2    b    POINT (-121.2 46)\n",
       "2  47.5 -122.9    c  POINT (-122.9 47.5)"
      ]
     },
     "execution_count": 10,
     "metadata": {},
     "output_type": "execute_result"
    }
   ],
   "source": [
    "gdfCities"
   ]
  },
  {
   "cell_type": "code",
   "execution_count": 17,
   "metadata": {},
   "outputs": [],
   "source": [
    "gdfCities.crs = {'init': 'epsg:4326'}"
   ]
  },
  {
   "cell_type": "code",
   "execution_count": 18,
   "metadata": {},
   "outputs": [
    {
     "data": {
      "text/html": [
       "<div>\n",
       "<style>\n",
       "    .dataframe thead tr:only-child th {\n",
       "        text-align: right;\n",
       "    }\n",
       "\n",
       "    .dataframe thead th {\n",
       "        text-align: left;\n",
       "    }\n",
       "\n",
       "    .dataframe tbody tr th {\n",
       "        vertical-align: top;\n",
       "    }\n",
       "</style>\n",
       "<table border=\"1\" class=\"dataframe\">\n",
       "  <thead>\n",
       "    <tr style=\"text-align: right;\">\n",
       "      <th></th>\n",
       "      <th>continent</th>\n",
       "      <th>gdp_md_est</th>\n",
       "      <th>geometry</th>\n",
       "      <th>iso_a3</th>\n",
       "      <th>name</th>\n",
       "      <th>pop_est</th>\n",
       "    </tr>\n",
       "  </thead>\n",
       "  <tbody>\n",
       "    <tr>\n",
       "      <th>0</th>\n",
       "      <td>Asia</td>\n",
       "      <td>22270.0</td>\n",
       "      <td>POLYGON ((61.21081709172574 35.65007233330923,...</td>\n",
       "      <td>AFG</td>\n",
       "      <td>Afghanistan</td>\n",
       "      <td>28400000.0</td>\n",
       "    </tr>\n",
       "    <tr>\n",
       "      <th>1</th>\n",
       "      <td>Africa</td>\n",
       "      <td>110300.0</td>\n",
       "      <td>(POLYGON ((16.32652835456705 -5.87747039146621...</td>\n",
       "      <td>AGO</td>\n",
       "      <td>Angola</td>\n",
       "      <td>12799293.0</td>\n",
       "    </tr>\n",
       "  </tbody>\n",
       "</table>\n",
       "</div>"
      ],
      "text/plain": [
       "  continent  gdp_md_est                                           geometry  \\\n",
       "0      Asia     22270.0  POLYGON ((61.21081709172574 35.65007233330923,...   \n",
       "1    Africa    110300.0  (POLYGON ((16.32652835456705 -5.87747039146621...   \n",
       "\n",
       "  iso_a3         name     pop_est  \n",
       "0    AFG  Afghanistan  28400000.0  \n",
       "1    AGO       Angola  12799293.0  "
      ]
     },
     "execution_count": 18,
     "metadata": {},
     "output_type": "execute_result"
    }
   ],
   "source": [
    "gdfWorld = gpd.read_file(gpd.datasets.get_path('naturalearth_lowres'))\n",
    "gdfWorld.head(2)"
   ]
  },
  {
   "cell_type": "code",
   "execution_count": 24,
   "metadata": {},
   "outputs": [],
   "source": [
    "gdfJoined = gpd.sjoin(gdfWorld,gdfCities, how=\"right\", op='intersects')"
   ]
  },
  {
   "cell_type": "code",
   "execution_count": 25,
   "metadata": {},
   "outputs": [
    {
     "data": {
      "text/html": [
       "<div>\n",
       "<style>\n",
       "    .dataframe thead tr:only-child th {\n",
       "        text-align: right;\n",
       "    }\n",
       "\n",
       "    .dataframe thead th {\n",
       "        text-align: left;\n",
       "    }\n",
       "\n",
       "    .dataframe tbody tr th {\n",
       "        vertical-align: top;\n",
       "    }\n",
       "</style>\n",
       "<table border=\"1\" class=\"dataframe\">\n",
       "  <thead>\n",
       "    <tr style=\"text-align: right;\">\n",
       "      <th></th>\n",
       "      <th>continent</th>\n",
       "      <th>gdp_md_est</th>\n",
       "      <th>iso_a3</th>\n",
       "      <th>name_x</th>\n",
       "      <th>pop_est</th>\n",
       "      <th>index_left</th>\n",
       "      <th>lat</th>\n",
       "      <th>lon</th>\n",
       "      <th>name_y</th>\n",
       "      <th>geometry</th>\n",
       "    </tr>\n",
       "    <tr>\n",
       "      <th>index_right</th>\n",
       "      <th></th>\n",
       "      <th></th>\n",
       "      <th></th>\n",
       "      <th></th>\n",
       "      <th></th>\n",
       "      <th></th>\n",
       "      <th></th>\n",
       "      <th></th>\n",
       "      <th></th>\n",
       "      <th></th>\n",
       "    </tr>\n",
       "  </thead>\n",
       "  <tbody>\n",
       "    <tr>\n",
       "      <th>0</th>\n",
       "      <td>North America</td>\n",
       "      <td>15094000.0</td>\n",
       "      <td>USA</td>\n",
       "      <td>United States</td>\n",
       "      <td>313973000.0</td>\n",
       "      <td>168</td>\n",
       "      <td>45.0</td>\n",
       "      <td>-120.0</td>\n",
       "      <td>a</td>\n",
       "      <td>POINT (-120 45)</td>\n",
       "    </tr>\n",
       "    <tr>\n",
       "      <th>1</th>\n",
       "      <td>North America</td>\n",
       "      <td>15094000.0</td>\n",
       "      <td>USA</td>\n",
       "      <td>United States</td>\n",
       "      <td>313973000.0</td>\n",
       "      <td>168</td>\n",
       "      <td>46.0</td>\n",
       "      <td>-121.2</td>\n",
       "      <td>b</td>\n",
       "      <td>POINT (-121.2 46)</td>\n",
       "    </tr>\n",
       "    <tr>\n",
       "      <th>2</th>\n",
       "      <td>North America</td>\n",
       "      <td>15094000.0</td>\n",
       "      <td>USA</td>\n",
       "      <td>United States</td>\n",
       "      <td>313973000.0</td>\n",
       "      <td>168</td>\n",
       "      <td>47.5</td>\n",
       "      <td>-122.9</td>\n",
       "      <td>c</td>\n",
       "      <td>POINT (-122.9 47.5)</td>\n",
       "    </tr>\n",
       "  </tbody>\n",
       "</table>\n",
       "</div>"
      ],
      "text/plain": [
       "                 continent  gdp_md_est iso_a3         name_x      pop_est  \\\n",
       "index_right                                                                 \n",
       "0            North America  15094000.0    USA  United States  313973000.0   \n",
       "1            North America  15094000.0    USA  United States  313973000.0   \n",
       "2            North America  15094000.0    USA  United States  313973000.0   \n",
       "\n",
       "             index_left   lat    lon name_y             geometry  \n",
       "index_right                                                       \n",
       "0                   168  45.0 -120.0      a      POINT (-120 45)  \n",
       "1                   168  46.0 -121.2      b    POINT (-121.2 46)  \n",
       "2                   168  47.5 -122.9      c  POINT (-122.9 47.5)  "
      ]
     },
     "execution_count": 25,
     "metadata": {},
     "output_type": "execute_result"
    }
   ],
   "source": [
    "gdfJoined"
   ]
  },
  {
   "cell_type": "code",
   "execution_count": null,
   "metadata": {
    "collapsed": true
   },
   "outputs": [],
   "source": [
    "m = folium.Map(location=[47.8, -122.5], zoom_start=7,tiles='Stamen Toner')"
   ]
  },
  {
   "cell_type": "code",
   "execution_count": null,
   "metadata": {
    "collapsed": true
   },
   "outputs": [],
   "source": [
    "geo_str = world.to_json()"
   ]
  },
  {
   "cell_type": "code",
   "execution_count": null,
   "metadata": {
    "collapsed": true
   },
   "outputs": [],
   "source": [
    "m.choropleth(geo_str=geo_str)"
   ]
  },
  {
   "cell_type": "code",
   "execution_count": null,
   "metadata": {},
   "outputs": [],
   "source": [
    "m"
   ]
  },
  {
   "cell_type": "code",
   "execution_count": null,
   "metadata": {
    "collapsed": true
   },
   "outputs": [],
   "source": []
  }
 ],
 "metadata": {
  "kernelspec": {
   "display_name": "Python 35",
   "language": "python",
   "name": "python35"
  },
  "language_info": {
   "codemirror_mode": {
    "name": "ipython",
    "version": 3
   },
   "file_extension": ".py",
   "mimetype": "text/x-python",
   "name": "python",
   "nbconvert_exporter": "python",
   "pygments_lexer": "ipython3",
   "version": "3.5.3"
  }
 },
 "nbformat": 4,
 "nbformat_minor": 2
}
