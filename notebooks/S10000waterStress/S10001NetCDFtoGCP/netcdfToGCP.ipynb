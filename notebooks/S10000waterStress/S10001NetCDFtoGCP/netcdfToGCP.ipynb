{
 "cells": [
  {
   "cell_type": "markdown",
   "metadata": {},
   "source": [
    "## PURPOSE  \n",
    "    Read University of Utrecht files and store as geotiff\n",
    "    this project use a virtual environment with the following pip installs:\n",
    "    netcdf4, https://pythongisandstuff.wordpress.com/2016/04/13/installing-gdal-ogr-for-python-on-windows/\n",
    "\n",
    "## PROGRAMMER(S)  \n",
    "    Rutger Hofste  \n",
    "    Chris Slocum  \n",
    "## REVISION HISTORY  \n",
    "    20170715 -- Moved to Jupyter notebook on server  \n",
    "    20170203 -- GDAL part added  \n",
    "    20161202 -- Rutger changes to work with UU data  \n",
    "    20140320 -- Initial version created and posted online  \n",
    "    20140722 -- Added basic error handling to ncdump  \n",
    "                Thanks to K.-Michael Aye for highlighting the issue  \n",
    "## REFERENCES\n",
    "    netcdf4-python -- http://code.google.com/p/netcdf4-python/  \n",
    "    colormap -- http://matplotlib.org/examples/pylab_examples/custom_cmap.html  \n",
    "    GDAL -- https://pythongisandstuff.wordpress.com/2016/04/13/installing-gdal-ogr-for-python-on-windows/  \n",
    "\n",
    "## CAVEATS  \n",
    "    I did not use a robust way to find the filename without extension. Filepath cannot contain periods. No error module built in."
   ]
  },
  {
   "cell_type": "code",
   "execution_count": null,
   "metadata": {
    "collapsed": true
   },
   "outputs": [],
   "source": [
    "try:\n",
    "    from osgeo import ogr, osr, gdal\n",
    "except:\n",
    "    sys.exit('ERROR: cannot find GDAL/OGR modules')"
   ]
  }
 ],
 "metadata": {
  "kernelspec": {
   "display_name": "Python 2",
   "language": "python",
   "name": "python2"
  },
  "language_info": {
   "codemirror_mode": {
    "name": "ipython",
    "version": 2
   },
   "file_extension": ".py",
   "mimetype": "text/x-python",
   "name": "python",
   "nbconvert_exporter": "python",
   "pygments_lexer": "ipython2",
   "version": "2.7.13"
  }
 },
 "nbformat": 4,
 "nbformat_minor": 1
}
