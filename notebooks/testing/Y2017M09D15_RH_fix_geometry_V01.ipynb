{
 "cells": [
  {
   "cell_type": "code",
   "execution_count": 25,
   "metadata": {
    "collapsed": true
   },
   "outputs": [],
   "source": [
    "EC2_INPUT_PATH = \"/volumes/data/Y2017M09D15_RH_fix_geometry_V01/input/\"\n",
    "EC2_OUTPUT_PATH = \"/volumes/data/Y2017M09D15_RH_fix_geometry_V01/output/\"\n",
    "\n",
    "S3_INPUT_PATH = \"s3://wri-projects/Aqueduct30/processData/Y2017M08D29_RH_Merge_FAONames_Upstream_V01/output/\"\n",
    "S3_OUTPUT_PATH = \"s3://wri-projects/Aqueduct30/processData/Y2017M09D15_RH_fix_geometry_V01/output/\"\n",
    "\n",
    "INPUT_FILE_NAME = \"hybas_lev06_v1c_merged_fiona_upstream_downstream_FAO_V01.shp\"\n",
    "OUTPUT_FILE_NAME = \"hybas_lev06_v1c_merged_fiona_upstream_downstream_FAO_ogr_V01.shp\"\n"
   ]
  },
  {
   "cell_type": "code",
   "execution_count": 26,
   "metadata": {},
   "outputs": [],
   "source": [
    "!rm -r {EC2_INPUT_PATH}\n",
    "!rm -r {EC2_OUTPUT_PATH}"
   ]
  },
  {
   "cell_type": "code",
   "execution_count": 27,
   "metadata": {
    "collapsed": true
   },
   "outputs": [],
   "source": [
    "!mkdir -p {EC2_INPUT_PATH}\n",
    "!mkdir -p {EC2_OUTPUT_PATH}"
   ]
  },
  {
   "cell_type": "code",
   "execution_count": 28,
   "metadata": {},
   "outputs": [
    {
     "name": "stdout",
     "output_type": "stream",
     "text": [
      "download: s3://wri-projects/Aqueduct30/processData/Y2017M08D29_RH_Merge_FAONames_Upstream_V01/output/hybas_lev06_v1c_merged_fiona_upstream_downstream_FAO_V01.cpg to ../../../../data/Y2017M09D15_RH_fix_geometry_V01/input/hybas_lev06_v1c_merged_fiona_upstream_downstream_FAO_V01.cpg\n",
      "download: s3://wri-projects/Aqueduct30/processData/Y2017M08D29_RH_Merge_FAONames_Upstream_V01/output/hybas_lev06_v1c_merged_fiona_upstream_downstream_FAO_V01.prj to ../../../../data/Y2017M09D15_RH_fix_geometry_V01/input/hybas_lev06_v1c_merged_fiona_upstream_downstream_FAO_V01.prj\n",
      "download: s3://wri-projects/Aqueduct30/processData/Y2017M08D29_RH_Merge_FAONames_Upstream_V01/output/hybas_lev06_v1c_merged_fiona_upstream_downstream_FAO_V01.dbf to ../../../../data/Y2017M09D15_RH_fix_geometry_V01/input/hybas_lev06_v1c_merged_fiona_upstream_downstream_FAO_V01.dbf\n",
      "download: s3://wri-projects/Aqueduct30/processData/Y2017M08D29_RH_Merge_FAONames_Upstream_V01/output/hybas_lev06_v1c_merged_fiona_upstream_downstream_FAO_V01.shx to ../../../../data/Y2017M09D15_RH_fix_geometry_V01/input/hybas_lev06_v1c_merged_fiona_upstream_downstream_FAO_V01.shx\n",
      "download: s3://wri-projects/Aqueduct30/processData/Y2017M08D29_RH_Merge_FAONames_Upstream_V01/output/hybas_lev06_v1c_merged_fiona_upstream_downstream_FAO_V01.csv to ../../../../data/Y2017M09D15_RH_fix_geometry_V01/input/hybas_lev06_v1c_merged_fiona_upstream_downstream_FAO_V01.csv\n",
      "download: s3://wri-projects/Aqueduct30/processData/Y2017M08D29_RH_Merge_FAONames_Upstream_V01/output/hybas_lev06_v1c_merged_fiona_upstream_downstream_FAO_V01.shp to ../../../../data/Y2017M09D15_RH_fix_geometry_V01/input/hybas_lev06_v1c_merged_fiona_upstream_downstream_FAO_V01.shp\n"
     ]
    }
   ],
   "source": [
    "!aws s3 cp {S3_INPUT_PATH} {EC2_INPUT_PATH} --recursive"
   ]
  },
  {
   "cell_type": "code",
   "execution_count": 31,
   "metadata": {
    "collapsed": true
   },
   "outputs": [],
   "source": [
    "command = 'ogr2ogr -f \"ESRI Shapefile\" %s%s %s%s -nlt POLYGON' %(EC2_OUTPUT_PATH,OUTPUT_FILE_NAME,EC2_INPUT_PATH,INPUT_FILE_NAME)"
   ]
  },
  {
   "cell_type": "code",
   "execution_count": 32,
   "metadata": {},
   "outputs": [
    {
     "name": "stdout",
     "output_type": "stream",
     "text": [
      "ogr2ogr -f \"ESRI Shapefile\" /volumes/data/Y2017M09D15_RH_fix_geometry_V01/output/hybas_lev06_v1c_merged_fiona_upstream_downstream_FAO_ogr_V01.shp /volumes/data/Y2017M09D15_RH_fix_geometry_V01/input/hybas_lev06_v1c_merged_fiona_upstream_downstream_FAO_V01.shp -nlt POLYGON\n"
     ]
    }
   ],
   "source": [
    "print(command)"
   ]
  },
  {
   "cell_type": "code",
   "execution_count": 33,
   "metadata": {},
   "outputs": [
    {
     "name": "stdout",
     "output_type": "stream",
     "text": [
      "upload: ../../../../data/Y2017M09D15_RH_fix_geometry_V01/output/hybas_lev06_v1c_merged_fiona_upstream_downstream_FAO_ogr_V01.shx to s3://wri-projects/Aqueduct30/processData/Y2017M08D29_RH_Merge_FAONames_Upstream_V01output/hybas_lev06_v1c_merged_fiona_upstream_downstream_FAO_ogr_V01.shx\n",
      "upload: ../../../../data/Y2017M09D15_RH_fix_geometry_V01/output/hybas_lev06_v1c_merged_fiona_upstream_downstream_FAO_ogr_V01.prj to s3://wri-projects/Aqueduct30/processData/Y2017M08D29_RH_Merge_FAONames_Upstream_V01output/hybas_lev06_v1c_merged_fiona_upstream_downstream_FAO_ogr_V01.prj\n",
      "upload: ../../../../data/Y2017M09D15_RH_fix_geometry_V01/output/hybas_lev06_v1c_merged_fiona_upstream_downstream_FAO_ogr_V01.dbf to s3://wri-projects/Aqueduct30/processData/Y2017M08D29_RH_Merge_FAONames_Upstream_V01output/hybas_lev06_v1c_merged_fiona_upstream_downstream_FAO_ogr_V01.dbf\n",
      "upload: ../../../../data/Y2017M09D15_RH_fix_geometry_V01/output/hybas_lev06_v1c_merged_fiona_upstream_downstream_FAO_ogr_V01.shp to s3://wri-projects/Aqueduct30/processData/Y2017M08D29_RH_Merge_FAONames_Upstream_V01output/hybas_lev06_v1c_merged_fiona_upstream_downstream_FAO_ogr_V01.shp\n"
     ]
    }
   ],
   "source": [
    "!aws s3 cp {EC2_OUTPUT_PATH} {S3_OUTPUT_PATH} --recursive"
   ]
  },
  {
   "cell_type": "code",
   "execution_count": null,
   "metadata": {
    "collapsed": true
   },
   "outputs": [],
   "source": []
  }
 ],
 "metadata": {
  "kernelspec": {
   "display_name": "Python 35",
   "language": "python",
   "name": "python35"
  },
  "language_info": {
   "codemirror_mode": {
    "name": "ipython",
    "version": 3
   },
   "file_extension": ".py",
   "mimetype": "text/x-python",
   "name": "python",
   "nbconvert_exporter": "python",
   "pygments_lexer": "ipython3",
   "version": "3.5.4"
  }
 },
 "nbformat": 4,
 "nbformat_minor": 2
}
