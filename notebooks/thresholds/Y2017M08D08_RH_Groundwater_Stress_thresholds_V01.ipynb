{
 "cells": [
  {
   "cell_type": "markdown",
   "metadata": {},
   "source": [
    "# Thresholds Groundwater Stress and Declining Trend\n",
    "\n",
    "* Purpose of script: Double check the threshold setting and categorization for the groundwater stress\n",
    "* Author: Rutger Hofste\n",
    "* Kernel used: python35\n",
    "* Date created: 20170808"
   ]
  },
  {
   "cell_type": "code",
   "execution_count": 1,
   "metadata": {
    "collapsed": true
   },
   "outputs": [],
   "source": [
    "S3_INPUT_PATH = \"s3://wri-projects/Aqueduct30/rawData/Deltares/groundwater/2017CRU_EdwinFix/data/tables/aquifer_table_sorted.txt\"\n",
    "S3_OUTPUT_PATH = \"s3://wri-projects/Aqueduct30/processData/Y2017M08D08_RH_Groundwater_Stress_thresholds_V01/output/aquifer_table_sorted.csv\"\n",
    "EC2_INPUT_PATH = \"/volumes/data/Y2017M08D08_RH_Groundwater_Stress_thresholds_V01/input/\"\n",
    "EC2_OUTPUT_PATH = \"/volumes/data/Y2017M08D08_RH_Groundwater_Stress_thresholds_V01/output/\"\n",
    "NON_SIGNIFICANT_CATEGORY = -9998\n"
   ]
  },
  {
   "cell_type": "code",
   "execution_count": 2,
   "metadata": {
    "collapsed": true
   },
   "outputs": [],
   "source": [
    "!mkdir -p {EC2_INPUT_PATH}\n",
    "!mkdir -p {EC2_OUTPUT_PATH}\n",
    "!aws s3 cp {S3_INPUT_PATH} {EC2_INPUT_PATH} --recursive"
   ]
  },
  {
   "cell_type": "code",
   "execution_count": 3,
   "metadata": {
    "collapsed": true
   },
   "outputs": [],
   "source": [
    "import pandas as pd\n",
    "import s3fs\n",
    "import os\n",
    "import numpy as np"
   ]
  },
  {
   "cell_type": "code",
   "execution_count": 4,
   "metadata": {
    "collapsed": true
   },
   "outputs": [],
   "source": [
    "df = pd.read_table(S3_INPUT_PATH,delimiter=\";\")"
   ]
  },
  {
   "cell_type": "code",
   "execution_count": 5,
   "metadata": {},
   "outputs": [
    {
     "data": {
      "text/html": [
       "<div>\n",
       "<style>\n",
       "    .dataframe thead tr:only-child th {\n",
       "        text-align: right;\n",
       "    }\n",
       "\n",
       "    .dataframe thead th {\n",
       "        text-align: left;\n",
       "    }\n",
       "\n",
       "    .dataframe tbody tr th {\n",
       "        vertical-align: top;\n",
       "    }\n",
       "</style>\n",
       "<table border=\"1\" class=\"dataframe\">\n",
       "  <thead>\n",
       "    <tr style=\"text-align: right;\">\n",
       "      <th></th>\n",
       "      <th>AqID_spatial_unit</th>\n",
       "      <th>groundwater_stress</th>\n",
       "      <th>slope_of_decline_cm.year-1</th>\n",
       "      <th>p_value</th>\n",
       "      <th>r_squared</th>\n",
       "    </tr>\n",
       "  </thead>\n",
       "  <tbody>\n",
       "    <tr>\n",
       "      <th>0</th>\n",
       "      <td>0</td>\n",
       "      <td>-9999.0</td>\n",
       "      <td>-9999.0</td>\n",
       "      <td>-9999.0</td>\n",
       "      <td>-9999.0</td>\n",
       "    </tr>\n",
       "    <tr>\n",
       "      <th>1</th>\n",
       "      <td>1</td>\n",
       "      <td>-9999.0</td>\n",
       "      <td>-9999.0</td>\n",
       "      <td>-9999.0</td>\n",
       "      <td>-9999.0</td>\n",
       "    </tr>\n",
       "    <tr>\n",
       "      <th>2</th>\n",
       "      <td>2</td>\n",
       "      <td>-9999.0</td>\n",
       "      <td>-9999.0</td>\n",
       "      <td>-9999.0</td>\n",
       "      <td>-9999.0</td>\n",
       "    </tr>\n",
       "    <tr>\n",
       "      <th>3</th>\n",
       "      <td>3</td>\n",
       "      <td>-9999.0</td>\n",
       "      <td>-9999.0</td>\n",
       "      <td>-9999.0</td>\n",
       "      <td>-9999.0</td>\n",
       "    </tr>\n",
       "    <tr>\n",
       "      <th>4</th>\n",
       "      <td>5</td>\n",
       "      <td>-9999.0</td>\n",
       "      <td>-9999.0</td>\n",
       "      <td>-9999.0</td>\n",
       "      <td>-9999.0</td>\n",
       "    </tr>\n",
       "  </tbody>\n",
       "</table>\n",
       "</div>"
      ],
      "text/plain": [
       "   AqID_spatial_unit  groundwater_stress  slope_of_decline_cm.year-1  p_value  \\\n",
       "0                  0             -9999.0                     -9999.0  -9999.0   \n",
       "1                  1             -9999.0                     -9999.0  -9999.0   \n",
       "2                  2             -9999.0                     -9999.0  -9999.0   \n",
       "3                  3             -9999.0                     -9999.0  -9999.0   \n",
       "4                  5             -9999.0                     -9999.0  -9999.0   \n",
       "\n",
       "   r_squared  \n",
       "0    -9999.0  \n",
       "1    -9999.0  \n",
       "2    -9999.0  \n",
       "3    -9999.0  \n",
       "4    -9999.0  "
      ]
     },
     "execution_count": 5,
     "metadata": {},
     "output_type": "execute_result"
    }
   ],
   "source": [
    "df.head()"
   ]
  },
  {
   "cell_type": "markdown",
   "metadata": {},
   "source": [
    "The categorization for groundwater stress is the same as for Aqueduct 2.1\n",
    "\n",
    "| category | raw value bins | label |\n",
    "|---:|---:|---:|\n",
    "|1 | <1 | Low |\n",
    "|2 | 1-5 | Low to Medium |\n",
    "|3 | 5-10 | Medium to High |\n",
    "|4 | 10-20 | High |\n",
    "|5 | >20 | Extremely High |\n",
    "\n",
    "Areas that are mountaineous should be masked per pixel using a mountain mask. (Sent to Alicia on 2017/07/19)\n"
   ]
  },
  {
   "cell_type": "code",
   "execution_count": 6,
   "metadata": {
    "collapsed": true
   },
   "outputs": [],
   "source": [
    "def categorizeGS(rawValue):\n",
    "    if rawValue == -9999:\n",
    "        catValue= -9999\n",
    "    elif rawValue < 1 and rawValue >= 0 :\n",
    "        catValue= 1\n",
    "    elif rawValue < 5 and rawValue >= 1 :\n",
    "        catValue= 2\n",
    "    elif rawValue < 10 and rawValue >= 5 :\n",
    "        catValue= 3\n",
    "    elif rawValue < 20 and rawValue >= 10 :\n",
    "        catValue= 4\n",
    "    elif rawValue < 9999 and rawValue >= 20 :\n",
    "        catValue= 5\n",
    "    else: \n",
    "        catValue= -9999\n",
    "    return catValue\n",
    "\n",
    "def categorizeGTDT(rawValue):\n",
    "    if rawValue == -9999:\n",
    "        catValue= -9999\n",
    "    elif rawValue < 0 :\n",
    "        catValue= 1\n",
    "    elif rawValue < 2 and rawValue >= 0 :\n",
    "        catValue= 2\n",
    "    elif rawValue < 8 and rawValue >= 2 :\n",
    "        catValue= 3\n",
    "    elif rawValue >= 8 :\n",
    "        catValue= 4\n",
    "    else: \n",
    "        catValue= -9999\n",
    "    return catValue"
   ]
  },
  {
   "cell_type": "code",
   "execution_count": 7,
   "metadata": {
    "collapsed": true
   },
   "outputs": [],
   "source": [
    "df['groundwater_stress_categorized'] = df['groundwater_stress'].apply(categorizeGS)"
   ]
  },
  {
   "cell_type": "code",
   "execution_count": null,
   "metadata": {
    "collapsed": true
   },
   "outputs": [],
   "source": []
  },
  {
   "cell_type": "markdown",
   "metadata": {},
   "source": [
    "## Declining Trend\n",
    "\n",
    "Categorization for declining trend (based on recommandations by Deltares). Note that Deltares recommend to use four and not five categories. This might have to change int the future to integrate this work into the main Aqueduct workflow. \n",
    "\n",
    "| category | raw value bins | label |\n",
    "|---:|---:|---:|\n",
    "|1 | <0 cm/yr | No Depletion |\n",
    "|2 | 0-2 cm/yr | Low Depletion |\n",
    "|3 | 2-8 cm/yr | Moderate Depletion |\n",
    "|4 | > 8 | High Depletion |\n",
    "\n",
    "Furthermore, we should mask out areas where the trend is not siginicant. (r-squared <0.9) and \n",
    "Aquifers that are not significant will be assiged a value of "
   ]
  },
  {
   "cell_type": "code",
   "execution_count": 8,
   "metadata": {
    "collapsed": true
   },
   "outputs": [],
   "source": [
    "df['slope_of_decline_cm.year-1_categorized_excl_mask'] = df['slope_of_decline_cm.year-1'].apply(categorizeGTDT)"
   ]
  },
  {
   "cell_type": "code",
   "execution_count": 9,
   "metadata": {
    "collapsed": true
   },
   "outputs": [],
   "source": [
    "df['significant'] =df['r_squared'] > 0.9"
   ]
  },
  {
   "cell_type": "code",
   "execution_count": 10,
   "metadata": {
    "collapsed": true
   },
   "outputs": [],
   "source": [
    "df['slope_of_decline_cm.year-1_categorized'] = np.where(df['significant'],df['slope_of_decline_cm.year-1_categorized_excl_mask'],NON_SIGNIFICANT_CATEGORY)"
   ]
  },
  {
   "cell_type": "code",
   "execution_count": 11,
   "metadata": {},
   "outputs": [
    {
     "data": {
      "text/html": [
       "<div>\n",
       "<style>\n",
       "    .dataframe thead tr:only-child th {\n",
       "        text-align: right;\n",
       "    }\n",
       "\n",
       "    .dataframe thead th {\n",
       "        text-align: left;\n",
       "    }\n",
       "\n",
       "    .dataframe tbody tr th {\n",
       "        vertical-align: top;\n",
       "    }\n",
       "</style>\n",
       "<table border=\"1\" class=\"dataframe\">\n",
       "  <thead>\n",
       "    <tr style=\"text-align: right;\">\n",
       "      <th></th>\n",
       "      <th>AqID_spatial_unit</th>\n",
       "      <th>groundwater_stress</th>\n",
       "      <th>slope_of_decline_cm.year-1</th>\n",
       "      <th>p_value</th>\n",
       "      <th>r_squared</th>\n",
       "      <th>groundwater_stress_categorized</th>\n",
       "      <th>slope_of_decline_cm.year-1_categorized_excl_mask</th>\n",
       "      <th>significant</th>\n",
       "      <th>slope_of_decline_cm.year-1_categorized</th>\n",
       "    </tr>\n",
       "  </thead>\n",
       "  <tbody>\n",
       "    <tr>\n",
       "      <th>3280</th>\n",
       "      <td>3397</td>\n",
       "      <td>0.000227</td>\n",
       "      <td>-0.122128</td>\n",
       "      <td>0.000007</td>\n",
       "      <td>0.065736</td>\n",
       "      <td>1</td>\n",
       "      <td>1</td>\n",
       "      <td>False</td>\n",
       "      <td>-9998</td>\n",
       "    </tr>\n",
       "    <tr>\n",
       "      <th>3281</th>\n",
       "      <td>3398</td>\n",
       "      <td>0.000631</td>\n",
       "      <td>-0.318617</td>\n",
       "      <td>0.000000</td>\n",
       "      <td>0.699098</td>\n",
       "      <td>1</td>\n",
       "      <td>1</td>\n",
       "      <td>False</td>\n",
       "      <td>-9998</td>\n",
       "    </tr>\n",
       "    <tr>\n",
       "      <th>3282</th>\n",
       "      <td>3399</td>\n",
       "      <td>0.038214</td>\n",
       "      <td>-0.238062</td>\n",
       "      <td>0.000000</td>\n",
       "      <td>0.733522</td>\n",
       "      <td>1</td>\n",
       "      <td>1</td>\n",
       "      <td>False</td>\n",
       "      <td>-9998</td>\n",
       "    </tr>\n",
       "    <tr>\n",
       "      <th>3283</th>\n",
       "      <td>3400</td>\n",
       "      <td>0.001595</td>\n",
       "      <td>-0.348756</td>\n",
       "      <td>0.000000</td>\n",
       "      <td>0.817900</td>\n",
       "      <td>1</td>\n",
       "      <td>1</td>\n",
       "      <td>False</td>\n",
       "      <td>-9998</td>\n",
       "    </tr>\n",
       "    <tr>\n",
       "      <th>3284</th>\n",
       "      <td>3401</td>\n",
       "      <td>0.000053</td>\n",
       "      <td>-0.086550</td>\n",
       "      <td>0.000000</td>\n",
       "      <td>0.794522</td>\n",
       "      <td>1</td>\n",
       "      <td>1</td>\n",
       "      <td>False</td>\n",
       "      <td>-9998</td>\n",
       "    </tr>\n",
       "  </tbody>\n",
       "</table>\n",
       "</div>"
      ],
      "text/plain": [
       "      AqID_spatial_unit  groundwater_stress  slope_of_decline_cm.year-1  \\\n",
       "3280               3397            0.000227                   -0.122128   \n",
       "3281               3398            0.000631                   -0.318617   \n",
       "3282               3399            0.038214                   -0.238062   \n",
       "3283               3400            0.001595                   -0.348756   \n",
       "3284               3401            0.000053                   -0.086550   \n",
       "\n",
       "       p_value  r_squared  groundwater_stress_categorized  \\\n",
       "3280  0.000007   0.065736                               1   \n",
       "3281  0.000000   0.699098                               1   \n",
       "3282  0.000000   0.733522                               1   \n",
       "3283  0.000000   0.817900                               1   \n",
       "3284  0.000000   0.794522                               1   \n",
       "\n",
       "      slope_of_decline_cm.year-1_categorized_excl_mask  significant  \\\n",
       "3280                                                 1        False   \n",
       "3281                                                 1        False   \n",
       "3282                                                 1        False   \n",
       "3283                                                 1        False   \n",
       "3284                                                 1        False   \n",
       "\n",
       "      slope_of_decline_cm.year-1_categorized  \n",
       "3280                                   -9998  \n",
       "3281                                   -9998  \n",
       "3282                                   -9998  \n",
       "3283                                   -9998  \n",
       "3284                                   -9998  "
      ]
     },
     "execution_count": 11,
     "metadata": {},
     "output_type": "execute_result"
    }
   ],
   "source": [
    "df.tail()"
   ]
  },
  {
   "cell_type": "code",
   "execution_count": 12,
   "metadata": {
    "collapsed": true
   },
   "outputs": [],
   "source": [
    "outputLocation = os.path.join(EC2_OUTPUT_PATH,\"aquifer_table_sorted.csv\")"
   ]
  },
  {
   "cell_type": "code",
   "execution_count": 13,
   "metadata": {},
   "outputs": [
    {
     "name": "stdout",
     "output_type": "stream",
     "text": [
      "/volumes/data/Y2017M08D08_RH_Groundwater_Stress_thresholds_V01/output/aquifer_table_sorted.csv\n"
     ]
    }
   ],
   "source": [
    "print(outputLocation)"
   ]
  },
  {
   "cell_type": "code",
   "execution_count": 14,
   "metadata": {
    "collapsed": true
   },
   "outputs": [],
   "source": [
    "df.to_csv(outputLocation)"
   ]
  },
  {
   "cell_type": "code",
   "execution_count": 15,
   "metadata": {},
   "outputs": [
    {
     "name": "stdout",
     "output_type": "stream",
     "text": [
      "Completed 221.1 KiB/221.1 KiB (141.9 KiB/s) with 1 file(s) remaining\r",
      "upload: ../../../../data/Y2017M08D08_RH_Groundwater_Stress_thresholds_V01/output/aquifer_table_sorted.csv to s3://wri-projects/Aqueduct30/processData/Y2017M08D08_RH_Groundwater_Stress_thresholds_V01/output/aquifer_table_sorted.csv\r\n"
     ]
    }
   ],
   "source": [
    "!aws s3 cp {outputLocation} {S3_OUTPUT_PATH}"
   ]
  },
  {
   "cell_type": "markdown",
   "metadata": {},
   "source": [
    "The file for Aquifer level can be downloaded with this [URL](https://s3.amazonaws.com/wri-projects/Aqueduct30/processData/Y2017M08D08_RH_Groundwater_Stress_thresholds_V01/output/aquifer_table_sorted.csv)"
   ]
  },
  {
   "cell_type": "code",
   "execution_count": null,
   "metadata": {
    "collapsed": true
   },
   "outputs": [],
   "source": []
  }
 ],
 "metadata": {
  "kernelspec": {
   "display_name": "Python 35",
   "language": "python",
   "name": "python35"
  },
  "language_info": {
   "codemirror_mode": {
    "name": "ipython",
    "version": 3
   },
   "file_extension": ".py",
   "mimetype": "text/x-python",
   "name": "python",
   "nbconvert_exporter": "python",
   "pygments_lexer": "ipython3",
   "version": "3.5.3"
  }
 },
 "nbformat": 4,
 "nbformat_minor": 2
}
