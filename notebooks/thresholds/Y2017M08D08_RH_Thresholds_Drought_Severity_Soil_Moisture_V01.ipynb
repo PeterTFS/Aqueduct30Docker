{
 "cells": [
  {
   "cell_type": "markdown",
   "metadata": {},
   "source": [
    "# Thresholds Drought Severity Soil Moisture\n",
    "\n",
    "* Purpose of script: Double check the threshold setting and categorization for the water stress score of Aqueduct 30\n",
    "* Author: Rutger Hofste\n",
    "* Kernel used: python35\n",
    "* Date created: 20170808"
   ]
  },
  {
   "cell_type": "code",
   "execution_count": 1,
   "metadata": {
    "collapsed": true
   },
   "outputs": [],
   "source": [
    "S3_INPUT_PATH = \"s3://wri-projects/Aqueduct30/processData/Y2017M08D08_RH_Convert_Indicators_ASC_Geotiff_V01/output/\"\n",
    "S3_OUTPUT_PATH = \"s3://wri-projects/Aqueduct30/processData/Y2017M08D08_RH_Thresholds_Drought_Severity_Soil_Moisture_V01/output/\"\n",
    "EC2_INPUT_PATH = \"/volumes/data/Y2017M08D08_RH_Thresholds_Drought_Severity_Soil_Moisture_V01/input/\"\n",
    "EC2_OUTPUT_PATH = \"/volumes/data/Y2017M08D08_RH_Thresholds_Drought_Severity_Soil_Moisture_V01/output/\""
   ]
  },
  {
   "cell_type": "code",
   "execution_count": 2,
   "metadata": {},
   "outputs": [
    {
     "name": "stdout",
     "output_type": "stream",
     "text": [
      "download: s3://wri-projects/Aqueduct30/processData/Y2017M08D08_RH_Convert_Indicators_ASC_Geotiff_V01/output/global_droughtseveritystandardisedstreamflow_5min_1960-2014.tif to ../../../../data/Y2017M08D08_RH_Thresholds_Drought_Severity_Soil_Moisture_V01/input/global_droughtseveritystandardisedstreamflow_5min_1960-2014.tif\n",
      "download: s3://wri-projects/Aqueduct30/processData/Y2017M08D08_RH_Convert_Indicators_ASC_Geotiff_V01/output/global_q1seasonalvariabilitywatersupply_5min_1960-2014.tif to ../../../../data/Y2017M08D08_RH_Thresholds_Drought_Severity_Soil_Moisture_V01/input/global_q1seasonalvariabilitywatersupply_5min_1960-2014.tif\n",
      "download: s3://wri-projects/Aqueduct30/processData/Y2017M08D08_RH_Convert_Indicators_ASC_Geotiff_V01/output/global_environmentalflows_5min_1960-2014.tif to ../../../../data/Y2017M08D08_RH_Thresholds_Drought_Severity_Soil_Moisture_V01/input/global_environmentalflows_5min_1960-2014.tif\n",
      "download: s3://wri-projects/Aqueduct30/processData/Y2017M08D08_RH_Convert_Indicators_ASC_Geotiff_V01/output/global_q3seasonalvariabilitywatersupply_5min_1960-2014.tif to ../../../../data/Y2017M08D08_RH_Thresholds_Drought_Severity_Soil_Moisture_V01/input/global_q3seasonalvariabilitywatersupply_5min_1960-2014.tif\n",
      "download: s3://wri-projects/Aqueduct30/processData/Y2017M08D08_RH_Convert_Indicators_ASC_Geotiff_V01/output/global_interannualvariabilitywatersupply_5min_1960-2014.tif to ../../../../data/Y2017M08D08_RH_Thresholds_Drought_Severity_Soil_Moisture_V01/input/global_interannualvariabilitywatersupply_5min_1960-2014.tif\n",
      "download: s3://wri-projects/Aqueduct30/processData/Y2017M08D08_RH_Convert_Indicators_ASC_Geotiff_V01/output/global_droughtseveritystandardisedsoilmoisture_5min_1960-2014.tif to ../../../../data/Y2017M08D08_RH_Thresholds_Drought_Severity_Soil_Moisture_V01/input/global_droughtseveritystandardisedsoilmoisture_5min_1960-2014.tif\n",
      "download: s3://wri-projects/Aqueduct30/processData/Y2017M08D08_RH_Convert_Indicators_ASC_Geotiff_V01/output/global_q2seasonalvariabilitywatersupply_5min_1960-2014.tif to ../../../../data/Y2017M08D08_RH_Thresholds_Drought_Severity_Soil_Moisture_V01/input/global_q2seasonalvariabilitywatersupply_5min_1960-2014.tif\n",
      "download: s3://wri-projects/Aqueduct30/processData/Y2017M08D08_RH_Convert_Indicators_ASC_Geotiff_V01/output/global_q4seasonalvariabilitywatersupply_5min_1960-2014.tif to ../../../../data/Y2017M08D08_RH_Thresholds_Drought_Severity_Soil_Moisture_V01/input/global_q4seasonalvariabilitywatersupply_5min_1960-2014.tif\n"
     ]
    }
   ],
   "source": [
    "!mkdir -p {EC2_INPUT_PATH}\n",
    "!mkdir -p {EC2_OUTPUT_PATH}\n",
    "!aws s3 cp {S3_INPUT_PATH} {EC2_INPUT_PATH} --recursive"
   ]
  },
  {
   "cell_type": "markdown",
   "metadata": {},
   "source": [
    "## Categories for Drought Severity Soil Moisture based on Yoshi's Email\n",
    "\n",
    "1. <0.1: low stress\n",
    "2. 0.1<=x<0.25: moderate stress\n",
    "3. 0.25<=x<0.5: mid stress \n",
    "4. 0.5<=x<0.75: severe stress\n",
    "5. \\>0.75 (put 1 as max., don't go to 26....): extremely severe stress\n"
   ]
  },
  {
   "cell_type": "code",
   "execution_count": 9,
   "metadata": {
    "collapsed": true
   },
   "outputs": [],
   "source": [
    "try:\n",
    "    from osgeo import ogr, osr, gdal\n",
    "except:\n",
    "    sys.exit('ERROR: cannot find GDAL/OGR modules')\n",
    "import os\n",
    "import numpy as np"
   ]
  },
  {
   "cell_type": "code",
   "execution_count": 21,
   "metadata": {
    "collapsed": true
   },
   "outputs": [],
   "source": [
    "def readFile(filename):\n",
    "    filehandle = gdal.Open(filename)\n",
    "    band1 = filehandle.GetRasterBand(1)\n",
    "    geotransform = filehandle.GetGeoTransform()\n",
    "    geoproj = filehandle.GetProjection()\n",
    "    Z = band1.ReadAsArray()\n",
    "    xsize = filehandle.RasterXSize\n",
    "    ysize = filehandle.RasterYSize\n",
    "    filehandle = None\n",
    "    return xsize,ysize,geotransform,geoproj,Z\n",
    "\n",
    "def writeFile(filename,geotransform,geoprojection,data):\n",
    "    (x,y) = data.shape\n",
    "    format = \"GTiff\"\n",
    "    driver = gdal.GetDriverByName(format)\n",
    "    # you can change the dataformat but be sure to be able to store negative values including -9999\n",
    "    dst_datatype = gdal.GDT_Float32\n",
    "    dst_ds = driver.Create(filename,y,x,1,dst_datatype, [ 'COMPRESS=LZW' ])\n",
    "    dst_ds.GetRasterBand(1).SetNoDataValue(-9999)\n",
    "    dst_ds.GetRasterBand(1).WriteArray(data)\n",
    "    dst_ds.SetGeoTransform(geotransform)\n",
    "    dst_ds.SetProjection(geoprojection)\n",
    "    dst_ds = None\n",
    "    return 1\n",
    "\n",
    "def categorizeRaster(inputRasterPath,outputRasterPath,bins):\n",
    "    xsize,ysize,geotransform,geoproj,Z = readFile(inputRasterPath)\n",
    "    Z_out = np.digitize(Z, bins)\n",
    "    Z_out[Z_out==0] = -9999\n",
    "    writeFile(outputRasterPath,geotransform,geoproj,Z_out)\n",
    "\n"
   ]
  },
  {
   "cell_type": "code",
   "execution_count": 22,
   "metadata": {
    "collapsed": true
   },
   "outputs": [],
   "source": [
    "bins = np.array([0.0,0.1, 0.25, 0.5, 0.75, 1 ,100])"
   ]
  },
  {
   "cell_type": "code",
   "execution_count": 23,
   "metadata": {
    "collapsed": true
   },
   "outputs": [],
   "source": [
    "inputRasterPath = os.path.join(EC2_INPUT_PATH,\"global_droughtseveritystandardisedsoilmoisture_5min_1960-2014.tif\")\n",
    "outputRasterPath = os.path.join(EC2_OUTPUT_PATH,\"global_droughtseveritystandardisedsoilmoisture_5min_1960-2014_Categorized.tif\")"
   ]
  },
  {
   "cell_type": "code",
   "execution_count": 24,
   "metadata": {
    "collapsed": true
   },
   "outputs": [],
   "source": [
    "categorizeRaster(inputRasterPath,outputRasterPath,bins)"
   ]
  },
  {
   "cell_type": "code",
   "execution_count": 25,
   "metadata": {},
   "outputs": [
    {
     "name": "stdout",
     "output_type": "stream",
     "text": [
      "upload: ../../../../data/Y2017M08D08_RH_Thresholds_Drought_Severity_Soil_Moisture_V01/output/global_droughtseveritystandardisedsoilmoisture_5min_1960-2014_Categorized.tif to s3://wri-projects/Aqueduct30/processData/Y2017M08D08_RH_Thresholds_Drought_Severity_Soil_Moisture_V01/output/global_droughtseveritystandardisedsoilmoisture_5min_1960-2014_Categorized.tif\n"
     ]
    }
   ],
   "source": [
    "!aws s3 cp {EC2_OUTPUT_PATH} {S3_OUTPUT_PATH} --recursive"
   ]
  },
  {
   "cell_type": "markdown",
   "metadata": {},
   "source": [
    "The results are on S3 in bucket :"
   ]
  },
  {
   "cell_type": "code",
   "execution_count": 26,
   "metadata": {},
   "outputs": [
    {
     "name": "stdout",
     "output_type": "stream",
     "text": [
      "s3://wri-projects/Aqueduct30/processData/Y2017M08D08_RH_Thresholds_Drought_Severity_Soil_Moisture_V01/output/\n"
     ]
    }
   ],
   "source": [
    "print(S3_OUTPUT_PATH)"
   ]
  },
  {
   "cell_type": "markdown",
   "metadata": {
    "collapsed": true
   },
   "source": [
    "You can download the resulting geotiff using the following [URL](https://s3.amazonaws.com/wri-projects/Aqueduct30/processData/Y2017M08D08_RH_Thresholds_Drought_Severity_Soil_Moisture_V01/output/global_droughtseveritystandardisedsoilmoisture_5min_1960-2014_Categorized.tif)"
   ]
  }
 ],
 "metadata": {
  "kernelspec": {
   "display_name": "Python 35",
   "language": "python",
   "name": "python35"
  },
  "language_info": {
   "codemirror_mode": {
    "name": "ipython",
    "version": 3
   },
   "file_extension": ".py",
   "mimetype": "text/x-python",
   "name": "python",
   "nbconvert_exporter": "python",
   "pygments_lexer": "ipython3",
   "version": "3.5.3"
  }
 },
 "nbformat": 4,
 "nbformat_minor": 2
}
