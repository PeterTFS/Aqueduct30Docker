{
 "cells": [
  {
   "cell_type": "markdown",
   "metadata": {},
   "source": [
    "In this notebook we will copy the data for the first couple of steps from WRI's Amazon S3 Bucket. The data is large i.e. **17.8GB** so a good excuse to drink a coffee. The output in Jupyter per file is suppressed so you will only see a result after the file has been donwloaded. The largest file is 4.1GB. You can also run this command in your terminal and see the process per file"
   ]
  },
  {
   "cell_type": "code",
   "execution_count": null,
   "metadata": {
    "collapsed": false
   },
   "outputs": [
    {
     "name": "stdout",
     "output_type": "stream",
     "text": [
      "download: s3://wri-projects/Aqueduct30/processData/01PCRGlobWBV01/waterdemand/global_historical_PDomUse_year_millionm3_5min_1960_2014.nc4 to ../../../../volumes/data/PCRGlobWB20V01/waterdemand/global_historical_PDomUse_year_millionm3_5min_1960_2014.nc4\n",
      "download: s3://wri-projects/Aqueduct30/processData/01PCRGlobWBV01/waterdemand/global_historical_PIndUse_year_millionm3_5min_1960_2014.nc4 to ../../../../volumes/data/PCRGlobWB20V01/waterdemand/global_historical_PIndUse_year_millionm3_5min_1960_2014.nc4\n",
      "download: s3://wri-projects/Aqueduct30/processData/01PCRGlobWBV01/waterdemand/global_historical_PDomWW_year_millionm3_5min_1960_2014.nc4 to ../../../../volumes/data/PCRGlobWB20V01/waterdemand/global_historical_PDomWW_year_millionm3_5min_1960_2014.nc4\n",
      "download: s3://wri-projects/Aqueduct30/processData/01PCRGlobWBV01/waterdemand/global_historical_PIndWW_year_millionm3_5min_1960_2014.nc4 to ../../../../volumes/data/PCRGlobWB20V01/waterdemand/global_historical_PIndWW_year_millionm3_5min_1960_2014.nc4\n",
      "download: s3://wri-projects/Aqueduct30/processData/01PCRGlobWBV01/waterdemand/global_historical_PIndUse_month_millionm3_5min_1960_2014.nc4 to ../../../../volumes/data/PCRGlobWB20V01/waterdemand/global_historical_PIndUse_month_millionm3_5min_1960_2014.nc4\n",
      "download: s3://wri-projects/Aqueduct30/processData/01PCRGlobWBV01/waterdemand/global_historical_PIrrWN_year_millionm3_5min_1960_2014.nc4 to ../../../../volumes/data/PCRGlobWB20V01/waterdemand/global_historical_PIrrWN_year_millionm3_5min_1960_2014.nc4\n"
     ]
    }
   ],
   "source": [
    "!aws s3 sync s3://wri-projects/Aqueduct30/processData/01PCRGlobWBV01 /volumes/data/PCRGlobWB20V01/"
   ]
  },
  {
   "cell_type": "markdown",
   "metadata": {},
   "source": [
    "List files downloaded "
   ]
  },
  {
   "cell_type": "code",
   "execution_count": 2,
   "metadata": {
    "collapsed": false
   },
   "outputs": [
    {
     "name": "stdout",
     "output_type": "stream",
     "text": [
      "global_historical_PDomUse_month_millionm3_5min_1960_2014.nc4\r\n",
      "global_historical_PDomUse_year_millionm3_5min_1960_2014.nc4\r\n",
      "global_historical_PDomWW_month_millionm3_5min_1960_2014.nc4\r\n",
      "global_historical_PDomWW_year_millionm3_5min_1960_2014.nc4\r\n",
      "global_historical_PIndUse_month_millionm3_5min_1960_2014.nc4\r\n",
      "global_historical_PIndUse_year_millionm3_5min_1960_2014.nc4\r\n",
      "global_historical_PIndWW_month_millionm3_5min_1960_2014.nc4\r\n",
      "global_historical_PIndWW_year_millionm3_5min_1960_2014.nc4\r\n",
      "global_historical_PIrrWN_month_millionm3_5min_1960_2014.nc4\r\n",
      "global_historical_PIrrWN_year_millionm3_5min_1960_2014.nc4\r\n",
      "global_historical_PIrrWW_month_millionm3_5min_1960_2014.nc4\r\n",
      "global_historical_PIrrWW_year_millionm3_5min_1960_2014.nc4\r\n",
      "global_historical_PLivWN_month_millionm3_5min_1960_2014.nc4.5789BBee\r\n",
      "global_historical_PLivWN_year_millionm3_5min_1960_2014.nc4\r\n"
     ]
    }
   ],
   "source": [
    "! ls /volumes/data/PCRGlobWB20V01/waterdemand"
   ]
  },
  {
   "cell_type": "markdown",
   "metadata": {},
   "source": [
    "Back to Python"
   ]
  },
  {
   "cell_type": "code",
   "execution_count": 17,
   "metadata": {
    "collapsed": true
   },
   "outputs": [],
   "source": [
    "import os"
   ]
  },
  {
   "cell_type": "code",
   "execution_count": 18,
   "metadata": {
    "collapsed": true
   },
   "outputs": [],
   "source": [
    "pathName = \"/volumes/data/PCRGlobWB20V01/waterdemand\""
   ]
  },
  {
   "cell_type": "code",
   "execution_count": 19,
   "metadata": {
    "collapsed": true
   },
   "outputs": [],
   "source": [
    "files = os.listdir(pathName)"
   ]
  },
  {
   "cell_type": "code",
   "execution_count": 20,
   "metadata": {
    "collapsed": false
   },
   "outputs": [
    {
     "name": "stdout",
     "output_type": "stream",
     "text": [
      "Number of files: 14\n"
     ]
    }
   ],
   "source": [
    "print \"Number of files: \" + str(len(files))"
   ]
  },
  {
   "cell_type": "markdown",
   "metadata": {},
   "source": [
    "The total number of files should be 14. If your number of files is different, try running the first command (aws s3 sync) in a terminal. Remove any partially downloaded files. "
   ]
  },
  {
   "cell_type": "code",
   "execution_count": null,
   "metadata": {
    "collapsed": true
   },
   "outputs": [],
   "source": []
  }
 ],
 "metadata": {
  "kernelspec": {
   "display_name": "Python 2",
   "language": "python",
   "name": "python2"
  },
  "language_info": {
   "codemirror_mode": {
    "name": "ipython",
    "version": 2
   },
   "file_extension": ".py",
   "mimetype": "text/x-python",
   "name": "python",
   "nbconvert_exporter": "python",
   "pygments_lexer": "ipython2",
   "version": "2.7.13"
  }
 },
 "nbformat": 4,
 "nbformat_minor": 1
}
