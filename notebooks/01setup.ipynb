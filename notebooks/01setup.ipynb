{
 "cells": [
  {
   "cell_type": "markdown",
   "metadata": {},
   "source": [
    "# Welcome\n",
    "\n",
    "**If you see this notebook in anything different than a jupyter notebook environment, you first need to follow instructions in the readme.md document on GitHub and set up your jupyter environment.**  \n",
    "\n",
    "This notebook will check if your environment is all set up and will deal with the correct authorization. Aqueduct 3.0 requires quite a number of different packages and for some you need to create an account. \n",
    "\n",
    "* Amazon Web Services (AWS)\n",
    "* Google Earth Engine\n",
    "* (optional) GitHub if you want to contribute to Aqueduct 3.0 development\n",
    "\n",
    "\n",
    "Before you start, make sure that in addition to this notebook, you also have a terminal open running bash in your docker container in case you missed a step in the readme.md document. The readme document also explains how to setup this additional bash terminal. \n",
    "\n",
    "If you followed the readme.md file correctly, you already executed the following commands in you bash terminal\n",
    "\n",
    "* `earthengine authenticate` (use your earthengine enabled Google Account)  \n",
    "* `aws configure` (Use the credentials that grant you access to WR's S3)\n"
   ]
  },
  {
   "cell_type": "markdown",
   "metadata": {},
   "source": [
    "## AWS\n",
    "\n",
    "If you run this notebook in a Docker Container on an Amazon EC2 instance, you probably already have a AWS account. However, in order to access data on WRI's Amazon S3 bucket, you need additional credentials to access to **WRI's Bucker\"**. Please contact rutger.hofste@wri.org to ask for permission to access WRI data. \n"
   ]
  },
  {
   "cell_type": "markdown",
   "metadata": {
    "collapsed": false
   },
   "source": [
    "The following command will try to copy a tiny file to your current directory and clean up afterwards. Note that you can execute bash script in Jupyter with an exclamation mark. \n",
    "\n",
    "You can run cells by pressing shift+enter or the button in the menu"
   ]
  },
  {
   "cell_type": "code",
   "execution_count": 1,
   "metadata": {
    "collapsed": false,
    "scrolled": true
   },
   "outputs": [
    {
     "name": "stdout",
     "output_type": "stream",
     "text": [
      "download: s3://wri-projects/Aqueduct30/test/testFile.txt to ./testFile.txt\n",
      "It worked\n"
     ]
    }
   ],
   "source": [
    "!aws s3 cp s3://wri-projects/Aqueduct30/test/testFile.txt /mnt/notebooks/Aqueduct30Docker/notebooks/\n",
    "!if [ -f testFile.txt ] ; then echo \"It worked\" ; else echo \"it did not work, try running 'aws configure' in your terminal and setup credentials\" ; fi\n",
    "!rm testFile.txt"
   ]
  },
  {
   "cell_type": "markdown",
   "metadata": {},
   "source": [
    "# Earth Engine\n",
    "\n",
    "before you can use the earthengine scripts, you need to sign up for an account. This is explained in the readme.md file in the github repo. The following script only checks if your setup is working. These cells are based on the official Earth Engine notebooks developed by Tyler Erickson\n",
    "\n",
    "\n"
   ]
  },
  {
   "cell_type": "code",
   "execution_count": 2,
   "metadata": {
    "collapsed": false
   },
   "outputs": [
    {
     "name": "stdout",
     "output_type": "stream",
     "text": [
      "The IPython Widgets library (version 5.2.2) is available on this server.\n"
     ]
    }
   ],
   "source": [
    "# Code to check the IPython Widgets library.\n",
    "try:\n",
    "  import ipywidgets\n",
    "  print('The IPython Widgets library (version {0}) is available on this server.'.format(\n",
    "      ipywidgets.__version__\n",
    "    ))\n",
    "except ImportError:\n",
    "  print('The IPython Widgets library is not available on this server.\\n'\n",
    "        'Please see https://github.com/jupyter-widgets/ipywidgets '\n",
    "        'for information on installing the library.')\n",
    "  raise"
   ]
  },
  {
   "cell_type": "code",
   "execution_count": 3,
   "metadata": {
    "collapsed": false
   },
   "outputs": [
    {
     "name": "stdout",
     "output_type": "stream",
     "text": [
      "The Earth Engine Python API (version 0.1.117) is available on this server.\n"
     ]
    }
   ],
   "source": [
    "# Code to check the Earth Engine API library.\n",
    "try:\n",
    "  import ee\n",
    "  print('The Earth Engine Python API (version {0}) is available on this server.'.format(\n",
    "      ee.__version__\n",
    "    ))\n",
    "except ImportError:\n",
    "  print('The Earth Engine Python API library is not available on this server.\\n'\n",
    "        'Please see https://developers.google.com/earth-engine/python_install '\n",
    "        'for information on installing the library.')\n",
    "  raise"
   ]
  },
  {
   "cell_type": "code",
   "execution_count": 4,
   "metadata": {
    "collapsed": false
   },
   "outputs": [
    {
     "name": "stderr",
     "output_type": "stream",
     "text": [
      "Widget Javascript not detected.  It may not be installed properly. Did you enable the widgetsnbextension? If not, then run \"jupyter nbextension enable --py --sys-prefix widgetsnbextension\"\n"
     ]
    }
   ],
   "source": [
    "# Code to check if authorized to access Earth Engine.\n",
    "import cStringIO\n",
    "import os\n",
    "import urllib\n",
    "\n",
    "def isAuthorized():\n",
    "  try:\n",
    "    ee.Initialize()\n",
    "    return True\n",
    "  except:\n",
    "    return False\n",
    "\n",
    "form_item_layout = ipywidgets.Layout(width=\"100%\", align_items='center')\n",
    "  \n",
    "if isAuthorized():\n",
    "  \n",
    "  def revoke_credentials(sender):\n",
    "    credentials = ee.oauth.get_credentials_path()\n",
    "    if os.path.exists(credentials):\n",
    "      os.remove(credentials)\n",
    "    print('Credentials have been revoked.')\n",
    "  \n",
    "  # Define widgets that may be displayed.\n",
    "  auth_status_button = ipywidgets.Button(\n",
    "    layout=form_item_layout,\n",
    "    disabled = True,\n",
    "    description = 'The server is authorized to access Earth Engine',\n",
    "    button_style = 'success',\n",
    "    icon = 'check'\n",
    "  )\n",
    "  \n",
    "  instructions = ipywidgets.Button(\n",
    "    layout=form_item_layout,\n",
    "    description = 'Click here to revoke authorization',\n",
    "    button_style = 'danger',\n",
    "    disabled = False,\n",
    "  )\n",
    "  instructions.on_click(revoke_credentials)\n",
    "\n",
    "else:\n",
    "  \n",
    "  def save_credentials(sender):\n",
    "    try:\n",
    "      token = ee.oauth.request_token(get_auth_textbox.value.strip())\n",
    "    except Exception as e:\n",
    "      print(e)\n",
    "      return\n",
    "    ee.oauth.write_token(token)\n",
    "    get_auth_textbox.value = ''  # Clear the textbox.\n",
    "    print('Successfully saved authorization token.')\n",
    "\n",
    "  # Define widgets that may be displayed.\n",
    "  get_auth_textbox = ipywidgets.Text(\n",
    "    placeholder='Paste authorization code here',\n",
    "    description='Authentication Code:'\n",
    "  )\n",
    "  get_auth_textbox.on_submit(save_credentials)\n",
    "\n",
    "  auth_status_button = ipywidgets.Button(\n",
    "    layout=form_item_layout,\n",
    "    button_style = 'danger',\n",
    "    description = 'The server is not authorized to access Earth Engine',\n",
    "    disabled = True\n",
    "  )\n",
    "  \n",
    "  instructions = ipywidgets.VBox(\n",
    "    [\n",
    "      ipywidgets.HTML(\n",
    "        'Click on the link below to start the authentication and authorization process. '\n",
    "        'Once you have received an authorization code, paste it in the box below and press return.'\n",
    "      ),\n",
    "      ipywidgets.HTML(\n",
    "        '<a href=\"{url}\" target=\"auth\">Open Authentication Tab</a><br/>'.format(\n",
    "          url=ee.oauth.get_authorization_url()\n",
    "        )\n",
    "      ),\n",
    "      get_auth_textbox\n",
    "    ],\n",
    "    layout=form_item_layout\n",
    "  )\n",
    "\n",
    "# Display the form.\n",
    "form = ipywidgets.VBox([\n",
    "  auth_status_button,\n",
    "  instructions\n",
    "])\n",
    "form"
   ]
  },
  {
   "cell_type": "markdown",
   "metadata": {},
   "source": [
    "Once the server is authorized, you can retrieve data from Earth Engine and use it in the notebook."
   ]
  },
  {
   "cell_type": "code",
   "execution_count": 5,
   "metadata": {
    "collapsed": false
   },
   "outputs": [
    {
     "data": {
      "text/html": [
       "<img src=\"https://earthengine.googleapis.com/api/thumb?thumbid=a7f37aaf3e0e9a8ec6a0ef27f0a5ff89&token=bb82264400e5d80aeeb7bf98c291a14b\"/>"
      ],
      "text/plain": [
       "<IPython.core.display.Image object>"
      ]
     },
     "execution_count": 5,
     "metadata": {},
     "output_type": "execute_result"
    }
   ],
   "source": [
    "# Code to display an Earth Engine generated image.\n",
    "from IPython.display import Image\n",
    "\n",
    "url = ee.Image(\"CGIAR/SRTM90_V4\").getThumbUrl({'min':0, 'max':3000})\n",
    "Image(url=url)"
   ]
  },
  {
   "cell_type": "markdown",
   "metadata": {},
   "source": [
    "## All set? \n",
    "\n",
    "please let me know if you are having difficulties with this setup. rutger.hofste@wri.org\n",
    "\n"
   ]
  },
  {
   "cell_type": "code",
   "execution_count": null,
   "metadata": {
    "collapsed": true
   },
   "outputs": [],
   "source": []
  }
 ],
 "metadata": {
  "kernelspec": {
   "display_name": "Python 2",
   "language": "python",
   "name": "python2"
  },
  "language_info": {
   "codemirror_mode": {
    "name": "ipython",
    "version": 2
   },
   "file_extension": ".py",
   "mimetype": "text/x-python",
   "name": "python",
   "nbconvert_exporter": "python",
   "pygments_lexer": "ipython2",
   "version": "2.7.13"
  },
  "widgets": {
   "state": {
    "0463489f7cf04bf880249244cb9aa88d": {
     "views": [
      {
       "cell_index": 7
      }
     ]
    }
   },
   "version": "1.2.0"
  }
 },
 "nbformat": 4,
 "nbformat_minor": 1
}
