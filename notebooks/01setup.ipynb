{
 "cells": [
  {
   "cell_type": "markdown",
   "metadata": {},
   "source": [
    "# Welcome\n",
    "\n",
    "**If you see this notebook in anything different than a jupyter notebook environment, you first need to follow instructions in the readme.md document on GitHub and set up your jupyter environment.**  \n",
    "\n",
    "This notebook will check if your environment is all set up and will deal with the correct authorization. Aqueduct 3.0 requires quite a number of different packages and for some you need to create an account. \n",
    "\n",
    "* Amazon Web Services (AWS)\n",
    "* Google Earth Engine\n",
    "* (optional) GitHub if you want to contribute to Aqueduct 3.0 development\n",
    "\n",
    "\n",
    "Before you start, make sure that in addition to this notebook, you also have a terminal open running bash in your docker container in case you missed a step in the readme.md document. The readme document also explains how to setup this additional bash terminal. \n",
    "\n",
    "If you followed the readme.md file correctly, you already executed the following commands in you bash terminal\n",
    "\n",
    "* `earthengine authenticate` (use your earthengine enabled Google Account)  \n",
    "* `aws configure` (Use the credentials that grant you access to WR's S3)\n"
   ]
  },
  {
   "cell_type": "markdown",
   "metadata": {},
   "source": [
    "## AWS\n",
    "\n",
    "If you run this notebook in a Docker Container on an Amazon EC2 instance, you probably already have a AWS account. However, in order to access data on WRI's Amazon S3 bucket, you need additional credentials to access to **WRI's Bucker\"**. Please contact rutger.hofste@wri.org to ask for permission to access WRI data. \n"
   ]
  },
  {
   "cell_type": "markdown",
   "metadata": {
    "collapsed": false
   },
   "source": [
    "The following command will try to copy a tiny file to your current directory and clean up afterwards. Note that you can execute bash script in Jupyter with an exclamation mark. "
   ]
  },
  {
   "cell_type": "code",
   "execution_count": 3,
   "metadata": {
    "collapsed": false,
    "scrolled": true
   },
   "outputs": [
    {
     "name": "stdout",
     "output_type": "stream",
     "text": [
      "download: s3://wri-projects/Aqueduct30/test/testFile.txt to ./testFile.txt\n",
      "It worked\n"
     ]
    }
   ],
   "source": [
    "!aws s3 cp s3://wri-projects/Aqueduct30/test/testFile.txt /mnt/notebooks/Aqueduct30Docker/notebooks/\n",
    "!if [ -f testFile.txt ] ; then echo \"It worked\" ; else echo \"it did not work\" ; fi"
   ]
  },
  {
   "cell_type": "code",
   "execution_count": null,
   "metadata": {
    "collapsed": false
   },
   "outputs": [],
   "source": []
  },
  {
   "cell_type": "code",
   "execution_count": null,
   "metadata": {
    "collapsed": true
   },
   "outputs": [],
   "source": []
  }
 ],
 "metadata": {
  "kernelspec": {
   "display_name": "Python 2",
   "language": "python",
   "name": "python2"
  },
  "language_info": {
   "codemirror_mode": {
    "name": "ipython",
    "version": 2
   },
   "file_extension": ".py",
   "mimetype": "text/x-python",
   "name": "python",
   "nbconvert_exporter": "python",
   "pygments_lexer": "ipython2",
   "version": "2.7.13"
  }
 },
 "nbformat": 4,
 "nbformat_minor": 1
}
