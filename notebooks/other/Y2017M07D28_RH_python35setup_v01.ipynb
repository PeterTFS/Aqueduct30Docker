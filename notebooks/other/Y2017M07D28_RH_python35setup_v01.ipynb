{
 "cells": [
  {
   "cell_type": "markdown",
   "metadata": {},
   "source": [
    "# Test Python 35 setup\n",
    "\n",
    "* Purpose of script: test python 35 environement against several libraries  \n",
    "* Author: Rutger Hofste\n",
    "* Kernel used: python35\n",
    "* Date created: 20170728\n"
   ]
  },
  {
   "cell_type": "code",
   "execution_count": 1,
   "metadata": {
    "collapsed": true
   },
   "outputs": [],
   "source": [
    "packages = {\"earth engine\":-1,\"gdal\":-1,\"geopandas\":-1,\"arcgis\":-1}"
   ]
  },
  {
   "cell_type": "code",
   "execution_count": 2,
   "metadata": {
    "collapsed": true
   },
   "outputs": [],
   "source": [
    "try:\n",
    "    import ee\n",
    "    packages[\"earth engine\"]=1\n",
    "except:\n",
    "    packages[\"earth engine\"]=0  "
   ]
  },
  {
   "cell_type": "code",
   "execution_count": 3,
   "metadata": {
    "collapsed": true
   },
   "outputs": [],
   "source": [
    "try:\n",
    "    from osgeo import gdal\n",
    "    packages[\"gdal\"]=1\n",
    "except:\n",
    "    packages[\"gdal\"]=0    "
   ]
  },
  {
   "cell_type": "code",
   "execution_count": 4,
   "metadata": {
    "collapsed": true
   },
   "outputs": [],
   "source": [
    "try:\n",
    "    import geopandas\n",
    "    packages[\"geopandas\"]=1\n",
    "except:\n",
    "    packages[\"geopandas\"]=0 "
   ]
  },
  {
   "cell_type": "code",
   "execution_count": 5,
   "metadata": {
    "collapsed": true
   },
   "outputs": [],
   "source": [
    "try:\n",
    "    import arcgis.gis\n",
    "    packages[\"arcgis\"]=1\n",
    "except:\n",
    "    packages[\"arcgis\"]=0 "
   ]
  },
  {
   "cell_type": "code",
   "execution_count": 6,
   "metadata": {},
   "outputs": [
    {
     "name": "stdout",
     "output_type": "stream",
     "text": [
      "{'gdal': 1, 'geopandas': 1, 'arcgis': 0, 'earth engine': 0}\n"
     ]
    }
   ],
   "source": [
    "print(packages)"
   ]
  },
  {
   "cell_type": "code",
   "execution_count": null,
   "metadata": {
    "collapsed": true
   },
   "outputs": [],
   "source": []
  }
 ],
 "metadata": {
  "kernelspec": {
   "display_name": "Python 35",
   "language": "python",
   "name": "python35"
  },
  "language_info": {
   "codemirror_mode": {
    "name": "ipython",
    "version": 3
   },
   "file_extension": ".py",
   "mimetype": "text/x-python",
   "name": "python",
   "nbconvert_exporter": "python",
   "pygments_lexer": "ipython3",
   "version": "3.5.3"
  }
 },
 "nbformat": 4,
 "nbformat_minor": 2
}
