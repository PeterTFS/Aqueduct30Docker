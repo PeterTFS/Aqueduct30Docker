{
 "cells": [
  {
   "cell_type": "code",
   "execution_count": 1,
   "metadata": {},
   "outputs": [
    {
     "name": "stdout",
     "output_type": "stream",
     "text": [
      "Y2017M10D11 UTC 14:00\n"
     ]
    },
    {
     "data": {
      "text/plain": [
       "'3.5.4 |Continuum Analytics, Inc.| (default, Aug 14 2017, 13:26:58) \\n[GCC 4.4.7 20120313 (Red Hat 4.4.7-1)]'"
      ]
     },
     "execution_count": 1,
     "metadata": {},
     "output_type": "execute_result"
    }
   ],
   "source": [
    "import time, datetime, sys\n",
    "dateString = time.strftime(\"Y%YM%mD%d\")\n",
    "timeString = time.strftime(\"UTC %H:%M\")\n",
    "start = datetime.datetime.now()\n",
    "print(dateString,timeString)\n",
    "sys.version"
   ]
  },
  {
   "cell_type": "code",
   "execution_count": 2,
   "metadata": {
    "collapsed": true
   },
   "outputs": [],
   "source": [
    "INPUT_VERSION = 5\n",
    "OUTPUT_VERSION = 2\n",
    "\n",
    "S3_INPUT_PATH =  \"s3://wri-projects/Aqueduct30/processData/Y2017M10D04_RH_Threshold_WaterStress_V02/output/\"\n",
    "S3_OUTPUT_PATH = \"s3://wri-projects/Aqueduct30/processData/Y2017M10D11_RH_Simplify_csv_for_inspection_V01/output/\"\n",
    "\n",
    "INPUT_FILE_NAME = \"Y2017M10D04_RH_Threshold_WaterStress_V%0.2d\" %(INPUT_VERSION)\n",
    "OUTPUT_FILE_NAME = \"Y2017M10D11_RH_Simplify_csv_for_inspection_V%0.2d\" %(OUTPUT_VERSION)\n",
    "\n",
    "EC2_INPUT_PATH = \"/volumes/data/Y2017M10D11_RH_Simplify_csv_for_inspection_V01/input\"\n",
    "EC2_OUTPUT_PATH = \"/volumes/data/Y2017M10D11_RH_Simplify_csv_for_inspection_V01/output\"\n",
    "\n",
    "YEAR = 2014"
   ]
  },
  {
   "cell_type": "code",
   "execution_count": 3,
   "metadata": {},
   "outputs": [],
   "source": [
    "!rm -r {EC2_INPUT_PATH} \n",
    "!rm -r {EC2_OUTPUT_PATH} "
   ]
  },
  {
   "cell_type": "code",
   "execution_count": 4,
   "metadata": {
    "collapsed": true
   },
   "outputs": [],
   "source": [
    "!mkdir -p {EC2_INPUT_PATH} \n",
    "!mkdir -p {EC2_OUTPUT_PATH} "
   ]
  },
  {
   "cell_type": "code",
   "execution_count": 5,
   "metadata": {},
   "outputs": [
    {
     "name": "stdout",
     "output_type": "stream",
     "text": [
      "download: s3://wri-projects/Aqueduct30/processData/Y2017M10D04_RH_Threshold_WaterStress_V02/output/Y2017M10D04_RH_Threshold_WaterStress_V05.pkl to ../../../../data/Y2017M10D11_RH_Simplify_csv_for_inspection_V01/input/Y2017M10D04_RH_Threshold_WaterStress_V05.pkl\n",
      "download: s3://wri-projects/Aqueduct30/processData/Y2017M10D04_RH_Threshold_WaterStress_V02/output/Y2017M10D04_RH_Threshold_WaterStress_V05.csv to ../../../../data/Y2017M10D11_RH_Simplify_csv_for_inspection_V01/input/Y2017M10D04_RH_Threshold_WaterStress_V05.csv\n"
     ]
    }
   ],
   "source": [
    "!aws s3 cp {S3_INPUT_PATH} {EC2_INPUT_PATH} --recursive"
   ]
  },
  {
   "cell_type": "code",
   "execution_count": 6,
   "metadata": {
    "collapsed": true
   },
   "outputs": [],
   "source": [
    "import pandas as pd\n",
    "import numpy as np\n",
    "import os\n",
    "import math"
   ]
  },
  {
   "cell_type": "code",
   "execution_count": 7,
   "metadata": {
    "collapsed": true
   },
   "outputs": [],
   "source": [
    "df = pd.read_pickle(os.path.join(EC2_INPUT_PATH,INPUT_FILE_NAME+\".pkl\"))"
   ]
  },
  {
   "cell_type": "code",
   "execution_count": 8,
   "metadata": {
    "collapsed": true
   },
   "outputs": [],
   "source": [
    "dfSimple = df.filter(regex=(\".runoff.*|.Supply.*|.supply.*\"))"
   ]
  },
  {
   "cell_type": "code",
   "execution_count": 9,
   "metadata": {},
   "outputs": [
    {
     "data": {
      "text/html": [
       "<div>\n",
       "<style>\n",
       "    .dataframe thead tr:only-child th {\n",
       "        text-align: right;\n",
       "    }\n",
       "\n",
       "    .dataframe thead th {\n",
       "        text-align: left;\n",
       "    }\n",
       "\n",
       "    .dataframe tbody tr th {\n",
       "        vertical-align: top;\n",
       "    }\n",
       "</style>\n",
       "<table border=\"1\" class=\"dataframe\">\n",
       "  <thead>\n",
       "    <tr style=\"text-align: right;\">\n",
       "      <th></th>\n",
       "      <th>count_runoff_monthY2014M09</th>\n",
       "      <th>mean_runoff_monthY2014M09</th>\n",
       "      <th>total_volume_runoff_monthY2014M09</th>\n",
       "      <th>count_runoff_monthY2014M08</th>\n",
       "      <th>mean_runoff_monthY2014M08</th>\n",
       "      <th>total_volume_runoff_monthY2014M08</th>\n",
       "      <th>count_reducedmeanrunoff_month_Y1960Y2014M11</th>\n",
       "      <th>mean_reducedmeanrunoff_month_Y1960Y2014M11</th>\n",
       "      <th>total_volume_reducedmeanrunoff_month_Y1960Y2014M11</th>\n",
       "      <th>count_reducedmeanrunoff_month_Y1960Y2014M10</th>\n",
       "      <th>...</th>\n",
       "      <th>total_volume_naturalSupply_month_Y2014M08</th>\n",
       "      <th>total_volume_availableSupply_month_Y2014M08</th>\n",
       "      <th>total_volume_naturalSupply_month_Y2014M09</th>\n",
       "      <th>total_volume_availableSupply_month_Y2014M09</th>\n",
       "      <th>total_volume_naturalSupply_month_Y2014M10</th>\n",
       "      <th>total_volume_availableSupply_month_Y2014M10</th>\n",
       "      <th>total_volume_naturalSupply_month_Y2014M11</th>\n",
       "      <th>total_volume_availableSupply_month_Y2014M11</th>\n",
       "      <th>total_volume_naturalSupply_month_Y2014M12</th>\n",
       "      <th>total_volume_availableSupply_month_Y2014M12</th>\n",
       "    </tr>\n",
       "    <tr>\n",
       "      <th>PFAF_ID</th>\n",
       "      <th></th>\n",
       "      <th></th>\n",
       "      <th></th>\n",
       "      <th></th>\n",
       "      <th></th>\n",
       "      <th></th>\n",
       "      <th></th>\n",
       "      <th></th>\n",
       "      <th></th>\n",
       "      <th></th>\n",
       "      <th></th>\n",
       "      <th></th>\n",
       "      <th></th>\n",
       "      <th></th>\n",
       "      <th></th>\n",
       "      <th></th>\n",
       "      <th></th>\n",
       "      <th></th>\n",
       "      <th></th>\n",
       "      <th></th>\n",
       "      <th></th>\n",
       "    </tr>\n",
       "  </thead>\n",
       "  <tbody>\n",
       "    <tr>\n",
       "      <th>111011</th>\n",
       "      <td>2479.0</td>\n",
       "      <td>-1.791564e-07</td>\n",
       "      <td>-337.874070</td>\n",
       "      <td>2479.0</td>\n",
       "      <td>2.273352e-07</td>\n",
       "      <td>428.735353</td>\n",
       "      <td>2479.0</td>\n",
       "      <td>3.098100e-05</td>\n",
       "      <td>58427.604802</td>\n",
       "      <td>2479.0</td>\n",
       "      <td>...</td>\n",
       "      <td>58427.604802</td>\n",
       "      <td>58427.604802</td>\n",
       "      <td>58427.604802</td>\n",
       "      <td>58427.604802</td>\n",
       "      <td>58427.604802</td>\n",
       "      <td>58427.604802</td>\n",
       "      <td>58427.604802</td>\n",
       "      <td>58427.604802</td>\n",
       "      <td>58427.604802</td>\n",
       "      <td>58427.604802</td>\n",
       "    </tr>\n",
       "    <tr>\n",
       "      <th>111012</th>\n",
       "      <td>3914.0</td>\n",
       "      <td>-7.736314e-08</td>\n",
       "      <td>-226.348862</td>\n",
       "      <td>3914.0</td>\n",
       "      <td>5.021583e-08</td>\n",
       "      <td>146.921321</td>\n",
       "      <td>3914.0</td>\n",
       "      <td>8.585877e-06</td>\n",
       "      <td>25120.533747</td>\n",
       "      <td>3914.0</td>\n",
       "      <td>...</td>\n",
       "      <td>25120.533747</td>\n",
       "      <td>25120.533747</td>\n",
       "      <td>25120.533747</td>\n",
       "      <td>25120.533747</td>\n",
       "      <td>25120.533747</td>\n",
       "      <td>25120.533747</td>\n",
       "      <td>25120.533747</td>\n",
       "      <td>25120.533747</td>\n",
       "      <td>25120.533747</td>\n",
       "      <td>25120.533747</td>\n",
       "    </tr>\n",
       "    <tr>\n",
       "      <th>111013</th>\n",
       "      <td>1141.0</td>\n",
       "      <td>-4.750628e-08</td>\n",
       "      <td>-42.395691</td>\n",
       "      <td>1141.0</td>\n",
       "      <td>4.434942e-08</td>\n",
       "      <td>39.578436</td>\n",
       "      <td>1141.0</td>\n",
       "      <td>8.167370e-06</td>\n",
       "      <td>7288.747304</td>\n",
       "      <td>1141.0</td>\n",
       "      <td>...</td>\n",
       "      <td>7288.747304</td>\n",
       "      <td>7288.747304</td>\n",
       "      <td>7288.747304</td>\n",
       "      <td>7288.747304</td>\n",
       "      <td>7288.747304</td>\n",
       "      <td>7288.747304</td>\n",
       "      <td>7288.747304</td>\n",
       "      <td>7288.747304</td>\n",
       "      <td>7288.747304</td>\n",
       "      <td>7288.747304</td>\n",
       "    </tr>\n",
       "    <tr>\n",
       "      <th>111014</th>\n",
       "      <td>5605.0</td>\n",
       "      <td>0.000000e+00</td>\n",
       "      <td>0.000000</td>\n",
       "      <td>5605.0</td>\n",
       "      <td>0.000000e+00</td>\n",
       "      <td>0.000000</td>\n",
       "      <td>5605.0</td>\n",
       "      <td>3.193022e-06</td>\n",
       "      <td>13430.708228</td>\n",
       "      <td>5605.0</td>\n",
       "      <td>...</td>\n",
       "      <td>13430.708228</td>\n",
       "      <td>13430.708228</td>\n",
       "      <td>13430.708228</td>\n",
       "      <td>13430.708228</td>\n",
       "      <td>13430.708228</td>\n",
       "      <td>13430.708228</td>\n",
       "      <td>13430.708228</td>\n",
       "      <td>13430.708228</td>\n",
       "      <td>13430.708228</td>\n",
       "      <td>13430.708228</td>\n",
       "    </tr>\n",
       "    <tr>\n",
       "      <th>111015</th>\n",
       "      <td>21086.0</td>\n",
       "      <td>0.000000e+00</td>\n",
       "      <td>0.000000</td>\n",
       "      <td>21086.0</td>\n",
       "      <td>0.000000e+00</td>\n",
       "      <td>0.000000</td>\n",
       "      <td>21086.0</td>\n",
       "      <td>5.182050e-07</td>\n",
       "      <td>8600.680806</td>\n",
       "      <td>21086.0</td>\n",
       "      <td>...</td>\n",
       "      <td>8600.680806</td>\n",
       "      <td>8600.680806</td>\n",
       "      <td>8600.680806</td>\n",
       "      <td>8600.680806</td>\n",
       "      <td>8600.680806</td>\n",
       "      <td>8600.680806</td>\n",
       "      <td>8600.680806</td>\n",
       "      <td>8600.680806</td>\n",
       "      <td>8600.680806</td>\n",
       "      <td>8600.680806</td>\n",
       "    </tr>\n",
       "  </tbody>\n",
       "</table>\n",
       "<p>5 rows × 182 columns</p>\n",
       "</div>"
      ],
      "text/plain": [
       "         count_runoff_monthY2014M09  mean_runoff_monthY2014M09  \\\n",
       "PFAF_ID                                                          \n",
       "111011                       2479.0              -1.791564e-07   \n",
       "111012                       3914.0              -7.736314e-08   \n",
       "111013                       1141.0              -4.750628e-08   \n",
       "111014                       5605.0               0.000000e+00   \n",
       "111015                      21086.0               0.000000e+00   \n",
       "\n",
       "         total_volume_runoff_monthY2014M09  count_runoff_monthY2014M08  \\\n",
       "PFAF_ID                                                                  \n",
       "111011                         -337.874070                      2479.0   \n",
       "111012                         -226.348862                      3914.0   \n",
       "111013                          -42.395691                      1141.0   \n",
       "111014                            0.000000                      5605.0   \n",
       "111015                            0.000000                     21086.0   \n",
       "\n",
       "         mean_runoff_monthY2014M08  total_volume_runoff_monthY2014M08  \\\n",
       "PFAF_ID                                                                 \n",
       "111011                2.273352e-07                         428.735353   \n",
       "111012                5.021583e-08                         146.921321   \n",
       "111013                4.434942e-08                          39.578436   \n",
       "111014                0.000000e+00                           0.000000   \n",
       "111015                0.000000e+00                           0.000000   \n",
       "\n",
       "         count_reducedmeanrunoff_month_Y1960Y2014M11  \\\n",
       "PFAF_ID                                                \n",
       "111011                                        2479.0   \n",
       "111012                                        3914.0   \n",
       "111013                                        1141.0   \n",
       "111014                                        5605.0   \n",
       "111015                                       21086.0   \n",
       "\n",
       "         mean_reducedmeanrunoff_month_Y1960Y2014M11  \\\n",
       "PFAF_ID                                               \n",
       "111011                                 3.098100e-05   \n",
       "111012                                 8.585877e-06   \n",
       "111013                                 8.167370e-06   \n",
       "111014                                 3.193022e-06   \n",
       "111015                                 5.182050e-07   \n",
       "\n",
       "         total_volume_reducedmeanrunoff_month_Y1960Y2014M11  \\\n",
       "PFAF_ID                                                       \n",
       "111011                                        58427.604802    \n",
       "111012                                        25120.533747    \n",
       "111013                                         7288.747304    \n",
       "111014                                        13430.708228    \n",
       "111015                                         8600.680806    \n",
       "\n",
       "         count_reducedmeanrunoff_month_Y1960Y2014M10  \\\n",
       "PFAF_ID                                                \n",
       "111011                                        2479.0   \n",
       "111012                                        3914.0   \n",
       "111013                                        1141.0   \n",
       "111014                                        5605.0   \n",
       "111015                                       21086.0   \n",
       "\n",
       "                            ...                       \\\n",
       "PFAF_ID                     ...                        \n",
       "111011                      ...                        \n",
       "111012                      ...                        \n",
       "111013                      ...                        \n",
       "111014                      ...                        \n",
       "111015                      ...                        \n",
       "\n",
       "         total_volume_naturalSupply_month_Y2014M08  \\\n",
       "PFAF_ID                                              \n",
       "111011                                58427.604802   \n",
       "111012                                25120.533747   \n",
       "111013                                 7288.747304   \n",
       "111014                                13430.708228   \n",
       "111015                                 8600.680806   \n",
       "\n",
       "         total_volume_availableSupply_month_Y2014M08  \\\n",
       "PFAF_ID                                                \n",
       "111011                                  58427.604802   \n",
       "111012                                  25120.533747   \n",
       "111013                                   7288.747304   \n",
       "111014                                  13430.708228   \n",
       "111015                                   8600.680806   \n",
       "\n",
       "         total_volume_naturalSupply_month_Y2014M09  \\\n",
       "PFAF_ID                                              \n",
       "111011                                58427.604802   \n",
       "111012                                25120.533747   \n",
       "111013                                 7288.747304   \n",
       "111014                                13430.708228   \n",
       "111015                                 8600.680806   \n",
       "\n",
       "         total_volume_availableSupply_month_Y2014M09  \\\n",
       "PFAF_ID                                                \n",
       "111011                                  58427.604802   \n",
       "111012                                  25120.533747   \n",
       "111013                                   7288.747304   \n",
       "111014                                  13430.708228   \n",
       "111015                                   8600.680806   \n",
       "\n",
       "         total_volume_naturalSupply_month_Y2014M10  \\\n",
       "PFAF_ID                                              \n",
       "111011                                58427.604802   \n",
       "111012                                25120.533747   \n",
       "111013                                 7288.747304   \n",
       "111014                                13430.708228   \n",
       "111015                                 8600.680806   \n",
       "\n",
       "         total_volume_availableSupply_month_Y2014M10  \\\n",
       "PFAF_ID                                                \n",
       "111011                                  58427.604802   \n",
       "111012                                  25120.533747   \n",
       "111013                                   7288.747304   \n",
       "111014                                  13430.708228   \n",
       "111015                                   8600.680806   \n",
       "\n",
       "         total_volume_naturalSupply_month_Y2014M11  \\\n",
       "PFAF_ID                                              \n",
       "111011                                58427.604802   \n",
       "111012                                25120.533747   \n",
       "111013                                 7288.747304   \n",
       "111014                                13430.708228   \n",
       "111015                                 8600.680806   \n",
       "\n",
       "         total_volume_availableSupply_month_Y2014M11  \\\n",
       "PFAF_ID                                                \n",
       "111011                                  58427.604802   \n",
       "111012                                  25120.533747   \n",
       "111013                                   7288.747304   \n",
       "111014                                  13430.708228   \n",
       "111015                                   8600.680806   \n",
       "\n",
       "         total_volume_naturalSupply_month_Y2014M12  \\\n",
       "PFAF_ID                                              \n",
       "111011                                58427.604802   \n",
       "111012                                25120.533747   \n",
       "111013                                 7288.747304   \n",
       "111014                                13430.708228   \n",
       "111015                                 8600.680806   \n",
       "\n",
       "         total_volume_availableSupply_month_Y2014M12  \n",
       "PFAF_ID                                               \n",
       "111011                                  58427.604802  \n",
       "111012                                  25120.533747  \n",
       "111013                                   7288.747304  \n",
       "111014                                  13430.708228  \n",
       "111015                                   8600.680806  \n",
       "\n",
       "[5 rows x 182 columns]"
      ]
     },
     "execution_count": 9,
     "metadata": {},
     "output_type": "execute_result"
    }
   ],
   "source": [
    "dfSimple.head()"
   ]
  },
  {
   "cell_type": "code",
   "execution_count": 11,
   "metadata": {},
   "outputs": [],
   "source": [
    "dfSimple.to_csv(os.path.join(EC2_OUTPUT_PATH,OUTPUT_FILE_NAME+\".csv\"))"
   ]
  },
  {
   "cell_type": "code",
   "execution_count": 12,
   "metadata": {
    "collapsed": true
   },
   "outputs": [],
   "source": [
    "dfSimple.to_pickle(os.path.join(EC2_OUTPUT_PATH,OUTPUT_FILE_NAME+\".pkl\" ))"
   ]
  },
  {
   "cell_type": "code",
   "execution_count": 13,
   "metadata": {},
   "outputs": [
    {
     "name": "stdout",
     "output_type": "stream",
     "text": [
      "upload: ../../../../data/Y2017M10D11_RH_Simplify_csv_for_inspection_V01/output/Y2017M10D11_RH_Simplify_csv_for_inspection_V02.pkl to s3://wri-projects/Aqueduct30/processData/Y2017M10D11_RH_Simplify_csv_for_inspection_V01/output/Y2017M10D11_RH_Simplify_csv_for_inspection_V02.pkl\n",
      "upload: ../../../../data/Y2017M10D11_RH_Simplify_csv_for_inspection_V01/output/Y2017M10D11_RH_Simplify_csv_for_inspection_V02.csv to s3://wri-projects/Aqueduct30/processData/Y2017M10D11_RH_Simplify_csv_for_inspection_V01/output/Y2017M10D11_RH_Simplify_csv_for_inspection_V02.csv\n"
     ]
    }
   ],
   "source": [
    "!aws s3 cp {EC2_OUTPUT_PATH} {S3_OUTPUT_PATH} --recursive"
   ]
  },
  {
   "cell_type": "code",
   "execution_count": null,
   "metadata": {
    "collapsed": true
   },
   "outputs": [],
   "source": []
  }
 ],
 "metadata": {
  "kernelspec": {
   "display_name": "Python 35",
   "language": "python",
   "name": "python35"
  },
  "language_info": {
   "codemirror_mode": {
    "name": "ipython",
    "version": 3
   },
   "file_extension": ".py",
   "mimetype": "text/x-python",
   "name": "python",
   "nbconvert_exporter": "python",
   "pygments_lexer": "ipython3",
   "version": "3.5.4"
  }
 },
 "nbformat": 4,
 "nbformat_minor": 2
}
