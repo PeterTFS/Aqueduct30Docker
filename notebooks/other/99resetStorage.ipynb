{
 "cells": [
  {
   "cell_type": "markdown",
   "metadata": {},
   "source": [
    "# Reset Storage\n",
    "\n",
    "This file will remove all files in the mounted Docker volume in /volumes/data. This is necessary because the harddrive is limited to the amount you specified when creating your instance. The harddrive is used as temporary storage. All permanent files should be stored on S3 (for WRI) or your alternative. \n",
    "\n"
   ]
  },
  {
   "cell_type": "markdown",
   "metadata": {},
   "source": [
    "Check how much space is available on your machine"
   ]
  },
  {
   "cell_type": "code",
   "execution_count": 1,
   "metadata": {
    "collapsed": false
   },
   "outputs": [
    {
     "name": "stdout",
     "output_type": "stream",
     "text": [
      "Filesystem      Size  Used Avail Use% Mounted on\r\n",
      "none            194G  2.6G  192G   2% /\r\n",
      "tmpfs           2.0G     0  2.0G   0% /dev\r\n",
      "tmpfs           2.0G     0  2.0G   0% /sys/fs/cgroup\r\n",
      "/dev/xvda1      194G  2.6G  192G   2% /volumes/data\r\n",
      "shm              64M     0   64M   0% /dev/shm\r\n"
     ]
    }
   ],
   "source": [
    "!df -h"
   ]
  },
  {
   "cell_type": "markdown",
   "metadata": {},
   "source": [
    "Check what files are currencly in /volumes/data"
   ]
  },
  {
   "cell_type": "code",
   "execution_count": 2,
   "metadata": {
    "collapsed": false
   },
   "outputs": [
    {
     "name": "stdout",
     "output_type": "stream",
     "text": [
      "PCRGlobWB20V01\terkjvhkj  test.nc4  test2.nc4  testFile.txt\r\n"
     ]
    }
   ],
   "source": [
    "!ls /volumes/data/"
   ]
  },
  {
   "cell_type": "markdown",
   "metadata": {},
   "source": [
    "!!!! Remove all files in your data folder !!!!! be careful!"
   ]
  },
  {
   "cell_type": "code",
   "execution_count": 3,
   "metadata": {
    "collapsed": false
   },
   "outputs": [
    {
     "name": "stdout",
     "output_type": "stream",
     "text": [
      "rm: cannot remove '/volumes/data/': Device or resource busy\r\n"
     ]
    }
   ],
   "source": [
    "!rm -r /volumes/data/"
   ]
  },
  {
   "cell_type": "markdown",
   "metadata": {},
   "source": [
    "This might rturn an error \"rm: cannot remove '/volumes/data/': Device or resource busy\" but it actually removes files. You can run the command in your SSH terminal to be 100% sure "
   ]
  },
  {
   "cell_type": "code",
   "execution_count": 4,
   "metadata": {
    "collapsed": true
   },
   "outputs": [],
   "source": [
    "!ls /volumes/data/"
   ]
  },
  {
   "cell_type": "code",
   "execution_count": 5,
   "metadata": {
    "collapsed": false
   },
   "outputs": [
    {
     "name": "stdout",
     "output_type": "stream",
     "text": [
      "Filesystem      Size  Used Avail Use% Mounted on\r\n",
      "none            7.7G  4.4G  3.4G  57% /\r\n",
      "tmpfs           496M     0  496M   0% /dev\r\n",
      "tmpfs           496M     0  496M   0% /sys/fs/cgroup\r\n",
      "/dev/xvda1      7.7G  4.4G  3.4G  57% /volumes/data\r\n",
      "shm              64M     0   64M   0% /dev/shm\r\n"
     ]
    }
   ],
   "source": [
    "!df -h"
   ]
  },
  {
   "cell_type": "markdown",
   "metadata": {},
   "source": [
    "Done"
   ]
  },
  {
   "cell_type": "code",
   "execution_count": null,
   "metadata": {
    "collapsed": true
   },
   "outputs": [],
   "source": []
  }
 ],
 "metadata": {
  "kernelspec": {
   "display_name": "Python 2",
   "language": "python",
   "name": "python2"
  },
  "language_info": {
   "codemirror_mode": {
    "name": "ipython",
    "version": 2
   },
   "file_extension": ".py",
   "mimetype": "text/x-python",
   "name": "python",
   "nbconvert_exporter": "python",
   "pygments_lexer": "ipython2",
   "version": "2.7.13"
  }
 },
 "nbformat": 4,
 "nbformat_minor": 1
}
